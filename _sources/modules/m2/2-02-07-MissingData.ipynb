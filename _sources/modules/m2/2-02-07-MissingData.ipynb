{
 "cells": [
  {
   "cell_type": "markdown",
   "id": "f940a3fc",
   "metadata": {},
   "source": [
    "# 2.2.7 Missing Data\n",
    "\n",
    "Missing data often refers to missing values in data, where no data value is stored for a variable or observation.\n",
    "However, we may also regard missing datasets or data with insufficient disaggregation as a form of missing data.\n",
    "\n",
    "## Missing Datasets and Insufficient Disaggregation\n",
    "\n",
    "> \"Missing data sets\" are my term for the blank spots that exist in spaces that are otherwise data-saturated.\n",
    "\n",
    "— Mimi Onuoha (2021)\n",
    "\n",
    "Datasets may not exist, where we might expect them to, for a variety of reasons; these may be political or cultural\n",
    " and can be expressive of biases, systematic failures, and/or oppression.\n",
    "\n",
    "We may also find that, where datasets *do* exist, that the data may not be sufficiently disaggregated to allow for\n",
    " analysis that can make issues of inequality apparent. Data may not be broken down by categories such as gender, age, or race,\n",
    " preventing the exploration of the impact of these factors on other variables.\n",
    "\n",
    "```{admonition} Discussion\n",
    "What considerations would we want to make around publishing disaggregated data for gender, age, and race?\n",
    "How does this disaggregation fit with [previous discussion](./2-02-LegalityAndEthics.html#should-a-variable-be-used) around use of variables such as race in data analysis?\n",
    "```\n",
    "\n",
    "## Missing Data Values\n",
    "\n",
    "Real world data often has missing values. These may represent gaps in data collection, be expected responses to questions, or be the result of failures or data corruption.\n",
    "\n",
    "Consider the following question in a survey:\n",
    "\"How many days has it been since your flu jab?\"\n",
    "\n",
    "What answer would you expect from a participant who had not had a flu jab?\n",
    "\n",
    "### Representing Missing Values\n",
    "\n",
    "\n",
    "Pandas uses `NaN` (Not a Number) internally to denote missing data, for reasons of computational speed and convenience (beyond our scope!).\n",
    "However, Python's `None` is also considered a \"missing\" value and we can check for this with `isna()` or `notna()` methods.\n",
    "\n",
    "```{margin} .isnull() vs .isna()\n",
    "These do the same thing!\n",
    "```"
   ]
  },
  {
   "cell_type": "code",
   "execution_count": 1,
   "id": "09204b8d",
   "metadata": {},
   "outputs": [
    {
     "data": {
      "text/plain": [
       "0     True\n",
       "1    False\n",
       "2    False\n",
       "dtype: bool"
      ]
     },
     "execution_count": 1,
     "metadata": {},
     "output_type": "execute_result"
    }
   ],
   "source": [
    "import pandas as pd\n",
    "pd.Series([None,\"foo\",\"bar\"]).isnull()"
   ]
  },
  {
   "cell_type": "markdown",
   "id": "556a63ca",
   "metadata": {},
   "source": [
    "Pandas has some other ways of denoting missing values, but we won't detail them here. A more complete guide to missing data in Pandas can be found in the [docs](https://pandas.pydata.org/pandas-docs/stable/user_guide/missing_data.html).\n",
    "\n",
    "\n",
    "### Dealing with Missing Values\n",
    "\n",
    "How do we deal with missing values? There are many approaches, we outline two simple and popular varieties below:\n",
    "\n",
    "#### Listwise Deletion\n",
    "\n",
    "Simply drop any rows that contain missing values. This is the simplest method of dealing with missing data!\n",
    "\n",
    "However, this can introduce bias. We should consider *why* the data is missing.\n",
    "Listwise deletion will introduce bias when the remaining data can no longer be reflective of the original data.\n",
    "\n",
    "#### Single Imputation\n",
    "\n",
    "Apply a rule to replace a missing value. For example, replace with the mean or the value of the last observation (last observation carried forward - LOCF).\n",
    "\n",
    "Again, single imputation methods can easily introduce bias. Use with caution.\n",
    "\n",
    "### Missingness Terminology\n",
    "\n",
    "Here, we introduce some terminology to help us with the scenarios in which values are missing.\n",
    "\n",
    "[Sterne et al. (2009)](https://www.bmj.com/content/338/bmj.b2393/) provide similar definitions with biomedical examples and discussion of the use of multiple imputation.\n",
    "\n",
    "#### Missing Completely At Random (MCAR)\n",
    "\n",
    "The missingness is unrelated to both missing and observed values, e.g., a study participant's weekly questionnaire is lost in the post.\n",
    "\n",
    "If we were to drop rows with MCAR data, we would reduce our population size but would not introduce any bias.\n",
    "\n",
    "Unfortunately, missing values are rarely MCAR.\n",
    "\n",
    "Note that, whilst we can falsify the hypothesis that data are MCAR, we cannot confirm it.\n",
    "\n",
    "#### Missing At Random (MAR)\n",
    "\n",
    "Slightly confusingly named, in MAR data missingness is related to observed data but not the missing values themselves,\n",
    "e.g., a person does not attend an academic exam because they are too unwell to travel **and** we also have their health records.\n",
    "\n",
    "MAR data allows the prediction of missing values based on complete rows. However, as ever, imputation should be approached with caution!\n",
    "\n",
    "Classification of missing data as MAR should be done with care and will rely on domain knowledge.\n",
    "\n",
    "#### Missing Not At Random (MNAR)\n",
    "\n",
    "The missingness is related to what is missing, e.g., a person does not attend a health assessment because they are too unwell to travel.\n",
    "\n",
    "When data is MNAR no methods exist to handle this missingness appropriately (Sterne et al. 2009).\n",
    "\n",
    "**We cannot test whether data is MAR vs MNAR as the data required is missing**.\n",
    "\n",
    "## References\n",
    "\n",
    "Mimi Onuoha. (2021). On Missing Data Sets. https://github.com/MimiOnuoha/missing-datasets (Original work published 2016)\n",
    "\n",
    "Sterne, J. A., White, I. R., Carlin, J. B., Spratt, M., Royston, P., Kenward, M. G., ... & Carpenter, J. R. (2009). Multiple imputation for missing data in epidemiological and clinical research: potential and pitfalls. Bmj, 338."
   ]
  }
 ],
 "metadata": {
  "jupytext": {
   "cell_metadata_filter": "-all",
   "formats": "md:myst",
   "text_representation": {
    "extension": ".md",
    "format_name": "myst",
    "format_version": 0.13,
    "jupytext_version": "1.10.3"
   }
  },
  "kernelspec": {
   "display_name": "Python 3 (ipykernel)",
   "language": "python",
   "name": "python3"
  },
  "language_info": {
   "codemirror_mode": {
    "name": "ipython",
    "version": 3
   },
   "file_extension": ".py",
   "mimetype": "text/x-python",
   "name": "python",
   "nbconvert_exporter": "python",
   "pygments_lexer": "ipython3",
   "version": "3.9.8"
  },
  "source_map": [
   14,
   57,
   60
  ]
 },
 "nbformat": 4,
 "nbformat_minor": 5
}