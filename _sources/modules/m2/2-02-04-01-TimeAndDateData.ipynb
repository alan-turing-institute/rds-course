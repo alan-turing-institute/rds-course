{
 "cells": [
  {
   "cell_type": "markdown",
   "id": "7bde70cf",
   "metadata": {},
   "source": [
    "# 2.2.4.1 Time and Date Data\n",
    "\n",
    "Dealing with time and date data can be tricky. String-formatted data is hard to compare and represent for modelling."
   ]
  },
  {
   "cell_type": "code",
   "execution_count": 1,
   "id": "c5455e79",
   "metadata": {},
   "outputs": [
    {
     "name": "stdout",
     "output_type": "stream",
     "text": [
      "True\n"
     ]
    }
   ],
   "source": [
    "print(\"02/03/1900\" > \"01/01/2020\")"
   ]
  },
  {
   "cell_type": "markdown",
   "id": "9e071208",
   "metadata": {},
   "source": [
    "We use the `datetime.datetime` object in examples below. However, you can also use `datetime.date` and `datetime.time` as appropriate.\n",
    "\n",
    "## datetime\n",
    "\n",
    "We need to represent date data in a format that will allow us to compare items and perform operations such as addition and subtraction.\n",
    "\n",
    "Python's standard library includes the [`datetime`](https://docs.python.org/3/library/datetime.html) module.\n",
    "This allows us to represent dates and times as structured objects."
   ]
  },
  {
   "cell_type": "code",
   "execution_count": 2,
   "id": "cb74bf41",
   "metadata": {},
   "outputs": [
    {
     "name": "stdout",
     "output_type": "stream",
     "text": [
      "2021-11-22 11:39:39.297567\n"
     ]
    }
   ],
   "source": [
    "import datetime\n",
    "# create a datetime object with value set to now\n",
    "now = datetime.datetime.now()\n",
    "print(now)"
   ]
  },
  {
   "cell_type": "markdown",
   "id": "a715c386",
   "metadata": {},
   "source": [
    "This object has structure. We can, for example, extract the year property from this object."
   ]
  },
  {
   "cell_type": "code",
   "execution_count": 3,
   "id": "2a23b296",
   "metadata": {},
   "outputs": [
    {
     "name": "stdout",
     "output_type": "stream",
     "text": [
      "2021\n"
     ]
    }
   ],
   "source": [
    "print(now.year)"
   ]
  },
  {
   "cell_type": "markdown",
   "id": "dd372447",
   "metadata": {},
   "source": [
    "We can also compare this datetime to others, as well as perform date arithmetic."
   ]
  },
  {
   "cell_type": "code",
   "execution_count": 4,
   "id": "8090ff51",
   "metadata": {},
   "outputs": [
    {
     "name": "stdout",
     "output_type": "stream",
     "text": [
      "d gt now: False\n",
      "now - d: 335 days, 11:39:39.297567. Type: <class 'datetime.timedelta'>\n"
     ]
    }
   ],
   "source": [
    "past = datetime.datetime.fromisoformat(\"2020-12-22\")\n",
    "is_gt_now = past > now\n",
    "print(f\"d gt now: {is_gt_now}\")\n",
    "\n",
    "# subtract past from now\n",
    "difference = now - past\n",
    "print(f\"now - d: {difference}. Type: {type(difference)}\")"
   ]
  },
  {
   "cell_type": "markdown",
   "id": "e958a897",
   "metadata": {},
   "source": [
    "We can get a numeric, [POSIX timestamp](https://en.wikipedia.org/wiki/Unix_time), representation of these dates with `datetime.datetime.timestamp()`."
   ]
  },
  {
   "cell_type": "code",
   "execution_count": 5,
   "id": "f666f656",
   "metadata": {},
   "outputs": [
    {
     "name": "stdout",
     "output_type": "stream",
     "text": [
      "now timestamp: 1637581179.297567\n",
      "past timestamp: 1608595200.0\n"
     ]
    }
   ],
   "source": [
    "print(f\"now timestamp: {now.timestamp()}\")\n",
    "print(f\"past timestamp: {past.timestamp()}\")"
   ]
  },
  {
   "cell_type": "markdown",
   "id": "44e1b8fb",
   "metadata": {},
   "source": [
    "Note some UTC vs local time complications detailed [here](https://docs.python.org/3/library/datetime.html#datetime.datetime.timestamp).\n",
    "\n",
    "## Converting From/To String\n",
    "\n",
    "For converting *from* a string, we can use the `datetime.datetime.strptime(date_string, format)` function. Format codes are detailed [here](https://docs.python.org/3/library/datetime.html#strftime-and-strptime-format-codes)."
   ]
  },
  {
   "cell_type": "code",
   "execution_count": 6,
   "id": "286ac075",
   "metadata": {},
   "outputs": [
    {
     "name": "stdout",
     "output_type": "stream",
     "text": [
      "1999-03-30 16:30:00. Type: <class 'datetime.datetime'>\n"
     ]
    }
   ],
   "source": [
    "dt = datetime.datetime.strptime(\"30/03/99 16:30\", \"%d/%m/%y %H:%M\")\n",
    "print(f\"{dt}. Type: {type(dt)}\")"
   ]
  },
  {
   "cell_type": "markdown",
   "id": "8d4316c9",
   "metadata": {},
   "source": [
    "And to convert a date *to* string we can use `datetime.datetime.strftime(format)`."
   ]
  },
  {
   "cell_type": "code",
   "execution_count": 7,
   "id": "94834443",
   "metadata": {},
   "outputs": [
    {
     "name": "stdout",
     "output_type": "stream",
     "text": [
      "22/11/21 11:39. Type: <class 'str'>\n"
     ]
    }
   ],
   "source": [
    "s = now.strftime(\"%d/%m/%y %H:%M\")\n",
    "print(f\"{s}. Type: {type(s)}\")"
   ]
  },
  {
   "cell_type": "markdown",
   "id": "4914a90e",
   "metadata": {},
   "source": [
    "## Pandas Datetime Accessor (`Series.dt`)\n",
    "\n",
    "Pandas provides an accessor object for datetime-like properties of Series values. See [here](https://pandas.pydata.org/docs/reference/api/pandas.Series.dt.html).\n",
    "\n",
    "E.g. (taken almost directly from Pandas docs, linked above)"
   ]
  },
  {
   "cell_type": "code",
   "execution_count": 8,
   "id": "84f1296a",
   "metadata": {},
   "outputs": [
    {
     "data": {
      "text/plain": [
       "0   2000-01-01 00:00:00\n",
       "1   2000-01-01 00:00:01\n",
       "2   2000-01-01 00:00:02\n",
       "dtype: datetime64[ns]"
      ]
     },
     "metadata": {},
     "output_type": "display_data"
    },
    {
     "data": {
      "text/plain": [
       "0    0\n",
       "1    1\n",
       "2    2\n",
       "dtype: int64"
      ]
     },
     "metadata": {},
     "output_type": "display_data"
    }
   ],
   "source": [
    "import pandas as pd\n",
    "\n",
    "seconds_series = pd.Series(pd.date_range(\"2000-01-01\", periods=3, freq=\"s\"))\n",
    "display(seconds_series)\n",
    "\n",
    "# access seconds property of values in series\n",
    "display(seconds_series.dt.second)"
   ]
  }
 ],
 "metadata": {
  "jupytext": {
   "cell_metadata_filter": "-all",
   "formats": "md:myst",
   "text_representation": {
    "extension": ".md",
    "format_name": "myst",
    "format_version": 0.13,
    "jupytext_version": "1.10.3"
   }
  },
  "kernelspec": {
   "display_name": "Python 3 (ipykernel)",
   "language": "python",
   "name": "python3"
  },
  "language_info": {
   "codemirror_mode": {
    "name": "ipython",
    "version": 3
   },
   "file_extension": ".py",
   "mimetype": "text/x-python",
   "name": "python",
   "nbconvert_exporter": "python",
   "pygments_lexer": "ipython3",
   "version": "3.9.8"
  },
  "source_map": [
   14,
   20,
   22,
   33,
   38,
   42,
   44,
   48,
   56,
   60,
   63,
   71,
   74,
   78,
   81,
   88
  ]
 },
 "nbformat": 4,
 "nbformat_minor": 5
}