{
 "cells": [
  {
   "cell_type": "markdown",
   "id": "a68fb716-ff6b-4aed-b914-439fa5061dc5",
   "metadata": {},
   "source": [
    "# 2.1 Getting and Loading Data\n",
    "\n",
    "- Open data and data sources\n",
    "- Licensing, ethics, security.\n",
    "- Pandas intro/primer\n",
    "- Data formats (CSV, database, API, image, …)\n",
    "   - how to load them into Python with Pandas (mostly)."
   ]
  }
 ],
 "metadata": {
  "kernelspec": {
   "display_name": "",
   "name": ""
  },
  "language_info": {
   "name": ""
  }
 },
 "nbformat": 4,
 "nbformat_minor": 5
}
