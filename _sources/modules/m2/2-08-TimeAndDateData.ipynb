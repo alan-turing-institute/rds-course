{
 "cells": [
  {
   "cell_type": "markdown",
   "id": "403e9b74",
   "metadata": {},
   "source": [
    "# 2.8 Time and Date Data\n",
    "\n",
    "Dealing with time and date data can be tricky. String-formatted data is hard to compare and represent for modelling."
   ]
  },
  {
   "cell_type": "code",
   "execution_count": 1,
   "id": "cda3c00a",
   "metadata": {},
   "outputs": [
    {
     "name": "stdout",
     "output_type": "stream",
     "text": [
      "True\n"
     ]
    }
   ],
   "source": [
    "print(\"02/03/1900\" > \"01/01/2020\")"
   ]
  },
  {
   "cell_type": "markdown",
   "id": "d683e6ce",
   "metadata": {},
   "source": [
    "We use the `datetime.datetime` object in examples below. However, you can also use `datetime.date` and `datetime.time` as appropriate.\n",
    "\n",
    "## datetime\n",
    "\n",
    "We need to represent this data in a format that will allow us to compare items and perform operations such as addition and subtraction.\n",
    "\n",
    "Python's standard library includes the [`datetime`](https://docs.python.org/3/library/datetime.html) module.\n",
    "This allows us too represent dates and times as structured objects."
   ]
  },
  {
   "cell_type": "code",
   "execution_count": 2,
   "id": "834fca0f",
   "metadata": {},
   "outputs": [
    {
     "name": "stdout",
     "output_type": "stream",
     "text": [
      "2021-11-12 16:21:14.302314\n"
     ]
    }
   ],
   "source": [
    "import datetime\n",
    "# create a datetime object with value set to now\n",
    "now = datetime.datetime.now()\n",
    "print(now)"
   ]
  },
  {
   "cell_type": "markdown",
   "id": "af092352",
   "metadata": {},
   "source": [
    "This object has structure. We can, for example, extract the year property from this object."
   ]
  },
  {
   "cell_type": "code",
   "execution_count": 3,
   "id": "e1599f87",
   "metadata": {},
   "outputs": [
    {
     "name": "stdout",
     "output_type": "stream",
     "text": [
      "2021\n"
     ]
    }
   ],
   "source": [
    "print(now.year)"
   ]
  },
  {
   "cell_type": "markdown",
   "id": "ca3ba94c",
   "metadata": {},
   "source": [
    "We can also compare this datetime to others, as well as performing date arithmetic."
   ]
  },
  {
   "cell_type": "code",
   "execution_count": 4,
   "id": "1b2c030e",
   "metadata": {},
   "outputs": [
    {
     "name": "stdout",
     "output_type": "stream",
     "text": [
      "d gt now: False\n",
      "now - d: 325 days, 16:21:14.302314. Type: <class 'datetime.timedelta'>\n"
     ]
    }
   ],
   "source": [
    "past = datetime.datetime.fromisoformat(\"2020-12-22\")\n",
    "is_gt_now = past > now\n",
    "print(f\"d gt now: {is_gt_now}\")\n",
    "\n",
    "# subtract past from now\n",
    "difference = now - past\n",
    "print(f\"now - d: {difference}. Type: {type(difference)}\")"
   ]
  },
  {
   "cell_type": "markdown",
   "id": "083de9c1",
   "metadata": {},
   "source": [
    "We can get a numeric, [POSIX timestamp](https://en.wikipedia.org/wiki/Unix_time), representation of these dates with `datetime.datetime.timestamp()`."
   ]
  },
  {
   "cell_type": "code",
   "execution_count": 5,
   "id": "89038a43",
   "metadata": {},
   "outputs": [
    {
     "name": "stdout",
     "output_type": "stream",
     "text": [
      "now timestamp: 1636734074.302314\n",
      "past timestamp: 1608595200.0\n"
     ]
    }
   ],
   "source": [
    "print(f\"now timestamp: {now.timestamp()}\")\n",
    "print(f\"past timestamp: {past.timestamp()}\")"
   ]
  },
  {
   "cell_type": "markdown",
   "id": "1107e94a",
   "metadata": {},
   "source": [
    "Note some UTC vs local time complications detailed [here](https://docs.python.org/3/library/datetime.html#datetime.datetime.timestamp).\n",
    "\n",
    "## Converting From/To String\n",
    "\n",
    "For converting *from* a string, we can use the `datetime.datetime.strptime(date_string, format)` function. Format codes are detailed [here](https://docs.python.org/3/library/datetime.html#strftime-and-strptime-format-codes)."
   ]
  },
  {
   "cell_type": "code",
   "execution_count": 6,
   "id": "38c87b77",
   "metadata": {},
   "outputs": [
    {
     "name": "stdout",
     "output_type": "stream",
     "text": [
      "1999-03-30 16:30:00. Type: <class 'datetime.datetime'>\n"
     ]
    }
   ],
   "source": [
    "dt = datetime.datetime.strptime(\"30/03/99 16:30\", \"%d/%m/%y %H:%M\")\n",
    "print(f\"{dt}. Type: {type(dt)}\")"
   ]
  },
  {
   "cell_type": "markdown",
   "id": "87a5b6f4",
   "metadata": {},
   "source": [
    "And to convert a date *to* string we can use `datetime.datetime.strftime(format)`."
   ]
  },
  {
   "cell_type": "code",
   "execution_count": 7,
   "id": "dc7315c2",
   "metadata": {},
   "outputs": [
    {
     "name": "stdout",
     "output_type": "stream",
     "text": [
      "12/11/21 16:21. Type: <class 'str'>\n"
     ]
    }
   ],
   "source": [
    "s = now.strftime(\"%d/%m/%y %H:%M\")\n",
    "print(f\"{s}. Type: {type(s)}\")"
   ]
  }
 ],
 "metadata": {
  "jupytext": {
   "cell_metadata_filter": "-all",
   "formats": "md:myst",
   "text_representation": {
    "extension": ".md",
    "format_name": "myst",
    "format_version": 0.13,
    "jupytext_version": "1.10.3"
   }
  },
  "kernelspec": {
   "display_name": "Python 3 (ipykernel)",
   "language": "python",
   "name": "python3"
  },
  "language_info": {
   "codemirror_mode": {
    "name": "ipython",
    "version": 3
   },
   "file_extension": ".py",
   "mimetype": "text/x-python",
   "name": "python",
   "nbconvert_exporter": "python",
   "pygments_lexer": "ipython3",
   "version": "3.7.12"
  },
  "source_map": [
   14,
   20,
   22,
   33,
   38,
   42,
   44,
   48,
   56,
   60,
   63,
   71,
   74,
   78
  ]
 },
 "nbformat": 4,
 "nbformat_minor": 5
}