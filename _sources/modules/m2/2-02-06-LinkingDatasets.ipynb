{
 "cells": [
  {
   "cell_type": "markdown",
   "id": "d68f6187",
   "metadata": {},
   "source": [
    "# 2.2.6 Linking Datasets\n",
    "\n",
    "Data linking is the process of joining datasets together.\n",
    "Datasets can be useful on their own but bringing them together can unlock new insights.\n",
    "\n",
    "```{admonition} Discussion\n",
    "When might this be helpful? Can you think of any examples where joining datasets might help us unlock additional insights?\n",
    "```\n",
    "\n",
    "## Impact on Privacy\n",
    "\n",
    "Before we link datasets together, we should consider the impact on privacy of doing so.\n",
    "There can be an increased risk of identification of a person/entity when two datasets are linked.\n",
    "\n",
    "\n",
    "## How to Link\n",
    "\n",
    "The most straightforward way to link datasets is by a deterministic, rules-based linkage, where records are linked if a specific **set of identifiers** match.\n",
    "When working with tabular datasets we will often see this accomplished with a *join* operation.\n",
    "\n",
    "### Joining in Pandas\n",
    "\n",
    "Pandas allows for database-style joins. If you have experience of SQL, you'll be familiar with the terminology of left/right/inner/outer etc. joins.\n",
    "Pandas makes these join types (or similar) available in the Pandas API via `pd.merge` and provides a comprehensive summary of joins [in the docs](https://pandas.pydata.org/docs/user_guide/merging.html#database-style-dataframe-or-named-series-joining-merging).\n",
    "Here, for demonstration, we will give an example using a simple left join, similar to a `LEFT OUTER` join in SQL."
   ]
  },
  {
   "cell_type": "code",
   "execution_count": 1,
   "id": "b8f63efa",
   "metadata": {},
   "outputs": [
    {
     "name": "stdout",
     "output_type": "stream",
     "text": [
      "df1\n"
     ]
    },
    {
     "data": {
      "text/html": [
       "<div>\n",
       "<style scoped>\n",
       "    .dataframe tbody tr th:only-of-type {\n",
       "        vertical-align: middle;\n",
       "    }\n",
       "\n",
       "    .dataframe tbody tr th {\n",
       "        vertical-align: top;\n",
       "    }\n",
       "\n",
       "    .dataframe thead th {\n",
       "        text-align: right;\n",
       "    }\n",
       "</style>\n",
       "<table border=\"1\" class=\"dataframe\">\n",
       "  <thead>\n",
       "    <tr style=\"text-align: right;\">\n",
       "      <th></th>\n",
       "      <th>some_id</th>\n",
       "      <th>a</th>\n",
       "    </tr>\n",
       "  </thead>\n",
       "  <tbody>\n",
       "    <tr>\n",
       "      <th>0</th>\n",
       "      <td>foo</td>\n",
       "      <td>0</td>\n",
       "    </tr>\n",
       "    <tr>\n",
       "      <th>1</th>\n",
       "      <td>bar</td>\n",
       "      <td>1</td>\n",
       "    </tr>\n",
       "    <tr>\n",
       "      <th>2</th>\n",
       "      <td>zop</td>\n",
       "      <td>2</td>\n",
       "    </tr>\n",
       "  </tbody>\n",
       "</table>\n",
       "</div>"
      ],
      "text/plain": [
       "  some_id  a\n",
       "0     foo  0\n",
       "1     bar  1\n",
       "2     zop  2"
      ]
     },
     "metadata": {},
     "output_type": "display_data"
    },
    {
     "name": "stdout",
     "output_type": "stream",
     "text": [
      "df2\n"
     ]
    },
    {
     "data": {
      "text/html": [
       "<div>\n",
       "<style scoped>\n",
       "    .dataframe tbody tr th:only-of-type {\n",
       "        vertical-align: middle;\n",
       "    }\n",
       "\n",
       "    .dataframe tbody tr th {\n",
       "        vertical-align: top;\n",
       "    }\n",
       "\n",
       "    .dataframe thead th {\n",
       "        text-align: right;\n",
       "    }\n",
       "</style>\n",
       "<table border=\"1\" class=\"dataframe\">\n",
       "  <thead>\n",
       "    <tr style=\"text-align: right;\">\n",
       "      <th></th>\n",
       "      <th>some_id</th>\n",
       "      <th>b</th>\n",
       "    </tr>\n",
       "  </thead>\n",
       "  <tbody>\n",
       "    <tr>\n",
       "      <th>0</th>\n",
       "      <td>foo</td>\n",
       "      <td>3</td>\n",
       "    </tr>\n",
       "    <tr>\n",
       "      <th>1</th>\n",
       "      <td>bar</td>\n",
       "      <td>4</td>\n",
       "    </tr>\n",
       "    <tr>\n",
       "      <th>2</th>\n",
       "      <td>baz</td>\n",
       "      <td>5</td>\n",
       "    </tr>\n",
       "  </tbody>\n",
       "</table>\n",
       "</div>"
      ],
      "text/plain": [
       "  some_id  b\n",
       "0     foo  3\n",
       "1     bar  4\n",
       "2     baz  5"
      ]
     },
     "metadata": {},
     "output_type": "display_data"
    }
   ],
   "source": [
    "import pandas as pd\n",
    "\n",
    "df1 = pd.DataFrame({'some_id': ['foo', 'bar', 'zop'], 'a': [0,1,2]})\n",
    "df2 = pd.DataFrame({'some_id': ['foo', 'bar', 'baz'], 'b': [3, 4, 5]})\n",
    "\n",
    "print(\"df1\")\n",
    "display(df1)\n",
    "\n",
    "print(\"df2\")\n",
    "display(df2)"
   ]
  },
  {
   "cell_type": "markdown",
   "id": "358baf8b",
   "metadata": {},
   "source": [
    "note that `df1` contains the key `'zop'` that is not contained in `df2` and that `df2` contains the key `'baz'` that is not contained in `df1`.\n",
    "The other two keys (`'foo', 'bar'`) are contained in both DataFrames."
   ]
  },
  {
   "cell_type": "code",
   "execution_count": 2,
   "id": "e5f29f85",
   "metadata": {},
   "outputs": [
    {
     "data": {
      "text/html": [
       "<div>\n",
       "<style scoped>\n",
       "    .dataframe tbody tr th:only-of-type {\n",
       "        vertical-align: middle;\n",
       "    }\n",
       "\n",
       "    .dataframe tbody tr th {\n",
       "        vertical-align: top;\n",
       "    }\n",
       "\n",
       "    .dataframe thead th {\n",
       "        text-align: right;\n",
       "    }\n",
       "</style>\n",
       "<table border=\"1\" class=\"dataframe\">\n",
       "  <thead>\n",
       "    <tr style=\"text-align: right;\">\n",
       "      <th></th>\n",
       "      <th>some_id</th>\n",
       "      <th>a</th>\n",
       "      <th>b</th>\n",
       "    </tr>\n",
       "  </thead>\n",
       "  <tbody>\n",
       "    <tr>\n",
       "      <th>0</th>\n",
       "      <td>foo</td>\n",
       "      <td>0</td>\n",
       "      <td>3.0</td>\n",
       "    </tr>\n",
       "    <tr>\n",
       "      <th>1</th>\n",
       "      <td>bar</td>\n",
       "      <td>1</td>\n",
       "      <td>4.0</td>\n",
       "    </tr>\n",
       "    <tr>\n",
       "      <th>2</th>\n",
       "      <td>zop</td>\n",
       "      <td>2</td>\n",
       "      <td>NaN</td>\n",
       "    </tr>\n",
       "  </tbody>\n",
       "</table>\n",
       "</div>"
      ],
      "text/plain": [
       "  some_id  a    b\n",
       "0     foo  0  3.0\n",
       "1     bar  1  4.0\n",
       "2     zop  2  NaN"
      ]
     },
     "metadata": {},
     "output_type": "display_data"
    }
   ],
   "source": [
    "result = pd.merge(left=df1, right=df2, how=\"left\", on=\"some_id\")\n",
    "display(result)"
   ]
  },
  {
   "cell_type": "markdown",
   "id": "7c3fcb63",
   "metadata": {},
   "source": [
    "the data for `'baz'` has been dropped after this join as it only appeared on the 'right' side.\n",
    "The `how='left'` join only uses keys from the left frame.\n",
    "Meanwhile, the entry for column `'b'` is null for key `'zop'`.\n",
    "\n",
    "Different scenarios will require different join types, read the docs carefully!\n",
    "\n",
    "### Probabilistic Matching\n",
    "\n",
    "If we don't have a set of common identifiers, we may wish to use probabilistic matching.\n",
    "\n",
    "Probabilistic matching calculates a matching score between two records.\n",
    "Typically, this is done by comparing several field values and assigning a weight to each depending on how closely they match.\n",
    "\n",
    "Details of probabilistic matching approaches are, unfortunately, beyond the scope of this course."
   ]
  }
 ],
 "metadata": {
  "jupytext": {
   "cell_metadata_filter": "-all",
   "formats": "md:myst",
   "text_representation": {
    "extension": ".md",
    "format_name": "myst",
    "format_version": 0.13,
    "jupytext_version": "1.10.3"
   }
  },
  "kernelspec": {
   "display_name": "Python 3 (ipykernel)",
   "language": "python",
   "name": "python3"
  },
  "language_info": {
   "codemirror_mode": {
    "name": "ipython",
    "version": 3
   },
   "file_extension": ".py",
   "mimetype": "text/x-python",
   "name": "python",
   "nbconvert_exporter": "python",
   "pygments_lexer": "ipython3",
   "version": "3.9.8"
  },
  "source_map": [
   14,
   41,
   52,
   57,
   60
  ]
 },
 "nbformat": 4,
 "nbformat_minor": 5
}