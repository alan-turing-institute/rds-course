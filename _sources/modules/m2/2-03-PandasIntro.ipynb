{
 "cells": [
  {
   "cell_type": "markdown",
   "id": "a0d4b0f5",
   "metadata": {},
   "source": [
    "# 2.3 Pandas intro\n",
    "\n",
    "The Pandas library is a core part of the python data science ecosystem. It provides easy-to-use data structures and data analysis tools.\n",
    "\n",
    "Pandas themselves have some great resources for getting started, including guides if you're coming from other software: https://pandas.pydata.org/pandas-docs/stable/getting_started/index.html#getting-started .\n",
    "\n",
    "For now, we'll stick just to what we need for this course."
   ]
  },
  {
   "cell_type": "code",
   "execution_count": 1,
   "id": "fc6d901c",
   "metadata": {},
   "outputs": [],
   "source": [
    "import pandas as pd"
   ]
  },
  {
   "cell_type": "markdown",
   "id": "9f22e04f",
   "metadata": {},
   "source": [
    "Pandas has two main **labelled** data structures:\n",
    "- Series"
   ]
  },
  {
   "cell_type": "code",
   "execution_count": 2,
   "id": "d57468e3",
   "metadata": {},
   "outputs": [
    {
     "name": "stdout",
     "output_type": "stream",
     "text": [
      "0    0.3\n",
      "1    4.0\n",
      "2    1.0\n",
      "3    NaN\n",
      "4    9.0\n",
      "dtype: float64\n"
     ]
    }
   ],
   "source": [
    "s = pd.Series([0.3, 4, 1, None, 9])\n",
    "print(s)"
   ]
  },
  {
   "cell_type": "markdown",
   "id": "5894b4a0",
   "metadata": {},
   "source": [
    "- DataFrame"
   ]
  },
  {
   "cell_type": "code",
   "execution_count": 3,
   "id": "0486d901",
   "metadata": {},
   "outputs": [
    {
     "name": "stdout",
     "output_type": "stream",
     "text": [
      "    random_A  random_B\n",
      "3  -0.540912  2.604197\n",
      "4   0.084722  0.048694\n",
      "5  -2.241481  0.682741\n",
      "6   0.682521  0.905018\n",
      "7  -0.341851  1.126445\n",
      "8  -0.527439  0.501079\n",
      "9  -0.561000  0.919834\n",
      "10  0.226659 -1.883977\n",
      "11  1.219964 -1.118299\n",
      "12 -0.113519 -0.878030\n"
     ]
    }
   ],
   "source": [
    "import numpy as np\n",
    "df = pd.DataFrame(np.random.randn(10,2), index=np.arange(3, 13), columns=[\"random_A\", \"random_B\"])\n",
    "print(df)"
   ]
  },
  {
   "cell_type": "markdown",
   "id": "91f5c08c",
   "metadata": {},
   "source": [
    "Once we have data in these Pandas structures, we can perform some useful operations such as:\n",
    "- `info()` - (`DataFrame` only) - prints a concice summary of a `DataFrame`\n",
    "- `value_counts()` - returns a `Series` containing counts of unique values in the structure"
   ]
  },
  {
   "cell_type": "code",
   "execution_count": 4,
   "id": "c6d19910",
   "metadata": {},
   "outputs": [
    {
     "name": "stdout",
     "output_type": "stream",
     "text": [
      "0    0\n",
      "1    0\n",
      "2    1\n",
      "3    1\n",
      "4    1\n",
      "5    1\n",
      "6    0\n",
      "7    0\n",
      "8    1\n",
      "9    0\n",
      "dtype: int64\n",
      "\n",
      "value counts:\n",
      "0    5\n",
      "1    5\n",
      "dtype: int64\n"
     ]
    }
   ],
   "source": [
    "s = pd.Series(np.random.randint(0,2,10))\n",
    "print(s)\n",
    "print() # blank line\n",
    "print(\"value counts:\")\n",
    "print(s.value_counts())"
   ]
  },
  {
   "cell_type": "markdown",
   "id": "f34a8522",
   "metadata": {},
   "source": [
    "We'll see more on how to use these structures, and other Pandas capabilities, later."
   ]
  }
 ],
 "metadata": {
  "jupytext": {
   "cell_metadata_filter": "-all",
   "formats": "md:myst",
   "text_representation": {
    "extension": ".md",
    "format_name": "myst",
    "format_version": 0.13,
    "jupytext_version": "1.10.3"
   }
  },
  "kernelspec": {
   "display_name": "Python 3 (ipykernel)",
   "language": "python",
   "name": "python3"
  },
  "language_info": {
   "codemirror_mode": {
    "name": "ipython",
    "version": 3
   },
   "file_extension": ".py",
   "mimetype": "text/x-python",
   "name": "python",
   "nbconvert_exporter": "python",
   "pygments_lexer": "ipython3",
   "version": "3.7.12"
  },
  "source_map": [
   14,
   24,
   26,
   31,
   34,
   38,
   42,
   48,
   54
  ]
 },
 "nbformat": 4,
 "nbformat_minor": 5
}