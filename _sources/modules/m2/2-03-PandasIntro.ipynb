{
 "cells": [
  {
   "cell_type": "markdown",
   "id": "99d9cd62",
   "metadata": {},
   "source": [
    "# 2.3 Pandas intro\n",
    "\n",
    "The Pandas library is a core part of the python data science ecosystem. It provides easy-to-use data structures and data analysis tools.\n",
    "\n",
    "Pandas themselves have some great resources for getting started, including guides if you're coming from other software: https://pandas.pydata.org/pandas-docs/stable/getting_started/index.html#getting-started .\n",
    "\n",
    "For now, we'll stick just to what we need for this course."
   ]
  },
  {
   "cell_type": "code",
   "execution_count": 1,
   "id": "65e397a0",
   "metadata": {},
   "outputs": [],
   "source": [
    "import pandas as pd"
   ]
  },
  {
   "cell_type": "markdown",
   "id": "f6171f9e",
   "metadata": {},
   "source": [
    "Pandas has two main **labelled** data structures:\n",
    "- Series"
   ]
  },
  {
   "cell_type": "code",
   "execution_count": 2,
   "id": "ea2a5ed1",
   "metadata": {},
   "outputs": [
    {
     "name": "stdout",
     "output_type": "stream",
     "text": [
      "0    0.3\n",
      "1    4.0\n",
      "2    1.0\n",
      "3    NaN\n",
      "4    9.0\n",
      "dtype: float64\n"
     ]
    }
   ],
   "source": [
    "s = pd.Series([0.3, 4, 1, None, 9])\n",
    "print(s)"
   ]
  },
  {
   "cell_type": "markdown",
   "id": "8a2f78f5",
   "metadata": {},
   "source": [
    "- DataFrame"
   ]
  },
  {
   "cell_type": "code",
   "execution_count": 3,
   "id": "60934dcc",
   "metadata": {},
   "outputs": [
    {
     "name": "stdout",
     "output_type": "stream",
     "text": [
      "    random_A  random_B\n",
      "3   1.345184 -0.635694\n",
      "4   0.458199  2.919330\n",
      "5   0.858402 -0.211435\n",
      "6  -0.365231 -0.217555\n",
      "7  -0.485341  0.822484\n",
      "8  -0.214498  0.536937\n",
      "9   0.486429  0.134051\n",
      "10 -0.317175  0.967390\n",
      "11  0.808218  2.225406\n",
      "12 -0.211635 -0.138404\n"
     ]
    }
   ],
   "source": [
    "import numpy as np\n",
    "df = pd.DataFrame(np.random.randn(10,2), index=np.arange(3, 13), columns=[\"random_A\", \"random_B\"])\n",
    "print(df)"
   ]
  },
  {
   "cell_type": "markdown",
   "id": "712f5602",
   "metadata": {},
   "source": [
    "Once we have data in these Pandas structures, we can perform some useful operations such as:\n",
    "- `info()` - (`DataFrame` only) - prints a concice summary of a `DataFrame`\n",
    "- `value_counts()` - returns a `Series` containing counts of unique values in the structure"
   ]
  },
  {
   "cell_type": "code",
   "execution_count": 4,
   "id": "fd46f65e",
   "metadata": {},
   "outputs": [
    {
     "name": "stdout",
     "output_type": "stream",
     "text": [
      "0    0\n",
      "1    0\n",
      "2    0\n",
      "3    0\n",
      "4    1\n",
      "5    0\n",
      "6    0\n",
      "7    1\n",
      "8    0\n",
      "9    0\n",
      "dtype: int64\n",
      "\n",
      "value counts:\n",
      "0    8\n",
      "1    2\n",
      "dtype: int64\n"
     ]
    }
   ],
   "source": [
    "s = pd.Series(np.random.randint(0,2,10))\n",
    "print(s)\n",
    "print() # blank line\n",
    "print(\"value counts:\")\n",
    "print(s.value_counts())"
   ]
  },
  {
   "cell_type": "markdown",
   "id": "2607f1e7",
   "metadata": {},
   "source": [
    "We'll see more on how to use these structures, and other Pandas capabilities, later."
   ]
  }
 ],
 "metadata": {
  "jupytext": {
   "cell_metadata_filter": "-all",
   "formats": "md:myst",
   "text_representation": {
    "extension": ".md",
    "format_name": "myst",
    "format_version": 0.13,
    "jupytext_version": "1.10.3"
   }
  },
  "kernelspec": {
   "display_name": "Python 3 (ipykernel)",
   "language": "python",
   "name": "python3"
  },
  "language_info": {
   "codemirror_mode": {
    "name": "ipython",
    "version": 3
   },
   "file_extension": ".py",
   "mimetype": "text/x-python",
   "name": "python",
   "nbconvert_exporter": "python",
   "pygments_lexer": "ipython3",
   "version": "3.7.12"
  },
  "source_map": [
   14,
   24,
   26,
   31,
   34,
   38,
   42,
   48,
   54
  ]
 },
 "nbformat": 4,
 "nbformat_minor": 5
}