{
 "cells": [
  {
   "cell_type": "markdown",
   "id": "04c0b4db",
   "metadata": {},
   "source": [
    "# 2.1.3 Pandas intro\n",
    "\n",
    "The Pandas library is a core part of the Python data science ecosystem. It provides easy-to-use data structures and data analysis tools.\n",
    "\n",
    "Pandas has some great resources for getting started, including guides tailored to those familiar with other software for manipulating data: https://pandas.pydata.org/pandas-docs/stable/getting_started/index.html#getting-started .\n",
    "\n",
    "For now, we'll stick just to what we need for this course."
   ]
  },
  {
   "cell_type": "code",
   "execution_count": 1,
   "id": "6fd4c786",
   "metadata": {},
   "outputs": [],
   "source": [
    "import pandas as pd"
   ]
  },
  {
   "cell_type": "markdown",
   "id": "facbe204",
   "metadata": {},
   "source": [
    "## Structures\n",
    "\n",
    "Pandas has two main **labelled** data structures:\n",
    "- Series"
   ]
  },
  {
   "cell_type": "code",
   "execution_count": 2,
   "id": "c62ab88e",
   "metadata": {},
   "outputs": [
    {
     "name": "stdout",
     "output_type": "stream",
     "text": [
      "0    0.3\n",
      "1    4.0\n",
      "2    1.0\n",
      "3    NaN\n",
      "4    9.0\n",
      "dtype: float64\n"
     ]
    }
   ],
   "source": [
    "s = pd.Series([0.3, 4, 1, None, 9])\n",
    "print(s)"
   ]
  },
  {
   "cell_type": "markdown",
   "id": "70c9d81b",
   "metadata": {},
   "source": [
    "- DataFrame"
   ]
  },
  {
   "cell_type": "code",
   "execution_count": 3,
   "id": "64995497",
   "metadata": {},
   "outputs": [
    {
     "data": {
      "text/html": [
       "<div>\n",
       "<style scoped>\n",
       "    .dataframe tbody tr th:only-of-type {\n",
       "        vertical-align: middle;\n",
       "    }\n",
       "\n",
       "    .dataframe tbody tr th {\n",
       "        vertical-align: top;\n",
       "    }\n",
       "\n",
       "    .dataframe thead th {\n",
       "        text-align: right;\n",
       "    }\n",
       "</style>\n",
       "<table border=\"1\" class=\"dataframe\">\n",
       "  <thead>\n",
       "    <tr style=\"text-align: right;\">\n",
       "      <th></th>\n",
       "      <th>random_A</th>\n",
       "      <th>random_B</th>\n",
       "    </tr>\n",
       "  </thead>\n",
       "  <tbody>\n",
       "    <tr>\n",
       "      <th>3</th>\n",
       "      <td>0.433776</td>\n",
       "      <td>-0.594205</td>\n",
       "    </tr>\n",
       "    <tr>\n",
       "      <th>4</th>\n",
       "      <td>-0.550812</td>\n",
       "      <td>1.097265</td>\n",
       "    </tr>\n",
       "    <tr>\n",
       "      <th>5</th>\n",
       "      <td>0.061021</td>\n",
       "      <td>-0.197341</td>\n",
       "    </tr>\n",
       "    <tr>\n",
       "      <th>6</th>\n",
       "      <td>-0.425585</td>\n",
       "      <td>-2.146634</td>\n",
       "    </tr>\n",
       "    <tr>\n",
       "      <th>7</th>\n",
       "      <td>-0.219894</td>\n",
       "      <td>0.596684</td>\n",
       "    </tr>\n",
       "    <tr>\n",
       "      <th>8</th>\n",
       "      <td>1.338312</td>\n",
       "      <td>-1.042037</td>\n",
       "    </tr>\n",
       "    <tr>\n",
       "      <th>9</th>\n",
       "      <td>-0.020341</td>\n",
       "      <td>2.115085</td>\n",
       "    </tr>\n",
       "    <tr>\n",
       "      <th>10</th>\n",
       "      <td>-1.780594</td>\n",
       "      <td>0.543606</td>\n",
       "    </tr>\n",
       "    <tr>\n",
       "      <th>11</th>\n",
       "      <td>-2.553237</td>\n",
       "      <td>0.519681</td>\n",
       "    </tr>\n",
       "    <tr>\n",
       "      <th>12</th>\n",
       "      <td>0.015307</td>\n",
       "      <td>1.255802</td>\n",
       "    </tr>\n",
       "  </tbody>\n",
       "</table>\n",
       "</div>"
      ],
      "text/plain": [
       "    random_A  random_B\n",
       "3   0.433776 -0.594205\n",
       "4  -0.550812  1.097265\n",
       "5   0.061021 -0.197341\n",
       "6  -0.425585 -2.146634\n",
       "7  -0.219894  0.596684\n",
       "8   1.338312 -1.042037\n",
       "9  -0.020341  2.115085\n",
       "10 -1.780594  0.543606\n",
       "11 -2.553237  0.519681\n",
       "12  0.015307  1.255802"
      ]
     },
     "execution_count": 3,
     "metadata": {},
     "output_type": "execute_result"
    }
   ],
   "source": [
    "import numpy as np\n",
    "df = pd.DataFrame(np.random.randn(10,2), index=np.arange(3, 13), columns=[\"random_A\", \"random_B\"])\n",
    "df"
   ]
  },
  {
   "cell_type": "markdown",
   "id": "71e2ea6d",
   "metadata": {},
   "source": [
    "Once we have data in these Pandas structures, we can perform some useful operations such as:\n",
    "- `info()` - (`DataFrame` only) - prints a concise summary of a `DataFrame`\n",
    "- `value_counts()` - returns a `Series` containing counts of unique values in the structure"
   ]
  },
  {
   "cell_type": "code",
   "execution_count": 4,
   "id": "805c02f4",
   "metadata": {},
   "outputs": [
    {
     "name": "stdout",
     "output_type": "stream",
     "text": [
      "0    0\n",
      "1    1\n",
      "2    0\n",
      "3    0\n",
      "4    1\n",
      "5    0\n",
      "6    0\n",
      "7    0\n",
      "8    0\n",
      "9    0\n",
      "dtype: int64\n",
      "\n",
      "value counts:\n",
      "0    8\n",
      "1    2\n",
      "dtype: int64\n"
     ]
    }
   ],
   "source": [
    "s = pd.Series(np.random.randint(0,2,10))\n",
    "print(s)\n",
    "print() # blank line\n",
    "print(\"value counts:\")\n",
    "print(s.value_counts())"
   ]
  },
  {
   "cell_type": "markdown",
   "id": "2b5a5771",
   "metadata": {},
   "source": [
    "We'll see more on how to use these structures, and other Pandas capabilities, later.\n",
    "\n",
    "## Indexing\n",
    "\n",
    "Again, we're just covering some basics here. For a complete guide to indexing in Pandas see [here](https://pandas.pydata.org/pandas-docs/stable/user_guide/indexing.html).\n",
    "\n",
    "Pandas allows us to use the same basic `[]` indexing and `.` attribute operators that we're used to with Python and NumPy.\n",
    "However, Pandas also provides the (often preferred) `.loc` labelled indexing method and the `.iloc` position indexing methods.\n",
    "\n",
    "### `[]` Indexing\n",
    "\n",
    "For basic `[]` indexing, we can select columns from a DataFrame and items from a Series."
   ]
  },
  {
   "cell_type": "code",
   "execution_count": 5,
   "id": "6ecafd0f",
   "metadata": {},
   "outputs": [
    {
     "name": "stdout",
     "output_type": "stream",
     "text": [
      "single column from DataFrame, gives us a Series:\n"
     ]
    },
    {
     "data": {
      "text/plain": [
       "3     0.433776\n",
       "4    -0.550812\n",
       "5     0.061021\n",
       "6    -0.425585\n",
       "7    -0.219894\n",
       "8     1.338312\n",
       "9    -0.020341\n",
       "10   -1.780594\n",
       "11   -2.553237\n",
       "12    0.015307\n",
       "Name: random_A, dtype: float64"
      ]
     },
     "metadata": {},
     "output_type": "display_data"
    },
    {
     "name": "stdout",
     "output_type": "stream",
     "text": [
      "two columns from DataFrame, gives us a DataFrame:\n"
     ]
    },
    {
     "data": {
      "text/html": [
       "<div>\n",
       "<style scoped>\n",
       "    .dataframe tbody tr th:only-of-type {\n",
       "        vertical-align: middle;\n",
       "    }\n",
       "\n",
       "    .dataframe tbody tr th {\n",
       "        vertical-align: top;\n",
       "    }\n",
       "\n",
       "    .dataframe thead th {\n",
       "        text-align: right;\n",
       "    }\n",
       "</style>\n",
       "<table border=\"1\" class=\"dataframe\">\n",
       "  <thead>\n",
       "    <tr style=\"text-align: right;\">\n",
       "      <th></th>\n",
       "      <th>random_A</th>\n",
       "      <th>random_B</th>\n",
       "    </tr>\n",
       "  </thead>\n",
       "  <tbody>\n",
       "    <tr>\n",
       "      <th>3</th>\n",
       "      <td>0.433776</td>\n",
       "      <td>-0.594205</td>\n",
       "    </tr>\n",
       "    <tr>\n",
       "      <th>4</th>\n",
       "      <td>-0.550812</td>\n",
       "      <td>1.097265</td>\n",
       "    </tr>\n",
       "    <tr>\n",
       "      <th>5</th>\n",
       "      <td>0.061021</td>\n",
       "      <td>-0.197341</td>\n",
       "    </tr>\n",
       "    <tr>\n",
       "      <th>6</th>\n",
       "      <td>-0.425585</td>\n",
       "      <td>-2.146634</td>\n",
       "    </tr>\n",
       "    <tr>\n",
       "      <th>7</th>\n",
       "      <td>-0.219894</td>\n",
       "      <td>0.596684</td>\n",
       "    </tr>\n",
       "    <tr>\n",
       "      <th>8</th>\n",
       "      <td>1.338312</td>\n",
       "      <td>-1.042037</td>\n",
       "    </tr>\n",
       "    <tr>\n",
       "      <th>9</th>\n",
       "      <td>-0.020341</td>\n",
       "      <td>2.115085</td>\n",
       "    </tr>\n",
       "    <tr>\n",
       "      <th>10</th>\n",
       "      <td>-1.780594</td>\n",
       "      <td>0.543606</td>\n",
       "    </tr>\n",
       "    <tr>\n",
       "      <th>11</th>\n",
       "      <td>-2.553237</td>\n",
       "      <td>0.519681</td>\n",
       "    </tr>\n",
       "    <tr>\n",
       "      <th>12</th>\n",
       "      <td>0.015307</td>\n",
       "      <td>1.255802</td>\n",
       "    </tr>\n",
       "  </tbody>\n",
       "</table>\n",
       "</div>"
      ],
      "text/plain": [
       "    random_A  random_B\n",
       "3   0.433776 -0.594205\n",
       "4  -0.550812  1.097265\n",
       "5   0.061021 -0.197341\n",
       "6  -0.425585 -2.146634\n",
       "7  -0.219894  0.596684\n",
       "8   1.338312 -1.042037\n",
       "9  -0.020341  2.115085\n",
       "10 -1.780594  0.543606\n",
       "11 -2.553237  0.519681\n",
       "12  0.015307  1.255802"
      ]
     },
     "metadata": {},
     "output_type": "display_data"
    },
    {
     "name": "stdout",
     "output_type": "stream",
     "text": [
      "single item from Series, gives us an item (of type numpy.int64, in this case):\n"
     ]
    },
    {
     "data": {
      "text/plain": [
       "0"
      ]
     },
     "metadata": {},
     "output_type": "display_data"
    },
    {
     "name": "stdout",
     "output_type": "stream",
     "text": [
      "two items from Series, gives us a Series:\n"
     ]
    },
    {
     "data": {
      "text/plain": [
       "2    0\n",
       "4    1\n",
       "dtype: int64"
      ]
     },
     "metadata": {},
     "output_type": "display_data"
    }
   ],
   "source": [
    "# reusing our DataFrame and Series from earlier\n",
    "\n",
    "# Basic indexing using `[]` on DataFrame\n",
    "# select a single column\n",
    "print(\"single column from DataFrame, gives us a Series:\")\n",
    "display(df[\"random_A\"])\n",
    "\n",
    "# select two columns\n",
    "print(\"two columns from DataFrame, gives us a DataFrame:\")\n",
    "display(df[[\"random_A\", \"random_B\"]])\n",
    "\n",
    "# and for a Series\n",
    "# select single item\n",
    "print(\"single item from Series, gives us an item (of type numpy.int64, in this case):\")\n",
    "display(s[2])\n",
    "\n",
    "# select two items\n",
    "print(\"two items from Series, gives us a Series:\")\n",
    "display(s[[2,4]])"
   ]
  },
  {
   "cell_type": "markdown",
   "id": "6c2ae506",
   "metadata": {},
   "source": [
    "Note that we can't do:"
   ]
  },
  {
   "cell_type": "code",
   "execution_count": 6,
   "id": "69de01f8",
   "metadata": {
    "tags": [
     "raises-exception"
    ]
   },
   "outputs": [
    {
     "ename": "KeyError",
     "evalue": "5",
     "output_type": "error",
     "traceback": [
      "\u001b[0;31m---------------------------------------------------------------------------\u001b[0m",
      "\u001b[0;31mKeyError\u001b[0m                                  Traceback (most recent call last)",
      "\u001b[0;32m/opt/hostedtoolcache/Python/3.9.8/x64/lib/python3.9/site-packages/pandas/core/indexes/base.py\u001b[0m in \u001b[0;36mget_loc\u001b[0;34m(self, key, method, tolerance)\u001b[0m\n\u001b[1;32m   3360\u001b[0m             \u001b[0;32mtry\u001b[0m\u001b[0;34m:\u001b[0m\u001b[0;34m\u001b[0m\u001b[0;34m\u001b[0m\u001b[0m\n\u001b[0;32m-> 3361\u001b[0;31m                 \u001b[0;32mreturn\u001b[0m \u001b[0mself\u001b[0m\u001b[0;34m.\u001b[0m\u001b[0m_engine\u001b[0m\u001b[0;34m.\u001b[0m\u001b[0mget_loc\u001b[0m\u001b[0;34m(\u001b[0m\u001b[0mcasted_key\u001b[0m\u001b[0;34m)\u001b[0m\u001b[0;34m\u001b[0m\u001b[0;34m\u001b[0m\u001b[0m\n\u001b[0m\u001b[1;32m   3362\u001b[0m             \u001b[0;32mexcept\u001b[0m \u001b[0mKeyError\u001b[0m \u001b[0;32mas\u001b[0m \u001b[0merr\u001b[0m\u001b[0;34m:\u001b[0m\u001b[0;34m\u001b[0m\u001b[0;34m\u001b[0m\u001b[0m\n",
      "\u001b[0;32m/opt/hostedtoolcache/Python/3.9.8/x64/lib/python3.9/site-packages/pandas/_libs/index.pyx\u001b[0m in \u001b[0;36mpandas._libs.index.IndexEngine.get_loc\u001b[0;34m()\u001b[0m\n",
      "\u001b[0;32m/opt/hostedtoolcache/Python/3.9.8/x64/lib/python3.9/site-packages/pandas/_libs/index.pyx\u001b[0m in \u001b[0;36mpandas._libs.index.IndexEngine.get_loc\u001b[0;34m()\u001b[0m\n",
      "\u001b[0;32mpandas/_libs/hashtable_class_helper.pxi\u001b[0m in \u001b[0;36mpandas._libs.hashtable.PyObjectHashTable.get_item\u001b[0;34m()\u001b[0m\n",
      "\u001b[0;32mpandas/_libs/hashtable_class_helper.pxi\u001b[0m in \u001b[0;36mpandas._libs.hashtable.PyObjectHashTable.get_item\u001b[0;34m()\u001b[0m\n",
      "\u001b[0;31mKeyError\u001b[0m: 5",
      "\nThe above exception was the direct cause of the following exception:\n",
      "\u001b[0;31mKeyError\u001b[0m                                  Traceback (most recent call last)",
      "\u001b[0;32m/tmp/ipykernel_1682/528749764.py\u001b[0m in \u001b[0;36m<module>\u001b[0;34m\u001b[0m\n\u001b[0;32m----> 1\u001b[0;31m \u001b[0mdf\u001b[0m\u001b[0;34m[\u001b[0m\u001b[0;36m5\u001b[0m\u001b[0;34m]\u001b[0m\u001b[0;34m\u001b[0m\u001b[0;34m\u001b[0m\u001b[0m\n\u001b[0m",
      "\u001b[0;32m/opt/hostedtoolcache/Python/3.9.8/x64/lib/python3.9/site-packages/pandas/core/frame.py\u001b[0m in \u001b[0;36m__getitem__\u001b[0;34m(self, key)\u001b[0m\n\u001b[1;32m   3456\u001b[0m             \u001b[0;32mif\u001b[0m \u001b[0mself\u001b[0m\u001b[0;34m.\u001b[0m\u001b[0mcolumns\u001b[0m\u001b[0;34m.\u001b[0m\u001b[0mnlevels\u001b[0m \u001b[0;34m>\u001b[0m \u001b[0;36m1\u001b[0m\u001b[0;34m:\u001b[0m\u001b[0;34m\u001b[0m\u001b[0;34m\u001b[0m\u001b[0m\n\u001b[1;32m   3457\u001b[0m                 \u001b[0;32mreturn\u001b[0m \u001b[0mself\u001b[0m\u001b[0;34m.\u001b[0m\u001b[0m_getitem_multilevel\u001b[0m\u001b[0;34m(\u001b[0m\u001b[0mkey\u001b[0m\u001b[0;34m)\u001b[0m\u001b[0;34m\u001b[0m\u001b[0;34m\u001b[0m\u001b[0m\n\u001b[0;32m-> 3458\u001b[0;31m             \u001b[0mindexer\u001b[0m \u001b[0;34m=\u001b[0m \u001b[0mself\u001b[0m\u001b[0;34m.\u001b[0m\u001b[0mcolumns\u001b[0m\u001b[0;34m.\u001b[0m\u001b[0mget_loc\u001b[0m\u001b[0;34m(\u001b[0m\u001b[0mkey\u001b[0m\u001b[0;34m)\u001b[0m\u001b[0;34m\u001b[0m\u001b[0;34m\u001b[0m\u001b[0m\n\u001b[0m\u001b[1;32m   3459\u001b[0m             \u001b[0;32mif\u001b[0m \u001b[0mis_integer\u001b[0m\u001b[0;34m(\u001b[0m\u001b[0mindexer\u001b[0m\u001b[0;34m)\u001b[0m\u001b[0;34m:\u001b[0m\u001b[0;34m\u001b[0m\u001b[0;34m\u001b[0m\u001b[0m\n\u001b[1;32m   3460\u001b[0m                 \u001b[0mindexer\u001b[0m \u001b[0;34m=\u001b[0m \u001b[0;34m[\u001b[0m\u001b[0mindexer\u001b[0m\u001b[0;34m]\u001b[0m\u001b[0;34m\u001b[0m\u001b[0;34m\u001b[0m\u001b[0m\n",
      "\u001b[0;32m/opt/hostedtoolcache/Python/3.9.8/x64/lib/python3.9/site-packages/pandas/core/indexes/base.py\u001b[0m in \u001b[0;36mget_loc\u001b[0;34m(self, key, method, tolerance)\u001b[0m\n\u001b[1;32m   3361\u001b[0m                 \u001b[0;32mreturn\u001b[0m \u001b[0mself\u001b[0m\u001b[0;34m.\u001b[0m\u001b[0m_engine\u001b[0m\u001b[0;34m.\u001b[0m\u001b[0mget_loc\u001b[0m\u001b[0;34m(\u001b[0m\u001b[0mcasted_key\u001b[0m\u001b[0;34m)\u001b[0m\u001b[0;34m\u001b[0m\u001b[0;34m\u001b[0m\u001b[0m\n\u001b[1;32m   3362\u001b[0m             \u001b[0;32mexcept\u001b[0m \u001b[0mKeyError\u001b[0m \u001b[0;32mas\u001b[0m \u001b[0merr\u001b[0m\u001b[0;34m:\u001b[0m\u001b[0;34m\u001b[0m\u001b[0;34m\u001b[0m\u001b[0m\n\u001b[0;32m-> 3363\u001b[0;31m                 \u001b[0;32mraise\u001b[0m \u001b[0mKeyError\u001b[0m\u001b[0;34m(\u001b[0m\u001b[0mkey\u001b[0m\u001b[0;34m)\u001b[0m \u001b[0;32mfrom\u001b[0m \u001b[0merr\u001b[0m\u001b[0;34m\u001b[0m\u001b[0;34m\u001b[0m\u001b[0m\n\u001b[0m\u001b[1;32m   3364\u001b[0m \u001b[0;34m\u001b[0m\u001b[0m\n\u001b[1;32m   3365\u001b[0m         \u001b[0;32mif\u001b[0m \u001b[0mis_scalar\u001b[0m\u001b[0;34m(\u001b[0m\u001b[0mkey\u001b[0m\u001b[0;34m)\u001b[0m \u001b[0;32mand\u001b[0m \u001b[0misna\u001b[0m\u001b[0;34m(\u001b[0m\u001b[0mkey\u001b[0m\u001b[0;34m)\u001b[0m \u001b[0;32mand\u001b[0m \u001b[0;32mnot\u001b[0m \u001b[0mself\u001b[0m\u001b[0;34m.\u001b[0m\u001b[0mhasnans\u001b[0m\u001b[0;34m:\u001b[0m\u001b[0;34m\u001b[0m\u001b[0;34m\u001b[0m\u001b[0m\n",
      "\u001b[0;31mKeyError\u001b[0m: 5"
     ]
    }
   ],
   "source": [
    "df[5]"
   ]
  },
  {
   "cell_type": "markdown",
   "id": "9e7bc6d8",
   "metadata": {},
   "source": [
    "as this tries to access a row, not a column.\n",
    "\n",
    "\n",
    "### Attribute Access\n",
    "\n",
    "Similarly, we can access a column from a DataFrame and an item from a Series using as an attribute.\n",
    "However, we can't do this when the label is not a valid identifier. We can't do `s.2`."
   ]
  },
  {
   "cell_type": "code",
   "execution_count": 7,
   "id": "c9401650",
   "metadata": {
    "tags": [
     "raises-exception"
    ]
   },
   "outputs": [
    {
     "data": {
      "text/plain": [
       "3     0.433776\n",
       "4    -0.550812\n",
       "5     0.061021\n",
       "6    -0.425585\n",
       "7    -0.219894\n",
       "8     1.338312\n",
       "9    -0.020341\n",
       "10   -1.780594\n",
       "11   -2.553237\n",
       "12    0.015307\n",
       "Name: random_A, dtype: float64"
      ]
     },
     "metadata": {},
     "output_type": "display_data"
    }
   ],
   "source": [
    "# Using attribute access\n",
    "display(df.random_A)"
   ]
  },
  {
   "cell_type": "code",
   "execution_count": 8,
   "id": "639aee59",
   "metadata": {
    "tags": [
     "raises-exception"
    ]
   },
   "outputs": [
    {
     "ename": "SyntaxError",
     "evalue": "invalid syntax (1489195916.py, line 2)",
     "output_type": "error",
     "traceback": [
      "\u001b[0;36m  File \u001b[0;32m\"/tmp/ipykernel_1682/1489195916.py\"\u001b[0;36m, line \u001b[0;32m2\u001b[0m\n\u001b[0;31m    display(s.2)\u001b[0m\n\u001b[0m             ^\u001b[0m\n\u001b[0;31mSyntaxError\u001b[0m\u001b[0;31m:\u001b[0m invalid syntax\n"
     ]
    }
   ],
   "source": [
    "# and for a Series, this will break\n",
    "display(s.2)"
   ]
  },
  {
   "cell_type": "markdown",
   "id": "8ebce689",
   "metadata": {},
   "source": [
    "### `.loc`\n",
    "\n",
    "`.loc` provides label-based indexing. `.loc` can also be used for slicing and we can even provide a `callable` as its input!\n",
    "However, here we'll just show single item access."
   ]
  },
  {
   "cell_type": "code",
   "execution_count": 9,
   "id": "01ca40dd",
   "metadata": {},
   "outputs": [
    {
     "data": {
      "text/plain": [
       "random_A    0.061021\n",
       "random_B   -0.197341\n",
       "Name: 5, dtype: float64"
      ]
     },
     "metadata": {},
     "output_type": "display_data"
    },
    {
     "data": {
      "text/plain": [
       "0"
      ]
     },
     "metadata": {},
     "output_type": "display_data"
    }
   ],
   "source": [
    "# for DataFrame\n",
    "display(df.loc[5])\n",
    "\n",
    "# and for a Series\n",
    "display(s.loc[2])"
   ]
  },
  {
   "cell_type": "markdown",
   "id": "92287a97",
   "metadata": {},
   "source": [
    "### `.iloc`\n",
    "\n",
    "`.iloc` provides integer-based indexing. This closely resembles Python and NumPy slicing. Again, we'll just show single item access."
   ]
  },
  {
   "cell_type": "code",
   "execution_count": 10,
   "id": "7b07ffbb",
   "metadata": {},
   "outputs": [
    {
     "data": {
      "text/plain": [
       "random_A    1.338312\n",
       "random_B   -1.042037\n",
       "Name: 8, dtype: float64"
      ]
     },
     "metadata": {},
     "output_type": "display_data"
    },
    {
     "data": {
      "text/plain": [
       "0"
      ]
     },
     "metadata": {},
     "output_type": "display_data"
    }
   ],
   "source": [
    "# for DataFrame\n",
    "display(df.iloc[5])\n",
    "\n",
    "# and for a Series\n",
    "display(s.iloc[2])"
   ]
  }
 ],
 "metadata": {
  "jupytext": {
   "cell_metadata_filter": "-all",
   "formats": "md:myst",
   "text_representation": {
    "extension": ".md",
    "format_name": "myst",
    "format_version": 0.13,
    "jupytext_version": "1.10.3"
   }
  },
  "kernelspec": {
   "display_name": "Python 3 (ipykernel)",
   "language": "python",
   "name": "python3"
  },
  "language_info": {
   "codemirror_mode": {
    "name": "ipython",
    "version": 3
   },
   "file_extension": ".py",
   "mimetype": "text/x-python",
   "name": "python",
   "nbconvert_exporter": "python",
   "pygments_lexer": "ipython3",
   "version": "3.9.8"
  },
  "source_map": [
   14,
   24,
   26,
   33,
   36,
   40,
   44,
   50,
   56,
   71,
   91,
   95,
   98,
   108,
   114,
   118,
   125,
   131,
   137
  ]
 },
 "nbformat": 4,
 "nbformat_minor": 5
}