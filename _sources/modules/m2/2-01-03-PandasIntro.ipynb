{
 "cells": [
  {
   "cell_type": "markdown",
   "id": "eaf903c1",
   "metadata": {},
   "source": [
    "# 2.1.3 Pandas intro\n",
    "\n",
    "The Pandas library is a core part of the Python data science ecosystem. It provides easy-to-use data structures and data analysis tools.\n",
    "\n",
    "Pandas has some great resources for getting started, including guides tailored to those familiar with other software for manipulating data: https://pandas.pydata.org/pandas-docs/stable/getting_started/index.html#getting-started .\n",
    "\n",
    "For now, we'll stick just to what we need for this course."
   ]
  },
  {
   "cell_type": "code",
   "execution_count": 1,
   "id": "c09e40d1",
   "metadata": {},
   "outputs": [],
   "source": [
    "import pandas as pd"
   ]
  },
  {
   "cell_type": "markdown",
   "id": "146011c6",
   "metadata": {},
   "source": [
    "## Structures\n",
    "\n",
    "Pandas has two main **labelled** data structures:\n",
    "- Series"
   ]
  },
  {
   "cell_type": "code",
   "execution_count": 2,
   "id": "c6852f33",
   "metadata": {},
   "outputs": [
    {
     "name": "stdout",
     "output_type": "stream",
     "text": [
      "0    0.3\n",
      "1    4.0\n",
      "2    1.0\n",
      "3    NaN\n",
      "4    9.0\n",
      "dtype: float64\n"
     ]
    }
   ],
   "source": [
    "s = pd.Series([0.3, 4, 1, None, 9])\n",
    "print(s)"
   ]
  },
  {
   "cell_type": "markdown",
   "id": "9be6dc97",
   "metadata": {},
   "source": [
    "- DataFrame"
   ]
  },
  {
   "cell_type": "code",
   "execution_count": 3,
   "id": "123cb8dd",
   "metadata": {},
   "outputs": [
    {
     "data": {
      "text/html": [
       "<div>\n",
       "<style scoped>\n",
       "    .dataframe tbody tr th:only-of-type {\n",
       "        vertical-align: middle;\n",
       "    }\n",
       "\n",
       "    .dataframe tbody tr th {\n",
       "        vertical-align: top;\n",
       "    }\n",
       "\n",
       "    .dataframe thead th {\n",
       "        text-align: right;\n",
       "    }\n",
       "</style>\n",
       "<table border=\"1\" class=\"dataframe\">\n",
       "  <thead>\n",
       "    <tr style=\"text-align: right;\">\n",
       "      <th></th>\n",
       "      <th>random_A</th>\n",
       "      <th>random_B</th>\n",
       "    </tr>\n",
       "  </thead>\n",
       "  <tbody>\n",
       "    <tr>\n",
       "      <th>3</th>\n",
       "      <td>0.389832</td>\n",
       "      <td>-0.861027</td>\n",
       "    </tr>\n",
       "    <tr>\n",
       "      <th>4</th>\n",
       "      <td>1.308661</td>\n",
       "      <td>0.733390</td>\n",
       "    </tr>\n",
       "    <tr>\n",
       "      <th>5</th>\n",
       "      <td>-1.230448</td>\n",
       "      <td>-1.503831</td>\n",
       "    </tr>\n",
       "    <tr>\n",
       "      <th>6</th>\n",
       "      <td>0.036391</td>\n",
       "      <td>-0.224464</td>\n",
       "    </tr>\n",
       "    <tr>\n",
       "      <th>7</th>\n",
       "      <td>-0.564531</td>\n",
       "      <td>-1.141324</td>\n",
       "    </tr>\n",
       "    <tr>\n",
       "      <th>8</th>\n",
       "      <td>1.107985</td>\n",
       "      <td>-0.307726</td>\n",
       "    </tr>\n",
       "    <tr>\n",
       "      <th>9</th>\n",
       "      <td>1.222333</td>\n",
       "      <td>1.792725</td>\n",
       "    </tr>\n",
       "    <tr>\n",
       "      <th>10</th>\n",
       "      <td>-0.597655</td>\n",
       "      <td>1.205299</td>\n",
       "    </tr>\n",
       "    <tr>\n",
       "      <th>11</th>\n",
       "      <td>1.072705</td>\n",
       "      <td>0.926641</td>\n",
       "    </tr>\n",
       "    <tr>\n",
       "      <th>12</th>\n",
       "      <td>0.467075</td>\n",
       "      <td>-0.558509</td>\n",
       "    </tr>\n",
       "  </tbody>\n",
       "</table>\n",
       "</div>"
      ],
      "text/plain": [
       "    random_A  random_B\n",
       "3   0.389832 -0.861027\n",
       "4   1.308661  0.733390\n",
       "5  -1.230448 -1.503831\n",
       "6   0.036391 -0.224464\n",
       "7  -0.564531 -1.141324\n",
       "8   1.107985 -0.307726\n",
       "9   1.222333  1.792725\n",
       "10 -0.597655  1.205299\n",
       "11  1.072705  0.926641\n",
       "12  0.467075 -0.558509"
      ]
     },
     "execution_count": 3,
     "metadata": {},
     "output_type": "execute_result"
    }
   ],
   "source": [
    "import numpy as np\n",
    "df = pd.DataFrame(np.random.randn(10,2), index=np.arange(3, 13), columns=[\"random_A\", \"random_B\"])\n",
    "df"
   ]
  },
  {
   "cell_type": "markdown",
   "id": "1ce56ee7",
   "metadata": {},
   "source": [
    "Once we have data in these Pandas structures, we can perform some useful operations such as:\n",
    "- `info()` - (`DataFrame` only) - prints a concise summary of a `DataFrame`\n",
    "- `value_counts()` - returns a `Series` containing counts of unique values in the structure"
   ]
  },
  {
   "cell_type": "code",
   "execution_count": 4,
   "id": "7257c62c",
   "metadata": {},
   "outputs": [
    {
     "name": "stdout",
     "output_type": "stream",
     "text": [
      "0    1\n",
      "1    1\n",
      "2    1\n",
      "3    0\n",
      "4    0\n",
      "5    0\n",
      "6    1\n",
      "7    1\n",
      "8    1\n",
      "9    1\n",
      "dtype: int64\n",
      "\n",
      "value counts:\n",
      "1    7\n",
      "0    3\n",
      "dtype: int64\n"
     ]
    }
   ],
   "source": [
    "s = pd.Series(np.random.randint(0,2,10))\n",
    "print(s)\n",
    "print() # blank line\n",
    "print(\"value counts:\")\n",
    "print(s.value_counts())"
   ]
  },
  {
   "cell_type": "markdown",
   "id": "c89ae3b4",
   "metadata": {},
   "source": [
    "We'll see more on how to use these structures, and other Pandas capabilities, later.\n",
    "\n",
    "## Indexing\n",
    "\n",
    "Again, we're just covering some basics here. For a complete guide to indexing in Pandas see [here](https://pandas.pydata.org/pandas-docs/stable/user_guide/indexing.html).\n",
    "\n",
    "Pandas allows us to use the same basic `[]` indexing and `.` attribute operators that we're used to with Python and NumPy.\n",
    "However, Pandas also provides the (often preferred) `.loc` labelled indexing method and the `.iloc` position indexing methods.\n",
    "\n",
    "### `[]` Indexing\n",
    "\n",
    "For basic `[]` indexing, we can select columns from a DataFrame and items from a Series."
   ]
  },
  {
   "cell_type": "code",
   "execution_count": 5,
   "id": "788d308e",
   "metadata": {},
   "outputs": [
    {
     "name": "stdout",
     "output_type": "stream",
     "text": [
      "single column from DataFrame, gives us a Series:\n"
     ]
    },
    {
     "data": {
      "text/plain": [
       "3     0.389832\n",
       "4     1.308661\n",
       "5    -1.230448\n",
       "6     0.036391\n",
       "7    -0.564531\n",
       "8     1.107985\n",
       "9     1.222333\n",
       "10   -0.597655\n",
       "11    1.072705\n",
       "12    0.467075\n",
       "Name: random_A, dtype: float64"
      ]
     },
     "metadata": {},
     "output_type": "display_data"
    },
    {
     "name": "stdout",
     "output_type": "stream",
     "text": [
      "two columns from DataFrame, gives us a DataFrame:\n"
     ]
    },
    {
     "data": {
      "text/html": [
       "<div>\n",
       "<style scoped>\n",
       "    .dataframe tbody tr th:only-of-type {\n",
       "        vertical-align: middle;\n",
       "    }\n",
       "\n",
       "    .dataframe tbody tr th {\n",
       "        vertical-align: top;\n",
       "    }\n",
       "\n",
       "    .dataframe thead th {\n",
       "        text-align: right;\n",
       "    }\n",
       "</style>\n",
       "<table border=\"1\" class=\"dataframe\">\n",
       "  <thead>\n",
       "    <tr style=\"text-align: right;\">\n",
       "      <th></th>\n",
       "      <th>random_A</th>\n",
       "      <th>random_B</th>\n",
       "    </tr>\n",
       "  </thead>\n",
       "  <tbody>\n",
       "    <tr>\n",
       "      <th>3</th>\n",
       "      <td>0.389832</td>\n",
       "      <td>-0.861027</td>\n",
       "    </tr>\n",
       "    <tr>\n",
       "      <th>4</th>\n",
       "      <td>1.308661</td>\n",
       "      <td>0.733390</td>\n",
       "    </tr>\n",
       "    <tr>\n",
       "      <th>5</th>\n",
       "      <td>-1.230448</td>\n",
       "      <td>-1.503831</td>\n",
       "    </tr>\n",
       "    <tr>\n",
       "      <th>6</th>\n",
       "      <td>0.036391</td>\n",
       "      <td>-0.224464</td>\n",
       "    </tr>\n",
       "    <tr>\n",
       "      <th>7</th>\n",
       "      <td>-0.564531</td>\n",
       "      <td>-1.141324</td>\n",
       "    </tr>\n",
       "    <tr>\n",
       "      <th>8</th>\n",
       "      <td>1.107985</td>\n",
       "      <td>-0.307726</td>\n",
       "    </tr>\n",
       "    <tr>\n",
       "      <th>9</th>\n",
       "      <td>1.222333</td>\n",
       "      <td>1.792725</td>\n",
       "    </tr>\n",
       "    <tr>\n",
       "      <th>10</th>\n",
       "      <td>-0.597655</td>\n",
       "      <td>1.205299</td>\n",
       "    </tr>\n",
       "    <tr>\n",
       "      <th>11</th>\n",
       "      <td>1.072705</td>\n",
       "      <td>0.926641</td>\n",
       "    </tr>\n",
       "    <tr>\n",
       "      <th>12</th>\n",
       "      <td>0.467075</td>\n",
       "      <td>-0.558509</td>\n",
       "    </tr>\n",
       "  </tbody>\n",
       "</table>\n",
       "</div>"
      ],
      "text/plain": [
       "    random_A  random_B\n",
       "3   0.389832 -0.861027\n",
       "4   1.308661  0.733390\n",
       "5  -1.230448 -1.503831\n",
       "6   0.036391 -0.224464\n",
       "7  -0.564531 -1.141324\n",
       "8   1.107985 -0.307726\n",
       "9   1.222333  1.792725\n",
       "10 -0.597655  1.205299\n",
       "11  1.072705  0.926641\n",
       "12  0.467075 -0.558509"
      ]
     },
     "metadata": {},
     "output_type": "display_data"
    },
    {
     "name": "stdout",
     "output_type": "stream",
     "text": [
      "single item from Series, gives us an item (of type numpy.int64, in this case):\n"
     ]
    },
    {
     "data": {
      "text/plain": [
       "1"
      ]
     },
     "metadata": {},
     "output_type": "display_data"
    },
    {
     "name": "stdout",
     "output_type": "stream",
     "text": [
      "two items from Series, gives us a Series:\n"
     ]
    },
    {
     "data": {
      "text/plain": [
       "2    1\n",
       "4    0\n",
       "dtype: int64"
      ]
     },
     "metadata": {},
     "output_type": "display_data"
    }
   ],
   "source": [
    "# reusing our DataFrame and Series from earlier\n",
    "\n",
    "# Basic indexing using `[]` on DataFrame\n",
    "# select a single column\n",
    "print(\"single column from DataFrame, gives us a Series:\")\n",
    "display(df[\"random_A\"])\n",
    "\n",
    "# select two columns\n",
    "print(\"two columns from DataFrame, gives us a DataFrame:\")\n",
    "display(df[[\"random_A\", \"random_B\"]])\n",
    "\n",
    "# and for a Series\n",
    "# select single item\n",
    "print(\"single item from Series, gives us an item (of type numpy.int64, in this case):\")\n",
    "display(s[2])\n",
    "\n",
    "# select two items\n",
    "print(\"two items from Series, gives us a Series:\")\n",
    "display(s[[2,4]])"
   ]
  },
  {
   "cell_type": "markdown",
   "id": "7d111cd1",
   "metadata": {},
   "source": [
    "Note that we can't do:"
   ]
  },
  {
   "cell_type": "code",
   "execution_count": 6,
   "id": "aa1ff246",
   "metadata": {
    "tags": [
     "raises-exception"
    ]
   },
   "outputs": [
    {
     "ename": "KeyError",
     "evalue": "5",
     "output_type": "error",
     "traceback": [
      "\u001b[0;31m---------------------------------------------------------------------------\u001b[0m",
      "\u001b[0;31mKeyError\u001b[0m                                  Traceback (most recent call last)",
      "File \u001b[0;32m/opt/hostedtoolcache/Python/3.9.12/x64/lib/python3.9/site-packages/pandas/core/indexes/base.py:3621\u001b[0m, in \u001b[0;36mIndex.get_loc\u001b[0;34m(self, key, method, tolerance)\u001b[0m\n\u001b[1;32m   3620\u001b[0m \u001b[38;5;28;01mtry\u001b[39;00m:\n\u001b[0;32m-> 3621\u001b[0m     \u001b[38;5;28;01mreturn\u001b[39;00m \u001b[38;5;28;43mself\u001b[39;49m\u001b[38;5;241;43m.\u001b[39;49m\u001b[43m_engine\u001b[49m\u001b[38;5;241;43m.\u001b[39;49m\u001b[43mget_loc\u001b[49m\u001b[43m(\u001b[49m\u001b[43mcasted_key\u001b[49m\u001b[43m)\u001b[49m\n\u001b[1;32m   3622\u001b[0m \u001b[38;5;28;01mexcept\u001b[39;00m \u001b[38;5;167;01mKeyError\u001b[39;00m \u001b[38;5;28;01mas\u001b[39;00m err:\n",
      "File \u001b[0;32m/opt/hostedtoolcache/Python/3.9.12/x64/lib/python3.9/site-packages/pandas/_libs/index.pyx:136\u001b[0m, in \u001b[0;36mpandas._libs.index.IndexEngine.get_loc\u001b[0;34m()\u001b[0m\n",
      "File \u001b[0;32m/opt/hostedtoolcache/Python/3.9.12/x64/lib/python3.9/site-packages/pandas/_libs/index.pyx:163\u001b[0m, in \u001b[0;36mpandas._libs.index.IndexEngine.get_loc\u001b[0;34m()\u001b[0m\n",
      "File \u001b[0;32mpandas/_libs/hashtable_class_helper.pxi:5198\u001b[0m, in \u001b[0;36mpandas._libs.hashtable.PyObjectHashTable.get_item\u001b[0;34m()\u001b[0m\n",
      "File \u001b[0;32mpandas/_libs/hashtable_class_helper.pxi:5206\u001b[0m, in \u001b[0;36mpandas._libs.hashtable.PyObjectHashTable.get_item\u001b[0;34m()\u001b[0m\n",
      "\u001b[0;31mKeyError\u001b[0m: 5",
      "\nThe above exception was the direct cause of the following exception:\n",
      "\u001b[0;31mKeyError\u001b[0m                                  Traceback (most recent call last)",
      "Input \u001b[0;32mIn [6]\u001b[0m, in \u001b[0;36m<cell line: 1>\u001b[0;34m()\u001b[0m\n\u001b[0;32m----> 1\u001b[0m \u001b[43mdf\u001b[49m\u001b[43m[\u001b[49m\u001b[38;5;241;43m5\u001b[39;49m\u001b[43m]\u001b[49m\n",
      "File \u001b[0;32m/opt/hostedtoolcache/Python/3.9.12/x64/lib/python3.9/site-packages/pandas/core/frame.py:3505\u001b[0m, in \u001b[0;36mDataFrame.__getitem__\u001b[0;34m(self, key)\u001b[0m\n\u001b[1;32m   3503\u001b[0m \u001b[38;5;28;01mif\u001b[39;00m \u001b[38;5;28mself\u001b[39m\u001b[38;5;241m.\u001b[39mcolumns\u001b[38;5;241m.\u001b[39mnlevels \u001b[38;5;241m>\u001b[39m \u001b[38;5;241m1\u001b[39m:\n\u001b[1;32m   3504\u001b[0m     \u001b[38;5;28;01mreturn\u001b[39;00m \u001b[38;5;28mself\u001b[39m\u001b[38;5;241m.\u001b[39m_getitem_multilevel(key)\n\u001b[0;32m-> 3505\u001b[0m indexer \u001b[38;5;241m=\u001b[39m \u001b[38;5;28;43mself\u001b[39;49m\u001b[38;5;241;43m.\u001b[39;49m\u001b[43mcolumns\u001b[49m\u001b[38;5;241;43m.\u001b[39;49m\u001b[43mget_loc\u001b[49m\u001b[43m(\u001b[49m\u001b[43mkey\u001b[49m\u001b[43m)\u001b[49m\n\u001b[1;32m   3506\u001b[0m \u001b[38;5;28;01mif\u001b[39;00m is_integer(indexer):\n\u001b[1;32m   3507\u001b[0m     indexer \u001b[38;5;241m=\u001b[39m [indexer]\n",
      "File \u001b[0;32m/opt/hostedtoolcache/Python/3.9.12/x64/lib/python3.9/site-packages/pandas/core/indexes/base.py:3623\u001b[0m, in \u001b[0;36mIndex.get_loc\u001b[0;34m(self, key, method, tolerance)\u001b[0m\n\u001b[1;32m   3621\u001b[0m     \u001b[38;5;28;01mreturn\u001b[39;00m \u001b[38;5;28mself\u001b[39m\u001b[38;5;241m.\u001b[39m_engine\u001b[38;5;241m.\u001b[39mget_loc(casted_key)\n\u001b[1;32m   3622\u001b[0m \u001b[38;5;28;01mexcept\u001b[39;00m \u001b[38;5;167;01mKeyError\u001b[39;00m \u001b[38;5;28;01mas\u001b[39;00m err:\n\u001b[0;32m-> 3623\u001b[0m     \u001b[38;5;28;01mraise\u001b[39;00m \u001b[38;5;167;01mKeyError\u001b[39;00m(key) \u001b[38;5;28;01mfrom\u001b[39;00m \u001b[38;5;21;01merr\u001b[39;00m\n\u001b[1;32m   3624\u001b[0m \u001b[38;5;28;01mexcept\u001b[39;00m \u001b[38;5;167;01mTypeError\u001b[39;00m:\n\u001b[1;32m   3625\u001b[0m     \u001b[38;5;66;03m# If we have a listlike key, _check_indexing_error will raise\u001b[39;00m\n\u001b[1;32m   3626\u001b[0m     \u001b[38;5;66;03m#  InvalidIndexError. Otherwise we fall through and re-raise\u001b[39;00m\n\u001b[1;32m   3627\u001b[0m     \u001b[38;5;66;03m#  the TypeError.\u001b[39;00m\n\u001b[1;32m   3628\u001b[0m     \u001b[38;5;28mself\u001b[39m\u001b[38;5;241m.\u001b[39m_check_indexing_error(key)\n",
      "\u001b[0;31mKeyError\u001b[0m: 5"
     ]
    }
   ],
   "source": [
    "df[5]"
   ]
  },
  {
   "cell_type": "markdown",
   "id": "445ecc9f",
   "metadata": {},
   "source": [
    "as this tries to access a row, not a column.\n",
    "\n",
    "\n",
    "### Attribute Access\n",
    "\n",
    "Similarly, we can access a column from a DataFrame and an item from a Series using as an attribute.\n",
    "However, we can't do this when the label is not a valid identifier. We can't do `s.2`."
   ]
  },
  {
   "cell_type": "code",
   "execution_count": 7,
   "id": "a908ea2e",
   "metadata": {
    "tags": [
     "raises-exception"
    ]
   },
   "outputs": [
    {
     "data": {
      "text/plain": [
       "3     0.389832\n",
       "4     1.308661\n",
       "5    -1.230448\n",
       "6     0.036391\n",
       "7    -0.564531\n",
       "8     1.107985\n",
       "9     1.222333\n",
       "10   -0.597655\n",
       "11    1.072705\n",
       "12    0.467075\n",
       "Name: random_A, dtype: float64"
      ]
     },
     "metadata": {},
     "output_type": "display_data"
    }
   ],
   "source": [
    "# Using attribute access\n",
    "display(df.random_A)"
   ]
  },
  {
   "cell_type": "code",
   "execution_count": 8,
   "id": "a07ee895",
   "metadata": {
    "tags": [
     "raises-exception"
    ]
   },
   "outputs": [
    {
     "ename": "SyntaxError",
     "evalue": "invalid syntax (1489195916.py, line 2)",
     "output_type": "error",
     "traceback": [
      "\u001b[0;36m  Input \u001b[0;32mIn [8]\u001b[0;36m\u001b[0m\n\u001b[0;31m    display(s.2)\u001b[0m\n\u001b[0m             ^\u001b[0m\n\u001b[0;31mSyntaxError\u001b[0m\u001b[0;31m:\u001b[0m invalid syntax\n"
     ]
    }
   ],
   "source": [
    "# and for a Series, this will break\n",
    "display(s.2)"
   ]
  },
  {
   "cell_type": "markdown",
   "id": "1fe8335c",
   "metadata": {},
   "source": [
    "### `.loc`\n",
    "\n",
    "`.loc` provides label-based indexing. `.loc` can also be used for slicing and we can even provide a `callable` as its input!\n",
    "However, here we'll just show single item access."
   ]
  },
  {
   "cell_type": "code",
   "execution_count": 9,
   "id": "748619aa",
   "metadata": {},
   "outputs": [
    {
     "data": {
      "text/plain": [
       "random_A   -1.230448\n",
       "random_B   -1.503831\n",
       "Name: 5, dtype: float64"
      ]
     },
     "metadata": {},
     "output_type": "display_data"
    },
    {
     "data": {
      "text/plain": [
       "1"
      ]
     },
     "metadata": {},
     "output_type": "display_data"
    }
   ],
   "source": [
    "# for DataFrame\n",
    "display(df.loc[5])\n",
    "\n",
    "# and for a Series\n",
    "display(s.loc[2])"
   ]
  },
  {
   "cell_type": "markdown",
   "id": "05dc6c55",
   "metadata": {},
   "source": [
    "### `.iloc`\n",
    "\n",
    "`.iloc` provides integer-based indexing. This closely resembles Python and NumPy slicing. Again, we'll just show single item access."
   ]
  },
  {
   "cell_type": "code",
   "execution_count": 10,
   "id": "9deb39e2",
   "metadata": {},
   "outputs": [
    {
     "data": {
      "text/plain": [
       "random_A    1.107985\n",
       "random_B   -0.307726\n",
       "Name: 8, dtype: float64"
      ]
     },
     "metadata": {},
     "output_type": "display_data"
    },
    {
     "data": {
      "text/plain": [
       "1"
      ]
     },
     "metadata": {},
     "output_type": "display_data"
    }
   ],
   "source": [
    "# for DataFrame\n",
    "display(df.iloc[5])\n",
    "\n",
    "# and for a Series\n",
    "display(s.iloc[2])"
   ]
  }
 ],
 "metadata": {
  "jupytext": {
   "cell_metadata_filter": "-all",
   "formats": "md:myst",
   "text_representation": {
    "extension": ".md",
    "format_name": "myst",
    "format_version": 0.13,
    "jupytext_version": "1.10.3"
   }
  },
  "kernelspec": {
   "display_name": "Python 3 (ipykernel)",
   "language": "python",
   "name": "python3"
  },
  "language_info": {
   "codemirror_mode": {
    "name": "ipython",
    "version": 3
   },
   "file_extension": ".py",
   "mimetype": "text/x-python",
   "name": "python",
   "nbconvert_exporter": "python",
   "pygments_lexer": "ipython3",
   "version": "3.9.12"
  },
  "source_map": [
   14,
   24,
   26,
   33,
   36,
   40,
   44,
   50,
   56,
   71,
   91,
   95,
   98,
   108,
   114,
   118,
   125,
   131,
   137
  ]
 },
 "nbformat": 4,
 "nbformat_minor": 5
}