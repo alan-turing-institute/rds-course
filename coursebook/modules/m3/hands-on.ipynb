{
 "cells": [
  {
   "cell_type": "markdown",
   "metadata": {
    "pycharm": {
     "name": "#%% md\n"
    }
   },
   "source": [
    "## Hands-on Session\n",
    "\n",
    "Practice building figures.\n",
    "\n",
    "Explore the world in data dataset. You are free to use the full dataset (`df`), which has entries for many dates, or the aggregated dataset which only have the totals (`df_totals`).\n",
    "\n",
    "- Look at the variables (`print(df.columns)`)\n",
    "- Decide what relationship (s) you want to assess\n",
    "- Use a lineplot `sns.lineplot` or a scatter plot `sns.scatterplot` to visualise your relationship (see also `sns.relplot`).\n",
    "    - feel free to try other plots if you have spare time (see [seaborn tutorials](https://seaborn.pydata.org/tutorial.html)), but we will be covering a wider variety of plots in the next section.\n",
    "- Choose which variables you want on the x and y axes. If needed, incorporate colour, size, or alpha.\n",
    "- Change the axes labels and title.\n",
    "- Ask yourself:\n",
    "    - are the scales and limits appropriate?\n",
    "    - are there any improvements to make for clarity?\n",
    "    - are there any points of confusion?\n",
    "\n",
    "Work in groups of 4. Allocate yourself a 'driver' (someone to code, though this does not preclude others following along). If you make multiple plots you can rotate drivers.\n",
    "\n",
    "\n",
    "\n",
    "\n"
   ]
  }
 ],
 "metadata": {
  "interpreter": {
   "hash": "4c2e28f5e7597c8416e7a1613a3ba960df91b5fe1e29409b26c5fd05fd6a01e9"
  },
  "kernelspec": {
   "display_name": "Python 3.9.6 64-bit ('hotp': conda)",
   "name": "python3"
  },
  "language_info": {
   "name": "python",
   "version": ""
  },
  "widgets": {
   "application/vnd.jupyter.widget-state+json": {
    "state": {},
    "version_major": 2,
    "version_minor": 0
   }
  }
 },
 "nbformat": 4,
 "nbformat_minor": 4
}