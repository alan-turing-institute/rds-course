{
 "cells": [
  {
   "cell_type": "markdown",
   "metadata": {
    "pycharm": {
     "name": "#%% md\n"
    }
   },
   "source": [
    "# Module 3: hands-on session\n",
    "\n",
    "## Description\n",
    "\n",
    "In this hands-on session participants are divided in groups of 4 o 5 participants and paired with a helper. Each group\n",
    "should choose one of the proposed tasks (or propose a new one if keen!) and work together on it. At the end of the\n",
    "session the students will present their work to the class.\n",
    "\n",
    "The timeline for this session is the following:\n",
    "\n",
    "- Phase 1: Presentation of tasks and goals of the hands-on session (15 minutes)\n",
    "- Phase 2: Groups are formed and students choose task to develop (15 minutes)\n",
    "- Phase 3: Work on the tasks (2.5 hours + with two 15 m break)\n",
    "- Phase 4: Students presenting their findings and discussion (1 hour)\n",
    "\n",
    "Students are encouraged to use code developed in the hands-on session for module 2 and/or the data exploration notebook in\n",
    " _Section 3.5_. They can use data from the UK or choose another country. Presentations should last between 5 and 10 minutes.\n",
    "\n",
    "\n",
    "## Proposed tasks\n",
    "\n",
    "1. **Use data visualisation to further explore relationship between variables**: In _Section 3.5_ we did a initial exploration of the relationship between variables\n",
    "focusing particularly on deprivation index and accommodation and the self-reported health. Since our research question, and the\n",
    " modeling tasks that we will develop in Module 4 it is imperative to further understand the relationship between these and other psychosocial variables\n",
    " with the self-reported health and each other. For example:\n",
    "\n",
    "    - Education variables (`ISCED` or `Education`)\n",
    "    - Mental well-being variables (`MentalWellbeingIndex`)\n",
    "    - Any other psychosocial you find interesting.\n",
    "\n",
    "Think of ways of visualising these relationships that would  convince a PI (and yourself!) and a given variable should be part of the model.\n",
    "\n",
    "2. **Use data visualisation to explore data missingness**: In _Section 3.5_ we looked at the missingness of some variables superficially, and for simplicity\n",
    "we decided to drop rows with missing values. This is a dangerous approach, particularly if we have data that is not missing completely at random. For example,\n",
    "if for some unknown factor people living in the most deprived areas are less likely to answer to some survey question that group would end up being underrepresented in our dataset. In this task you\n",
    "are invited to :\n",
    "\n",
    "    1. Further explore the missingness in our variables of interest for Module 4 (`AgeCategory`,`DeprIndex`,`ISCED`,`Children`,`MentalWellbeingIndex`,`AccomProblems`,`SRH`) and advice if\n",
    "    it was a sensible approach to drop the rows as done in _Section 3.5_.\n",
    "    2. Explore other methods of dealing with missing data, such as imputation or prediction of the missing values (some of these are mentioned in Module 2).\n",
    "\n",
    "3. **Be a data journalist for a day**: After doing some exploration on the dataset use data visualisation to tell a story\n",
    "from the data. You are free to decide which story you want to tell!\n"
   ]
  }
 ],
 "metadata": {
  "interpreter": {
   "hash": "4c2e28f5e7597c8416e7a1613a3ba960df91b5fe1e29409b26c5fd05fd6a01e9"
  },
  "kernelspec": {
   "display_name": "Python 3",
   "language": "python",
   "name": "python3"
  },
  "language_info": {
   "codemirror_mode": {
    "name": "ipython",
    "version": 3
   },
   "file_extension": ".py",
   "mimetype": "text/x-python",
   "name": "python",
   "nbconvert_exporter": "python",
   "pygments_lexer": "ipython3",
   "version": "3.7.10"
  },
  "widgets": {
   "application/vnd.jupyter.widget-state+json": {
    "state": {},
    "version_major": 2,
    "version_minor": 0
   }
  }
 },
 "nbformat": 4,
 "nbformat_minor": 4
}