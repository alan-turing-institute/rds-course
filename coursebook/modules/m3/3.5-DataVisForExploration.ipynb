{
 "cells": [
  {
   "cell_type": "markdown",
   "id": "4027e31f",
   "metadata": {},
   "source": [
    "# Variable Selection and Exploration\n",
    "\n",
    "A reminder of the Research question from [this issue](https://github.com/alan-turing-institute/rds-course/issues/15):\n",
    "\n",
    "> We want to investigate the contribution of material, occupational, and psychosocial factors on the self reported health (SRH) across different European countries. We will use SRH information collected by the Wave 2 and 3 of the EQLTS survey, aware that they offer only a partial representation of European populations and that SRH is per-se a highly subjective indicator, difficult to compare across countries.\n",
    "\n",
    "Drawing from Christina's notebooks `Data_description` and `Handling_data`, we will use only the third wave data, `eql_2011.csv`. \n",
    "\n",
    "\n",
    "## Preliminary notes \n",
    "\n",
    "As mentioned in `Handling_data`, access the data by downloading the `csv` option from [here](https://beta.ukdataservice.ac.uk/datacatalogue/studies/study?id=7724#!/details). I will repeat some of the information Christina had so that we don't need to refer to two notebooks. \n",
    "\n",
    "You would have downloaded a folder with the following directory structure. Here I have only listed the files which we will use:\n",
    "\n",
    "```\n",
    "- UKDA-7724-csv\n",
    "    - csv # here is the data\n",
    "        - eqls_2011.csv\n",
    "    - mrdoc #here is additional info\n",
    "        - allissue #data dictionaries\n",
    "        - excel\n",
    "            - eqls_api_map.csv # description of what the column names mean\n",
    "            - eqls_concordance_grid.xlxs #described which variables were included in which waves. and the mapping between waves\n",
    "        - pdf # user guide\n",
    "        - UKDA #study info\n",
    "```\n",
    "\n",
    "Create a folder `data` in the same root as this notebook. Copy the folder `UKDA-7724-csv` and its contents there. \n",
    "\n",
    "### Notes from the [User Guide](http://doc.ukdataservice.ac.uk/doc/7724/mrdoc/pdf/7724_eqls_2007-2011_user_guide_v2.pdf)\n",
    "\n",
    "- In the data set there are 195 variables but some were not included in wave 3 - `eqls_concordance_grid.xlsx` states which. \n",
    "- Variables are grouped into primary and secondary topics. They are _also_ grouped into variable groupings. These differ slightly from the topics. The topics are an attempt to succinctly describe the semantic domain of each variable. The variable groupings are slightly overlapping with these topics (e.g Health crops up twice), but also includes indicators such as 'Derived Variables', which clearly is a technical grouping rather than a topic. \n",
    "- Derived variables \"group numeric responses of other related variables or to collapse groupings of related categorical variables into fewer categories\". The derived variables are potentially useful, since they aim to:\n",
    "    - enhance the data quality by aggregating the responses into more usable and consistent format across both waves of the Survey\n",
    "    - provide a clearer structure of datasets by reducing the number of variables\n",
    "    - ensure confidentiality and anonymity of personal information and all respondents\n",
    "- **Update**. The derived variables are not necessarily the most important questions, they simply occur when the are many related questions that can be aggregated.\n",
    "    \n",
    "### aside from Aldabe et al.\n",
    "\n",
    "A quick recap on the paper. Aldabe et al., 2011 uses the following variables:\n",
    "- Occupation and Education level for SES.\n",
    "- Self-reported health.\n",
    "- The main model was SES and age predicting SRH (age was included to control for it). \n",
    "- Additional models were tested that included a rather large list of _material_, _occupational_ and _psychosocial_ variables to test if they mediate the relationship. See Table 1 in the paper.\n",
    "- The majority of responses were in \"good\" health (81.14% of men; 76.91% of woman). \n",
    "\n",
    "\n",
    "Since the derived variables were made specifically to make the dataset easier to use let's have a look at these derived variables and see how they map onto _material_, _occupational_, and _psychosocial_ factors.\n",
    "\n",
    "In general, I am looking for predictors that are general (some of the questions are quite specific). There is nothing against adding to the list that I've produced.\n",
    "\n"
   ]
  },
  {
   "cell_type": "code",
   "execution_count": 1,
   "id": "376adf6a",
   "metadata": {},
   "outputs": [],
   "source": [
    "import pandas as pd\n",
    "import seaborn as sns\n",
    "import matplotlib.pyplot as plt\n",
    "import numpy as np\n",
    " \n",
    "plt.style.use('seaborn')\n",
    "sns.set_theme(style=\"whitegrid\")\n",
    "sns.set_style(\"white\")"
   ]
  },
  {
   "cell_type": "code",
   "execution_count": 2,
   "id": "e9297d8c",
   "metadata": {},
   "outputs": [],
   "source": [
    "datafolder = './data/UKDA-7724-csv/'\n",
    "df11 = pd.read_csv(datafolder + 'csv/eqls_2011.csv')\n",
    "df_map = pd.read_csv(datafolder + 'mrdoc/excel/eqls_api_map.csv', encoding='latin1')\n",
    "df11 = df11.query('Y11_Country == 27')"
   ]
  },
  {
   "cell_type": "code",
   "execution_count": 3,
   "id": "587196a7",
   "metadata": {},
   "outputs": [
    {
     "name": "stdout",
     "output_type": "stream",
     "text": [
      "['Economics - Income, property and investment', 'Education - Higher and further', 'Education - general', 'Employment and labour - General', 'Employment and labour \\x96 General', 'Environment, conservation and land use - Land use and planning', 'Geographies', 'Health - General', 'Health - Health services and medical ', 'Health - Specific diseases and medical conditions', 'Housing', 'Politics - Political behaviour and attitudes', 'Social stratification and groupings - Family life and marriage', 'Social stratification and groupings - General', 'Society and culture - Social attitudes and behaviour', 'Society and culture - Social indicators and quality of life', 'Transport']\n"
     ]
    }
   ],
   "source": [
    "# all topics\n",
    "topics = df_map.TopicValue.unique()\n",
    "topics = [t for t in topics if type(t)==str]\n",
    "print(sorted(topics))"
   ]
  },
  {
   "cell_type": "code",
   "execution_count": 4,
   "id": "32c497a2",
   "metadata": {},
   "outputs": [
    {
     "data": {
      "text/html": [
       "<div>\n",
       "<style scoped>\n",
       "    .dataframe tbody tr th:only-of-type {\n",
       "        vertical-align: middle;\n",
       "    }\n",
       "\n",
       "    .dataframe tbody tr th {\n",
       "        vertical-align: top;\n",
       "    }\n",
       "\n",
       "    .dataframe thead th {\n",
       "        text-align: right;\n",
       "    }\n",
       "</style>\n",
       "<table border=\"1\" class=\"dataframe\">\n",
       "  <thead>\n",
       "    <tr style=\"text-align: right;\">\n",
       "      <th></th>\n",
       "      <th>VariableName</th>\n",
       "      <th>VariableLabel</th>\n",
       "      <th>TopicValue</th>\n",
       "    </tr>\n",
       "  </thead>\n",
       "  <tbody>\n",
       "    <tr>\n",
       "      <th>138</th>\n",
       "      <td>Y11_Deprindex</td>\n",
       "      <td>Deprivation index: No. of items hhold can't af...</td>\n",
       "      <td>Economics - Income, property and investment</td>\n",
       "    </tr>\n",
       "    <tr>\n",
       "      <th>186</th>\n",
       "      <td>DV_Q7</td>\n",
       "      <td>DV: Total number of working hours</td>\n",
       "      <td>Employment and labour - General</td>\n",
       "    </tr>\n",
       "    <tr>\n",
       "      <th>193</th>\n",
       "      <td>DV_Q8</td>\n",
       "      <td>DV: Preferred working hours (3 groups)</td>\n",
       "      <td>Employment and labour - General</td>\n",
       "    </tr>\n",
       "    <tr>\n",
       "      <th>194</th>\n",
       "      <td>DV_Q10</td>\n",
       "      <td>DV: Preferred working hours of respondent's pa...</td>\n",
       "      <td>Employment and labour - General</td>\n",
       "    </tr>\n",
       "    <tr>\n",
       "      <th>19</th>\n",
       "      <td>Y11_RuralUrban</td>\n",
       "      <td>DV: Rural/urban living</td>\n",
       "      <td>Environment, conservation and land use - Land ...</td>\n",
       "    </tr>\n",
       "    <tr>\n",
       "      <th>188</th>\n",
       "      <td>DV_Q43Q44</td>\n",
       "      <td>DV: Any limiting/not limiting chronic health p...</td>\n",
       "      <td>Health - Specific diseases and medical conditions</td>\n",
       "    </tr>\n",
       "    <tr>\n",
       "      <th>53</th>\n",
       "      <td>Y11_Accommproblems</td>\n",
       "      <td>No. of problems with accommodation</td>\n",
       "      <td>Housing</td>\n",
       "    </tr>\n",
       "    <tr>\n",
       "      <th>187</th>\n",
       "      <td>DV_Q67</td>\n",
       "      <td>DV: Citizenship</td>\n",
       "      <td>Social stratification and groupings - General</td>\n",
       "    </tr>\n",
       "    <tr>\n",
       "      <th>122</th>\n",
       "      <td>Y11_SocExIndex</td>\n",
       "      <td>Social Exclusion Index</td>\n",
       "      <td>Society and culture - Social attitudes and beh...</td>\n",
       "    </tr>\n",
       "    <tr>\n",
       "      <th>123</th>\n",
       "      <td>Y11_Volunteering</td>\n",
       "      <td>Volunteering frequency</td>\n",
       "      <td>Society and culture - Social attitudes and beh...</td>\n",
       "    </tr>\n",
       "    <tr>\n",
       "      <th>189</th>\n",
       "      <td>DV_Q54a</td>\n",
       "      <td>DV: Anyone used/would have like to use child c...</td>\n",
       "      <td>Society and culture - Social attitudes and beh...</td>\n",
       "    </tr>\n",
       "    <tr>\n",
       "      <th>190</th>\n",
       "      <td>DV_Q54b</td>\n",
       "      <td>DV: Anyone used/would have like to use long te...</td>\n",
       "      <td>Society and culture - Social attitudes and beh...</td>\n",
       "    </tr>\n",
       "    <tr>\n",
       "      <th>191</th>\n",
       "      <td>DV_Q55</td>\n",
       "      <td>DV: No. of factors which made it difficult to ...</td>\n",
       "      <td>Society and culture - Social attitudes and beh...</td>\n",
       "    </tr>\n",
       "    <tr>\n",
       "      <th>192</th>\n",
       "      <td>DV_Q56</td>\n",
       "      <td>DV: No. of factors which made it difficult to ...</td>\n",
       "      <td>Society and culture - Social attitudes and beh...</td>\n",
       "    </tr>\n",
       "    <tr>\n",
       "      <th>161</th>\n",
       "      <td>Y11_MWIndex</td>\n",
       "      <td>WHO-5 mental wellbeing index</td>\n",
       "      <td>Society and culture - Social indicators and qu...</td>\n",
       "    </tr>\n",
       "    <tr>\n",
       "      <th>183</th>\n",
       "      <td>Y11_Strainbasedconflict</td>\n",
       "      <td>Work-life balance conflict?</td>\n",
       "      <td>Society and culture - Social indicators and qu...</td>\n",
       "    </tr>\n",
       "  </tbody>\n",
       "</table>\n",
       "</div>"
      ],
      "text/plain": [
       "                VariableName  \\\n",
       "138            Y11_Deprindex   \n",
       "186                    DV_Q7   \n",
       "193                    DV_Q8   \n",
       "194                   DV_Q10   \n",
       "19            Y11_RuralUrban   \n",
       "188                DV_Q43Q44   \n",
       "53        Y11_Accommproblems   \n",
       "187                   DV_Q67   \n",
       "122           Y11_SocExIndex   \n",
       "123         Y11_Volunteering   \n",
       "189                  DV_Q54a   \n",
       "190                  DV_Q54b   \n",
       "191                   DV_Q55   \n",
       "192                   DV_Q56   \n",
       "161              Y11_MWIndex   \n",
       "183  Y11_Strainbasedconflict   \n",
       "\n",
       "                                         VariableLabel  \\\n",
       "138  Deprivation index: No. of items hhold can't af...   \n",
       "186                  DV: Total number of working hours   \n",
       "193             DV: Preferred working hours (3 groups)   \n",
       "194  DV: Preferred working hours of respondent's pa...   \n",
       "19                              DV: Rural/urban living   \n",
       "188  DV: Any limiting/not limiting chronic health p...   \n",
       "53                  No. of problems with accommodation   \n",
       "187                                    DV: Citizenship   \n",
       "122                             Social Exclusion Index   \n",
       "123                             Volunteering frequency   \n",
       "189  DV: Anyone used/would have like to use child c...   \n",
       "190  DV: Anyone used/would have like to use long te...   \n",
       "191  DV: No. of factors which made it difficult to ...   \n",
       "192  DV: No. of factors which made it difficult to ...   \n",
       "161                       WHO-5 mental wellbeing index   \n",
       "183                        Work-life balance conflict?   \n",
       "\n",
       "                                            TopicValue  \n",
       "138        Economics - Income, property and investment  \n",
       "186                    Employment and labour - General  \n",
       "193                    Employment and labour - General  \n",
       "194                    Employment and labour - General  \n",
       "19   Environment, conservation and land use - Land ...  \n",
       "188  Health - Specific diseases and medical conditions  \n",
       "53                                             Housing  \n",
       "187      Social stratification and groupings - General  \n",
       "122  Society and culture - Social attitudes and beh...  \n",
       "123  Society and culture - Social attitudes and beh...  \n",
       "189  Society and culture - Social attitudes and beh...  \n",
       "190  Society and culture - Social attitudes and beh...  \n",
       "191  Society and culture - Social attitudes and beh...  \n",
       "192  Society and culture - Social attitudes and beh...  \n",
       "161  Society and culture - Social indicators and qu...  \n",
       "183  Society and culture - Social indicators and qu...  "
      ]
     },
     "execution_count": 4,
     "metadata": {},
     "output_type": "execute_result"
    }
   ],
   "source": [
    "# topics that the derived variables cover\n",
    "\n",
    "dvs = df_map.query('VariableGroupValue == \"Derived Variables\"')\n",
    "dvs[['VariableName','VariableLabel','TopicValue']].sort_values(by='TopicValue').head(n=len(dvs))"
   ]
  },
  {
   "cell_type": "markdown",
   "id": "40ed0584",
   "metadata": {},
   "source": [
    "We only have a subset of topics covered by our derived variables. \n",
    "\n",
    "Notice that there is health in there. Any variable under health should be treated as a candidate dependent measure rather than a predictor. These should correlate with SRH, but in a trivial manner. If we were to include these in the model then we would be assessing a person's ability to monitor their own health, which is not the RQ. From the data map, self-reported health is `Y11_Q42`. The derived health value indicating chronic health problems is `DV_Q43Q44`. We can see for from the plots below that as the chronic health variable increases in severity self-reported health gets worse."
   ]
  },
  {
   "cell_type": "code",
   "execution_count": 5,
   "id": "9c637237",
   "metadata": {},
   "outputs": [],
   "source": [
    "df11.rename(columns={\"DV_Q43Q44\": \"ChronicHealth\", \"Y11_Q42\": \"SRH\"}, inplace=True)"
   ]
  },
  {
   "cell_type": "code",
   "execution_count": 6,
   "id": "f4bd9b3c",
   "metadata": {},
   "outputs": [
    {
     "data": {
      "image/png": "[encoded data removed]",
      "text/plain": [
       "<Figure size 648x216 with 3 Axes>"
      ]
     },
     "metadata": {},
     "output_type": "display_data"
    },
    {
     "name": "stdout",
     "output_type": "stream",
     "text": [
      "               ChronicHealth       SRH\n",
      "ChronicHealth       1.000000 -0.607767\n",
      "SRH                -0.607767  1.000000\n"
     ]
    }
   ],
   "source": [
    "# https://seaborn.pydata.org/generated/seaborn.FacetGrid.html\n",
    "\n",
    "g = sns.FacetGrid(df11, col=\"ChronicHealth\", sharey=False)\n",
    "g.map_dataframe(sns.histplot, 'SRH')\n",
    "\n",
    "def plot_mean(data, **kws):\n",
    "    mn = np.nanmean(data.SRH.values)\n",
    "    ax = plt.gca()\n",
    "    ax.axvline(mn, c = (.6,.6,.6), ls ='--')\n",
    "    \n",
    "g.map_dataframe(plot_mean)\n",
    "g.set_axis_labels(\"SRH\", \"Count\")\n",
    "plt.show()\n",
    "\n",
    "print(df11[['ChronicHealth','SRH']].corr(method='spearman'))"
   ]
  },
  {
   "cell_type": "markdown",
   "id": "5871df6b",
   "metadata": {},
   "source": [
    "If we revisit the table above with some consideration we can sensibly group the derived variable topics as follows.\n",
    "\n",
    "- Material\n",
    "    - Economics - Income, property and investment\n",
    "    - Environment, conservation and land use - Land ...\n",
    "    - Housing\n",
    "- Occupational\n",
    "    - Employment and labour - General\n",
    "- Psychosocial\n",
    "    - Social stratification and groupings - General\n",
    "    - Society and culture - Social attitudes and beh...\n",
    "    \n",
    "    \n",
    "Let's have a closer look at these variables using `eqls_2011_ukda_data_dictionary.rtf`. I have also had a manual scan of `eqis_api_map` and included promising looking variables in the list below.\n",
    "\n",
    "\n",
    "\n",
    "#### Material Variables\n",
    "- `Y11_Deprindex`:  `Y11_Q59a` to `Y11_Q59f` ask the question 'Can house afford it if you want it?', with six examples (home heating, holiday, replacing goods, good food, new clothes, hosting friends). The responses are `1` (YES) or `2` (NO). The `Y11_Deprindex` is a count of the number of yes responses.\n",
    "- `Y11_RuralUrban`:\" This variable simply condenses a previous question from four categories into two - `1` (rural) or `2` (urban). Categorical. \n",
    "- `Y11_Accommproblems`: `Y11_Q19a` - `Y11_Q19f` asks a yes (1) or no (2) question about accomodation problems, with six examples. This variable is a count.\n",
    "- `Y11_HHsize`: Household size including children (overlaps with social). Ranges from 1-4 where 4 is 4 or more.\n",
    "- `Y11_Q32`: related to above, number of children. 5 = 5 or more.\n",
    "- `Y11_Incomequartiles_percapita` ranges from 1 (1st quartile) to 4 (4th quartile). \n",
    " \n",
    "#### Occupational Variables\n",
    "- `DV_Q7`: Count from a couple of working hours questions. Varies from 80-5. \n",
    "- `Y11_ISCEDsimple`: Education levels based on the International Standard Classification of Eductioan (ISCED). Ranges from 1-8. Confusing, 1-7 is from no to high education. 8 means N/A. \n",
    "- `Y11_Education`: related to above but less granular. 1-3 are primary -> tertiery. 4-6 are various catch answers. \n",
    "\n",
    "#### Pychosocial Variables\n",
    "- `Y11_SocExIndex`: average score from four social exclusion question measures on a 5 scale response (1 = strongly disagree, 5 = strongly agree). \n",
    "- `Y11_MWIndex`: There is a set of five questions where the respondents state degree of agreeement, measures on a six-point scale. The mental wellbeing scale converts therse to a value betweem 0 - 100. \n",
    "\n",
    "So, this gives us **11 variables**, with two pairs that are variations of each other. This is enough to play with.\n",
    " \n",
    "#### Other\n",
    "- Age (5 categories). `Y11_Agecategory`\n",
    "- Gender. `Y11_HH2a`\n",
    "- Marital Status. `Y11_Q31`. \n",
    "- Country. `Y11_Country`. \n",
    "\n",
    "To make the manipulation easier we select a subset of the data with only the variables we want.\n"
   ]
  },
  {
   "cell_type": "code",
   "execution_count": 7,
   "id": "fd4d2bd1",
   "metadata": {},
   "outputs": [
    {
     "data": {
      "text/html": [
       "<div>\n",
       "<style scoped>\n",
       "    .dataframe tbody tr th:only-of-type {\n",
       "        vertical-align: middle;\n",
       "    }\n",
       "\n",
       "    .dataframe tbody tr th {\n",
       "        vertical-align: top;\n",
       "    }\n",
       "\n",
       "    .dataframe thead th {\n",
       "        text-align: right;\n",
       "    }\n",
       "</style>\n",
       "<table border=\"1\" class=\"dataframe\">\n",
       "  <thead>\n",
       "    <tr style=\"text-align: right;\">\n",
       "      <th></th>\n",
       "      <th>SRH</th>\n",
       "      <th>DeprIndex</th>\n",
       "      <th>RuralUrban</th>\n",
       "      <th>AccomProblems</th>\n",
       "      <th>HouseholdSize</th>\n",
       "      <th>Children</th>\n",
       "      <th>IncomeQuartiles</th>\n",
       "      <th>WorkingHours</th>\n",
       "      <th>ISCED</th>\n",
       "      <th>Education</th>\n",
       "      <th>SocialExclusionIndex</th>\n",
       "      <th>MentalWellbeingIndex</th>\n",
       "      <th>AgeCategory</th>\n",
       "      <th>Gender</th>\n",
       "      <th>MaritalStatus</th>\n",
       "      <th>Country</th>\n",
       "    </tr>\n",
       "  </thead>\n",
       "  <tbody>\n",
       "    <tr>\n",
       "      <th>36</th>\n",
       "      <td>2.0</td>\n",
       "      <td>2.0</td>\n",
       "      <td>2.0</td>\n",
       "      <td>2.0</td>\n",
       "      <td>3</td>\n",
       "      <td>0.0</td>\n",
       "      <td>2.0</td>\n",
       "      <td>NaN</td>\n",
       "      <td>2.0</td>\n",
       "      <td>1</td>\n",
       "      <td>2.50</td>\n",
       "      <td>72.0</td>\n",
       "      <td>1</td>\n",
       "      <td>1</td>\n",
       "      <td>4.0</td>\n",
       "      <td>27</td>\n",
       "    </tr>\n",
       "    <tr>\n",
       "      <th>37</th>\n",
       "      <td>3.0</td>\n",
       "      <td>NaN</td>\n",
       "      <td>2.0</td>\n",
       "      <td>4.0</td>\n",
       "      <td>3</td>\n",
       "      <td>0.0</td>\n",
       "      <td>NaN</td>\n",
       "      <td>NaN</td>\n",
       "      <td>3.0</td>\n",
       "      <td>2</td>\n",
       "      <td>2.75</td>\n",
       "      <td>64.0</td>\n",
       "      <td>2</td>\n",
       "      <td>1</td>\n",
       "      <td>4.0</td>\n",
       "      <td>27</td>\n",
       "    </tr>\n",
       "    <tr>\n",
       "      <th>38</th>\n",
       "      <td>3.0</td>\n",
       "      <td>5.0</td>\n",
       "      <td>2.0</td>\n",
       "      <td>2.0</td>\n",
       "      <td>4</td>\n",
       "      <td>2.0</td>\n",
       "      <td>3.0</td>\n",
       "      <td>NaN</td>\n",
       "      <td>6.0</td>\n",
       "      <td>3</td>\n",
       "      <td>4.25</td>\n",
       "      <td>36.0</td>\n",
       "      <td>3</td>\n",
       "      <td>1</td>\n",
       "      <td>1.0</td>\n",
       "      <td>27</td>\n",
       "    </tr>\n",
       "    <tr>\n",
       "      <th>39</th>\n",
       "      <td>2.0</td>\n",
       "      <td>0.0</td>\n",
       "      <td>2.0</td>\n",
       "      <td>0.0</td>\n",
       "      <td>4</td>\n",
       "      <td>0.0</td>\n",
       "      <td>NaN</td>\n",
       "      <td>NaN</td>\n",
       "      <td>6.0</td>\n",
       "      <td>3</td>\n",
       "      <td>1.75</td>\n",
       "      <td>56.0</td>\n",
       "      <td>1</td>\n",
       "      <td>2</td>\n",
       "      <td>4.0</td>\n",
       "      <td>27</td>\n",
       "    </tr>\n",
       "    <tr>\n",
       "      <th>40</th>\n",
       "      <td>3.0</td>\n",
       "      <td>0.0</td>\n",
       "      <td>2.0</td>\n",
       "      <td>1.0</td>\n",
       "      <td>4</td>\n",
       "      <td>3.0</td>\n",
       "      <td>3.0</td>\n",
       "      <td>NaN</td>\n",
       "      <td>6.0</td>\n",
       "      <td>3</td>\n",
       "      <td>2.00</td>\n",
       "      <td>92.0</td>\n",
       "      <td>2</td>\n",
       "      <td>1</td>\n",
       "      <td>1.0</td>\n",
       "      <td>27</td>\n",
       "    </tr>\n",
       "  </tbody>\n",
       "</table>\n",
       "</div>"
      ],
      "text/plain": [
       "    SRH  DeprIndex  RuralUrban  AccomProblems  HouseholdSize  Children  \\\n",
       "36  2.0        2.0         2.0            2.0              3       0.0   \n",
       "37  3.0        NaN         2.0            4.0              3       0.0   \n",
       "38  3.0        5.0         2.0            2.0              4       2.0   \n",
       "39  2.0        0.0         2.0            0.0              4       0.0   \n",
       "40  3.0        0.0         2.0            1.0              4       3.0   \n",
       "\n",
       "    IncomeQuartiles  WorkingHours  ISCED  Education  SocialExclusionIndex  \\\n",
       "36              2.0           NaN    2.0          1                  2.50   \n",
       "37              NaN           NaN    3.0          2                  2.75   \n",
       "38              3.0           NaN    6.0          3                  4.25   \n",
       "39              NaN           NaN    6.0          3                  1.75   \n",
       "40              3.0           NaN    6.0          3                  2.00   \n",
       "\n",
       "    MentalWellbeingIndex  AgeCategory  Gender  MaritalStatus  Country  \n",
       "36                  72.0            1       1            4.0       27  \n",
       "37                  64.0            2       1            4.0       27  \n",
       "38                  36.0            3       1            1.0       27  \n",
       "39                  56.0            1       2            4.0       27  \n",
       "40                  92.0            2       1            1.0       27  "
      ]
     },
     "execution_count": 7,
     "metadata": {},
     "output_type": "execute_result"
    }
   ],
   "source": [
    "var_map = {\"Y11_Q42\": \"SRH\",\n",
    "           'Y11_Deprindex': 'DeprIndex',\n",
    "           \"Y11_RuralUrban\": \"RuralUrban\",\n",
    "           \"Y11_Accommproblems\": 'AccomProblems',\n",
    "           \"Y11_HHsize\": \"HouseholdSize\",\n",
    "           \"Y11_Q32\": \"Children\",\n",
    "           \"Y11_Incomequartiles_percapita\" : \"IncomeQuartiles\",\n",
    "           \"DV_Q7\":\"WorkingHours\",\n",
    "           \"Y11_ISCEDsimple\":\"ISCED\",\n",
    "           \"Y11_Education\": \"Education\",\n",
    "           \"Y11_SocExIndex\":\"SocialExclusionIndex\",\n",
    "           \"Y11_MWIndex\": \"MentalWellbeingIndex\",\n",
    "           \"Y11_Agecategory\":\"AgeCategory\",\n",
    "           \"Y11_HH2a\":\"Gender\",\n",
    "           \"Y11_Q31\":\"MaritalStatus\",\n",
    "           \"Y11_Country\":\"Country\"\n",
    "}\n",
    "\n",
    "df11.rename(columns=var_map, inplace=True)\n",
    "df11_set = df11[var_map.values()]\n",
    "df11_set.head()"
   ]
  },
  {
   "cell_type": "code",
   "execution_count": 8,
   "id": "5980dde3",
   "metadata": {},
   "outputs": [
    {
     "data": {
      "text/plain": [
       "<Figure size 2880x2880 with 0 Axes>"
      ]
     },
     "metadata": {},
     "output_type": "display_data"
    },
    {
     "data": {
      "image/png": "[encoded data removed]",
      "text/plain": [
       "<Figure size 516.35x360 with 1 Axes>"
      ]
     },
     "metadata": {},
     "output_type": "display_data"
    },
    {
     "name": "stdout",
     "output_type": "stream",
     "text": [
      "SRH                     0.000444\n",
      "DeprIndex               0.062611\n",
      "RuralUrban              0.005773\n",
      "AccomProblems           0.004440\n",
      "HouseholdSize           0.000000\n",
      "Children                0.001776\n",
      "IncomeQuartiles         0.247336\n",
      "WorkingHours            0.977798\n",
      "ISCED                   0.003996\n",
      "Education               0.000000\n",
      "SocialExclusionIndex    0.040853\n",
      "MentalWellbeingIndex    0.004885\n",
      "AgeCategory             0.000000\n",
      "Gender                  0.000000\n",
      "MaritalStatus           0.003108\n",
      "Country                 0.000000\n",
      "dtype: float64\n"
     ]
    }
   ],
   "source": [
    "# Following command shows missing/non-missing values in two colors.\n",
    "plt.figure(figsize=(40,40))\n",
    "sns.displot(\n",
    "    data=df11_set.isna().melt(value_name=\"missing\"),\n",
    "    y=\"variable\",\n",
    "    hue=\"missing\",\n",
    "    multiple=\"fill\",\n",
    "    aspect=1.25, \n",
    ")\n",
    "plt.show()\n",
    "# percentage of missing values and columns which have over 50% missingness\n",
    "eqls_null_counts = df11_set.isnull().sum() / len(df11_set)\n",
    "print(eqls_null_counts)"
   ]
  },
  {
   "cell_type": "markdown",
   "id": "03ef5198",
   "metadata": {},
   "source": [
    "Working Hours is mostly missing. It is derived from two variables, `Y11_Q7`, `Y11_Q7b` (a secondary job). I guess that if the person does not have a second job then the total working hours is given as nan. "
   ]
  },
  {
   "cell_type": "code",
   "execution_count": 9,
   "id": "8d46e8e8",
   "metadata": {},
   "outputs": [],
   "source": [
    "df_hours = df11[['WorkingHours','Y11_Q7','Y11_Q7b']]"
   ]
  },
  {
   "cell_type": "code",
   "execution_count": 10,
   "id": "eeeae583",
   "metadata": {},
   "outputs": [
    {
     "data": {
      "text/plain": [
       "<Figure size 2880x2880 with 0 Axes>"
      ]
     },
     "metadata": {},
     "output_type": "display_data"
    },
    {
     "data": {
      "image/png": "[encoded data removed]",
      "text/plain": [
       "<Figure size 516.35x360 with 1 Axes>"
      ]
     },
     "metadata": {},
     "output_type": "display_data"
    }
   ],
   "source": [
    "# Following command shows missing/non-missing values in two colors.\n",
    "plt.figure(figsize=(40,40))\n",
    "sns.displot(\n",
    "    data=df_hours.isna().melt(value_name=\"missing\"),\n",
    "    y=\"variable\",\n",
    "    hue=\"missing\",\n",
    "    multiple=\"fill\",\n",
    "    aspect=1.25, \n",
    ")\n",
    "plt.show()"
   ]
  },
  {
   "cell_type": "markdown",
   "id": "8b1d6537",
   "metadata": {},
   "source": [
    "Hmmm, only about 40% of respondents filled out the working hours for the first job. Probably best to not use it. \n",
    "\n",
    "**TODO: Imputation, then later compare models**\n",
    "\n",
    "Similarly, about 24% of people do not have an estimated `IncomeQuartiles`. Perhaps these are also unemployed? We could impute, but even sophisticated imputation methods (such as drawing from a distribution specified by the existing values) will introduce randomness (unwanted noise) into the relationships across variables. We could calculate the covariance matrix of the existing data and use that to impute. But similarly that will artificially enhance existing relationships and mean that you are more prone to overfitting. \n",
    "\n",
    "If I was a true researcher on this project I would try and uncover if there were any systemic reasons why some entries were missing. For example, is it the people that do not have jobs that don't have incomes? Or perhaps jobless respondants are classed as the first quartile income and it is something else? I would do this before any imputation methods are considered so that I could assess the extent to which my imputation method is distorting both the distribution of the `IncomeQuartiles` predictor _and_ the joint distribution of `IncomeQuartiles` and the other variables. \n",
    "\n",
    "As a sceptic of adding data just to make your regression work I would only select the data where `IncomeQuartiles` exists if I was to assess `IncomeQuartiles` as a variable.\n",
    "\n",
    "\n",
    "Let's compare `IncomeQuartiles` to `DeprIndex`. They both speak to finances and `DeprIndex` could be used as a replacement.\n",
    "\n",
    "From the below figure we can see that the distribution of `DeprIndex` shifts to the left as the income quartile increases, even though zero is the mode throughout. We have plotted it both ways round so better see the relationship. Though with such a small range of values a correlation is a little unreliable (and is pushed to lower values), we use spearman's rank correlation as a rough assessment of whether scoring higher on `IncomeQuartiles` means that one scores higher on the `DeprIndex`. You can see that the correlation `-.4`. This correlation will be dampened by the mode being zero on the `DeprIndex`. \n"
   ]
  },
  {
   "cell_type": "code",
   "execution_count": 11,
   "id": "afbf91f8",
   "metadata": {},
   "outputs": [
    {
     "data": {
      "image/png": "[encoded data removed]",
      "text/plain": [
       "<Figure size 864x216 with 4 Axes>"
      ]
     },
     "metadata": {},
     "output_type": "display_data"
    },
    {
     "data": {
      "image/png": "[encoded data removed]",
      "text/plain": [
       "<Figure size 1512x216 with 7 Axes>"
      ]
     },
     "metadata": {},
     "output_type": "display_data"
    },
    {
     "name": "stdout",
     "output_type": "stream",
     "text": [
      "                 IncomeQuartiles  DeprIndex\n",
      "IncomeQuartiles         1.000000  -0.441867\n",
      "DeprIndex              -0.441867   1.000000\n"
     ]
    }
   ],
   "source": [
    "# TODO: When we switched to using the UK dataset the bins in the histplot below were WEIRD!\n",
    "\n",
    "g = sns.FacetGrid(df11_set, col=\"IncomeQuartiles\", sharey=False)\n",
    "g.map_dataframe(sns.histplot, 'DeprIndex')\n",
    "\n",
    "    \n",
    "g.map_dataframe(plot_mean)\n",
    "g.set_axis_labels(\"Deprivation\", \"Count\")\n",
    "plt.show()\n",
    "\n",
    "g = sns.FacetGrid(df11_set, col=\"DeprIndex\", sharey=False)\n",
    "g.map_dataframe(sns.histplot, 'IncomeQuartiles')\n",
    "\n",
    "    \n",
    "g.map_dataframe(plot_mean)\n",
    "g.set_axis_labels(\"IncomeQuartiles\", \"Count\")\n",
    "plt.show()\n",
    "\n",
    "print(df11_set[['IncomeQuartiles','DeprIndex']].corr(method='spearman'))\n"
   ]
  },
  {
   "cell_type": "markdown",
   "id": "7508e67b",
   "metadata": {},
   "source": [
    "There is a low amount of data missing in the other variables, with the highest being `DeprIndex` at 7.6%. If we were to only include rows with a full set of data I expect the amount of data removed to be a little higher, but given that we have 43636 total rows I don't think this is much of an issue.\n"
   ]
  },
  {
   "cell_type": "code",
   "execution_count": 12,
   "id": "9a3dda13",
   "metadata": {},
   "outputs": [
    {
     "name": "stdout",
     "output_type": "stream",
     "text": [
      "Number of Rows: 1994\n",
      "Percentage excluded: 11.456483126110124%\n"
     ]
    }
   ],
   "source": [
    "pre_len = len(df11_set)\n",
    "df11_model = df11_set.drop(columns=['WorkingHours','IncomeQuartiles']).dropna()\n",
    "print(f\"Number of Rows: {len(df11_model)}\")\n",
    "print(f\"Percentage excluded: {((pre_len - len(df11_model)) / pre_len)*100}%\")"
   ]
  },
  {
   "cell_type": "markdown",
   "id": "0883b725",
   "metadata": {},
   "source": [
    "Let's have a look at the other variables.\n",
    "\n",
    "\n",
    "First we have a broad look at the rank correlations. We take these with a pinch of salt because we haven't examined the distributions of the variables, and some of the variables are categorical rather than ordinal/numeric so the rank has little meaning (e.g. RuralUrban). \n",
    "\n",
    "Some initial observations on the below correlation matrix:\n",
    "\n",
    "- Age correlates with a few variables. Especially SRH + Children\n",
    "- Lots of variables correlate with SRH.\n",
    "- DeprIndex, MentalWellbeing Index and Social Exclusion Index all correlate with one another.\n",
    "- DeprIndex correlates with quite a few varialbes (SRH, AccomProblems, Education). \n"
   ]
  },
  {
   "cell_type": "code",
   "execution_count": 13,
   "id": "f4464837",
   "metadata": {},
   "outputs": [
    {
     "data": {
      "image/png": "[encoded data removed]",
      "text/plain": [
       "<Figure size 576x396 with 2 Axes>"
      ]
     },
     "metadata": {},
     "output_type": "display_data"
    }
   ],
   "source": [
    "# to more easily to differences let's cap the correlation cmap\n",
    "sns.heatmap(abs(df11_model.corr(method='spearman')), vmax = .7)\n",
    "plt.show()"
   ]
  },
  {
   "cell_type": "markdown",
   "id": "d02ea72c",
   "metadata": {},
   "source": [
    "We know go through each loose grouping of _material_, _occupational_ and _psychosocial_ to assess the suitability of variables to include in our model.\n",
    "\n",
    "Now let's examine the extent to which the _material_ variables are getting at similar things.\n",
    "\n",
    "Some prelim thoughts:\n",
    "    - You would expect that has `DeprIndex` goes up `AccomProblems` will also go up since the persons cannot afford to remedy accomodation issues.\n",
    "    - `RuralUrban` only has two categories so doesn't lend itself to correlational analysis. Whether people are better off in the city or the country depends on many factors (and varies between country).\n",
    "    - You would expect `HouseholdSize` and `Children` to be similar because `Children` counts towards household size (but `HouseholdSize` stops at >=4)."
   ]
  },
  {
   "cell_type": "code",
   "execution_count": 14,
   "id": "12b5d854",
   "metadata": {},
   "outputs": [
    {
     "name": "stdout",
     "output_type": "stream",
     "text": [
      "               DeprIndex  RuralUrban  AccomProblems  HouseholdSize  Children\n",
      "DeprIndex       1.000000    0.069102       0.299058       0.007742  0.059301\n",
      "RuralUrban      0.069102    1.000000       0.074515       0.024669  0.005691\n",
      "AccomProblems   0.299058    0.074515       1.000000       0.147077 -0.015250\n",
      "HouseholdSize   0.007742    0.024669       0.147077       1.000000  0.176445\n",
      "Children        0.059301    0.005691      -0.015250       0.176445  1.000000\n"
     ]
    },
    {
     "data": {
      "image/png": "[encoded data removed]",
      "text/plain": [
       "<Figure size 576x396 with 2 Axes>"
      ]
     },
     "metadata": {},
     "output_type": "display_data"
    }
   ],
   "source": [
    "df_mat = df11_model[['DeprIndex','RuralUrban','AccomProblems','HouseholdSize','Children']]\n",
    "print(df_mat.corr(method='spearman'))\n",
    "\n",
    "df_mat=df_mat.groupby(by=['HouseholdSize','Children']).size().reset_index(name='counts')\n",
    "df_mat = df_mat.pivot(\"HouseholdSize\", \"Children\", \"counts\")\n",
    "\n",
    "sns.heatmap(df_mat, cmap=\"YlGnBu\")\n",
    "plt.show()"
   ]
  },
  {
   "cell_type": "markdown",
   "id": "7b3c00eb",
   "metadata": {},
   "source": [
    "`HouseholdSize` does not appear to monotonically increase with `Children`. Probably the mediation here is `Age`. One can live alone but have five children who each have their own households. "
   ]
  },
  {
   "cell_type": "code",
   "execution_count": 15,
   "id": "0e3930d4",
   "metadata": {},
   "outputs": [
    {
     "name": "stdout",
     "output_type": "stream",
     "text": [
      "AccomProblems    0.0    1.0   2.0   3.0  4.0  5.0  6.0\n",
      "DeprIndex                                             \n",
      "0.0            937.0  188.0  41.0  15.0  2.0  NaN  3.0\n",
      "1.0            145.0   49.0  17.0   7.0  1.0  NaN  3.0\n",
      "2.0            116.0   43.0  30.0   5.0  4.0  NaN  NaN\n",
      "3.0             66.0   43.0  25.0   6.0  NaN  NaN  NaN\n",
      "4.0             54.0   31.0  21.0   6.0  2.0  2.0  NaN\n",
      "5.0             28.0   22.0  12.0   7.0  5.0  1.0  NaN\n",
      "6.0             31.0   15.0   6.0   3.0  2.0  NaN  NaN\n"
     ]
    },
    {
     "data": {
      "image/png": "[encoded data removed]",
      "text/plain": [
       "<Figure size 576x396 with 2 Axes>"
      ]
     },
     "metadata": {},
     "output_type": "display_data"
    }
   ],
   "source": [
    "df_mat=df11_model[['DeprIndex','RuralUrban','AccomProblems','HouseholdSize','Children']].groupby(by=['DeprIndex','AccomProblems']).size().reset_index(name='counts')\n",
    "df_mat = df_mat.pivot(\"DeprIndex\", \"AccomProblems\", \"counts\")\n",
    "print(df_mat)\n",
    "# 0,0 will overwhelm the heatmap. Let's cap it.\n",
    "sns.heatmap(df_mat, cmap=\"YlGnBu\", vmax=300)\n",
    "plt.show()"
   ]
  },
  {
   "cell_type": "markdown",
   "id": "9d7289ae",
   "metadata": {},
   "source": [
    "There is a bias for zero accommodation problems but as deprivation increases the amount of accommodation problems tends to increase.\n",
    "\n",
    "\n",
    "One thing we haven't done so far is have a look at SRH. But before we do that let us reduce the dataset to the UK. This gives us 1994 entries."
   ]
  },
  {
   "cell_type": "code",
   "execution_count": 16,
   "id": "efe4644e",
   "metadata": {},
   "outputs": [
    {
     "data": {
      "text/html": [
       "<div>\n",
       "<style scoped>\n",
       "    .dataframe tbody tr th:only-of-type {\n",
       "        vertical-align: middle;\n",
       "    }\n",
       "\n",
       "    .dataframe tbody tr th {\n",
       "        vertical-align: top;\n",
       "    }\n",
       "\n",
       "    .dataframe thead th {\n",
       "        text-align: right;\n",
       "    }\n",
       "</style>\n",
       "<table border=\"1\" class=\"dataframe\">\n",
       "  <thead>\n",
       "    <tr style=\"text-align: right;\">\n",
       "      <th></th>\n",
       "      <th>SRH</th>\n",
       "      <th>DeprIndex</th>\n",
       "      <th>RuralUrban</th>\n",
       "      <th>AccomProblems</th>\n",
       "      <th>HouseholdSize</th>\n",
       "      <th>Children</th>\n",
       "      <th>ISCED</th>\n",
       "      <th>Education</th>\n",
       "      <th>SocialExclusionIndex</th>\n",
       "      <th>MentalWellbeingIndex</th>\n",
       "      <th>AgeCategory</th>\n",
       "      <th>Gender</th>\n",
       "      <th>MaritalStatus</th>\n",
       "      <th>Country</th>\n",
       "    </tr>\n",
       "  </thead>\n",
       "  <tbody>\n",
       "    <tr>\n",
       "      <th>count</th>\n",
       "      <td>1994.000000</td>\n",
       "      <td>1994.000000</td>\n",
       "      <td>1994.000000</td>\n",
       "      <td>1994.000000</td>\n",
       "      <td>1994.000000</td>\n",
       "      <td>1994.000000</td>\n",
       "      <td>1994.000000</td>\n",
       "      <td>1994.000000</td>\n",
       "      <td>1994.000000</td>\n",
       "      <td>1994.000000</td>\n",
       "      <td>1994.000000</td>\n",
       "      <td>1994.000000</td>\n",
       "      <td>1994.00000</td>\n",
       "      <td>1994.0</td>\n",
       "    </tr>\n",
       "    <tr>\n",
       "      <th>mean</th>\n",
       "      <td>2.258776</td>\n",
       "      <td>1.112839</td>\n",
       "      <td>1.533601</td>\n",
       "      <td>0.479940</td>\n",
       "      <td>2.247743</td>\n",
       "      <td>1.716650</td>\n",
       "      <td>4.052156</td>\n",
       "      <td>2.272818</td>\n",
       "      <td>2.311810</td>\n",
       "      <td>58.661986</td>\n",
       "      <td>3.527583</td>\n",
       "      <td>1.568706</td>\n",
       "      <td>1.89669</td>\n",
       "      <td>27.0</td>\n",
       "    </tr>\n",
       "    <tr>\n",
       "      <th>std</th>\n",
       "      <td>1.013821</td>\n",
       "      <td>1.674401</td>\n",
       "      <td>0.498995</td>\n",
       "      <td>0.875518</td>\n",
       "      <td>1.062430</td>\n",
       "      <td>1.306302</td>\n",
       "      <td>1.482897</td>\n",
       "      <td>0.557567</td>\n",
       "      <td>0.815467</td>\n",
       "      <td>22.050962</td>\n",
       "      <td>1.211457</td>\n",
       "      <td>0.495381</td>\n",
       "      <td>1.16495</td>\n",
       "      <td>0.0</td>\n",
       "    </tr>\n",
       "    <tr>\n",
       "      <th>min</th>\n",
       "      <td>1.000000</td>\n",
       "      <td>0.000000</td>\n",
       "      <td>1.000000</td>\n",
       "      <td>0.000000</td>\n",
       "      <td>1.000000</td>\n",
       "      <td>0.000000</td>\n",
       "      <td>1.000000</td>\n",
       "      <td>1.000000</td>\n",
       "      <td>1.000000</td>\n",
       "      <td>0.000000</td>\n",
       "      <td>1.000000</td>\n",
       "      <td>1.000000</td>\n",
       "      <td>1.00000</td>\n",
       "      <td>27.0</td>\n",
       "    </tr>\n",
       "    <tr>\n",
       "      <th>25%</th>\n",
       "      <td>1.000000</td>\n",
       "      <td>0.000000</td>\n",
       "      <td>1.000000</td>\n",
       "      <td>0.000000</td>\n",
       "      <td>1.000000</td>\n",
       "      <td>1.000000</td>\n",
       "      <td>3.000000</td>\n",
       "      <td>2.000000</td>\n",
       "      <td>1.750000</td>\n",
       "      <td>44.000000</td>\n",
       "      <td>3.000000</td>\n",
       "      <td>1.000000</td>\n",
       "      <td>1.00000</td>\n",
       "      <td>27.0</td>\n",
       "    </tr>\n",
       "    <tr>\n",
       "      <th>50%</th>\n",
       "      <td>2.000000</td>\n",
       "      <td>0.000000</td>\n",
       "      <td>2.000000</td>\n",
       "      <td>0.000000</td>\n",
       "      <td>2.000000</td>\n",
       "      <td>2.000000</td>\n",
       "      <td>3.000000</td>\n",
       "      <td>2.000000</td>\n",
       "      <td>2.250000</td>\n",
       "      <td>64.000000</td>\n",
       "      <td>4.000000</td>\n",
       "      <td>2.000000</td>\n",
       "      <td>1.00000</td>\n",
       "      <td>27.0</td>\n",
       "    </tr>\n",
       "    <tr>\n",
       "      <th>75%</th>\n",
       "      <td>3.000000</td>\n",
       "      <td>2.000000</td>\n",
       "      <td>2.000000</td>\n",
       "      <td>1.000000</td>\n",
       "      <td>3.000000</td>\n",
       "      <td>2.000000</td>\n",
       "      <td>6.000000</td>\n",
       "      <td>3.000000</td>\n",
       "      <td>2.750000</td>\n",
       "      <td>76.000000</td>\n",
       "      <td>5.000000</td>\n",
       "      <td>2.000000</td>\n",
       "      <td>3.00000</td>\n",
       "      <td>27.0</td>\n",
       "    </tr>\n",
       "    <tr>\n",
       "      <th>max</th>\n",
       "      <td>5.000000</td>\n",
       "      <td>6.000000</td>\n",
       "      <td>2.000000</td>\n",
       "      <td>6.000000</td>\n",
       "      <td>4.000000</td>\n",
       "      <td>5.000000</td>\n",
       "      <td>8.000000</td>\n",
       "      <td>4.000000</td>\n",
       "      <td>5.000000</td>\n",
       "      <td>100.000000</td>\n",
       "      <td>5.000000</td>\n",
       "      <td>2.000000</td>\n",
       "      <td>4.00000</td>\n",
       "      <td>27.0</td>\n",
       "    </tr>\n",
       "  </tbody>\n",
       "</table>\n",
       "</div>"
      ],
      "text/plain": [
       "               SRH    DeprIndex   RuralUrban  AccomProblems  HouseholdSize  \\\n",
       "count  1994.000000  1994.000000  1994.000000    1994.000000    1994.000000   \n",
       "mean      2.258776     1.112839     1.533601       0.479940       2.247743   \n",
       "std       1.013821     1.674401     0.498995       0.875518       1.062430   \n",
       "min       1.000000     0.000000     1.000000       0.000000       1.000000   \n",
       "25%       1.000000     0.000000     1.000000       0.000000       1.000000   \n",
       "50%       2.000000     0.000000     2.000000       0.000000       2.000000   \n",
       "75%       3.000000     2.000000     2.000000       1.000000       3.000000   \n",
       "max       5.000000     6.000000     2.000000       6.000000       4.000000   \n",
       "\n",
       "          Children        ISCED    Education  SocialExclusionIndex  \\\n",
       "count  1994.000000  1994.000000  1994.000000           1994.000000   \n",
       "mean      1.716650     4.052156     2.272818              2.311810   \n",
       "std       1.306302     1.482897     0.557567              0.815467   \n",
       "min       0.000000     1.000000     1.000000              1.000000   \n",
       "25%       1.000000     3.000000     2.000000              1.750000   \n",
       "50%       2.000000     3.000000     2.000000              2.250000   \n",
       "75%       2.000000     6.000000     3.000000              2.750000   \n",
       "max       5.000000     8.000000     4.000000              5.000000   \n",
       "\n",
       "       MentalWellbeingIndex  AgeCategory       Gender  MaritalStatus  Country  \n",
       "count           1994.000000  1994.000000  1994.000000     1994.00000   1994.0  \n",
       "mean              58.661986     3.527583     1.568706        1.89669     27.0  \n",
       "std               22.050962     1.211457     0.495381        1.16495      0.0  \n",
       "min                0.000000     1.000000     1.000000        1.00000     27.0  \n",
       "25%               44.000000     3.000000     1.000000        1.00000     27.0  \n",
       "50%               64.000000     4.000000     2.000000        1.00000     27.0  \n",
       "75%               76.000000     5.000000     2.000000        3.00000     27.0  \n",
       "max              100.000000     5.000000     2.000000        4.00000     27.0  "
      ]
     },
     "execution_count": 16,
     "metadata": {},
     "output_type": "execute_result"
    }
   ],
   "source": [
    "df_uk = df11_model.query('Country == 27')\n",
    "df_uk.describe()"
   ]
  },
  {
   "cell_type": "code",
   "execution_count": 17,
   "id": "546db9ae",
   "metadata": {},
   "outputs": [
    {
     "data": {
      "image/png": "[encoded data removed]",
      "text/plain": [
       "<Figure size 864x360 with 2 Axes>"
      ]
     },
     "metadata": {},
     "output_type": "display_data"
    }
   ],
   "source": [
    "fig, axes = plt.subplots(1,2, figsize=(12,5))\n",
    "sns.histplot(data=df_uk, x='SRH', ax=axes[0])\n",
    "sns.histplot(data=df_uk, x='DeprIndex', ax=axes[1])\n",
    "plt.show()"
   ]
  },
  {
   "cell_type": "markdown",
   "id": "66e48137",
   "metadata": {},
   "source": [
    "You can see that in the UK dataset, as with the global dataset, most of `DeprIndex` responses were zero (right graph above). In the left panel we have SRH. The responses here are:\n",
    "- 1: Very good\n",
    "- 2: Good\n",
    "- 3: Fair\n",
    "- 4: Bad\n",
    "- 5: Very Bad.  \n",
    "\n",
    "The positive skew (i.e. the mean will be to the right of the median) shows that participants felt more healthy than unhealthy. \n",
    "\n",
    "Now, here we have an issue. As described in this [github comment](https://github.com/alan-turing-institute/rds-course/pull/48#issuecomment-904454223), the paper uses the 2003 EQLS dataset which has the answers of [\"excellent”, “very good”, “good”, “fair”, “poor”]. The variable was dichotomised for ease of use with logistic regression as “good” health [\"excellent\", \"very good\", \"good\"] and “poor” health [\"fair\", \"poor\"]. \n",
    "\n",
    "Here we have different names of the responses. If we must dichotomise then the debate is around whether to categorise \"fair\" as good or bad health, since arguably the word semantically means good health rather than poor health. Let's follow the paper and have a 3-2 split with (\"bad\", \"very bad\") comprising the negative group.\n",
    "\n",
    "**What we really should do is an [Ordinal Logistic Regression](https://en.wikipedia.org/wiki/Ordered_logit)**. But we will come to that later."
   ]
  }
 ],
 "metadata": {
  "kernelspec": {
   "display_name": "Python 3 (ipykernel)",
   "language": "python",
   "name": "python3"
  },
  "language_info": {
   "codemirror_mode": {
    "name": "ipython",
    "version": 3
   },
   "file_extension": ".py",
   "mimetype": "text/x-python",
   "name": "python",
   "nbconvert_exporter": "python",
   "pygments_lexer": "ipython3",
   "version": "3.9.5"
  }
 },
 "nbformat": 4,
 "nbformat_minor": 5
}
