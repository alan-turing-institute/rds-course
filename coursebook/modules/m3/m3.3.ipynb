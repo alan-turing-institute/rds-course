{
 "cells": [
  {
   "cell_type": "markdown",
   "id": "4e1a7179",
   "metadata": {},
   "source": [
    "# Directory of Vizualisations\n",
    "\n",
    "\n",
    "This section is a quick overview of various types of plots and charts typically used in data visualisation. We will provide guidance of which types of plots are best different types of data and hints of what to be careful of when using a given chart. \n",
    "\n",
    "\n",
    "We emphasise that figures are a graphical layer on top of your data. **The nature of the figure should be dictated by the nature of the data**.\n",
    "\n",
    "Though different types of data lend itself to different styles of chart, the figure components discussed in _Rules of the Data Vizualisation Game_ applies to all figures. All figures should be appropriately scaled, coloured, and labelled.\n",
    "\n",
    "\n",
    "[hackmd notes](https://hackmd.io/iO0-zr1xQWqC097-neJxSA?view)"
   ]
  },
  {
   "cell_type": "markdown",
   "id": "36624adb",
   "metadata": {},
   "source": [
    "## Amounts\n",
    "\n",
    "Here we are interested in the magnitude of some set of number: We have a set of categories and a quantitative value for each category. We show four broad types of data."
   ]
  },
  {
   "cell_type": "markdown",
   "id": "73cccbff",
   "metadata": {},
   "source": [
    " "
   ]
  }
 ],
 "metadata": {
  "kernelspec": {
   "display_name": "Python 3 (ipykernel)",
   "language": "python",
   "name": "python3"
  },
  "language_info": {
   "codemirror_mode": {
    "name": "ipython",
    "version": 3
   },
   "file_extension": ".py",
   "mimetype": "text/x-python",
   "name": "python",
   "nbconvert_exporter": "python",
   "pygments_lexer": "ipython3",
   "version": "3.9.5"
  }
 },
 "nbformat": 4,
 "nbformat_minor": 5
}
