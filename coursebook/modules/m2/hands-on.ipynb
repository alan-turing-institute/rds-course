{
 "cells": [
  {
   "cell_type": "markdown",
   "metadata": {},
   "source": [
    "# Hands-on"
   ]
  },
  {
   "cell_type": "markdown",
   "metadata": {},
   "source": [
    "## Create a Local Python Envrionment"
   ]
  },
  {
   "cell_type": "markdown",
   "metadata": {},
   "source": [
    "### Using `Pyenv` & `Poetry`\n",
    "\n",
    "1. See and follow [`Pyenv` Installation](https://github.com/pyenv/pyenv#installation) for instructions on installing `Pyenv`.\n",
    "note: the homebrew installation can take a while - especially if you're updating brew, as recommended!\n",
    "\n",
    "2. Install and initialise. From the terminal:\n",
    "```bash\n",
    "# install python 3.7.9\n",
    "pyenv install 3.7.9\n",
    "# set local version of python to our installed 3.7.9\n",
    "pyenv local 3.7.9\n",
    "# initialise and follow prompts\n",
    "pyenv init\n",
    "```\n",
    "\n",
    "3. Activate the shell. From the terminal:\n",
    "```bash\n",
    "pyenv shell 3.7.9\n",
    "```\n",
    "\n",
    "4. Install `Poetry` following instructions [here](https://python-poetry.org/docs/#installation).\n",
    "`Poetry` can help manage [multiple environments](https://python-poetry.org/docs/managing-environments/), in particular [switching between environments ](https://python-poetry.org/docs/managing-environments/#switching-between-environments)\n",
    "5. Set up poetry project?? \n",
    "\n",
    "6. Set your `pyenv` installed python to activate `venv`.\n",
    "```bash\n",
    "poetry env use ~/.pyenv/versions/<python version number>/bin/python\n",
    "```\n",
    "\n",
    "7. Check the environment is activated:\n",
    "```bash\n",
    "poetry env list\n",
    "```\n",
    "\n",
    "8. Initialise the environment:\n",
    "```bash\n",
    "poetry shell\n",
    "```"
   ]
  },
  {
   "cell_type": "markdown",
   "metadata": {},
   "source": [
    "### Install Dependencies"
   ]
  },
  {
   "cell_type": "markdown",
   "metadata": {},
   "source": [
    "TODO"
   ]
  },
  {
   "cell_type": "markdown",
   "metadata": {},
   "source": [
    "## Download Data\n",
    "\n",
    "- licence (covered by module 1)\n",
    "- csv format \n",
    "- save location\n",
    "- brief explore in excel/numbers etc."
   ]
  },
  {
   "cell_type": "markdown",
   "metadata": {},
   "source": [
    "TODO"
   ]
  },
  {
   "cell_type": "markdown",
   "metadata": {},
   "source": [
    "## Load and Explore\n",
    "\n",
    "    - load from file\n",
    "    - pandas for info, desription\n"
   ]
  },
  {
   "cell_type": "code",
   "execution_count": 1,
   "metadata": {},
   "outputs": [],
   "source": [
    "# TODO"
   ]
  },
  {
   "cell_type": "markdown",
   "metadata": {},
   "source": [
    "## Rename Columns (Independent Exercise)\n",
    "\n",
    "- base this on CLast's renaming func\n",
    "    - `str.replace`\n",
    "    - `DataFrame.rename`"
   ]
  },
  {
   "cell_type": "code",
   "execution_count": 2,
   "metadata": {},
   "outputs": [],
   "source": [
    "# TODO"
   ]
  },
  {
   "cell_type": "markdown",
   "metadata": {},
   "source": [
    "## Missingness\n",
    "\n",
    "- base on CLast's work in `Data_description.ipynb` but without modelling?\n",
    "    - plots? might be ok without, can just print things\n",
    "    - `DataFrame.melt`\n",
    "    - `DataFrame.groupby`"
   ]
  },
  {
   "cell_type": "code",
   "execution_count": 4,
   "metadata": {},
   "outputs": [],
   "source": [
    "# TODO"
   ]
  },
  {
   "cell_type": "markdown",
   "metadata": {},
   "source": [
    "## Save"
   ]
  },
  {
   "cell_type": "code",
   "execution_count": 3,
   "metadata": {},
   "outputs": [],
   "source": [
    "# TODO"
   ]
  }
 ],
 "metadata": {
  "interpreter": {
   "hash": "4c2e28f5e7597c8416e7a1613a3ba960df91b5fe1e29409b26c5fd05fd6a01e9"
  },
  "kernelspec": {
   "display_name": "Python 3",
   "language": "python",
   "name": "python3"
  },
  "language_info": {
   "codemirror_mode": {
    "name": "ipython",
    "version": 3
   },
   "file_extension": ".py",
   "mimetype": "text/x-python",
   "name": "python",
   "nbconvert_exporter": "python",
   "pygments_lexer": "ipython3",
   "version": "3.7.4"
  },
  "widgets": {
   "application/vnd.jupyter.widget-state+json": {
    "state": {},
    "version_major": 2,
    "version_minor": 0
   }
  }
 },
 "nbformat": 4,
 "nbformat_minor": 4
}
