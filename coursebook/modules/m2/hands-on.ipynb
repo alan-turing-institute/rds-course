{
 "cells": [
  {
   "cell_type": "markdown",
   "metadata": {},
   "source": [
    "# Module 2: Hands-on session\n",
    "\n",
    "In this hands-on notebook we'll be getting familiar with working with the [European Quality of Life data](https://beta.ukdataservice.ac.uk/datacatalogue/studies/study?id=7724#!/access-data) in pandas by:\n",
    "\n",
    "- Creating a Local Python Environment\n",
    "- Downloading the data\n",
    "- Loading and exploring the data\n",
    "- Understanding the different data types present\n",
    "- Making the data more readable\n",
    "- Considering how missing data is represented\n",
    "- Exploring some differences between the 2007 and 2011 data\n",
    "- Comparing data from UK and Spain respondees with respect to data missingness\n",
    "\n",
    "We have marked the exercise parts of this notebook as `# TODO` with some comments as guidance. You can refer back to the taught material, or external documentation, for further information."
   ]
  },
  {
   "cell_type": "markdown",
   "metadata": {},
   "source": [
    "## Running the notebook\n",
    "\n",
    "### Prerequisites\n",
    "\n",
    "To setup and run the commands in this notebook you will need a (preferably bash/similar) shell with these installed:\n",
    "- Python 3.7 or later\n",
    "   - Check by running `python --version` or `python3 --version` in your shell\n",
    "- Git (optional)\n",
    "   - Check by running `git --version` in your shell\n",
    "- Curl (optional)\n",
    "   - Check by running `curl --version` in your shell\n",
    "\n",
    "If you don't have these we have instructions in our [Research Software Engineering course](https://alan-turing-institute.github.io/rse-course/html/course_prerequisites/index.html)."
   ]
  },
  {
   "cell_type": "markdown",
   "metadata": {},
   "source": [
    "### Clone the Course Repository\n",
    "\n",
    "In order to work locally with this notebook, you should clone the course repository.\n",
    "\n",
    "1. Go to the GitHub repository in a web browser: https://github.com/alan-turing-institute/rds-course\n",
    "2. Click on the green \"Code\" button and copy the address under \"Clone - HTTPS\".\n",
    "3. In your shell, run the following command from a sensible location (this will create a new dir for the course in current dir):\n",
    "   ```bash\n",
    "   git clone https://github.com/alan-turing-institute/rds-course.git\n",
    "   ```\n",
    "4. Change directory to the repository root\n",
    "   ```bash\n",
    "   cd rds-course\n",
    "   ```\n",
    "5. We're currently using the `develop` branch, so check that out\n",
    "   ```bash\n",
    "   git checkout develop\n",
    "   ```\n",
    "\n",
    "**Troubleshooting:**\n",
    "\n",
    "- **If you don't have `git`:** We recommend using git, but if you don't have it installed you can download a zip of the code by clicking on \"Download Zip\" in step 2 above instead, and unpack it locally.\n",
    "- **If you previously cloned/downloaded the repo:** Please run `git checkout develop` and then `git pull` from the `rds-course` directory to ensure you have the latest version of the material."
   ]
  },
  {
   "cell_type": "markdown",
   "metadata": {},
   "source": [
    "### Create a Local Python Environment\n",
    "\n",
    "We need to install third-party packages necessary for the course, with the same package versions as it was developed with to ensure compatibility and reproducibility.\n",
    "\n",
    "### Managing Python Versions\n",
    "\n",
    "As well as the versions of packages your codebase should specify which version(s) of Python itself that it's compatible with. The code for this course should run with Python 3.7 or above. We don't cover it here to speedup setup, but if you need to use multiple versions of Python on your system we recommend [Pyenv](https://github.com/pyenv/pyenv) and [Conda](https://conda.io/projects/conda/en/latest/index.html#)."
   ]
  },
  {
   "cell_type": "markdown",
   "metadata": {},
   "source": [
    "### Creating a Virtual Environment with `Poetry`\n",
    "\n",
    "The Python ecosystem has many different ways of managing packaging and installing dependencies ([this page](https://packaging.python.org/key_projects/#pipenv) lists somem). The most well-known is `pip` with dependencies listed in a `requirements.txt` file.\n",
    "\n",
    "In this course we use the tool [Poetry](https://python-poetry.org/), which can help manage [multiple environments](https://python-poetry.org/docs/managing-environments/), in particular [switching between environments ](https://python-poetry.org/docs/managing-environments/#switching-between-environments).\n",
    "\n",
    "Dependencies are listed in `pyproject.toml` and have versions fixed in `poetry.lock`. `Poetry` will pick these files up and install the required packages in a predictable manner, and into a virtual environment isolated from other projects on your system.\n",
    "\n",
    "\n",
    "\n",
    "1. Install `Poetry` by following their instructions [here](https://python-poetry.org/docs/#installation).\n",
    "\n",
    "2. Change to the `rds-course` directory (the directory of the git repository cloned above), if you're  not there already:\n",
    "   cd /path/to/rds-course\n",
    "\n",
    "3. Set the relevant Python executable for Poetry to use:\n",
    "   - If `python --version` returns a version number of 3.7 or above:\n",
    "      - Skip to step 4\n",
    "   - If `python --version` is less than 3.7 (e.g., 2.7), but `python3 --version` gives 3.7 or above:\n",
    "      - Run `poetry env use python3`\n",
    "   - If you have a Python 3.7+ environment available somewhere else:\n",
    "      -  Run `poetry env use /full/path/to/python`\n",
    "   - If you don't have Python 3.7+ installed or don't know where to find it:\n",
    "      - Refer back to the instructions in the prerequisites and/or ask for help.\n",
    "\n",
    "4. Run the following command to create the virtual environment and install the third-party packages necessary for the course:\n",
    "   ```bash\n",
    "   poetry install\n",
    "   ```\n",
    "\n",
    "5. Check the details of the virtual environment that's been created:\n",
    "   ```bash\n",
    "   poetry env info\n",
    "   ```\n",
    "\n",
    "6. Initialise the environment:\n",
    "   ```bash\n",
    "   poetry shell\n",
    "   ```\n",
    "\n",
    "The last step creates a new shell setup to use the Python virtual environment we just created (e.g., `which python`, should now show the path returned earlier by `poetry env info` above, rather the path to your global Python executable). If you want to stop using the virtual environment `exit` the shell.\n",
    "\n",
    "**Troubleshooting:**\n",
    "\n",
    "- **If you don't have `curl`**:\n",
    "   - `curl` is used to download a Python script (currently [this script](https://raw.githubusercontent.com/python-poetry/poetry/master/get-poetry.py) but check the [Poetry documentation](https://python-poetry.org/docs/#installation) for the latest URL). Save this script as `get-poetry.py` and then run `python get-poetry.py` to install Poetry.\n",
    "- **If you don't want to use `Poetry`**:\n",
    "   - You can install the course dependencies by running `pip install .` from the `rds-course` directory, but we recommend doing this in an alternative virtual environment of your choice (not in your global Python installation)."
   ]
  },
  {
   "cell_type": "markdown",
   "metadata": {},
   "source": [
    "### Jupyter\n",
    "\n",
    "We recommend use of [JupyterLab](https://jupyter.org/) for running through the hands-on notebooks in this course.\n",
    "\n",
    "JuypyterLab was installed into your Poetry environment in the previous step. We can launch a local instance, from the poetry environment terminal, with:\n",
    "\n",
    "```bash\n",
    "jupyter lab # from the root of the cloned github repository! \"rds-course\" directory\n",
    "```\n",
    "\n",
    "We recommend following the rest of the notebook via the JupyterLab instance that should spawn!\n",
    "\n",
    "Click through the file explorer in the left-hand pane to bring up this notebook.\n",
    "\n",
    "The notebook should be present at: `rds-course/coursebook/modules/m2/2-hands-on.ipynb`\n",
    "\n",
    "If you've not used `Jupyter` before you might find their [Notebook basics](https://jupyter-notebook.readthedocs.io/en/stable/examples/Notebook/Notebook%20Basics.html) and [Running code](https://jupyter-notebook.readthedocs.io/en/stable/examples/Notebook/Running%20Code.html) documentation helpful.\n",
    "\n",
    "## Download Data\n",
    "\n",
    "1. As described in module 1, we can find the data available for download from the UK Data Service [here](https://beta.ukdataservice.ac.uk/datacatalogue/studies/study?id=7724#!/access-data)\n",
    "2. Observe the licence and take this opportunity to check your obligations\n",
    "3. Download the CSV data\n",
    "4. Unzip the data to `$PROJECT_ROOT/data` this should give us `$PROJECT_ROOT/data/UKDA-7724-csv`\n",
    "\n",
    "`$PROJECT_ROOT` is the root of the cloned github repository for this course. If you change the directory that you hold this data in, you'll need to make appropriate changes to the `DATA_ROOT_PATH` variable below.\n",
    "\n",
    "## Notebook Setup\n",
    "\n",
    "Import necessary packages for this work:"
   ]
  },
  {
   "cell_type": "code",
   "execution_count": null,
   "metadata": {},
   "outputs": [],
   "source": [
    "import os\n",
    "\n",
    "import pandas as pd\n",
    "\n",
    "# these are utility functions to check some answers in the notebook\n",
    "from handson_utils import (\n",
    "    parse_country_values_2011,\n",
    "    check_dataset_load,\n",
    "    check_dataset_explored,\n",
    "    check_column_mapping,\n",
    "    set_column_mapping\n",
    ")"
   ]
  },
  {
   "cell_type": "markdown",
   "metadata": {},
   "source": [
    "Define path to data. This relies on the data being saved in the specified location below."
   ]
  },
  {
   "cell_type": "code",
   "execution_count": null,
   "metadata": {},
   "outputs": [],
   "source": [
    "DATA_ROOT_PATH = \"../m4/data/UKDA-7724-csv\" # should match the path you unzipped the data to\n",
    "\n",
    "COMBINED_CSV_PATH = os.path.join(DATA_ROOT_PATH, \"csv/eqls_2007and2011.csv\")\n",
    "MAPPING_CSV_PATH = os.path.join(DATA_ROOT_PATH, \"mrdoc/excel/eqls_api_map.csv\")\n",
    "\n",
    "# consts for loading categorical data value maps\n",
    "CATEGORICAL_VALUES_XLSX_PATH = os.path.join(DATA_ROOT_PATH, \"mrdoc/excel/eqls_concordance_grid.xlsx\")\n",
    "CATEGORICAL_VALUES_XLSX_SHEET_NAME = \"Values\""
   ]
  },
  {
   "cell_type": "markdown",
   "metadata": {},
   "source": [
    "## Exploring the Downloaded Files\n",
    "\n",
    "Take some time to familiarise yourself with the file structure of the downloaded files (in the `UKDA-7724-csv` directory), opening them in Excel/Numbers/relevant application of your choice initially. In particular:\n",
    "\n",
    "- The table of files `mrdoc/excel/7724_file_information_csv.csv`\n",
    "- The `csv` directory\n",
    "   - What data does each file contain?\n",
    "- The user guide `mrdoc/pdf/7724_eqls_2007-2011_user_guide_v2.pdf`\n",
    "- The \"Variables\" and \"Values\" worksheet in `mrdoc/excel/eqls_concordance_grid.xlsx`\n",
    "   - How many variables are there? Can they be grouped in any way?\n"
   ]
  },
  {
   "cell_type": "code",
   "execution_count": null,
   "metadata": {},
   "outputs": [],
   "source": [
    "# TODO"
   ]
  },
  {
   "cell_type": "markdown",
   "metadata": {},
   "source": [
    "## Pandas Help\n",
    "\n",
    "You'll be using pandas for most of the hands-on session. In each question there's a list of sections from the teaching material that may give you hints for how to approach them.\n",
    "\n",
    "You might also like to refer to the Pandas documentation:\n",
    "\n",
    "- [User Guide](https://pandas.pydata.org/docs/user_guide)\n",
    "- [Cheat Sheet](https://pandas.pydata.org/Pandas_Cheat_Sheet.pdf)\n",
    "- [API Reference](https://pandas.pydata.org/docs/reference)\n",
    "\n",
    "Or you can get a function's documentation in the notebook by:\n",
    "\n",
    "- Hitting SHIFT + TAB in a code cell with your text cursor on a function name.\n",
    "- Running `help(<function_name>)` in a code cell (e.g. `help(pd.read_csv)`\n"
   ]
  },
  {
   "cell_type": "markdown",
   "metadata": {},
   "source": [
    "## Load and Explore\n",
    "\n",
    "***Relevant sections:*** *2.1.4 (Data Sources and Formats), 2.2.1 (Data Consistency)*\n",
    "\n",
    "Read the combined 2007 and 2011 data into a pandas `DataFrame`"
   ]
  },
  {
   "cell_type": "code",
   "execution_count": null,
   "metadata": {
    "tags": [
     "raises-exception"
    ]
   },
   "outputs": [],
   "source": [
    "# TODO read in the file and display the head\n",
    "\n",
    "# your code here\n",
    "df = None"
   ]
  },
  {
   "cell_type": "code",
   "execution_count": null,
   "metadata": {
    "tags": []
   },
   "outputs": [],
   "source": [
    "# checks - will produce an `AssertionError` until DataFrame loaded correctly\n",
    "check_dataset_load(df)"
   ]
  },
  {
   "cell_type": "markdown",
   "metadata": {},
   "source": [
    "Take a look at some summary statistics and use these to assign the variables below correctly.\n",
    "\n",
    "You can assign the variables manually from inspecting printed output or assign them results from methods/properties."
   ]
  },
  {
   "cell_type": "code",
   "execution_count": null,
   "metadata": {},
   "outputs": [],
   "source": [
    "# TODO - code to explore dataframe can go here\n"
   ]
  },
  {
   "cell_type": "code",
   "execution_count": null,
   "metadata": {},
   "outputs": [],
   "source": [
    "# TODO - fill in the below with the correct values\n",
    "n_columns = 0 # how many columns are there in the DataFrame? Does this match number of variables you expected?\n",
    "n_float64_columns = 0 # how many columns are of dtype float64?\n",
    "Y11_Q31_mean_value = 0 #  what is the mean of the values in the Y11_Q31 column?\n",
    "Y11_Country_n_unique = 0 # how many unique values in the Y11_Country column?\n",
    "\n",
    "\n",
    "# function to check your answers (run this cell)\n",
    "check_dataset_explored(\n",
    "    n_columns,\n",
    "    n_float64_columns,\n",
    "    Y11_Q31_mean_value,\n",
    "    Y11_Country_n_unique\n",
    ")"
   ]
  },
  {
   "cell_type": "markdown",
   "metadata": {},
   "source": [
    "## Different Data Types\n",
    "\n",
    "***Relevant Sections:*** *2.2.1 (Data Consistency)*\n",
    "\n",
    "Are there columns containing the following types of data? If so give examples.\n",
    "\n",
    "- Numeric data (without a set of pre-defined categories)\n",
    "- Binary data\n",
    "- Categorical data, unordered\n",
    "- Categorical data, ordered\n",
    "- Text data\n",
    "- Time or date data\n",
    "\n",
    "**Note:**\n",
    "\n",
    "- The dataset contains at least 4 of these, try to have another look if you found fewer.\n",
    "- You'll need to refer to the dataset documentation to fully understand which columns contain which types (`mrdoc/excel/eqls_concordance_grid.xlsx` may be helpful, in particlar)."
   ]
  },
  {
   "cell_type": "code",
   "execution_count": null,
   "metadata": {},
   "outputs": [],
   "source": [
    "# TODO"
   ]
  },
  {
   "cell_type": "markdown",
   "metadata": {},
   "source": [
    "For one example of each type, what are the possible values the data can take, according to the documentation? What does each value mean? Is each possible value present in the dataset?"
   ]
  },
  {
   "cell_type": "code",
   "execution_count": null,
   "metadata": {},
   "outputs": [],
   "source": [
    "# TODO"
   ]
  },
  {
   "cell_type": "markdown",
   "metadata": {},
   "source": [
    "What is the minimum, maximum and mean value in each of your example columns? Taking into consideration the type of data in the column, are all of these values meaningful? "
   ]
  },
  {
   "cell_type": "code",
   "execution_count": null,
   "metadata": {},
   "outputs": [],
   "source": [
    "# TODO"
   ]
  },
  {
   "cell_type": "markdown",
   "metadata": {},
   "source": [
    "For one of the categorical columns, replace the numerical encodings with their actual meaning (category title). You can do this by manually creating a Python dictionary with the values to replace (we'll look at extracting them with code later). What is the most common value?"
   ]
  },
  {
   "cell_type": "code",
   "execution_count": null,
   "metadata": {},
   "outputs": [],
   "source": [
    "# TODO"
   ]
  },
  {
   "cell_type": "markdown",
   "metadata": {},
   "source": [
    "## Making Things More Readable\n",
    "\n",
    "***Relevant Sections:*** *2.2.2 (Modifying Columns and Indices), 2.2.4.2 (Text Data)*\n",
    "\n",
    "At the moment, we've got column headings such as `'Y11_Country'`, `'Y11_Q31'` and `'Y11_Q32'` in our data. These aren't particularly helpful at a glance and we'd need to do some cross-referencing with `eqls_api_map.csv` to make sense of them.\n",
    "\n",
    "To make things more readable, let's rename our columns according to the `'VariableLabel'` column in `mrdoc/excel/eqls_api_map.csv`.\n",
    "\n",
    "However, because it can make `.` access a bit tricky, we'd like to make sure we don't have any spaces or non-word characters in our new column names! For consistency, we'd like everything to be lower case."
   ]
  },
  {
   "cell_type": "code",
   "execution_count": null,
   "metadata": {},
   "outputs": [],
   "source": [
    "# we have to explicitly use latin1 encoding as the file is not saved in utf-8 (our platform default)\n",
    "eqls_api_map_df = pd.read_csv(MAPPING_CSV_PATH, encoding='latin1')\n",
    "eqls_api_map_df.head()"
   ]
  },
  {
   "cell_type": "markdown",
   "metadata": {},
   "source": [
    "TODO:\n",
    "- replace column names in `df` with corresponding entry in `'VariableLabel'` column from `eqls_api_map_df`\n",
    "- ensure all column names are entirely lowercase\n",
    "- ensure only characters [a-zA-Z0-9_] are present in column names\n",
    "    - remove apostrophes (`\"'\"`)\n",
    "    - replace otherwise non-matching (e.g., whitespace or `'/'`) character with `'_'`\n",
    "    - we don't want consecutive `'_'` characters (e.g., `no_of_children` rather than `no__of_children`)\n",
    "- keep a map (python `dict`) that shows the old -> new column mapping in case we ever want to invert this transformation.\n",
    "\n",
    "Example manual mapping (you should produce this with a general code solution!):\n",
    "\n",
    "```json\n",
    "{\n",
    "    ...,\n",
    "    'Y11_Q32' -> 'no_of_children'\n",
    "    ...,\n",
    "    'Y11_Q67_4' -> 'citizenship_dont_know',\n",
    "    ...,\n",
    "}\n",
    "```\n",
    "\n",
    "You may find it helpful to use a site like [regex101](https://regex101.com/) to experiment with creating a\n",
    "suitable regex expression.\n",
    "\n",
    "⚠️ **Note:** ⚠️ This is a reasonably tricky regex question. If you prefer to move on to the following questions there is a code cell you can run below to set the updated column names."
   ]
  },
  {
   "cell_type": "code",
   "execution_count": null,
   "metadata": {},
   "outputs": [],
   "source": [
    "# TODO\n",
    "column_mapping = {}\n",
    "\n",
    "\n",
    "# TODO\n",
    "# Apply your column mapping to df\n"
   ]
  },
  {
   "cell_type": "code",
   "execution_count": null,
   "metadata": {},
   "outputs": [],
   "source": [
    "# check your answer\n",
    "check_column_mapping(column_mapping, df)"
   ]
  },
  {
   "cell_type": "markdown",
   "metadata": {},
   "source": [
    "If you would like to skip this question, uncomment the code and run this cell:"
   ]
  },
  {
   "cell_type": "code",
   "execution_count": null,
   "metadata": {},
   "outputs": [],
   "source": [
    "### THIS CODE MODIFIES df TO THE EXPECTED RESULT AFTER THE MAKING THINGS MORE READABLE EXERCISE\n",
    "\n",
    "# !!! uncomment the line below and run the cell to set the answer !!!\n",
    "# df = set_column_mapping(df, eqls_api_map_df)\n",
    "\n",
    "df.head()"
   ]
  },
  {
   "cell_type": "markdown",
   "metadata": {},
   "source": [
    "## Self-Reported Health\n",
    "\n",
    "***Relevant Sections:*** *2.2.1 (Data Consistency), 2.2.3 (Feature Engineering), 2.2.4.3 (Categorical Data)*\n",
    "\n",
    "The research question we defined in Module 1 and will explore in more detail in Modules 3 and 4 aims to explore the contribution of various factors on self-reported health.\n",
    "\n",
    "Which column in the dataset contains self-reported health values? How many people had \"Very good\" self-reported health?"
   ]
  },
  {
   "cell_type": "code",
   "execution_count": null,
   "metadata": {},
   "outputs": [],
   "source": [
    "# TODO"
   ]
  },
  {
   "cell_type": "markdown",
   "metadata": {},
   "source": [
    "For the models we develop in Module 4 we'll convert self-reported health into a binary variable. What might be a sensible way to group the categories into only two possible values? Create a new column with your proposed binary encoding for self-reported health."
   ]
  },
  {
   "cell_type": "code",
   "execution_count": null,
   "metadata": {},
   "outputs": [],
   "source": [
    "# TODO"
   ]
  },
  {
   "cell_type": "markdown",
   "metadata": {},
   "source": [
    "## Missing Values\n",
    "\n",
    "***Relevant Sections:*** *2.2.1 (Data Consistency), 2.2.7 (Missing Data)*\n",
    "\n",
    "There are at least three different ways missing data and unknown information are represented in this dataset.\n",
    "\n",
    "Look at one row of the data. What value does Pandas use to represent missing data? How many missing values are there in the row you picked?"
   ]
  },
  {
   "cell_type": "code",
   "execution_count": null,
   "metadata": {},
   "outputs": [],
   "source": [
    "# TODO"
   ]
  },
  {
   "cell_type": "markdown",
   "metadata": {},
   "source": [
    "Looking at the possible values for each column in the dataset documentation, find two different columns and at least two different values that are also used to represent missing or unknown information."
   ]
  },
  {
   "cell_type": "code",
   "execution_count": null,
   "metadata": {},
   "outputs": [],
   "source": [
    "# TODO"
   ]
  },
  {
   "cell_type": "markdown",
   "metadata": {},
   "source": [
    "For the columns you picked:\n",
    "- How many missing values does Pandas say the column has?\n",
    "- How many values match the numeric representation of missing data you found from the documentation (e.g., if the documentation says -99 means unknown, how many -99 values are there in the column)?\n",
    "- Does Pandas include the numeric representation in its count of missing values?"
   ]
  },
  {
   "cell_type": "code",
   "execution_count": null,
   "metadata": {},
   "outputs": [],
   "source": [
    "# TODO"
   ]
  },
  {
   "cell_type": "markdown",
   "metadata": {},
   "source": [
    "Replace the numbers representing missing values in the columns you picked with the `NaN` type from `numpy`. What is the Pandas count of missing values now?"
   ]
  },
  {
   "cell_type": "code",
   "execution_count": null,
   "metadata": {},
   "outputs": [],
   "source": [
    "# TODO"
   ]
  },
  {
   "cell_type": "markdown",
   "metadata": {},
   "source": [
    "Are there different types of missing data in the dataset (different reasons values can be unknown)? Does this have any implications for the way you would analyse the data?"
   ]
  },
  {
   "cell_type": "code",
   "execution_count": null,
   "metadata": {},
   "outputs": [],
   "source": [
    "# TODO"
   ]
  },
  {
   "cell_type": "markdown",
   "metadata": {},
   "source": [
    "## 2007 vs 2011\n",
    "\n",
    "***Relevant Sections:*** *2.2.1 (Data Consistency), 2.2.7 (Missing Data)*\n",
    "\n",
    "- Which column should be used to distinguish between the collection years? (2007 and 2011)\n",
    "- How many rows do we have for each year?\n",
    "- For each collection year, what % of null values do we have for each column?\n",
    "    - Why is this?\n",
    "    - Display these %s in descending  order sorted by: 2007 then 2011"
   ]
  },
  {
   "cell_type": "code",
   "execution_count": null,
   "metadata": {},
   "outputs": [],
   "source": [
    "# TODO"
   ]
  },
  {
   "cell_type": "markdown",
   "metadata": {},
   "source": [
    "## UK vs Spain\n",
    "\n",
    "Further to the missing data we saw above, grouped by wave/year, how do missing values look for each country of collection?\n",
    "\n",
    "Compare the UK with Spain:\n",
    "- are there columns that have all values for one country but some are missing for the other?\n",
    "- are there columns that don't have any values for one country but at least some are present for the other?\n",
    "\n",
    "What implications are there from your answers to the above questions?\n",
    "\n",
    "For simplicity, just look at 2011 data."
   ]
  },
  {
   "cell_type": "code",
   "execution_count": null,
   "metadata": {},
   "outputs": [],
   "source": [
    "df_2011 = None # TODO"
   ]
  },
  {
   "cell_type": "code",
   "execution_count": null,
   "metadata": {},
   "outputs": [],
   "source": [
    "# Some code for parsing the data in mrdoc/excel/eqls_concordance_grid.xlsx\"\n",
    "# E.g. country data is categorically encoded in our DataFrame but not human readable\n",
    "# We can get the human readable categories from this file\n",
    "\n",
    "\n",
    "# load the categorical value data from excel workbook, specifying the appropriate sheet\n",
    "cat_vals_df = pd.read_excel(CATEGORICAL_VALUES_XLSX_PATH, sheet_name=CATEGORICAL_VALUES_XLSX_SHEET_NAME)\n",
    "\n",
    "# display head\n",
    "cat_vals_df.head()"
   ]
  },
  {
   "cell_type": "markdown",
   "metadata": {},
   "source": [
    "You can write your own function to extract the data you need from the `cat_vals_df` dataframe, input it manually, or use our prewritten function"
   ]
  },
  {
   "cell_type": "code",
   "execution_count": null,
   "metadata": {},
   "outputs": [],
   "source": [
    "country_mapping_2011 = None # TODO\n",
    "\n",
    "\n",
    "# uncomment beow if you want to use our pre-written function to parse the data for country mappings\n",
    "#country_mapping_2011 = parse_country_values_2011(categorical_values_df=cat_vals_df)\n",
    "\n",
    "# display\n",
    "country_mapping_2011"
   ]
  },
  {
   "cell_type": "code",
   "execution_count": null,
   "metadata": {},
   "outputs": [],
   "source": [
    "# TODO - Null values in UK vs Spain"
   ]
  },
  {
   "cell_type": "markdown",
   "metadata": {},
   "source": [
    "## Your Turn!\n",
    "\n",
    "We now leave it to you to learn something interesting from the dataset, using any of the techniques we've learned. You could attempt to explore questions like the ones below, for example, but pick anything that appeals to you. Always take care to consider whether the values you've calculated are likely to be representative.\n",
    "\n",
    "- Which age group is most optimistic about the future?\n",
    "- Which country has the most trust in the police? And the least?\n",
    "- Are there differences between genders for the highest level of education completed? Does this vary by country and/or age group?\n",
    "\n",
    "If you prefer, you could also do this with one of the example datasets we used during teaching:\n",
    "- World Bank percentage of people living in urban environments ([Section 2.1.4 Data Sources and Formats](2-01-04-DataSourcesAndFormats))\n",
    "- Palmer Penguins dataset ([Section 2.2.1 Data Consistency](2-02-01-DataConsistency))\n",
    "- Anthropometric Survey of US Army Personnel ([Section 2.2.3 Feature Engineering](2-02-03-FeatureEngineering))\n",
    "- New York Patient Characteristics Survey ([Section 2.2.4.3 Categorical Data](2-02-04-03-CategoricalData))\n",
    "\n",
    "These datasets are stored in the `coursebook/modules/m2/data` directory, but you may prefer to download the original versions as we made modifications for teaching."
   ]
  },
  {
   "cell_type": "code",
   "execution_count": null,
   "metadata": {},
   "outputs": [],
   "source": [
    "# TODO"
   ]
  }
 ],
 "metadata": {
  "kernelspec": {
   "display_name": "Python 3 (ipykernel)",
   "language": "python",
   "name": "python3"
  },
  "language_info": {
   "codemirror_mode": {
    "name": "ipython",
    "version": 3
   },
   "file_extension": ".py",
   "mimetype": "text/x-python",
   "name": "python",
   "nbconvert_exporter": "python",
   "pygments_lexer": "ipython3",
   "version": "3.9.15"
  },
  "vscode": {
   "interpreter": {
    "hash": "b0fa6594d8f4cbf19f97940f81e996739fb7646882a419484c72d19e05852a7e"
   }
  },
  "widgets": {
   "application/vnd.jupyter.widget-state+json": {
    "state": {},
    "version_major": 2,
    "version_minor": 0
   }
  }
 },
 "nbformat": 4,
 "nbformat_minor": 4
}
