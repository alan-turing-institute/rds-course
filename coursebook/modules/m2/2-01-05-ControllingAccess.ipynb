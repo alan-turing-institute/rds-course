{
 "cells": [
  {
   "cell_type": "markdown",
   "metadata": {},
   "source": [
    "# 2.1.5 Controlling access\n",
    "\n",
    "Once you’ve created a dataset, or taken data from a third party, it\n",
    "becomes your responsibility to ensure that access to this data copy is\n",
    "controlled appropriately.\n",
    "\n",
    "Your responsibilities will vary according to licensing conditions and\n",
    "any commercial agreements in place.\n",
    "\n",
    "In cases of particular data-sensitivity you may wish to consider use of\n",
    "a secure research environment, for example, a [data safe\n",
    "haven](https://www.turing.ac.uk/research/research-projects/data-safe-havens-cloud)."
   ],
   "id": "84183ea9-a6f4-4f9a-89a7-07fd499465fc"
  }
 ],
 "nbformat": 4,
 "nbformat_minor": 5,
 "metadata": {}
}
