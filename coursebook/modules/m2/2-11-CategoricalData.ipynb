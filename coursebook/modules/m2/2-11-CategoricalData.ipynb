{
 "cells": [
  {
   "cell_type": "markdown",
   "id": "439c064d-9554-449d-a8c3-2e965d1a78e1",
   "metadata": {},
   "source": [
    "# 2.11 Categorical Data\n",
    "\n",
    "TODO\n",
    "\n",
    "- data dictionaries (meanings of encoded values)\n",
    "- replacing encoded values with actuals and vice-versa\n",
    "- categorical data type in pandas\n",
    "- ordinal\n",
    "- link to modelling - e.g. one-hot encoding?\n",
    "\n",
    "\n",
    "## What is Categorical Data?\n"
   ]
  },
  {
   "cell_type": "code",
   "execution_count": 44,
   "id": "699c3edc-3cb5-4060-8ccf-ebe114f0ff6b",
   "metadata": {},
   "outputs": [
    {
     "name": "stdout",
     "output_type": "stream",
     "text": [
      "<class 'pandas.core.frame.DataFrame'>\n",
      "RangeIndex: 5000 entries, 0 to 4999\n",
      "Data columns (total 32 columns):\n",
      " #   Column                            Non-Null Count  Dtype \n",
      "---  ------                            --------------  ----- \n",
      " 0   Program Category                  5000 non-null   object\n",
      " 1   Region Served                     5000 non-null   object\n",
      " 2   Age Group                         4999 non-null   object\n",
      " 3   Sex                               4992 non-null   object\n",
      " 4   Living Situation                  4764 non-null   object\n",
      " 5   Household Composition             3886 non-null   object\n",
      " 6   Preferred Language                4940 non-null   object\n",
      " 7   Veteran Status                    4879 non-null   object\n",
      " 8   Employment Status                 5000 non-null   object\n",
      " 9   Number Of Hours Worked Each Week  789 non-null    object\n",
      " 10  Education Status                  4546 non-null   object\n",
      " 11  Special Education Services        871 non-null    object\n",
      " 12  Mental Illness                    4955 non-null   object\n",
      " 13  Intellectual Disability           4652 non-null   object\n",
      " 14  Autism Spectrum                   4688 non-null   object\n",
      " 15  Alcohol Related Disorder          4788 non-null   object\n",
      " 16  Drug Substance Disorder           4792 non-null   object\n",
      " 17  Mobility Impairment Disorder      4721 non-null   object\n",
      " 18  Alzheimer or Dementia             4430 non-null   object\n",
      " 19  Neurological Condition            4430 non-null   object\n",
      " 20  Traumatic Brain Injury            4430 non-null   object\n",
      " 21  Cancer                            4430 non-null   object\n",
      " 22  Smokes                            4774 non-null   object\n",
      " 23  Received Smoking Medication       4659 non-null   object\n",
      " 24  Received Smoking Counseling       4650 non-null   object\n",
      " 25  Serious Mental Illness            4962 non-null   object\n",
      " 26  Principal Diagnosis Class         4796 non-null   object\n",
      " 27  SSI Cash Assistance               4448 non-null   object\n",
      " 28  SSDI Cash Assistance              4451 non-null   object\n",
      " 29  Public Assistance Cash Program    4388 non-null   object\n",
      " 30  Other Cash Benefits               4432 non-null   object\n",
      " 31  Three Digit Residence Zip Code    5000 non-null   int64 \n",
      "dtypes: int64(1), object(31)\n",
      "memory usage: 1.2+ MB\n"
     ]
    }
   ],
   "source": [
    "import pandas as pd\n",
    "import numpy as np\n",
    "\n",
    "df = pd.read_csv(\"data/pcs_2017.csv\", na_values=[\"UNKNOWN\", \"NOT APPLICABLE\"])\n",
    "df.info()"
   ]
  },
  {
   "cell_type": "markdown",
   "id": "75c0a098",
   "metadata": {},
   "source": [
    "```{note}\n",
    "This dataset encodes missing information with the string \"UNKNOWN\" and unapplicable questions with the string \"NOT APPLICABLE\". We've asked Pandas to treat these as NaN (null) values by passing them to the `na_values` argument.\n",
    "```\n",
    "\n",
    "```{note}\n",
    "The original source data has over 175,000 patients and more than 60 columns. We're using a smaller subset of the data here for teaching purposes.\n",
    "```"
   ]
  },
  {
   "cell_type": "code",
   "execution_count": 23,
   "id": "b3e5c143",
   "metadata": {},
   "outputs": [
    {
     "data": {
      "text/html": [
       "<div>\n",
       "<style scoped>\n",
       "    .dataframe tbody tr th:only-of-type {\n",
       "        vertical-align: middle;\n",
       "    }\n",
       "\n",
       "    .dataframe tbody tr th {\n",
       "        vertical-align: top;\n",
       "    }\n",
       "\n",
       "    .dataframe thead th {\n",
       "        text-align: right;\n",
       "    }\n",
       "</style>\n",
       "<table border=\"1\" class=\"dataframe\">\n",
       "  <thead>\n",
       "    <tr style=\"text-align: right;\">\n",
       "      <th></th>\n",
       "      <th>Program Category</th>\n",
       "      <th>Region Served</th>\n",
       "      <th>Age Group</th>\n",
       "      <th>Sex</th>\n",
       "      <th>Living Situation</th>\n",
       "      <th>Household Composition</th>\n",
       "      <th>Preferred Language</th>\n",
       "      <th>Veteran Status</th>\n",
       "      <th>Employment Status</th>\n",
       "      <th>Number Of Hours Worked Each Week</th>\n",
       "      <th>...</th>\n",
       "      <th>Smokes</th>\n",
       "      <th>Received Smoking Medication</th>\n",
       "      <th>Received Smoking Counseling</th>\n",
       "      <th>Serious Mental Illness</th>\n",
       "      <th>Principal Diagnosis Class</th>\n",
       "      <th>SSI Cash Assistance</th>\n",
       "      <th>SSDI Cash Assistance</th>\n",
       "      <th>Public Assistance Cash Program</th>\n",
       "      <th>Other Cash Benefits</th>\n",
       "      <th>Three Digit Residence Zip Code</th>\n",
       "    </tr>\n",
       "  </thead>\n",
       "  <tbody>\n",
       "    <tr>\n",
       "      <th>0</th>\n",
       "      <td>INPATIENT</td>\n",
       "      <td>HUDSON RIVER REGION</td>\n",
       "      <td>ADULT</td>\n",
       "      <td>FEMALE</td>\n",
       "      <td>INSTITUTIONAL SETTING</td>\n",
       "      <td>NaN</td>\n",
       "      <td>ENGLISH</td>\n",
       "      <td>NO</td>\n",
       "      <td>NOT IN LABOR FORCE:UNEMPLOYED AND NOT LOOKING ...</td>\n",
       "      <td>NaN</td>\n",
       "      <td>...</td>\n",
       "      <td>NO</td>\n",
       "      <td>NO</td>\n",
       "      <td>NO</td>\n",
       "      <td>YES</td>\n",
       "      <td>MENTAL ILLNESS</td>\n",
       "      <td>NO</td>\n",
       "      <td>NO</td>\n",
       "      <td>NO</td>\n",
       "      <td>YES</td>\n",
       "      <td>105</td>\n",
       "    </tr>\n",
       "    <tr>\n",
       "      <th>1</th>\n",
       "      <td>SUPPORT</td>\n",
       "      <td>WESTERN REGION</td>\n",
       "      <td>CHILD</td>\n",
       "      <td>MALE</td>\n",
       "      <td>PRIVATE RESIDENCE</td>\n",
       "      <td>COHABITATES WITH OTHERS</td>\n",
       "      <td>ENGLISH</td>\n",
       "      <td>NO</td>\n",
       "      <td>NOT IN LABOR FORCE:UNEMPLOYED AND NOT LOOKING ...</td>\n",
       "      <td>NaN</td>\n",
       "      <td>...</td>\n",
       "      <td>NO</td>\n",
       "      <td>NO</td>\n",
       "      <td>NO</td>\n",
       "      <td>YES</td>\n",
       "      <td>MENTAL ILLNESS</td>\n",
       "      <td>YES</td>\n",
       "      <td>NO</td>\n",
       "      <td>NO</td>\n",
       "      <td>NO</td>\n",
       "      <td>138</td>\n",
       "    </tr>\n",
       "    <tr>\n",
       "      <th>2</th>\n",
       "      <td>OUTPATIENT</td>\n",
       "      <td>WESTERN REGION</td>\n",
       "      <td>CHILD</td>\n",
       "      <td>FEMALE</td>\n",
       "      <td>PRIVATE RESIDENCE</td>\n",
       "      <td>COHABITATES WITH OTHERS</td>\n",
       "      <td>ENGLISH</td>\n",
       "      <td>NO</td>\n",
       "      <td>NOT IN LABOR FORCE:UNEMPLOYED AND NOT LOOKING ...</td>\n",
       "      <td>NaN</td>\n",
       "      <td>...</td>\n",
       "      <td>NO</td>\n",
       "      <td>NO</td>\n",
       "      <td>NO</td>\n",
       "      <td>YES</td>\n",
       "      <td>MENTAL ILLNESS</td>\n",
       "      <td>NaN</td>\n",
       "      <td>NaN</td>\n",
       "      <td>NaN</td>\n",
       "      <td>NaN</td>\n",
       "      <td>140</td>\n",
       "    </tr>\n",
       "    <tr>\n",
       "      <th>3</th>\n",
       "      <td>OUTPATIENT</td>\n",
       "      <td>NEW YORK CITY REGION</td>\n",
       "      <td>CHILD</td>\n",
       "      <td>FEMALE</td>\n",
       "      <td>PRIVATE RESIDENCE</td>\n",
       "      <td>COHABITATES WITH OTHERS</td>\n",
       "      <td>ENGLISH</td>\n",
       "      <td>NO</td>\n",
       "      <td>NOT IN LABOR FORCE:UNEMPLOYED AND NOT LOOKING ...</td>\n",
       "      <td>NaN</td>\n",
       "      <td>...</td>\n",
       "      <td>NO</td>\n",
       "      <td>NO</td>\n",
       "      <td>NO</td>\n",
       "      <td>NO</td>\n",
       "      <td>NaN</td>\n",
       "      <td>NO</td>\n",
       "      <td>NO</td>\n",
       "      <td>NO</td>\n",
       "      <td>NO</td>\n",
       "      <td>113</td>\n",
       "    </tr>\n",
       "    <tr>\n",
       "      <th>4</th>\n",
       "      <td>OUTPATIENT</td>\n",
       "      <td>LONG ISLAND REGION</td>\n",
       "      <td>CHILD</td>\n",
       "      <td>FEMALE</td>\n",
       "      <td>PRIVATE RESIDENCE</td>\n",
       "      <td>COHABITATES WITH OTHERS</td>\n",
       "      <td>ENGLISH</td>\n",
       "      <td>NO</td>\n",
       "      <td>NOT IN LABOR FORCE:UNEMPLOYED AND NOT LOOKING ...</td>\n",
       "      <td>NaN</td>\n",
       "      <td>...</td>\n",
       "      <td>NO</td>\n",
       "      <td>NO</td>\n",
       "      <td>NO</td>\n",
       "      <td>YES</td>\n",
       "      <td>MENTAL ILLNESS</td>\n",
       "      <td>NO</td>\n",
       "      <td>NO</td>\n",
       "      <td>NO</td>\n",
       "      <td>NO</td>\n",
       "      <td>115</td>\n",
       "    </tr>\n",
       "  </tbody>\n",
       "</table>\n",
       "<p>5 rows × 32 columns</p>\n",
       "</div>"
      ],
      "text/plain": [
       "  Program Category         Region Served Age Group     Sex  \\\n",
       "0        INPATIENT   HUDSON RIVER REGION     ADULT  FEMALE   \n",
       "1          SUPPORT        WESTERN REGION     CHILD    MALE   \n",
       "2       OUTPATIENT        WESTERN REGION     CHILD  FEMALE   \n",
       "3       OUTPATIENT  NEW YORK CITY REGION     CHILD  FEMALE   \n",
       "4       OUTPATIENT    LONG ISLAND REGION     CHILD  FEMALE   \n",
       "\n",
       "        Living Situation    Household Composition Preferred Language  \\\n",
       "0  INSTITUTIONAL SETTING                      NaN            ENGLISH   \n",
       "1      PRIVATE RESIDENCE  COHABITATES WITH OTHERS            ENGLISH   \n",
       "2      PRIVATE RESIDENCE  COHABITATES WITH OTHERS            ENGLISH   \n",
       "3      PRIVATE RESIDENCE  COHABITATES WITH OTHERS            ENGLISH   \n",
       "4      PRIVATE RESIDENCE  COHABITATES WITH OTHERS            ENGLISH   \n",
       "\n",
       "  Veteran Status                                  Employment Status  \\\n",
       "0             NO  NOT IN LABOR FORCE:UNEMPLOYED AND NOT LOOKING ...   \n",
       "1             NO  NOT IN LABOR FORCE:UNEMPLOYED AND NOT LOOKING ...   \n",
       "2             NO  NOT IN LABOR FORCE:UNEMPLOYED AND NOT LOOKING ...   \n",
       "3             NO  NOT IN LABOR FORCE:UNEMPLOYED AND NOT LOOKING ...   \n",
       "4             NO  NOT IN LABOR FORCE:UNEMPLOYED AND NOT LOOKING ...   \n",
       "\n",
       "  Number Of Hours Worked Each Week  ... Smokes Received Smoking Medication  \\\n",
       "0                              NaN  ...     NO                          NO   \n",
       "1                              NaN  ...     NO                          NO   \n",
       "2                              NaN  ...     NO                          NO   \n",
       "3                              NaN  ...     NO                          NO   \n",
       "4                              NaN  ...     NO                          NO   \n",
       "\n",
       "  Received Smoking Counseling Serious Mental Illness  \\\n",
       "0                          NO                    YES   \n",
       "1                          NO                    YES   \n",
       "2                          NO                    YES   \n",
       "3                          NO                     NO   \n",
       "4                          NO                    YES   \n",
       "\n",
       "  Principal Diagnosis Class SSI Cash Assistance SSDI Cash Assistance  \\\n",
       "0            MENTAL ILLNESS                  NO                   NO   \n",
       "1            MENTAL ILLNESS                 YES                   NO   \n",
       "2            MENTAL ILLNESS                 NaN                  NaN   \n",
       "3                       NaN                  NO                   NO   \n",
       "4            MENTAL ILLNESS                  NO                   NO   \n",
       "\n",
       "  Public Assistance Cash Program Other Cash Benefits  \\\n",
       "0                             NO                 YES   \n",
       "1                             NO                  NO   \n",
       "2                            NaN                 NaN   \n",
       "3                             NO                  NO   \n",
       "4                             NO                  NO   \n",
       "\n",
       "  Three Digit Residence Zip Code  \n",
       "0                            105  \n",
       "1                            138  \n",
       "2                            140  \n",
       "3                            113  \n",
       "4                            115  \n",
       "\n",
       "[5 rows x 32 columns]"
      ]
     },
     "execution_count": 23,
     "metadata": {},
     "output_type": "execute_result"
    }
   ],
   "source": [
    "df.head()"
   ]
  },
  {
   "cell_type": "code",
   "execution_count": 24,
   "id": "6c4acd1f",
   "metadata": {},
   "outputs": [
    {
     "data": {
      "text/plain": [
       "Program Category                                                            INPATIENT\n",
       "Region Served                                                     HUDSON RIVER REGION\n",
       "Age Group                                                                       ADULT\n",
       "Sex                                                                            FEMALE\n",
       "Living Situation                                                INSTITUTIONAL SETTING\n",
       "Household Composition                                                             NaN\n",
       "Preferred Language                                                            ENGLISH\n",
       "Veteran Status                                                                     NO\n",
       "Employment Status                   NOT IN LABOR FORCE:UNEMPLOYED AND NOT LOOKING ...\n",
       "Number Of Hours Worked Each Week                                                  NaN\n",
       "Education Status                                         MIDDLE SCHOOL TO HIGH SCHOOL\n",
       "Special Education Services                                                        NaN\n",
       "Mental Illness                                                                    YES\n",
       "Intellectual Disability                                                            NO\n",
       "Autism Spectrum                                                                    NO\n",
       "Alcohol Related Disorder                                                           NO\n",
       "Drug Substance Disorder                                                            NO\n",
       "Mobility Impairment Disorder                                                       NO\n",
       "Alzheimer or Dementia                                                              NO\n",
       "Neurological Condition                                                             NO\n",
       "Traumatic Brain Injury                                                             NO\n",
       "Cancer                                                                             NO\n",
       "Smokes                                                                             NO\n",
       "Received Smoking Medication                                                        NO\n",
       "Received Smoking Counseling                                                        NO\n",
       "Serious Mental Illness                                                            YES\n",
       "Principal Diagnosis Class                                              MENTAL ILLNESS\n",
       "SSI Cash Assistance                                                                NO\n",
       "SSDI Cash Assistance                                                               NO\n",
       "Public Assistance Cash Program                                                     NO\n",
       "Other Cash Benefits                                                               YES\n",
       "Three Digit Residence Zip Code                                                    105\n",
       "Name: 0, dtype: object"
      ]
     },
     "execution_count": 24,
     "metadata": {},
     "output_type": "execute_result"
    }
   ],
   "source": [
    "df.iloc[0]"
   ]
  },
  {
   "cell_type": "markdown",
   "id": "bd410f96",
   "metadata": {},
   "source": [
    "## Numerical Encodings for Categorical Data"
   ]
  },
  {
   "cell_type": "markdown",
   "id": "c31fceaa",
   "metadata": {},
   "source": [
    "### Binary Data"
   ]
  },
  {
   "cell_type": "code",
   "execution_count": 28,
   "id": "73df06de",
   "metadata": {},
   "outputs": [
    {
     "data": {
      "text/plain": [
       "NO     3387\n",
       "YES    1387\n",
       "Name: Smokes, dtype: int64"
      ]
     },
     "execution_count": 28,
     "metadata": {},
     "output_type": "execute_result"
    }
   ],
   "source": [
    "df[\"Smokes\"].value_counts()"
   ]
  },
  {
   "cell_type": "markdown",
   "id": "42cb67be",
   "metadata": {},
   "source": [
    "### Data with Multiple Categories"
   ]
  },
  {
   "cell_type": "code",
   "execution_count": 60,
   "id": "2c0a351e",
   "metadata": {},
   "outputs": [
    {
     "data": {
      "text/plain": [
       "OUTPATIENT     3312\n",
       "RESIDENTIAL     827\n",
       "SUPPORT         516\n",
       "INPATIENT       260\n",
       "EMERGENCY        85\n",
       "Name: Program Category, dtype: int64"
      ]
     },
     "execution_count": 60,
     "metadata": {},
     "output_type": "execute_result"
    }
   ],
   "source": [
    "df[\"Program Category\"].value_counts()"
   ]
  },
  {
   "cell_type": "markdown",
   "id": "7845e14e",
   "metadata": {},
   "source": [
    "#### One-Hot Encoding"
   ]
  },
  {
   "cell_type": "code",
   "execution_count": 59,
   "id": "517656ad",
   "metadata": {},
   "outputs": [
    {
     "data": {
      "text/html": [
       "<div>\n",
       "<style scoped>\n",
       "    .dataframe tbody tr th:only-of-type {\n",
       "        vertical-align: middle;\n",
       "    }\n",
       "\n",
       "    .dataframe tbody tr th {\n",
       "        vertical-align: top;\n",
       "    }\n",
       "\n",
       "    .dataframe thead th {\n",
       "        text-align: right;\n",
       "    }\n",
       "</style>\n",
       "<table border=\"1\" class=\"dataframe\">\n",
       "  <thead>\n",
       "    <tr style=\"text-align: right;\">\n",
       "      <th></th>\n",
       "      <th>EMERGENCY</th>\n",
       "      <th>INPATIENT</th>\n",
       "      <th>OUTPATIENT</th>\n",
       "      <th>RESIDENTIAL</th>\n",
       "      <th>SUPPORT</th>\n",
       "    </tr>\n",
       "  </thead>\n",
       "  <tbody>\n",
       "    <tr>\n",
       "      <th>0</th>\n",
       "      <td>0</td>\n",
       "      <td>1</td>\n",
       "      <td>0</td>\n",
       "      <td>0</td>\n",
       "      <td>0</td>\n",
       "    </tr>\n",
       "    <tr>\n",
       "      <th>1</th>\n",
       "      <td>0</td>\n",
       "      <td>0</td>\n",
       "      <td>0</td>\n",
       "      <td>0</td>\n",
       "      <td>1</td>\n",
       "    </tr>\n",
       "    <tr>\n",
       "      <th>2</th>\n",
       "      <td>0</td>\n",
       "      <td>0</td>\n",
       "      <td>1</td>\n",
       "      <td>0</td>\n",
       "      <td>0</td>\n",
       "    </tr>\n",
       "    <tr>\n",
       "      <th>3</th>\n",
       "      <td>0</td>\n",
       "      <td>0</td>\n",
       "      <td>1</td>\n",
       "      <td>0</td>\n",
       "      <td>0</td>\n",
       "    </tr>\n",
       "    <tr>\n",
       "      <th>4</th>\n",
       "      <td>0</td>\n",
       "      <td>0</td>\n",
       "      <td>1</td>\n",
       "      <td>0</td>\n",
       "      <td>0</td>\n",
       "    </tr>\n",
       "    <tr>\n",
       "      <th>...</th>\n",
       "      <td>...</td>\n",
       "      <td>...</td>\n",
       "      <td>...</td>\n",
       "      <td>...</td>\n",
       "      <td>...</td>\n",
       "    </tr>\n",
       "    <tr>\n",
       "      <th>4995</th>\n",
       "      <td>0</td>\n",
       "      <td>1</td>\n",
       "      <td>0</td>\n",
       "      <td>0</td>\n",
       "      <td>0</td>\n",
       "    </tr>\n",
       "    <tr>\n",
       "      <th>4996</th>\n",
       "      <td>0</td>\n",
       "      <td>0</td>\n",
       "      <td>1</td>\n",
       "      <td>0</td>\n",
       "      <td>0</td>\n",
       "    </tr>\n",
       "    <tr>\n",
       "      <th>4997</th>\n",
       "      <td>0</td>\n",
       "      <td>0</td>\n",
       "      <td>0</td>\n",
       "      <td>0</td>\n",
       "      <td>1</td>\n",
       "    </tr>\n",
       "    <tr>\n",
       "      <th>4998</th>\n",
       "      <td>0</td>\n",
       "      <td>0</td>\n",
       "      <td>1</td>\n",
       "      <td>0</td>\n",
       "      <td>0</td>\n",
       "    </tr>\n",
       "    <tr>\n",
       "      <th>4999</th>\n",
       "      <td>0</td>\n",
       "      <td>1</td>\n",
       "      <td>0</td>\n",
       "      <td>0</td>\n",
       "      <td>0</td>\n",
       "    </tr>\n",
       "  </tbody>\n",
       "</table>\n",
       "<p>5000 rows × 5 columns</p>\n",
       "</div>"
      ],
      "text/plain": [
       "      EMERGENCY  INPATIENT  OUTPATIENT  RESIDENTIAL  SUPPORT\n",
       "0             0          1           0            0        0\n",
       "1             0          0           0            0        1\n",
       "2             0          0           1            0        0\n",
       "3             0          0           1            0        0\n",
       "4             0          0           1            0        0\n",
       "...         ...        ...         ...          ...      ...\n",
       "4995          0          1           0            0        0\n",
       "4996          0          0           1            0        0\n",
       "4997          0          0           0            0        1\n",
       "4998          0          0           1            0        0\n",
       "4999          0          1           0            0        0\n",
       "\n",
       "[5000 rows x 5 columns]"
      ]
     },
     "execution_count": 59,
     "metadata": {},
     "output_type": "execute_result"
    }
   ],
   "source": [
    "pd.get_dummies(df[\"Program Category\"])"
   ]
  },
  {
   "cell_type": "markdown",
   "id": "aaf2e336",
   "metadata": {},
   "source": [
    "```{note}\n",
    "Technically we only need four of the five columns above to represent the possible program category values. If we didn't include the \"OUTPATIENT\" column above, for example, we could still tell whether someone had outpatient care by all the remaining columns being zero. Setting `drop_first=False` in `pd.get_dummies` will return one fewer column.\n",
    "```"
   ]
  },
  {
   "cell_type": "markdown",
   "id": "60bb0e1d",
   "metadata": {},
   "source": [
    "#### Engineering a Feature"
   ]
  },
  {
   "cell_type": "code",
   "execution_count": 31,
   "id": "42f8332e",
   "metadata": {},
   "outputs": [
    {
     "data": {
      "text/plain": [
       "ENGLISH                     4459\n",
       "SPANISH                      359\n",
       "INDO-EUROPEAN                 55\n",
       "ASIAN AND PACIFIC ISLAND      27\n",
       "ALL OTHER LANGUAGES           26\n",
       "AFRO-ASIATIC                  14\n",
       "Name: Preferred Language, dtype: int64"
      ]
     },
     "execution_count": 31,
     "metadata": {},
     "output_type": "execute_result"
    }
   ],
   "source": [
    "df[\"Preferred Language\"].value_counts()"
   ]
  },
  {
   "cell_type": "code",
   "execution_count": 42,
   "id": "cc78d758",
   "metadata": {},
   "outputs": [
    {
     "data": {
      "text/plain": [
       "1    4459\n",
       "0     541\n",
       "Name: Preferred Language, dtype: int64"
      ]
     },
     "execution_count": 42,
     "metadata": {},
     "output_type": "execute_result"
    }
   ],
   "source": [
    "prefer_english = (df[\"Preferred Language\"] == \"ENGLISH\").astype(int)\n",
    "prefer_english.value_counts()"
   ]
  },
  {
   "cell_type": "markdown",
   "id": "600f6403",
   "metadata": {},
   "source": [
    "```{note}\n",
    "The use of `astype(int)` above converts the created boolean series of True/False values to a series of ones (True) and zeros (False), which may be more suitable for input to a model.\n",
    "```"
   ]
  },
  {
   "cell_type": "markdown",
   "id": "7d1a8bf6",
   "metadata": {},
   "source": [
    "### Ordinal Data"
   ]
  },
  {
   "cell_type": "code",
   "execution_count": 25,
   "id": "59fa8c75",
   "metadata": {},
   "outputs": [
    {
     "data": {
      "text/plain": [
       "35 HOURS OR MORE            309\n",
       "15-34 HOURS                 251\n",
       "01-14 HOURS                 119\n",
       "UNKNOWN EMPLOYMENT HOURS    110\n",
       "Name: Number Of Hours Worked Each Week, dtype: int64"
      ]
     },
     "execution_count": 25,
     "metadata": {},
     "output_type": "execute_result"
    }
   ],
   "source": [
    "df[\"Number Of Hours Worked Each Week\"].value_counts()"
   ]
  },
  {
   "cell_type": "markdown",
   "id": "d4fac4df",
   "metadata": {},
   "source": [
    "```{note}\n",
    "Note that the majority of people in this dataset are not currently employed (fewer than 700 out of 5000 people are working at least one hour per week). We would need to think carefully about the right way to encode this. If we know people are unemployed we could assign 0 hours, but what about for people with unknown status?\n",
    "```"
   ]
  },
  {
   "cell_type": "code",
   "execution_count": 27,
   "id": "9bd352e9",
   "metadata": {},
   "outputs": [
    {
     "data": {
      "text/plain": [
       "MIDDLE SCHOOL TO HIGH SCHOOL    2585\n",
       "SOME COLLEGE                     737\n",
       "COLLEGE OR GRADUATE DEGREE       699\n",
       "PRE-K TO FIFTH GRADE             433\n",
       "OTHER                             68\n",
       "NO FORMAL EDUCATION               24\n",
       "Name: Education Status, dtype: int64"
      ]
     },
     "execution_count": 27,
     "metadata": {},
     "output_type": "execute_result"
    }
   ],
   "source": [
    "df[\"Education Status\"].value_counts()"
   ]
  },
  {
   "cell_type": "markdown",
   "id": "19c94478",
   "metadata": {},
   "source": [
    "### Pandas Categorical Type"
   ]
  },
  {
   "cell_type": "code",
   "execution_count": 81,
   "id": "6b089bee",
   "metadata": {},
   "outputs": [
    {
     "data": {
      "text/plain": [
       "'INPATIENT'"
      ]
     },
     "execution_count": 81,
     "metadata": {},
     "output_type": "execute_result"
    }
   ],
   "source": [
    "prog_cat = pd.Categorical(df[\"Program Category\"])"
   ]
  },
  {
   "cell_type": "code",
   "execution_count": 82,
   "id": "7c7570e1",
   "metadata": {},
   "outputs": [
    {
     "data": {
      "text/plain": [
       "'INPATIENT'"
      ]
     },
     "execution_count": 82,
     "metadata": {},
     "output_type": "execute_result"
    }
   ],
   "source": [
    "prog_cat[0]"
   ]
  },
  {
   "cell_type": "code",
   "execution_count": 83,
   "id": "5076f0d4",
   "metadata": {},
   "outputs": [
    {
     "data": {
      "text/plain": [
       "array([1, 4, 2, ..., 4, 2, 1], dtype=int8)"
      ]
     },
     "execution_count": 83,
     "metadata": {},
     "output_type": "execute_result"
    }
   ],
   "source": [
    "prog_cat.codes"
   ]
  },
  {
   "cell_type": "markdown",
   "id": "aabb8ee0",
   "metadata": {},
   "source": [
    "```{warning}\n",
    "`pd.Categorical` gives missing values a code of -1.\n",
    "```"
   ]
  },
  {
   "cell_type": "code",
   "execution_count": 84,
   "id": "5c5b6a33",
   "metadata": {},
   "outputs": [
    {
     "data": {
      "text/plain": [
       "Index(['EMERGENCY', 'INPATIENT', 'OUTPATIENT', 'RESIDENTIAL', 'SUPPORT'], dtype='object')"
      ]
     },
     "execution_count": 84,
     "metadata": {},
     "output_type": "execute_result"
    }
   ],
   "source": [
    "prog_cat.categories"
   ]
  },
  {
   "cell_type": "code",
   "execution_count": 88,
   "id": "896e008f",
   "metadata": {},
   "outputs": [],
   "source": [
    "edu_cat = pd.Categorical(\n",
    "    df[\"Education Status\"],\n",
    "    categories=[\n",
    "        \"NO FORMAL EDUCATION\",\n",
    "        \"PRE-K TO FIFTH GRADE\",\n",
    "        \"MIDDLE SCHOOL TO HIGH SCHOOL\",\n",
    "        \"SOME COLLEGE\",\n",
    "        \"COLLEGE OR GRADUATE DEGREE\",\n",
    "    ],\n",
    "    ordered=True\n",
    ")"
   ]
  },
  {
   "cell_type": "code",
   "execution_count": 96,
   "id": "7f6c5787",
   "metadata": {},
   "outputs": [
    {
     "data": {
      "text/plain": [
       "'COLLEGE OR GRADUATE DEGREE'"
      ]
     },
     "execution_count": 96,
     "metadata": {},
     "output_type": "execute_result"
    }
   ],
   "source": [
    "edu_cat.max()"
   ]
  },
  {
   "cell_type": "markdown",
   "id": "f5906457",
   "metadata": {},
   "source": [
    "Mention other popular encodings/encoders"
   ]
  },
  {
   "cell_type": "markdown",
   "id": "49b184ca",
   "metadata": {},
   "source": [
    "## Unseen Values"
   ]
  },
  {
   "cell_type": "markdown",
   "id": "5abe3fd6",
   "metadata": {},
   "source": [
    "## Data Dictionaries"
   ]
  },
  {
   "cell_type": "code",
   "execution_count": null,
   "id": "b5eb1e4d",
   "metadata": {},
   "outputs": [],
   "source": []
  }
 ],
 "metadata": {
  "kernelspec": {
   "display_name": "Python 3 (ipykernel)",
   "language": "python",
   "name": "python3"
  },
  "language_info": {
   "codemirror_mode": {
    "name": "ipython",
    "version": 3
   },
   "file_extension": ".py",
   "mimetype": "text/x-python",
   "name": "python",
   "nbconvert_exporter": "python",
   "pygments_lexer": "ipython3",
   "version": "3.9.7"
  }
 },
 "nbformat": 4,
 "nbformat_minor": 5
}
