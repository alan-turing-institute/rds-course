{
 "cells": [
  {
   "cell_type": "markdown",
   "metadata": {},
   "source": [
    "# 2.1 Getting and Loading Data\n",
    "\n",
    "-   Open data and data sources\n",
    "-   Licensing, ethics, security.\n",
    "-   Pandas intro/primer\n",
    "-   Data formats (CSV, database, API, image, …) - how to load them into\n",
    "    Python with Pandas (mostly)."
   ],
   "id": "a68fb716-ff6b-4aed-b914-439fa5061dc5"
  }
 ],
 "nbformat": 4,
 "nbformat_minor": 5,
 "metadata": {}
}
