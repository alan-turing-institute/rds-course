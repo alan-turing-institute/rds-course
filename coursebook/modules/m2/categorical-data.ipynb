{
 "cells": [
  {
   "cell_type": "markdown",
   "id": "439c064d-9554-449d-a8c3-2e965d1a78e1",
   "metadata": {},
   "source": [
    "# Categorical Data\n",
    "\n",
    "TODO\n",
    "\n",
    "- data dictionaries (meanings of encoded values)\n",
    "- replacing encoded values with actuals and vice-versa\n",
    "- categorical data type in pandas\n",
    "- link to modelling - e.g. one-hot encoding?"
   ]
  },
  {
   "cell_type": "code",
   "execution_count": null,
   "id": "699c3edc-3cb5-4060-8ccf-ebe114f0ff6b",
   "metadata": {},
   "outputs": [],
   "source": []
  }
 ],
 "metadata": {
  "kernelspec": {
   "display_name": "Python 3 (ipykernel)",
   "language": "python",
   "name": "python3"
  },
  "language_info": {
   "codemirror_mode": {
    "name": "ipython",
    "version": 3
   },
   "file_extension": ".py",
   "mimetype": "text/x-python",
   "name": "python",
   "nbconvert_exporter": "python",
   "pygments_lexer": "ipython3",
   "version": "3.9.7"
  }
 },
 "nbformat": 4,
 "nbformat_minor": 5
}
