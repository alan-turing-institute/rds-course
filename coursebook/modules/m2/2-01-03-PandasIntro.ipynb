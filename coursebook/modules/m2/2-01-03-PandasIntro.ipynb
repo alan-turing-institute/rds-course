{
 "cells": [
  {
   "cell_type": "markdown",
   "id": "768291be-1495-4111-bffd-ada2e779e332",
   "metadata": {},
   "source": [
    "# 2.1.3 Pandas intro\n",
    "\n",
    "The Pandas library is a core part of the Python data science ecosystem.\n",
    "It provides easy-to-use data structures and data analysis tools.\n",
    "\n",
    "Pandas has some great resources for getting started, including guides\n",
    "tailored to those familiar with other software for manipulating data:\n",
    "https://pandas.pydata.org/pandas-docs/stable/getting_started/index.html#getting-started\n",
    ".\n",
    "\n",
    "For now, we’ll stick just to what we need for this course."
   ]
  },
  {
   "cell_type": "code",
   "execution_count": 1,
   "id": "94a5d9cd",
   "metadata": {},
   "outputs": [],
   "source": [
    "import pandas as pd"
   ]
  },
  {
   "cell_type": "markdown",
   "id": "8c8c3fee",
   "metadata": {},
   "source": [
    "## Structures\n",
    "\n",
    "Pandas has two main **labelled** data structures: \n",
    "- Series\n"
   ]
  },
  {
   "cell_type": "code",
   "execution_count": 2,
   "id": "81846b73",
   "metadata": {},
   "outputs": [
    {
     "name": "stdout",
     "output_type": "stream",
     "text": [
      "0    0.3\n",
      "1    4.0\n",
      "2    1.0\n",
      "3    NaN\n",
      "4    9.0\n",
      "dtype: float64\n"
     ]
    }
   ],
   "source": [
    "s = pd.Series([0.3, 4, 1, None, 9])\n",
    "print(s)"
   ]
  },
  {
   "cell_type": "markdown",
   "id": "db418663",
   "metadata": {},
   "source": [
    "-   DataFrame"
   ]
  },
  {
   "cell_type": "code",
   "execution_count": 3,
   "id": "369b98c0",
   "metadata": {},
   "outputs": [
    {
     "data": {
      "text/html": [
       "<div>\n",
       "<style scoped>\n",
       "    .dataframe tbody tr th:only-of-type {\n",
       "        vertical-align: middle;\n",
       "    }\n",
       "\n",
       "    .dataframe tbody tr th {\n",
       "        vertical-align: top;\n",
       "    }\n",
       "\n",
       "    .dataframe thead th {\n",
       "        text-align: right;\n",
       "    }\n",
       "</style>\n",
       "<table border=\"1\" class=\"dataframe\">\n",
       "  <thead>\n",
       "    <tr style=\"text-align: right;\">\n",
       "      <th></th>\n",
       "      <th>random_A</th>\n",
       "      <th>random_B</th>\n",
       "    </tr>\n",
       "  </thead>\n",
       "  <tbody>\n",
       "    <tr>\n",
       "      <th>3</th>\n",
       "      <td>-0.213946</td>\n",
       "      <td>0.076580</td>\n",
       "    </tr>\n",
       "    <tr>\n",
       "      <th>4</th>\n",
       "      <td>0.871364</td>\n",
       "      <td>-0.463900</td>\n",
       "    </tr>\n",
       "    <tr>\n",
       "      <th>5</th>\n",
       "      <td>-0.465638</td>\n",
       "      <td>0.737015</td>\n",
       "    </tr>\n",
       "    <tr>\n",
       "      <th>6</th>\n",
       "      <td>0.261568</td>\n",
       "      <td>-1.650347</td>\n",
       "    </tr>\n",
       "    <tr>\n",
       "      <th>7</th>\n",
       "      <td>0.924023</td>\n",
       "      <td>1.372312</td>\n",
       "    </tr>\n",
       "    <tr>\n",
       "      <th>8</th>\n",
       "      <td>0.448151</td>\n",
       "      <td>-0.737201</td>\n",
       "    </tr>\n",
       "    <tr>\n",
       "      <th>9</th>\n",
       "      <td>-0.621465</td>\n",
       "      <td>0.553958</td>\n",
       "    </tr>\n",
       "    <tr>\n",
       "      <th>10</th>\n",
       "      <td>1.215602</td>\n",
       "      <td>-0.197911</td>\n",
       "    </tr>\n",
       "    <tr>\n",
       "      <th>11</th>\n",
       "      <td>0.539626</td>\n",
       "      <td>-0.885539</td>\n",
       "    </tr>\n",
       "    <tr>\n",
       "      <th>12</th>\n",
       "      <td>1.914463</td>\n",
       "      <td>-1.048803</td>\n",
       "    </tr>\n",
       "  </tbody>\n",
       "</table>\n",
       "</div>"
      ],
      "text/plain": [
       "    random_A  random_B\n",
       "3  -0.213946  0.076580\n",
       "4   0.871364 -0.463900\n",
       "5  -0.465638  0.737015\n",
       "6   0.261568 -1.650347\n",
       "7   0.924023  1.372312\n",
       "8   0.448151 -0.737201\n",
       "9  -0.621465  0.553958\n",
       "10  1.215602 -0.197911\n",
       "11  0.539626 -0.885539\n",
       "12  1.914463 -1.048803"
      ]
     },
     "execution_count": 3,
     "metadata": {},
     "output_type": "execute_result"
    }
   ],
   "source": [
    "import numpy as np\n",
    "df = pd.DataFrame(np.random.randn(10,2), index=np.arange(3, 13), columns=[\"random_A\", \"random_B\"]) \n",
    "df"
   ]
  },
  {
   "cell_type": "markdown",
   "id": "f0b6dc95",
   "metadata": {},
   "source": [
    "\n",
    "Once we have data in these Pandas structures, we can perform some useful\n",
    "operations such as: - `info()` - (`DataFrame` only) - prints a concise\n",
    "summary of a `DataFrame` - `value_counts()` - returns a `Series`\n",
    "containing counts of unique values in the structure\n"
   ]
  },
  {
   "cell_type": "code",
   "execution_count": 4,
   "id": "7dbb1700",
   "metadata": {},
   "outputs": [
    {
     "name": "stdout",
     "output_type": "stream",
     "text": [
      "0    1\n",
      "1    1\n",
      "2    0\n",
      "3    1\n",
      "4    0\n",
      "5    1\n",
      "6    0\n",
      "7    0\n",
      "8    1\n",
      "9    0\n",
      "dtype: int64\n",
      "\n",
      "value counts:\n",
      "1    5\n",
      "0    5\n",
      "dtype: int64\n"
     ]
    }
   ],
   "source": [
    "s = pd.Series(np.random.randint(0,2,10))\n",
    "print(s)\n",
    "print() # blank line \n",
    "print(\"value counts:\")\n",
    "print(s.value_counts())"
   ]
  },
  {
   "cell_type": "markdown",
   "id": "f8636002",
   "metadata": {},
   "source": [
    "\n",
    "We’ll see more on how to use these structures, and other Pandas\n",
    "capabilities, later.\n",
    "\n",
    "## Indexing\n",
    "\n",
    "Again, we’re just covering some basics here. For a complete guide to\n",
    "indexing in Pandas see\n",
    "[here](https://pandas.pydata.org/pandas-docs/stable/user_guide/indexing.html).\n",
    "\n",
    "Pandas allows us to use the same basic `[]` indexing and `.` attribute\n",
    "operators that we’re used to with Python and NumPy. However, Pandas also\n",
    "provides the (often preferred) `.loc` labelled indexing method and the\n",
    "`.iloc` position indexing methods.\n",
    "\n",
    "### `[]` Indexing\n",
    "\n",
    "For basic `[]` indexing, we can select columns from a DataFrame and\n",
    "items from a Series.\n",
    "\n",
    "\\`\\`\\`{code-cell} ipython3 \\# reusing our DataFrame and Series from\n",
    "earlier\n"
   ]
  },
  {
   "cell_type": "code",
   "execution_count": 5,
   "id": "7e68ba96",
   "metadata": {},
   "outputs": [
    {
     "name": "stdout",
     "output_type": "stream",
     "text": [
      "single column from DataFrame, gives us a Series:\n"
     ]
    },
    {
     "data": {
      "text/plain": [
       "3    -0.213946\n",
       "4     0.871364\n",
       "5    -0.465638\n",
       "6     0.261568\n",
       "7     0.924023\n",
       "8     0.448151\n",
       "9    -0.621465\n",
       "10    1.215602\n",
       "11    0.539626\n",
       "12    1.914463\n",
       "Name: random_A, dtype: float64"
      ]
     },
     "metadata": {},
     "output_type": "display_data"
    },
    {
     "name": "stdout",
     "output_type": "stream",
     "text": [
      "two columns from DataFrame, gives us a DataFrame:\n"
     ]
    },
    {
     "data": {
      "text/html": [
       "<div>\n",
       "<style scoped>\n",
       "    .dataframe tbody tr th:only-of-type {\n",
       "        vertical-align: middle;\n",
       "    }\n",
       "\n",
       "    .dataframe tbody tr th {\n",
       "        vertical-align: top;\n",
       "    }\n",
       "\n",
       "    .dataframe thead th {\n",
       "        text-align: right;\n",
       "    }\n",
       "</style>\n",
       "<table border=\"1\" class=\"dataframe\">\n",
       "  <thead>\n",
       "    <tr style=\"text-align: right;\">\n",
       "      <th></th>\n",
       "      <th>random_A</th>\n",
       "      <th>random_B</th>\n",
       "    </tr>\n",
       "  </thead>\n",
       "  <tbody>\n",
       "    <tr>\n",
       "      <th>3</th>\n",
       "      <td>-0.213946</td>\n",
       "      <td>0.076580</td>\n",
       "    </tr>\n",
       "    <tr>\n",
       "      <th>4</th>\n",
       "      <td>0.871364</td>\n",
       "      <td>-0.463900</td>\n",
       "    </tr>\n",
       "    <tr>\n",
       "      <th>5</th>\n",
       "      <td>-0.465638</td>\n",
       "      <td>0.737015</td>\n",
       "    </tr>\n",
       "    <tr>\n",
       "      <th>6</th>\n",
       "      <td>0.261568</td>\n",
       "      <td>-1.650347</td>\n",
       "    </tr>\n",
       "    <tr>\n",
       "      <th>7</th>\n",
       "      <td>0.924023</td>\n",
       "      <td>1.372312</td>\n",
       "    </tr>\n",
       "    <tr>\n",
       "      <th>8</th>\n",
       "      <td>0.448151</td>\n",
       "      <td>-0.737201</td>\n",
       "    </tr>\n",
       "    <tr>\n",
       "      <th>9</th>\n",
       "      <td>-0.621465</td>\n",
       "      <td>0.553958</td>\n",
       "    </tr>\n",
       "    <tr>\n",
       "      <th>10</th>\n",
       "      <td>1.215602</td>\n",
       "      <td>-0.197911</td>\n",
       "    </tr>\n",
       "    <tr>\n",
       "      <th>11</th>\n",
       "      <td>0.539626</td>\n",
       "      <td>-0.885539</td>\n",
       "    </tr>\n",
       "    <tr>\n",
       "      <th>12</th>\n",
       "      <td>1.914463</td>\n",
       "      <td>-1.048803</td>\n",
       "    </tr>\n",
       "  </tbody>\n",
       "</table>\n",
       "</div>"
      ],
      "text/plain": [
       "    random_A  random_B\n",
       "3  -0.213946  0.076580\n",
       "4   0.871364 -0.463900\n",
       "5  -0.465638  0.737015\n",
       "6   0.261568 -1.650347\n",
       "7   0.924023  1.372312\n",
       "8   0.448151 -0.737201\n",
       "9  -0.621465  0.553958\n",
       "10  1.215602 -0.197911\n",
       "11  0.539626 -0.885539\n",
       "12  1.914463 -1.048803"
      ]
     },
     "metadata": {},
     "output_type": "display_data"
    },
    {
     "name": "stdout",
     "output_type": "stream",
     "text": [
      "single item from Series, gives us an item (of type numpy.int64,in this case):\n"
     ]
    },
    {
     "data": {
      "text/plain": [
       "0"
      ]
     },
     "metadata": {},
     "output_type": "display_data"
    },
    {
     "name": "stdout",
     "output_type": "stream",
     "text": [
      "two items from Series, gives us a Series:\n"
     ]
    },
    {
     "data": {
      "text/plain": [
       "2    0\n",
       "4    0\n",
       "dtype: int64"
      ]
     },
     "metadata": {},
     "output_type": "display_data"
    }
   ],
   "source": [
    "# Basic indexing using `[]` on DataFrame\n",
    "\n",
    "# select a single column\n",
    "print(\"single column from DataFrame, gives us a Series:\")\n",
    "display(df[\"random_A\"])\n",
    "\n",
    "# select two columns\n",
    "\n",
    "print(\"two columns from DataFrame, gives us a DataFrame:\")\n",
    "display(df[[\"random_A\", \"random_B\"]])\n",
    "\n",
    "# and for a Series\n",
    "\n",
    "# select single item\n",
    "\n",
    "print(\"single item from Series, gives us an item (of type numpy.int64,in this case):\") \n",
    "display(s[2])\n",
    "\n",
    "# select two items\n",
    "\n",
    "print(\"two items from Series, gives us a Series:\")\n",
    "display(s[[2,4]])\n"
   ]
  },
  {
   "cell_type": "markdown",
   "id": "a33c8c9e",
   "metadata": {},
   "source": [
    "Note that we can't do:"
   ]
  },
  {
   "cell_type": "code",
   "execution_count": 17,
   "id": "e239e96e",
   "metadata": {},
   "outputs": [
    {
     "name": "stderr",
     "output_type": "stream",
     "text": [
      "Traceback (most recent call last):\n",
      "  File \"/usr/local/Caskroom/miniforge/base/envs/playground/lib/python3.10/site-packages/pandas/core/indexes/base.py\", line 3361, in get_loc\n",
      "    return self._engine.get_loc(casted_key)\n",
      "  File \"pandas/_libs/index.pyx\", line 76, in pandas._libs.index.IndexEngine.get_loc\n",
      "  File \"pandas/_libs/index.pyx\", line 108, in pandas._libs.index.IndexEngine.get_loc\n",
      "  File \"pandas/_libs/hashtable_class_helper.pxi\", line 5198, in pandas._libs.hashtable.PyObjectHashTable.get_item\n",
      "  File \"pandas/_libs/hashtable_class_helper.pxi\", line 5206, in pandas._libs.hashtable.PyObjectHashTable.get_item\n",
      "KeyError: 5\n",
      "\n",
      "The above exception was the direct cause of the following exception:\n",
      "\n",
      "Traceback (most recent call last):\n",
      "  File \"/var/folders/f4/m42_v8vj1fjc0wrwtb69xjt80000gr/T/ipykernel_16284/1340075103.py\", line 4, in <cell line: 3>\n",
      "    display(df[5])\n",
      "  File \"/usr/local/Caskroom/miniforge/base/envs/playground/lib/python3.10/site-packages/pandas/core/frame.py\", line 3458, in __getitem__\n",
      "    indexer = self.columns.get_loc(key)\n",
      "  File \"/usr/local/Caskroom/miniforge/base/envs/playground/lib/python3.10/site-packages/pandas/core/indexes/base.py\", line 3363, in get_loc\n",
      "    raise KeyError(key) from err\n",
      "KeyError: 5\n"
     ]
    }
   ],
   "source": [
    "import traceback # library used to print error without breaking python\n",
    "try: \n",
    "    display(df[5])\n",
    "except KeyError as e:\n",
    "    traceback.print_exc()"
   ]
  },
  {
   "cell_type": "code",
   "execution_count": 11,
   "id": "697a8f1b",
   "metadata": {},
   "outputs": [
    {
     "ename": "NameError",
     "evalue": "name 'e' is not defined",
     "output_type": "error",
     "traceback": [
      "\u001b[0;31m---------------------------------------------------------------------------\u001b[0m",
      "\u001b[0;31mNameError\u001b[0m                                 Traceback (most recent call last)",
      "\u001b[0;32m/var/folders/f4/m42_v8vj1fjc0wrwtb69xjt80000gr/T/ipykernel_16284/2740565805.py\u001b[0m in \u001b[0;36m<cell line: 1>\u001b[0;34m()\u001b[0m\n\u001b[0;32m----> 1\u001b[0;31m \u001b[0me\u001b[0m\u001b[0;34m\u001b[0m\u001b[0;34m\u001b[0m\u001b[0m\n\u001b[0m",
      "\u001b[0;31mNameError\u001b[0m: name 'e' is not defined"
     ]
    }
   ],
   "source": []
  },
  {
   "cell_type": "markdown",
   "id": "1c86d07c",
   "metadata": {},
   "source": [
    "\n",
    "as this tries to access a row, not a column.\n",
    "\n",
    "### Attribute Access\n",
    "\n",
    "Similarly, we can access a column from a DataFrame and an item from a\n",
    "Series using as an attribute. However, we can’t do this when the label\n",
    "is not a valid identifier.\n"
   ]
  },
  {
   "cell_type": "code",
   "execution_count": 7,
   "id": "f25ccd09",
   "metadata": {},
   "outputs": [
    {
     "data": {
      "text/plain": [
       "3    -0.213946\n",
       "4     0.871364\n",
       "5    -0.465638\n",
       "6     0.261568\n",
       "7     0.924023\n",
       "8     0.448151\n",
       "9    -0.621465\n",
       "10    1.215602\n",
       "11    0.539626\n",
       "12    1.914463\n",
       "Name: random_A, dtype: float64"
      ]
     },
     "metadata": {},
     "output_type": "display_data"
    }
   ],
   "source": [
    "display(df.random_A)"
   ]
  },
  {
   "cell_type": "markdown",
   "id": "07ffba84",
   "metadata": {},
   "source": [
    "### `.loc`\n",
    "\n",
    "`.loc` provides label-based indexing. `.loc` can also be used for\n",
    "slicing and we can even provide a `callable` as its input! However, here\n",
    "we’ll just show single item access.\n"
   ]
  },
  {
   "cell_type": "code",
   "execution_count": 8,
   "id": "9c5935ec",
   "metadata": {},
   "outputs": [
    {
     "data": {
      "text/plain": [
       "random_A   -0.465638\n",
       "random_B    0.737015\n",
       "Name: 5, dtype: float64"
      ]
     },
     "metadata": {},
     "output_type": "display_data"
    }
   ],
   "source": [
    "display(df.loc[5])"
   ]
  },
  {
   "cell_type": "code",
   "execution_count": 9,
   "id": "251af820",
   "metadata": {},
   "outputs": [
    {
     "data": {
      "text/plain": [
       "0"
      ]
     },
     "metadata": {},
     "output_type": "display_data"
    }
   ],
   "source": [
    "# and for a Series\n",
    "\n",
    "display(s.loc[2])"
   ]
  },
  {
   "cell_type": "markdown",
   "id": "6430b57c",
   "metadata": {},
   "source": [
    "\n",
    "### `.iloc`\n",
    "\n",
    "`.iloc` provides integer-based indexing. This closely resembles Python and NumPy slicing. Again, we'll just show single item access."
   ]
  },
  {
   "cell_type": "code",
   "execution_count": 10,
   "id": "eaf20b9d",
   "metadata": {},
   "outputs": [
    {
     "data": {
      "text/plain": [
       "random_A    0.448151\n",
       "random_B   -0.737201\n",
       "Name: 8, dtype: float64"
      ]
     },
     "metadata": {},
     "output_type": "display_data"
    },
    {
     "data": {
      "text/plain": [
       "0"
      ]
     },
     "metadata": {},
     "output_type": "display_data"
    }
   ],
   "source": [
    "# for DataFrame\n",
    "display(df.iloc[5])\n",
    "\n",
    "# and for a Series\n",
    "display(s.iloc[2])"
   ]
  }
 ],
 "metadata": {
  "kernelspec": {
   "display_name": "Python 3.10.5 ('playground')",
   "language": "python",
   "name": "python3"
  },
  "language_info": {
   "codemirror_mode": {
    "name": "ipython",
    "version": 3
   },
   "file_extension": ".py",
   "mimetype": "text/x-python",
   "name": "python",
   "nbconvert_exporter": "python",
   "pygments_lexer": "ipython3",
   "version": "3.10.5"
  },
  "vscode": {
   "interpreter": {
    "hash": "bfb6be6a1e2928ff2d2ab7904db3c9037c4b5ca4f399bd5e7064365a54a3f091"
   }
  }
 },
 "nbformat": 4,
 "nbformat_minor": 5
}
