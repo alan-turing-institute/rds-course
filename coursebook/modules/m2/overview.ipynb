{
 "cells": [
  {
   "cell_type": "markdown",
   "id": "5ff3b789-c0b7-443b-92f3-53a0cd645f93",
   "metadata": {},
   "source": [
    "# Overview\n",
    "\n",
    "This module covers the basics of working with data. We cover the challenges and ethical issues of working with open data (as well as the benefits!), the different types of data available, and the practical experience of loading and manipulating data (with [Pandas](https://pypi.org/project/pandas/)) in preparation for analysis.\n",
    "\n",
    "The module is structured into two parts:\n",
    "\n",
    "-   Part 1: Getting and loading data\n",
    "    -   Open data and data sources\n",
    "    -   Licensing, ethics, security.\n",
    "    -   Pandas intro/primer\n",
    "    -   Data formats (CSV, database, API, image, …)\n",
    "        -   How to load them into Python with Pandas (mostly).\n",
    "-   Part 2: Exploring and wrangling data\n",
    "    -   Loading a dataset for the first time (sanity checks, data\n",
    "        parsing issues, …)\n",
    "    -   Manipulating different types of data (text, dates, categorical,\n",
    "        images)\n",
    "    -   Feature engineering\n",
    "    -   Missing data\n",
    "    -   Privacy and anonymisation\n",
    "\n",
    "References are given at the end of each subsection.\n"
   ]
  }
 ],
 "metadata": {
  "kernelspec": {
   "display_name": "Python 3 (ipykernel)",
   "language": "python",
   "name": "python3"
  },
  "language_info": {
   "codemirror_mode": {
    "name": "ipython",
    "version": 3
   },
   "file_extension": ".py",
   "mimetype": "text/x-python",
   "name": "python",
   "nbconvert_exporter": "python",
   "pygments_lexer": "ipython3",
   "version": "3.9.15"
  },
  "vscode": {
   "interpreter": {
    "hash": "b9e8921bd18fbd36d3a09ae9691fc21c58beec206524d0083259030e87e84f05"
   }
  }
 },
 "nbformat": 4,
 "nbformat_minor": 5
}
