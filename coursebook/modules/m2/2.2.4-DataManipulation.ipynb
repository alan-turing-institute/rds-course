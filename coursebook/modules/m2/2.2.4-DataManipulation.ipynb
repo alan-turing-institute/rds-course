{
 "cells": [
  {
   "cell_type": "markdown",
   "id": "55cdd9f6-1890-43c8-940d-141623a07cc9",
   "metadata": {},
   "source": [
    "# 2.2.4 Data Manipulation\n",
    "\n",
    "We’ll briefly cover some manipulation of the following data types:\n",
    "\n",
    "- Time and Date\n",
    "- Text\n",
    "- Categorical\n",
    "- Image"
   ]
  }
 ],
 "metadata": {
  "kernelspec": {
   "display_name": "Python 3 (ipykernel)",
   "language": "python",
   "name": "python3"
  },
  "language_info": {
   "codemirror_mode": {
    "name": "ipython",
    "version": 3
   },
   "file_extension": ".py",
   "mimetype": "text/x-python",
   "name": "python",
   "nbconvert_exporter": "python",
   "pygments_lexer": "ipython3",
   "version": "3.9.15"
  }
 },
 "nbformat": 4,
 "nbformat_minor": 5
}
