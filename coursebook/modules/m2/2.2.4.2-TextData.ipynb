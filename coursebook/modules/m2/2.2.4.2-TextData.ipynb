{
 "cells": [
  {
   "cell_type": "markdown",
   "id": "23243b6a-c84f-4eb3-95cf-04c095f77ccb",
   "metadata": {},
   "source": [
    "# 2.2.4.2 Text data\n",
    "\n",
    "We’ll often want to manipulate text data (strings) in Python. There are\n",
    "many handy libraries for helping us do this, some of which allow some\n",
    "pretty complicated operations. Here, we’ll show some basic processing.\n",
    "\n",
    "## Inconsistencies\n",
    "\n",
    "Strings have their own particular array of consistency issues, such as\n",
    "inconsistent capitalisation and extraneous whitespace.\n",
    "\n",
    "Fortunately, python gives us some handy [built-in\n",
    "functionality](https://docs.python.org/3/library/stdtypes.html#string-methods)\n",
    "for dealing with somese issues.\n",
    "\n",
    "We’ll make note of a few of these methods, below.\n",
    "\n",
    "### `str.upper()` and `str.lower()`\n",
    "\n",
    "The `str.upper()` and `str.lower()` methods will take a given string and\n",
    "return a copy as a solely uppercase or lowercase string. E.g.\n"
   ]
  },
  {
   "cell_type": "code",
   "execution_count": 1,
   "id": "8380309e",
   "metadata": {},
   "outputs": [
    {
     "name": "stdout",
     "output_type": "stream",
     "text": [
      "upper: FOO\n",
      "lower: foo\n"
     ]
    }
   ],
   "source": [
    "print(f\"upper: {'Foo'.upper()}\")\n",
    "print(f\"lower: {'Foo'.lower()}\")"
   ]
  },
  {
   "cell_type": "markdown",
   "id": "e6cdd323",
   "metadata": {},
   "source": [
    "\n",
    "These methods can be useful for ensuring consistency when casing is not\n",
    "important in your data.\n",
    "\n",
    "### `str.strip()`\n",
    "\n",
    "The `str.strip()` method (and its companions, `str.lstrip` and\n",
    "`str.rstrip()`) return a copy, stripping leading and trailing characters\n",
    "(default to whitespace) from a string. E.g.\n"
   ]
  },
  {
   "cell_type": "code",
   "execution_count": 2,
   "id": "0be2a942",
   "metadata": {},
   "outputs": [
    {
     "name": "stdout",
     "output_type": "stream",
     "text": [
      "stripped: 'foo bar'\n",
      "left stripped: 'foo bar '\n",
      "right stripped:' foo bar'\n"
     ]
    }
   ],
   "source": [
    "stripped = \" foo bar \".strip()\n",
    "\n",
    "print(f\"stripped: '{stripped}'\") \n",
    "lstripped =\" foo bar \".lstrip()\n",
    "print(f\"left stripped: '{lstripped}'\")\n",
    "\n",
    "rstripped = \" foo bar \".rstrip() # strip right\n",
    "print(f\"right stripped:'{rstripped}'\")"
   ]
  },
  {
   "cell_type": "markdown",
   "id": "0cd367f8",
   "metadata": {},
   "source": [
    "\n",
    "### Spelling is tricky\n",
    "\n",
    "The methods we've talked about so far don't address things like misspelling/typos (a common data input concern).\n",
    "\n",
    "In a relatively simple scenario, with categorical data encoded as strings, you might be able to spot these by checking for all unique values in your data. E.g.\n"
   ]
  },
  {
   "cell_type": "code",
   "execution_count": 3,
   "id": "dd7edf44",
   "metadata": {},
   "outputs": [
    {
     "name": "stdout",
     "output_type": "stream",
     "text": [
      "{'aple', 'apple', 'orange', 'grapefruit', 'pear'}\n"
     ]
    }
   ],
   "source": [
    "my_favourite_fruit_data = [\"apple\", \"apple\", \"pear\", \"orange\", \"aple\", \"orange\", \"grapefruit\"]\n",
    "print(set(my_favourite_fruit_data))"
   ]
  },
  {
   "cell_type": "markdown",
   "id": "c664f96c",
   "metadata": {},
   "source": [
    "\n",
    "## Splitting\n",
    "\n",
    "We’ll also commonly want to split a string based on a particular\n",
    "delimiter or separator. For example, we may wish to split a string of\n",
    "text into individual words, using any whitespace separator.\n",
    "\n",
    "We can use the `str.split(sep=None, maxsplit=-1)` method.\n"
   ]
  },
  {
   "cell_type": "code",
   "execution_count": 4,
   "id": "49147d9f",
   "metadata": {},
   "outputs": [
    {
     "name": "stdout",
     "output_type": "stream",
     "text": [
      "['this', 'is', 'some', 'text']\n",
      "['this,', 'another', 'example,', 'is', 'some', 'more', 'text']\n"
     ]
    }
   ],
   "source": [
    "s = \"this is some text\".split() # whitespace is the default \n",
    "print(s)\n",
    "\n",
    "# however, be careful of punctuation\n",
    "s2 = \"this, another example, is some more text\".split()\n",
    "print(s2)"
   ]
  },
  {
   "cell_type": "markdown",
   "id": "a267c5da",
   "metadata": {},
   "source": [
    "\n",
    "We may also wish to split by separators other than whitespace.\n"
   ]
  },
  {
   "cell_type": "code",
   "execution_count": 5,
   "id": "59894052",
   "metadata": {},
   "outputs": [
    {
     "name": "stdout",
     "output_type": "stream",
     "text": [
      "['apple', 'banana', 'pear', 'peach']\n"
     ]
    }
   ],
   "source": [
    "s = \"apple#banana#pear#peach\".split(\"#\")\n",
    "print(s)"
   ]
  },
  {
   "cell_type": "markdown",
   "id": "9c3a51cb",
   "metadata": {},
   "source": [
    "\n",
    "With this in mind, we could also use `str.split` for dealing with csv\n",
    "data. However, we’d need to be careful about commas inside quotes. It’s\n",
    "generally more convenient to use libraries that already deal with this\n",
    "kind of thing, like Pandas!\n",
    "\n",
    "## Joining\n",
    "\n",
    "A bit like `str.split(sep=None, maxsplit=-1)` in reverse,\n",
    "`str.join(iterable)` allows us to join a list of strings together with a\n",
    "given separator.\n"
   ]
  },
  {
   "cell_type": "code",
   "execution_count": 6,
   "id": "67b8ecf0",
   "metadata": {},
   "outputs": [
    {
     "name": "stdout",
     "output_type": "stream",
     "text": [
      "a list of words\n"
     ]
    }
   ],
   "source": [
    "my_list = [\"a\", \"list\", \"of\", \"words\"] # join with a space separator \n",
    "s = \" \".join(my_list) \n",
    "print(s)"
   ]
  },
  {
   "cell_type": "markdown",
   "id": "8cb291c9",
   "metadata": {},
   "source": [
    "\n",
    "## Regular expressions\n",
    "\n",
    "[Regular expressions (regexps,\n",
    "regex)](https://en.wikipedia.org/wiki/Regular_expression) are character\n",
    "sequences that specify a search pattern, usually for a find and/or\n",
    "replace task on text data.\n",
    "\n",
    "Python’s [regular expression](https://docs.python.org/3/library/re.html)\n",
    "module provides functionality similar to that offered in Perl.\n",
    "\n",
    "Regex can give us powerful string matching, beyond that of a simple\n",
    "exact string match. E.g.\n"
   ]
  },
  {
   "cell_type": "code",
   "execution_count": 7,
   "id": "c51fa13e",
   "metadata": {},
   "outputs": [
    {
     "name": "stdout",
     "output_type": "stream",
     "text": [
      "['Spain', 'the', 'So', 'they']\n"
     ]
    }
   ],
   "source": [
    "import re \n",
    "txt = \"The rain in Spain falls mainly on the plains. So they say, anyway.\" # find all words starting with upper case S or lower case t \n",
    "print(re.findall(r\"\\b[St]\\w+\", txt))"
   ]
  },
  {
   "cell_type": "markdown",
   "id": "5288fcf0",
   "metadata": {},
   "source": [
    "\n",
    "## NLP Preprocessing\n",
    "\n",
    "In Natural Language Processing (NLP) tasks we often see some slightly\n",
    "more complicated preprocessing such as:\n",
    "\n",
    "-   [Stemming and\n",
    "    Lemmatisation](https://nlp.stanford.edu/IR-book/html/htmledition/stemming-and-lemmatization-1.html) -\n",
    "    reducing words to common base forms\n",
    "-   Stop-word Removal - removing common words that carry little\n",
    "    information\n",
    "-   \"Vectorization\" - convert text to a meaningful numeric vector\n",
    "    representation (e.g. [term frequency\n",
    "    encoding](https://scikit-learn.org/stable/modules/generated/sklearn.feature_extraction.text.CountVectorizer.html#sklearn.feature_extraction.text.CountVectorizer))\n",
    "\n",
    "There are some commonly used libraries for the above tasks, we recommend\n",
    "[NLTK](https://www.nltk.org/) and\n",
    "[scikit-learn](https://scikit-learn.org/stable/).\n",
    "\n",
    "## Pandas String Operations (`Series.str`)\n",
    "\n",
    "Pandas provides vectorized string functions for Series. Unless\n",
    "explicitly handled, NAs will stay as NA. See\n",
    "[here](https://pandas.pydata.org/docs/reference/api/pandas.Series.str.html).\n",
    "E.g."
   ]
  },
  {
   "cell_type": "code",
   "execution_count": 8,
   "id": "0feddf9f",
   "metadata": {},
   "outputs": [
    {
     "data": {
      "text/plain": [
       "0    AAA\n",
       "1    AAb\n",
       "2    AbA\n",
       "dtype: object"
      ]
     },
     "execution_count": 8,
     "metadata": {},
     "output_type": "execute_result"
    }
   ],
   "source": [
    "import pandas as pd\n",
    "\n",
    "s = pd.Series([\"aaa\", \"aab\", \"aba\"]) # replace \"a\" with \"A\"\n",
    "s.str.replace(\"a\", \"A\")"
   ]
  }
 ],
 "metadata": {
  "kernelspec": {
   "display_name": "Python 3 (ipykernel)",
   "language": "python",
   "name": "python3"
  },
  "language_info": {
   "codemirror_mode": {
    "name": "ipython",
    "version": 3
   },
   "file_extension": ".py",
   "mimetype": "text/x-python",
   "name": "python",
   "nbconvert_exporter": "python",
   "pygments_lexer": "ipython3",
   "version": "3.9.15"
  },
  "vscode": {
   "interpreter": {
    "hash": "bfb6be6a1e2928ff2d2ab7904db3c9037c4b5ca4f399bd5e7064365a54a3f091"
   }
  }
 },
 "nbformat": 4,
 "nbformat_minor": 5
}
