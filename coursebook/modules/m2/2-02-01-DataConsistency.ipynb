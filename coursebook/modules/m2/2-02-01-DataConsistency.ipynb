{
 "cells": [
  {
   "cell_type": "markdown",
   "id": "e88ea460",
   "metadata": {
    "tags": []
   },
   "source": [
    "# 2.2.1 Data Consistency\n",
    "\n",
    "In [Section 2.1.4](2-01-04-DataSourcesAndFormats.md) we saw how to load data of different types into pandas. In this section we'll look at first steps you can perform to look at the data, understand what it contains, and a few common issues that may come up with data consistency like missing or mis-interpreted values."
   ]
  },
  {
   "cell_type": "markdown",
   "id": "9c0c3e66",
   "metadata": {},
   "source": [
    "## Domain Knowledge\n",
    "\n",
    "Before jumping into looking at and analysing the data you should check any information you've been given about it, so you know what to expect. In this section we'll be using the Iris dataset, a well-known example dataset for machine learning available from the [UCI Machine Learning repository](https://archive.ics.uci.edu/ml/datasets/iris) (and well-known enough to have its own [Wikipedia page](https://en.wikipedia.org/wiki/Iris_flower_data_set)!) \n",
    "\n",
    "````{margin}\n",
    "```{warning}\n",
    "We've made a few changes to the data from the UCI repository to demonstrate the concepts we're teaching. \n",
    "```\n",
    "````\n",
    "\n",
    "The Iris dataset was first published in 1936 by Ronald Fisher in the paper [\"The use of multiple measurements in taxonomic problems\"](https://doi.org/10.1111/j.1469-1809.1936.tb02137.x). It includes measurements of the petal and sepal sizes (length and width) of three species of Iris flowers. The [UCI repository page](https://archive.ics.uci.edu/ml/datasets/iris) contains more information about the columns and data types we expect. To reiterate, it's always important to check the documentation and associated literature first.\n",
    "\n",
    "| ![Iris.jpg](data/Iris.jpg) | \n",
    "|:--:| \n",
    "| *[Ryan Hodnett, \"Northern Blue Flag (Iris versicolor)\", 2019](https://commons.wikimedia.org/wiki/File:Northe). [CC-BY-SA 4.0](https://creativecommons.org/licenses/by-sa/4.0/deed.en). Labels added.* |"
   ]
  },
  {
   "cell_type": "markdown",
   "id": "611701e4",
   "metadata": {},
   "source": [
    "## Having a First Look at the Data\n",
    "\n",
    "The dataset is saved in `data/Iris.csv` and we can load it with [`pd.read_csv`](https://pandas.pydata.org/docs/reference/api/pandas.read_csv.html?highlight=read_csv#pandas.read_csv), as seen previously:"
   ]
  },
  {
   "cell_type": "code",
   "execution_count": 1,
   "id": "9cad4dc7",
   "metadata": {},
   "outputs": [],
   "source": [
    "import pandas as pd\n",
    "import numpy"
   ]
  },
  {
   "cell_type": "code",
   "execution_count": 2,
   "id": "73a6267a",
   "metadata": {},
   "outputs": [],
   "source": [
    "df = pd.read_csv(\"data/Iris.csv\")"
   ]
  },
  {
   "cell_type": "markdown",
   "id": "554cc3b1",
   "metadata": {},
   "source": [
    "Display the first few ten rows of the data:"
   ]
  },
  {
   "cell_type": "code",
   "execution_count": 3,
   "id": "597e146f",
   "metadata": {},
   "outputs": [
    {
     "data": {
      "text/html": [
       "<div>\n",
       "<style scoped>\n",
       "    .dataframe tbody tr th:only-of-type {\n",
       "        vertical-align: middle;\n",
       "    }\n",
       "\n",
       "    .dataframe tbody tr th {\n",
       "        vertical-align: top;\n",
       "    }\n",
       "\n",
       "    .dataframe thead th {\n",
       "        text-align: right;\n",
       "    }\n",
       "</style>\n",
       "<table border=\"1\" class=\"dataframe\">\n",
       "  <thead>\n",
       "    <tr style=\"text-align: right;\">\n",
       "      <th></th>\n",
       "      <th>Id</th>\n",
       "      <th>SepalLengthCm</th>\n",
       "      <th>SepalWidthCm</th>\n",
       "      <th>PetalLengthCm</th>\n",
       "      <th>PetalWidthCm</th>\n",
       "      <th>Species</th>\n",
       "    </tr>\n",
       "  </thead>\n",
       "  <tbody>\n",
       "    <tr>\n",
       "      <th>0</th>\n",
       "      <td>25</td>\n",
       "      <td>4.8</td>\n",
       "      <td>3.4</td>\n",
       "      <td>1.9</td>\n",
       "      <td>0.2</td>\n",
       "      <td>Iris-setosa</td>\n",
       "    </tr>\n",
       "    <tr>\n",
       "      <th>1</th>\n",
       "      <td>24</td>\n",
       "      <td>5.1</td>\n",
       "      <td>3.3</td>\n",
       "      <td>1.7</td>\n",
       "      <td>0.5</td>\n",
       "      <td>Iris-setosa</td>\n",
       "    </tr>\n",
       "    <tr>\n",
       "      <th>2</th>\n",
       "      <td>139</td>\n",
       "      <td>6.0</td>\n",
       "      <td>3.0</td>\n",
       "      <td>4.8</td>\n",
       "      <td>1.8</td>\n",
       "      <td>Iris-virginica</td>\n",
       "    </tr>\n",
       "    <tr>\n",
       "      <th>3</th>\n",
       "      <td>88</td>\n",
       "      <td>6.3</td>\n",
       "      <td>2.3</td>\n",
       "      <td>4.4</td>\n",
       "      <td>1.3</td>\n",
       "      <td>Iris-versicolor</td>\n",
       "    </tr>\n",
       "    <tr>\n",
       "      <th>4</th>\n",
       "      <td>135</td>\n",
       "      <td>6.1</td>\n",
       "      <td>2.6</td>\n",
       "      <td>5.6</td>\n",
       "      <td>1.4</td>\n",
       "      <td>Iris-virginica</td>\n",
       "    </tr>\n",
       "    <tr>\n",
       "      <th>5</th>\n",
       "      <td>87</td>\n",
       "      <td>6.7</td>\n",
       "      <td>3.1</td>\n",
       "      <td>4.7</td>\n",
       "      <td>1.5</td>\n",
       "      <td>Iris-versicolor</td>\n",
       "    </tr>\n",
       "    <tr>\n",
       "      <th>6</th>\n",
       "      <td>89</td>\n",
       "      <td>5.6</td>\n",
       "      <td>3.0</td>\n",
       "      <td>4.1</td>\n",
       "      <td>1.3</td>\n",
       "      <td>Iris-versicolor</td>\n",
       "    </tr>\n",
       "    <tr>\n",
       "      <th>7</th>\n",
       "      <td>143</td>\n",
       "      <td>5.8</td>\n",
       "      <td>2.7</td>\n",
       "      <td>5.1</td>\n",
       "      <td>1.9</td>\n",
       "      <td>Iris-virginica</td>\n",
       "    </tr>\n",
       "    <tr>\n",
       "      <th>8</th>\n",
       "      <td>117</td>\n",
       "      <td>6.5</td>\n",
       "      <td>3.0</td>\n",
       "      <td>5.5</td>\n",
       "      <td>1.8</td>\n",
       "      <td>Iris-virginica</td>\n",
       "    </tr>\n",
       "    <tr>\n",
       "      <th>9</th>\n",
       "      <td>109</td>\n",
       "      <td>6.7</td>\n",
       "      <td>2.5</td>\n",
       "      <td>5.8</td>\n",
       "      <td>1.8</td>\n",
       "      <td>Iris-virginica</td>\n",
       "    </tr>\n",
       "  </tbody>\n",
       "</table>\n",
       "</div>"
      ],
      "text/plain": [
       "    Id  SepalLengthCm SepalWidthCm  PetalLengthCm  PetalWidthCm  \\\n",
       "0   25            4.8          3.4            1.9           0.2   \n",
       "1   24            5.1          3.3            1.7           0.5   \n",
       "2  139            6.0          3.0            4.8           1.8   \n",
       "3   88            6.3          2.3            4.4           1.3   \n",
       "4  135            6.1          2.6            5.6           1.4   \n",
       "5   87            6.7          3.1            4.7           1.5   \n",
       "6   89            5.6          3.0            4.1           1.3   \n",
       "7  143            5.8          2.7            5.1           1.9   \n",
       "8  117            6.5          3.0            5.5           1.8   \n",
       "9  109            6.7          2.5            5.8           1.8   \n",
       "\n",
       "           Species  \n",
       "0      Iris-setosa  \n",
       "1      Iris-setosa  \n",
       "2   Iris-virginica  \n",
       "3  Iris-versicolor  \n",
       "4   Iris-virginica  \n",
       "5  Iris-versicolor  \n",
       "6  Iris-versicolor  \n",
       "7   Iris-virginica  \n",
       "8   Iris-virginica  \n",
       "9   Iris-virginica  "
      ]
     },
     "execution_count": 3,
     "metadata": {},
     "output_type": "execute_result"
    }
   ],
   "source": [
    "df.head(10)"
   ]
  },
  {
   "cell_type": "markdown",
   "id": "6289868f",
   "metadata": {},
   "source": [
    "We could also look at the last few rows of the data with `df.tail()`, or a random sample of rows with `df.sample()`.\n",
    "\n",
    "To check the number of rows and columns we can use:"
   ]
  },
  {
   "cell_type": "code",
   "execution_count": 4,
   "id": "7bce880c",
   "metadata": {},
   "outputs": [
    {
     "name": "stdout",
     "output_type": "stream",
     "text": [
      "(157, 6)\n"
     ]
    }
   ],
   "source": [
    "print(df.shape)"
   ]
  },
  {
   "cell_type": "markdown",
   "id": "867edbd9",
   "metadata": {},
   "source": [
    "Our data has 157 rows and 6 columns. It might also be useful to look at the column names (especially for larger datasets with many columns where they may not all be displayed by `df.head()`):"
   ]
  },
  {
   "cell_type": "code",
   "execution_count": 5,
   "id": "dfa54809",
   "metadata": {},
   "outputs": [
    {
     "name": "stdout",
     "output_type": "stream",
     "text": [
      "Index(['Id', 'SepalLengthCm', 'SepalWidthCm', 'PetalLengthCm', 'PetalWidthCm',\n",
      "       'Species'],\n",
      "      dtype='object')\n"
     ]
    }
   ],
   "source": [
    "print(df.columns)"
   ]
  },
  {
   "cell_type": "markdown",
   "id": "37ed133b",
   "metadata": {},
   "source": [
    "A useful command that summarises much of this information is `df.info()`:"
   ]
  },
  {
   "cell_type": "code",
   "execution_count": 6,
   "id": "ff5c537c",
   "metadata": {},
   "outputs": [
    {
     "name": "stdout",
     "output_type": "stream",
     "text": [
      "<class 'pandas.core.frame.DataFrame'>\n",
      "RangeIndex: 157 entries, 0 to 156\n",
      "Data columns (total 6 columns):\n",
      " #   Column         Non-Null Count  Dtype  \n",
      "---  ------         --------------  -----  \n",
      " 0   Id             157 non-null    int64  \n",
      " 1   SepalLengthCm  157 non-null    float64\n",
      " 2   SepalWidthCm   157 non-null    object \n",
      " 3   PetalLengthCm  157 non-null    float64\n",
      " 4   PetalWidthCm   155 non-null    float64\n",
      " 5   Species        157 non-null    object \n",
      "dtypes: float64(3), int64(1), object(2)\n",
      "memory usage: 7.5+ KB\n"
     ]
    }
   ],
   "source": [
    "df.info()"
   ]
  },
  {
   "cell_type": "markdown",
   "id": "f8ed6aaf",
   "metadata": {},
   "source": [
    "This gives us the number of rows (entries) and columns at the top, and then a table with the name, number of non-null values, and data type of each column. Finally, it gives the amount of memory the data frame is using. Pandas can use a lot of memory, which may cause problems when analysing large datasets. The [Scaling to large datasets](https://pandas.pydata.org/pandas-docs/stable/user_guide/scale.html) page in the Pandas documentation gives pointers for what you can try in that case."
   ]
  },
  {
   "cell_type": "markdown",
   "id": "498b00b3",
   "metadata": {},
   "source": [
    "## Null Values\n",
    "\n",
    "The data frame info shows we have 157 \"non-null\" values in all the columns except `PetalWidthCm`, where there are 155. There are 157 rows in our data, so that means there are 2 \"null\" values in the `PetalWidthCm` column.\n",
    "\n",
    "\"Null values\" is Pandas' way of describing data that is missing. Under the hood, these are encoded as NumPy's NaN (not a number) constant (see [here](https://numpy.org/doc/stable/reference/constants.html#numpy.nan)), which has type `float64` so numeric columns with NaN values still have a numeric type and can have numeric operations applied to them.\n",
    "\n",
    "To find missing values in a column we can use the `isnull()` function:\n"
   ]
  },
  {
   "cell_type": "code",
   "execution_count": 7,
   "id": "541355b9",
   "metadata": {},
   "outputs": [
    {
     "name": "stdout",
     "output_type": "stream",
     "text": [
      "0      False\n",
      "1      False\n",
      "2      False\n",
      "3      False\n",
      "4      False\n",
      "       ...  \n",
      "152    False\n",
      "153    False\n",
      "154    False\n",
      "155    False\n",
      "156    False\n",
      "Name: PetalWidthCm, Length: 157, dtype: bool\n"
     ]
    }
   ],
   "source": [
    "is_missing = df[\"PetalWidthCm\"].isnull()\n",
    "print(is_missing)"
   ]
  },
  {
   "cell_type": "markdown",
   "id": "8129dc9c",
   "metadata": {},
   "source": [
    "This returns a boolean series which is True if that row's value is NaN, which can then be used to filter the data frame and show only the rows with missing data in the `PetalWidthCm` column:"
   ]
  },
  {
   "cell_type": "code",
   "execution_count": 8,
   "id": "ad52255a",
   "metadata": {},
   "outputs": [
    {
     "data": {
      "text/html": [
       "<div>\n",
       "<style scoped>\n",
       "    .dataframe tbody tr th:only-of-type {\n",
       "        vertical-align: middle;\n",
       "    }\n",
       "\n",
       "    .dataframe tbody tr th {\n",
       "        vertical-align: top;\n",
       "    }\n",
       "\n",
       "    .dataframe thead th {\n",
       "        text-align: right;\n",
       "    }\n",
       "</style>\n",
       "<table border=\"1\" class=\"dataframe\">\n",
       "  <thead>\n",
       "    <tr style=\"text-align: right;\">\n",
       "      <th></th>\n",
       "      <th>Id</th>\n",
       "      <th>SepalLengthCm</th>\n",
       "      <th>SepalWidthCm</th>\n",
       "      <th>PetalLengthCm</th>\n",
       "      <th>PetalWidthCm</th>\n",
       "      <th>Species</th>\n",
       "    </tr>\n",
       "  </thead>\n",
       "  <tbody>\n",
       "    <tr>\n",
       "      <th>92</th>\n",
       "      <td>156</td>\n",
       "      <td>6.6</td>\n",
       "      <td>3.0</td>\n",
       "      <td>4.8</td>\n",
       "      <td>NaN</td>\n",
       "      <td>Iris-versicolor</td>\n",
       "    </tr>\n",
       "    <tr>\n",
       "      <th>145</th>\n",
       "      <td>155</td>\n",
       "      <td>5.0</td>\n",
       "      <td>3.9</td>\n",
       "      <td>1.5</td>\n",
       "      <td>NaN</td>\n",
       "      <td>Iris-setosa</td>\n",
       "    </tr>\n",
       "  </tbody>\n",
       "</table>\n",
       "</div>"
      ],
      "text/plain": [
       "      Id  SepalLengthCm SepalWidthCm  PetalLengthCm  PetalWidthCm  \\\n",
       "92   156            6.6          3.0            4.8           NaN   \n",
       "145  155            5.0          3.9            1.5           NaN   \n",
       "\n",
       "             Species  \n",
       "92   Iris-versicolor  \n",
       "145      Iris-setosa  "
      ]
     },
     "execution_count": 8,
     "metadata": {},
     "output_type": "execute_result"
    }
   ],
   "source": [
    "df[is_missing]"
   ]
  },
  {
   "cell_type": "markdown",
   "id": "4eadf9d4",
   "metadata": {},
   "source": [
    "There are many reasons data could be missing and how you choose to deal with them is an important part of any research project. We'll revisit this later."
   ]
  },
  {
   "cell_type": "markdown",
   "id": "d924d5b4",
   "metadata": {},
   "source": [
    "## Unexpected Column Types\n",
    "\n",
    "Looking at the first few rows of our data (the output of `df.head()` above) it looks like we expect the `Id`, `SepalLengthCm`, `SepalWidthCm`, `PetalLengthCm` and `PetalWidthCm` columns to have a numeric type. Comparing with the output of `df.info()` above most of them do, having a dtype (data type) of either `int64` or `float64`.\n",
    "\n",
    "However, the `SepalWidthCm` column has a dtype of `object`, which usually means the column is being treated as strings/text data. This will generally  be because there is at least one row in the column that Pandas was not able to parse as a number. Common reasons this might happen include:\n",
    "- Data entry errors and typos, for example \"23/15\" instead of \"23.15\".\n",
    "- Encoding of missing values: The `pd.read_csv()` function checks for common string representations of missing values like \"NA\" or \"NULL\" and converts these to `numpy.nan` when loading the data. But many different conventions for missing data exist, such as more verbose representations like \"UNKNOWN\", and Pandas will load these as strings by default. This can be customised with the `na_values` parameter of [`pd.read_csv()`](https://pandas.pydata.org/pandas-docs/stable/reference/api/pandas.read_csv.html).\n",
    "- Additional metadata incorrectly loaded into the data frame, such as CSV files with headers and footers (as seen in the [Data Sources & Formats section](2-01-04-DataSourcesAndFormats) previously).\n",
    "\n",
    "To see what's wrong with the `SepalWidthCm` column we can try to convert it to a numeric type with the [`pd.to_numeric`](https://pandas.pydata.org/pandas-docs/stable/reference/api/pandas.to_numeric.html) function:\n"
   ]
  },
  {
   "cell_type": "code",
   "execution_count": 9,
   "id": "a1547ef1",
   "metadata": {
    "tags": [
     "raises-exception"
    ]
   },
   "outputs": [
    {
     "ename": "ValueError",
     "evalue": "Unable to parse string \"3,1\" at position 51",
     "output_type": "error",
     "traceback": [
      "\u001b[0;31m---------------------------------------------------------------------------\u001b[0m",
      "\u001b[0;31mValueError\u001b[0m                                Traceback (most recent call last)",
      "\u001b[0;32m~/opt/anaconda3/envs/rds-course/lib/python3.9/site-packages/pandas/_libs/lib.pyx\u001b[0m in \u001b[0;36mpandas._libs.lib.maybe_convert_numeric\u001b[0;34m()\u001b[0m\n",
      "\u001b[0;31mValueError\u001b[0m: Unable to parse string \"3,1\"",
      "\nDuring handling of the above exception, another exception occurred:\n",
      "\u001b[0;31mValueError\u001b[0m                                Traceback (most recent call last)",
      "\u001b[0;32m/var/folders/xv/d5nvn2ps5r3fcf276w707n01qdmpqf/T/ipykernel_69525/1842675192.py\u001b[0m in \u001b[0;36m<module>\u001b[0;34m\u001b[0m\n\u001b[0;32m----> 1\u001b[0;31m \u001b[0mdf\u001b[0m\u001b[0;34m[\u001b[0m\u001b[0;34m\"SepalWidthCm\"\u001b[0m\u001b[0;34m]\u001b[0m \u001b[0;34m=\u001b[0m \u001b[0mpd\u001b[0m\u001b[0;34m.\u001b[0m\u001b[0mto_numeric\u001b[0m\u001b[0;34m(\u001b[0m\u001b[0mdf\u001b[0m\u001b[0;34m[\u001b[0m\u001b[0;34m\"SepalWidthCm\"\u001b[0m\u001b[0;34m]\u001b[0m\u001b[0;34m)\u001b[0m\u001b[0;34m\u001b[0m\u001b[0;34m\u001b[0m\u001b[0m\n\u001b[0m",
      "\u001b[0;32m~/opt/anaconda3/envs/rds-course/lib/python3.9/site-packages/pandas/core/tools/numeric.py\u001b[0m in \u001b[0;36mto_numeric\u001b[0;34m(arg, errors, downcast)\u001b[0m\n\u001b[1;32m    181\u001b[0m         \u001b[0mcoerce_numeric\u001b[0m \u001b[0;34m=\u001b[0m \u001b[0merrors\u001b[0m \u001b[0;32mnot\u001b[0m \u001b[0;32min\u001b[0m \u001b[0;34m(\u001b[0m\u001b[0;34m\"ignore\"\u001b[0m\u001b[0;34m,\u001b[0m \u001b[0;34m\"raise\"\u001b[0m\u001b[0;34m)\u001b[0m\u001b[0;34m\u001b[0m\u001b[0;34m\u001b[0m\u001b[0m\n\u001b[1;32m    182\u001b[0m         \u001b[0;32mtry\u001b[0m\u001b[0;34m:\u001b[0m\u001b[0;34m\u001b[0m\u001b[0;34m\u001b[0m\u001b[0m\n\u001b[0;32m--> 183\u001b[0;31m             values, _ = lib.maybe_convert_numeric(\n\u001b[0m\u001b[1;32m    184\u001b[0m                 \u001b[0mvalues\u001b[0m\u001b[0;34m,\u001b[0m \u001b[0mset\u001b[0m\u001b[0;34m(\u001b[0m\u001b[0;34m)\u001b[0m\u001b[0;34m,\u001b[0m \u001b[0mcoerce_numeric\u001b[0m\u001b[0;34m=\u001b[0m\u001b[0mcoerce_numeric\u001b[0m\u001b[0;34m\u001b[0m\u001b[0;34m\u001b[0m\u001b[0m\n\u001b[1;32m    185\u001b[0m             )\n",
      "\u001b[0;32m~/opt/anaconda3/envs/rds-course/lib/python3.9/site-packages/pandas/_libs/lib.pyx\u001b[0m in \u001b[0;36mpandas._libs.lib.maybe_convert_numeric\u001b[0;34m()\u001b[0m\n",
      "\u001b[0;31mValueError\u001b[0m: Unable to parse string \"3,1\" at position 51"
     ]
    }
   ],
   "source": [
    "df[\"SepalWidthCm\"] = pd.to_numeric(df[\"SepalWidthCm\"])"
   ]
  },
  {
   "cell_type": "markdown",
   "id": "b6ba77b9",
   "metadata": {},
   "source": [
    "The error above tells us Pandas has encountered a value \"3,1\", which it doesn't know how to convert into a number. It also says the problem is at index 51, which we can access ourselves to check the value directly:"
   ]
  },
  {
   "cell_type": "code",
   "execution_count": 10,
   "id": "0b1cff3c",
   "metadata": {},
   "outputs": [
    {
     "data": {
      "text/plain": [
       "'3,1'"
      ]
     },
     "execution_count": 10,
     "metadata": {},
     "output_type": "execute_result"
    }
   ],
   "source": [
    "df.loc[51, \"SepalWidthCm\"]"
   ]
  },
  {
   "cell_type": "markdown",
   "id": "f8023508",
   "metadata": {},
   "source": [
    "In this case it looks like a typo, the person entering the data probably meant to write `3.1`, but we should check this first. There may be information in the data documentation, or you could ask the data provider. It's possible that this should actually be treated as two measurements (3 and 1), for example.\n",
    "\n",
    "Let's say we're confident it is a typo. We can fix it ourselves and then convert the column to a numeric type:"
   ]
  },
  {
   "cell_type": "code",
   "execution_count": 11,
   "id": "48a448ec",
   "metadata": {},
   "outputs": [
    {
     "name": "stdout",
     "output_type": "stream",
     "text": [
      "<class 'pandas.core.frame.DataFrame'>\n",
      "RangeIndex: 157 entries, 0 to 156\n",
      "Data columns (total 6 columns):\n",
      " #   Column         Non-Null Count  Dtype  \n",
      "---  ------         --------------  -----  \n",
      " 0   Id             157 non-null    int64  \n",
      " 1   SepalLengthCm  157 non-null    float64\n",
      " 2   SepalWidthCm   157 non-null    float64\n",
      " 3   PetalLengthCm  157 non-null    float64\n",
      " 4   PetalWidthCm   155 non-null    float64\n",
      " 5   Species        157 non-null    object \n",
      "dtypes: float64(4), int64(1), object(1)\n",
      "memory usage: 7.5+ KB\n"
     ]
    }
   ],
   "source": [
    "# set the incorrectly typed number to its intended value\n",
    "df.loc[51, \"SepalWidthCm\"] = 3.1\n",
    "# convert the column to a numeric type\n",
    "df[\"SepalWidthCm\"] = pd.to_numeric(df[\"SepalWidthCm\"])\n",
    "\n",
    "df.info()"
   ]
  },
  {
   "cell_type": "markdown",
   "id": "7ade8d5d",
   "metadata": {},
   "source": [
    "The `SepalWidthCm` now has type `float64` as we originally expected.\n",
    "\n",
    "This was a simple example with just one strange value - we'll see more approaches for handling and sanitising strings later."
   ]
  },
  {
   "cell_type": "markdown",
   "id": "24eca291",
   "metadata": {},
   "source": [
    "## Sanity Checking Values\n",
    "\n",
    "### Numeric Columns\n",
    "\n",
    "The pandas `describe()` function gives summary statistics for the numeric columns in our data (the mean, standard deviation, minimum and maximum value, and quartiles for each column):"
   ]
  },
  {
   "cell_type": "code",
   "execution_count": 12,
   "id": "e2b5f300",
   "metadata": {},
   "outputs": [
    {
     "data": {
      "text/html": [
       "<div>\n",
       "<style scoped>\n",
       "    .dataframe tbody tr th:only-of-type {\n",
       "        vertical-align: middle;\n",
       "    }\n",
       "\n",
       "    .dataframe tbody tr th {\n",
       "        vertical-align: top;\n",
       "    }\n",
       "\n",
       "    .dataframe thead th {\n",
       "        text-align: right;\n",
       "    }\n",
       "</style>\n",
       "<table border=\"1\" class=\"dataframe\">\n",
       "  <thead>\n",
       "    <tr style=\"text-align: right;\">\n",
       "      <th></th>\n",
       "      <th>Id</th>\n",
       "      <th>SepalLengthCm</th>\n",
       "      <th>SepalWidthCm</th>\n",
       "      <th>PetalLengthCm</th>\n",
       "      <th>PetalWidthCm</th>\n",
       "    </tr>\n",
       "  </thead>\n",
       "  <tbody>\n",
       "    <tr>\n",
       "      <th>count</th>\n",
       "      <td>157.000000</td>\n",
       "      <td>157.000000</td>\n",
       "      <td>157.000000</td>\n",
       "      <td>157.000000</td>\n",
       "      <td>155.000000</td>\n",
       "    </tr>\n",
       "    <tr>\n",
       "      <th>mean</th>\n",
       "      <td>78.337580</td>\n",
       "      <td>5.180255</td>\n",
       "      <td>3.060510</td>\n",
       "      <td>3.988535</td>\n",
       "      <td>1.229032</td>\n",
       "    </tr>\n",
       "    <tr>\n",
       "      <th>std</th>\n",
       "      <td>45.078358</td>\n",
       "      <td>8.408104</td>\n",
       "      <td>0.430229</td>\n",
       "      <td>3.383007</td>\n",
       "      <td>0.820355</td>\n",
       "    </tr>\n",
       "    <tr>\n",
       "      <th>min</th>\n",
       "      <td>1.000000</td>\n",
       "      <td>-99.000000</td>\n",
       "      <td>2.000000</td>\n",
       "      <td>1.000000</td>\n",
       "      <td>0.100000</td>\n",
       "    </tr>\n",
       "    <tr>\n",
       "      <th>25%</th>\n",
       "      <td>40.000000</td>\n",
       "      <td>5.100000</td>\n",
       "      <td>2.800000</td>\n",
       "      <td>1.600000</td>\n",
       "      <td>0.300000</td>\n",
       "    </tr>\n",
       "    <tr>\n",
       "      <th>50%</th>\n",
       "      <td>78.000000</td>\n",
       "      <td>5.800000</td>\n",
       "      <td>3.000000</td>\n",
       "      <td>4.400000</td>\n",
       "      <td>1.300000</td>\n",
       "    </tr>\n",
       "    <tr>\n",
       "      <th>75%</th>\n",
       "      <td>117.000000</td>\n",
       "      <td>6.400000</td>\n",
       "      <td>3.300000</td>\n",
       "      <td>5.100000</td>\n",
       "      <td>1.800000</td>\n",
       "    </tr>\n",
       "    <tr>\n",
       "      <th>max</th>\n",
       "      <td>156.000000</td>\n",
       "      <td>7.900000</td>\n",
       "      <td>4.400000</td>\n",
       "      <td>40.000000</td>\n",
       "      <td>5.000000</td>\n",
       "    </tr>\n",
       "  </tbody>\n",
       "</table>\n",
       "</div>"
      ],
      "text/plain": [
       "               Id  SepalLengthCm  SepalWidthCm  PetalLengthCm  PetalWidthCm\n",
       "count  157.000000     157.000000    157.000000     157.000000    155.000000\n",
       "mean    78.337580       5.180255      3.060510       3.988535      1.229032\n",
       "std     45.078358       8.408104      0.430229       3.383007      0.820355\n",
       "min      1.000000     -99.000000      2.000000       1.000000      0.100000\n",
       "25%     40.000000       5.100000      2.800000       1.600000      0.300000\n",
       "50%     78.000000       5.800000      3.000000       4.400000      1.300000\n",
       "75%    117.000000       6.400000      3.300000       5.100000      1.800000\n",
       "max    156.000000       7.900000      4.400000      40.000000      5.000000"
      ]
     },
     "execution_count": 12,
     "metadata": {},
     "output_type": "execute_result"
    }
   ],
   "source": [
    "df.describe()"
   ]
  },
  {
   "cell_type": "markdown",
   "id": "4c98310a",
   "metadata": {},
   "source": [
    "```{warning}\n",
    "Even though `PetalWidthCm` has missing (NaN) values, Pandas is able to compute statistics for that column. When calculating these Pandas will ignore all NaN values by default. To change this behaviour, some functions have a `skipna` argument, for example `df[\"PetalWidthCm\"].mean(skipna=False)` will return NaN if there are _any_ NaN values in the column.\n",
    "\n",
    "You should think carefully about which approach is more suitable for your data (for example, if a column only has a few non-null values will the mean be representative?)\n",
    "```"
   ]
  },
  {
   "cell_type": "markdown",
   "id": "878ebe30",
   "metadata": {},
   "source": [
    "Looking at these values gives us a better idea of what our data contains, but also allows us to perform some sanity checks. For example, do the minimum and maximum values in each column make sense given what we know about the dataset?\n",
    "\n",
    "There are two things that might standout. First, the `SepalLengthCm` column has a minimum value of -99, but all the other values in the data are positive as we'd expect for measurements of lengths and widths. In some datasets missing data is represented with negative values (but this may not always be the case so, as always, make sure to check what they mean in any data you're using).\n",
    "\n",
    "If we're sure `-99` is meant to be a missing value, we can replace those with `numpy.nan` so Pandas will treat them correctly:"
   ]
  },
  {
   "cell_type": "code",
   "execution_count": 13,
   "id": "f844b9a3",
   "metadata": {},
   "outputs": [],
   "source": [
    "df = df.replace(-99, numpy.nan)"
   ]
  },
  {
   "cell_type": "markdown",
   "id": "3fa8a2fc",
   "metadata": {},
   "source": [
    "With these values replaced, the \"actual\" minimum value of `SepalLengthCm` is 4.3 cm:"
   ]
  },
  {
   "cell_type": "code",
   "execution_count": 14,
   "id": "5d7a7d38",
   "metadata": {},
   "outputs": [
    {
     "data": {
      "text/plain": [
       "4.3"
      ]
     },
     "execution_count": 14,
     "metadata": {},
     "output_type": "execute_result"
    }
   ],
   "source": [
    "df[\"SepalLengthCm\"].min()"
   ]
  },
  {
   "cell_type": "markdown",
   "id": "00e8111a",
   "metadata": {},
   "source": [
    "The second thing that stands out is the maximum value of 40 cm in `PetalLengthCm`, which looks far larger than the other values (e.g., the 75% quartile of `PetalLengthCm` is only 5.1 cm). A flower with 40 cm petals would be a sight to see! Excluding the 40 cm value the largest petal length is only 6.9 cm:"
   ]
  },
  {
   "cell_type": "code",
   "execution_count": 15,
   "id": "8bb3868a",
   "metadata": {},
   "outputs": [
    {
     "data": {
      "text/plain": [
       "6.9"
      ]
     },
     "execution_count": 15,
     "metadata": {},
     "output_type": "execute_result"
    }
   ],
   "source": [
    "# True for each row in PetalLengthCm less than the max value of 40 cm\n",
    "smaller_petals = df[\"PetalLengthCm\"] < df[\"PetalLengthCm\"].max()\n",
    "\n",
    "# Maximum petal length out of all rows with lengths below 40 cm\n",
    "df.loc[smaller_petals, \"PetalLengthCm\"].max()"
   ]
  },
  {
   "cell_type": "markdown",
   "id": "107e7525",
   "metadata": {},
   "source": [
    "Another way to see this would be to sort the data frame by petal length using the [`sort_values`](https://pandas.pydata.org/pandas-docs/stable/reference/api/pandas.DataFrame.sort_values.html) function:"
   ]
  },
  {
   "cell_type": "code",
   "execution_count": 28,
   "id": "ce349c0f",
   "metadata": {},
   "outputs": [
    {
     "data": {
      "text/html": [
       "<div>\n",
       "<style scoped>\n",
       "    .dataframe tbody tr th:only-of-type {\n",
       "        vertical-align: middle;\n",
       "    }\n",
       "\n",
       "    .dataframe tbody tr th {\n",
       "        vertical-align: top;\n",
       "    }\n",
       "\n",
       "    .dataframe thead th {\n",
       "        text-align: right;\n",
       "    }\n",
       "</style>\n",
       "<table border=\"1\" class=\"dataframe\">\n",
       "  <thead>\n",
       "    <tr style=\"text-align: right;\">\n",
       "      <th></th>\n",
       "      <th>Id</th>\n",
       "      <th>SepalLengthCm</th>\n",
       "      <th>SepalWidthCm</th>\n",
       "      <th>PetalLengthCm</th>\n",
       "      <th>PetalWidthCm</th>\n",
       "      <th>Species</th>\n",
       "    </tr>\n",
       "  </thead>\n",
       "  <tbody>\n",
       "    <tr>\n",
       "      <th>86</th>\n",
       "      <td>136</td>\n",
       "      <td>7.7</td>\n",
       "      <td>3.0</td>\n",
       "      <td>6.1</td>\n",
       "      <td>2.3</td>\n",
       "      <td>Iris-virginica</td>\n",
       "    </tr>\n",
       "    <tr>\n",
       "      <th>37</th>\n",
       "      <td>131</td>\n",
       "      <td>7.4</td>\n",
       "      <td>2.8</td>\n",
       "      <td>6.1</td>\n",
       "      <td>1.9</td>\n",
       "      <td>Iris-virginica</td>\n",
       "    </tr>\n",
       "    <tr>\n",
       "      <th>156</th>\n",
       "      <td>110</td>\n",
       "      <td>7.2</td>\n",
       "      <td>3.6</td>\n",
       "      <td>6.1</td>\n",
       "      <td>2.5</td>\n",
       "      <td>Iris-virginica</td>\n",
       "    </tr>\n",
       "    <tr>\n",
       "      <th>87</th>\n",
       "      <td>108</td>\n",
       "      <td>7.3</td>\n",
       "      <td>2.9</td>\n",
       "      <td>6.3</td>\n",
       "      <td>1.8</td>\n",
       "      <td>Iris-virginica</td>\n",
       "    </tr>\n",
       "    <tr>\n",
       "      <th>60</th>\n",
       "      <td>132</td>\n",
       "      <td>7.9</td>\n",
       "      <td>3.8</td>\n",
       "      <td>6.4</td>\n",
       "      <td>2.0</td>\n",
       "      <td>Iris-virginica</td>\n",
       "    </tr>\n",
       "    <tr>\n",
       "      <th>128</th>\n",
       "      <td>106</td>\n",
       "      <td>7.6</td>\n",
       "      <td>3.0</td>\n",
       "      <td>6.6</td>\n",
       "      <td>2.1</td>\n",
       "      <td>Iris-virginica</td>\n",
       "    </tr>\n",
       "    <tr>\n",
       "      <th>116</th>\n",
       "      <td>123</td>\n",
       "      <td>7.7</td>\n",
       "      <td>2.8</td>\n",
       "      <td>6.7</td>\n",
       "      <td>2.0</td>\n",
       "      <td>Iris-virginica</td>\n",
       "    </tr>\n",
       "    <tr>\n",
       "      <th>108</th>\n",
       "      <td>118</td>\n",
       "      <td>7.7</td>\n",
       "      <td>3.8</td>\n",
       "      <td>6.7</td>\n",
       "      <td>2.2</td>\n",
       "      <td>Iris-virginica</td>\n",
       "    </tr>\n",
       "    <tr>\n",
       "      <th>120</th>\n",
       "      <td>119</td>\n",
       "      <td>7.7</td>\n",
       "      <td>2.6</td>\n",
       "      <td>6.9</td>\n",
       "      <td>2.3</td>\n",
       "      <td>Iris-virginica</td>\n",
       "    </tr>\n",
       "    <tr>\n",
       "      <th>131</th>\n",
       "      <td>154</td>\n",
       "      <td>6.0</td>\n",
       "      <td>2.9</td>\n",
       "      <td>40.0</td>\n",
       "      <td>1.7</td>\n",
       "      <td>Iris-versicolor</td>\n",
       "    </tr>\n",
       "  </tbody>\n",
       "</table>\n",
       "</div>"
      ],
      "text/plain": [
       "      Id  SepalLengthCm  SepalWidthCm  PetalLengthCm  PetalWidthCm  \\\n",
       "86   136            7.7           3.0            6.1           2.3   \n",
       "37   131            7.4           2.8            6.1           1.9   \n",
       "156  110            7.2           3.6            6.1           2.5   \n",
       "87   108            7.3           2.9            6.3           1.8   \n",
       "60   132            7.9           3.8            6.4           2.0   \n",
       "128  106            7.6           3.0            6.6           2.1   \n",
       "116  123            7.7           2.8            6.7           2.0   \n",
       "108  118            7.7           3.8            6.7           2.2   \n",
       "120  119            7.7           2.6            6.9           2.3   \n",
       "131  154            6.0           2.9           40.0           1.7   \n",
       "\n",
       "             Species  \n",
       "86    Iris-virginica  \n",
       "37    Iris-virginica  \n",
       "156   Iris-virginica  \n",
       "87    Iris-virginica  \n",
       "60    Iris-virginica  \n",
       "128   Iris-virginica  \n",
       "116   Iris-virginica  \n",
       "108   Iris-virginica  \n",
       "120   Iris-virginica  \n",
       "131  Iris-versicolor  "
      ]
     },
     "execution_count": 28,
     "metadata": {},
     "output_type": "execute_result"
    }
   ],
   "source": [
    "df.sort_values(by=\"PetalLengthCm\").tail(10)"
   ]
  },
  {
   "cell_type": "markdown",
   "id": "d31ea54b",
   "metadata": {},
   "source": [
    "```{note}\n",
    "By default `sort_values` sorts values from smallest to largest, you can change that by setting `ascending=False`. \n",
    "```\n",
    "\n",
    "```{note}\n",
    "`tail` is the opposite of `head` and returns the last few rows of a data frame.\n",
    "```\n",
    "\n",
    "Again, we see the 2nd largest value in the column is only 6.9 cm. It's likely this is another data entry error (perhaps it was meant to be 4.0 cm), but this type of issue is much more nuanced and difficult to spot in real world scenarios. Visualizing the data (and distributions in the data) can be very helpful here, which is the focus of the next module."
   ]
  },
  {
   "cell_type": "markdown",
   "id": "57aaa8ca",
   "metadata": {},
   "source": [
    "### Text and Categorical Columns\n",
    "\n",
    "Note that the `Species` column does not appear when we use `describe()` above as it contains text. For both text and numeric columns, it can be helpful to know the number of unique values in each column:"
   ]
  },
  {
   "cell_type": "code",
   "execution_count": 17,
   "id": "b0e00076",
   "metadata": {},
   "outputs": [
    {
     "data": {
      "text/plain": [
       "Id               156\n",
       "SepalLengthCm     35\n",
       "SepalWidthCm      23\n",
       "PetalLengthCm     44\n",
       "PetalWidthCm      23\n",
       "Species            4\n",
       "dtype: int64"
      ]
     },
     "execution_count": 17,
     "metadata": {},
     "output_type": "execute_result"
    }
   ],
   "source": [
    "df.nunique()"
   ]
  },
  {
   "cell_type": "markdown",
   "id": "85a7b47f",
   "metadata": {},
   "source": [
    "The numeric columns all have many unique values as expected, and the `Species` class column has four different values. However, from the dataset documentation we only expect there to be three flower species.\n",
    "\n",
    "The `value_counts()` function, applied to the `Species` column, shows the number of occurrences of the different values in that column:"
   ]
  },
  {
   "cell_type": "code",
   "execution_count": 18,
   "id": "82ae93ef",
   "metadata": {},
   "outputs": [
    {
     "data": {
      "text/plain": [
       "Iris-versicolor    53\n",
       "Iris-setosa        52\n",
       "Iris-virginica     51\n",
       "UNKNOWN             1\n",
       "Name: Species, dtype: int64"
      ]
     },
     "execution_count": 18,
     "metadata": {},
     "output_type": "execute_result"
    }
   ],
   "source": [
    "df[\"Species\"].value_counts()"
   ]
  },
  {
   "cell_type": "markdown",
   "id": "01273fce",
   "metadata": {},
   "source": [
    "The \"setosa\", \"versicolor\", and \"virginica\" species described in the documentation all appear, but there's also an \"UNKNOWN\" entry. This looks like it should have been treated as a missing value. To make Pandas correctly treat it as missing we can replace it with `numpy.nan` using the [`replace`](https://pandas.pydata.org/docs/reference/api/pandas.DataFrame.replace.html?highlight=replace#pandas.DataFrame.replace) method:"
   ]
  },
  {
   "cell_type": "code",
   "execution_count": 19,
   "id": "bfadf286",
   "metadata": {},
   "outputs": [
    {
     "data": {
      "text/plain": [
       "Iris-versicolor    53\n",
       "Iris-setosa        52\n",
       "Iris-virginica     51\n",
       "Name: Species, dtype: int64"
      ]
     },
     "execution_count": 19,
     "metadata": {},
     "output_type": "execute_result"
    }
   ],
   "source": [
    "df[\"Species\"] = df[\"Species\"].replace(\"UNKNOWN\", numpy.nan)\n",
    "df[\"Species\"].value_counts()"
   ]
  },
  {
   "cell_type": "markdown",
   "id": "cd98d7fa",
   "metadata": {},
   "source": [
    "```{note}\n",
    "By default, the `value_counts` will not display the number of missing values in the column. To show that you can use `df[\"Species\"].value_counts(dropna=False)` instead. You can also try `df[\"Species\"].value_counts(normalize=True)` to show the fraction of data with each value, rather than the count.\n",
    "```\n",
    "\n",
    "We'll look at more approaches for manipulating strings and categories in Sections [2.2.4.2](2-02-04-02-TextData) and [2.2.4.3](2-02-04-02-TextData) of this module.\n",
    "\n",
    "Finally, it may be interesting to look at how the petal and sepal sizes vary between the species. We can do that with the Pandas [`groupby`](https://pandas.pydata.org/docs/reference/api/pandas.DataFrame.groupby.html) function: "
   ]
  },
  {
   "cell_type": "code",
   "execution_count": 20,
   "id": "ee83308a",
   "metadata": {},
   "outputs": [
    {
     "data": {
      "text/html": [
       "<div>\n",
       "<style scoped>\n",
       "    .dataframe tbody tr th:only-of-type {\n",
       "        vertical-align: middle;\n",
       "    }\n",
       "\n",
       "    .dataframe tbody tr th {\n",
       "        vertical-align: top;\n",
       "    }\n",
       "\n",
       "    .dataframe thead th {\n",
       "        text-align: right;\n",
       "    }\n",
       "</style>\n",
       "<table border=\"1\" class=\"dataframe\">\n",
       "  <thead>\n",
       "    <tr style=\"text-align: right;\">\n",
       "      <th></th>\n",
       "      <th>Id</th>\n",
       "      <th>SepalLengthCm</th>\n",
       "      <th>SepalWidthCm</th>\n",
       "      <th>PetalLengthCm</th>\n",
       "      <th>PetalWidthCm</th>\n",
       "    </tr>\n",
       "    <tr>\n",
       "      <th>Species</th>\n",
       "      <th></th>\n",
       "      <th></th>\n",
       "      <th></th>\n",
       "      <th></th>\n",
       "      <th></th>\n",
       "    </tr>\n",
       "  </thead>\n",
       "  <tbody>\n",
       "    <tr>\n",
       "      <th>Iris-setosa</th>\n",
       "      <td>30.442308</td>\n",
       "      <td>5.005769</td>\n",
       "      <td>3.421154</td>\n",
       "      <td>1.461538</td>\n",
       "      <td>0.243137</td>\n",
       "    </tr>\n",
       "    <tr>\n",
       "      <th>Iris-versicolor</th>\n",
       "      <td>78.075472</td>\n",
       "      <td>5.967925</td>\n",
       "      <td>2.783019</td>\n",
       "      <td>4.956604</td>\n",
       "      <td>1.336538</td>\n",
       "    </tr>\n",
       "    <tr>\n",
       "      <th>Iris-virginica</th>\n",
       "      <td>126.000000</td>\n",
       "      <td>6.588000</td>\n",
       "      <td>2.982353</td>\n",
       "      <td>5.541176</td>\n",
       "      <td>2.084314</td>\n",
       "    </tr>\n",
       "  </tbody>\n",
       "</table>\n",
       "</div>"
      ],
      "text/plain": [
       "                         Id  SepalLengthCm  SepalWidthCm  PetalLengthCm  \\\n",
       "Species                                                                   \n",
       "Iris-setosa       30.442308       5.005769      3.421154       1.461538   \n",
       "Iris-versicolor   78.075472       5.967925      2.783019       4.956604   \n",
       "Iris-virginica   126.000000       6.588000      2.982353       5.541176   \n",
       "\n",
       "                 PetalWidthCm  \n",
       "Species                        \n",
       "Iris-setosa          0.243137  \n",
       "Iris-versicolor      1.336538  \n",
       "Iris-virginica       2.084314  "
      ]
     },
     "execution_count": 20,
     "metadata": {},
     "output_type": "execute_result"
    }
   ],
   "source": [
    "df.groupby(\"Species\").mean()"
   ]
  },
  {
   "cell_type": "markdown",
   "id": "e6b4a401",
   "metadata": {},
   "source": [
    "`df.groupby(\"Species\")` splits the date frame into sub-groups with the same value in the \"Species\" column. We then must specify a function we want to use to summarize the members of each group, in this case the mean. It looks like, on average, \"Iris-virginica\" has the largest flowers, but \"Iris-setosa\" has the widest sepals. For more information about using `groupby` see [here](https://pandas.pydata.org/pandas-docs/stable/user_guide/groupby.html)."
   ]
  },
  {
   "cell_type": "markdown",
   "id": "ae5ed4d5",
   "metadata": {},
   "source": [
    "## Duplicate Data\n",
    "\n",
    "In the output of `df.unique()` above we see the `Id` column has 156 unique values, one fewer than the 157 rows in the dataset. We expect `Id` to be a unique identifier, so to have 157 unique values (1 for each row). What's going on?\n",
    "\n",
    "One explanation could be that there are duplicate rows in the data. The [`duplicated`](https://pandas.pydata.org/docs/reference/api/pandas.DataFrame.duplicated.html) method of a data frame returns True for any rows that appear multiple times in the data (with an exact copy of all values):"
   ]
  },
  {
   "cell_type": "code",
   "execution_count": 21,
   "id": "23341c3d",
   "metadata": {},
   "outputs": [
    {
     "data": {
      "text/plain": [
       "0      False\n",
       "1      False\n",
       "2      False\n",
       "3      False\n",
       "4      False\n",
       "       ...  \n",
       "152    False\n",
       "153    False\n",
       "154    False\n",
       "155    False\n",
       "156    False\n",
       "Length: 157, dtype: bool"
      ]
     },
     "execution_count": 21,
     "metadata": {},
     "output_type": "execute_result"
    }
   ],
   "source": [
    "df.duplicated()"
   ]
  },
  {
   "cell_type": "markdown",
   "id": "0024b9ac",
   "metadata": {},
   "source": [
    "We can use this to filter the data frame and show only the duplicated rows:"
   ]
  },
  {
   "cell_type": "code",
   "execution_count": 22,
   "id": "90f205fc",
   "metadata": {},
   "outputs": [
    {
     "data": {
      "text/html": [
       "<div>\n",
       "<style scoped>\n",
       "    .dataframe tbody tr th:only-of-type {\n",
       "        vertical-align: middle;\n",
       "    }\n",
       "\n",
       "    .dataframe tbody tr th {\n",
       "        vertical-align: top;\n",
       "    }\n",
       "\n",
       "    .dataframe thead th {\n",
       "        text-align: right;\n",
       "    }\n",
       "</style>\n",
       "<table border=\"1\" class=\"dataframe\">\n",
       "  <thead>\n",
       "    <tr style=\"text-align: right;\">\n",
       "      <th></th>\n",
       "      <th>Id</th>\n",
       "      <th>SepalLengthCm</th>\n",
       "      <th>SepalWidthCm</th>\n",
       "      <th>PetalLengthCm</th>\n",
       "      <th>PetalWidthCm</th>\n",
       "      <th>Species</th>\n",
       "    </tr>\n",
       "  </thead>\n",
       "  <tbody>\n",
       "    <tr>\n",
       "      <th>55</th>\n",
       "      <td>53</td>\n",
       "      <td>6.9</td>\n",
       "      <td>3.1</td>\n",
       "      <td>4.9</td>\n",
       "      <td>1.5</td>\n",
       "      <td>Iris-versicolor</td>\n",
       "    </tr>\n",
       "    <tr>\n",
       "      <th>124</th>\n",
       "      <td>53</td>\n",
       "      <td>6.9</td>\n",
       "      <td>3.1</td>\n",
       "      <td>4.9</td>\n",
       "      <td>1.5</td>\n",
       "      <td>Iris-versicolor</td>\n",
       "    </tr>\n",
       "  </tbody>\n",
       "</table>\n",
       "</div>"
      ],
      "text/plain": [
       "     Id  SepalLengthCm  SepalWidthCm  PetalLengthCm  PetalWidthCm  \\\n",
       "55   53            6.9           3.1            4.9           1.5   \n",
       "124  53            6.9           3.1            4.9           1.5   \n",
       "\n",
       "             Species  \n",
       "55   Iris-versicolor  \n",
       "124  Iris-versicolor  "
      ]
     },
     "execution_count": 22,
     "metadata": {},
     "output_type": "execute_result"
    }
   ],
   "source": [
    "df[df.duplicated(keep=False)]"
   ]
  },
  {
   "cell_type": "markdown",
   "id": "3692d88d",
   "metadata": {},
   "source": [
    "```{note}\n",
    "By default, the `duplicated` function only marks the second and subsequent instances of the same data as being duplicates. Setting `keep=False` marks the first instance as a duplicate as well.\n",
    "```\n",
    "\n",
    "We see there are two entries for the Iris-versicolor with `Id` 53 in the data. Why might that be the case? It could be caused by a data entry/processing issue and be there by mistake, or be a genuine repeated measurement for this flower, for example. It's important to understand the context before taking any action.\n",
    "\n",
    "If it's a data entry error a valid approach may be to delete the duplicate data. This can be done with the [`drop_duplicates`](https://pandas.pydata.org/docs/reference/api/pandas.DataFrame.drop_duplicates.html?highlight=drop_duplicates#pandas.DataFrame.drop_duplicates) method:"
   ]
  },
  {
   "cell_type": "code",
   "execution_count": 23,
   "id": "39c214f8",
   "metadata": {},
   "outputs": [
    {
     "name": "stdout",
     "output_type": "stream",
     "text": [
      "Length before removing duplicates: 157 rows\n",
      "Length after removing duplicates: 156 rows\n"
     ]
    }
   ],
   "source": [
    "print(\"Length before removing duplicates:\", len(df), \"rows\")\n",
    "df = df.drop_duplicates()\n",
    "print(\"Length after removing duplicates:\", len(df), \"rows\")"
   ]
  },
  {
   "cell_type": "markdown",
   "id": "76933b08",
   "metadata": {},
   "source": [
    "## Displaying Data Frames with Style 😎\n",
    "\n",
    "You can get fancy with how you display data frames by highlighting and formatting cells differently using its `style` attribute. There are a few examples below, for more details see the [Table Visualization page in the Pandas documentation](https://pandas.pydata.org/pandas-docs/stable/user_guide/style.html#Styler-Object-and-HTML).\n",
    "\n",
    "Change the precision with which numbers are displayed:"
   ]
  },
  {
   "cell_type": "code",
   "execution_count": 24,
   "id": "f0de84c8",
   "metadata": {},
   "outputs": [
    {
     "data": {
      "text/html": [
       "<style type=\"text/css\">\n",
       "</style>\n",
       "<table id=\"T_988cb_\">\n",
       "  <thead>\n",
       "    <tr>\n",
       "      <th class=\"blank level0\" >&nbsp;</th>\n",
       "      <th class=\"col_heading level0 col0\" >Id</th>\n",
       "      <th class=\"col_heading level0 col1\" >SepalLengthCm</th>\n",
       "      <th class=\"col_heading level0 col2\" >SepalWidthCm</th>\n",
       "      <th class=\"col_heading level0 col3\" >PetalLengthCm</th>\n",
       "      <th class=\"col_heading level0 col4\" >PetalWidthCm</th>\n",
       "      <th class=\"col_heading level0 col5\" >Species</th>\n",
       "    </tr>\n",
       "  </thead>\n",
       "  <tbody>\n",
       "    <tr>\n",
       "      <th id=\"T_988cb_level0_row0\" class=\"row_heading level0 row0\" >0</th>\n",
       "      <td id=\"T_988cb_row0_col0\" class=\"data row0 col0\" >25</td>\n",
       "      <td id=\"T_988cb_row0_col1\" class=\"data row0 col1\" >5</td>\n",
       "      <td id=\"T_988cb_row0_col2\" class=\"data row0 col2\" >3</td>\n",
       "      <td id=\"T_988cb_row0_col3\" class=\"data row0 col3\" >2</td>\n",
       "      <td id=\"T_988cb_row0_col4\" class=\"data row0 col4\" >0</td>\n",
       "      <td id=\"T_988cb_row0_col5\" class=\"data row0 col5\" >Iris-setosa</td>\n",
       "    </tr>\n",
       "    <tr>\n",
       "      <th id=\"T_988cb_level0_row1\" class=\"row_heading level0 row1\" >1</th>\n",
       "      <td id=\"T_988cb_row1_col0\" class=\"data row1 col0\" >24</td>\n",
       "      <td id=\"T_988cb_row1_col1\" class=\"data row1 col1\" >5</td>\n",
       "      <td id=\"T_988cb_row1_col2\" class=\"data row1 col2\" >3</td>\n",
       "      <td id=\"T_988cb_row1_col3\" class=\"data row1 col3\" >2</td>\n",
       "      <td id=\"T_988cb_row1_col4\" class=\"data row1 col4\" >0</td>\n",
       "      <td id=\"T_988cb_row1_col5\" class=\"data row1 col5\" >Iris-setosa</td>\n",
       "    </tr>\n",
       "    <tr>\n",
       "      <th id=\"T_988cb_level0_row2\" class=\"row_heading level0 row2\" >2</th>\n",
       "      <td id=\"T_988cb_row2_col0\" class=\"data row2 col0\" >139</td>\n",
       "      <td id=\"T_988cb_row2_col1\" class=\"data row2 col1\" >6</td>\n",
       "      <td id=\"T_988cb_row2_col2\" class=\"data row2 col2\" >3</td>\n",
       "      <td id=\"T_988cb_row2_col3\" class=\"data row2 col3\" >5</td>\n",
       "      <td id=\"T_988cb_row2_col4\" class=\"data row2 col4\" >2</td>\n",
       "      <td id=\"T_988cb_row2_col5\" class=\"data row2 col5\" >Iris-virginica</td>\n",
       "    </tr>\n",
       "    <tr>\n",
       "      <th id=\"T_988cb_level0_row3\" class=\"row_heading level0 row3\" >3</th>\n",
       "      <td id=\"T_988cb_row3_col0\" class=\"data row3 col0\" >88</td>\n",
       "      <td id=\"T_988cb_row3_col1\" class=\"data row3 col1\" >6</td>\n",
       "      <td id=\"T_988cb_row3_col2\" class=\"data row3 col2\" >2</td>\n",
       "      <td id=\"T_988cb_row3_col3\" class=\"data row3 col3\" >4</td>\n",
       "      <td id=\"T_988cb_row3_col4\" class=\"data row3 col4\" >1</td>\n",
       "      <td id=\"T_988cb_row3_col5\" class=\"data row3 col5\" >Iris-versicolor</td>\n",
       "    </tr>\n",
       "    <tr>\n",
       "      <th id=\"T_988cb_level0_row4\" class=\"row_heading level0 row4\" >4</th>\n",
       "      <td id=\"T_988cb_row4_col0\" class=\"data row4 col0\" >135</td>\n",
       "      <td id=\"T_988cb_row4_col1\" class=\"data row4 col1\" >6</td>\n",
       "      <td id=\"T_988cb_row4_col2\" class=\"data row4 col2\" >3</td>\n",
       "      <td id=\"T_988cb_row4_col3\" class=\"data row4 col3\" >6</td>\n",
       "      <td id=\"T_988cb_row4_col4\" class=\"data row4 col4\" >1</td>\n",
       "      <td id=\"T_988cb_row4_col5\" class=\"data row4 col5\" >Iris-virginica</td>\n",
       "    </tr>\n",
       "    <tr>\n",
       "      <th id=\"T_988cb_level0_row5\" class=\"row_heading level0 row5\" >5</th>\n",
       "      <td id=\"T_988cb_row5_col0\" class=\"data row5 col0\" >87</td>\n",
       "      <td id=\"T_988cb_row5_col1\" class=\"data row5 col1\" >7</td>\n",
       "      <td id=\"T_988cb_row5_col2\" class=\"data row5 col2\" >3</td>\n",
       "      <td id=\"T_988cb_row5_col3\" class=\"data row5 col3\" >5</td>\n",
       "      <td id=\"T_988cb_row5_col4\" class=\"data row5 col4\" >2</td>\n",
       "      <td id=\"T_988cb_row5_col5\" class=\"data row5 col5\" >Iris-versicolor</td>\n",
       "    </tr>\n",
       "    <tr>\n",
       "      <th id=\"T_988cb_level0_row6\" class=\"row_heading level0 row6\" >6</th>\n",
       "      <td id=\"T_988cb_row6_col0\" class=\"data row6 col0\" >89</td>\n",
       "      <td id=\"T_988cb_row6_col1\" class=\"data row6 col1\" >6</td>\n",
       "      <td id=\"T_988cb_row6_col2\" class=\"data row6 col2\" >3</td>\n",
       "      <td id=\"T_988cb_row6_col3\" class=\"data row6 col3\" >4</td>\n",
       "      <td id=\"T_988cb_row6_col4\" class=\"data row6 col4\" >1</td>\n",
       "      <td id=\"T_988cb_row6_col5\" class=\"data row6 col5\" >Iris-versicolor</td>\n",
       "    </tr>\n",
       "    <tr>\n",
       "      <th id=\"T_988cb_level0_row7\" class=\"row_heading level0 row7\" >7</th>\n",
       "      <td id=\"T_988cb_row7_col0\" class=\"data row7 col0\" >143</td>\n",
       "      <td id=\"T_988cb_row7_col1\" class=\"data row7 col1\" >6</td>\n",
       "      <td id=\"T_988cb_row7_col2\" class=\"data row7 col2\" >3</td>\n",
       "      <td id=\"T_988cb_row7_col3\" class=\"data row7 col3\" >5</td>\n",
       "      <td id=\"T_988cb_row7_col4\" class=\"data row7 col4\" >2</td>\n",
       "      <td id=\"T_988cb_row7_col5\" class=\"data row7 col5\" >Iris-virginica</td>\n",
       "    </tr>\n",
       "    <tr>\n",
       "      <th id=\"T_988cb_level0_row8\" class=\"row_heading level0 row8\" >8</th>\n",
       "      <td id=\"T_988cb_row8_col0\" class=\"data row8 col0\" >117</td>\n",
       "      <td id=\"T_988cb_row8_col1\" class=\"data row8 col1\" >6</td>\n",
       "      <td id=\"T_988cb_row8_col2\" class=\"data row8 col2\" >3</td>\n",
       "      <td id=\"T_988cb_row8_col3\" class=\"data row8 col3\" >6</td>\n",
       "      <td id=\"T_988cb_row8_col4\" class=\"data row8 col4\" >2</td>\n",
       "      <td id=\"T_988cb_row8_col5\" class=\"data row8 col5\" >Iris-virginica</td>\n",
       "    </tr>\n",
       "    <tr>\n",
       "      <th id=\"T_988cb_level0_row9\" class=\"row_heading level0 row9\" >9</th>\n",
       "      <td id=\"T_988cb_row9_col0\" class=\"data row9 col0\" >109</td>\n",
       "      <td id=\"T_988cb_row9_col1\" class=\"data row9 col1\" >7</td>\n",
       "      <td id=\"T_988cb_row9_col2\" class=\"data row9 col2\" >2</td>\n",
       "      <td id=\"T_988cb_row9_col3\" class=\"data row9 col3\" >6</td>\n",
       "      <td id=\"T_988cb_row9_col4\" class=\"data row9 col4\" >2</td>\n",
       "      <td id=\"T_988cb_row9_col5\" class=\"data row9 col5\" >Iris-virginica</td>\n",
       "    </tr>\n",
       "  </tbody>\n",
       "</table>\n"
      ],
      "text/plain": [
       "<pandas.io.formats.style.Styler at 0x111fd07f0>"
      ]
     },
     "execution_count": 24,
     "metadata": {},
     "output_type": "execute_result"
    }
   ],
   "source": [
    "df_top10 = df.head(10)  # just style the first 10 rows for demo purposes here\n",
    "\n",
    "# round values to nearest integer (0 decimal places)\n",
    "df_top10.style.format(precision=0)"
   ]
  },
  {
   "cell_type": "markdown",
   "id": "3798286c",
   "metadata": {},
   "source": [
    "Apply a colour gradient to each column based on each cell's value:"
   ]
  },
  {
   "cell_type": "code",
   "execution_count": 25,
   "id": "ac0b9191",
   "metadata": {},
   "outputs": [
    {
     "data": {
      "text/html": [
       "<style type=\"text/css\">\n",
       "#T_5174c_row0_col0 {\n",
       "  background-color: #fef6fa;\n",
       "  color: #000000;\n",
       "}\n",
       "#T_5174c_row0_col1, #T_5174c_row0_col4, #T_5174c_row1_col0, #T_5174c_row1_col3, #T_5174c_row3_col2 {\n",
       "  background-color: #fff7fb;\n",
       "  color: #000000;\n",
       "}\n",
       "#T_5174c_row0_col2, #T_5174c_row5_col1, #T_5174c_row7_col0, #T_5174c_row7_col4, #T_5174c_row9_col1, #T_5174c_row9_col3 {\n",
       "  background-color: #023858;\n",
       "  color: #f1f1f1;\n",
       "}\n",
       "#T_5174c_row0_col3 {\n",
       "  background-color: #f8f1f8;\n",
       "  color: #000000;\n",
       "}\n",
       "#T_5174c_row1_col1 {\n",
       "  background-color: #e5e1ef;\n",
       "  color: #000000;\n",
       "}\n",
       "#T_5174c_row1_col2 {\n",
       "  background-color: #03517e;\n",
       "  color: #f1f1f1;\n",
       "}\n",
       "#T_5174c_row1_col4 {\n",
       "  background-color: #e0deed;\n",
       "  color: #000000;\n",
       "}\n",
       "#T_5174c_row2_col0 {\n",
       "  background-color: #034165;\n",
       "  color: #f1f1f1;\n",
       "}\n",
       "#T_5174c_row2_col1 {\n",
       "  background-color: #348ebf;\n",
       "  color: #f1f1f1;\n",
       "}\n",
       "#T_5174c_row2_col2, #T_5174c_row6_col2, #T_5174c_row8_col2 {\n",
       "  background-color: #328dbf;\n",
       "  color: #f1f1f1;\n",
       "}\n",
       "#T_5174c_row2_col3 {\n",
       "  background-color: #056fae;\n",
       "  color: #f1f1f1;\n",
       "}\n",
       "#T_5174c_row2_col4, #T_5174c_row8_col4, #T_5174c_row9_col4 {\n",
       "  background-color: #034871;\n",
       "  color: #f1f1f1;\n",
       "}\n",
       "#T_5174c_row3_col0 {\n",
       "  background-color: #62a2cb;\n",
       "  color: #f1f1f1;\n",
       "}\n",
       "#T_5174c_row3_col1 {\n",
       "  background-color: #0569a4;\n",
       "  color: #f1f1f1;\n",
       "}\n",
       "#T_5174c_row3_col3 {\n",
       "  background-color: #2987bc;\n",
       "  color: #f1f1f1;\n",
       "}\n",
       "#T_5174c_row3_col4, #T_5174c_row6_col4 {\n",
       "  background-color: #2d8abd;\n",
       "  color: #f1f1f1;\n",
       "}\n",
       "#T_5174c_row4_col0 {\n",
       "  background-color: #034a74;\n",
       "  color: #f1f1f1;\n",
       "}\n",
       "#T_5174c_row4_col1 {\n",
       "  background-color: #1e80b8;\n",
       "  color: #f1f1f1;\n",
       "}\n",
       "#T_5174c_row4_col2 {\n",
       "  background-color: #c9cee4;\n",
       "  color: #000000;\n",
       "}\n",
       "#T_5174c_row4_col3 {\n",
       "  background-color: #03456c;\n",
       "  color: #f1f1f1;\n",
       "}\n",
       "#T_5174c_row4_col4 {\n",
       "  background-color: #167bb6;\n",
       "  color: #f1f1f1;\n",
       "}\n",
       "#T_5174c_row5_col0 {\n",
       "  background-color: #65a3cb;\n",
       "  color: #f1f1f1;\n",
       "}\n",
       "#T_5174c_row5_col2 {\n",
       "  background-color: #0d75b3;\n",
       "  color: #f1f1f1;\n",
       "}\n",
       "#T_5174c_row5_col3 {\n",
       "  background-color: #0c74b2;\n",
       "  color: #f1f1f1;\n",
       "}\n",
       "#T_5174c_row5_col4 {\n",
       "  background-color: #056dac;\n",
       "  color: #f1f1f1;\n",
       "}\n",
       "#T_5174c_row6_col0 {\n",
       "  background-color: #5ea0ca;\n",
       "  color: #f1f1f1;\n",
       "}\n",
       "#T_5174c_row6_col1 {\n",
       "  background-color: #94b6d7;\n",
       "  color: #000000;\n",
       "}\n",
       "#T_5174c_row6_col3 {\n",
       "  background-color: #4a98c5;\n",
       "  color: #f1f1f1;\n",
       "}\n",
       "#T_5174c_row7_col1 {\n",
       "  background-color: #67a4cc;\n",
       "  color: #f1f1f1;\n",
       "}\n",
       "#T_5174c_row7_col2 {\n",
       "  background-color: #a9bfdc;\n",
       "  color: #000000;\n",
       "}\n",
       "#T_5174c_row7_col3 {\n",
       "  background-color: #046299;\n",
       "  color: #f1f1f1;\n",
       "}\n",
       "#T_5174c_row8_col0 {\n",
       "  background-color: #056aa6;\n",
       "  color: #f1f1f1;\n",
       "}\n",
       "#T_5174c_row8_col1 {\n",
       "  background-color: #045483;\n",
       "  color: #f1f1f1;\n",
       "}\n",
       "#T_5174c_row8_col3 {\n",
       "  background-color: #034b76;\n",
       "  color: #f1f1f1;\n",
       "}\n",
       "#T_5174c_row9_col0 {\n",
       "  background-color: #1379b5;\n",
       "  color: #f1f1f1;\n",
       "}\n",
       "#T_5174c_row9_col2 {\n",
       "  background-color: #e0dded;\n",
       "  color: #000000;\n",
       "}\n",
       "</style>\n",
       "<table id=\"T_5174c_\">\n",
       "  <thead>\n",
       "    <tr>\n",
       "      <th class=\"blank level0\" >&nbsp;</th>\n",
       "      <th class=\"col_heading level0 col0\" >Id</th>\n",
       "      <th class=\"col_heading level0 col1\" >SepalLengthCm</th>\n",
       "      <th class=\"col_heading level0 col2\" >SepalWidthCm</th>\n",
       "      <th class=\"col_heading level0 col3\" >PetalLengthCm</th>\n",
       "      <th class=\"col_heading level0 col4\" >PetalWidthCm</th>\n",
       "      <th class=\"col_heading level0 col5\" >Species</th>\n",
       "    </tr>\n",
       "  </thead>\n",
       "  <tbody>\n",
       "    <tr>\n",
       "      <th id=\"T_5174c_level0_row0\" class=\"row_heading level0 row0\" >0</th>\n",
       "      <td id=\"T_5174c_row0_col0\" class=\"data row0 col0\" >25</td>\n",
       "      <td id=\"T_5174c_row0_col1\" class=\"data row0 col1\" >4.800000</td>\n",
       "      <td id=\"T_5174c_row0_col2\" class=\"data row0 col2\" >3.400000</td>\n",
       "      <td id=\"T_5174c_row0_col3\" class=\"data row0 col3\" >1.900000</td>\n",
       "      <td id=\"T_5174c_row0_col4\" class=\"data row0 col4\" >0.200000</td>\n",
       "      <td id=\"T_5174c_row0_col5\" class=\"data row0 col5\" >Iris-setosa</td>\n",
       "    </tr>\n",
       "    <tr>\n",
       "      <th id=\"T_5174c_level0_row1\" class=\"row_heading level0 row1\" >1</th>\n",
       "      <td id=\"T_5174c_row1_col0\" class=\"data row1 col0\" >24</td>\n",
       "      <td id=\"T_5174c_row1_col1\" class=\"data row1 col1\" >5.100000</td>\n",
       "      <td id=\"T_5174c_row1_col2\" class=\"data row1 col2\" >3.300000</td>\n",
       "      <td id=\"T_5174c_row1_col3\" class=\"data row1 col3\" >1.700000</td>\n",
       "      <td id=\"T_5174c_row1_col4\" class=\"data row1 col4\" >0.500000</td>\n",
       "      <td id=\"T_5174c_row1_col5\" class=\"data row1 col5\" >Iris-setosa</td>\n",
       "    </tr>\n",
       "    <tr>\n",
       "      <th id=\"T_5174c_level0_row2\" class=\"row_heading level0 row2\" >2</th>\n",
       "      <td id=\"T_5174c_row2_col0\" class=\"data row2 col0\" >139</td>\n",
       "      <td id=\"T_5174c_row2_col1\" class=\"data row2 col1\" >6.000000</td>\n",
       "      <td id=\"T_5174c_row2_col2\" class=\"data row2 col2\" >3.000000</td>\n",
       "      <td id=\"T_5174c_row2_col3\" class=\"data row2 col3\" >4.800000</td>\n",
       "      <td id=\"T_5174c_row2_col4\" class=\"data row2 col4\" >1.800000</td>\n",
       "      <td id=\"T_5174c_row2_col5\" class=\"data row2 col5\" >Iris-virginica</td>\n",
       "    </tr>\n",
       "    <tr>\n",
       "      <th id=\"T_5174c_level0_row3\" class=\"row_heading level0 row3\" >3</th>\n",
       "      <td id=\"T_5174c_row3_col0\" class=\"data row3 col0\" >88</td>\n",
       "      <td id=\"T_5174c_row3_col1\" class=\"data row3 col1\" >6.300000</td>\n",
       "      <td id=\"T_5174c_row3_col2\" class=\"data row3 col2\" >2.300000</td>\n",
       "      <td id=\"T_5174c_row3_col3\" class=\"data row3 col3\" >4.400000</td>\n",
       "      <td id=\"T_5174c_row3_col4\" class=\"data row3 col4\" >1.300000</td>\n",
       "      <td id=\"T_5174c_row3_col5\" class=\"data row3 col5\" >Iris-versicolor</td>\n",
       "    </tr>\n",
       "    <tr>\n",
       "      <th id=\"T_5174c_level0_row4\" class=\"row_heading level0 row4\" >4</th>\n",
       "      <td id=\"T_5174c_row4_col0\" class=\"data row4 col0\" >135</td>\n",
       "      <td id=\"T_5174c_row4_col1\" class=\"data row4 col1\" >6.100000</td>\n",
       "      <td id=\"T_5174c_row4_col2\" class=\"data row4 col2\" >2.600000</td>\n",
       "      <td id=\"T_5174c_row4_col3\" class=\"data row4 col3\" >5.600000</td>\n",
       "      <td id=\"T_5174c_row4_col4\" class=\"data row4 col4\" >1.400000</td>\n",
       "      <td id=\"T_5174c_row4_col5\" class=\"data row4 col5\" >Iris-virginica</td>\n",
       "    </tr>\n",
       "    <tr>\n",
       "      <th id=\"T_5174c_level0_row5\" class=\"row_heading level0 row5\" >5</th>\n",
       "      <td id=\"T_5174c_row5_col0\" class=\"data row5 col0\" >87</td>\n",
       "      <td id=\"T_5174c_row5_col1\" class=\"data row5 col1\" >6.700000</td>\n",
       "      <td id=\"T_5174c_row5_col2\" class=\"data row5 col2\" >3.100000</td>\n",
       "      <td id=\"T_5174c_row5_col3\" class=\"data row5 col3\" >4.700000</td>\n",
       "      <td id=\"T_5174c_row5_col4\" class=\"data row5 col4\" >1.500000</td>\n",
       "      <td id=\"T_5174c_row5_col5\" class=\"data row5 col5\" >Iris-versicolor</td>\n",
       "    </tr>\n",
       "    <tr>\n",
       "      <th id=\"T_5174c_level0_row6\" class=\"row_heading level0 row6\" >6</th>\n",
       "      <td id=\"T_5174c_row6_col0\" class=\"data row6 col0\" >89</td>\n",
       "      <td id=\"T_5174c_row6_col1\" class=\"data row6 col1\" >5.600000</td>\n",
       "      <td id=\"T_5174c_row6_col2\" class=\"data row6 col2\" >3.000000</td>\n",
       "      <td id=\"T_5174c_row6_col3\" class=\"data row6 col3\" >4.100000</td>\n",
       "      <td id=\"T_5174c_row6_col4\" class=\"data row6 col4\" >1.300000</td>\n",
       "      <td id=\"T_5174c_row6_col5\" class=\"data row6 col5\" >Iris-versicolor</td>\n",
       "    </tr>\n",
       "    <tr>\n",
       "      <th id=\"T_5174c_level0_row7\" class=\"row_heading level0 row7\" >7</th>\n",
       "      <td id=\"T_5174c_row7_col0\" class=\"data row7 col0\" >143</td>\n",
       "      <td id=\"T_5174c_row7_col1\" class=\"data row7 col1\" >5.800000</td>\n",
       "      <td id=\"T_5174c_row7_col2\" class=\"data row7 col2\" >2.700000</td>\n",
       "      <td id=\"T_5174c_row7_col3\" class=\"data row7 col3\" >5.100000</td>\n",
       "      <td id=\"T_5174c_row7_col4\" class=\"data row7 col4\" >1.900000</td>\n",
       "      <td id=\"T_5174c_row7_col5\" class=\"data row7 col5\" >Iris-virginica</td>\n",
       "    </tr>\n",
       "    <tr>\n",
       "      <th id=\"T_5174c_level0_row8\" class=\"row_heading level0 row8\" >8</th>\n",
       "      <td id=\"T_5174c_row8_col0\" class=\"data row8 col0\" >117</td>\n",
       "      <td id=\"T_5174c_row8_col1\" class=\"data row8 col1\" >6.500000</td>\n",
       "      <td id=\"T_5174c_row8_col2\" class=\"data row8 col2\" >3.000000</td>\n",
       "      <td id=\"T_5174c_row8_col3\" class=\"data row8 col3\" >5.500000</td>\n",
       "      <td id=\"T_5174c_row8_col4\" class=\"data row8 col4\" >1.800000</td>\n",
       "      <td id=\"T_5174c_row8_col5\" class=\"data row8 col5\" >Iris-virginica</td>\n",
       "    </tr>\n",
       "    <tr>\n",
       "      <th id=\"T_5174c_level0_row9\" class=\"row_heading level0 row9\" >9</th>\n",
       "      <td id=\"T_5174c_row9_col0\" class=\"data row9 col0\" >109</td>\n",
       "      <td id=\"T_5174c_row9_col1\" class=\"data row9 col1\" >6.700000</td>\n",
       "      <td id=\"T_5174c_row9_col2\" class=\"data row9 col2\" >2.500000</td>\n",
       "      <td id=\"T_5174c_row9_col3\" class=\"data row9 col3\" >5.800000</td>\n",
       "      <td id=\"T_5174c_row9_col4\" class=\"data row9 col4\" >1.800000</td>\n",
       "      <td id=\"T_5174c_row9_col5\" class=\"data row9 col5\" >Iris-virginica</td>\n",
       "    </tr>\n",
       "  </tbody>\n",
       "</table>\n"
      ],
      "text/plain": [
       "<pandas.io.formats.style.Styler at 0x111fd0490>"
      ]
     },
     "execution_count": 25,
     "metadata": {},
     "output_type": "execute_result"
    }
   ],
   "source": [
    "df_top10.style.background_gradient()"
   ]
  },
  {
   "cell_type": "markdown",
   "id": "6d8c4ff0",
   "metadata": {},
   "source": [
    "Highlight the smallest value in each column:"
   ]
  },
  {
   "cell_type": "code",
   "execution_count": 26,
   "id": "ed5623ff",
   "metadata": {},
   "outputs": [
    {
     "data": {
      "text/html": [
       "<style type=\"text/css\">\n",
       "#T_a64f1_row0_col1, #T_a64f1_row0_col4, #T_a64f1_row0_col5, #T_a64f1_row1_col0, #T_a64f1_row1_col3, #T_a64f1_row1_col5, #T_a64f1_row3_col2 {\n",
       "  background-color: yellow;\n",
       "}\n",
       "</style>\n",
       "<table id=\"T_a64f1_\">\n",
       "  <thead>\n",
       "    <tr>\n",
       "      <th class=\"blank level0\" >&nbsp;</th>\n",
       "      <th class=\"col_heading level0 col0\" >Id</th>\n",
       "      <th class=\"col_heading level0 col1\" >SepalLengthCm</th>\n",
       "      <th class=\"col_heading level0 col2\" >SepalWidthCm</th>\n",
       "      <th class=\"col_heading level0 col3\" >PetalLengthCm</th>\n",
       "      <th class=\"col_heading level0 col4\" >PetalWidthCm</th>\n",
       "      <th class=\"col_heading level0 col5\" >Species</th>\n",
       "    </tr>\n",
       "  </thead>\n",
       "  <tbody>\n",
       "    <tr>\n",
       "      <th id=\"T_a64f1_level0_row0\" class=\"row_heading level0 row0\" >0</th>\n",
       "      <td id=\"T_a64f1_row0_col0\" class=\"data row0 col0\" >25</td>\n",
       "      <td id=\"T_a64f1_row0_col1\" class=\"data row0 col1\" >4.800000</td>\n",
       "      <td id=\"T_a64f1_row0_col2\" class=\"data row0 col2\" >3.400000</td>\n",
       "      <td id=\"T_a64f1_row0_col3\" class=\"data row0 col3\" >1.900000</td>\n",
       "      <td id=\"T_a64f1_row0_col4\" class=\"data row0 col4\" >0.200000</td>\n",
       "      <td id=\"T_a64f1_row0_col5\" class=\"data row0 col5\" >Iris-setosa</td>\n",
       "    </tr>\n",
       "    <tr>\n",
       "      <th id=\"T_a64f1_level0_row1\" class=\"row_heading level0 row1\" >1</th>\n",
       "      <td id=\"T_a64f1_row1_col0\" class=\"data row1 col0\" >24</td>\n",
       "      <td id=\"T_a64f1_row1_col1\" class=\"data row1 col1\" >5.100000</td>\n",
       "      <td id=\"T_a64f1_row1_col2\" class=\"data row1 col2\" >3.300000</td>\n",
       "      <td id=\"T_a64f1_row1_col3\" class=\"data row1 col3\" >1.700000</td>\n",
       "      <td id=\"T_a64f1_row1_col4\" class=\"data row1 col4\" >0.500000</td>\n",
       "      <td id=\"T_a64f1_row1_col5\" class=\"data row1 col5\" >Iris-setosa</td>\n",
       "    </tr>\n",
       "    <tr>\n",
       "      <th id=\"T_a64f1_level0_row2\" class=\"row_heading level0 row2\" >2</th>\n",
       "      <td id=\"T_a64f1_row2_col0\" class=\"data row2 col0\" >139</td>\n",
       "      <td id=\"T_a64f1_row2_col1\" class=\"data row2 col1\" >6.000000</td>\n",
       "      <td id=\"T_a64f1_row2_col2\" class=\"data row2 col2\" >3.000000</td>\n",
       "      <td id=\"T_a64f1_row2_col3\" class=\"data row2 col3\" >4.800000</td>\n",
       "      <td id=\"T_a64f1_row2_col4\" class=\"data row2 col4\" >1.800000</td>\n",
       "      <td id=\"T_a64f1_row2_col5\" class=\"data row2 col5\" >Iris-virginica</td>\n",
       "    </tr>\n",
       "    <tr>\n",
       "      <th id=\"T_a64f1_level0_row3\" class=\"row_heading level0 row3\" >3</th>\n",
       "      <td id=\"T_a64f1_row3_col0\" class=\"data row3 col0\" >88</td>\n",
       "      <td id=\"T_a64f1_row3_col1\" class=\"data row3 col1\" >6.300000</td>\n",
       "      <td id=\"T_a64f1_row3_col2\" class=\"data row3 col2\" >2.300000</td>\n",
       "      <td id=\"T_a64f1_row3_col3\" class=\"data row3 col3\" >4.400000</td>\n",
       "      <td id=\"T_a64f1_row3_col4\" class=\"data row3 col4\" >1.300000</td>\n",
       "      <td id=\"T_a64f1_row3_col5\" class=\"data row3 col5\" >Iris-versicolor</td>\n",
       "    </tr>\n",
       "    <tr>\n",
       "      <th id=\"T_a64f1_level0_row4\" class=\"row_heading level0 row4\" >4</th>\n",
       "      <td id=\"T_a64f1_row4_col0\" class=\"data row4 col0\" >135</td>\n",
       "      <td id=\"T_a64f1_row4_col1\" class=\"data row4 col1\" >6.100000</td>\n",
       "      <td id=\"T_a64f1_row4_col2\" class=\"data row4 col2\" >2.600000</td>\n",
       "      <td id=\"T_a64f1_row4_col3\" class=\"data row4 col3\" >5.600000</td>\n",
       "      <td id=\"T_a64f1_row4_col4\" class=\"data row4 col4\" >1.400000</td>\n",
       "      <td id=\"T_a64f1_row4_col5\" class=\"data row4 col5\" >Iris-virginica</td>\n",
       "    </tr>\n",
       "    <tr>\n",
       "      <th id=\"T_a64f1_level0_row5\" class=\"row_heading level0 row5\" >5</th>\n",
       "      <td id=\"T_a64f1_row5_col0\" class=\"data row5 col0\" >87</td>\n",
       "      <td id=\"T_a64f1_row5_col1\" class=\"data row5 col1\" >6.700000</td>\n",
       "      <td id=\"T_a64f1_row5_col2\" class=\"data row5 col2\" >3.100000</td>\n",
       "      <td id=\"T_a64f1_row5_col3\" class=\"data row5 col3\" >4.700000</td>\n",
       "      <td id=\"T_a64f1_row5_col4\" class=\"data row5 col4\" >1.500000</td>\n",
       "      <td id=\"T_a64f1_row5_col5\" class=\"data row5 col5\" >Iris-versicolor</td>\n",
       "    </tr>\n",
       "    <tr>\n",
       "      <th id=\"T_a64f1_level0_row6\" class=\"row_heading level0 row6\" >6</th>\n",
       "      <td id=\"T_a64f1_row6_col0\" class=\"data row6 col0\" >89</td>\n",
       "      <td id=\"T_a64f1_row6_col1\" class=\"data row6 col1\" >5.600000</td>\n",
       "      <td id=\"T_a64f1_row6_col2\" class=\"data row6 col2\" >3.000000</td>\n",
       "      <td id=\"T_a64f1_row6_col3\" class=\"data row6 col3\" >4.100000</td>\n",
       "      <td id=\"T_a64f1_row6_col4\" class=\"data row6 col4\" >1.300000</td>\n",
       "      <td id=\"T_a64f1_row6_col5\" class=\"data row6 col5\" >Iris-versicolor</td>\n",
       "    </tr>\n",
       "    <tr>\n",
       "      <th id=\"T_a64f1_level0_row7\" class=\"row_heading level0 row7\" >7</th>\n",
       "      <td id=\"T_a64f1_row7_col0\" class=\"data row7 col0\" >143</td>\n",
       "      <td id=\"T_a64f1_row7_col1\" class=\"data row7 col1\" >5.800000</td>\n",
       "      <td id=\"T_a64f1_row7_col2\" class=\"data row7 col2\" >2.700000</td>\n",
       "      <td id=\"T_a64f1_row7_col3\" class=\"data row7 col3\" >5.100000</td>\n",
       "      <td id=\"T_a64f1_row7_col4\" class=\"data row7 col4\" >1.900000</td>\n",
       "      <td id=\"T_a64f1_row7_col5\" class=\"data row7 col5\" >Iris-virginica</td>\n",
       "    </tr>\n",
       "    <tr>\n",
       "      <th id=\"T_a64f1_level0_row8\" class=\"row_heading level0 row8\" >8</th>\n",
       "      <td id=\"T_a64f1_row8_col0\" class=\"data row8 col0\" >117</td>\n",
       "      <td id=\"T_a64f1_row8_col1\" class=\"data row8 col1\" >6.500000</td>\n",
       "      <td id=\"T_a64f1_row8_col2\" class=\"data row8 col2\" >3.000000</td>\n",
       "      <td id=\"T_a64f1_row8_col3\" class=\"data row8 col3\" >5.500000</td>\n",
       "      <td id=\"T_a64f1_row8_col4\" class=\"data row8 col4\" >1.800000</td>\n",
       "      <td id=\"T_a64f1_row8_col5\" class=\"data row8 col5\" >Iris-virginica</td>\n",
       "    </tr>\n",
       "    <tr>\n",
       "      <th id=\"T_a64f1_level0_row9\" class=\"row_heading level0 row9\" >9</th>\n",
       "      <td id=\"T_a64f1_row9_col0\" class=\"data row9 col0\" >109</td>\n",
       "      <td id=\"T_a64f1_row9_col1\" class=\"data row9 col1\" >6.700000</td>\n",
       "      <td id=\"T_a64f1_row9_col2\" class=\"data row9 col2\" >2.500000</td>\n",
       "      <td id=\"T_a64f1_row9_col3\" class=\"data row9 col3\" >5.800000</td>\n",
       "      <td id=\"T_a64f1_row9_col4\" class=\"data row9 col4\" >1.800000</td>\n",
       "      <td id=\"T_a64f1_row9_col5\" class=\"data row9 col5\" >Iris-virginica</td>\n",
       "    </tr>\n",
       "  </tbody>\n",
       "</table>\n"
      ],
      "text/plain": [
       "<pandas.io.formats.style.Styler at 0x111fd00d0>"
      ]
     },
     "execution_count": 26,
     "metadata": {},
     "output_type": "execute_result"
    }
   ],
   "source": [
    "df_top10.style.highlight_min()"
   ]
  },
  {
   "cell_type": "code",
   "execution_count": null,
   "id": "39bb3dd7",
   "metadata": {},
   "outputs": [],
   "source": []
  }
 ],
 "metadata": {
  "kernelspec": {
   "display_name": "Python 3 (ipykernel)",
   "language": "python",
   "name": "python3"
  },
  "language_info": {
   "codemirror_mode": {
    "name": "ipython",
    "version": 3
   },
   "file_extension": ".py",
   "mimetype": "text/x-python",
   "name": "python",
   "nbconvert_exporter": "python",
   "pygments_lexer": "ipython3",
   "version": "3.9.7"
  }
 },
 "nbformat": 4,
 "nbformat_minor": 5
}
