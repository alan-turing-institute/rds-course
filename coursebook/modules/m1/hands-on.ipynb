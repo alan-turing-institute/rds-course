{
 "cells": [
  {
   "cell_type": "markdown",
   "metadata": {},
   "source": [
    "# Hands-on"
   ]
  },
  {
   "cell_type": "markdown",
   "metadata": {},
   "source": [
    "## Phase 1: Orientation (1 hour)\n",
    "Participants are divided in groups and are paired with a helper who will act as the PI. Each group will receive a short research proposal from the PI (see below). They will need to go through the materials to conduct the initial scoping following these steps:\n",
    "\n",
    "1. Setup a GitHub repo for each group\n",
    "2. Ensure that all participants have access to it\n",
    "3. Prepare a scoping project board (decide the flow that better captures the scoping process you aim to conduct)\n",
    "4. Go through all the received materials (you can follow up with the PI if something is not clear from the beginning)\n",
    "5. To get a better understanding of the project, it might be necessary to:\n",
    "\n",
    "    a. explore the dataset \n",
    "\n",
    "    b. examine the dataset's documentation \n",
    "\n",
    "    c. do an initial general literature search. To simplify this step, you can just look at [the paper](https://www.ncbi.nlm.nih.gov/pmc/articles/PMC3678208/) we used as an inspiration for the hands on activities.\n",
    "\n",
    "    We suggest to work in sub-groups to address these three points.\n",
    "    \n",
    "6. If you notice something specific in the dataset, make a pull request to the main branch of the repo with a script higlighting what you have found, so that others in the group will be aware of it as well.\n",
    "7. Prepare an issue dedicated to each of the scoping questions you want to discuss with the PI (see Module 1.2) in your project scoping board. Start filling them in based on your initial exploration and the information you received from the PI. You will have a chance to speak with the PI in the second phase.\n"
   ]
  },
  {
   "cell_type": "markdown",
   "metadata": {},
   "source": [
    "### The initial contact\n",
    "\n",
    ">15th of November 2021\n",
    "\n",
    ">Subject: Initial request for collaboration\n",
    ">\n",
    ">\n",
    "> Dear Research Engineering Group,\n",
    "I am reaching out for scoping a potential collaboration. Social inequalities in health have been described across a range of European countries. While it is well-known in the literature that the higher the social class, the lower the prevalence/incidence of health problems, no study has attempted to explain social inequalities in health for Europe as a whole. To address this, I am setting up a project proposal for a large-scale study using promptly available data (European Quality of Life Time Series, freely available [online](https://ecommons.cornell.edu/handle/1813/87445)) and deep learning techniques. I envision a 2-year project answering the call “Personal Stories, Healing Nations” employing 1 full-time Post-Doctoral researcher covering the social science parts of the study and (potentially) in collaboration with your team for the technological parts. We are hoping to submit by Dec 1st, so we would be keen to establish the costs for this digital component by Nov 28. \n",
    ">\n",
    "> While I am fairly new to big-data (and, I have to admit, I have my reservations), I believe a well-designed project with these sources might be able to rewrite our understanding of social inequalities in health in Europe (and even beyond) during the last two decaces, a period involving a series of major socio-economical and political events, ça va sans dire. Its impact will be relevant for the general public and could potentially even suggest actions to governments.\n",
    ">\n",
    ">Your Sincerely,\n",
    "\n",
    ">Professor J. Doe\n"
   ]
  },
  {
   "cell_type": "markdown",
   "metadata": {},
   "source": [
    "## Phase 2: Technical Questions (1 hour)\n",
    "\n",
    "After having explored the collection, you can start an iterative conversation with the PI to reach an answer to the following questions. This should consist of a series of discussions and further exploration of the collection. We report here below some of the main scoping questions we presented in 1.2.\n",
    "\n",
    "### The goal\n",
    "\n",
    "**1. What is the broad challenge we are trying to solve?**\n",
    "\n",
    "**2. What is the specific research question? How does it translate to a data science problem?**\n",
    "\n",
    "### The data\n",
    "\n",
    "**3. Is data available?**\n",
    "\n",
    "### The expectations\n",
    "\n",
    "**4. What are the stakeholders' expectations?**\n",
    "\n",
    "**5. What is in-scope and out-of-scope?**\n",
    "\n",
    "### Success\n",
    "\n",
    "**6. What metrics do we use to measure the success of the project?**\n",
    "\n",
    "**7. What is the expected impact?**\n",
    "\n"
   ]
  },
  {
   "cell_type": "markdown",
   "metadata": {},
   "source": [
    "## Phase 3: Ethical Points (30 mins in groups, then 30 mins together)\n",
    "\n",
    "As a final discussion we would like to focus on the goal of studying **health** while having **self-reported health** information in the dataset. Discuss together about the issues and challenges that we might encounter (by also exploring the dataset, the paper and the documentation). We will first discuss this in sub-groups and then we will have final open discussion with all the participants.\n"
   ]
  }
 ],
 "metadata": {
  "interpreter": {
   "hash": "4c2e28f5e7597c8416e7a1613a3ba960df91b5fe1e29409b26c5fd05fd6a01e9"
  },
  "kernelspec": {
   "display_name": "Python 3.9.6 64-bit ('hotp': conda)",
   "name": "python3"
  },
  "language_info": {
   "codemirror_mode": {
    "name": "ipython",
    "version": 3
   },
   "file_extension": ".py",
   "mimetype": "text/x-python",
   "name": "python",
   "nbconvert_exporter": "python",
   "pygments_lexer": "ipython3",
   "version": "3.9.6"
  },
  "widgets": {
   "application/vnd.jupyter.widget-state+json": {
    "state": {},
    "version_major": 2,
    "version_minor": 0
   }
  }
 },
 "nbformat": 4,
 "nbformat_minor": 4
}
