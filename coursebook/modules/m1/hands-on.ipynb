{
 "cells": [
  {
   "cell_type": "markdown",
   "metadata": {},
   "source": [
    "# Module 1 hands-on session"
   ]
  },
  {
   "cell_type": "markdown",
   "metadata": {},
   "source": [
    "## Introduction\n",
    "In this hands-on session we will simulate a real-world scoping scenario:\n",
    "- Participants are divided in groups.\n",
    "- Each group will be a small data science team for the rest of the session. \n",
    "- Each team is paired with a helper who will act as a Principal Investigator (PI), i.e. a lead researcher who is seeking funding for a new project and wants the data science team to participate in it. \n",
    "- Each group will receive a short research proposal from the PI. \n",
    "- Teams need to go through the provided materials to conduct the scoping, including technical and ethical aspects. \n",
    "\n",
    "The activity consists of three phases:\n",
    "\n",
    "## Phase 1: Setup, initial contact and discussion \n",
    "\n",
    "### **Schedule**\n",
    "- 20 mins setup (in groups)\n",
    "- 35 mins collaborative activity (exploration of materials and discussion, in groups)\n",
    "\n",
    "****\n",
    "\n",
    "### **Teams should follow these steps during Phase 1:**\n",
    "1. Setup a GitHub repo for each group following the guidance in Lesson 1.4.\n",
    "\n",
    "2. Ensure that all participants have access to it.\n",
    "\n",
    "3. Prepare a scoping project board (decide the flow that better captures the scoping process you aim to conduct).\n",
    "\n",
    "4. Go through all the received materials (you can follow up with the PI if something is not clear from the beginning).\n",
    "\n",
    "5. To get a better understanding of the project, it might be necessary to:\n",
    "\n",
    "    a. explore the dataset. \n",
    "\n",
    "    b. examine the dataset's documentation. \n",
    "\n",
    "    c. do an initial general literature search. To simplify this step, you can just look at [the paper](https://www.ncbi.nlm.nih.gov/pmc/articles/PMC3678208/) we used as an inspiration for the hands-on activities.\n",
    "\n",
    "    We suggest to split your team into sub-groups to address these three points in parallel.\n",
    "    \n",
    "6. Create issues in the repo covering the scoping questions you want to discuss with the PI (see Module 1.2). You should ideally have at least one issue dedicated to each of the questions in your project scoping board. Start filling them in based on your initial exploration and the information you received from the PI. You will have a chance to speak with the PI in the second phase.\n",
    "\n",
    "7. Additionally, if you notice anything interesting in the dataset that should be discussed during scoping you should make others in the group aware of it. You can:\n",
    "\n",
    "    a. Create a new issue in your repo describing your observation or idea.\n",
    "    \n",
    "    b. or (if you wrote some code as part of your exploration) make a pull request to the main branch of the repo higlighting what you have found. \n",
    "\n",
    "****\n",
    "\n",
    "### **The initial PI contact**\n",
    "\n",
    ">15th of November 2021\n",
    ">\n",
    ">Subject: Request for collaboration\n",
    ">\n",
    ">\n",
    "> Dear Research Engineering Group,\n",
    "I am reaching out for scoping a potential collaboration. Social inequalities in health have been described across a range of European countries. While it is well-known in the literature that the higher the social class, the lower the prevalence/incidence of health problems, no study has attempted to explain social inequalities in health for Europe as a whole. To address this, I am setting up a project proposal for a large-scale study using promptly available data (European Quality of Life Time Series, freely available [online](https://ecommons.cornell.edu/handle/1813/87445)) and deep learning techniques. I envision a 2-year project answering the call “Personal Stories, Healing Nations” employing 1 full-time Post-Doctoral researcher covering the social science parts of the study and (potentially) in collaboration with your team for the technological parts. We are hoping to submit by Dec 1st, so we would be keen to establish the costs for this digital component by Nov 28. \n",
    ">\n",
    "> While I am fairly new to big-data (and, I have to admit, I have my reservations), I believe a well-designed project with these sources might be able to rewrite our understanding of social inequalities in health in Europe (and even beyond) during the last two decaces, a period involving a series of major socio-economical and political events, ça va sans dire. Its impact will be relevant for the general public and could potentially even suggest actions to governments.\n",
    ">\n",
    ">\n",
    ">Your Sincerely,\n",
    ">\n",
    ">Professor J. Doe\n"
   ]
  },
  {
   "cell_type": "markdown",
   "metadata": {},
   "source": [
    "## Phase 2: Technical Questions (40 mins in group + 20 mins together)\n",
    "\n",
    "### **Schedule**\n",
    "- 40 mins collaborative activity (scoping, in groups)\n",
    "- 20 mins presentation (all together)\n",
    "\n",
    "****\n",
    "\n",
    "### **Teams should follow these steps during Phase 2:**\n",
    "After having explored the materials and prepared some initial questions in Phase 1, you can start an iterative conversation with the PI to reach an answer to the scoping questions questions listed below. This should consist of a series of discussions and further exploration of the data and literature.\n",
    "\n",
    "We list here some of the main scoping questions we presented in Lesson 1.2\n",
    "\n",
    "#### The goal\n",
    "\n",
    "1. What is the broad challenge we are trying to solve?\n",
    "\n",
    "2. What is the specific research question? How does it translate to a data science problem?\n",
    "\n",
    "#### The data\n",
    "\n",
    "3. Is data available? Can I legally use it? Is it appropriate for the research question?\n",
    "\n",
    "#### The expectations\n",
    "\n",
    "4. What are the stakeholders' expectations?\n",
    "\n",
    "5. What is in-scope and out-of-scope?\n",
    "\n",
    "6. How does the output of the project look like and how is it going to be used?\n",
    "\n",
    "#### Success\n",
    "\n",
    "7. What metrics do we use to measure the success of the project?\n",
    "\n",
    "8. What is the expected impact? Is it realistic?\n",
    "\n",
    "#### Other questions\n",
    "\n",
    "9. What about computational resources and timelines?\n"
   ]
  },
  {
   "cell_type": "markdown",
   "metadata": {},
   "source": [
    "## Phase 3: Ethical Discussion (30 mins in groups, then 30 mins together)\n",
    "\n",
    "### **Schedule**\n",
    "- 30 mins collaborative activity (EDI discussion, in groups)\n",
    "- 30 mins presentation (all together)\n",
    "\n",
    "****\n",
    "\n",
    "### **Teams should follow these steps during Phase 3:**\n",
    "As a final discussion we would like to focus on the goal of studying **health** while having **self-reported health** information in the dataset. Discuss together about the issues and challenges that we might encounter (by also exploring the dataset, the paper and the documentation). We will first discuss this in sub-groups and then we will have final open discussion with all the participants.\n"
   ]
  }
 ],
 "metadata": {
  "interpreter": {
   "hash": "4c2e28f5e7597c8416e7a1613a3ba960df91b5fe1e29409b26c5fd05fd6a01e9"
  },
  "kernelspec": {
   "display_name": "Python 3",
   "language": "python",
   "name": "python3"
  },
  "language_info": {
   "codemirror_mode": {
    "name": "ipython",
    "version": 3
   },
   "file_extension": ".py",
   "mimetype": "text/x-python",
   "name": "python",
   "nbconvert_exporter": "python",
   "pygments_lexer": "ipython3",
   "version": "3.8.3"
  },
  "widgets": {
   "application/vnd.jupyter.widget-state+json": {
    "state": {},
    "version_major": 2,
    "version_minor": 0
   }
  }
 },
 "nbformat": 4,
 "nbformat_minor": 4
}
