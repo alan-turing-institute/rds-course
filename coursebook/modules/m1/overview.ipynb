{
 "cells": [
  {
   "cell_type": "markdown",
   "metadata": {},
   "source": [
    "# Overview\n",
    "\n",
    "In this first module we will be covering:\n",
    "\n",
    "1.  An introduction to Research Data Science: What data science and\n",
    "    research data science are, overview of the variety of cultures\n",
    "    within them and the role of a research data scientist.\n",
    "2.  The lifecycle of a Research Data Science project and an intro to\n",
    "    scoping RDS projects\n",
    "3.  Equality, Diversity and Inclusion considerations for data scientists\n",
    "4.  A few important concepts when working on collaborative reproducible\n",
    "    projects 5 Hands-on session: Scope a research data science project\n",
    "    using a real-world individual-level dataset, including discussion of\n",
    "    research question and EDI issues and setting up a collaborative\n",
    "    GitHub repo.\n",
    "\n",
    "**Disclaimer and references**:\n",
    "\n",
    "We are professional research data scientists who work collaboratively\n",
    "with researchers and other stakeholders daily. We have been involved in\n",
    "scoping a number of projects with academic and industries partners and\n",
    "discussing issues of research ethics in our work. Parts of this chapter\n",
    "have been strongly influenced by the book [Data\n",
    "Feminism](https://data-feminism.mitpress.mit.edu/)."
   ],
   "id": "0f06592c-5c2b-4579-89da-1cd8304da6f4"
  }
 ],
 "nbformat": 4,
 "nbformat_minor": 5,
 "metadata": {}
}
