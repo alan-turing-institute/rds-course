{
 "cells": [
  {
   "cell_type": "markdown",
   "source": [
    "## Lesson 1.4: Collaboration and reproducibility"
   ],
   "metadata": {}
  },
  {
   "cell_type": "markdown",
   "source": [
    "As a final part of this first module, we will discuss a series of best practices for collaborative coding in a research project. We will not focus on the different aspects of version control as these topics are extensively covered in other resources offered at the Turing, for instance as part of the [RSE Course](https://alan-turing-institute.github.io/rsd-engineeringcourse/ch02git/) and [The Turing Way](https://the-turing-way.netlify.app/reproducible-research/vcs/vcs-github.html). Instead we will go through best practices for facilitating collaborative coding."
   ],
   "metadata": {}
  },
  {
   "cell_type": "markdown",
   "source": [
    "## Git Flow and Pull Requests\n",
    "\n",
    "When setting up a new project, and especially when you are working collaboratively, you might want to consider following a branching model such as Git Flow, where different branches have specific roles and it is clearly defined when and how they should interact. This will facilitate collaboration, testing and code reviews. Note that this is not the only type of workflow and [GitHub workflow](https://guides.github.com/introduction/flow/) is another established option.\n",
    "\n",
    "### Branches\n",
    "\n",
    "![GitFlow](../../figures/m1/gitflow.svg)\n",
    "\n",
    "In Git Flow two branches will record the entire history of the project and have an infinite lifetime:\n",
    "- Main: which contains the release history\n",
    "- Develop: which is the integration branch for features.\n",
    "\n",
    "When creating a new project we suggest to create the Develop branch (Main will be there from the beginning) and to change the default branch to Develop.\n",
    "\n",
    "Every time a new feature is planned or a bug / problem needs to be addressed we suggest to first document it in a specific issue, which specifies the problem and the type of expected outcome. Remember that it is very important that issues are focused on a specific and contained task and clearly described. \n",
    "\n",
    "If a collaborator would like to address this, they should open a dedicated branch (from Develop). On GitHub each issue is identified with a number and it is important to be consistent with naming conventions of branches to keep a consistent overview. For instance see the following example.\n",
    "\n",
    "![GitFlow](../../figures/m1/branch_names.png)\n",
    "\n",
    "### Pull Requests\n",
    "\n",
    "When they have addressed the issue, they can open a Pull Request (from the GitHub web interface) to merge the code back to the Develop branch. Once a pull request is opened, you can discuss and review the potential changes with them and they can add follow-up commits if necessary before the changes are merged into Develop.\n",
    "\n",
    "\n"
   ],
   "metadata": {}
  }
 ],
 "metadata": {
  "kernelspec": {
   "display_name": "Python 3",
   "language": "python",
   "name": "python3"
  },
  "language_info": {
   "codemirror_mode": {
    "name": "ipython",
    "version": 3
   },
   "file_extension": ".py",
   "mimetype": "text/x-python",
   "name": "python",
   "nbconvert_exporter": "python",
   "pygments_lexer": "ipython3",
   "version": "3.7.10"
  }
 },
 "nbformat": 4,
 "nbformat_minor": 5
}