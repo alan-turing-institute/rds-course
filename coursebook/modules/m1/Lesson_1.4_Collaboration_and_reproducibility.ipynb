{
 "cells": [
  {
   "cell_type": "markdown",
   "id": "7a0118d6",
   "metadata": {},
   "source": [
    "## Lesson 1.4: Collaboration and reproducibility"
   ]
  },
  {
   "cell_type": "code",
   "execution_count": null,
   "id": "1f739e3a",
   "metadata": {},
   "outputs": [],
   "source": []
  }
 ],
 "metadata": {
  "kernelspec": {
   "display_name": "Python 3",
   "language": "python",
   "name": "python3"
  },
  "language_info": {
   "codemirror_mode": {
    "name": "ipython",
    "version": 3
   },
   "file_extension": ".py",
   "mimetype": "text/x-python",
   "name": "python",
   "nbconvert_exporter": "python",
   "pygments_lexer": "ipython3",
   "version": "3.7.10"
  }
 },
 "nbformat": 4,
 "nbformat_minor": 5
}
