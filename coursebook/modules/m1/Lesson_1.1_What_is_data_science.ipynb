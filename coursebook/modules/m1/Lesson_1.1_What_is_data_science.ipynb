{
 "cells": [
  {
   "cell_type": "markdown",
   "id": "7c087856",
   "metadata": {},
   "source": [
    "# Lesson 1.1: What is data science?"
   ]
  },
  {
   "cell_type": "code",
   "execution_count": null,
   "id": "b51820e8",
   "metadata": {},
   "outputs": [],
   "source": []
  }
 ],
 "metadata": {
  "kernelspec": {
   "display_name": "Python 3",
   "language": "python",
   "name": "python3"
  },
  "language_info": {
   "codemirror_mode": {
    "name": "ipython",
    "version": 3
   },
   "file_extension": ".py",
   "mimetype": "text/x-python",
   "name": "python",
   "nbconvert_exporter": "python",
   "pygments_lexer": "ipython3",
   "version": "3.7.10"
  }
 },
 "nbformat": 4,
 "nbformat_minor": 5
}
