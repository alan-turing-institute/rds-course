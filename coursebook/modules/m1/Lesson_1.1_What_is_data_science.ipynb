{
 "cells": [
  {
   "cell_type": "markdown",
   "source": [
    "# Lesson 1.1: What is (research) data science?\n",
    "\n",
    "There is an incredible abundance of webpages, Youtube videos, newspaper articles and books with definitions of what is data science. Instead of starting by providing a clear-cut single definition of such a complex, multifaced and buzzword topic, we have decided to break it down to its main components and from there present what are the roles of a research data scientist in particular.\n"
   ],
   "metadata": {}
  },
  {
   "cell_type": "markdown",
   "source": [
    "## Data\n",
    "\n",
    "We start from the most essential element of this profession, data. The prompt availability of large-scale datasets for training face recognition algorithms or language models is not something that we should give for granted and it is absolutely not something that has always been in place. Concepts such as \"Data mining\" and \"Data is the new oil\" depict data as something crude, non human, like a natural, primitive and unrefined resource and hide the enormous amount of labour, resources, infrastructure and time that has taken to make such data available.\n",
    "\n",
    "![Data is the new oil](../../figures/m1/data_new_oil.jpg)\n",
    "\n",
    "### Scarcity & Abundance\n",
    "\n",
    "The abundance of data, which has led around ten years ago to the advent of another very popular buzzword, \"big data\", is something our society has rapidly got accostumed to (due to its huge demand), but is a fairly new phenomenon. Let us consider a specific example from the field of speech recognition: in the Eighties a group of researchers at IBM research decided to develop a system that instead of a top-down rule-based approach (a so-called knowledge system) would employ a statistical method focused on how often words appear in the same context. However to train such method, an enormous amount of textual data would have been needed, especially compared to what was available back then. IBM researchers tried everything, from digitised technical manuals to children's books and patents. Now that data is everywhere and everything is seen as data we tend to forget how rapidly things have changed with the advent of the Internet first and the World Wide Web right after, together with continuous investments in data storage facilities. To get a quick idea, check websites like [Internet Live Stats](https://www.internetlivestats.com/) or explore the collection of an impossible to achieve project such as [The Internet Archive](https://archive.org/about/)\n",
    "\n",
    "### Representativeness\n",
    "\n",
    "Together with data scarcity, the other aspect that we should never underestimate when we speak about data is whether they are representative of the phenomenon we aim to study. In a recent article by Anna Rogers, the author addresses the following argument: “the size of the data is so large that, in fact, our training sets are not a sample at all, they are the entire data universe”. Rogers reply by saying that this argument would stand if the “data universe\" that we use for training for instance a speech regognition system were the same as “the totality of human speech/writing\". It is not, and will hopefully never be, because collecting all speech is problematic for ethical, legal, and practical reasons. Anything\n",
    "less than that is a sample. Given the existing social structures, no matter how big that sample is, it is not representative due to (at least) unequal access to technology, unequal possibility to defend one’s privacy and copyright, and limited access to the huge volumes of speech produced in the “walled garden\" platforms like Facebook. \n",
    "\n",
    "### Creation\n",
    "\n",
    "Data is not a natural resource, but the product of human decisions (in tracking users or collecting information for instance as well as in organising it in specific categories), of measuring and storage infrastructure and especially of people's hard labour and of way more people's (often unconcious) online activities. When we find a collection enriched with metadata information or specific labels, we always need to remember that someone has either directly provided those labels or those have been automatically assigned by a tool trained on other manual labels. There is no way out, there is always, counscious or not, a human-in-the-loop when we speak about data creation. To give a specific example, the famous ImageNet dataset, central component for the development of many famous image recognition pipelines in the last ten years rely on two pillars:\n",
    "- a taxonomy developed since 1985 as part of the lexical database WordNet, which provides a top-down hierarchical structure of concepts (\"chair\" is under artifact->furnishing->furniture->seat->chair)\n",
    "- an enormous amount of cheap workforce provided by Amazon Mechanical Turk.\n",
    "\n",
    "ImageNet is not an abstract resource, but the result of a gigantic effort and the specific representation of the World of the people who have designed WordNet, the researchers who have decided which WordNet categories include and which not in ImageNet and the many, many annotators who have selected which images associate to concepts like \"brother\", \"boss\", \"debtor\", \"drug-addict\" and \"call girl\", all present both in WordNet and ImageNet.\n",
    "\n"
   ],
   "metadata": {}
  },
  {
   "cell_type": "markdown",
   "source": [],
   "metadata": {}
  },
  {
   "cell_type": "markdown",
   "source": [
    "## Data-driven insights"
   ],
   "metadata": {}
  },
  {
   "cell_type": "markdown",
   "source": [
    "## Data-driven research"
   ],
   "metadata": {}
  },
  {
   "cell_type": "markdown",
   "source": [
    "## Research data science"
   ],
   "metadata": {}
  },
  {
   "cell_type": "markdown",
   "source": [
    "## References\n",
    "\n",
    "Crawford, K. (2021). The Atlas of AI. Yale University Press.\n",
    "\n",
    "D'ignazio, C., & Klein, L. F. (2020). Data feminism. MIT press.\n",
    "\n",
    "Rogers, A. (2021). Changing the World by Changing the Data. arXiv preprint arXiv:2105.13947.\n",
    "\n"
   ],
   "metadata": {}
  }
 ],
 "metadata": {
  "kernelspec": {
   "name": "python3",
   "display_name": "Python 3.7.3 64-bit"
  },
  "language_info": {
   "codemirror_mode": {
    "name": "ipython",
    "version": 3
   },
   "file_extension": ".py",
   "mimetype": "text/x-python",
   "name": "python",
   "nbconvert_exporter": "python",
   "pygments_lexer": "ipython3",
   "version": "3.7.3"
  },
  "interpreter": {
   "hash": "31f2aee4e71d21fbe5cf8b01ff0e069b9275f58929596ceb00d14d90e3e16cd6"
  }
 },
 "nbformat": 4,
 "nbformat_minor": 5
}