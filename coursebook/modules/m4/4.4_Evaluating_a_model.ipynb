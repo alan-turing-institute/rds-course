{
 "cells": [
  {
   "cell_type": "markdown",
   "metadata": {
    "collapsed": true
   },
   "source": [
    "# 4.4 Evaluating models\n",
    "\n",
    "\n",
    "In the last section we created a very simple model linking the binarised self reported health with the deprivation index controlled by age for the UK. We made emphasis on understanding the workings of the model and develop an intuition of what the model has learnt, but a modeling task is not complete without evaluation meaning examining how well the model has learned the data and is able generalise it in unseen data.\n",
    "\n",
    "To evalulate how well the model can explain the data used for the fit there is a number of metrics that that describe the **goodness-of-fit** which summarises the discrepancy between observed values and the values expected under the model. These metrics depend of the kind of type you are fitting, e.g. in regression you tend to look at the *Mean Square Error*, *Root Mean Squared Error*, *Coefficient of Determination*, residual plots, etc. (although all these metrics have to be interpreted with the full knowdlege of the context of the data and model,  you can find more about these metrics in [here](https://medium.com/microsoftazure/how-to-better-evaluate-the-goodness-of-fit-of-regressions-990dbf1c0091)). \n",
    "\n",
    "The **goodness-of-fit** metrics alone are not enough for a full evaluation of the model. A fit can learn perfectly the data, but fail to make good predictions on future unseen samples. This is known as overfitting. Hence, part of model evaluation is to estimate the generalization accuracy of a model on unseen/out-of-sample data by using a **test set** (i.e data not seen by the model) to evaluate performance. \n",
    "\n",
    "In this section we will build on the modeling steps done in section 4.3 and perform model evaluation. In this example we are focusing on logistic regression, however we will try to make the concepts and ideas generasible to other models. "
   ]
  },
  {
   "cell_type": "code",
   "execution_count": 1,
   "metadata": {},
   "outputs": [
    {
     "name": "stderr",
     "output_type": "stream",
     "text": [
      "/anaconda3/envs/rds-course/lib/python3.9/site-packages/statsmodels/tools/_testing.py:19: FutureWarning: pandas.util.testing is deprecated. Use the functions in the public API at pandas.testing instead.\n",
      "  import pandas.util.testing as tm\n"
     ]
    }
   ],
   "source": [
    "import pandas as pd\n",
    "import seaborn as sns\n",
    "import matplotlib.pyplot as plt\n",
    "import numpy as np\n",
    "import statsmodels.api as sm\n",
    "from sklearn.metrics import roc_auc_score\n",
    "from sklearn.model_selection import train_test_split\n",
    "from sklearn.metrics import roc_curve, precision_recall_curve\n",
    "from sklearn import metrics\n",
    "from matplotlib import pyplot\n",
    "\n",
    "plt.style.use('seaborn')\n",
    "sns.set_theme(style=\"whitegrid\")\n",
    "sns.set_style(\"white\")"
   ]
  },
  {
   "cell_type": "markdown",
   "metadata": {},
   "source": [
    "## Data processing\n",
    "\n",
    "**Note**: *We aim that each section can function as a stand-alone material, therefore we repeate the data processing steps in Sections 3.5, 4.3 and now here. Feel free to skip to the next section.*\n",
    "\n",
    " We can access the data by downloading the csv option from here. Create a folder data in the same root as this notebook. Copy the folder UKDA-7724-csv and its contents there."
   ]
  },
  {
   "cell_type": "code",
   "execution_count": 2,
   "metadata": {},
   "outputs": [],
   "source": [
    "datafolder = 'data/UKDA-7724-csv/'\n",
    "df11 = pd.read_csv(datafolder + 'csv/eqls_2011.csv')\n",
    "df_map = pd.read_csv(datafolder + 'mrdoc/excel/eqls_api_map.csv', encoding='latin1')"
   ]
  },
  {
   "cell_type": "code",
   "execution_count": 3,
   "metadata": {},
   "outputs": [],
   "source": [
    "# we are only interested in the UK for this example.\n",
    "df11 = df11.query('Y11_Country == 27')\n",
    "\n",
    "var_map = {\"Y11_Q42\": \"SRH\",\n",
    "           'Y11_Deprindex': 'DeprIndex',\n",
    "           \"Y11_RuralUrban\": \"RuralUrban\",\n",
    "           \"Y11_Accommproblems\": 'AccomProblems',\n",
    "           \"Y11_HHsize\": \"HouseholdSize\",\n",
    "           \"Y11_Q32\": \"Children\",\n",
    "           \"Y11_ISCEDsimple\":\"ISCED\",\n",
    "           \"Y11_Education\": \"Education\",\n",
    "           \"Y11_SocExIndex\":\"SocialExclusionIndex\",\n",
    "           \"Y11_MWIndex\": \"MentalWellbeingIndex\",\n",
    "           \"Y11_Agecategory\":\"AgeCategory\",\n",
    "           \"Y11_HH2a\":\"Gender\",\n",
    "           \"Y11_Q31\":\"MaritalStatus\",\n",
    "           \"Y11_Country\":\"Country\"\n",
    "}\n",
    "\n",
    "df11.rename(columns=var_map, inplace=True)\n",
    "df11_set = df11[var_map.values()]"
   ]
  },
  {
   "cell_type": "markdown",
   "metadata": {},
   "source": [
    "We drop rows with missing data (**warning**: this shoudn't be done lightly without having explored the missigness of the data, here we are doing for simplicity and to focus on the modeling)."
   ]
  },
  {
   "cell_type": "code",
   "execution_count": 4,
   "metadata": {},
   "outputs": [],
   "source": [
    "df11_model = df11_set.dropna() "
   ]
  },
  {
   "cell_type": "markdown",
   "metadata": {},
   "source": [
    "Finally, we dichotomise the `SRH` variable."
   ]
  },
  {
   "cell_type": "code",
   "execution_count": 5,
   "metadata": {},
   "outputs": [
    {
     "name": "stderr",
     "output_type": "stream",
     "text": [
      "/anaconda3/envs/rds-course/lib/python3.9/site-packages/pandas/core/frame.py:3607: SettingWithCopyWarning: \n",
      "A value is trying to be set on a copy of a slice from a DataFrame.\n",
      "Try using .loc[row_indexer,col_indexer] = value instead\n",
      "\n",
      "See the caveats in the documentation: https://pandas.pydata.org/pandas-docs/stable/user_guide/indexing.html#returning-a-view-versus-a-copy\n",
      "  self._set_item(key, value)\n"
     ]
    }
   ],
   "source": [
    "# dichotomoise SRH\n",
    "df11_model['SRH_binary'] = df11_model.SRH.apply(lambda x: 1 if float(x) <= 3 else 0)"
   ]
  },
  {
   "cell_type": "markdown",
   "metadata": {},
   "source": [
    "## Model 1: Age and Deprivation index.\n",
    "\n",
    "Let's start evaluating the performance of a simple model described in section 3.5 where we model `SRH` as a function of Age and Deprivation. In that section we use our complete UK dataset to fit the model as an ilustrative example, however this is not best practice at the time of building and evaluating models.  \n",
    "\n",
    "It’s not recommended to use the data we used to build the model to evaluate it, the best approach is to partition your dataset into a **training** sample used to fit you model, and a **holdout** sample for evaluation. The purpose of this is to obtain an unbiased estimate of learning performance. \n",
    "\n",
    "Depending on your model you might need a **training**, **validation** and **testing** set (e.g a validation set can be useful when you have to tune model hyperparameters). However, for this example we will use a simple **train**/**test** split following a 70/30 rule (for more in depth discussion of what is a \"good test size\" check-out this [blog post](https://www.r-bloggers.com/2021/01/what-is-a-good-test-set-size-2/))."
   ]
  },
  {
   "cell_type": "code",
   "execution_count": 6,
   "metadata": {},
   "outputs": [],
   "source": [
    "# test train split using scikit learn, defining random state for reproducibility\n",
    "trainX_model1, testX_model1, trainy_model1, testy_model1 = train_test_split(df11_model[['AgeCategory','DeprIndex']], df11_model.SRH_binary.values, test_size=0.3, random_state=2)"
   ]
  },
  {
   "cell_type": "markdown",
   "metadata": {},
   "source": [
    "**Note**: In this example we will use a fixed train/test split, but this has its dangers — what if the split we make isn’t random? (e.g data could be ordered in a non random manner, or we could be unlucky in our split to have a non-representative sample). A solution for this is to use **cross-validation**. This method is very similar to train/test split, but it’s applied to more subsets. Meaning, the dataset is split into *k* subsets (or folds), and the model is trainned on k-1 one of those subsets. The remaining subset is used to test the model. This is done iteratively *k* times and then the score metrics obtained on each of the folds are averaged into a a summarized performance of the model. More information on **cross-validation** can be found [here](https://scikit-learn.org/stable/modules/cross_validation.html).\n",
    "\n",
    "\n",
    "Now, let's fit our model on our training set."
   ]
  },
  {
   "cell_type": "code",
   "execution_count": 7,
   "metadata": {
    "scrolled": true
   },
   "outputs": [
    {
     "name": "stdout",
     "output_type": "stream",
     "text": [
      "Optimization terminated successfully.\n",
      "         Current function value: 0.325243\n",
      "         Iterations 7\n"
     ]
    },
    {
     "name": "stderr",
     "output_type": "stream",
     "text": [
      "/anaconda3/envs/rds-course/lib/python3.9/site-packages/statsmodels/tsa/tsatools.py:117: FutureWarning: In a future version of pandas all arguments of concat except for the argument 'objs' will be keyword-only\n",
      "  x = pd.concat(x[::order], 1)\n"
     ]
    }
   ],
   "source": [
    "trainX_const_model1 = sm.add_constant(trainX_model1) #add constant for intercept\n",
    "logit_model_model1 = sm.Logit(trainy_model1, trainX_const_model1) #Create model instance\n",
    "result_model1 = logit_model_model1.fit() #Fit model"
   ]
  },
  {
   "cell_type": "markdown",
   "metadata": {},
   "source": [
    "In the output, ‘Iterations‘ refer to the number of times the model iterates over the data to optimize the model."
   ]
  },
  {
   "cell_type": "markdown",
   "metadata": {},
   "source": [
    "## Validating the fit\n",
    "Let's explore the output of the fit. The summary table below gives us a descriptive summary about the results.  "
   ]
  },
  {
   "cell_type": "code",
   "execution_count": 8,
   "metadata": {},
   "outputs": [
    {
     "name": "stdout",
     "output_type": "stream",
     "text": [
      "                           Logit Regression Results                           \n",
      "==============================================================================\n",
      "Dep. Variable:                      y   No. Observations:                 1395\n",
      "Model:                          Logit   Df Residuals:                     1392\n",
      "Method:                           MLE   Df Model:                            2\n",
      "Date:                Wed, 13 Oct 2021   Pseudo R-squ.:                 0.08318\n",
      "Time:                        08:22:46   Log-Likelihood:                -453.71\n",
      "converged:                       True   LL-Null:                       -494.88\n",
      "Covariance Type:            nonrobust   LLR p-value:                 1.323e-18\n",
      "===============================================================================\n",
      "                  coef    std err          z      P>|z|      [0.025      0.975]\n",
      "-------------------------------------------------------------------------------\n",
      "const           4.0847      0.349     11.692      0.000       3.400       4.769\n",
      "AgeCategory    -0.4030      0.081     -4.950      0.000      -0.563      -0.243\n",
      "DeprIndex      -0.3615      0.043     -8.317      0.000      -0.447      -0.276\n",
      "===============================================================================\n"
     ]
    }
   ],
   "source": [
    "print (result_model1.summary())"
   ]
  },
  {
   "cell_type": "markdown",
   "metadata": {},
   "source": [
    "In section 4.3 we discussed the interpretation of the coefficitents, standard erros and significance parameters. In this section we'll explore the output related to the **goodness-of-fit**. \n",
    "\n",
    "- **Method**:  Maximum Likelihood Estimation (MLE) is a probabilistic framework for estimating the parameters of an assumed probability distribution, given some observed data. MLE involves maximizing a likelihood function in order to find the probability distribution and parameters that best explain the observed data.\n",
    "- **No. Observations**: Number of observations on our training set.\n",
    "- **Df. Residuals**:  This is the Degrees of Freedom in the model. This is calculated in the form of `number of observations` - `number of predictors` - 1.\n",
    "- **Df. Model**: Degrees of Freedom of our model, which is basically the number of predictors used in the model (or number of coefficients to be fitted).\n",
    "- **Log-Likelihood**: the natural logarithm of the Maximum Likelihood Estimation (MLE) function given the estimated parameters. The log likelihood function in maximum likelihood estimations is usually computationally simpler, and the log-likelihood maximum is the same as the likelihood maximum.\n",
    "- **LL-Null**: the value of log-likelihood of the model when no independent variable is included (only an intercept is included).\n",
    "- **Pseudo R-squ.**: It is the ratio of the log-likelihood of the null model to that of the full model (this can function as a substitute for the R-squared value in Least Squares linear regression).\n",
    "- **LLR p-value**: A small p-value you can reject the null hypothesis that the model based on the intercept (all coefficients = 0) is better than the full model, again this uses the ratio of the log-likelihood of the null model to that of the full model.\n",
    "\n",
    "For the remainder of this section we will be using the **Log-lilelihood** values as a way to compare how a model improves when adding a new predictor. "
   ]
  },
  {
   "cell_type": "markdown",
   "metadata": {},
   "source": [
    "## Evaluation thorugh prediction on new data\n",
    "\n",
    "Now we test our model using our test dataset. \n",
    "\n",
    "First we obtain the prediction of the model as a a probability and  in order to use it as a classifier, we choose choose a threshold value. Where scores above this value will classified as positive, those below as negative. For now the threshold value of the probability is $prob(x)>0.5$."
   ]
  },
  {
   "cell_type": "code",
   "execution_count": 9,
   "metadata": {},
   "outputs": [
    {
     "name": "stdout",
     "output_type": "stream",
     "text": [
      "Actual values [1, 1, 1, 1, 1, 1, 1, 1, 1, 1]\n",
      "Predictions : [1, 1, 1, 1, 1, 1, 1, 1, 1, 1]\n"
     ]
    }
   ],
   "source": [
    "# performing predictions on the test datdaset\n",
    "yhat = result_model1.predict(sm.add_constant(testX_model1))\n",
    "pred_y_model1 = list(map(round, yhat))\n",
    " \n",
    "# comparing first 10 original and predicted values of y\n",
    "print('Actual values', list(testy_model1)[:10])\n",
    "print('Predictions :', pred_y_model1[:10])"
   ]
  },
  {
   "cell_type": "markdown",
   "metadata": {},
   "source": [
    "In the cell above we are just printing the first 10 observations of our dataset. In order to summarise the the accuracy of the predictions from our model we can use a confusion matrix. This maps the predicted and actual values into a matrix, can give us an idea of what the classification model is getting right and what types of errors it is making.\n",
    "\n",
    "From a confusion matrix we can obtain the True Positives (TP), False Positives (FP), True Negatives (TN) and False Negatives (FN) and calculate the following metrics:\n",
    "\n",
    "\n",
    "- $Accuracy = \\frac{TP  + TN}{TP + FP + TN + FN}$\n",
    "\n",
    "\n",
    "- $Precision = \n",
    "     \\frac{TP}{TP + FP}$\n",
    "     \n",
    "     \n",
    "- $Recall = \n",
    "      \\frac{TP}{TP + FN}$\n",
    "      \n",
    "    "
   ]
  },
  {
   "cell_type": "code",
   "execution_count": 10,
   "metadata": {},
   "outputs": [
    {
     "name": "stdout",
     "output_type": "stream",
     "text": [
      "Accuracy: 0.8931552587646077\n",
      "Precision: 0.8961474036850922\n",
      "Recall: 0.9962756052141527\n"
     ]
    },
    {
     "data": {
      "image/png": "[encoded data removed]",
      "text/plain": [
       "<Figure size 360x360 with 2 Axes>"
      ]
     },
     "metadata": {},
     "output_type": "display_data"
    }
   ],
   "source": [
    "# confusion matrix using sklearn\n",
    "cnf_matrix = metrics.confusion_matrix(testy_model1,pred_y_model1)\n",
    "\n",
    "def plt_cnf_mat(cnf_matrix, ax, class_names=[0,1]):\n",
    "    tick_marks = np.arange(len(class_names))\n",
    "    ax.set_xticks(tick_marks)\n",
    "    ax.set_xticklabels(class_names)\n",
    "    ax.set_yticks(tick_marks)\n",
    "    ax.set_yticklabels(class_names)\n",
    "    # create heatmap\n",
    "    sns.heatmap(pd.DataFrame(cnf_matrix), annot=True, cmap=\"YlGnBu\" ,fmt='g')\n",
    "    ax.set_title('Confusion matrix', y=1.1)\n",
    "    ax.set_ylabel('Actual label')\n",
    "    ax.set_xlabel('Predicted label')\n",
    "    \n",
    "    \n",
    "fig, ax = plt.subplots(1,1, figsize = (5,5))\n",
    "plt_cnf_mat(cnf_matrix, ax)\n",
    "\n",
    "\n",
    "print(\"Accuracy:\",metrics.accuracy_score(testy_model1, pred_y_model1))\n",
    "print(\"Precision:\",metrics.precision_score(testy_model1, pred_y_model1))\n",
    "print(\"Recall:\",metrics.recall_score(testy_model1, pred_y_model1)) # what is recall? "
   ]
  },
  {
   "cell_type": "markdown",
   "metadata": {},
   "source": [
    "You can see here the no negative values get predicted and the overwelming majority of responses are true positives. Furthermore, the accuracy, precision and recall score > 89%, this is happening due to our dataset being highly imbalanced and that the minority class are labeled as negative (0).\n",
    "\n",
    "A better evaluation would be to estimate these metrics as a function of the minority class in the following way:\n",
    "\n"
   ]
  },
  {
   "cell_type": "code",
   "execution_count": 11,
   "metadata": {},
   "outputs": [
    {
     "name": "stdout",
     "output_type": "stream",
     "text": [
      "Accuracy: 0.8931552587646077\n",
      "Precision: 0.0\n",
      "Recall: 0.0\n"
     ]
    }
   ],
   "source": [
    "testy_model1_minority = abs(testy_model1 - 1)\n",
    "pred_y_model1_minority = abs(np.array(pred_y_model1) -1)\n",
    "\n",
    "print(\"Accuracy:\",metrics.accuracy_score(testy_model1_minority, pred_y_model1_minority))\n",
    "print(\"Precision:\",metrics.precision_score(testy_model1_minority, pred_y_model1_minority))\n",
    "print(\"Recall:\",metrics.recall_score(testy_model1_minority, pred_y_model1_minority)) "
   ]
  },
  {
   "cell_type": "markdown",
   "metadata": {},
   "source": [
    "The results above are not a surprise. In 4.3 we saw that the model considers deprivation as a continous variable and observed that the cutoff point of the model (this is the value where the model starts predicive negative labels) for the deprivation predictor was around 7, which is larger than the existing range for this variable. Nonetheless, in our examination of the model in 4.3 we observed that the model was indeed learning from the data and reproducing it, and after examining the **log-likelihoods** of the fit summary above we can conclude that the model is indeed better than a null model where the predictors do not add any information.  \n",
    "\n",
    "This means that the classification matrix, which show that our model is unable to ever predict the negative labels existing in the dataset might not be the best tool to evaluate the model in this scenario. Particularly because it shows a snapshot of the results being mapped from a predicted probability using a threshold of $p(x)> 0.5$.\n",
    "\n",
    "\n",
    "### Investigating threshold values\n",
    "\n",
    "Let's go back to our probability and investigate the predicted values given by the model for our two labels:"
   ]
  },
  {
   "cell_type": "code",
   "execution_count": 12,
   "metadata": {
    "scrolled": true
   },
   "outputs": [
    {
     "data": {
      "text/plain": [
       "<matplotlib.legend.Legend at 0x7f9d60d2a820>"
      ]
     },
     "execution_count": 12,
     "metadata": {},
     "output_type": "execute_result"
    },
    {
     "data": {
      "image/png": "[encoded data removed]",
      "text/plain": [
       "<Figure size 360x360 with 1 Axes>"
      ]
     },
     "metadata": {},
     "output_type": "display_data"
    }
   ],
   "source": [
    "# link the prediction to the label values\n",
    "df_labels = pd.DataFrame({'prediction': yhat,\n",
    "     'label': testy_model1})\n",
    "\n",
    "fig, ax = plt.subplots(1,1, figsize = (5,5))\n",
    "df_labels[df_labels['label']==1]['prediction'].plot.kde(label='SRH == 1')\n",
    "df_labels[df_labels['label']==0]['prediction'].plot.kde(label='SRH == 0')\n",
    "pyplot.xlabel('Probability')\n",
    "pyplot.legend()\n",
    "\n"
   ]
  },
  {
   "cell_type": "markdown",
   "metadata": {},
   "source": [
    "Ideally, in this density plot we would observe the probability scores between two classes to be separated, with the score of the cases where `SRH==0` on the low probability values and the score of cases with `SRH==1` to be on the the high values. However, in the current case both distributions are slight skewed to the high probability values. The reason for this is because our dataset is highly imbalanced and only consists of 10 percent of cases where `SRH ==0`. Thus the predicted probabilities sort of gets pulled towards a higher values because of the majority of the data being positive cases."
   ]
  },
  {
   "cell_type": "code",
   "execution_count": 13,
   "metadata": {},
   "outputs": [
    {
     "name": "stdout",
     "output_type": "stream",
     "text": [
      "Mean value for SRH ==1, 0.898\n",
      "Mean value for SRH ==0, 0.812\n",
      "Percentage of cases with SRH ==0, 0.104\n"
     ]
    }
   ],
   "source": [
    "print ('Mean value for SRH ==1,', round(df_labels[df_labels['label']==1]['prediction'].mean(),3))\n",
    "print ('Mean value for SRH ==0,', round(df_labels[df_labels['label']==0]['prediction'].mean(),3))\n",
    "print ('Percentage of cases with SRH ==0,', round(df_labels[df_labels['label']==0]['prediction'].count()/df_labels.shape[0],3))"
   ]
  },
  {
   "cell_type": "markdown",
   "metadata": {},
   "source": [
    "Despite all this, in the density figures above we can observe a separation in the predicted scores, and the performance of the model could be improve dby selecting a better threshold value of the probability use to classify each case. This should be done by making a balance between the rate of False Positives and False Negatives. For this we can use other tools avalaible, such as **ROC curves**."
   ]
  },
  {
   "cell_type": "markdown",
   "metadata": {},
   "source": [
    "### What Are ROC Curves?\n",
    "\n",
    "A receiver operating characteristic curve, or ROC curve, is a figure that illustrates the performance of a binary classifier as its discrimination threshold is varied.\n",
    "\n",
    "Let's examine how the ROC courve looks for our model, and how it compares to a dummy classifier with no skill in classifying our data. "
   ]
  },
  {
   "cell_type": "code",
   "execution_count": 14,
   "metadata": {},
   "outputs": [
    {
     "name": "stdout",
     "output_type": "stream",
     "text": [
      "No Skill: ROC AUC=0.500\n",
      "Logistic: ROC AUC=0.766\n"
     ]
    },
    {
     "name": "stderr",
     "output_type": "stream",
     "text": [
      "/anaconda3/envs/rds-course/lib/python3.9/site-packages/statsmodels/tsa/tsatools.py:117: FutureWarning: In a future version of pandas all arguments of concat except for the argument 'objs' will be keyword-only\n",
      "  x = pd.concat(x[::order], 1)\n"
     ]
    },
    {
     "data": {
      "image/png": "[encoded data removed]",
      "text/plain": [
       "<Figure size 576x396 with 1 Axes>"
      ]
     },
     "metadata": {},
     "output_type": "display_data"
    }
   ],
   "source": [
    "lr_probs_model1 = result_model1.predict(sm.add_constant(testX_model1))\n",
    "\n",
    "ns_probs_model1 = [0 for _ in range(len(testy_model1))]\n",
    "# keep probabilities for the positive outcome only\n",
    "# calculate scores\n",
    "ns_auc_model1 = roc_auc_score(testy_model1, ns_probs_model1)\n",
    "lr_auc_model1 = roc_auc_score(testy_model1, lr_probs_model1)\n",
    "# summarize scores\n",
    "print('No Skill: ROC AUC=%.3f' % (ns_auc_model1))\n",
    "print('Logistic: ROC AUC=%.3f' % (lr_auc_model1))\n",
    "# calculate roc curves\n",
    "ns_fpr_model1, ns_tpr_model1, _ = roc_curve(testy_model1, ns_probs_model1)\n",
    "lr_fpr_model1, lr_tpr_model1, _ = roc_curve(testy_model1, lr_probs_model1)\n",
    "# plot the roc curve for the model\n",
    "pyplot.plot(ns_fpr_model1, ns_tpr_model1, linestyle='--', label='No Skill')\n",
    "pyplot.plot(lr_fpr_model1, lr_tpr_model1, marker='.', label='Logistic')\n",
    "\n",
    "# axis labels\n",
    "pyplot.xlabel('False Positive Rate')\n",
    "pyplot.ylabel('True Positive Rate')\n",
    "# show the legend\n",
    "pyplot.legend()\n",
    "# show the plot\n",
    "pyplot.show()"
   ]
  },
  {
   "cell_type": "markdown",
   "metadata": {},
   "source": [
    "The AUC values printed above reflects the area under the ROC curve and provides a measure of how discriminant the model is between the two classes.  [In general, an AUC of 0.5 means no discrimination, 0.7 to 0.8 is considered acceptable, 0.8 to 0.9 is considered excellent, and more than 0.9 is considered outstanding](https://www.sciencedirect.com/science/article/pii/S1556086415306043#:~:text=AREA%20UNDER%20THE%20ROC%20CURVE,-AUC%20is%20an&text=In%20general%2C%20an%20AUC%20of,than%200.9%20is%20considered%20outstanding.).\n",
    "\n",
    "A value of 0.5 for AUC indicates that the ROC curve will fall on the diagonal (i.e., 45-degree line) and hence suggests that the diagnostic test has no discriminatory ability. \n",
    "\n",
    "Here we confirm again that we our model has learned something and performs better that a \"unskilled\" dummy classifier. Now, we can use the ROC values to obtain an optimal threshold value. One of the commonly used method for this is the [Youden index method](https://en.wikipedia.org/wiki/Youden%27s_J_statistic). In this method the optimal threshold values is the one that maximises the Youden function which is the difference between true positive rate and false positive rate over all possible threshold values.\n",
    "\n",
    "We wrote a small implementation of this method for this example:"
   ]
  },
  {
   "cell_type": "code",
   "execution_count": 15,
   "metadata": {},
   "outputs": [
    {
     "name": "stdout",
     "output_type": "stream",
     "text": [
      "0.8997\n"
     ]
    }
   ],
   "source": [
    "# function inpired by https://stackoverflow.com/questions/28719067/roc-curve-and-cut-off-point-python\n",
    "def find_optimal_threshold(target, predicted):\n",
    "    \"\"\" Find the optimal probability threshold for a classification model.\n",
    "    Parameters\n",
    "    ----------\n",
    "    target : Matrix with label data, where rows are observations\n",
    "\n",
    "    predicted : Matrix with predicted data, where rows are observations\n",
    "\n",
    "    Returns\n",
    "    -------     \n",
    "    a float, with optimal cutoff value\n",
    "        \n",
    "    \"\"\"\n",
    "    fpr, tpr, thresholds = roc_curve(target, predicted)\n",
    "    j_scores = tpr-fpr\n",
    "    j_ordered = sorted(zip(j_scores,thresholds))\n",
    "    return j_ordered[-1][1]\n",
    "\n",
    "threshold = find_optimal_threshold(df_labels['label'], df_labels['prediction'])\n",
    "print (round(threshold,4))"
   ]
  },
  {
   "cell_type": "markdown",
   "metadata": {},
   "source": [
    "This is quite far from the 0.5 value we orginially had! Let's see how our classification matrix does now using this new threshold."
   ]
  },
  {
   "cell_type": "markdown",
   "metadata": {},
   "source": [
    "**Note**: In this case we have decided that the optimal threshold value is the one that, which which maximises the True Positive rate and minimizes the False Positive rate. However, the definition of **optimal** really depends of the research question or the task we are to solve. An alternative would be to give more importance in accurately classifying our `SRH=0` class and try to maximise the True Negative Rate. "
   ]
  },
  {
   "cell_type": "code",
   "execution_count": 16,
   "metadata": {},
   "outputs": [
    {
     "name": "stdout",
     "output_type": "stream",
     "text": [
      "Accuracy: 0.5692821368948247\n",
      "\n",
      "Precision: 0.9761092150170648\n",
      "Recall: 0.5325884543761639\n",
      "\n",
      "Precision Minority Label: 0.17973856209150327\n",
      "Recall Minority Label: 0.8870967741935484\n"
     ]
    },
    {
     "name": "stderr",
     "output_type": "stream",
     "text": [
      "/anaconda3/envs/rds-course/lib/python3.9/site-packages/statsmodels/tsa/tsatools.py:117: FutureWarning: In a future version of pandas all arguments of concat except for the argument 'objs' will be keyword-only\n",
      "  x = pd.concat(x[::order], 1)\n"
     ]
    },
    {
     "data": {
      "image/png": "[encoded data removed]",
      "text/plain": [
       "<Figure size 360x360 with 2 Axes>"
      ]
     },
     "metadata": {},
     "output_type": "display_data"
    }
   ],
   "source": [
    "\n",
    "\n",
    "# performing predictions on the test datdaset\n",
    "yhat = result_model1.predict(sm.add_constant(testX_model1))\n",
    "pred_y_model1 =  [1 if x > threshold else 0 for x in yhat]\n",
    "\n",
    "\n",
    "# confusion matrix using sklearn\n",
    "cnf_matrix = metrics.confusion_matrix(testy_model1,pred_y_model1)\n",
    "    \n",
    "fig, ax = plt.subplots(1,1, figsize = (5,5))\n",
    "plt_cnf_mat(cnf_matrix, ax)\n",
    "\n",
    "\n",
    "print(\"Accuracy:\",metrics.accuracy_score(testy_model1, pred_y_model1))\n",
    "\n",
    "print ()\n",
    "print(\"Precision:\",metrics.precision_score(testy_model1, pred_y_model1))\n",
    "print(\"Recall:\",metrics.recall_score(testy_model1, pred_y_model1)) # what is recall? \n",
    "\n",
    "print ()\n",
    "testy_model1_minority = abs(testy_model1 - 1)\n",
    "pred_y_model1_minority = abs(np.array(pred_y_model1) -1)\n",
    "\n",
    "print(\"Precision Minority Label:\",metrics.precision_score(testy_model1_minority, pred_y_model1_minority))\n",
    "print(\"Recall Minority Label:\",metrics.recall_score(testy_model1_minority, pred_y_model1_minority)) "
   ]
  },
  {
   "cell_type": "markdown",
   "metadata": {},
   "source": [
    "Using this new threshold values improves significantly the recall for our minority label (`SRH==0`), but a large expense of the classification performance of the mayority label (`SRH==1`). However, a model that puts all instances in one class is not of good use for us, so this is an improvement. Furthermore, depending of our research question and the ultimate goal of the model we might want to maximise the recall of the minority label, even if this means increasing the amount of false negatives we observe. For example, it might be more important to identify people that are likely to report poor health than the ones with good health.\n",
    "\n",
    "In any case, we must remember that up to know we are using a very simple model, only using deprivation as a predictor and controling for age. Adding more predictors to the model can improve its performance. We'll explore that next."
   ]
  },
  {
   "cell_type": "markdown",
   "metadata": {},
   "source": [
    "## Model 2: Model 1 + Education, No. of Children and Accomodation Problems\n",
    "\n",
    "Let's increase the complexity to our model by adding more predictors representing socio-economic factors. In this case we'll add information about education (levels of education completed), number of children and number of problems with accommodation reported by the respondants. All these variables are ordered categorical variables that we assume to function as continous variables for this exercise.  "
   ]
  },
  {
   "cell_type": "code",
   "execution_count": 17,
   "metadata": {},
   "outputs": [
    {
     "name": "stdout",
     "output_type": "stream",
     "text": [
      "Optimization terminated successfully.\n",
      "         Current function value: 0.317076\n",
      "         Iterations 7\n"
     ]
    },
    {
     "name": "stderr",
     "output_type": "stream",
     "text": [
      "/anaconda3/envs/rds-course/lib/python3.9/site-packages/statsmodels/tsa/tsatools.py:117: FutureWarning: In a future version of pandas all arguments of concat except for the argument 'objs' will be keyword-only\n",
      "  x = pd.concat(x[::order], 1)\n"
     ]
    }
   ],
   "source": [
    "trainX_model2, testX_model2, trainy_model2, testy_model2 = train_test_split(df11_model[['AgeCategory','DeprIndex','ISCED','Children',\"AccomProblems\"]], df11_model.SRH_binary.values, test_size=0.3, random_state=2)\n",
    "\n",
    "trainX_const_model2 = sm.add_constant(trainX_model2) #add constant for intercept\n",
    "logit_model2 = sm.Logit(trainy_model2, trainX_const_model2) #Create model instance\n",
    "result_model2 = logit_model2.fit() #Fit model"
   ]
  },
  {
   "cell_type": "code",
   "execution_count": 18,
   "metadata": {},
   "outputs": [
    {
     "name": "stdout",
     "output_type": "stream",
     "text": [
      "                           Logit Regression Results                           \n",
      "==============================================================================\n",
      "Dep. Variable:                      y   No. Observations:                 1395\n",
      "Model:                          Logit   Df Residuals:                     1389\n",
      "Method:                           MLE   Df Model:                            5\n",
      "Date:                Wed, 13 Oct 2021   Pseudo R-squ.:                  0.1062\n",
      "Time:                        08:22:47   Log-Likelihood:                -442.32\n",
      "converged:                       True   LL-Null:                       -494.88\n",
      "Covariance Type:            nonrobust   LLR p-value:                 4.395e-21\n",
      "=================================================================================\n",
      "                    coef    std err          z      P>|z|      [0.025      0.975]\n",
      "---------------------------------------------------------------------------------\n",
      "const             3.2864      0.496      6.620      0.000       2.313       4.259\n",
      "AgeCategory      -0.3592      0.088     -4.092      0.000      -0.531      -0.187\n",
      "DeprIndex        -0.2929      0.046     -6.331      0.000      -0.384      -0.202\n",
      "ISCED             0.2397      0.070      3.432      0.001       0.103       0.377\n",
      "Children         -0.1164      0.067     -1.733      0.083      -0.248       0.015\n",
      "AccomProblems    -0.2513      0.092     -2.744      0.006      -0.431      -0.072\n",
      "=================================================================================\n"
     ]
    }
   ],
   "source": [
    "print (result_model2.summary())"
   ]
  },
  {
   "cell_type": "markdown",
   "metadata": {},
   "source": [
    "If we compare these fit results to the ones from **Model 1** we observe the following:\n",
    "\n",
    "- The coefficient for *DeprIndex* has become less negative. This could mean that the new variables that we have added to the model have taken some of the weight that the deprivation index and age category carried. This is not surprising given that some of these variables are expected to be linked to deprivation (e.g *AccomProblems* and *ISCED*).  \n",
    "\n",
    "\n",
    "- The coefficient for *AgeCategory* has also becomed less negative, but within the margin of its standard error. \n",
    "\n",
    "\n",
    "- Now, if we look at the parameters of *goodness-of-fit* we can observe that the fit has improved slighly, with a less negative log-likelihood and slighly larger pseudo R-squ. However, if we compare the increase of log-likelihood of adding these new variables with respect to the values of a null model, the improvement is modest (11 units of log likelihood of **Model 2** vs **Model 1** against 41 units for **Model 1** vs **Null model**). Take this into consideration, we could suspect that the new variables barely increase the discrimination power of our model. Lets take a look but evaluating it on the test set."
   ]
  },
  {
   "cell_type": "markdown",
   "metadata": {},
   "source": [
    "### Comparing predicted values \n",
    "\n",
    "Same as we did in the previous seccion, let's compare the predicted probability values of an event being classified as `SRH=1` or `SRH=0`. Let's do this but running the model on the test set and comparing the distributions."
   ]
  },
  {
   "cell_type": "code",
   "execution_count": 19,
   "metadata": {},
   "outputs": [
    {
     "data": {
      "text/plain": [
       "<matplotlib.legend.Legend at 0x7f9d403caf10>"
      ]
     },
     "execution_count": 19,
     "metadata": {},
     "output_type": "execute_result"
    },
    {
     "data": {
      "image/png": "[encoded data removed]",
      "text/plain": [
       "<Figure size 360x360 with 1 Axes>"
      ]
     },
     "metadata": {},
     "output_type": "display_data"
    }
   ],
   "source": [
    "# link the prediction to the label values\n",
    "yhat_model2 = result_model2.predict(sm.add_constant(testX_model2))\n",
    "df_labels = pd.DataFrame({'prediction': yhat_model2,\n",
    "     'label': testy_model2})\n",
    "\n",
    "fig, ax = plt.subplots(1,1, figsize = (5,5))\n",
    "df_labels[df_labels['label']==1]['prediction'].plot.kde(label='SRH == 1')\n",
    "df_labels[df_labels['label']==0]['prediction'].plot.kde(label='SRH == 0')\n",
    "pyplot.xlabel('Probability')\n",
    "pyplot.legend()"
   ]
  },
  {
   "cell_type": "markdown",
   "metadata": {},
   "source": [
    "The shape of the probability distributions do not look to different to what we observed in **Model 1** (maybe the tails for class `SHR=0` are longer) and again, we can observe that using the default threshold value around 0.5 will not be optimal in this case and a higher value should be chosen.\n",
    "\n",
    "**Note**: Probability values of lager than one in this case are a product of using kernel density estimation for our visualisation. We choose this method because we want to compare shapes of distributions, however we must have in mind that it can create the impresion that there is data in ranges where there is not."
   ]
  },
  {
   "cell_type": "code",
   "execution_count": 20,
   "metadata": {},
   "outputs": [
    {
     "name": "stdout",
     "output_type": "stream",
     "text": [
      "Probability threshold cut 0.8662\n",
      "\n"
     ]
    }
   ],
   "source": [
    "threshold_model2 = find_optimal_threshold(testy_model2, yhat_model2)\n",
    "print ('Probability threshold cut',round(threshold_model2,4))\n",
    "print()"
   ]
  },
  {
   "cell_type": "markdown",
   "metadata": {},
   "source": [
    "### ROC courves \n",
    "The probability threshold value is slighly lower than for model **Model 1**, but not significantly, given that the predicted distributions are quite similar.\n",
    "\n",
    "Now, let's take a look at our ROC courves and AUC values and compare them to **Model 1**."
   ]
  },
  {
   "cell_type": "code",
   "execution_count": 38,
   "metadata": {},
   "outputs": [
    {
     "name": "stdout",
     "output_type": "stream",
     "text": [
      "No Skill: ROC AUC=0.500\n",
      "Model 1 ROC AUC=0.766\n",
      "Model 2 ROC AUC=0.757\n"
     ]
    },
    {
     "data": {
      "image/png": "[encoded data removed]",
      "text/plain": [
       "<Figure size 576x396 with 1 Axes>"
      ]
     },
     "metadata": {},
     "output_type": "display_data"
    }
   ],
   "source": [
    "ns_probs_model2 = [0 for _ in range(len(testy_model2))]\n",
    "# keep probabilities for the positive outcome only\n",
    "# calculate scores\n",
    "ns_auc_model2  = roc_auc_score(testy_model2 , ns_probs_model2 )\n",
    "lr_auc_model2  = roc_auc_score(testy_model2 , yhat_model2 )\n",
    "# summarize scores\n",
    "print('No Skill: ROC AUC=%.3f' % (ns_auc_model2))\n",
    "print('Model 1 ROC AUC=%.3f' % (lr_auc_model1))\n",
    "print('Model 2 ROC AUC=%.3f' % (lr_auc_model2))\n",
    "# calculate roc curves\n",
    "ns_fpr_model2 , ns_tpr_model2 , _ = roc_curve(testy_model2, ns_probs_model2)\n",
    "lr_fpr_model2 , lr_tpr_model2 , _ = roc_curve(testy_model2, yhat_model2)\n",
    "# plot the roc curve for the model\n",
    "pyplot.plot(ns_fpr_model2, ns_tpr_model2, linestyle='--', label='No Skill')\n",
    "pyplot.plot(lr_fpr_model1, lr_tpr_model1, marker='.', label='Logistic Model 1 ')\n",
    "pyplot.plot(lr_fpr_model2, lr_tpr_model2, marker='.', label='Logistic Model 2')\n",
    "# axis labels\n",
    "pyplot.xlabel('False Positive Rate')\n",
    "pyplot.ylabel('True Positive Rate')\n",
    "# show the legend\n",
    "pyplot.legend()\n",
    "# show the plot\n",
    "pyplot.show()"
   ]
  },
  {
   "cell_type": "markdown",
   "metadata": {},
   "source": [
    "When comparing the above courves between the two models we can observe the following: \n",
    "\n",
    "- The ROC courve for **Model 2** has a higher granilarity of steps in which the True and False Positive rates are evaluated. This is because the sklearn function drops *suboptimal thresholds* which corresponds points on the ROC curve that will have the same TPR and FPR values that adjecent points. In the simpler model there might be configuration of predictor values to produce a high granularity courve.\n",
    "\n",
    "- Despite the point above, AUC values and overal ROC shapes are pretty much the same.\n",
    "\n",
    "This again confirms our theory that this new model doesn't not contain much more discriminative power than **Model 1**, with the deprivation index carrying a good bulk of the information that these new variables such as education level and accompation problems can add to the model."
   ]
  },
  {
   "cell_type": "markdown",
   "metadata": {},
   "source": [
    "### Classification matrix\n",
    "\n",
    "Finally, let's take a look at our classification performance, using the optimal threshold value of classification for this model."
   ]
  },
  {
   "cell_type": "code",
   "execution_count": 22,
   "metadata": {},
   "outputs": [
    {
     "name": "stdout",
     "output_type": "stream",
     "text": [
      "Accuracy: 0.7646076794657763\n",
      "\n",
      "Precision: 0.9541284403669725\n",
      "Recall: 0.7746741154562383\n",
      "\n",
      "Precision Minority Label: 0.25766871165644173\n",
      "Recall Minority Label: 0.6774193548387096\n"
     ]
    },
    {
     "data": {
      "image/png": "[encoded data removed]",
      "text/plain": [
       "<Figure size 360x360 with 2 Axes>"
      ]
     },
     "metadata": {},
     "output_type": "display_data"
    }
   ],
   "source": [
    "pred_y_model2 =  [1 if x > threshold_model2 else 0 for x in yhat_model2]\n",
    "\n",
    "cnf_matrix_model2  = metrics.confusion_matrix(testy_model2,pred_y_model2)\n",
    "\n",
    "fig, ax = plt.subplots(1,1, figsize = (5,5))\n",
    "plt_cnf_mat(cnf_matrix_model2 , ax)\n",
    "\n",
    "\n",
    "print(\"Accuracy:\",metrics.accuracy_score(testy_model2 , pred_y_model2 ))\n",
    "\n",
    "print()\n",
    "print(\"Precision:\",metrics.precision_score(testy_model2 , pred_y_model2 ))\n",
    "print(\"Recall:\",metrics.recall_score(testy_model2 , pred_y_model2 )) \n",
    "\n",
    "\n",
    "print ()\n",
    "testy_model2_minority = abs(testy_model2 - 1)\n",
    "pred_y_model2_minority = abs(np.array(pred_y_model2) -1)\n",
    "\n",
    "print(\"Precision Minority Label:\",metrics.precision_score(testy_model2_minority, pred_y_model2_minority))\n",
    "print(\"Recall Minority Label:\",metrics.recall_score(testy_model2_minority, pred_y_model2_minority)) "
   ]
  },
  {
   "cell_type": "markdown",
   "metadata": {},
   "source": [
    "Comparing to **Model 1**:\n",
    "    \n",
    "- Our general accuracy improved (from 0.57 to 0.76!).\n",
    "- The precission of our minority label increased (form 0.18 to 0.26), but the recall decreased (from 0.89 to 0.68).\n",
    "- Recall for our majority label increased. \n",
    "\n",
    "It can be difficult to track the changes of all of these metrics but with such imbalance dataset **Accuracy** is not a good indicator. Particularly, in this case we might want to minimize False Negatives. For these cases, we can use the **F1-score**, which is is the harmonic mean of Precision and Recall and gives a better measure of the incorrectly classified cases than the **Accuracy** metric.\n",
    "\n",
    "$F1-score = 2*\\frac{Precision*Recall}{Precision+ Recall}$"
   ]
  },
  {
   "cell_type": "code",
   "execution_count": 23,
   "metadata": {},
   "outputs": [
    {
     "name": "stdout",
     "output_type": "stream",
     "text": [
      "Model 1: 0.6891566265060242\n",
      "Model 2: 0.8550873586844809\n"
     ]
    }
   ],
   "source": [
    "print ('Model 1:', metrics.f1_score(testy_model1 , pred_y_model1))\n",
    "print ('Model 2:', metrics.f1_score(testy_model2 , pred_y_model2))"
   ]
  },
  {
   "cell_type": "markdown",
   "metadata": {},
   "source": [
    "Even if we didn't obseve much improvement in the separation of the predicted probability distribution or in the AUC values, the performance of our classification improves by the fact of using more predictors in our model that can allow for more complex descriptions of the data!\n",
    "\n",
    "TODO: See how to show in the ROC courve where is the threshold value. Maybe colour code it!"
   ]
  },
  {
   "cell_type": "markdown",
   "metadata": {},
   "source": [
    "## Model 3: Model 2 + Mental Wellbeing \n",
    "\n",
    "Now let's complicate the model even further, adding a variable related to mental wellbeing.\n",
    "\n",
    "The mental wellbeing index correspond to the the World Health Organisation Well-Being Index and is a short self-reported 6 point scale measure referring to how the respondent felt over the previous two week. The questionare use only positively phrased questions and in the scale higher values mean better self reported mental health.\n",
    "\n",
    "We decided to add this variable because they should be mostly ortogonal to the existing ones of **Model 2**, and a new dimension to the model that should improve its performance."
   ]
  },
  {
   "cell_type": "code",
   "execution_count": 24,
   "metadata": {},
   "outputs": [
    {
     "name": "stdout",
     "output_type": "stream",
     "text": [
      "Optimization terminated successfully.\n",
      "         Current function value: 0.275429\n",
      "         Iterations 7\n",
      "                           Logit Regression Results                           \n",
      "==============================================================================\n",
      "Dep. Variable:                      y   No. Observations:                 1395\n",
      "Model:                          Logit   Df Residuals:                     1388\n",
      "Method:                           MLE   Df Model:                            6\n",
      "Date:                Wed, 13 Oct 2021   Pseudo R-squ.:                  0.2236\n",
      "Time:                        08:22:48   Log-Likelihood:                -384.22\n",
      "converged:                       True   LL-Null:                       -494.88\n",
      "Covariance Type:            nonrobust   LLR p-value:                 5.453e-45\n",
      "========================================================================================\n",
      "                           coef    std err          z      P>|z|      [0.025      0.975]\n",
      "----------------------------------------------------------------------------------------\n",
      "const                    1.1605      0.569      2.041      0.041       0.046       2.275\n",
      "AgeCategory             -0.4115      0.098     -4.199      0.000      -0.604      -0.219\n",
      "DeprIndex               -0.1186      0.054     -2.208      0.027      -0.224      -0.013\n",
      "ISCED                    0.1916      0.073      2.615      0.009       0.048       0.335\n",
      "Children                -0.1158      0.072     -1.606      0.108      -0.257       0.026\n",
      "MentalWellbeingIndex     0.0451      0.005      9.966      0.000       0.036       0.054\n",
      "AccomProblems           -0.2536      0.103     -2.470      0.013      -0.455      -0.052\n",
      "========================================================================================\n"
     ]
    },
    {
     "name": "stderr",
     "output_type": "stream",
     "text": [
      "/anaconda3/envs/rds-course/lib/python3.9/site-packages/statsmodels/tsa/tsatools.py:117: FutureWarning: In a future version of pandas all arguments of concat except for the argument 'objs' will be keyword-only\n",
      "  x = pd.concat(x[::order], 1)\n"
     ]
    }
   ],
   "source": [
    "X = df11_model[['AgeCategory','DeprIndex','ISCED','Children',\"MentalWellbeingIndex\",\"AccomProblems\"]]\n",
    "\n",
    "y = df11_model.SRH_binary.values\n",
    "\n",
    "trainX_model3, testX_model3, trainy_model3, testy_model3 = train_test_split(X, y, test_size=0.3, random_state=2)\n",
    "trainX_const_model3 = sm.add_constant(trainX_model3) #add constant for intercept\n",
    "logit_model3 = sm.Logit(trainy_model3, trainX_const_model3) #Create model instance\n",
    "result_model3 = logit_model3.fit() #Fit model\n",
    "\n",
    "print (result_model3.summary())"
   ]
  },
  {
   "cell_type": "markdown",
   "metadata": {},
   "source": [
    "Let's repeate the excersice with did in the previous section and compare the fit results between **Model 2** and **Model 3**. We observe the following:\n",
    "\n",
    "- The coefficient for *DeprIndex* again has become significantly less negative. This could mean that the mental wellbeing variables is sharing the weight that the deprivation index carried (it is not a surprise to think that people living in deprivation are also likely to have poor mental health).\n",
    "\n",
    "\n",
    "- Now, if we look at the parameters of *goodness-of-fit* we can observe that the fit has improved significantly, with a less negative log-likelihood (58 units of log likelihood of **Model 3** vs **Model 2**) and larger pseudo R-squ (0.22 vs 0.11). In this case the improvement is comparable to the increase of log-likelihood of adding new variables in **Model 2** with respect to the values of a null model (58 units of log likelihood of **Model 3** vs **Model 2** against 52 units for **Model 2** vs **Null model**).\n",
    "\n",
    "Take this into consideration, we could suspect that including the mental health will increase the discrimination power of our model. Let's see if this is the case by evaluating it on the test set."
   ]
  },
  {
   "cell_type": "markdown",
   "metadata": {},
   "source": [
    "## Comparing predicted values\n",
    "Same as we did in the previous seccion, let's compare the predicted probability values of an event being classified as `SRH=1` or `SRH=0`. Let's do this but running the model on the test set and comparing the distributions.\n",
    "\n"
   ]
  },
  {
   "cell_type": "code",
   "execution_count": 25,
   "metadata": {},
   "outputs": [
    {
     "data": {
      "text/plain": [
       "<matplotlib.legend.Legend at 0x7f9d7055e0d0>"
      ]
     },
     "execution_count": 25,
     "metadata": {},
     "output_type": "execute_result"
    },
    {
     "data": {
      "image/png": "[encoded data removed]",
      "text/plain": [
       "<Figure size 360x360 with 1 Axes>"
      ]
     },
     "metadata": {},
     "output_type": "display_data"
    }
   ],
   "source": [
    "# link the prediction to the label values\n",
    "yhat_model3 = result_model3.predict(sm.add_constant(testX_model3))\n",
    "df_labels = pd.DataFrame({'prediction': yhat_model3,\n",
    "     'label': testy_model3})\n",
    "\n",
    "fig, ax = plt.subplots(1,1, figsize = (5,5))\n",
    "df_labels[df_labels['label']==1]['prediction'].plot.kde(label='SRH == 1')\n",
    "df_labels[df_labels['label']==0]['prediction'].plot.kde(label='SRH == 0')\n",
    "pyplot.xlabel('Probability')\n",
    "pyplot.legend()"
   ]
  },
  {
   "cell_type": "markdown",
   "metadata": {},
   "source": [
    "The shape of for our class `SHR=0` has indeed changed, with now even larger tails to low probability values whilst the shape of our possitive class has stayed more or less the same. This points in the same direction of our assumption that **Model 3** has now more discrimination power. \n",
    "\n",
    "Let's confirm this using the **ROC** courves."
   ]
  },
  {
   "cell_type": "code",
   "execution_count": 39,
   "metadata": {},
   "outputs": [
    {
     "name": "stdout",
     "output_type": "stream",
     "text": [
      "No Skill: ROC AUC=0.500\n",
      "Logistic Model 1: ROC AUC=0.766\n",
      "Logistic Model 2: ROC AUC=0.757\n",
      "Logistic Model 3: ROC AUC=0.807\n"
     ]
    },
    {
     "name": "stderr",
     "output_type": "stream",
     "text": [
      "/anaconda3/envs/rds-course/lib/python3.9/site-packages/statsmodels/tsa/tsatools.py:117: FutureWarning: In a future version of pandas all arguments of concat except for the argument 'objs' will be keyword-only\n",
      "  x = pd.concat(x[::order], 1)\n"
     ]
    },
    {
     "data": {
      "image/png": "[encoded data removed]",
      "text/plain": [
       "<Figure size 576x396 with 1 Axes>"
      ]
     },
     "metadata": {},
     "output_type": "display_data"
    }
   ],
   "source": [
    "lr_probs_model3 = result_model3.predict(sm.add_constant(testX_model3))\n",
    "\n",
    "ns_probs_model3 = [0 for _ in range(len(testy_model3))]\n",
    "# keep probabilities for the positive outcome only\n",
    "# calculate scores\n",
    "lr_auc_model3 = roc_auc_score(testy_model3, lr_probs_model3)\n",
    "# summarize scores\n",
    "print('No Skill: ROC AUC=%.3f' % (ns_auc_model2))\n",
    "print('Logistic Model 1: ROC AUC=%.3f' % (lr_auc_model1))\n",
    "print('Logistic Model 2: ROC AUC=%.3f' % (lr_auc_model2))\n",
    "print('Logistic Model 3: ROC AUC=%.3f' % (lr_auc_model3))\n",
    "# calculate roc curves\n",
    "ns_fpr_model3, ns_tpr_model3, _ = roc_curve(testy_model3, ns_probs_model3)\n",
    "lr_fpr_model3, lr_tpr_model3, _ = roc_curve(testy_model3, lr_probs_model3)\n",
    "# plot the roc curve for the model\n",
    "pyplot.plot(ns_fpr_model3, ns_tpr_model3, linestyle='--', label='No Skill')\n",
    "pyplot.plot(lr_fpr_model1, lr_tpr_model1, marker='.', label='Logistic Model 1')\n",
    "pyplot.plot(lr_fpr_model2, lr_tpr_model2, marker='.', label='Logistic Model 2')\n",
    "pyplot.plot(lr_fpr_model3, lr_tpr_model3, marker='.', label='Logistic Model 3')\n",
    "\n",
    "# axis labels\n",
    "pyplot.xlabel('False Positive Rate')\n",
    "pyplot.ylabel('True Positive Rate')\n",
    "# show the legend\n",
    "pyplot.legend()\n",
    "# show the plot\n",
    "pyplot.show()"
   ]
  },
  {
   "cell_type": "markdown",
   "metadata": {},
   "source": [
    "Indeed, **Model 3** appears to be the one with better discrimination power between all models from this section. Now, finally let's look at our classification performance"
   ]
  },
  {
   "cell_type": "code",
   "execution_count": 27,
   "metadata": {},
   "outputs": [
    {
     "name": "stdout",
     "output_type": "stream",
     "text": [
      "p(x) threshold value 0.8753\n",
      "Accuracy: 0.7913188647746243\n",
      "\n",
      "Precision: 0.9577777777777777\n",
      "Recall: 0.8026070763500931\n",
      "\n",
      "Precision Minority Label: 0.28859060402684567\n",
      "Recall Minority Label: 0.6935483870967742\n",
      "F-score Model 3: 0.8733535967578521\n"
     ]
    },
    {
     "data": {
      "image/png": "[encoded data removed]",
      "text/plain": [
       "<Figure size 360x360 with 2 Axes>"
      ]
     },
     "metadata": {},
     "output_type": "display_data"
    }
   ],
   "source": [
    "# performing predictions on the test datdaset\n",
    "threshold_model3 = find_optimal_threshold(testy_model3, yhat_model3)\n",
    "print ('p(x) threshold value', round(threshold_model3,4))\n",
    "\n",
    "pred_y_model3 =  [1 if x > threshold_model3 else 0 for x in yhat_model3]\n",
    "\n",
    "\n",
    "cnf_matrix_model3  = metrics.confusion_matrix(testy_model2,pred_y_model3)\n",
    "\n",
    "fig, ax = plt.subplots(1,1, figsize = (5,5))\n",
    "plt_cnf_mat(cnf_matrix_model3 , ax)\n",
    "\n",
    "\n",
    "print(\"Accuracy:\",metrics.accuracy_score(testy_model3 , pred_y_model3 ))\n",
    "\n",
    "print()\n",
    "print(\"Precision:\",metrics.precision_score(testy_model3 , pred_y_model3 ))\n",
    "print(\"Recall:\",metrics.recall_score(testy_model3 , pred_y_model3 )) \n",
    "\n",
    "\n",
    "print ()\n",
    "testy_model3_minority = abs(testy_model3 - 1)\n",
    "pred_y_model3_minority = abs(np.array(pred_y_model3) -1)\n",
    "\n",
    "print(\"Precision Minority Label:\",metrics.precision_score(testy_model3_minority, pred_y_model3_minority))\n",
    "print(\"Recall Minority Label:\",metrics.recall_score(testy_model3_minority, pred_y_model3_minority)) \n",
    "\n",
    "print ('F-score Model 3:', metrics.f1_score(testy_model3 , pred_y_model3))"
   ]
  },
  {
   "cell_type": "markdown",
   "metadata": {},
   "source": [
    "All of our metrics have improved with respect to **Model 2**!"
   ]
  },
  {
   "cell_type": "markdown",
   "metadata": {},
   "source": [
    "### Going back to our research question\n",
    "\n",
    "Up to now we have been exploring different models and attempting to contrast and compare them using different metrics following a typical machine learning approach. However, we need to sit back and think about our research question what exactly we are trying to measure:\n",
    "\n",
    "> We want to investigate the contribution of material, occupational, and psychosocial factors on the self reported health (SRH) across different European countries. We will use SRH information collected by the Wave 2 and 3 of the EQLTS survey, aware that they offer only a partial representation of European populations and that SRH is per-se a highly subjective indicator, difficult to compare across countries. \n",
    "\n",
    "Our goal here is not necesarily accurately classify between the two classes but to measure the level of contribution that these predictors have in our model (hence improving the discrimination power of the model and therefore contributing to accurately classifying between the classes). Some of the metrics we have been using in this section (log-likelihood and AUC) can definetly help us measure this contributions.\n",
    "\n",
    "For example, in **Model 3** just adding the mental wellbeing predictor into the model significantly improved the discrimination power of the model for all of our different metrics, therefore we could hint that the self reported mental wellbeing has a sizable contribution on the self reported health for the UK. \n",
    "\n",
    "**Note**:\n",
    "- TODO: Discuss that we still can not say how significant it is, and that we would have to compare the size of the improvement on e.g. the log likelihood an improvement doe to change (therefore a p-value). This can lead is to talk about how it was done in the aldabe paper.\n",
    "\n",
    "- TODO: Discuss what the Aldabe paper does."
   ]
  },
  {
   "cell_type": "markdown",
   "metadata": {},
   "source": [
    "### Model 4: A simpler model with equivalent discrimination power\n",
    "\n",
    "During this section we have slowly buit the complexity of the model in order to improve the discrimination power of it. However, we don't necesarily always want a very complex model, given that this can lead to problems with model explanability and **overfitting**. Furthermore, in this case we can to assess the contribution of individual SE factors into the self reported health, and we don't want to use variables that are not completly ortogonal to eachother. However, we don't want to loose model performance by reducing the amount of information we feed into it. \n",
    "\n",
    "Everything we have learn about our data by slowily increasing the complexity of the models hint us that is possible to build a simpler model that is equivalent in discrimination power. Let's see what happens if we remove the variables from number of children and accomodation problems that we know are related to deprivation and the age."
   ]
  },
  {
   "cell_type": "code",
   "execution_count": null,
   "metadata": {},
   "outputs": [],
   "source": [
    "X = df11_model[['AgeCategory','DeprIndex','ISCED',\"MentalWellbeingIndex\"]]\n",
    "\n",
    "y = df11_model.SRH_binary.values\n",
    "\n",
    "trainX_model4, testX_model4, trainy_model4, testy_model4 = train_test_split(X, y, test_size=0.3, random_state=2)\n",
    "trainX_const_model4 = sm.add_constant(trainX_model4) #add constant for intercept\n",
    "logit_model4 = sm.Logit(trainy_model4, trainX_const_model4) #Create model instance\n",
    "result_model4 = logit_model4.fit() #Fit model\n",
    "\n",
    "print (result_model4.summary())"
   ]
  },
  {
   "cell_type": "markdown",
   "metadata": {},
   "source": [
    "Only 4 units of **log-likehood** are lost by droping this variables. And the **Pseudo R-squ.** is equivalent."
   ]
  },
  {
   "cell_type": "code",
   "execution_count": null,
   "metadata": {},
   "outputs": [],
   "source": [
    "lr_probs_model4 = result_model4.predict(sm.add_constant(testX_model4))\n",
    "\n",
    "ns_probs_model4 = [0 for _ in range(len(testy_model3))]\n",
    "# keep probabilities for the positive outcome only\n",
    "# calculate scores\n",
    "lr_auc_model4 = roc_auc_score(testy_model3, lr_probs_model3)\n",
    "# summarize scores\n",
    "print('No Skill: ROC AUC=%.3f' % (ns_auc_model2))\n",
    "print('Logistic Model 3: ROC AUC=%.3f' % (lr_auc_model3))\n",
    "print('Logistic Model 4: ROC AUC=%.3f' % (lr_auc_model3))\n",
    "\n",
    "# calculate roc curves\n",
    "ns_fpr_model4, ns_tpr_model4, _ = roc_curve(testy_model4, ns_probs_model4)\n",
    "lr_fpr_model4, lr_tpr_model4, _ = roc_curve(testy_model4, lr_probs_model4)\n",
    "# plot the roc curve for the model\n",
    "pyplot.plot(ns_fpr_model3, ns_tpr_model3, linestyle='--', label='No Skill')\n",
    "pyplot.plot(lr_fpr_model4, lr_tpr_model4, marker='.', label='Logistic Model 3')\n",
    "pyplot.plot(lr_fpr_model3, lr_tpr_model3, marker='.', label='Logistic Model 4')\n",
    "# axis labels\n",
    "pyplot.xlabel('False Positive Rate')\n",
    "pyplot.ylabel('True Positive Rate')\n",
    "# show the legend\n",
    "pyplot.legend()\n",
    "# show the plot\n",
    "pyplot.show()"
   ]
  },
  {
   "cell_type": "markdown",
   "metadata": {},
   "source": [
    "Our **ROC** courves are equivalent!"
   ]
  },
  {
   "cell_type": "markdown",
   "metadata": {},
   "source": [
    "TODO Conclusion:\n",
    "    \n",
    "- Summarise what we have learned.\n",
    "    "
   ]
  },
  {
   "cell_type": "code",
   "execution_count": null,
   "metadata": {},
   "outputs": [],
   "source": []
  }
 ],
 "metadata": {
  "kernelspec": {
   "display_name": "rds-course",
   "language": "python",
   "name": "rds-course"
  },
  "language_info": {
   "codemirror_mode": {
    "name": "ipython",
    "version": 3
   },
   "file_extension": ".py",
   "mimetype": "text/x-python",
   "name": "python",
   "nbconvert_exporter": "python",
   "pygments_lexer": "ipython3",
   "version": "3.9.5"
  }
 },
 "nbformat": 4,
 "nbformat_minor": 1
}
