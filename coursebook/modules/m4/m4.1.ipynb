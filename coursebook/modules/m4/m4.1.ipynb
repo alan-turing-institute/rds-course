{
 "cells": [
  {
   "cell_type": "markdown",
   "id": "382bf695",
   "metadata": {},
   "source": [
    "# The What and Why of Statistical Modelling\n",
    "\n",
    "Models are used in all walks of life to facilitate learning. A product designer may build a mock-up of the intended product to learn how the real-life counterpart may work. Similarly, architects use blueprints to learn and communicate something about a building.\n",
    "\n",
    "These models are abstractions of the real-world that capture key characteristics of the thing they imitate. \n",
    "\n",
    "No model is perfect because the real-world is endlessly complex. Rather, models are approximations of some phenonemon. Models are useful when they allow us to learn something about the subject.   \n",
    "\n",
    "_Statistical_ modelling is conceptually similar. Simply put, a statistical model is a mathematical abstraction. They are infinitely flexible. Before embarking on a modelling problem it is important to ask _why_. Broadly, modelling efforts are of two types (see below box).\n",
    "\n",
    "```{important}\n",
    "**Reasons for Modelling**\n",
    "\n",
    "**Modelling for Prediction**. The model's performance is more important than understanding the mechanism of data generation. Here, robust prediction of an outcome or reliable discrimination between different types of data is more important than explaining the underlying phenomenon. These data science tasks crop up often in industry, for example it may be more important to accurately predict movie preferences from a set of input variables than understand _how_ your input variables translate to movie preferences. \n",
    "\n",
    "**Modelling for Explanation**. A premium is placed on understanding the mechanism of data generation. A highly complex model that achieves excellent performance but does not allow us to better understand the underlying phenomenon from which the data was generated is undesirable. There is a trade-off between model complexity and scientific value. \n",
    "```\n",
    "\n",
    "In this course we will focus on **modelling for explanation**, since this type of modelling in more common in scientific research. We do not pretend to be a module that covers the wide variety machine learning techniques available to apply to your data science problem. \n",
    "\n",
    "From now on, the statistical models we are concerned with attempt to capture key characteristics of **data generating processes** so that we can learn about the associated **phenomenon**. To understand these models first we need to think about data for a moment.\n",
    "\n",
    "## What is data? \n",
    "\n",
    "Data are a messy peek into an underlying phenomenon. What we really want to learn about is a **phenomenon**, for example what contributes to good health. However, the real-world is complicated and phenomena are never known precisely. Many natural phenomena have intrinsic variability, or _randomness_. For example, human bodies are massively variable between individuals, so it is reasonable to expect that their health, and also the myriad factors that contribute to it, will be different. \n",
    "\n",
    "Phenomena are only ever accessed through a process of **measurement**. Measurement brings with it two barriers to the underlying phenomena. \n",
    "- **Sampling Bias**. We can never observe the whole population. This means that we only ever _sample_ some of the distribution. The sample will fail to capture all the characteristics of the population. For example, an alien that picks a couple of individuals from the human timeline might choose a couple of vikings and therefore conclude that all humans have beards. This is called **sampling bias**.\n",
    "- **Measurement Error**. The measuring device _itself_ could be inaccurate or imprecise (we discussed the ethical implications of this in Module 1). In our example the measuring device is self-report, which may have its own variability - the same person may respond differently on different days, and some people may be over or under confident.\n",
    "\n",
    "Measurement, or observation, provides a set of data. Data are _related_ to the underlying phenomenon, but have been contorted by sampling bias (intrinsic variability will mean that each sample will be different) and measurement uncertainty. \n",
    "\n",
    "Together, the phenomenon and method of observation make up the **data generating process**. \n",
    "\n",
    "_How_ a data generating process varies across a population is called the **distribution** (more on this later). Understanding how a data generating process is distributed across members of the population of interest is a key goal of statistical modeling.\n",
    "\n"
   ]
  },
  {
   "cell_type": "code",
   "execution_count": 1,
   "id": "63110536",
   "metadata": {
    "tags": [
     "hide-input"
    ]
   },
   "outputs": [
    {
     "data": {
      "image/svg+xml": [
       "<?xml version=\"1.0\" encoding=\"UTF-8\" standalone=\"no\"?>\n",
       "<!DOCTYPE svg PUBLIC \"-//W3C//DTD SVG 1.1//EN\"\n",
       " \"http://www.w3.org/Graphics/SVG/1.1/DTD/svg11.dtd\">\n",
       "<!-- Generated by graphviz version 2.49.3 (20211023.0002)\n",
       " -->\n",
       "<!-- Pages: 1 -->\n",
       "<svg width=\"432pt\" height=\"128pt\"\n",
       " viewBox=\"0.00 0.00 432.00 127.79\" xmlns=\"http://www.w3.org/2000/svg\" xmlns:xlink=\"http://www.w3.org/1999/xlink\">\n",
       "<g id=\"graph0\" class=\"graph\" transform=\"scale(0.69 0.69) rotate(0) translate(4 182.49)\">\n",
       "<polygon fill=\"white\" stroke=\"transparent\" points=\"-4,4 -4,-182.49 626.44,-182.49 626.44,4 -4,4\"/>\n",
       "<!-- Phenomenon -->\n",
       "<g id=\"node1\" class=\"node\">\n",
       "<title>Phenomenon</title>\n",
       "<ellipse fill=\"none\" stroke=\"black\" cx=\"62.49\" cy=\"-116\" rx=\"58.49\" ry=\"58.49\"/>\n",
       "<ellipse fill=\"none\" stroke=\"black\" cx=\"62.49\" cy=\"-116\" rx=\"62.49\" ry=\"62.49\"/>\n",
       "<text text-anchor=\"middle\" x=\"62.49\" y=\"-112.3\" font-family=\"Times,serif\" font-size=\"14.00\">Phenomenon</text>\n",
       "</g>\n",
       "<!-- Data Generating Process -->\n",
       "<g id=\"node4\" class=\"node\">\n",
       "<title>Data Generating Process</title>\n",
       "<ellipse fill=\"none\" stroke=\"black\" cx=\"261.73\" cy=\"-67\" rx=\"100.98\" ry=\"18\"/>\n",
       "<text text-anchor=\"middle\" x=\"261.73\" y=\"-63.3\" font-family=\"Times,serif\" font-size=\"14.00\">Data Generating Process</text>\n",
       "</g>\n",
       "<!-- Phenomenon&#45;&gt;Data Generating Process -->\n",
       "<g id=\"edge1\" class=\"edge\">\n",
       "<title>Phenomenon&#45;&gt;Data Generating Process</title>\n",
       "<path fill=\"none\" stroke=\"black\" d=\"M123.21,-101.17C145.03,-95.74 169.89,-89.57 192.41,-83.97\"/>\n",
       "<polygon fill=\"black\" stroke=\"black\" points=\"193.38,-87.34 202.24,-81.53 191.69,-80.55 193.38,-87.34\"/>\n",
       "</g>\n",
       "<!-- Measurement -->\n",
       "<g id=\"node2\" class=\"node\">\n",
       "<title>Measurement</title>\n",
       "<ellipse fill=\"none\" stroke=\"black\" cx=\"62.49\" cy=\"-18\" rx=\"60.39\" ry=\"18\"/>\n",
       "<text text-anchor=\"middle\" x=\"62.49\" y=\"-14.3\" font-family=\"Times,serif\" font-size=\"14.00\">Measurement</text>\n",
       "</g>\n",
       "<!-- Measurement&#45;&gt;Data Generating Process -->\n",
       "<g id=\"edge2\" class=\"edge\">\n",
       "<title>Measurement&#45;&gt;Data Generating Process</title>\n",
       "<path fill=\"none\" stroke=\"black\" d=\"M109.74,-29.49C134.28,-35.59 164.91,-43.2 192.17,-49.97\"/>\n",
       "<polygon fill=\"black\" stroke=\"black\" points=\"191.49,-53.4 202.04,-52.42 193.17,-46.61 191.49,-53.4\"/>\n",
       "</g>\n",
       "<!-- Sample -->\n",
       "<g id=\"node3\" class=\"node\">\n",
       "<title>Sample</title>\n",
       "<ellipse fill=\"none\" stroke=\"black\" cx=\"436.17\" cy=\"-67\" rx=\"37.89\" ry=\"18\"/>\n",
       "<text text-anchor=\"middle\" x=\"436.17\" y=\"-63.3\" font-family=\"Times,serif\" font-size=\"14.00\">Sample</text>\n",
       "</g>\n",
       "<!-- Data -->\n",
       "<g id=\"node5\" class=\"node\">\n",
       "<title>Data</title>\n",
       "<polygon fill=\"none\" stroke=\"black\" points=\"622.23,-79.65 579.39,-79.65 566.15,-120.57 552.91,-79.65 510.08,-79.65 544.73,-54.35 531.5,-13.43 566.15,-38.72 600.81,-13.43 587.57,-54.35 622.23,-79.65\"/>\n",
       "<text text-anchor=\"middle\" x=\"566.15\" y=\"-63.3\" font-family=\"Times,serif\" font-size=\"14.00\">Data</text>\n",
       "</g>\n",
       "<!-- Sample&#45;&gt;Data -->\n",
       "<g id=\"edge4\" class=\"edge\">\n",
       "<title>Sample&#45;&gt;Data</title>\n",
       "<path fill=\"none\" stroke=\"black\" d=\"M474.19,-67C487.49,-67 502.71,-67 516.83,-67\"/>\n",
       "<polygon fill=\"black\" stroke=\"black\" points=\"516.88,-70.5 526.88,-67 516.88,-63.5 516.88,-70.5\"/>\n",
       "</g>\n",
       "<!-- Data Generating Process&#45;&gt;Sample -->\n",
       "<g id=\"edge3\" class=\"edge\">\n",
       "<title>Data Generating Process&#45;&gt;Sample</title>\n",
       "<path fill=\"none\" stroke=\"black\" d=\"M362.54,-67C371.34,-67 379.95,-67 387.99,-67\"/>\n",
       "<polygon fill=\"black\" stroke=\"black\" points=\"388.19,-70.5 398.19,-67 388.19,-63.5 388.19,-70.5\"/>\n",
       "</g>\n",
       "</g>\n",
       "</svg>\n"
      ],
      "text/plain": [
       "<graphviz.dot.Digraph at 0x7ffbf86cf610>"
      ]
     },
     "execution_count": 1,
     "metadata": {},
     "output_type": "execute_result"
    }
   ],
   "source": [
    "import graphviz\n",
    "g = graphviz.Digraph()\n",
    "\n",
    "g.attr(rankdir='LR', size='6,5')\n",
    "g.attr('node', shape='doublecircle')\n",
    "g.node('Phenomenon')\n",
    "\n",
    "g.attr('node', shape='oval')\n",
    "g.node('Measurement')\n",
    "g.node('Sample')\n",
    "g.node('Data Generating Process')\n",
    "\n",
    "\n",
    "g.edge('Phenomenon','Data Generating Process')\n",
    "g.edge('Measurement','Data Generating Process')\n",
    "\n",
    "g.edge('Data Generating Process','Sample')\n",
    "g.edge('Sample','Data')\n",
    "\n",
    "g.node('Data', shape='star')\n",
    "\n",
    "g"
   ]
  },
  {
   "cell_type": "markdown",
   "id": "d8b8b409",
   "metadata": {},
   "source": [
    "\n",
    "\n",
    "## What is Probability? \n",
    "\n",
    "In the previous section we talked about variability in a phenomenon producing different observations each time. We can think about variability in terms of _uncertainty_. If a process is highly variable then we will be less certain of the exact value it produces each time.\n",
    "\n",
    "**Probability** is a branch of mathematics that allows us to reason about uncertainty. \n",
    "\n",
    "Probability formalises guessing. Let us consider trying to guess the ice cream flavour that customers pick. There are two flavours: `chocolate`, `strawberry`. We can reason about how likely each flavour is to be chosen, $P(x)$ by adopting two golden rules.\n",
    "- $P(x) \\geq 0$. That is, the least probable you can get is zero chance of an event ever happening.\n",
    "- $\\sum^{N}_{i=1} P(x_i) = 1$. That is, all the probabilities should add up to 1. This means that if one event happens all the time without fail it happens 100% of the time ($P(x)=1$). \n",
    "\n",
    "```{tip}\n",
    "There are two ways of thinking about what $P(x)$ means. \n",
    "- We can treat $P(x)$ as a **frequency**. If $P(chocolate) = .7$ means that if we were to serve millions of customers they would choose chocolate 70% of the time.\n",
    "- We can treat $P(x)$ as a **belief**. In this framework $P(chocolate)$ indicates our degree of confidence that someone will choose chocolate.\n",
    "\n",
    "The first type of probabilistic framework is called **Frequentist** Probability. The second is called the **Bayesian** approach. These two frameworks support different types of inferences. Most of the modelling concepts covered in this module appear in both frameworks, but it is important to understand where they differ. We will highlight when this is the case.\n",
    "```\n",
    "\n",
    "### Conditional Probability \n",
    "\n",
    "In most cases when we think about probability of some events happening we assume that other events that have _already happened_. In our ice cream example we do not concern ourselves with the probability that there is a shop selling ice cream, or the probability that a customer would walk in to it. We assume that these have already happened and then make sure the _event space_ we are interested in sum to one so that we can reason about the uncertainty.\n",
    "\n",
    "This is called **Conditional Probability**. $P(x)$ is the probability within a bounded event space, conditioned on some stuff that is assumed to have happened.\n",
    "\n",
    "$$P(X|Y) = \\frac{P(X \\cap Y)}{P(Y)}$$\n",
    "\n",
    "Conditional probability essentially normalises the event space within the mini universe under consideration, as visualised in [this beautiful animation by Victor Powell](https://setosa.io/conditional/).\n",
    "\n",
    "<!-- This should be tip box. And maybe it goes in another place -->\n",
    "Conditional probability is everywhere in modelling. In a lot of cases modelling boils down to two things:\n",
    "- The probability of the data, given the parameters of the distribution: $P(x | \\theta)$. This is called the **likelihood**. Modelling is often fitted by assuming some starting values for the parameters, seeing how likely the data is under those parameters, then trying to find the parameters that give highest likeihood. This is called **Maximum Likelihood Estimation** (more on this in the next section).\n",
    "- The probability of the parameters, given the data: $P(\\theta | x)$. Modelling boils down inferring what the parameter values are for a given set of data. $P(\\theta | x)$ is often called the _posterior_.\n",
    "\n",
    "## Parameters and Distributions\n",
    "    \n",
    "A _distribution_ is how the probability of a variable is spread across the event space. Distributions are used as useful approximations of data generating processes.\n",
    "\n",
    "In our simple example above where $P(chocolate)=0.7$ the distribution is $[0.7, 0.3]$. There are two events in the probability space, they are both assigned a non-zero probability that adds up to one.\n",
    "\n",
    "Here, $P(x)$ is a _parameter_. Parameters govern probability distributions. A parameter is a mathematical value that, if altered, changes the expected behaviour of a process. \n",
    "\n",
    "If we change $P(chocolate)$ to 0.2, we expect the number of customers choosing chocolate to decrease, and the number of customers not choosing chocolate to increase.\n",
    "\n",
    "$P(x)$ is the key parameter in the **Bernoulli** distribution, which is the distribution of a **random variable** that can only take two values, $\\{0,1\\}$. We can **sample** individual observations from this distribution to give us a set of data\n",
    "\n",
    "For example, let us assigned $Chocolate = 1; Strawberry=0$. If we sample 15 customers from a bernoulli distribution we get a string of customers that choose mostly chocolate, but almost some strawberry choosers.\n"
   ]
  },
  {
   "cell_type": "code",
   "execution_count": 2,
   "id": "1bce6bcf",
   "metadata": {},
   "outputs": [
    {
     "name": "stdout",
     "output_type": "stream",
     "text": [
      "[1 1 0 1 0 1 1 1 0 1 1 1 1 1 1]\n",
      "0.69787\n"
     ]
    }
   ],
   "source": [
    "from scipy.stats import bernoulli\n",
    "import numpy as np\n",
    "\n",
    "data = bernoulli.rvs(p=.7,size=15)\n",
    "print(data)\n",
    "print(np.mean(bernoulli.rvs(p=.7,size=100000)))\n"
   ]
  },
  {
   "cell_type": "markdown",
   "id": "d07f0d51",
   "metadata": {},
   "source": [
    "With a big enough sample the amount of people choosing chocolate will always rest at our chosen parameter.\n",
    "\n",
    "For different values of $P(chocolate)$, the below plot shows some simulations of the proportion of customers choosing chocolate as the number of customers increase.\n",
    "\n",
    "With the bernoulli distribution that proportion can be directly computed by calculating the mean.\n",
    "\n",
    "Since it is _probabilistic_, these simulations will vary each time."
   ]
  },
  {
   "cell_type": "code",
   "execution_count": 3,
   "id": "633570f9",
   "metadata": {},
   "outputs": [
    {
     "data": {
      "image/png": "[encoded data removed]",
      "text/plain": [
       "<Figure size 720x720 with 3 Axes>"
      ]
     },
     "metadata": {
      "needs_background": "light"
     },
     "output_type": "display_data"
    }
   ],
   "source": [
    "from scipy.stats import bernoulli\n",
    "import seaborn as sns\n",
    "import matplotlib.pyplot as plt\n",
    "import numpy as np\n",
    "\n",
    "pchoc = [.2, .4, .6]\n",
    "sample_sizes = np.arange(1, 50)\n",
    "\n",
    "fig, axes = plt.subplots(len(pchoc),1, figsize=(10,10), sharex=True, sharey=True)\n",
    "\n",
    "for (i, p) in enumerate(pchoc):\n",
    "    props = [np.mean(bernoulli.rvs(p, size=s)) for s in sample_sizes]\n",
    "    axes[i].plot(sample_sizes, props, 'o--')\n",
    "    axes[i].axhline(p)\n",
    "\n",
    "axes[-1].set_xlabel('Number of Customers')\n",
    "for ax in axes: ax.set_ylabel('P(Chocolate)')\n",
    "\n",
    "plt.show()"
   ]
  },
  {
   "cell_type": "markdown",
   "id": "94f9c099",
   "metadata": {},
   "source": [
    "## Sampling bias and the Central Limit Theorem\n",
    "\n",
    "You might notice in the above plots that low sample numbers the sample mean varies more widely. This is **sampling bias**. Any parameter you calculate from data will vary from sample to sample. The sample-to-sample variability of a parameter is its **sampling distribution**. \n",
    "\n",
    "Though notice that even at larger samples the sample mean varies around the true probability (which is never known in practice).\n",
    "\n",
    "In fact, as statisticians we know the nature of this variation. There is a rather remarkable statistical property of sampling called the **Central Limit Theorem**, which states when sample sizes are large enough the _sampling distribution of the mean_ will be normally distributed (a bell curve). Crucially this holds even if the data is not normally distributed (as in our case)."
   ]
  },
  {
   "cell_type": "code",
   "execution_count": null,
   "id": "2ce3e7d2",
   "metadata": {},
   "outputs": [],
   "source": [
    "p=.5\n",
    "sample_sizes = [5, 20, 50, 100]\n",
    "n_samples = 100000\n",
    "\n",
    "\n",
    "fig, axes = plt.subplots(1,len(sample_sizes), figsize=(16,5))\n",
    "\n",
    "for (i,s) in enumerate(sample_sizes):\n",
    "    sampling_dist = [np.mean(bernoulli.rvs(p, size=s)) for _ in range(n_samples)]\n",
    "    sns.histplot(sampling_dist, ax=axes[i])\n",
    "    axes[i].set_title(f'Sample Size={s}')\n",
    "\n",
    "\n",
    "axes[1].set_ylabel('')\n",
    "axes[2].set_ylabel('')\n",
    "axes[3].set_ylabel('')\n",
    "plt.show()"
   ]
  },
  {
   "cell_type": "markdown",
   "id": "a17db510",
   "metadata": {},
   "source": [
    "<!-- tip box -->\n",
    "\n",
    "The intuition behind the Central Limit Theorem is two fold:\n",
    "- The more ways a thing can happen, the more likely it is to happen.\n",
    "- There are more ways of making the average than any other number.\n",
    "\n",
    "For example, take the leftmost plot. Here we have flipped a coin five times. There are 10 ways of getting 60% heads, and 10 ways of getting 40% heads, but only 1 way of getting all heads. \n",
    "\n",
    "The numbers of ways something can happen is mathematically encapsulated in probability:\n"
   ]
  },
  {
   "cell_type": "code",
   "execution_count": null,
   "id": "8fe828d4",
   "metadata": {},
   "outputs": [],
   "source": [
    "# within margin with the above.\n",
    "\n",
    "from scipy.special import binom as bcoeff\n",
    "from scipy.stats import binom\n",
    "\n",
    "p = .5\n",
    "n = 100\n",
    "fig, axes = plt.subplots(1,2, figsize=(10,5))\n",
    "ways = [bcoeff(n,k) for k in np.arange(1,n+1)]\n",
    "prob = [binom.pmf(k, n, p) for k in np.arange(1, n+1)]\n",
    "noutcomes = [k for k in np.arange(1,n+1)]\n",
    "\n",
    "axes[0].plot(noutcomes,ways)\n",
    "axes[0].set_ylabel('Ways')\n",
    "axes[0].set_xlabel('Count (y = 1)')\n",
    "axes[1].plot(noutcomes,prob)\n",
    "axes[1].set_ylabel('Probability')\n",
    "axes[1].set_xlabel('Count (y = 1)')\n",
    "\n",
    "\n",
    "plt.show()"
   ]
  },
  {
   "cell_type": "markdown",
   "id": "1c95c752",
   "metadata": {},
   "source": [
    "## Statistical Learning\n",
    "\n",
    "What we have been doing so far is generating data by sampling from a distribution with parameters. We have been using a **generative model**. \n",
    "\n",
    "```{admonition} Generative Models\n",
    "A generative model describes how a dataset is generated, in terms of probability distributions. By sampling from this model, we are able to generate new data. Parameters are the control dials on a generative model. \n",
    "```\n",
    "\n",
    "In most real situations, **neither the generative model nor the parameters are known**, and we will need to estimate them using the data we have collected. Statistical modeling works from the data upwards to figure out a model that might plausibly explain the data. \n",
    "\n",
    "Once we have learned a suitable model for our data, we can make inferences about the underlying phenomena using our knowledge of statistical sampling, and predictions about new data.\n",
    "\n",
    "Collecting new data will allow us to test our predictions and revise our model, and the scientific cycle continues.\n"
   ]
  },
  {
   "cell_type": "code",
   "execution_count": null,
   "id": "1bced86c",
   "metadata": {
    "tags": [
     "hide-input"
    ]
   },
   "outputs": [],
   "source": [
    "g = graphviz.Digraph()\n",
    "\n",
    "g.attr(rankdir='LR', size='6,5')\n",
    "g.node('Data', shape='star')\n",
    "g.node('Generative Model', shape='oval')\n",
    "g.node('Inference',shape='oval')\n",
    "g.node('Prediction', shape='oval')\n",
    "\n",
    "\n",
    "\n",
    "g.edge('Data','Generative Model')\n",
    "g.edge('Generative Model','Inference')\n",
    "g.edge('Generative Model','Prediction')\n",
    "\n",
    "g"
   ]
  },
  {
   "cell_type": "markdown",
   "id": "35916325",
   "metadata": {},
   "source": [
    "In this section we have learned the theoretical building blocks of modelling. In the next section we will peek inside a model and learn how a model represents data."
   ]
  },
  {
   "cell_type": "markdown",
   "id": "f1f6b424",
   "metadata": {},
   "source": [
    "### References and Further Reading\n",
    "\n",
    "**Probability**\n",
    "- [Basic probability visualisations](https://seeing-theory.brown.edu/basic-probability/index.html)\n",
    "- [Conditional Probability animation](https://seeing-theory.brown.edu/basic-probability/index.html)\n",
    "- [Confidence Intervals Animation](https://seeing-theory.brown.edu/basic-probability/index.html)\n",
    "- [Poldrack Statistical Thinking Probability Chapter](https://web.stanford.edu/group/poldracklab/statsthinking21/probability.html#what-do-probabilities-mean)\n",
    "\n",
    "\n",
    "**Modelling**:\n",
    "\n",
    "- [Betancourt blog on Modelling and Inference](https://betanalpha.github.io/assets/case_studies/modeling_and_inference.html#11_the_observational_process)\n",
    "- [Statistical Thinking Chapter 'What is a model'](https://web.stanford.edu/group/poldracklab/statsthinking21/fitting-models-to-data.html#what-is-a-model)\n",
    "- [Modern Statistics for Modern Biology Chapter 1 - Generative Models for Discrete Data](https://web.stanford.edu/class/bios221/book/Chap-Generative.html)\n",
    "- [McElreath Statistical Rethinking Chapters 1 & 2](https://xcelab.net/rmpubs/sr2/statisticalrethinking2_chapters1and2.pdf)"
   ]
  },
  {
   "cell_type": "markdown",
   "id": "899c9288",
   "metadata": {},
   "source": [
    "<!-- WHAT IS A MODEL\n",
    "\n",
    "Here refer to the hackmd and point out that we have been referring to generative models (i.e. known parameters, can generate data).\n",
    "\n",
    "But really the parameters are not known.\n",
    "\n",
    "We want to learn them from data. \n",
    "\n",
    "Use the diagrams in the hackmd. \n",
    "\n",
    "Here point out that we have been working with Generative Models. I.e. known parameters, --> "
   ]
  }
 ],
 "metadata": {
  "celltoolbar": "Edit Metadata",
  "kernelspec": {
   "display_name": "Python 3",
   "language": "python",
   "name": "python3"
  },
  "language_info": {
   "codemirror_mode": {
    "name": "ipython",
    "version": 3
   },
   "file_extension": ".py",
   "mimetype": "text/x-python",
   "name": "python",
   "nbconvert_exporter": "python",
   "pygments_lexer": "ipython3",
   "version": "3.8.10"
  }
 },
 "nbformat": 4,
 "nbformat_minor": 5
}
