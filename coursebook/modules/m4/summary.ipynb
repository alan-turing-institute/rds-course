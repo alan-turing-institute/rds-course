{
 "cells": [
  {
   "cell_type": "markdown",
   "id": "117deb9d-f5d3-4eb6-9fa3-a00428fb1f98",
   "metadata": {},
   "source": [
    "# Summary\n",
    "\n",
    "Here we list key modelling principles we have learned:\n",
    "\n",
    "-   Data is variable and the latent process (phenomena) unknown.\n",
    "    Probability allows us to mathematically reason about processes and\n",
    "    build models as mathematical descriptions.\n",
    "\n",
    "-   In general, models are fit to data by finding the most likely set of\n",
    "    parameters for that dataset.\n",
    "\n",
    "-   Given that we want to learn about the phenomena, not simply the\n",
    "    data, we need to be wary of overfitting to the variability in our\n",
    "    dataset and reducing our ability to learn something general.\n",
    "\n",
    "-   Understand the model you are fitting, and take time to learn about\n",
    "    the model’s universe after fitting. Mistakes in inference come from\n",
    "    poorly understood models.\n",
    "\n",
    "-   Most models learn parameters of probability distributions (even\n",
    "    classification models).\n",
    "\n",
    "-   Add your own for any we have missed:"
   ]
  }
 ],
 "metadata": {
  "language_info": {
   "name": "python"
  }
 },
 "nbformat": 4,
 "nbformat_minor": 5
}
