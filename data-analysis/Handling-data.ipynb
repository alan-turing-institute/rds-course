{
 "cells": [
  {
   "cell_type": "markdown",
   "id": "5ab31b9b-efce-42b7-8d5c-3c2258c6304a",
   "metadata": {
    "pycharm": {
     "name": "#%% md\n"
    }
   },
   "source": [
    "# Module 2: Handling data and deployment\n",
    "Contents\n",
    "- [1. Setup](#9d2860101d08aff4362723c550f1c5f32aedac5831ca420b)\n",
    "- [2. Getting the data](#9d2860101d08aff4362723c550f1c5f32aedac5831ca420b)\n",
    "## 1. Setup\n",
    "- to install python using [Pyenv](https://realpython.com/intro-to-pyenv/)\n",
    "    - Install of python ```$ pyenv install 3.7.9```\n",
    "    - Set the local version of python to the installed version ```$ pyenv local 3.7.9```\n",
    "    - Run the initialiser ```$ pyenv init```\n",
    "    - follow the instructions printed in the CLI\n",
    "    - activate shell with local python ```$ pyenv shell 3.7.9```\n",
    "- To set up a virtual environment I am using [poetry](https://python-poetry.org/docs/)\n",
    "    - Install poetry following these [commands](https://python-poetry.org/docs/#installation)\n",
    "    - `Poetry` can help manage [multiple environments](https://python-poetry.org/docs/managing-environments/), in particular [switching between environments ](https://python-poetry.org/docs/managing-environments/#switching-between-environments)\n",
    "    - After setting up poetry project can use the following command to use your `pyenv` installed python to activate `venv`.\n",
    "\n",
    "`\n",
    "$ poetry env use ~/.pyenv/versions/<python version number>/bin/python\n",
    "`\n",
    "- check the environment is activated using `$ poetry env list`\n",
    "- initialise the environment using `$ poetry shell`\n",
    "\n",
    "## 2. Getting the data\n",
    "Download the data from the [UK Data Service](https://beta.ukdataservice.ac.uk/datacatalogue/studies/study?id=7724#!/access-data).\n",
    "The data is captured from the European Quality of Life Time Series, 2007 and 2011. You can find out more about the dataset [here](https://beta.ukdataservice.ac.uk/datacatalogue/studies/study?id=7724#!/details).\n",
    "and there is a good [user guide](http://doc.ukdataservice.ac.uk/doc/7724/mrdoc/pdf/7724_eqls_2007-2011_user_guide_v2.pdf)\n",
    "describing how the data was created and anonymised and how some variables were generated to summarise other variables.\n",
    "Save the data in a local filespace (for example: `$HOME/rds-course/data-analysis/data`)"
   ]
  },
  {
   "cell_type": "code",
   "execution_count": 1,
   "id": "847a651d",
   "metadata": {
    "collapsed": false,
    "jupyter": {
     "outputs_hidden": false
    },
    "pycharm": {
     "name": "#%%\n"
    }
   },
   "outputs": [],
   "source": [
    "# installing required packages\n",
    "from pathlib import Path\n",
    "\n",
    "import numpy as np\n",
    "import pandas as pd\n",
    "import matplotlib.pyplot as plt\n",
    "import seaborn as sns\n",
    "from typing import List\n",
    "\n",
    "%matplotlib inline"
   ]
  },
  {
   "cell_type": "code",
   "execution_count": 133,
   "id": "e714859b",
   "metadata": {
    "collapsed": false,
    "jupyter": {
     "outputs_hidden": false
    },
    "pycharm": {
     "name": "#%%\n"
    }
   },
   "outputs": [
    {
     "data": {
      "text/plain": "   Wave  Y11_Country  Y11_Q31  Y11_Q32  Y11_ISCEDsimple  Y11_Q49  Y11_Q67_1  \\\n0     2            1      4.0      0.0              4.0      4.0        NaN   \n1     2            1      4.0      0.0              4.0      4.0        NaN   \n2     2            1      1.0      2.0              3.0      2.0        NaN   \n3     2            1      2.0      0.0              3.0      1.0        NaN   \n4     2            1      4.0      0.0              3.0      4.0        NaN   \n\n   Y11_Q67_2  Y11_Q67_3  Y11_Q67_4  ...  DV_Q54a  DV_Q54b  DV_Q55  DV_Q56  \\\n0        NaN        NaN        NaN  ...      NaN      NaN     NaN     NaN   \n1        NaN        NaN        NaN  ...      NaN      NaN     NaN     NaN   \n2        NaN        NaN        NaN  ...      NaN      NaN     NaN     NaN   \n3        NaN        NaN        NaN  ...      NaN      NaN     NaN     NaN   \n4        NaN        NaN        NaN  ...      NaN      NaN     NaN     NaN   \n\n   DV_Q8  DV_Q10                               ISO3166_Country  RowID  \\\n0    NaN     NaN  https://www.iso.org/obp/ui/#iso:code:3166:AT      1   \n1    NaN     NaN  https://www.iso.org/obp/ui/#iso:code:3166:AT      2   \n2    NaN     NaN  https://www.iso.org/obp/ui/#iso:code:3166:AT      3   \n3    NaN     NaN  https://www.iso.org/obp/ui/#iso:code:3166:AT      4   \n4    NaN     NaN  https://www.iso.org/obp/ui/#iso:code:3166:AT      5   \n\n                                            URIRowID   UniqueID  \n0  https://api.ukdataservice.ac.uk/V1/datasets/eq...  AT9000083  \n1  https://api.ukdataservice.ac.uk/V1/datasets/eq...  AT9000126  \n2  https://api.ukdataservice.ac.uk/V1/datasets/eq...  AT9000267  \n3  https://api.ukdataservice.ac.uk/V1/datasets/eq...  AT9000268  \n4  https://api.ukdataservice.ac.uk/V1/datasets/eq...  AT9000427  \n\n[5 rows x 199 columns]",
      "text/html": "<div>\n<style scoped>\n    .dataframe tbody tr th:only-of-type {\n        vertical-align: middle;\n    }\n\n    .dataframe tbody tr th {\n        vertical-align: top;\n    }\n\n    .dataframe thead th {\n        text-align: right;\n    }\n</style>\n<table border=\"1\" class=\"dataframe\">\n  <thead>\n    <tr style=\"text-align: right;\">\n      <th></th>\n      <th>Wave</th>\n      <th>Y11_Country</th>\n      <th>Y11_Q31</th>\n      <th>Y11_Q32</th>\n      <th>Y11_ISCEDsimple</th>\n      <th>Y11_Q49</th>\n      <th>Y11_Q67_1</th>\n      <th>Y11_Q67_2</th>\n      <th>Y11_Q67_3</th>\n      <th>Y11_Q67_4</th>\n      <th>...</th>\n      <th>DV_Q54a</th>\n      <th>DV_Q54b</th>\n      <th>DV_Q55</th>\n      <th>DV_Q56</th>\n      <th>DV_Q8</th>\n      <th>DV_Q10</th>\n      <th>ISO3166_Country</th>\n      <th>RowID</th>\n      <th>URIRowID</th>\n      <th>UniqueID</th>\n    </tr>\n  </thead>\n  <tbody>\n    <tr>\n      <th>0</th>\n      <td>2</td>\n      <td>1</td>\n      <td>4.0</td>\n      <td>0.0</td>\n      <td>4.0</td>\n      <td>4.0</td>\n      <td>NaN</td>\n      <td>NaN</td>\n      <td>NaN</td>\n      <td>NaN</td>\n      <td>...</td>\n      <td>NaN</td>\n      <td>NaN</td>\n      <td>NaN</td>\n      <td>NaN</td>\n      <td>NaN</td>\n      <td>NaN</td>\n      <td>https://www.iso.org/obp/ui/#iso:code:3166:AT</td>\n      <td>1</td>\n      <td>https://api.ukdataservice.ac.uk/V1/datasets/eq...</td>\n      <td>AT9000083</td>\n    </tr>\n    <tr>\n      <th>1</th>\n      <td>2</td>\n      <td>1</td>\n      <td>4.0</td>\n      <td>0.0</td>\n      <td>4.0</td>\n      <td>4.0</td>\n      <td>NaN</td>\n      <td>NaN</td>\n      <td>NaN</td>\n      <td>NaN</td>\n      <td>...</td>\n      <td>NaN</td>\n      <td>NaN</td>\n      <td>NaN</td>\n      <td>NaN</td>\n      <td>NaN</td>\n      <td>NaN</td>\n      <td>https://www.iso.org/obp/ui/#iso:code:3166:AT</td>\n      <td>2</td>\n      <td>https://api.ukdataservice.ac.uk/V1/datasets/eq...</td>\n      <td>AT9000126</td>\n    </tr>\n    <tr>\n      <th>2</th>\n      <td>2</td>\n      <td>1</td>\n      <td>1.0</td>\n      <td>2.0</td>\n      <td>3.0</td>\n      <td>2.0</td>\n      <td>NaN</td>\n      <td>NaN</td>\n      <td>NaN</td>\n      <td>NaN</td>\n      <td>...</td>\n      <td>NaN</td>\n      <td>NaN</td>\n      <td>NaN</td>\n      <td>NaN</td>\n      <td>NaN</td>\n      <td>NaN</td>\n      <td>https://www.iso.org/obp/ui/#iso:code:3166:AT</td>\n      <td>3</td>\n      <td>https://api.ukdataservice.ac.uk/V1/datasets/eq...</td>\n      <td>AT9000267</td>\n    </tr>\n    <tr>\n      <th>3</th>\n      <td>2</td>\n      <td>1</td>\n      <td>2.0</td>\n      <td>0.0</td>\n      <td>3.0</td>\n      <td>1.0</td>\n      <td>NaN</td>\n      <td>NaN</td>\n      <td>NaN</td>\n      <td>NaN</td>\n      <td>...</td>\n      <td>NaN</td>\n      <td>NaN</td>\n      <td>NaN</td>\n      <td>NaN</td>\n      <td>NaN</td>\n      <td>NaN</td>\n      <td>https://www.iso.org/obp/ui/#iso:code:3166:AT</td>\n      <td>4</td>\n      <td>https://api.ukdataservice.ac.uk/V1/datasets/eq...</td>\n      <td>AT9000268</td>\n    </tr>\n    <tr>\n      <th>4</th>\n      <td>2</td>\n      <td>1</td>\n      <td>4.0</td>\n      <td>0.0</td>\n      <td>3.0</td>\n      <td>4.0</td>\n      <td>NaN</td>\n      <td>NaN</td>\n      <td>NaN</td>\n      <td>NaN</td>\n      <td>...</td>\n      <td>NaN</td>\n      <td>NaN</td>\n      <td>NaN</td>\n      <td>NaN</td>\n      <td>NaN</td>\n      <td>NaN</td>\n      <td>https://www.iso.org/obp/ui/#iso:code:3166:AT</td>\n      <td>5</td>\n      <td>https://api.ukdataservice.ac.uk/V1/datasets/eq...</td>\n      <td>AT9000427</td>\n    </tr>\n  </tbody>\n</table>\n<p>5 rows × 199 columns</p>\n</div>"
     },
     "execution_count": 133,
     "metadata": {},
     "output_type": "execute_result"
    }
   ],
   "source": [
    "eqls_path = Path(\"data/UKDA-7724-csv/csv/eqls_2007and2011.csv\").resolve()\n",
    "eqls_df = pd.read_csv(eqls_path)\n",
    "\n",
    "eqls_df.head()"
   ]
  },
  {
   "cell_type": "markdown",
   "id": "bb7ef7df",
   "metadata": {},
   "source": [
    "### Additional info about the data\n",
    "The `.info()` method of a dataframe gives us a useful summary of the columns it contains:"
   ]
  },
  {
   "cell_type": "code",
   "execution_count": 134,
   "id": "0e1a9731",
   "metadata": {
    "collapsed": false,
    "jupyter": {
     "outputs_hidden": false
    },
    "pycharm": {
     "name": "#%%\n"
    }
   },
   "outputs": [
    {
     "name": "stdout",
     "output_type": "stream",
     "text": [
      "<class 'pandas.core.frame.DataFrame'>\n",
      "RangeIndex: 79270 entries, 0 to 79269\n",
      "Columns: 199 entries, Wave to UniqueID\n",
      "dtypes: float64(187), int64(9), object(3)\n",
      "memory usage: 120.4+ MB\n"
     ]
    },
    {
     "data": {
      "text/plain": "               Wave   Y11_Country       Y11_Q31       Y11_Q32  \\\ncount  79270.000000  79270.000000  78756.000000  78769.000000   \nmean       2.550473     16.841138      1.856049      1.598141   \nstd        0.497449      9.358320      1.186271      1.276425   \nmin        2.000000      1.000000      1.000000      0.000000   \n25%        2.000000      9.000000      1.000000      0.000000   \n50%        3.000000     16.000000      1.000000      2.000000   \n75%        3.000000     25.000000      3.000000      2.000000   \nmax        3.000000     35.000000      4.000000      5.000000   \n\n       Y11_ISCEDsimple       Y11_Q49     Y11_Q67_1     Y11_Q67_2  \\\ncount     78556.000000  79082.000000  43636.000000  43636.000000   \nmean          4.019146      2.640955      1.959368      1.023673   \nstd           1.368993      0.987352      0.197437      0.152030   \nmin           1.000000      1.000000      1.000000      1.000000   \n25%           3.000000      2.000000      2.000000      1.000000   \n50%           4.000000      3.000000      2.000000      1.000000   \n75%           5.000000      4.000000      2.000000      1.000000   \nmax           8.000000      4.000000      2.000000      2.000000   \n\n          Y11_Q67_3     Y11_Q67_4  ...        DV_Q7        DV_Q67  \\\ncount  43636.000000  43636.000000  ...  2225.000000  43636.000000   \nmean       1.019204      1.001971  ...    52.612135      1.086465   \nstd        0.137244      0.044351  ...    15.696943      0.460388   \nmin        1.000000      1.000000  ...     5.000000      1.000000   \n25%        1.000000      1.000000  ...    43.000000      1.000000   \n50%        1.000000      1.000000  ...    50.000000      1.000000   \n75%        1.000000      1.000000  ...    61.000000      1.000000   \nmax        2.000000      2.000000  ...    80.000000      6.000000   \n\n          DV_Q43Q44       DV_Q54a       DV_Q54b        DV_Q55        DV_Q56  \\\ncount  78312.000000  43636.000000  43636.000000  43636.000000  43636.000000   \nmean       2.485992      2.815565      2.925635      0.303442      0.231437   \nstd        0.838558      0.721642      0.568403      0.881979      0.827727   \nmin        1.000000      1.000000      1.000000      0.000000      0.000000   \n25%        2.000000      3.000000      3.000000      0.000000      0.000000   \n50%        3.000000      3.000000      3.000000      0.000000      0.000000   \n75%        3.000000      3.000000      3.000000      0.000000      0.000000   \nmax        3.000000      6.000000      6.000000      4.000000      4.000000   \n\n              DV_Q8        DV_Q10         RowID  \ncount  43636.000000  43636.000000  79270.000000  \nmean       3.931708      3.283482  39635.500000  \nstd        0.436254      1.130667  22883.422256  \nmin        1.000000      1.000000      1.000000  \n25%        4.000000      2.000000  19818.250000  \n50%        4.000000      4.000000  39635.500000  \n75%        4.000000      4.000000  59452.750000  \nmax        4.000000      4.000000  79270.000000  \n\n[8 rows x 196 columns]",
      "text/html": "<div>\n<style scoped>\n    .dataframe tbody tr th:only-of-type {\n        vertical-align: middle;\n    }\n\n    .dataframe tbody tr th {\n        vertical-align: top;\n    }\n\n    .dataframe thead th {\n        text-align: right;\n    }\n</style>\n<table border=\"1\" class=\"dataframe\">\n  <thead>\n    <tr style=\"text-align: right;\">\n      <th></th>\n      <th>Wave</th>\n      <th>Y11_Country</th>\n      <th>Y11_Q31</th>\n      <th>Y11_Q32</th>\n      <th>Y11_ISCEDsimple</th>\n      <th>Y11_Q49</th>\n      <th>Y11_Q67_1</th>\n      <th>Y11_Q67_2</th>\n      <th>Y11_Q67_3</th>\n      <th>Y11_Q67_4</th>\n      <th>...</th>\n      <th>DV_Q7</th>\n      <th>DV_Q67</th>\n      <th>DV_Q43Q44</th>\n      <th>DV_Q54a</th>\n      <th>DV_Q54b</th>\n      <th>DV_Q55</th>\n      <th>DV_Q56</th>\n      <th>DV_Q8</th>\n      <th>DV_Q10</th>\n      <th>RowID</th>\n    </tr>\n  </thead>\n  <tbody>\n    <tr>\n      <th>count</th>\n      <td>79270.000000</td>\n      <td>79270.000000</td>\n      <td>78756.000000</td>\n      <td>78769.000000</td>\n      <td>78556.000000</td>\n      <td>79082.000000</td>\n      <td>43636.000000</td>\n      <td>43636.000000</td>\n      <td>43636.000000</td>\n      <td>43636.000000</td>\n      <td>...</td>\n      <td>2225.000000</td>\n      <td>43636.000000</td>\n      <td>78312.000000</td>\n      <td>43636.000000</td>\n      <td>43636.000000</td>\n      <td>43636.000000</td>\n      <td>43636.000000</td>\n      <td>43636.000000</td>\n      <td>43636.000000</td>\n      <td>79270.000000</td>\n    </tr>\n    <tr>\n      <th>mean</th>\n      <td>2.550473</td>\n      <td>16.841138</td>\n      <td>1.856049</td>\n      <td>1.598141</td>\n      <td>4.019146</td>\n      <td>2.640955</td>\n      <td>1.959368</td>\n      <td>1.023673</td>\n      <td>1.019204</td>\n      <td>1.001971</td>\n      <td>...</td>\n      <td>52.612135</td>\n      <td>1.086465</td>\n      <td>2.485992</td>\n      <td>2.815565</td>\n      <td>2.925635</td>\n      <td>0.303442</td>\n      <td>0.231437</td>\n      <td>3.931708</td>\n      <td>3.283482</td>\n      <td>39635.500000</td>\n    </tr>\n    <tr>\n      <th>std</th>\n      <td>0.497449</td>\n      <td>9.358320</td>\n      <td>1.186271</td>\n      <td>1.276425</td>\n      <td>1.368993</td>\n      <td>0.987352</td>\n      <td>0.197437</td>\n      <td>0.152030</td>\n      <td>0.137244</td>\n      <td>0.044351</td>\n      <td>...</td>\n      <td>15.696943</td>\n      <td>0.460388</td>\n      <td>0.838558</td>\n      <td>0.721642</td>\n      <td>0.568403</td>\n      <td>0.881979</td>\n      <td>0.827727</td>\n      <td>0.436254</td>\n      <td>1.130667</td>\n      <td>22883.422256</td>\n    </tr>\n    <tr>\n      <th>min</th>\n      <td>2.000000</td>\n      <td>1.000000</td>\n      <td>1.000000</td>\n      <td>0.000000</td>\n      <td>1.000000</td>\n      <td>1.000000</td>\n      <td>1.000000</td>\n      <td>1.000000</td>\n      <td>1.000000</td>\n      <td>1.000000</td>\n      <td>...</td>\n      <td>5.000000</td>\n      <td>1.000000</td>\n      <td>1.000000</td>\n      <td>1.000000</td>\n      <td>1.000000</td>\n      <td>0.000000</td>\n      <td>0.000000</td>\n      <td>1.000000</td>\n      <td>1.000000</td>\n      <td>1.000000</td>\n    </tr>\n    <tr>\n      <th>25%</th>\n      <td>2.000000</td>\n      <td>9.000000</td>\n      <td>1.000000</td>\n      <td>0.000000</td>\n      <td>3.000000</td>\n      <td>2.000000</td>\n      <td>2.000000</td>\n      <td>1.000000</td>\n      <td>1.000000</td>\n      <td>1.000000</td>\n      <td>...</td>\n      <td>43.000000</td>\n      <td>1.000000</td>\n      <td>2.000000</td>\n      <td>3.000000</td>\n      <td>3.000000</td>\n      <td>0.000000</td>\n      <td>0.000000</td>\n      <td>4.000000</td>\n      <td>2.000000</td>\n      <td>19818.250000</td>\n    </tr>\n    <tr>\n      <th>50%</th>\n      <td>3.000000</td>\n      <td>16.000000</td>\n      <td>1.000000</td>\n      <td>2.000000</td>\n      <td>4.000000</td>\n      <td>3.000000</td>\n      <td>2.000000</td>\n      <td>1.000000</td>\n      <td>1.000000</td>\n      <td>1.000000</td>\n      <td>...</td>\n      <td>50.000000</td>\n      <td>1.000000</td>\n      <td>3.000000</td>\n      <td>3.000000</td>\n      <td>3.000000</td>\n      <td>0.000000</td>\n      <td>0.000000</td>\n      <td>4.000000</td>\n      <td>4.000000</td>\n      <td>39635.500000</td>\n    </tr>\n    <tr>\n      <th>75%</th>\n      <td>3.000000</td>\n      <td>25.000000</td>\n      <td>3.000000</td>\n      <td>2.000000</td>\n      <td>5.000000</td>\n      <td>4.000000</td>\n      <td>2.000000</td>\n      <td>1.000000</td>\n      <td>1.000000</td>\n      <td>1.000000</td>\n      <td>...</td>\n      <td>61.000000</td>\n      <td>1.000000</td>\n      <td>3.000000</td>\n      <td>3.000000</td>\n      <td>3.000000</td>\n      <td>0.000000</td>\n      <td>0.000000</td>\n      <td>4.000000</td>\n      <td>4.000000</td>\n      <td>59452.750000</td>\n    </tr>\n    <tr>\n      <th>max</th>\n      <td>3.000000</td>\n      <td>35.000000</td>\n      <td>4.000000</td>\n      <td>5.000000</td>\n      <td>8.000000</td>\n      <td>4.000000</td>\n      <td>2.000000</td>\n      <td>2.000000</td>\n      <td>2.000000</td>\n      <td>2.000000</td>\n      <td>...</td>\n      <td>80.000000</td>\n      <td>6.000000</td>\n      <td>3.000000</td>\n      <td>6.000000</td>\n      <td>6.000000</td>\n      <td>4.000000</td>\n      <td>4.000000</td>\n      <td>4.000000</td>\n      <td>4.000000</td>\n      <td>79270.000000</td>\n    </tr>\n  </tbody>\n</table>\n<p>8 rows × 196 columns</p>\n</div>"
     },
     "execution_count": 134,
     "metadata": {},
     "output_type": "execute_result"
    }
   ],
   "source": [
    "eqls_df.info()\n",
    "eqls_df.dtypes\n",
    "eqls_df.describe()"
   ]
  },
  {
   "cell_type": "code",
   "execution_count": 135,
   "outputs": [
    {
     "data": {
      "text/plain": "array([ 1,  2,  3,  4,  5,  6,  7,  8,  9, 10, 11, 12, 13, 14, 15, 16, 17,\n       18, 19, 20, 21, 22, 23, 24, 25, 26, 27, 28, 29, 30, 35, 34, 31, 33,\n       32])"
     },
     "execution_count": 135,
     "metadata": {},
     "output_type": "execute_result"
    }
   ],
   "source": [
    "eqls_df[\"Y11_Country\"].unique()"
   ],
   "metadata": {
    "collapsed": false,
    "pycharm": {
     "name": "#%%\n"
    }
   }
  },
  {
   "cell_type": "markdown",
   "id": "24939c22",
   "metadata": {
    "pycharm": {
     "name": "#%% md\n"
    }
   },
   "source": [
    "We can see there are 79270 rows (each row corresponding to an entry) and 199 columns (each column corresponding to a variable).\n",
    "There output `dtypes: float64(187), int64(9), object(3)` from the command `eqls_df.dtypes` shows that most of the columns (187)\n",
    "contain numeric variables, with 9 columns containing  integers and 3 object columns (these are string columns).\n",
    "\n",
    "## 3. Understanding the data\n",
    "Lets read in the metadata explaining the content of each of the columns."
   ]
  },
  {
   "cell_type": "code",
   "execution_count": 136,
   "id": "d05b2e0c",
   "metadata": {
    "collapsed": false,
    "jupyter": {
     "outputs_hidden": false
    },
    "pycharm": {
     "name": "#%%\n"
    }
   },
   "outputs": [
    {
     "data": {
      "text/plain": "      VariableName        VariableLabel                              Question  \\\n0             Wave            EQLS Wave                             EQLS Wave   \n1      Y11_Country              Country                               Country   \n2          Y11_Q31       Marital status                        Marital status   \n3          Y11_Q32      No. of children        Number of children of your own   \n4  Y11_ISCEDsimple  Education completed  Highest level of education completed   \n\n                                          TopicValue      KeywordValue  \\\n0                                                NaN               NaN   \n1                                        Geographies               NaN   \n2  Social stratification and groupings - Family l...    Marital status   \n3  Social stratification and groupings - Family l...          Children   \n4                     Education - Higher and further  Education levels   \n\n           VariableGroupValue  \n0    Administrative Variables  \n1  Household Grid and Country  \n2      Family and Social Life  \n3      Family and Social Life  \n4                   Education  ",
      "text/html": "<div>\n<style scoped>\n    .dataframe tbody tr th:only-of-type {\n        vertical-align: middle;\n    }\n\n    .dataframe tbody tr th {\n        vertical-align: top;\n    }\n\n    .dataframe thead th {\n        text-align: right;\n    }\n</style>\n<table border=\"1\" class=\"dataframe\">\n  <thead>\n    <tr style=\"text-align: right;\">\n      <th></th>\n      <th>VariableName</th>\n      <th>VariableLabel</th>\n      <th>Question</th>\n      <th>TopicValue</th>\n      <th>KeywordValue</th>\n      <th>VariableGroupValue</th>\n    </tr>\n  </thead>\n  <tbody>\n    <tr>\n      <th>0</th>\n      <td>Wave</td>\n      <td>EQLS Wave</td>\n      <td>EQLS Wave</td>\n      <td>NaN</td>\n      <td>NaN</td>\n      <td>Administrative Variables</td>\n    </tr>\n    <tr>\n      <th>1</th>\n      <td>Y11_Country</td>\n      <td>Country</td>\n      <td>Country</td>\n      <td>Geographies</td>\n      <td>NaN</td>\n      <td>Household Grid and Country</td>\n    </tr>\n    <tr>\n      <th>2</th>\n      <td>Y11_Q31</td>\n      <td>Marital status</td>\n      <td>Marital status</td>\n      <td>Social stratification and groupings - Family l...</td>\n      <td>Marital status</td>\n      <td>Family and Social Life</td>\n    </tr>\n    <tr>\n      <th>3</th>\n      <td>Y11_Q32</td>\n      <td>No. of children</td>\n      <td>Number of children of your own</td>\n      <td>Social stratification and groupings - Family l...</td>\n      <td>Children</td>\n      <td>Family and Social Life</td>\n    </tr>\n    <tr>\n      <th>4</th>\n      <td>Y11_ISCEDsimple</td>\n      <td>Education completed</td>\n      <td>Highest level of education completed</td>\n      <td>Education - Higher and further</td>\n      <td>Education levels</td>\n      <td>Education</td>\n    </tr>\n  </tbody>\n</table>\n</div>"
     },
     "execution_count": 136,
     "metadata": {},
     "output_type": "execute_result"
    }
   ],
   "source": [
    "eqls_api_map_path = Path(\"data/UKDA-7724-csv/mrdoc/excel/eqls_api_map.csv\").resolve()\n",
    "eqls_api_map_df = pd.read_csv(eqls_api_map_path,encoding='latin1')\n",
    "eqls_api_map_df.head()\n"
   ]
  },
  {
   "cell_type": "markdown",
   "source": [
    "## Re-naming our variables to more inutitive names\n",
    "As we can see from `eqls_api_map_path` that the `VariableName` does not intuitively describe the `VariableLabel` (e.g.\n",
    "`Y11_ISCEDsimple` is not a good description of \"Education completed\"). If we want to use more intuitive naming convention for our features\n",
    "we can do so using the `VariableLabel` column."
   ],
   "metadata": {
    "collapsed": false,
    "pycharm": {
     "name": "#%% md\n"
    }
   }
  },
  {
   "cell_type": "code",
   "execution_count": 137,
   "outputs": [
    {
     "name": "stderr",
     "output_type": "stream",
     "text": [
      "/Users/clast/Documents/2021_projects/rds-course/.venv/lib/python3.7/site-packages/ipykernel_launcher.py:4: FutureWarning: The default value of regex will change from True to False in a future version.\n",
      "  after removing the cwd from sys.path.\n"
     ]
    },
    {
     "data": {
      "text/plain": "   EQLS_Wave  Country  Marital_status  No_of_children  Education_completed  \\\n0          2        1             4.0             0.0                  4.0   \n1          2        1             4.0             0.0                  4.0   \n2          2        1             1.0             2.0                  3.0   \n3          2        1             2.0             0.0                  3.0   \n4          2        1             4.0             0.0                  3.0   \n\n   Ruralurban_living  Citizenship__Country  Citizenship__Another_EU_member  \\\n0                4.0                   NaN                             NaN   \n1                4.0                   NaN                             NaN   \n2                2.0                   NaN                             NaN   \n3                1.0                   NaN                             NaN   \n4                4.0                   NaN                             NaN   \n\n   Citizenship__A_nonEU_country  Citizenship__Dont_know  ...  \\\n0                           NaN                     NaN  ...   \n1                           NaN                     NaN  ...   \n2                           NaN                     NaN  ...   \n3                           NaN                     NaN  ...   \n4                           NaN                     NaN  ...   \n\n   DV_Anyone_usedwould_have_like_to_use_child_care_last_12_months  \\\n0                                                NaN                \n1                                                NaN                \n2                                                NaN                \n3                                                NaN                \n4                                                NaN                \n\n   DV_Anyone_usedwould_have_like_to_use_long_term_care_last_12_months  \\\n0                                                NaN                    \n1                                                NaN                    \n2                                                NaN                    \n3                                                NaN                    \n4                                                NaN                    \n\n   DV_No_of_factors_which_made_it_difficult_to_use_child_care  \\\n0                                                NaN            \n1                                                NaN            \n2                                                NaN            \n3                                                NaN            \n4                                                NaN            \n\n   DV_No_of_factors_which_made_it_difficult_to_use_long_term_care  \\\n0                                                NaN                \n1                                                NaN                \n2                                                NaN                \n3                                                NaN                \n4                                                NaN                \n\n   DV_Preferred_working_hours_3_groups  \\\n0                                  NaN   \n1                                  NaN   \n2                                  NaN   \n3                                  NaN   \n4                                  NaN   \n\n   DV_Preferred_working_hours_of_respondents_partner_3_groups  \\\n0                                                NaN            \n1                                                NaN            \n2                                                NaN            \n3                                                NaN            \n4                                                NaN            \n\n                            ISO3166_Country_URL  \\\n0  https://www.iso.org/obp/ui/#iso:code:3166:AT   \n1  https://www.iso.org/obp/ui/#iso:code:3166:AT   \n2  https://www.iso.org/obp/ui/#iso:code:3166:AT   \n3  https://www.iso.org/obp/ui/#iso:code:3166:AT   \n4  https://www.iso.org/obp/ui/#iso:code:3166:AT   \n\n   RowID_for_the_UK_Data_service_Public_API  \\\n0                                         1   \n1                                         2   \n2                                         3   \n3                                         4   \n4                                         5   \n\n   Root_URI_for_a_row_respondent_that_displays_all_data_values_for_a_single_row_via_the_UK_Data_Service_Public_API  \\\n0  https://api.ukdataservice.ac.uk/V1/datasets/eq...                                                                 \n1  https://api.ukdataservice.ac.uk/V1/datasets/eq...                                                                 \n2  https://api.ukdataservice.ac.uk/V1/datasets/eq...                                                                 \n3  https://api.ukdataservice.ac.uk/V1/datasets/eq...                                                                 \n4  https://api.ukdataservice.ac.uk/V1/datasets/eq...                                                                 \n\n   Unique_respondent_ID  \n0             AT9000083  \n1             AT9000126  \n2             AT9000267  \n3             AT9000268  \n4             AT9000427  \n\n[5 rows x 199 columns]",
      "text/html": "<div>\n<style scoped>\n    .dataframe tbody tr th:only-of-type {\n        vertical-align: middle;\n    }\n\n    .dataframe tbody tr th {\n        vertical-align: top;\n    }\n\n    .dataframe thead th {\n        text-align: right;\n    }\n</style>\n<table border=\"1\" class=\"dataframe\">\n  <thead>\n    <tr style=\"text-align: right;\">\n      <th></th>\n      <th>EQLS_Wave</th>\n      <th>Country</th>\n      <th>Marital_status</th>\n      <th>No_of_children</th>\n      <th>Education_completed</th>\n      <th>Ruralurban_living</th>\n      <th>Citizenship__Country</th>\n      <th>Citizenship__Another_EU_member</th>\n      <th>Citizenship__A_nonEU_country</th>\n      <th>Citizenship__Dont_know</th>\n      <th>...</th>\n      <th>DV_Anyone_usedwould_have_like_to_use_child_care_last_12_months</th>\n      <th>DV_Anyone_usedwould_have_like_to_use_long_term_care_last_12_months</th>\n      <th>DV_No_of_factors_which_made_it_difficult_to_use_child_care</th>\n      <th>DV_No_of_factors_which_made_it_difficult_to_use_long_term_care</th>\n      <th>DV_Preferred_working_hours_3_groups</th>\n      <th>DV_Preferred_working_hours_of_respondents_partner_3_groups</th>\n      <th>ISO3166_Country_URL</th>\n      <th>RowID_for_the_UK_Data_service_Public_API</th>\n      <th>Root_URI_for_a_row_respondent_that_displays_all_data_values_for_a_single_row_via_the_UK_Data_Service_Public_API</th>\n      <th>Unique_respondent_ID</th>\n    </tr>\n  </thead>\n  <tbody>\n    <tr>\n      <th>0</th>\n      <td>2</td>\n      <td>1</td>\n      <td>4.0</td>\n      <td>0.0</td>\n      <td>4.0</td>\n      <td>4.0</td>\n      <td>NaN</td>\n      <td>NaN</td>\n      <td>NaN</td>\n      <td>NaN</td>\n      <td>...</td>\n      <td>NaN</td>\n      <td>NaN</td>\n      <td>NaN</td>\n      <td>NaN</td>\n      <td>NaN</td>\n      <td>NaN</td>\n      <td>https://www.iso.org/obp/ui/#iso:code:3166:AT</td>\n      <td>1</td>\n      <td>https://api.ukdataservice.ac.uk/V1/datasets/eq...</td>\n      <td>AT9000083</td>\n    </tr>\n    <tr>\n      <th>1</th>\n      <td>2</td>\n      <td>1</td>\n      <td>4.0</td>\n      <td>0.0</td>\n      <td>4.0</td>\n      <td>4.0</td>\n      <td>NaN</td>\n      <td>NaN</td>\n      <td>NaN</td>\n      <td>NaN</td>\n      <td>...</td>\n      <td>NaN</td>\n      <td>NaN</td>\n      <td>NaN</td>\n      <td>NaN</td>\n      <td>NaN</td>\n      <td>NaN</td>\n      <td>https://www.iso.org/obp/ui/#iso:code:3166:AT</td>\n      <td>2</td>\n      <td>https://api.ukdataservice.ac.uk/V1/datasets/eq...</td>\n      <td>AT9000126</td>\n    </tr>\n    <tr>\n      <th>2</th>\n      <td>2</td>\n      <td>1</td>\n      <td>1.0</td>\n      <td>2.0</td>\n      <td>3.0</td>\n      <td>2.0</td>\n      <td>NaN</td>\n      <td>NaN</td>\n      <td>NaN</td>\n      <td>NaN</td>\n      <td>...</td>\n      <td>NaN</td>\n      <td>NaN</td>\n      <td>NaN</td>\n      <td>NaN</td>\n      <td>NaN</td>\n      <td>NaN</td>\n      <td>https://www.iso.org/obp/ui/#iso:code:3166:AT</td>\n      <td>3</td>\n      <td>https://api.ukdataservice.ac.uk/V1/datasets/eq...</td>\n      <td>AT9000267</td>\n    </tr>\n    <tr>\n      <th>3</th>\n      <td>2</td>\n      <td>1</td>\n      <td>2.0</td>\n      <td>0.0</td>\n      <td>3.0</td>\n      <td>1.0</td>\n      <td>NaN</td>\n      <td>NaN</td>\n      <td>NaN</td>\n      <td>NaN</td>\n      <td>...</td>\n      <td>NaN</td>\n      <td>NaN</td>\n      <td>NaN</td>\n      <td>NaN</td>\n      <td>NaN</td>\n      <td>NaN</td>\n      <td>https://www.iso.org/obp/ui/#iso:code:3166:AT</td>\n      <td>4</td>\n      <td>https://api.ukdataservice.ac.uk/V1/datasets/eq...</td>\n      <td>AT9000268</td>\n    </tr>\n    <tr>\n      <th>4</th>\n      <td>2</td>\n      <td>1</td>\n      <td>4.0</td>\n      <td>0.0</td>\n      <td>3.0</td>\n      <td>4.0</td>\n      <td>NaN</td>\n      <td>NaN</td>\n      <td>NaN</td>\n      <td>NaN</td>\n      <td>...</td>\n      <td>NaN</td>\n      <td>NaN</td>\n      <td>NaN</td>\n      <td>NaN</td>\n      <td>NaN</td>\n      <td>NaN</td>\n      <td>https://www.iso.org/obp/ui/#iso:code:3166:AT</td>\n      <td>5</td>\n      <td>https://api.ukdataservice.ac.uk/V1/datasets/eq...</td>\n      <td>AT9000427</td>\n    </tr>\n  </tbody>\n</table>\n<p>5 rows × 199 columns</p>\n</div>"
     },
     "execution_count": 137,
     "metadata": {},
     "output_type": "execute_result"
    }
   ],
   "source": [
    "def create_intuitive_feature_name(data_df, mapping_df):\n",
    "    if len(data_df.columns) == len(mapping_df):\n",
    "        old_column_list = list(data_df.columns.values)\n",
    "        new_col_list = mapping_df['VariableLabel'].str.replace('\\s', '_').str.replace('[^\\w]','').tolist()\n",
    "        column_dict = dict(zip(old_column_list, new_col_list))\n",
    "        return data_df.rename(columns=column_dict), column_dict\n",
    "\n",
    "eqls_df, column_dict = create_intuitive_feature_name(eqls_df, eqls_api_map_df)\n",
    "eqls_df.head()"
   ],
   "metadata": {
    "collapsed": false,
    "pycharm": {
     "name": "#%%\n"
    }
   }
  },
  {
   "cell_type": "code",
   "execution_count": 138,
   "outputs": [
    {
     "data": {
      "text/plain": "{'Wave': 'EQLS_Wave',\n 'Y11_Country': 'Country',\n 'Y11_Q31': 'Marital_status',\n 'Y11_Q32': 'No_of_children',\n 'Y11_ISCEDsimple': 'Education_completed',\n 'Y11_Q49': 'Ruralurban_living',\n 'Y11_Q67_1': 'Citizenship__Country',\n 'Y11_Q67_2': 'Citizenship__Another_EU_member',\n 'Y11_Q67_3': 'Citizenship__A_nonEU_country',\n 'Y11_Q67_4': 'Citizenship__Dont_know',\n 'Y11_Q67_5': 'Citizenship__Refusal',\n 'Y11_Agecategory': 'Age',\n 'Y11_HH2a': 'Gender',\n 'Y11_HHsize': 'Household_size',\n 'Y11_HHsize18plus': 'Household_size__over_18',\n 'Y11_HHstructure': 'Household_structure',\n 'Y11_Education': 'Education__3_groups',\n 'Y11_EmploymentStatus': 'Employment__7_groups',\n 'Y11_Incomequartiles_percapita': 'Income_quartiles',\n 'Y11_RuralUrban': 'DV_Ruralurban_living',\n 'Y11_Degurba': 'Degree_of_urbanisation',\n 'Y11_CountryGroupEU28': 'Country_group',\n 'Y11_Q33a': 'Direct_contact_with_children',\n 'Y11_Q33b': 'Direct_contact_with_parents',\n 'Y11_Q33c': 'Direct_contact_with_other_relatives',\n 'Y11_Q33d': 'Direct_contact_with_neighbours',\n 'Y11_Q34a': 'Phoneinternet_contact_with_children',\n 'Y11_Q34b': 'Phoneinternet_contact_with_parents',\n 'Y11_Q34c': 'Phoneinternet_contact_with_other_relatives',\n 'Y11_Q34d': 'Phoneinternet_contact_with_neighbours',\n 'Y11_Q35a': 'A_person_to_get_support_from_to_help_around_house_',\n 'Y11_Q35b': 'A_person_to_get_advice_from_about_a_personalfamily_matter',\n 'Y11_Q35c': 'A_person_to_get_support_from_when_looking_for_a_job',\n 'Y11_Q35d': 'A_person_to_get_support_from_when_feeling_depressed',\n 'Y11_Q35e': 'A_person_to_get_support_from_to_raise_emergency_money',\n 'Y11_Q42': 'Health_condition',\n 'Y11_Q43': 'Chronic_health_problems',\n 'Y11_Q44': 'Limited_by_chronic_health_problems',\n 'Y11_Q17': 'No_of_rooms_in_accommodation',\n 'Y11_Q18': 'Tenure',\n 'Y11_Q19a': 'Problems_with_accommodation__space',\n 'Y11_Q19b': 'Problems_with_accommodation__rot_in_windows_etc',\n 'Y11_Q19c': 'Problems_with_accommodation__damp_or_leaks',\n 'Y11_Q19d': 'Problems_with_accommodation__no_toilet',\n 'Y11_Q19e': 'Problems_with_accommodation__no_bathshower',\n 'Y11_Q19f': 'Problems_with_accommodation__no_outside_space',\n 'Y11_Q20': 'Likelihood_of_leaving_accom_within_6_months',\n 'Y11_Q50a': 'Neighbourhood_problems__noise',\n 'Y11_Q50b': 'Neighbourhood_problems__air_quality',\n 'Y11_Q50c': 'Neighbourhood_problems__quality_of_drinking_water',\n 'Y11_Q50d': 'Neighbourhood_problems__crime_violence_or_vandalism',\n 'Y11_Q50e': 'Neighbourhood_problems__litter_or_rubbish',\n 'Y11_Q50f': 'Neighbourhood_problems__traffic',\n 'Y11_Accommproblems': 'No_of_problems_with_accommodation',\n 'Y11_Q47a': 'Difficult_to_see_a_doctor_because_of_distance',\n 'Y11_Q47b': 'Difficult_to_see_a_doctor_because_of_delay_in_getting_appointment',\n 'Y11_Q47c': 'Difficult_to_see_a_doctor_because_of_waiting_time',\n 'Y11_Q47d': 'Difficult_to_see_a_doctor_because_of_cost',\n 'Y11_Q47e': 'Difficult_to_see_a_doctor_because_of_lack_of_time',\n 'Y11_Q51a': 'Access_to_postal_services',\n 'Y11_Q51b': 'Access_to_banking_services',\n 'Y11_Q51c': 'Access_to_public_transport',\n 'Y11_Q51d': 'Access_to_cinema_theatre_and_cultural_centre',\n 'Y11_Q51e': 'Access_to_recreational_or_green_areas',\n 'Y11_Q52': 'How_much_time_spent_on_travelling_to_workstudy',\n 'Y11_Q53a': 'Quality_of_health_services',\n 'Y11_Q53b': 'Quality_of_education_system',\n 'Y11_Q53c': 'Quality_of_public_transport',\n 'Y11_Q53d': 'Quality_of_child_care_services',\n 'Y11_Q53e': 'Quality_of_long_term_care_services',\n 'Y11_Q53f': 'Quality_of_socialmunicipal_housing',\n 'Y11_Q53g': 'Quality_of_state_pension_system',\n 'Y11_Q54a_1': 'I_or_someone_else_in_household_used_child_care_in_12_months',\n 'Y11_Q54a_2': 'Someone_close_outside_household_used_child_care_in_12_months',\n 'Y11_Q54a_3': 'Nobody_used_child_care_in_12_months',\n 'Y11_Q54a_4': 'Child_care_used_in_12_months__dont_know',\n 'Y11_Q54a_5': 'Child_care_used_in_12_months__refusal',\n 'Y11_Q54b_1': 'I_or_someone_else_in_household_used_long_term_care_in_12_months',\n 'Y11_Q54b_2': 'Someone_close_outside_household_used_long_term_care_in_12_months',\n 'Y11_Q54b_3': 'Nobody_used_long_term_care_in_12_months',\n 'Y11_Q54b_4': 'Long_term_care_used_in_12_months__dont_know',\n 'Y11_Q54b_5': 'Long_term_care_used_in_12_months__refusal',\n 'Y11_Q55a': 'Difficult_to_use_child_care_because_of_cost',\n 'Y11_Q55b': 'Difficult_to_use_child_care_because_of_availability',\n 'Y11_Q55c': 'Difficult_to_use_child_care_because_of_access',\n 'Y11_Q55d': 'Difficult_to_use_child_care_because_of_quality_of_care',\n 'Y11_Q56a': 'Difficult_to_use_long_term_care_because_of_cost',\n 'Y11_Q56b': 'Difficult_to_use_long_term_care_because_of_availability',\n 'Y11_Q56c': 'Difficult_to_use_long_term_care_because_of_access',\n 'Y11_Q56d': 'Difficult_to_use_long_term_care_because_of_quality_of_care',\n 'Y11_Q24': 'Can_most_people_be_trusted',\n 'Y11_Q25a': 'How_much_tension_between_Poor_and_Rich',\n 'Y11_Q25b': 'How_much_tension_between_Management_and_Workers',\n 'Y11_Q25c': 'How_much_tension_between_Men_and_Women',\n 'Y11_Q25d': 'How_much_tension_between_Old_and_Young_people',\n 'Y11_Q25e': 'How_much_tension_between_different_racialethnic_groups',\n 'Y11_Q25f': 'How_much_tension_between_different_religious_groups',\n 'Y11_Q25g': 'How_much_tension_between_groups_with_different_sexual_orientation',\n 'Y11_Q28a': 'How_much_trust_the_parliament',\n 'Y11_Q28b': 'How_much_trust_the_legal_system',\n 'Y11_Q28c': 'How_much_trust_the_press',\n 'Y11_Q28d': 'How_much_trust_the_police',\n 'Y11_Q28e': 'How_much_trust_the_government',\n 'Y11_Q28f': 'How_much_trust_the_local_authorities',\n 'Y11_Q21a': 'How_frequently_attend_religious_services',\n 'Y11_Q21b': 'How_frequently_use_the_Internet_other_than_for_work',\n 'Y11_Q21c': 'How_frequently_take_part_in_sports_or_exercise',\n 'Y11_Q21d': 'How_frequently_participate_in_social_activities',\n 'Y11_Q22a': 'How_often_worked_unpaid_for_community_services_last_12_months',\n 'Y11_Q22b': 'How_often_worked_unpaid_for_educationcultural_etc_organisation_last_12_months',\n 'Y11_Q22c': 'How_often_worked_unpaid_for_social_movementscharities_last_12_months',\n 'Y11_Q22d': 'How_often_worked_unpaid_for_political_parties_or_trade_unions_last_12_months',\n 'Y11_Q22e': 'How_often_worked_unpaid_for_other_voluntary_org_last_12_months',\n 'Y11_Q23a': 'Attended_a_trade_unionpolitical_party_meeting_last_12_months',\n 'Y11_Q23b': 'Attended_a_protest_or_demonstration_last_12_months',\n 'Y11_Q23c': 'Signed_a_petition_last_12_months',\n 'Y11_Q23d': 'Contacted_a_politician_last_12_months',\n 'Y11_Q29e': 'Feel_left_out_of_sociey',\n 'Y11_Q29f': 'Cant_find_the_way_because_life_has_become_so_complicated',\n 'Y11_Q29g': 'The_value_of_what_I_do_is_not_recognised_by_others',\n 'Y11_Q29h': 'People_look_down_on_me_because_of_my_job_situation_or_income',\n 'Y11_Q29i': 'Feel_close_to_people_in_the_area_where_I_live',\n 'Y11_SocExIndex': 'Social_Exclusion_Index',\n 'Y11_Volunteering': 'Volunteering_frequency',\n 'Y11_Q57': 'Personal_financial_situation',\n 'Y11_Q58': 'Household_able_to_make_ends_meet',\n 'Y11_Q59a': 'Can_afford_to_keep_home_adequately_warm',\n 'Y11_Q59b': 'Can_afford_to_pay_for_a_weeks_annual_holiday_away',\n 'Y11_Q59c': 'Can_afford_to_replace_any_wornout_furniture',\n 'Y11_Q59d': 'Can_afford_a_meal_with_meatchickenfish_every_second_day',\n 'Y11_Q59e': 'Can_afford_to_buy_new_rather_than_secondhand_clothes',\n 'Y11_Q59f': 'Can_afford_to_have_friends_or_family_for_a_drinkmeal_at_least_once_a_month',\n 'Y11_Q60a': 'Rentmortgage_payments_for_accommodation',\n 'Y11_Q60b': 'Utility_bills_such_as_electricity_water_gas',\n 'Y11_Q60c': 'Payments_for_consumer_loanscredit_cards',\n 'Y11_Q60d': 'Payments_for_informal_loans_from_friendsrelatives',\n 'Y11_Q65': 'Financial_situation_of_your_household_compared_to_12_months_ago',\n 'Y11_Q66': 'Household_financial_expectations_for_th_12_months',\n 'Y11_Deprindex': 'Deprivation_index_No_of_items_hhold_cant_afford',\n 'Y11_Q29a': 'I_am_optimistic_about_the_future',\n 'Y11_Q29b': 'I_generally_feel_that_what_I_do_in_life_is_worthwhile',\n 'Y11_Q29c': 'I_feel_I_am_free_to_decide_how_to_live_my_life',\n 'Y11_Q29d': 'I_seldom_have_time_to_do_the_things_I_really_enjoy',\n 'Y11_Q30': 'How_satisfied_with_life_these_days',\n 'Y11_Q40a': 'How_satisfied_with_education',\n 'Y11_Q40b': 'How_satisfied_with_present_job',\n 'Y11_Q40c': 'How_satisfied_with_present_standard_of_living',\n 'Y11_Q40d': 'How_satisfied_with_accommodation',\n 'Y11_Q40e': 'How_satisfied_with_family_life',\n 'Y11_Q40f': 'How_satisfied_with_health',\n 'Y11_Q40g': 'How_satisfied_with_social_life',\n 'Y11_Q40h': 'How_satisfied_with_economic_situation_in_the_country',\n 'Y11_Q41': 'How_happy_are_you',\n 'Y11_Q45a': 'How_often_felt_cheerful_and_in_good_spirits_last_2_weeks',\n 'Y11_Q45b': 'How_often_felt_calm_and_relaxed_last_2_weeks',\n 'Y11_Q45c': 'How_often_felt_active_and_vigorous_last_2_weeks',\n 'Y11_Q45d': 'How_often_woke_up_feeling_fresh_and_rested_last_2_weeks',\n 'Y11_Q45e': 'How_often_felt_your_daily_life_has_been_filled_with_things_that_interest_you_last_2_weeks',\n 'Y11_Q46a': 'How_often_felt_particularly_tense_last_2_weeks',\n 'Y11_Q46b': 'How_often_felt_lonely_last_2_weeks',\n 'Y11_Q46c': 'How_often_felt_downhearted_and_depressed_last_2_weeks',\n 'Y11_MWIndex': 'WHO5_mental_wellbeing_index',\n 'w4': 'Final_weight_trimmed_and_standardised',\n 'w5_EU28': 'Crossnational_weight__EU28__to_calculate_averages_for_all_EU_in_2013_incl_Croatia',\n 'w5_total': 'Weight_5_total',\n 'Y11_Q7': 'How_many_hours_work_per_week_in_1st_job',\n 'Y11_Q8': 'How_many_hours_per_week_would_you_prefer_to_work_at_present',\n 'Y11_Q9': 'How_many_hours_does_your_partner_work_per_week',\n 'Y11_Q10': 'How_many_hours_per_week_would_you_prefer_your_partner_to_work',\n 'Y11_Q11': 'Working_hours_fit_with_familysocial_commitments',\n 'Y11_Q12a': 'Come_home_from_work_too_tired_to_do_some_of_the_household_jobs',\n 'Y11_Q12b': 'Difficult_to_fulfil_family_responsibilities_because_of_the_time_at_work',\n 'Y11_Q12c': 'Difficult_to_concentrate_at_work_because_of_family_responsibilities',\n 'Y11_Q15': 'How_likely_to_lose_job_in_6_months',\n 'Y11_Q16': 'How_likely_to_find_another_job_of_similar_salary',\n 'Y11_Q36a': 'How_often_care_for_your_children',\n 'Y11_Q36b': 'How_often_cook_and_doing_housework',\n 'Y11_Q36c': 'How_often_care_for_elderly_or_disabled_relatives',\n 'Y11_Q38': 'The_share_of_housework_you_do_is_',\n 'Y11_Q39a': 'As_much_time_as_would_like_with_family_members',\n 'Y11_Q39b': 'As_much_time_as_would_like_with_others_not_family',\n 'Y11_Q39c': 'As_much_time_as_would_like_on_own_hobbiesinterests',\n 'Y11_Q39d': 'As_much_time_as_would_like_on_voluntary_work',\n 'Y11_Strainbasedconflict': 'Worklife_balance_conflict',\n 'Y11_Q7a': 'Worked_at_an_additional_paid_job_last_4_weeks',\n 'Y11_Q7b': 'How_many_hours_per_week_worked_in_the_additional_job',\n 'DV_Q7': 'DV_Total_number_of_working_hours',\n 'DV_Q67': 'DV_Citizenship',\n 'DV_Q43Q44': 'DV_Any_limitingnot_limiting_chronic_health_problem',\n 'DV_Q54a': 'DV_Anyone_usedwould_have_like_to_use_child_care_last_12_months',\n 'DV_Q54b': 'DV_Anyone_usedwould_have_like_to_use_long_term_care_last_12_months',\n 'DV_Q55': 'DV_No_of_factors_which_made_it_difficult_to_use_child_care',\n 'DV_Q56': 'DV_No_of_factors_which_made_it_difficult_to_use_long_term_care',\n 'DV_Q8': 'DV_Preferred_working_hours_3_groups',\n 'DV_Q10': 'DV_Preferred_working_hours_of_respondents_partner_3_groups',\n 'ISO3166_Country': 'ISO3166_Country_URL',\n 'RowID': 'RowID_for_the_UK_Data_service_Public_API',\n 'URIRowID': 'Root_URI_for_a_row_respondent_that_displays_all_data_values_for_a_single_row_via_the_UK_Data_Service_Public_API',\n 'UniqueID': 'Unique_respondent_ID'}"
     },
     "execution_count": 138,
     "metadata": {},
     "output_type": "execute_result"
    }
   ],
   "source": [
    "column_dict"
   ],
   "metadata": {
    "collapsed": false,
    "pycharm": {
     "name": "#%%\n"
    }
   }
  },
  {
   "cell_type": "markdown",
   "id": "9e315dab",
   "metadata": {},
   "source": [
    "<div class=\"alert alert-block alert-warning\"> The metadata csv <code class=\"ph codeph\">eqls_api_map.csv</code> contains\n",
    "non-ascii character in the dictionary and it can't be encoded/decoded. Read in with the additional arguement\n",
    "<code class=\"ph codeph\">encoding='latin1'</code> </div>\n"
   ]
  },
  {
   "cell_type": "markdown",
   "id": "e4962b87",
   "metadata": {},
   "source": [
    "### 3.1 Data missingness\n",
    "We want to know what columns contain missing values. There are three categories of missing data: Missing Completely at\n",
    "Random (MCAR), Missing at Random (MAR), Missing Not at Random (MNAR).\n"
   ]
  },
  {
   "cell_type": "code",
   "execution_count": 139,
   "id": "ab54f559",
   "metadata": {
    "collapsed": false,
    "jupyter": {
     "outputs_hidden": false
    },
    "pycharm": {
     "name": "#%%\n"
    }
   },
   "outputs": [
    {
     "name": "stderr",
     "output_type": "stream",
     "text": [
      "/Users/clast/Documents/2021_projects/rds-course/.venv/lib/python3.7/site-packages/seaborn/axisgrid.py:64: UserWarning: Tight layout not applied. The left and right margins cannot be made large enough to accommodate all axes decorations. \n",
      "  self.fig.tight_layout(*args, **kwargs)\n"
     ]
    },
    {
     "data": {
      "text/plain": "<seaborn.axisgrid.FacetGrid at 0x146e8a290>"
     },
     "execution_count": 139,
     "metadata": {},
     "output_type": "execute_result"
    },
    {
     "data": {
      "text/plain": "<Figure size 2880x2880 with 0 Axes>"
     },
     "metadata": {},
     "output_type": "display_data"
    },
    {
     "data": {
      "text/plain": "<Figure size 511.25x360 with 1 Axes>",
      "image/png": "[encoded data removed]"
     },
     "metadata": {
      "needs_background": "light"
     },
     "output_type": "display_data"
    }
   ],
   "source": [
    "# Following command shows missing/non-missing values in two colors.\n",
    "plt.figure(figsize=(40,40))\n",
    "sns.displot(\n",
    "    data=eqls_df.isna().melt(value_name=\"missing\"),\n",
    "    y=\"variable\",\n",
    "    hue=\"missing\",\n",
    "    multiple=\"fill\",\n",
    "    aspect=1.25\n",
    ")"
   ]
  },
  {
   "cell_type": "markdown",
   "id": "67a477ea",
   "metadata": {
    "pycharm": {
     "name": "#%% md\n"
    }
   },
   "source": [
    "Almost all feature columns contain missing values and the fraction of rows with missing data can be substantial.\n",
    "As the visualisation shows there is a large amount of missingness within the 2007 and 2011 data combined.\n",
    "This visualisation indicates that there is a **relationship** between missingness and its values, missing or non-missing."
   ]
  },
  {
   "cell_type": "markdown",
   "source": [
    "Ok, let's try to become a bit more quantitative. We can calculate for every `RowID` and feature column the following information:\n",
    "- percentage of missing values\n",
    "- relative fraction of missing values (= number missing values / `EQLS_Wave` for which this `RowID` is present)"
   ],
   "metadata": {
    "collapsed": false
   }
  },
  {
   "cell_type": "code",
   "execution_count": 140,
   "outputs": [
    {
     "data": {
      "text/plain": "Degree_of_urbanisation                                                     0.577848\nDirect_contact_with_children                                               0.599458\nPhoneinternet_contact_with_children                                        0.627110\nA_person_to_get_support_from_when_looking_for_a_job                        0.507847\nLimited_by_chronic_health_problems                                         0.716147\nDifficult_to_see_a_doctor_because_of_lack_of_time                          0.541958\nHow_much_time_spent_on_travelling_to_workstudy                             0.745641\nQuality_of_long_term_care_services                                         0.623300\nQuality_of_socialmunicipal_housing                                         0.620777\nDifficult_to_use_child_care_because_of_cost                                0.906736\nDifficult_to_use_child_care_because_of_availability                        0.906459\nDifficult_to_use_child_care_because_of_access                              0.905803\nDifficult_to_use_child_care_because_of_quality_of_care                     0.908629\nDifficult_to_use_long_term_care_because_of_cost                            0.942387\nDifficult_to_use_long_term_care_because_of_availability                    0.941832\nDifficult_to_use_long_term_care_because_of_access                          0.942172\nDifficult_to_use_long_term_care_because_of_quality_of_care                 0.942765\nHow_much_tension_between_groups_with_different_sexual_orientation          0.516765\nHow_satisfied_with_present_job                                             0.544456\nHow_many_hours_per_week_would_you_prefer_to_work_at_present                0.521156\nHow_many_hours_does_your_partner_work_per_week                             0.828283\nHow_many_hours_per_week_would_you_prefer_your_partner_to_work              0.727135\nWorking_hours_fit_with_familysocial_commitments                            0.757348\nCome_home_from_work_too_tired_to_do_some_of_the_household_jobs             0.545389\nDifficult_to_fulfil_family_responsibilities_because_of_the_time_at_work    0.547105\nDifficult_to_concentrate_at_work_because_of_family_responsibilities        0.546701\nHow_likely_to_lose_job_in_6_months                                         0.560174\nHow_likely_to_find_another_job_of_similar_salary                           0.768979\nAs_much_time_as_would_like_on_voluntary_work                               0.606900\nWorklife_balance_conflict                                                  0.541050\nWorked_at_an_additional_paid_job_last_4_weeks                              0.543875\nHow_many_hours_per_week_worked_in_the_additional_job                       0.971439\nDV_Total_number_of_working_hours                                           0.971931\ndtype: float64"
     },
     "execution_count": 140,
     "metadata": {},
     "output_type": "execute_result"
    }
   ],
   "source": [
    "# percentage of missing values and columns which have over 50% missingness\n",
    "eqls_null_counts = eqls_df.isnull().sum() / len(eqls_df)\n",
    "eqls_null_counts[eqls_null_counts>0.5]"
   ],
   "metadata": {
    "collapsed": false,
    "pycharm": {
     "name": "#%%\n"
    }
   }
  },
  {
   "cell_type": "code",
   "execution_count": 141,
   "outputs": [
    {
     "data": {
      "text/plain": "[EQLS_Wave                                                  2         3\n Citizenship__Country                                1.000000  0.000000\n Citizenship__Another_EU_member                      1.000000  0.000000\n Citizenship__A_nonEU_country                        1.000000  0.000000\n Citizenship__Dont_know                              1.000000  0.000000\n Citizenship__Refusal                                1.000000  0.000000\n Household_size__over_18                             1.000000  0.000000\n Degree_of_urbanisation                              1.000000  0.233110\n Direct_contact_with_children                        1.000000  0.272367\n Direct_contact_with_parents                         1.000000  0.011550\n Direct_contact_with_other_relatives                 1.000000  0.005867\n Direct_contact_with_neighbours                      1.000000  0.005729\n Phoneinternet_contact_with_children                 1.000000  0.322601\n Phoneinternet_contact_with_parents                  1.000000  0.091576\n Phoneinternet_contact_with_other_relatives          1.000000  0.025094\n Phoneinternet_contact_with_neighbours               1.000000  0.010977\n A_person_to_get_support_from_to_help_around_house_  1.000000  0.006508\n A_person_to_get_advice_from_about_a_personalfam...  1.000000  0.009694\n A_person_to_get_support_from_when_looking_for_a...  1.000000  0.105945\n A_person_to_get_support_from_when_feeling_depre...  1.000000  0.011917\n A_person_to_get_support_from_to_raise_emergency...  1.000000  0.027179\n Limited_by_chronic_health_problems                  0.722653  0.710835\n Neighbourhood_problems__noise                       1.000000  0.001238\n Neighbourhood_problems__air_quality                 1.000000  0.005408\n Neighbourhood_problems__quality_of_drinking_water   1.000000  0.011688\n Neighbourhood_problems__crime_violence_or_vanda...  1.000000  0.012925\n Neighbourhood_problems__litter_or_rubbish           1.000000  0.003575\n Neighbourhood_problems__traffic                     1.000000  0.007792\n Difficult_to_see_a_doctor_because_of_lack_of_time   1.000000  0.167912\n Access_to_postal_services                           1.000000  0.003758\n Access_to_banking_services                          1.000000  0.004790\n Access_to_public_transport                          1.000000  0.009648\n Access_to_cinema_theatre_and_cultural_centre        1.000000  0.013498\n Access_to_recreational_or_green_areas               1.000000  0.008433\n How_much_time_spent_on_travelling_to_workstudy      1.000000  0.537927\n Quality_of_long_term_care_services                  1.000000  0.315680\n Quality_of_socialmunicipal_housing                  1.000000  0.311096\n I_or_someone_else_in_household_used_child_care_...  1.000000  0.000000\n Someone_close_outside_household_used_child_care...  1.000000  0.000000\n Nobody_used_child_care_in_12_months                 1.000000  0.000000\n Child_care_used_in_12_months__dont_know             1.000000  0.000000\n Child_care_used_in_12_months__refusal               1.000000  0.000000\n I_or_someone_else_in_household_used_long_term_c...  1.000000  0.000000\n Someone_close_outside_household_used_long_term_...  1.000000  0.000000\n Nobody_used_long_term_care_in_12_months             1.000000  0.000000\n Long_term_care_used_in_12_months__dont_know         1.000000  0.000000\n Long_term_care_used_in_12_months__refusal           1.000000  0.000000\n Difficult_to_use_child_care_because_of_cost         1.000000  0.830576\n Difficult_to_use_child_care_because_of_availabi...  1.000000  0.830072\n Difficult_to_use_child_care_because_of_access       1.000000  0.828880\n Difficult_to_use_child_care_because_of_quality_...  1.000000  0.834013\n Difficult_to_use_long_term_care_because_of_cost     1.000000  0.895339\n Difficult_to_use_long_term_care_because_of_avai...  1.000000  0.894330\n Difficult_to_use_long_term_care_because_of_access   1.000000  0.894949\n Difficult_to_use_long_term_care_because_of_qual...  1.000000  0.896026\n How_much_tension_between_groups_with_different_...  1.000000  0.122147\n How_much_trust_the_local_authorities                1.000000  0.027134\n How_frequently_attend_religious_services            1.000000  0.004515\n How_frequently_use_the_Internet_other_than_for_...  1.000000  0.002613\n How_frequently_take_part_in_sports_or_exercise      1.000000  0.002865\n How_frequently_participate_in_social_activities     1.000000  0.003758\n How_often_worked_unpaid_for_community_services_...  1.000000  0.009785\n How_often_worked_unpaid_for_educationcultural_e...  1.000000  0.009488\n How_often_worked_unpaid_for_social_movementscha...  1.000000  0.009992\n How_often_worked_unpaid_for_political_parties_o...  1.000000  0.010771\n How_often_worked_unpaid_for_other_voluntary_org...  1.000000  0.013177\n Attended_a_protest_or_demonstration_last_12_months  1.000000  0.010863\n Signed_a_petition_last_12_months                    1.000000  0.011940\n Feel_close_to_people_in_the_area_where_I_live       1.000000  0.007677\n Volunteering_frequency                              1.000000  0.000000\n Personal_financial_situation                        1.000000  0.021313\n Payments_for_consumer_loanscredit_cards             1.000000  0.030021\n Payments_for_informal_loans_from_friendsrelatives   1.000000  0.034559\n Financial_situation_of_your_household_compared_...  1.000000  0.013979\n Household_financial_expectations_for_th_12_months   1.000000  0.074846\n I_generally_feel_that_what_I_do_in_life_is_wort...  1.000000  0.010519\n I_feel_I_am_free_to_decide_how_to_live_my_life      1.000000  0.005890\n I_seldom_have_time_to_do_the_things_I_really_enjoy  1.000000  0.006119\n How_satisfied_with_present_job                      0.527895  0.557980\n How_satisfied_with_economic_situation_in_the_co...  1.000000  0.022550\n How_often_felt_particularly_tense_last_2_weeks      1.000000  0.008915\n How_often_felt_lonely_last_2_weeks                  1.000000  0.008296\n How_often_felt_downhearted_and_depressed_last_2...  1.000000  0.009625\n How_many_hours_work_per_week_in_1st_job             0.158584  0.565955\n How_many_hours_per_week_would_you_prefer_to_wor...  1.000000  0.130122\n How_many_hours_does_your_partner_work_per_week      1.000000  0.688056\n How_many_hours_per_week_would_you_prefer_your_p...  1.000000  0.504308\n Working_hours_fit_with_familysocial_commitments     1.000000  0.559194\n Come_home_from_work_too_tired_to_do_some_of_the...  0.528933  0.558828\n Difficult_to_fulfil_family_responsibilities_bec...  0.531010  0.560248\n Difficult_to_concentrate_at_work_because_of_fam...  0.530729  0.559744\n How_likely_to_lose_job_in_6_months                  0.543105  0.574113\n How_likely_to_find_another_job_of_similar_salary    1.000000  0.580324\n How_often_care_for_your_children                    1.000000  0.018906\n As_much_time_as_would_like_with_family_members      1.000000  0.033252\n As_much_time_as_would_like_with_others_not_family   1.000000  0.041571\n As_much_time_as_would_like_on_own_hobbiesinterests  1.000000  0.057682\n As_much_time_as_would_like_on_voluntary_work        1.000000  0.285888\n Worklife_balance_conflict                           0.522787  0.555963\n Worked_at_an_additional_paid_job_last_4_weeks       0.526379  0.558163\n How_many_hours_per_week_worked_in_the_additiona...  0.968738  0.973646\n DV_Total_number_of_working_hours                    0.969299  0.974081\n DV_Citizenship                                      1.000000  0.000000\n DV_Anyone_usedwould_have_like_to_use_child_care...  1.000000  0.000000\n DV_Anyone_usedwould_have_like_to_use_long_term_...  1.000000  0.000000\n DV_No_of_factors_which_made_it_difficult_to_use...  1.000000  0.000000\n DV_No_of_factors_which_made_it_difficult_to_use...  1.000000  0.000000\n DV_Preferred_working_hours_3_groups                 1.000000  0.000000\n DV_Preferred_working_hours_of_respondents_partn...  1.000000  0.000000]"
     },
     "execution_count": 141,
     "metadata": {},
     "output_type": "execute_result"
    }
   ],
   "source": [
    "# getting the proportion of null values for each wave\n",
    "eqls_labels = eqls_df.drop(columns=['RowID_for_the_UK_Data_service_Public_API',\n",
    "                                    'Root_URI_for_a_row_respondent_that_displays_all_data_values_for_a_single_row_via_the_UK_Data_Service_Public_API',\n",
    "                                    'Unique_respondent_ID'])\n",
    "\n",
    "pd.set_option('display.max_rows', 100000)\n",
    "prop_null_counts_per_wave = eqls_labels.groupby(\"EQLS_Wave\").apply(lambda x: x.isnull().sum()/len(x)).transpose()\n",
    "[prop_null_counts_per_wave[(prop_null_counts_per_wave>0.5).any(1)]]"
   ],
   "metadata": {
    "collapsed": false,
    "pycharm": {
     "name": "#%%\n"
    }
   }
  },
  {
   "cell_type": "markdown",
   "source": [
    "We can see that there are a large amount of completely blank columns in Wave 2 (2007-8) wave, indicating these variables were not present in the survey.\n",
    "Because we want to make use of the additional variables we will use only Wave 3 data to be able to incorporate these variables."
   ],
   "metadata": {
    "collapsed": false
   }
  },
  {
   "cell_type": "code",
   "execution_count": 142,
   "outputs": [
    {
     "name": "stderr",
     "output_type": "stream",
     "text": [
      "/Users/clast/Documents/2021_projects/rds-course/.venv/lib/python3.7/site-packages/ipykernel_launcher.py:4: FutureWarning: The default value of regex will change from True to False in a future version.\n",
      "  after removing the cwd from sys.path.\n"
     ]
    },
    {
     "ename": "AttributeError",
     "evalue": "'tuple' object has no attribute 'head'",
     "output_type": "error",
     "traceback": [
      "\u001B[0;31m---------------------------------------------------------------------------\u001B[0m",
      "\u001B[0;31mAttributeError\u001B[0m                            Traceback (most recent call last)",
      "\u001B[0;32m/var/folders/p2/kyb6y_1d0pv_vvpdvlcz39h40000gr/T/ipykernel_31532/2516045433.py\u001B[0m in \u001B[0;36m<module>\u001B[0;34m\u001B[0m\n\u001B[1;32m      4\u001B[0m \u001B[0meqls_2011_df\u001B[0m \u001B[0;34m=\u001B[0m \u001B[0mcreate_intuitive_feature_name\u001B[0m\u001B[0;34m(\u001B[0m\u001B[0meqls_2011_df\u001B[0m\u001B[0;34m,\u001B[0m \u001B[0meqls_api_map_df\u001B[0m\u001B[0;34m)\u001B[0m\u001B[0;34m\u001B[0m\u001B[0;34m\u001B[0m\u001B[0m\n\u001B[1;32m      5\u001B[0m \u001B[0;34m\u001B[0m\u001B[0m\n\u001B[0;32m----> 6\u001B[0;31m \u001B[0meqls_2011_df\u001B[0m\u001B[0;34m.\u001B[0m\u001B[0mhead\u001B[0m\u001B[0;34m(\u001B[0m\u001B[0;34m)\u001B[0m\u001B[0;34m\u001B[0m\u001B[0;34m\u001B[0m\u001B[0m\n\u001B[0m\u001B[1;32m      7\u001B[0m \u001B[0;34m\u001B[0m\u001B[0m\n",
      "\u001B[0;31mAttributeError\u001B[0m: 'tuple' object has no attribute 'head'"
     ]
    }
   ],
   "source": [
    "eqls_2011_path = Path(\"data/UKDA-7724-csv/csv/eqls_2011.csv\").resolve()\n",
    "eqls_2011_df = pd.read_csv(eqls_2011_path)\n",
    "\n",
    "eqls_2011_df = create_intuitive_feature_name(eqls_2011_df, eqls_api_map_df)\n",
    "\n",
    "eqls_2011_df.head()"
   ],
   "metadata": {
    "collapsed": false,
    "pycharm": {
     "name": "#%%\n"
    }
   }
  },
  {
   "cell_type": "code",
   "execution_count": null,
   "outputs": [],
   "source": [
    "eqls_2011_labels = eqls_2011_df.drop(columns=['RowID_for_the_UK_Data_service_Public_API',\n",
    "                                              'Root_URI_for_a_row_respondent_that_displays_all_data_values_for_a_single_row_via_the_UK_Data_Service_Public_API',\n",
    "                                              'Unique_respondent_ID'])\n",
    "\n",
    "prop_null_counts_wave_3 = eqls_2011_labels.groupby(\"EQLS_Wave\").apply(lambda x: x.isnull().sum()/len(x)).transpose()\n",
    "[prop_null_counts_wave_3[(prop_null_counts_wave_3>0.5).any(1)]]"
   ],
   "metadata": {
    "collapsed": false,
    "pycharm": {
     "name": "#%%\n"
    }
   }
  },
  {
   "cell_type": "code",
   "execution_count": null,
   "outputs": [],
   "source": [
    "eqls_2011_labels.apply(lambda x: x.isnull().sum()/len(x))"
   ],
   "metadata": {
    "collapsed": false,
    "pycharm": {
     "name": "#%%\n"
    }
   }
  },
  {
   "cell_type": "markdown",
   "source": [
    "We can see there are less missing data in the variables in the 2011 data. When looking at the [metadata](http://doc.ukdataservice.ac.uk/doc/7724/mrdoc/pdf/7724_eqls_2007-2011_user_guide_v2.pdf) available for these columns,\n",
    "we can see that large amounts of missing data is available on questions such as:\n",
    "- Are you limited in your daily activities by this physical or mental health problem/illness/disability?\n",
    "- How much time spent on travelling to work/study?\n",
    "- Difficult to use child care/long term care because of cost/availability/access/quality of care?\n",
    "- How satisfied with present job?\n",
    "- How many hours do you/your partner work?\n",
    "- How likely to lose/find a similar salaried job in 6 months?\n",
    "- Work-life balance conflict?\n",
    "- Worked at an additional paid?\n",
    "- Total number of working hours?"
   ],
   "metadata": {
    "collapsed": false
   }
  },
  {
   "cell_type": "markdown",
   "source": [
    "Many of these variables are derived (see Derived variables section in the metadata) and therefore inherit the missingness from the other data.\n",
    "We can deal with missing data in multiple ways. one strategy is to impute them.\n",
    "\n",
    "\n",
    "Data pipelines allow one to transform data from one representation\n",
    "to another through a series of steps. Pipelines allow one to apply and chain intermediate steps of transform to our data\n",
    "For example, one can fill missing values, pass the output to cross\n",
    "validation and grid search and then fit the model in series of steps chained together where the output of one is the input to another."
   ],
   "metadata": {
    "collapsed": false,
    "pycharm": {
     "name": "#%% md\n"
    }
   }
  },
  {
   "cell_type": "code",
   "execution_count": null,
   "outputs": [],
   "source": [
    "from sklearn.base import TransformerMixin\n",
    "\n",
    "class DataFrameImputer(TransformerMixin):\n",
    "\n",
    "    def __init__(self):\n",
    "        \"\"\"Impute missing values.\n",
    "\n",
    "        Columns of dtype object are imputed with the most frequent value\n",
    "        in column.\n",
    "\n",
    "        Columns of other types are imputed with mean of column.\n",
    "\n",
    "        \"\"\"\n",
    "    def fit(self, X, y=None):\n",
    "\n",
    "        self.fill = pd.Series([X[c].value_counts().index[0]\n",
    "            if X[c].dtype == np.dtype('O') else X[c].mean() for c in X],\n",
    "            index=X.columns)\n",
    "\n",
    "        return self\n",
    "\n",
    "    def transform(self, X, y=None):\n",
    "        return X.fillna(self.fill)\n",
    "\n",
    "eqls_2011_df_impute = eqls_2011_df.copy()\n",
    "cols_with_missing = (col for col in eqls_2011_df_impute.columns\n",
    "                                 if eqls_2011_df_impute[col].isnull().any())\n",
    "for col in cols_with_missing:\n",
    "    eqls_2011_df_impute[col + '_was_missing'] = eqls_2011_df_impute[col].isnull()\n",
    "\n",
    "eqls_2011_df_imputed = DataFrameImputer().fit_transform(eqls_2011_df_impute)"
   ],
   "metadata": {
    "collapsed": false,
    "pycharm": {
     "name": "#%%\n"
    }
   }
  },
  {
   "cell_type": "markdown",
   "source": [
    "We can see the imputed values (most common feature for columns with `dtype` type and the average value for other \"type\" columns."
   ],
   "metadata": {
    "collapsed": false,
    "pycharm": {
     "name": "#%% md\n"
    }
   }
  },
  {
   "cell_type": "code",
   "execution_count": null,
   "outputs": [],
   "source": [
    "eqls_2011_df_imputed.head()\n"
   ],
   "metadata": {
    "collapsed": false,
    "pycharm": {
     "name": "#%%\n"
    }
   }
  },
  {
   "cell_type": "markdown",
   "source": [
    "### Example (Comparing All Solutions)\n",
    "\n",
    "We will see am example predicting the self reported health outcome (feature label: '`Health_condition`') from the EQLS data.\n",
    "We use a random forest regressor to predict the self reported health outcome.\n",
    "A random forest is a supervised machine learning algorithm that is constructed from decision tree algorithms."
   ],
   "metadata": {
    "collapsed": false,
    "pycharm": {
     "name": "#%% md\n"
    }
   }
  },
  {
   "cell_type": "code",
   "execution_count": 26,
   "outputs": [],
   "source": [
    "from sklearn.ensemble import RandomForestRegressor\n",
    "from sklearn.metrics import mean_absolute_error\n",
    "from sklearn.model_selection import train_test_split\n",
    "\n",
    "eqls_2011_df_target_nona = eqls_2011_df[eqls_2011_df['Health_condition'].notna()]\n",
    "eqls_2011_target = eqls_2011_df_target_nona.Health_condition\n",
    "eqls_2011_predictors = eqls_2011_df_target_nona.drop(['Health_condition'], axis=1)\n",
    "\n",
    "# For the sake of keeping the example simple, we'll use only numeric predictors.\n",
    "eqls_2011_numeric_predictors = eqls_2011_predictors.select_dtypes(exclude=['object'])\n",
    "\n",
    "\n",
    "\n",
    "X_train, X_test, y_train, y_test = train_test_split(eqls_2011_numeric_predictors,\n",
    "                                                    eqls_2011_target,\n",
    "                                                    train_size=0.7,\n",
    "                                                    test_size=0.3,\n",
    "                                                    random_state=0)\n",
    "\n",
    "def random_forest_score_dataset(X_train, X_test, y_train, y_test):\n",
    "    model = RandomForestRegressor()\n",
    "    model.fit(X_train, y_train)\n",
    "    preds = model.predict(X_test)\n",
    "    return mean_absolute_error(y_test, preds)"
   ],
   "metadata": {
    "collapsed": false,
    "pycharm": {
     "name": "#%%\n"
    }
   }
  },
  {
   "cell_type": "markdown",
   "source": [
    "#### Get Model Score from Dropping Columns with Missing Values"
   ],
   "metadata": {
    "collapsed": false,
    "pycharm": {
     "name": "#%% md\n"
    }
   }
  },
  {
   "cell_type": "code",
   "execution_count": 27,
   "outputs": [
    {
     "name": "stdout",
     "output_type": "stream",
     "text": [
      "Mean Absolute Error from dropping columns with Missing Values:\n",
      "0.6817209978573615\n"
     ]
    }
   ],
   "source": [
    "cols_with_missing = [col for col in X_train.columns\n",
    "                                 if X_train[col].isnull().any()]\n",
    "reduced_X_train = X_train.drop(cols_with_missing, axis=1)\n",
    "reduced_X_test  = X_test.drop(cols_with_missing, axis=1)\n",
    "print(\"Mean Absolute Error from dropping columns with Missing Values:\")\n",
    "print(random_forest_score_dataset(reduced_X_train, reduced_X_test, y_train, y_test))"
   ],
   "metadata": {
    "collapsed": false,
    "pycharm": {
     "name": "#%%\n"
    }
   }
  },
  {
   "cell_type": "markdown",
   "source": [
    "#### Get Model Score from Imputation\n"
   ],
   "metadata": {
    "collapsed": false
   }
  },
  {
   "cell_type": "code",
   "execution_count": 28,
   "outputs": [
    {
     "name": "stdout",
     "output_type": "stream",
     "text": [
      "Mean Absolute Error from Imputation:\n",
      "0.45525558616467704\n"
     ]
    }
   ],
   "source": [
    "from sklearn.impute import SimpleImputer\n",
    "\n",
    "my_imputer = SimpleImputer()\n",
    "imputed_X_train = my_imputer.fit_transform(X_train)\n",
    "imputed_X_test = my_imputer.transform(X_test)\n",
    "print(\"Mean Absolute Error from Imputation:\")\n",
    "print(random_forest_score_dataset(imputed_X_train, imputed_X_test, y_train, y_test))\n"
   ],
   "metadata": {
    "collapsed": false,
    "pycharm": {
     "name": "#%%\n"
    }
   }
  },
  {
   "cell_type": "markdown",
   "source": [
    "#### Get Score from Imputation with Extra Columns Showing What Was Imputed\n"
   ],
   "metadata": {
    "collapsed": false,
    "pycharm": {
     "name": "#%% md\n"
    }
   }
  },
  {
   "cell_type": "code",
   "execution_count": 29,
   "outputs": [
    {
     "name": "stderr",
     "output_type": "stream",
     "text": [
      "/Users/clast/Documents/2021_projects/rds-course/.venv/lib/python3.7/site-packages/ipykernel_launcher.py:7: PerformanceWarning: DataFrame is highly fragmented.  This is usually the result of calling `frame.insert` many times, which has poor performance.  Consider using pd.concat instead.  To get a de-fragmented frame, use `newframe = frame.copy()`\n",
      "  import sys\n",
      "/Users/clast/Documents/2021_projects/rds-course/.venv/lib/python3.7/site-packages/ipykernel_launcher.py:8: PerformanceWarning: DataFrame is highly fragmented.  This is usually the result of calling `frame.insert` many times, which has poor performance.  Consider using pd.concat instead.  To get a de-fragmented frame, use `newframe = frame.copy()`\n",
      "  \n"
     ]
    },
    {
     "name": "stdout",
     "output_type": "stream",
     "text": [
      "Mean Absolute Error from Imputation while Track What Was Imputed:\n",
      "0.45335782063054786\n"
     ]
    }
   ],
   "source": [
    "imputed_X_train_plus = X_train.copy()\n",
    "imputed_X_test_plus = X_test.copy()\n",
    "\n",
    "cols_with_missing = (col for col in X_train.columns\n",
    "                                 if X_train[col].isnull().any())\n",
    "for col in cols_with_missing:\n",
    "    imputed_X_train_plus[col + '_was_missing'] = imputed_X_train_plus[col].isnull()\n",
    "    imputed_X_test_plus[col + '_was_missing'] = imputed_X_test_plus[col].isnull()\n",
    "\n",
    "# Imputation\n",
    "my_imputer = SimpleImputer()\n",
    "imputed_X_train_plus = my_imputer.fit_transform(imputed_X_train_plus)\n",
    "imputed_X_test_plus = my_imputer.transform(imputed_X_test_plus)\n",
    "\n",
    "print(\"Mean Absolute Error from Imputation while Track What Was Imputed:\")\n",
    "print(random_forest_score_dataset(imputed_X_train_plus, imputed_X_test_plus, y_train, y_test))"
   ],
   "metadata": {
    "collapsed": false,
    "pycharm": {
     "name": "#%%\n"
    }
   }
  },
  {
   "cell_type": "markdown",
   "source": [
    "As is common, imputing missing values allowed us to improve our model compared to dropping those columns.\n",
    "We got an additional boost by tracking what values had been imputed."
   ],
   "metadata": {
    "collapsed": false,
    "pycharm": {
     "name": "#%% md\n"
    }
   }
  },
  {
   "cell_type": "markdown",
   "source": [
    "## Modelling - Logistic Regression\n",
    "Logistic Regression is one of the most simple and commonly used Machine Learning algorithms for two-class classification.\n",
    "It is easy to implement and can be used as the baseline for any binary classification problem.\n",
    "Its basic fundamental concepts are also constructive in deep learning. Logistic regression describes and estimates the\n",
    "relationship between one dependent binary variable and independent variables.\n",
    "\n",
    "#### Predict variable (desired target):\n",
    "\n",
    "`y` —  In general, your health is …? (`Health_condition`)\n",
    "\n",
    "The health column of the dataset has many categories and we need to reduce the categories for a better modelling.\n",
    "The health column has the following categories:"
   ],
   "metadata": {
    "collapsed": false,
    "pycharm": {
     "name": "#%% md\n"
    }
   }
  },
  {
   "cell_type": "code",
   "execution_count": 30,
   "outputs": [
    {
     "data": {
      "text/plain": "array([2., 1., 3., 4., 5.])"
     },
     "execution_count": 30,
     "metadata": {},
     "output_type": "execute_result"
    }
   ],
   "source": [
    "eqls_2011_df_target_nona['Health_condition'].unique()"
   ],
   "metadata": {
    "collapsed": false,
    "pycharm": {
     "name": "#%%\n"
    }
   }
  },
  {
   "cell_type": "markdown",
   "source": [
    "The labels in our current target variable are as follows:\n",
    "- `\"1\"` (Label = Very good)\n",
    "- `\"2\"` (Label = Good)\n",
    "- `\"3\"` (Label = Fair)\n",
    "- `\"4\"` (Label = Bad)\n",
    "- `\"5\"` (Label = Very bad) together.\n",
    "\n",
    "Let's create an updated variable that is binary (i.e. either a 1 or a 0 such that `\"1\"`, means “Good”, `\"0\"` means “Bad”).\n",
    "Lets assign the `\"1\"`, `\"2\"`, `\"3\"` to the value `\"1\"`, and likewise, `\"4\"` and `\"5\"` to the value of `\"0\"`."
   ],
   "metadata": {
    "collapsed": false,
    "pycharm": {
     "name": "#%% md\n"
    }
   }
  },
  {
   "cell_type": "code",
   "execution_count": 31,
   "outputs": [
    {
     "name": "stderr",
     "output_type": "stream",
     "text": [
      "/Users/clast/Documents/2021_projects/rds-course/.venv/lib/python3.7/site-packages/ipykernel_launcher.py:1: SettingWithCopyWarning: \n",
      "A value is trying to be set on a copy of a slice from a DataFrame.\n",
      "Try using .loc[row_indexer,col_indexer] = value instead\n",
      "\n",
      "See the caveats in the documentation: https://pandas.pydata.org/pandas-docs/stable/user_guide/indexing.html#returning-a-view-versus-a-copy\n",
      "  \"\"\"Entry point for launching an IPython kernel.\n"
     ]
    }
   ],
   "source": [
    "eqls_2011_df_target_nona['Health_condition_binary'] = eqls_2011_df_target_nona.Health_condition.apply(lambda x: 1 if float(x) <= 3 else 0)"
   ],
   "metadata": {
    "collapsed": false,
    "pycharm": {
     "name": "#%%\n"
    }
   }
  },
  {
   "cell_type": "code",
   "execution_count": 32,
   "outputs": [
    {
     "data": {
      "text/plain": "   Y11_Q42_binary  Y11_Q42\n0               1      2.0\n1               1      1.0\n2               1      2.0\n3               1      1.0\n4               1      3.0",
      "text/html": "<div>\n<style scoped>\n    .dataframe tbody tr th:only-of-type {\n        vertical-align: middle;\n    }\n\n    .dataframe tbody tr th {\n        vertical-align: top;\n    }\n\n    .dataframe thead th {\n        text-align: right;\n    }\n</style>\n<table border=\"1\" class=\"dataframe\">\n  <thead>\n    <tr style=\"text-align: right;\">\n      <th></th>\n      <th>Y11_Q42_binary</th>\n      <th>Y11_Q42</th>\n    </tr>\n  </thead>\n  <tbody>\n    <tr>\n      <th>0</th>\n      <td>1</td>\n      <td>2.0</td>\n    </tr>\n    <tr>\n      <th>1</th>\n      <td>1</td>\n      <td>1.0</td>\n    </tr>\n    <tr>\n      <th>2</th>\n      <td>1</td>\n      <td>2.0</td>\n    </tr>\n    <tr>\n      <th>3</th>\n      <td>1</td>\n      <td>1.0</td>\n    </tr>\n    <tr>\n      <th>4</th>\n      <td>1</td>\n      <td>3.0</td>\n    </tr>\n  </tbody>\n</table>\n</div>"
     },
     "execution_count": 32,
     "metadata": {},
     "output_type": "execute_result"
    }
   ],
   "source": [
    "eqls_2011_df_target_nona[['Health_condition_binary','Health_condition']].head()"
   ],
   "metadata": {
    "collapsed": false,
    "pycharm": {
     "name": "#%%\n"
    }
   }
  },
  {
   "cell_type": "markdown",
   "source": [
    "We can see that the column `Health_condition_binary` contains `1` where the value is `[1, 2, 3]` in the column `Health_condition`."
   ],
   "metadata": {
    "collapsed": false,
    "pycharm": {
     "name": "#%% md\n"
    }
   }
  },
  {
   "cell_type": "code",
   "execution_count": 33,
   "outputs": [],
   "source": [
    "# dropping the ID's which are not predictor variables\n",
    "feature_2011_columns = eqls_2011_df_target_nona.drop(columns=['RowID', 'Root_URI_for_a_row_respondent_that_displays_all_data_values_for_a_single_row_via_the_UK_Data_Service_Public_API',\n",
    "                                                              'Unique_respondent_ID'])"
   ],
   "metadata": {
    "collapsed": false,
    "pycharm": {
     "name": "#%%\n"
    }
   }
  },
  {
   "cell_type": "code",
   "execution_count": 34,
   "outputs": [],
   "source": [
    "from sklearn.linear_model import LogisticRegression\n",
    "\n",
    "eqls_2011_target = feature_2011_columns.Health_condition_binary\n",
    "eqls_2011_predictors = feature_2011_columns.drop(['Health_condition_binary','Health_condition'], axis=1)\n",
    "\n",
    "# For the sake of keeping the example simple, we'll use only numeric predictors.\n",
    "eqls_2011_numeric_predictors = eqls_2011_predictors.select_dtypes(exclude=['object'])\n",
    "\n",
    "X_train, X_test, y_train, y_test = train_test_split(eqls_2011_numeric_predictors,\n",
    "                                                    eqls_2011_target,\n",
    "                                                    train_size=0.7,\n",
    "                                                    test_size=0.3,\n",
    "                                                    random_state=0)\n",
    "\n",
    "def logistic_regression_score_dataset(X_train, X_test, y_train, y_test):\n",
    "    model = LogisticRegression()\n",
    "    model.fit(X_train, y_train)\n",
    "    preds = model.predict(X_test)\n",
    "    return mean_absolute_error(y_test, preds)"
   ],
   "metadata": {
    "collapsed": false,
    "pycharm": {
     "name": "#%%\n"
    }
   }
  },
  {
   "cell_type": "markdown",
   "source": [
    "We remove the columns `'Health_condition'` as our new target variable (`Health_condition_binary`) are derived from this\n",
    "Lets compare the results with the different imputation methods illustrated earlier."
   ],
   "metadata": {
    "collapsed": false,
    "pycharm": {
     "name": "#%% md\n"
    }
   }
  },
  {
   "cell_type": "code",
   "execution_count": 35,
   "outputs": [
    {
     "name": "stdout",
     "output_type": "stream",
     "text": [
      "Mean Absolute Error from dropping columns with Missing Values:\n",
      "0.10567799204162841\n"
     ]
    },
    {
     "name": "stderr",
     "output_type": "stream",
     "text": [
      "/Users/clast/Documents/2021_projects/rds-course/.venv/lib/python3.7/site-packages/sklearn/linear_model/_logistic.py:765: ConvergenceWarning: lbfgs failed to converge (status=1):\n",
      "STOP: TOTAL NO. of ITERATIONS REACHED LIMIT.\n",
      "\n",
      "Increase the number of iterations (max_iter) or scale the data as shown in:\n",
      "    https://scikit-learn.org/stable/modules/preprocessing.html\n",
      "Please also refer to the documentation for alternative solver options:\n",
      "    https://scikit-learn.org/stable/modules/linear_model.html#logistic-regression\n",
      "  extra_warning_msg=_LOGISTIC_SOLVER_CONVERGENCE_MSG)\n"
     ]
    }
   ],
   "source": [
    "cols_with_missing = [col for col in X_train.columns\n",
    "                                 if X_train[col].isnull().any()]\n",
    "reduced_X_train = X_train.drop(cols_with_missing, axis=1)\n",
    "reduced_X_test  = X_test.drop(cols_with_missing, axis=1)\n",
    "print(\"Mean Absolute Error from dropping columns with Missing Values:\")\n",
    "print(logistic_regression_score_dataset(reduced_X_train, reduced_X_test, y_train, y_test))"
   ],
   "metadata": {
    "collapsed": false,
    "pycharm": {
     "name": "#%%\n"
    }
   }
  },
  {
   "cell_type": "markdown",
   "source": [
    "#### Get Logistic Regression Score from Imputation\n"
   ],
   "metadata": {
    "collapsed": false
   }
  },
  {
   "cell_type": "code",
   "execution_count": 36,
   "outputs": [
    {
     "name": "stdout",
     "output_type": "stream",
     "text": [
      "Mean Absolute Error from Imputation:\n",
      "0.06221303948576676\n"
     ]
    },
    {
     "name": "stderr",
     "output_type": "stream",
     "text": [
      "/Users/clast/Documents/2021_projects/rds-course/.venv/lib/python3.7/site-packages/sklearn/linear_model/_logistic.py:765: ConvergenceWarning: lbfgs failed to converge (status=1):\n",
      "STOP: TOTAL NO. of ITERATIONS REACHED LIMIT.\n",
      "\n",
      "Increase the number of iterations (max_iter) or scale the data as shown in:\n",
      "    https://scikit-learn.org/stable/modules/preprocessing.html\n",
      "Please also refer to the documentation for alternative solver options:\n",
      "    https://scikit-learn.org/stable/modules/linear_model.html#logistic-regression\n",
      "  extra_warning_msg=_LOGISTIC_SOLVER_CONVERGENCE_MSG)\n"
     ]
    }
   ],
   "source": [
    "from sklearn.impute import SimpleImputer\n",
    "\n",
    "my_imputer = SimpleImputer()\n",
    "imputed_X_train = my_imputer.fit_transform(X_train)\n",
    "imputed_X_test = my_imputer.transform(X_test)\n",
    "print(\"Mean Absolute Error from Imputation:\")\n",
    "print(logistic_regression_score_dataset(imputed_X_train, imputed_X_test, y_train, y_test))\n"
   ],
   "metadata": {
    "collapsed": false,
    "pycharm": {
     "name": "#%%\n"
    }
   }
  },
  {
   "cell_type": "markdown",
   "source": [
    "#### Get Logistic Regression Score from Imputation with Extra Columns Showing What Was Imputed\n"
   ],
   "metadata": {
    "collapsed": false
   }
  },
  {
   "cell_type": "code",
   "execution_count": 37,
   "outputs": [
    {
     "name": "stdout",
     "output_type": "stream",
     "text": [
      "Mean Absolute Error from Imputation:\n",
      "0.06221303948576676\n"
     ]
    },
    {
     "name": "stderr",
     "output_type": "stream",
     "text": [
      "/Users/clast/Documents/2021_projects/rds-course/.venv/lib/python3.7/site-packages/sklearn/linear_model/_logistic.py:765: ConvergenceWarning: lbfgs failed to converge (status=1):\n",
      "STOP: TOTAL NO. of ITERATIONS REACHED LIMIT.\n",
      "\n",
      "Increase the number of iterations (max_iter) or scale the data as shown in:\n",
      "    https://scikit-learn.org/stable/modules/preprocessing.html\n",
      "Please also refer to the documentation for alternative solver options:\n",
      "    https://scikit-learn.org/stable/modules/linear_model.html#logistic-regression\n",
      "  extra_warning_msg=_LOGISTIC_SOLVER_CONVERGENCE_MSG)\n"
     ]
    }
   ],
   "source": [
    "imputed_X_train_plus = X_train.copy()\n",
    "imputed_X_test_plus = X_test.copy()\n",
    "\n",
    "imputed_X_train = my_imputer.fit_transform(X_train)\n",
    "imputed_X_test = my_imputer.transform(X_test)\n",
    "print(\"Mean Absolute Error from Imputation:\")\n",
    "print(logistic_regression_score_dataset(imputed_X_train, imputed_X_test, y_train, y_test))"
   ],
   "metadata": {
    "collapsed": false,
    "pycharm": {
     "name": "#%%\n"
    }
   }
  },
  {
   "cell_type": "markdown",
   "source": [
    "We can see that the imputation (without tracking columns) significantly improves the result of the logistic regression.\n",
    "We can diagnose our results using a Confusion Matrix.\n",
    "\n",
    "A confusion matrix is a table that is used to evaluate the performance of a classification model. You can also visualize the performance of an algorithm.\n",
    "The fundamental of a confusion matrix is the number of correct and incorrect predictions are summed up class-wise."
   ],
   "metadata": {
    "collapsed": false,
    "pycharm": {
     "name": "#%% md\n"
    }
   }
  },
  {
   "cell_type": "code",
   "execution_count": 38,
   "outputs": [
    {
     "name": "stderr",
     "output_type": "stream",
     "text": [
      "/Users/clast/Documents/2021_projects/rds-course/.venv/lib/python3.7/site-packages/sklearn/linear_model/_logistic.py:765: ConvergenceWarning: lbfgs failed to converge (status=1):\n",
      "STOP: TOTAL NO. of ITERATIONS REACHED LIMIT.\n",
      "\n",
      "Increase the number of iterations (max_iter) or scale the data as shown in:\n",
      "    https://scikit-learn.org/stable/modules/preprocessing.html\n",
      "Please also refer to the documentation for alternative solver options:\n",
      "    https://scikit-learn.org/stable/modules/linear_model.html#logistic-regression\n",
      "  extra_warning_msg=_LOGISTIC_SOLVER_CONVERGENCE_MSG)\n"
     ]
    },
    {
     "data": {
      "text/plain": "array([[  890,   503],\n       [  310, 11365]])"
     },
     "execution_count": 38,
     "metadata": {},
     "output_type": "execute_result"
    }
   ],
   "source": [
    "# import the metrics class\n",
    "from sklearn import metrics\n",
    "\n",
    "def get_prediction(X_train, X_test, y_train):\n",
    "    model = LogisticRegression()\n",
    "    model.fit(X_train, y_train)\n",
    "    preds = model.predict(X_test)\n",
    "    return preds\n",
    "\n",
    "y_pred = get_prediction(imputed_X_train, imputed_X_test, y_train)\n",
    "\n",
    "cnf_matrix = metrics.confusion_matrix(y_test, y_pred)\n",
    "cnf_matrix"
   ],
   "metadata": {
    "collapsed": false,
    "pycharm": {
     "name": "#%%\n"
    }
   }
  },
  {
   "cell_type": "markdown",
   "source": [
    "Here, you can see the confusion matrix in the form of the array object.\n",
    "The dimension of this matrix is 2*2 because this model is binary classification.\n",
    "You have two classes 0 representing \"poor health\" and 1, representing \"good health\".\n",
    "Diagonal values represent accurate predictions, while non-diagonal elements are inaccurate predictions.\n",
    "\n",
    "In the output, `44` and `571` are actual predictions (`44` is the number of true \"poor health\" predictions, and `571` is the number of ture \"good health\" predictions).\n",
    "`34` and `27` are incorrect predictions (`34` is the number of \"poor health\" predictions predicted incorrectly as \"good health\",\n",
    "and `310` is the number of false \"good health\" predictions).\n"
   ],
   "metadata": {
    "collapsed": false,
    "pycharm": {
     "name": "#%% md\n"
    }
   }
  },
  {
   "cell_type": "markdown",
   "source": [
    "<div class=\"alert alert-block alert-warning\"> This model overly predicts \"good health\" outcomes, and may benefit from oversampling\n",
    "surveyed respondents which self-report \"poor health\". </code> </div>"
   ],
   "metadata": {
    "collapsed": false
   }
  },
  {
   "cell_type": "code",
   "execution_count": 39,
   "outputs": [
    {
     "name": "stdout",
     "output_type": "stream",
     "text": [
      "Accuracy: 0.9377869605142333\n",
      "Precision: 0.9576171216717223\n",
      "Recall: 0.9734475374732334\n"
     ]
    },
    {
     "data": {
      "text/plain": "<Figure size 432x288 with 2 Axes>",
      "image/png": "[encoded data removed]"
     },
     "metadata": {
      "needs_background": "light"
     },
     "output_type": "display_data"
    }
   ],
   "source": [
    "class_names=[0,1] # name  of classes\n",
    "fig, ax = plt.subplots()\n",
    "tick_marks = np.arange(len(class_names))\n",
    "plt.xticks(tick_marks, class_names)\n",
    "plt.yticks(tick_marks, class_names)\n",
    "# create heatmap\n",
    "sns.heatmap(pd.DataFrame(cnf_matrix), annot=True, cmap=\"YlGnBu\" ,fmt='g')\n",
    "ax.xaxis.set_label_position(\"top\")\n",
    "plt.tight_layout()\n",
    "plt.title('Confusion matrix', y=1.1)\n",
    "plt.ylabel('Actual label')\n",
    "plt.xlabel('Predicted label')\n",
    "\n",
    "print(\"Accuracy:\",metrics.accuracy_score(y_test, y_pred))\n",
    "print(\"Precision:\",metrics.precision_score(y_test, y_pred))\n",
    "print(\"Recall:\",metrics.recall_score(y_test, y_pred))\n"
   ],
   "metadata": {
    "collapsed": false,
    "pycharm": {
     "name": "#%%\n"
    }
   }
  },
  {
   "cell_type": "markdown",
   "source": [
    "## Model Evaluation\n",
    "We can see that the logistic regression model does well when most of the predictions are \"good health\"\n",
    "This is because of dataset imbalances, we can see these below in our classification of `self-reported health`."
   ],
   "metadata": {
    "collapsed": false
   }
  },
  {
   "cell_type": "code",
   "execution_count": 42,
   "outputs": [
    {
     "data": {
      "text/plain": "1    11868\n0     1200\nName: 0, dtype: int64"
     },
     "execution_count": 42,
     "metadata": {},
     "output_type": "execute_result"
    }
   ],
   "source": [
    "predictions = pd.DataFrame(y_pred)\n",
    "predictions[0].value_counts()"
   ],
   "metadata": {
    "collapsed": false,
    "pycharm": {
     "name": "#%%\n"
    }
   }
  },
  {
   "cell_type": "markdown",
   "source": [
    "We can see that `\"good health\"` is almost 10x better represented than `\"poor health\"`.\n",
    "\n",
    "We are able to use different techniques to reduce the imbalanced nature of the dataset we are using for training and testing.\n",
    "One of these is \"oversampling\" from minority classes."
   ],
   "metadata": {
    "collapsed": false,
    "pycharm": {
     "name": "#%% md\n"
    }
   }
  },
  {
   "cell_type": "code",
   "execution_count": 52,
   "outputs": [
    {
     "data": {
      "text/plain": "1    1389\n0    1389\nName: Y11_Q42_binary, dtype: int64"
     },
     "execution_count": 52,
     "metadata": {},
     "output_type": "execute_result"
    }
   ],
   "source": [
    "from sklearn.utils import resample\n",
    "\n",
    "# concatenate our training data back together\n",
    "X = pd.concat([X_train, y_train], axis=1)\n",
    "# separate minority and majority classes\n",
    "poor_health = X[X.Health_condition_binary==0]\n",
    "good_health = X[X.Health_condition_binary==1]\n",
    "\n",
    "# upsample minority\n",
    "poor_health_upsampled = resample(poor_health,\n",
    "                          replace=True, # sample with replacement\n",
    "                          n_samples=len(good_health), # match number in majority class\n",
    "                          random_state=27) # reproducible results\n",
    "\n",
    "# combine majority and upsampled minority\n",
    "upsampled = pd.concat([good_health, poor_health_upsampled])\n",
    "\n",
    "# check new class counts\n",
    "upsampled.Health_condition_binary.value_counts()"
   ],
   "metadata": {
    "collapsed": false,
    "pycharm": {
     "name": "#%%\n"
    }
   }
  },
  {
   "cell_type": "markdown",
   "source": [
    "After resampling we have an equal ratio of data points for each class! Let’s try our logistic regression again with the balanced training data."
   ],
   "metadata": {
    "collapsed": false,
    "pycharm": {
     "name": "#%% md\n"
    }
   }
  },
  {
   "cell_type": "code",
   "execution_count": 56,
   "outputs": [
    {
     "name": "stdout",
     "output_type": "stream",
     "text": [
      "Mean Absolute Error from Imputation:\n",
      "0.08875739644970414\n"
     ]
    },
    {
     "name": "stderr",
     "output_type": "stream",
     "text": [
      "/Users/clast/Documents/2021_projects/rds-course/.venv/lib/python3.7/site-packages/sklearn/linear_model/_logistic.py:765: ConvergenceWarning: lbfgs failed to converge (status=1):\n",
      "STOP: TOTAL NO. of ITERATIONS REACHED LIMIT.\n",
      "\n",
      "Increase the number of iterations (max_iter) or scale the data as shown in:\n",
      "    https://scikit-learn.org/stable/modules/preprocessing.html\n",
      "Please also refer to the documentation for alternative solver options:\n",
      "    https://scikit-learn.org/stable/modules/linear_model.html#logistic-regression\n",
      "  extra_warning_msg=_LOGISTIC_SOLVER_CONVERGENCE_MSG)\n",
      "/Users/clast/Documents/2021_projects/rds-course/.venv/lib/python3.7/site-packages/sklearn/linear_model/_logistic.py:765: ConvergenceWarning: lbfgs failed to converge (status=1):\n",
      "STOP: TOTAL NO. of ITERATIONS REACHED LIMIT.\n",
      "\n",
      "Increase the number of iterations (max_iter) or scale the data as shown in:\n",
      "    https://scikit-learn.org/stable/modules/preprocessing.html\n",
      "Please also refer to the documentation for alternative solver options:\n",
      "    https://scikit-learn.org/stable/modules/linear_model.html#logistic-regression\n",
      "  extra_warning_msg=_LOGISTIC_SOLVER_CONVERGENCE_MSG)\n"
     ]
    },
    {
     "name": "stdout",
     "output_type": "stream",
     "text": [
      "Accuracy: 0.9112426035502958\n",
      "Precision: 0.9735915492957746\n",
      "Recall: 0.9247491638795987\n"
     ]
    },
    {
     "data": {
      "text/plain": "<Figure size 432x288 with 2 Axes>",
      "image/png": "[encoded data removed]"
     },
     "metadata": {
      "needs_background": "light"
     },
     "output_type": "display_data"
    }
   ],
   "source": [
    "y_train_upsampled = upsampled.Health_condition_binary\n",
    "X_train_upsampled = upsampled.drop('Health_condition_binary', axis=1)\n",
    "\n",
    "imputed_X_train_upsampled = my_imputer.fit_transform(X_train_upsampled)\n",
    "imputed_X_test = my_imputer.transform(X_test)\n",
    "print(\"Mean Absolute Error from Imputation:\")\n",
    "print(logistic_regression_score_dataset(imputed_X_train_upsampled, imputed_X_test, y_train_upsampled, y_test))\n",
    "y_upsampled_pred = get_prediction(imputed_X_train_upsampled, imputed_X_test, y_train_upsampled)\n",
    "\n",
    "cnf_matrix = metrics.confusion_matrix(y_test, y_upsampled_pred)\n",
    "\n",
    "sns.heatmap(pd.DataFrame(cnf_matrix), annot=True, cmap=\"YlGnBu\" ,fmt='g')\n",
    "ax.xaxis.set_label_position(\"top\")\n",
    "plt.tight_layout()\n",
    "plt.title('Confusion matrix', y=1.1)\n",
    "plt.ylabel('Actual label')\n",
    "plt.xlabel('Predicted label')\n",
    "\n",
    "print(\"Accuracy:\",metrics.accuracy_score(y_test, y_upsampled_pred))\n",
    "print(\"Precision:\",metrics.precision_score(y_test, y_upsampled_pred))\n",
    "print(\"Recall:\",metrics.recall_score(y_test, y_upsampled_pred))"
   ],
   "metadata": {
    "collapsed": false,
    "pycharm": {
     "name": "#%%\n"
    }
   }
  },
  {
   "cell_type": "markdown",
   "source": [
    "The precision of the model increased, however, the model is less accurate with upsampling.\n",
    "\n",
    "# Modelling just the UK\n",
    "\n",
    "Here we want to select the UK from the data and see if we can build a country-specific logistic regression model.\n",
    "\n",
    "![country-metadata](\"https://raw.githubusercontent.com/alan-turing-institute/rds-course/hands-on/data-analysis/assets/metadata-country.png\")\n",
    "\n",
    "The country code for selecting the UK is `27.0`"
   ],
   "metadata": {
    "collapsed": false,
    "pycharm": {
     "name": "#%% md\n"
    }
   }
  },
  {
   "cell_type": "code",
   "execution_count": 82,
   "outputs": [
    {
     "name": "stdout",
     "output_type": "stream",
     "text": [
      "Mean Absolute Error for the UK from Imputation:\n",
      "0.09023668639053255\n"
     ]
    },
    {
     "name": "stderr",
     "output_type": "stream",
     "text": [
      "/Users/clast/Documents/2021_projects/rds-course/.venv/lib/python3.7/site-packages/sklearn/linear_model/_logistic.py:765: ConvergenceWarning: lbfgs failed to converge (status=1):\n",
      "STOP: TOTAL NO. of ITERATIONS REACHED LIMIT.\n",
      "\n",
      "Increase the number of iterations (max_iter) or scale the data as shown in:\n",
      "    https://scikit-learn.org/stable/modules/preprocessing.html\n",
      "Please also refer to the documentation for alternative solver options:\n",
      "    https://scikit-learn.org/stable/modules/linear_model.html#logistic-regression\n",
      "  extra_warning_msg=_LOGISTIC_SOLVER_CONVERGENCE_MSG)\n"
     ]
    }
   ],
   "source": [
    "feature_2011_UK_columns = eqls_2011_df_target_nona.drop(columns=['RowID', 'URIRowID', 'UniqueID'])\n",
    "\n",
    "feature_2011_UK_columns = feature_2011_UK_columns.loc[feature_2011_UK_columns['Y11_Country'] == 27.0]\n",
    "\n",
    "eqls_2011_UK_target = feature_2011_UK_columns.Health_condition_binary\n",
    "eqls_2011_UK_predictors = feature_2011_UK_columns.drop(['Health_condition_binary','Health_condition'], axis=1)\n",
    "\n",
    "# For the sake of keeping the example simple, we'll use only numeric predictors.\n",
    "eqls_2011_UK_numeric_predictors = eqls_2011_UK_predictors.select_dtypes(exclude=['object'])\n",
    "\n",
    "X_train, X_test, y_train, y_test = train_test_split(eqls_2011_UK_numeric_predictors,\n",
    "                                                    eqls_2011_UK_target,\n",
    "                                                    train_size=0.7,\n",
    "                                                    test_size=0.3,\n",
    "                                                    random_state=0)\n",
    "# Imputation\n",
    "my_imputer = SimpleImputer()\n",
    "imputed_X_train = my_imputer.fit_transform(X_train)\n",
    "imputed_X_test = my_imputer.transform(X_test)\n",
    "print(\"Mean Absolute Error for the UK from Imputation:\")\n",
    "print(logistic_regression_score_dataset(imputed_X_train, imputed_X_test, y_train, y_test))"
   ],
   "metadata": {
    "collapsed": false,
    "pycharm": {
     "name": "#%%\n"
    }
   }
  },
  {
   "cell_type": "markdown",
   "source": [
    "We can see that Logistic regression performs using only UK data performs similar to the total country model, suggesting that country is not a large determinant of why\n",
    "individuals self-reported health. Let's retrieve this model and test it on two additional country data."
   ],
   "metadata": {
    "collapsed": false,
    "pycharm": {
     "name": "#%% md\n"
    }
   }
  },
  {
   "cell_type": "code",
   "execution_count": 107,
   "outputs": [
    {
     "name": "stdout",
     "output_type": "stream",
     "text": [
      "intercept for predictor 'Y11_Agecategory': [3.38013001] \n",
      "coefficient for 'Y11_Agecategory': [-0.3647923]\n"
     ]
    }
   ],
   "source": [
    "features = (\"Y11_Agecategory\") # try to add more predictor variables here\n",
    "\n",
    "def get_model_coefficients(X_train, y_train, *args):\n",
    "    model = LogisticRegression()\n",
    "    for value in args:\n",
    "        predictor = X_train[f\"{value}\"]\n",
    "        predictor = predictor.values.reshape(-1, 1)\n",
    "        clf = model.fit(predictor, y_train)\n",
    "        return print(f\"intercept for predictor '{value}': {clf.intercept_} \\ncoefficient for '{value}': {clf.coef_[args.index(value)]}\")\n",
    "\n",
    "get_model_coefficients(X_train, y_train, features)"
   ],
   "metadata": {
    "collapsed": false,
    "pycharm": {
     "name": "#%%\n"
    }
   }
  },
  {
   "cell_type": "markdown",
   "source": [
    "The above code allows us look further at the coefficients. Here is an example of how to extract them (in this instance I have only used\n",
    "`\"Y11_Agecategory\"` to predict\n",
    "\n",
    "Now, Lets select two other countries from the dataset to test the transferability of this model."
   ],
   "metadata": {
    "collapsed": false
   }
  },
  {
   "cell_type": "code",
   "execution_count": 173,
   "outputs": [],
   "source": [
    "feature_2011_other_countries_columns = eqls_2011_df_target_nona.drop(columns=['RowID', 'URIRowID', 'UniqueID'])\n",
    "# Selecting data for the Netherlands\n",
    "feature_2011_NL_columns = feature_2011_other_countries_columns.loc[feature_2011_other_countries_columns['Y11_Country'] == 20.0]\n",
    "# Selecting data for Romania\n",
    "feature_2011_RO_columns = feature_2011_other_countries_columns.loc[feature_2011_other_countries_columns['Y11_Country'] == 23.0]\n",
    "\n",
    "\n",
    "def create_test_data(df):\n",
    "    df_target = df.Health_condition_binary\n",
    "    df_predictors = df.drop(['Health_condition_binary','Health_condition'], axis=1)\n",
    "    df_numeric_predictors = df_predictors.select_dtypes(exclude=['object'])\n",
    "    X_train, X_test, y_train, y_test = train_test_split(df_numeric_predictors,\n",
    "                                                        df_target,\n",
    "                                                        train_size=0.7,\n",
    "                                                        test_size=0.3,\n",
    "                                                        random_state=0)\n",
    "    return X_test, y_test"
   ],
   "metadata": {
    "collapsed": false,
    "pycharm": {
     "name": "#%%\n"
    }
   }
  },
  {
   "cell_type": "code",
   "execution_count": 174,
   "outputs": [
    {
     "name": "stdout",
     "output_type": "stream",
     "text": [
      "Mean Absolute Error for Netherlands from Imputation:\n",
      "0.11551155115511551\n",
      "Mean Absolute Error for Romania from Imputation:\n",
      "0.16666666666666666\n"
     ]
    }
   ],
   "source": [
    "\n",
    "X_test_NL, y_test_NL = create_test_data(feature_2011_NL_columns)\n",
    "X_test_RO, y_test_RO = create_test_data(feature_2011_RO_columns)\n",
    "\n",
    "my_imputer = SimpleImputer()\n",
    "imputed_X_test_RO = my_imputer.fit_transform(X_test_RO)\n",
    "imputed_X_test_NL = my_imputer.fit_transform(X_test_NL)\n",
    "\n",
    "def get_fitted_model(X_train, y_train):\n",
    "    model = LogisticRegression()\n",
    "    return model.fit(X_train, y_train)\n",
    "\n",
    "logistic_regression_model_UK = get_fitted_model(imputed_X_train, y_train)\n",
    "\n",
    "y_pred_NL = logistic_regression_model_UK.predict(imputed_X_test_NL)\n",
    "\n",
    "y_pred_RO = logistic_regression_model_UK.predict(imputed_X_test_RO)\n",
    "\n",
    "#Getting the MAE for both countries using the UK model\n",
    "print(\"Mean Absolute Error for Netherlands from Imputation:\")\n",
    "print(mean_absolute_error(y_test_NL, y_pred_NL))\n",
    "print(\"Mean Absolute Error for Romania from Imputation:\")\n",
    "print(mean_absolute_error(y_test_RO, y_pred_RO))"
   ],
   "metadata": {
    "collapsed": false,
    "pycharm": {
     "name": "#%%\n"
    }
   }
  },
  {
   "cell_type": "markdown",
   "source": [
    "The above error statistics from the `Netherlands` and the `Romania` test set. To repeat, these are predictions are using the UK model to predict\n",
    "self-reported health on test sets for Netherlands and Romania. The MAE for the predictions on Netherlands respondents is\n",
    "higher than the prediction error on the UK test dataset. The Romania model performs even worse than the Netherlands predictions,\n",
    "indicating that the feature importances in the UK model do not best model the features which are important in predicting\n",
    "self-reported health in Romania."
   ],
   "metadata": {
    "collapsed": false,
    "pycharm": {
     "name": "#%% md\n"
    }
   }
  },
  {
   "cell_type": "code",
   "execution_count": 179,
   "outputs": [
    {
     "name": "stdout",
     "output_type": "stream",
     "text": [
      "Accuracy: 0.8844884488448845\n",
      "Precision: 0.8969072164948454\n",
      "Recall: 0.981203007518797\n"
     ]
    },
    {
     "data": {
      "text/plain": "<Figure size 432x288 with 2 Axes>",
      "image/png": "[encoded data removed]"
     },
     "metadata": {
      "needs_background": "light"
     },
     "output_type": "display_data"
    }
   ],
   "source": [
    "cnf_matrix_NL = metrics.confusion_matrix(y_test_NL, y_pred_NL)\n",
    "cnf_matrix_NL\n",
    "\n",
    "class_names=[0,1] # name  of classes\n",
    "fig, ax = plt.subplots()\n",
    "tick_marks = np.arange(len(class_names))\n",
    "plt.xticks(tick_marks, class_names)\n",
    "plt.yticks(tick_marks, class_names)\n",
    "# create heatmap\n",
    "sns.heatmap(pd.DataFrame(cnf_matrix_NL), annot=True, cmap=\"YlGnBu\" ,fmt='g')\n",
    "ax.xaxis.set_label_position(\"top\")\n",
    "plt.tight_layout()\n",
    "plt.title('Confusion matrix for Netherlands Predictions', y=1.1)\n",
    "plt.ylabel('Actual label')\n",
    "plt.xlabel('Predicted label')\n",
    "\n",
    "print(\"Accuracy:\",metrics.accuracy_score(y_test_NL, y_pred_NL))\n",
    "print(\"Precision:\",metrics.precision_score(y_test_NL, y_pred_NL))\n",
    "print(\"Recall:\",metrics.recall_score(y_test_NL, y_pred_NL))\n"
   ],
   "metadata": {
    "collapsed": false,
    "pycharm": {
     "name": "#%%\n"
    }
   }
  },
  {
   "cell_type": "code",
   "execution_count": 178,
   "outputs": [
    {
     "name": "stdout",
     "output_type": "stream",
     "text": [
      "Accuracy: 0.8333333333333334\n",
      "Precision: 0.8321513002364066\n",
      "Recall: 0.9832402234636871\n"
     ]
    },
    {
     "data": {
      "text/plain": "<Figure size 432x288 with 2 Axes>",
      "image/png": "[encoded data removed]"
     },
     "metadata": {
      "needs_background": "light"
     },
     "output_type": "display_data"
    }
   ],
   "source": [
    "cnf_matrix_RO = metrics.confusion_matrix(y_test_RO, y_pred_RO)\n",
    "cnf_matrix_RO\n",
    "\n",
    "class_names=[0,1] # name  of classes\n",
    "fig, ax = plt.subplots()\n",
    "tick_marks = np.arange(len(class_names))\n",
    "plt.xticks(tick_marks, class_names)\n",
    "plt.yticks(tick_marks, class_names)\n",
    "# create heatmap\n",
    "sns.heatmap(pd.DataFrame(cnf_matrix_RO), annot=True, cmap=\"YlGnBu\" ,fmt='g')\n",
    "ax.xaxis.set_label_position(\"top\")\n",
    "plt.tight_layout()\n",
    "plt.title('Confusion matrix for Romania Predictions', y=1.1)\n",
    "plt.ylabel('Actual label')\n",
    "plt.xlabel('Predicted label')\n",
    "\n",
    "print(\"Accuracy:\",metrics.accuracy_score(y_test_RO, y_pred_RO))\n",
    "print(\"Precision:\",metrics.precision_score(y_test_RO, y_pred_RO))\n",
    "print(\"Recall:\",metrics.recall_score(y_test_RO, y_pred_RO))"
   ],
   "metadata": {
    "collapsed": false,
    "pycharm": {
     "name": "#%%\n"
    }
   }
  },
  {
   "cell_type": "markdown",
   "source": [
    "## References\n",
    "European Foundation for the Improvement of Living and Working Conditions, (2015). European Quality of Life Time Series,\n",
    "2007 and 2011: Open Access. UK Data Service. [data collection]. http://doi.org/10.5255/UKDA-SN-7724-1\n",
    "\n"
   ],
   "metadata": {
    "collapsed": false,
    "pycharm": {
     "name": "#%% md\n"
    }
   }
  }
 ],
 "metadata": {
  "kernelspec": {
   "display_name": "Python 3 (ipykernel)",
   "language": "python",
   "name": "python3"
  },
  "language_info": {
   "codemirror_mode": {
    "name": "ipython",
    "version": 3
   },
   "file_extension": ".py",
   "mimetype": "text/x-python",
   "name": "python",
   "nbconvert_exporter": "python",
   "pygments_lexer": "ipython3",
   "version": "3.7.9"
  },
  "pycharm": {
   "stem_cell": {
    "cell_type": "raw",
    "source": [
     "\n"
    ],
    "metadata": {
     "collapsed": false
    }
   }
  }
 },
 "nbformat": 4,
 "nbformat_minor": 5
}