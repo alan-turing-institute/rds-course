{
 "cells": [
  {
   "cell_type": "markdown",
   "source": [
    "## Model Evaluation\n",
    "We can see that the logistic regression model does well when most of the predictions are \"good health\"\n",
    "This is because of dataset imbalances, we can see these below in our classification of `self-reported health`."
   ],
   "metadata": {
    "collapsed": false
   }
  },
  {
   "cell_type": "code",
   "execution_count": 1,
   "outputs": [],
   "source": [
    "# load numpy array from csv file\n",
    "from pathlib import Path\n",
    "import numpy as np\n",
    "import pandas as pd\n",
    "import matplotlib.pyplot as plt\n",
    "import seaborn as sns\n",
    "from sklearn.model_selection import train_test_split\n",
    "\n",
    "# load array\n",
    "root_data_path = Path(\"data\")\n",
    "\n",
    "y_pred = np.loadtxt(str(root_data_path)+f\"/derived_data/y_pred.csv\", delimiter=',')\n",
    "\n",
    "X_train = pd.read_csv(str(root_data_path)+f\"/derived_data/eqls_2011_imputed_X_train.csv\")\n",
    "X_test = pd.read_csv(str(root_data_path)+f\"/derived_data/eqls_2011_imputed_X_test.csv\")\n",
    "y_train = pd.read_csv(str(root_data_path)+f\"/derived_data/eqls_2011_y_train.csv\")\n",
    "y_test = pd.read_csv(str(root_data_path)+f\"/derived_data/eqls_2011_y_test.csv\")\n",
    "\n",
    "feature_2011_other_countries_columns = pd.read_csv(str(root_data_path)+f\"/derived_data/eqls_2011_modelled.csv\")"
   ],
   "metadata": {
    "collapsed": false,
    "pycharm": {
     "name": "#%%\n"
    }
   }
  },
  {
   "cell_type": "code",
   "execution_count": 27,
   "outputs": [
    {
     "data": {
      "text/plain": "1.0    22515\n0.0     1266\nName: 0, dtype: int64"
     },
     "execution_count": 27,
     "metadata": {},
     "output_type": "execute_result"
    }
   ],
   "source": [
    "predictions = pd.DataFrame(y_pred)\n",
    "predictions[0].value_counts()"
   ],
   "metadata": {
    "collapsed": false,
    "pycharm": {
     "name": "#%%\n"
    }
   }
  },
  {
   "cell_type": "markdown",
   "source": [
    "We can see that `\"good health\"` is almost 10x better represented than `\"poor health\"`.\n",
    "\n",
    "We are able to use different techniques to reduce the imbalanced nature of the dataset we are using for training and testing.\n",
    "One of these is \"oversampling\" from minority classes."
   ],
   "metadata": {
    "collapsed": false
   }
  },
  {
   "cell_type": "code",
   "execution_count": 3,
   "outputs": [
    {
     "data": {
      "text/plain": "1    49222\n0    49222\nName: Health_condition_binary, dtype: int64"
     },
     "execution_count": 3,
     "metadata": {},
     "output_type": "execute_result"
    }
   ],
   "source": [
    "from sklearn.utils import resample\n",
    "from sklearn import metrics\n",
    "\n",
    "from sklearn.linear_model import LogisticRegression\n",
    "from sklearn.metrics import mean_absolute_error\n",
    "\n",
    "# concatenate our training data back together\n",
    "X = pd.concat([X_train, y_train], axis=1)\n",
    "# separate minority and majority classes\n",
    "poor_health = X[X.Health_condition_binary==0]\n",
    "good_health = X[X.Health_condition_binary==1]\n",
    "\n",
    "# upsample minority\n",
    "poor_health_upsampled = resample(poor_health,\n",
    "                          replace=True, # sample with replacement\n",
    "                          n_samples=len(good_health), # match number in majority class\n",
    "                          random_state=27) # reproducible results\n",
    "\n",
    "# combine majority and upsampled minority\n",
    "upsampled = pd.concat([good_health, poor_health_upsampled])\n",
    "\n",
    "# check new class counts\n",
    "upsampled.Health_condition_binary.value_counts()"
   ],
   "metadata": {
    "collapsed": false,
    "pycharm": {
     "name": "#%%\n"
    }
   }
  },
  {
   "cell_type": "markdown",
   "source": [
    "After resampling we have an equal ratio of data points for each class! Let’s try our logistic regression again with the balanced training data."
   ],
   "metadata": {
    "collapsed": false
   }
  },
  {
   "cell_type": "code",
   "execution_count": 4,
   "outputs": [],
   "source": [
    "from sklearn.base import TransformerMixin\n",
    "\n",
    "class DataFrameImputer(TransformerMixin):\n",
    "\n",
    "    def __init__(self):\n",
    "        \"\"\"Impute missing values.\n",
    "\n",
    "        Columns of dtype object are imputed with the most frequent value\n",
    "        in column.\n",
    "\n",
    "        Columns of other types are imputed with mean of column.\n",
    "\n",
    "        \"\"\"\n",
    "    def fit(self, X, y=None):\n",
    "\n",
    "        self.fill = pd.Series([X[c].value_counts().index[0]\n",
    "            if X[c].dtype == np.dtype('O') else X[c].mean() for c in X],\n",
    "            index=X.columns)\n",
    "\n",
    "        return self\n",
    "\n",
    "    def transform(self, X, y=None):\n",
    "        return X.fillna(self.fill)\n"
   ],
   "metadata": {
    "collapsed": false,
    "pycharm": {
     "name": "#%%\n"
    }
   }
  },
  {
   "cell_type": "code",
   "execution_count": 5,
   "outputs": [],
   "source": [
    "y_train_upsampled = upsampled.Health_condition_binary\n",
    "X_train_upsampled = upsampled.drop('Health_condition_binary', axis=1)\n"
   ],
   "metadata": {
    "collapsed": false,
    "pycharm": {
     "name": "#%%\n"
    }
   }
  },
  {
   "cell_type": "code",
   "execution_count": 6,
   "outputs": [],
   "source": [
    "#Using imputer to impute missing data from upsampled data\n",
    "imputed_X_train_upsampled = DataFrameImputer().fit_transform(X_train_upsampled)\n",
    "imputed_X_test = DataFrameImputer().fit_transform(X_test)"
   ],
   "metadata": {
    "collapsed": false,
    "pycharm": {
     "name": "#%%\n"
    }
   }
  },
  {
   "cell_type": "code",
   "execution_count": 7,
   "outputs": [
    {
     "name": "stdout",
     "output_type": "stream",
     "text": [
      "Mean Absolute Error from Imputation:\n"
     ]
    },
    {
     "name": "stderr",
     "output_type": "stream",
     "text": [
      "/Users/clast/Documents/2021_projects/rds-course/.venv/lib/python3.7/site-packages/sklearn/linear_model/_logistic.py:765: ConvergenceWarning: lbfgs failed to converge (status=1):\n",
      "STOP: TOTAL NO. of ITERATIONS REACHED LIMIT.\n",
      "\n",
      "Increase the number of iterations (max_iter) or scale the data as shown in:\n",
      "    https://scikit-learn.org/stable/modules/preprocessing.html\n",
      "Please also refer to the documentation for alternative solver options:\n",
      "    https://scikit-learn.org/stable/modules/linear_model.html#logistic-regression\n",
      "  extra_warning_msg=_LOGISTIC_SOLVER_CONVERGENCE_MSG)\n"
     ]
    },
    {
     "name": "stdout",
     "output_type": "stream",
     "text": [
      "0.19532399814978343\n"
     ]
    },
    {
     "name": "stderr",
     "output_type": "stream",
     "text": [
      "/Users/clast/Documents/2021_projects/rds-course/.venv/lib/python3.7/site-packages/sklearn/linear_model/_logistic.py:765: ConvergenceWarning: lbfgs failed to converge (status=1):\n",
      "STOP: TOTAL NO. of ITERATIONS REACHED LIMIT.\n",
      "\n",
      "Increase the number of iterations (max_iter) or scale the data as shown in:\n",
      "    https://scikit-learn.org/stable/modules/preprocessing.html\n",
      "Please also refer to the documentation for alternative solver options:\n",
      "    https://scikit-learn.org/stable/modules/linear_model.html#logistic-regression\n",
      "  extra_warning_msg=_LOGISTIC_SOLVER_CONVERGENCE_MSG)\n"
     ]
    },
    {
     "name": "stdout",
     "output_type": "stream",
     "text": [
      "Accuracy: 0.8046760018502166\n",
      "Precision: 0.9718767826583\n",
      "Recall: 0.8040492708480815\n"
     ]
    },
    {
     "data": {
      "text/plain": "<Figure size 432x288 with 2 Axes>",
      "image/png": "[encoded data removed]"
     },
     "metadata": {
      "needs_background": "light"
     },
     "output_type": "display_data"
    }
   ],
   "source": [
    "def logistic_regression_score_dataset(X_train, X_test, y_train, y_test):\n",
    "    model = LogisticRegression()\n",
    "    model.fit(X_train, y_train)\n",
    "    preds = model.predict(X_test)\n",
    "    return mean_absolute_error(y_test, preds)\n",
    "\n",
    "print(\"Mean Absolute Error from Imputation:\")\n",
    "print(logistic_regression_score_dataset(imputed_X_train_upsampled, imputed_X_test, y_train_upsampled, y_test))\n",
    "\n",
    "def get_prediction(X_train, X_test, y_train):\n",
    "    model = LogisticRegression()\n",
    "    model.fit(X_train, y_train)\n",
    "    preds = model.predict(X_test)\n",
    "    return preds\n",
    "\n",
    "\n",
    "y_upsampled_pred = get_prediction(imputed_X_train_upsampled, imputed_X_test, y_train_upsampled)\n",
    "\n",
    "cnf_matrix = metrics.confusion_matrix(y_test, y_upsampled_pred)\n",
    "\n",
    "sns.heatmap(pd.DataFrame(cnf_matrix), annot=True, cmap=\"YlGnBu\" ,fmt='g')\n",
    "plt.tight_layout()\n",
    "plt.title('Confusion matrix', y=1.1)\n",
    "plt.ylabel('Actual label')\n",
    "plt.xlabel('Predicted label')\n",
    "\n",
    "print(\"Accuracy:\",metrics.accuracy_score(y_test, y_upsampled_pred))\n",
    "print(\"Precision:\",metrics.precision_score(y_test, y_upsampled_pred))\n",
    "print(\"Recall:\",metrics.recall_score(y_test, y_upsampled_pred))\n"
   ],
   "metadata": {
    "collapsed": false,
    "pycharm": {
     "name": "#%%\n"
    }
   }
  },
  {
   "cell_type": "code",
   "execution_count": 8,
   "outputs": [
    {
     "name": "stderr",
     "output_type": "stream",
     "text": [
      "/Users/clast/Documents/2021_projects/rds-course/.venv/lib/python3.7/site-packages/sklearn/linear_model/_logistic.py:765: ConvergenceWarning: lbfgs failed to converge (status=1):\n",
      "STOP: TOTAL NO. of ITERATIONS REACHED LIMIT.\n",
      "\n",
      "Increase the number of iterations (max_iter) or scale the data as shown in:\n",
      "    https://scikit-learn.org/stable/modules/preprocessing.html\n",
      "Please also refer to the documentation for alternative solver options:\n",
      "    https://scikit-learn.org/stable/modules/linear_model.html#logistic-regression\n",
      "  extra_warning_msg=_LOGISTIC_SOLVER_CONVERGENCE_MSG)\n"
     ]
    },
    {
     "name": "stdout",
     "output_type": "stream",
     "text": [
      "intercept for the model is: [-0.00083764]\n",
      "coefficient for 'Country': -0.004145986679721337\n",
      "coefficient for 'Marital_status': 0.022178534168406063\n",
      "coefficient for 'No_of_children': -0.002733779459933688\n",
      "coefficient for 'Education_completed': 0.06434570607052235\n",
      "coefficient for 'Ruralurban_living': 0.017076857397362505\n",
      "coefficient for 'Citizenship__Country': -0.016286647609413132\n",
      "coefficient for 'Citizenship__Another_EU_member': 0.009557331777702141\n",
      "coefficient for 'Citizenship__A_nonEU_country': 0.0019160149700238633\n",
      "coefficient for 'Citizenship__Dont_know': 0.00011207155873197748\n",
      "coefficient for 'Citizenship__Refusal': -0.0026900044734297717\n",
      "coefficient for 'Age': -0.5163533457866484\n",
      "coefficient for 'Gender': 0.08733601735702243\n",
      "coefficient for 'Household_size': 0.09599192305329907\n",
      "coefficient for 'Household_size__over_18': -0.08480980474044052\n",
      "coefficient for 'Household_structure': -0.02929507478055718\n",
      "coefficient for 'Education__3_groups': 0.005155611433865584\n",
      "coefficient for 'Employment__7_groups': -0.13292896108872018\n",
      "coefficient for 'Income_quartiles': 0.11034194769239175\n",
      "coefficient for 'DV_Ruralurban_living': 4.4755845602228864e-05\n",
      "coefficient for 'Degree_of_urbanisation': -0.06975798089970725\n",
      "coefficient for 'Country_group': -0.14029433162913466\n",
      "coefficient for 'Direct_contact_with_children': 0.01183132559527856\n",
      "coefficient for 'Direct_contact_with_parents': -0.053663293078997254\n",
      "coefficient for 'Direct_contact_with_other_relatives': 0.01076786212204968\n",
      "coefficient for 'Direct_contact_with_neighbours': 0.07384408359079567\n",
      "coefficient for 'Phoneinternet_contact_with_children': -0.005466817760880066\n",
      "coefficient for 'Phoneinternet_contact_with_parents': 0.04629287123983783\n",
      "coefficient for 'Phoneinternet_contact_with_other_relatives': -0.03658033643990139\n",
      "coefficient for 'Phoneinternet_contact_with_neighbours': -0.013063907831159774\n",
      "coefficient for 'A_person_to_get_support_from_to_help_around_house_': -0.054185302297521\n",
      "coefficient for 'A_person_to_get_advice_from_about_a_personalfamily_matter': -0.03889126619174553\n",
      "coefficient for 'A_person_to_get_support_from_when_looking_for_a_job': 0.01862965863580873\n",
      "coefficient for 'A_person_to_get_support_from_when_feeling_depressed': -0.006899002460572214\n",
      "coefficient for 'A_person_to_get_support_from_to_raise_emergency_money': -0.011324707683516344\n",
      "coefficient for 'No_of_rooms_in_accommodation': 0.03603353982548377\n",
      "coefficient for 'Tenure': -0.05346161259360423\n",
      "coefficient for 'Problems_with_accommodation__space': -0.04959574613295552\n",
      "coefficient for 'Problems_with_accommodation__rot_in_windows_etc': -0.016276976906351392\n",
      "coefficient for 'Problems_with_accommodation__damp_or_leaks': 0.03876438004274473\n",
      "coefficient for 'Problems_with_accommodation__no_toilet': 0.021058633540272223\n",
      "coefficient for 'Problems_with_accommodation__no_bathshower': 0.04824195185594103\n",
      "coefficient for 'Problems_with_accommodation__no_outside_space': 0.00825973846016134\n",
      "coefficient for 'Likelihood_of_leaving_accom_within_6_months': 0.011264484385436903\n",
      "coefficient for 'Neighbourhood_problems__noise': -0.0594727179531005\n",
      "coefficient for 'Neighbourhood_problems__air_quality': -0.0499334057085786\n",
      "coefficient for 'Neighbourhood_problems__quality_of_drinking_water': -0.0817859011293171\n",
      "coefficient for 'Neighbourhood_problems__crime_violence_or_vandalism': 0.020882093230076875\n",
      "coefficient for 'Neighbourhood_problems__litter_or_rubbish': -0.016359998157287284\n",
      "coefficient for 'Neighbourhood_problems__traffic': -0.024272991038680136\n",
      "coefficient for 'No_of_problems_with_accommodation': -0.061338565664053726\n",
      "coefficient for 'Difficult_to_see_a_doctor_because_of_distance': 0.36442447514803167\n",
      "coefficient for 'Difficult_to_see_a_doctor_because_of_delay_in_getting_appointment': 0.1046718416939878\n",
      "coefficient for 'Difficult_to_see_a_doctor_because_of_waiting_time': 0.005643698898039597\n",
      "coefficient for 'Difficult_to_see_a_doctor_because_of_cost': 0.0063485563432401715\n",
      "coefficient for 'Difficult_to_see_a_doctor_because_of_lack_of_time': -0.11464377360271998\n",
      "coefficient for 'Access_to_postal_services': 0.025574517737029148\n",
      "coefficient for 'Access_to_banking_services': -0.025069226244735746\n",
      "coefficient for 'Access_to_public_transport': -0.00443123630459509\n",
      "coefficient for 'Access_to_cinema_theatre_and_cultural_centre': 0.01947722556027349\n",
      "coefficient for 'Access_to_recreational_or_green_areas': -0.006883294118856858\n",
      "coefficient for 'How_much_time_spent_on_travelling_to_workstudy': 0.00013597001354952057\n",
      "coefficient for 'Quality_of_health_services': -0.00612760954969029\n",
      "coefficient for 'Quality_of_education_system': -0.006251435674018326\n",
      "coefficient for 'Quality_of_public_transport': -0.0092926416621248\n",
      "coefficient for 'Quality_of_child_care_services': 0.00239395856043449\n",
      "coefficient for 'Quality_of_long_term_care_services': 0.04954619207076844\n",
      "coefficient for 'Quality_of_socialmunicipal_housing': -0.020892677850899273\n",
      "coefficient for 'Quality_of_state_pension_system': 0.023507277244552812\n",
      "coefficient for 'I_or_someone_else_in_household_used_child_care_in_12_months': 0.011390734208569698\n",
      "coefficient for 'Someone_close_outside_household_used_child_care_in_12_months': 0.003994207102353299\n",
      "coefficient for 'Nobody_used_child_care_in_12_months': -0.01741522859534707\n",
      "coefficient for 'Child_care_used_in_12_months__dont_know': 0.01409646282390401\n",
      "coefficient for 'Child_care_used_in_12_months__refusal': -0.014719916397741162\n",
      "coefficient for 'I_or_someone_else_in_household_used_long_term_care_in_12_months': -0.05251321011230522\n",
      "coefficient for 'Someone_close_outside_household_used_long_term_care_in_12_months': 0.006665793343224974\n",
      "coefficient for 'Nobody_used_long_term_care_in_12_months': 0.045506109206516314\n",
      "coefficient for 'Long_term_care_used_in_12_months__dont_know': 0.006716936763574827\n",
      "coefficient for 'Long_term_care_used_in_12_months__refusal': -0.014281108553352255\n",
      "coefficient for 'Difficult_to_use_child_care_because_of_cost': -0.06256036877510537\n",
      "coefficient for 'Difficult_to_use_child_care_because_of_availability': -0.010747971433463724\n",
      "coefficient for 'Difficult_to_use_child_care_because_of_access': -0.012465377659732926\n",
      "coefficient for 'Difficult_to_use_child_care_because_of_quality_of_care': 0.004001820818137596\n",
      "coefficient for 'Difficult_to_use_long_term_care_because_of_cost': -0.06611678738411378\n",
      "coefficient for 'Difficult_to_use_long_term_care_because_of_availability': -0.01716788057446439\n",
      "coefficient for 'Difficult_to_use_long_term_care_because_of_access': -0.03324778869320553\n",
      "coefficient for 'Difficult_to_use_long_term_care_because_of_quality_of_care': -0.028360062220112333\n",
      "coefficient for 'Can_most_people_be_trusted': -0.0014906828323282923\n",
      "coefficient for 'How_much_tension_between_Poor_and_Rich': 0.06386723030616794\n",
      "coefficient for 'How_much_tension_between_Management_and_Workers': 0.0007519964152104292\n",
      "coefficient for 'How_much_tension_between_Men_and_Women': 0.011049831273624258\n",
      "coefficient for 'How_much_tension_between_Old_and_Young_people': 0.12409654194663097\n",
      "coefficient for 'How_much_tension_between_different_racialethnic_groups': -0.061861804761829675\n",
      "coefficient for 'How_much_tension_between_different_religious_groups': -0.0371896867662591\n",
      "coefficient for 'How_much_tension_between_groups_with_different_sexual_orientation': -0.033690362047920086\n",
      "coefficient for 'How_much_trust_the_parliament': 0.026403879063145643\n",
      "coefficient for 'How_much_trust_the_legal_system': -0.017942774995024408\n",
      "coefficient for 'How_much_trust_the_press': -0.005042980945975544\n",
      "coefficient for 'How_much_trust_the_police': -0.009730650638305494\n",
      "coefficient for 'How_much_trust_the_government': -0.008050928684515563\n",
      "coefficient for 'How_much_trust_the_local_authorities': -0.0015842695618008351\n",
      "coefficient for 'How_frequently_attend_religious_services': -0.07986425196845492\n",
      "coefficient for 'How_frequently_use_the_Internet_other_than_for_work': 0.030334392181804736\n",
      "coefficient for 'How_frequently_take_part_in_sports_or_exercise': -0.11581225521544047\n",
      "coefficient for 'How_frequently_participate_in_social_activities': 0.04446473207612976\n",
      "coefficient for 'How_often_worked_unpaid_for_community_services_last_12_months': 0.07555299132924888\n",
      "coefficient for 'How_often_worked_unpaid_for_educationcultural_etc_organisation_last_12_months': -0.004316435734223228\n",
      "coefficient for 'How_often_worked_unpaid_for_social_movementscharities_last_12_months': -0.008877395129144133\n",
      "coefficient for 'How_often_worked_unpaid_for_political_parties_or_trade_unions_last_12_months': -0.038506060580167895\n",
      "coefficient for 'How_often_worked_unpaid_for_other_voluntary_org_last_12_months': 0.013669883978327014\n",
      "coefficient for 'Attended_a_trade_unionpolitical_party_meeting_last_12_months': 0.02964317599045414\n",
      "coefficient for 'Attended_a_protest_or_demonstration_last_12_months': -0.017990064614297398\n",
      "coefficient for 'Signed_a_petition_last_12_months': 0.019072158089628154\n",
      "coefficient for 'Contacted_a_politician_last_12_months': 0.08498676307254295\n",
      "coefficient for 'Feel_left_out_of_sociey': 0.0829349773202967\n",
      "coefficient for 'Cant_find_the_way_because_life_has_become_so_complicated': -0.03197227380011712\n",
      "coefficient for 'The_value_of_what_I_do_is_not_recognised_by_others': -0.026739996910724873\n",
      "coefficient for 'People_look_down_on_me_because_of_my_job_situation_or_income': 0.07745616653344528\n",
      "coefficient for 'Feel_close_to_people_in_the_area_where_I_live': -0.0452816814266228\n",
      "coefficient for 'Social_Exclusion_Index': 0.0036931668904779448\n",
      "coefficient for 'Volunteering_frequency': 0.024138853189220735\n",
      "coefficient for 'Personal_financial_situation': 0.03729730966238875\n",
      "coefficient for 'Household_able_to_make_ends_meet': -0.024635685016174014\n",
      "coefficient for 'Can_afford_to_keep_home_adequately_warm': -0.002572855280180898\n",
      "coefficient for 'Can_afford_to_pay_for_a_weeks_annual_holiday_away': -0.05058301517051539\n",
      "coefficient for 'Can_afford_to_replace_any_wornout_furniture': 0.003080207394708433\n",
      "coefficient for 'Can_afford_a_meal_with_meatchickenfish_every_second_day': -0.02457510206426799\n",
      "coefficient for 'Can_afford_to_buy_new_rather_than_secondhand_clothes': -0.11218551551285284\n",
      "coefficient for 'Can_afford_to_have_friends_or_family_for_a_drinkmeal_at_least_once_a_month': -0.026154998517942243\n",
      "coefficient for 'Rentmortgage_payments_for_accommodation': -0.040718144824430896\n",
      "coefficient for 'Utility_bills_such_as_electricity_water_gas': -0.05167861388001715\n",
      "coefficient for 'Payments_for_consumer_loanscredit_cards': -0.018932531306773935\n",
      "coefficient for 'Payments_for_informal_loans_from_friendsrelatives': -0.02526985709053028\n",
      "coefficient for 'Financial_situation_of_your_household_compared_to_12_months_ago': 0.05498055990751086\n",
      "coefficient for 'Household_financial_expectations_for_th_12_months': -6.643663166907318e-06\n",
      "coefficient for 'Deprivation_index_No_of_items_hhold_cant_afford': -0.032322504702774174\n",
      "coefficient for 'I_am_optimistic_about_the_future': 0.011023456143737927\n",
      "coefficient for 'I_generally_feel_that_what_I_do_in_life_is_worthwhile': 0.018365103460151532\n",
      "coefficient for 'I_feel_I_am_free_to_decide_how_to_live_my_life': -0.004428476541175482\n",
      "coefficient for 'I_seldom_have_time_to_do_the_things_I_really_enjoy': -0.06739754363210332\n",
      "coefficient for 'How_satisfied_with_life_these_days': 0.04709656408074642\n",
      "coefficient for 'How_satisfied_with_education': -0.014794013770301042\n",
      "coefficient for 'How_satisfied_with_present_job': -0.05605187195300866\n",
      "coefficient for 'How_satisfied_with_present_standard_of_living': 0.014604811048036207\n",
      "coefficient for 'How_satisfied_with_accommodation': -0.019846676543180716\n",
      "coefficient for 'How_satisfied_with_family_life': -0.04617644299627004\n",
      "coefficient for 'How_satisfied_with_social_life': 0.14061841854009816\n",
      "coefficient for 'How_satisfied_with_economic_situation_in_the_country': 0.00034121776931219326\n",
      "coefficient for 'How_happy_are_you': 0.1306056222129761\n",
      "coefficient for 'How_often_felt_cheerful_and_in_good_spirits_last_2_weeks': -0.020130132732366347\n",
      "coefficient for 'How_often_felt_calm_and_relaxed_last_2_weeks': 0.127226559175576\n",
      "coefficient for 'How_often_felt_active_and_vigorous_last_2_weeks': -0.4164636448786336\n",
      "coefficient for 'How_often_woke_up_feeling_fresh_and_rested_last_2_weeks': -0.20022697855903734\n",
      "coefficient for 'How_often_felt_your_daily_life_has_been_filled_with_things_that_interest_you_last_2_weeks': 0.15092124951659805\n",
      "coefficient for 'How_often_felt_particularly_tense_last_2_weeks': 0.11607169791354076\n",
      "coefficient for 'How_often_felt_lonely_last_2_weeks': -0.09897607538427733\n",
      "coefficient for 'How_often_felt_downhearted_and_depressed_last_2_weeks': 0.13493107691815084\n",
      "coefficient for 'WHO5_mental_wellbeing_index': 0.009044800992221259\n",
      "coefficient for 'Final_weight_trimmed_and_standardised': -0.05395853806264069\n",
      "coefficient for 'Crossnational_weight__EU28__to_calculate_averages_for_all_EU_in_2013_incl_Croatia': 0.055711699354855725\n",
      "coefficient for 'Weight_5_total': 0.04253377407082846\n",
      "coefficient for 'How_many_hours_work_per_week_in_1st_job': 0.004973282250874848\n",
      "coefficient for 'How_many_hours_per_week_would_you_prefer_to_work_at_present': 0.004604394122297749\n",
      "coefficient for 'How_many_hours_does_your_partner_work_per_week': 0.003128582125029193\n",
      "coefficient for 'How_many_hours_per_week_would_you_prefer_your_partner_to_work': 0.0005229073703809016\n",
      "coefficient for 'Working_hours_fit_with_familysocial_commitments': 0.014177965744957494\n",
      "coefficient for 'Come_home_from_work_too_tired_to_do_some_of_the_household_jobs': 0.12443580974123329\n",
      "coefficient for 'Difficult_to_fulfil_family_responsibilities_because_of_the_time_at_work': 0.01705644203748596\n",
      "coefficient for 'Difficult_to_concentrate_at_work_because_of_family_responsibilities': -0.09106165083271164\n",
      "coefficient for 'How_likely_to_lose_job_in_6_months': -0.014096541827201953\n",
      "coefficient for 'How_likely_to_find_another_job_of_similar_salary': -0.02669550838877875\n",
      "coefficient for 'How_often_care_for_your_children': -0.02348064114959098\n",
      "coefficient for 'How_often_cook_and_doing_housework': 0.06114880069954343\n",
      "coefficient for 'How_often_care_for_elderly_or_disabled_relatives': -0.003105472885682751\n",
      "coefficient for 'The_share_of_housework_you_do_is_': -0.13750345972535272\n",
      "coefficient for 'As_much_time_as_would_like_with_family_members': 0.03624971604871917\n",
      "coefficient for 'As_much_time_as_would_like_with_others_not_family': -0.03819254186861496\n",
      "coefficient for 'As_much_time_as_would_like_on_own_hobbiesinterests': 0.01658705674264957\n",
      "coefficient for 'As_much_time_as_would_like_on_voluntary_work': -0.04505528666250597\n",
      "coefficient for 'Worklife_balance_conflict': -0.06533107916073323\n",
      "coefficient for 'Worked_at_an_additional_paid_job_last_4_weeks': 0.005987804469923964\n",
      "coefficient for 'How_many_hours_per_week_worked_in_the_additional_job': -0.004280718531495068\n",
      "coefficient for 'DV_Total_number_of_working_hours': 0.023514547782749418\n",
      "coefficient for 'DV_Citizenship': 0.026471190332477915\n",
      "coefficient for 'DV_Anyone_usedwould_have_like_to_use_child_care_last_12_months': -0.030428238045166974\n",
      "coefficient for 'DV_Anyone_usedwould_have_like_to_use_long_term_care_last_12_months': 0.05669572301943465\n",
      "coefficient for 'DV_No_of_factors_which_made_it_difficult_to_use_child_care': 0.06426348701256901\n",
      "coefficient for 'DV_No_of_factors_which_made_it_difficult_to_use_long_term_care': -0.03234644418309866\n",
      "coefficient for 'DV_Preferred_working_hours_3_groups': -0.018985533709102092\n",
      "coefficient for 'DV_Preferred_working_hours_of_respondents_partner_3_groups': 0.05794117638207771\n"
     ]
    },
    {
     "data": {
      "text/plain": "<Figure size 432x288 with 1 Axes>",
      "image/png": "[encoded data removed]"
     },
     "metadata": {
      "needs_background": "light"
     },
     "output_type": "display_data"
    },
    {
     "data": {
      "text/plain": "['Age',\n 'How_often_felt_active_and_vigorous_last_2_weeks',\n 'Difficult_to_see_a_doctor_because_of_distance',\n 'How_often_woke_up_feeling_fresh_and_rested_last_2_weeks',\n 'How_often_felt_your_daily_life_has_been_filled_with_things_that_interest_you_last_2_weeks',\n 'How_satisfied_with_social_life',\n 'Country_group',\n 'The_share_of_housework_you_do_is_',\n 'How_often_felt_downhearted_and_depressed_last_2_weeks',\n 'Employment__7_groups']"
     },
     "execution_count": 8,
     "metadata": {},
     "output_type": "execute_result"
    }
   ],
   "source": [
    "#Creating class to retrieve coefficient info\n",
    "class ModelCoeffients():\n",
    "    def __init__(self, X_train, y_train):\n",
    "        \"\"\"Retrieves the model intercept and coefficients for model evaluation\n",
    "        \"\"\"\n",
    "        self.X_train = X_train\n",
    "        self.y_train = y_train\n",
    "\n",
    "    def get_model_coefficients(self):\n",
    "        model = LogisticRegression()\n",
    "        clf = model.fit(self.X_train, self.y_train)\n",
    "        return clf, list(self.X_train.columns)\n",
    "\n",
    "    def print_model_coefficients(self):\n",
    "        clf, feature_list = self.get_model_coefficients()\n",
    "        print(f\"intercept for the model is: {clf.intercept_}\")\n",
    "        coef_dict = {}\n",
    "        for feature in feature_list:\n",
    "            print(f\"coefficient for '{feature}': {clf.coef_[0][feature_list.index(feature)]}\")\n",
    "            coef_dict[f\"{feature}\"] = clf.coef_[0][feature_list.index(feature)]\n",
    "        return coef_dict\n",
    "\n",
    "#getting coefficients for all country model with upsampling\n",
    "coef_dict = ModelCoeffients(imputed_X_train_upsampled, y_train_upsampled).print_model_coefficients()\n",
    "# plot feature importance\n",
    "plt.bar([x for x in range(len(coef_dict.keys()))], coef_dict.values())\n",
    "plt.show()\n",
    "\n",
    "# getting top 10 features\n",
    "sorted(coef_dict, key=lambda dict_key: abs(coef_dict[dict_key]), reverse=True)[:10]"
   ],
   "metadata": {
    "collapsed": false,
    "pycharm": {
     "name": "#%%\n"
    }
   }
  },
  {
   "cell_type": "markdown",
   "source": [
    "The precision of the model increased, however, the model is less accurate with upsampling.\n",
    "\n",
    "# Modelling just the UK\n",
    "\n",
    "Here we want to select the UK from the data and see if we can build a country-specific logistic regression model.\n",
    "\n",
    "![country-metadata](\"https://raw.githubusercontent.com/alan-turing-institute/rds-course/hands-on/data-analysis/assets/metadata-country.png\")\n",
    "\n",
    "The country code for selecting the UK is `27.0`"
   ],
   "metadata": {
    "collapsed": false
   }
  },
  {
   "cell_type": "code",
   "execution_count": 15,
   "outputs": [
    {
     "name": "stdout",
     "output_type": "stream",
     "text": [
      "Mean Absolute Error for the UK from Imputation:\n",
      "0.11081560283687943\n"
     ]
    },
    {
     "name": "stderr",
     "output_type": "stream",
     "text": [
      "/Users/clast/Documents/2021_projects/rds-course/.venv/lib/python3.7/site-packages/sklearn/linear_model/_logistic.py:765: ConvergenceWarning: lbfgs failed to converge (status=1):\n",
      "STOP: TOTAL NO. of ITERATIONS REACHED LIMIT.\n",
      "\n",
      "Increase the number of iterations (max_iter) or scale the data as shown in:\n",
      "    https://scikit-learn.org/stable/modules/preprocessing.html\n",
      "Please also refer to the documentation for alternative solver options:\n",
      "    https://scikit-learn.org/stable/modules/linear_model.html#logistic-regression\n",
      "  extra_warning_msg=_LOGISTIC_SOLVER_CONVERGENCE_MSG)\n"
     ]
    }
   ],
   "source": [
    "feature_2011_UK_columns = feature_2011_other_countries_columns.loc[feature_2011_other_countries_columns['Country'] == 27.0]\n",
    "\n",
    "eqls_2011_UK_target = feature_2011_UK_columns.Health_condition_binary\n",
    "eqls_2011_UK_predictors = feature_2011_UK_columns.drop(['Health_condition_binary','Health_condition'], axis=1)\n",
    "\n",
    "# For the sake of keeping the example simple, we'll use only numeric predictors.\n",
    "eqls_2011_UK_numeric_predictors = eqls_2011_UK_predictors.select_dtypes(exclude=['object'])\n",
    "\n",
    "X_train, X_test, y_train, y_test = train_test_split(eqls_2011_UK_numeric_predictors,\n",
    "                                                    eqls_2011_UK_target,\n",
    "                                                    train_size=0.7,\n",
    "                                                    test_size=0.3,\n",
    "                                                    random_state=0)\n",
    "# Imputation\n",
    "imputed_X_train_UK = DataFrameImputer().fit_transform(X_train)\n",
    "imputed_X_test_UK = DataFrameImputer().fit_transform(X_test)\n",
    "print(\"Mean Absolute Error for the UK from Imputation:\")\n",
    "print(logistic_regression_score_dataset(imputed_X_train_UK, imputed_X_test_UK, y_train, y_test))"
   ],
   "metadata": {
    "collapsed": false,
    "pycharm": {
     "name": "#%%\n"
    }
   }
  },
  {
   "cell_type": "markdown",
   "source": [
    "Exploring the feature importance for the Country-specific"
   ],
   "metadata": {
    "collapsed": false
   }
  },
  {
   "cell_type": "code",
   "execution_count": 23,
   "outputs": [
    {
     "name": "stdout",
     "output_type": "stream",
     "text": [
      "intercept for the model is: [0.00130528]\n",
      "coefficient for 'Country': 0.03486297364302484\n",
      "coefficient for 'Marital_status': 0.07367588657617762\n",
      "coefficient for 'No_of_children': -0.010742026472205938\n",
      "coefficient for 'Education_completed': 0.017041127673334863\n",
      "coefficient for 'Ruralurban_living': -0.17551743486145338\n",
      "coefficient for 'Citizenship__Country': 0.005702725536701768\n",
      "coefficient for 'Citizenship__Another_EU_member': 0.009668604663295468\n",
      "coefficient for 'Citizenship__A_nonEU_country': -0.027898497151915436\n",
      "coefficient for 'Citizenship__Dont_know': 0.001291221246037835\n",
      "coefficient for 'Citizenship__Refusal': 0.0012759601050146797\n",
      "coefficient for 'Age': -0.44522530375420893\n",
      "coefficient for 'Gender': 0.07878510458437046\n",
      "coefficient for 'Household_size': 0.16425267917956565\n",
      "coefficient for 'Household_size__over_18': -0.1584407670862633\n",
      "coefficient for 'Household_structure': -0.1118741278558313\n",
      "coefficient for 'Education__3_groups': -0.07988583273326326\n",
      "coefficient for 'Employment__7_groups': -0.09836765714625133\n",
      "coefficient for 'Income_quartiles': 0.3261689302161504\n",
      "coefficient for 'DV_Ruralurban_living': 0.08237015868860159\n",
      "coefficient for 'Degree_of_urbanisation': 0.3115058605587971\n",
      "coefficient for 'Country_group': 0.00258244249207567\n",
      "coefficient for 'Direct_contact_with_children': 0.10935773180199114\n",
      "coefficient for 'Direct_contact_with_parents': -0.11380014789419851\n",
      "coefficient for 'Direct_contact_with_other_relatives': 0.10566925716234063\n",
      "coefficient for 'Direct_contact_with_neighbours': -0.0771914207317719\n",
      "coefficient for 'Phoneinternet_contact_with_children': -0.04141790049834658\n",
      "coefficient for 'Phoneinternet_contact_with_parents': -0.001924338859125739\n",
      "coefficient for 'Phoneinternet_contact_with_other_relatives': -0.13830718618904425\n",
      "coefficient for 'Phoneinternet_contact_with_neighbours': -0.006186974533316258\n",
      "coefficient for 'A_person_to_get_support_from_to_help_around_house_': 0.1942500523275765\n",
      "coefficient for 'A_person_to_get_advice_from_about_a_personalfamily_matter': 0.05058308108640566\n",
      "coefficient for 'A_person_to_get_support_from_when_looking_for_a_job': 0.15578086710349276\n",
      "coefficient for 'A_person_to_get_support_from_when_feeling_depressed': -0.04018218680967728\n",
      "coefficient for 'A_person_to_get_support_from_to_raise_emergency_money': 0.1747992267232192\n",
      "coefficient for 'No_of_rooms_in_accommodation': -0.09418520301578825\n",
      "coefficient for 'Tenure': -0.2087134560912071\n",
      "coefficient for 'Problems_with_accommodation__space': -0.013342098284093808\n",
      "coefficient for 'Problems_with_accommodation__rot_in_windows_etc': -0.011769307711389032\n",
      "coefficient for 'Problems_with_accommodation__damp_or_leaks': 0.05013386325102787\n",
      "coefficient for 'Problems_with_accommodation__no_toilet': 0.04830910176799924\n",
      "coefficient for 'Problems_with_accommodation__no_bathshower': 0.034212129937174686\n",
      "coefficient for 'Problems_with_accommodation__no_outside_space': 0.05250963710353099\n",
      "coefficient for 'Likelihood_of_leaving_accom_within_6_months': -0.05217147399320549\n",
      "coefficient for 'Neighbourhood_problems__noise': -0.17987420103373236\n",
      "coefficient for 'Neighbourhood_problems__air_quality': 0.05298397729268064\n",
      "coefficient for 'Neighbourhood_problems__quality_of_drinking_water': 0.157044163683438\n",
      "coefficient for 'Neighbourhood_problems__crime_violence_or_vandalism': 0.10054142184635366\n",
      "coefficient for 'Neighbourhood_problems__litter_or_rubbish': 0.1487420867216355\n",
      "coefficient for 'Neighbourhood_problems__traffic': -0.31814053074925747\n",
      "coefficient for 'No_of_problems_with_accommodation': -0.16357682268729215\n",
      "coefficient for 'Difficult_to_see_a_doctor_because_of_distance': 0.7810553414519109\n",
      "coefficient for 'Difficult_to_see_a_doctor_because_of_delay_in_getting_appointment': 0.09743309437180195\n",
      "coefficient for 'Difficult_to_see_a_doctor_because_of_waiting_time': 0.03618222655941555\n",
      "coefficient for 'Difficult_to_see_a_doctor_because_of_cost': -0.003366317493372036\n",
      "coefficient for 'Difficult_to_see_a_doctor_because_of_lack_of_time': -0.2783942926882196\n",
      "coefficient for 'Access_to_postal_services': -0.14204400192282043\n",
      "coefficient for 'Access_to_banking_services': 0.27199675151754793\n",
      "coefficient for 'Access_to_public_transport': -0.27596315953276696\n",
      "coefficient for 'Access_to_cinema_theatre_and_cultural_centre': -0.018911268040448504\n",
      "coefficient for 'Access_to_recreational_or_green_areas': 0.16825924359761205\n",
      "coefficient for 'How_much_time_spent_on_travelling_to_workstudy': -0.002482219791816202\n",
      "coefficient for 'Quality_of_health_services': -0.073623851528901\n",
      "coefficient for 'Quality_of_education_system': -0.060690177141330376\n",
      "coefficient for 'Quality_of_public_transport': -0.045052754086420545\n",
      "coefficient for 'Quality_of_child_care_services': 0.008992031521323747\n",
      "coefficient for 'Quality_of_long_term_care_services': -0.03456683244407885\n",
      "coefficient for 'Quality_of_socialmunicipal_housing': -0.0004367963205155741\n",
      "coefficient for 'Quality_of_state_pension_system': 0.008167722759240386\n",
      "coefficient for 'I_or_someone_else_in_household_used_child_care_in_12_months': 0.01635466528290786\n",
      "coefficient for 'Someone_close_outside_household_used_child_care_in_12_months': 0.1127344074667356\n",
      "coefficient for 'Nobody_used_child_care_in_12_months': -0.10376871295932842\n",
      "coefficient for 'Child_care_used_in_12_months__dont_know': -0.010039878467297675\n",
      "coefficient for 'Child_care_used_in_12_months__refusal': 0.003381829415992134\n",
      "coefficient for 'I_or_someone_else_in_household_used_long_term_care_in_12_months': -0.12766476978941638\n",
      "coefficient for 'Someone_close_outside_household_used_long_term_care_in_12_months': 0.11297227231581633\n",
      "coefficient for 'Nobody_used_long_term_care_in_12_months': 0.026522543842615844\n",
      "coefficient for 'Long_term_care_used_in_12_months__dont_know': 0.005728920192140038\n",
      "coefficient for 'Long_term_care_used_in_12_months__refusal': 0.0011876767711560142\n",
      "coefficient for 'Difficult_to_use_child_care_because_of_cost': 0.0058885315124579075\n",
      "coefficient for 'Difficult_to_use_child_care_because_of_availability': 0.021515149861075014\n",
      "coefficient for 'Difficult_to_use_child_care_because_of_access': 0.09315381974755747\n",
      "coefficient for 'Difficult_to_use_child_care_because_of_quality_of_care': 0.04909425008693011\n",
      "coefficient for 'Difficult_to_use_long_term_care_because_of_cost': 0.01586087359888568\n",
      "coefficient for 'Difficult_to_use_long_term_care_because_of_availability': 0.04479074508118314\n",
      "coefficient for 'Difficult_to_use_long_term_care_because_of_access': 0.01743030277935364\n",
      "coefficient for 'Difficult_to_use_long_term_care_because_of_quality_of_care': -0.06421273180380885\n",
      "coefficient for 'Can_most_people_be_trusted': 0.04308949923918073\n",
      "coefficient for 'How_much_tension_between_Poor_and_Rich': 0.03820713584772075\n",
      "coefficient for 'How_much_tension_between_Management_and_Workers': 0.13855172608183797\n",
      "coefficient for 'How_much_tension_between_Men_and_Women': 0.07288841335532763\n",
      "coefficient for 'How_much_tension_between_Old_and_Young_people': -0.18112818856702684\n",
      "coefficient for 'How_much_tension_between_different_racialethnic_groups': 0.038268091339346465\n",
      "coefficient for 'How_much_tension_between_different_religious_groups': -0.13574511913774212\n",
      "coefficient for 'How_much_tension_between_groups_with_different_sexual_orientation': -0.058732827484918086\n",
      "coefficient for 'How_much_trust_the_parliament': -0.03655241509351142\n",
      "coefficient for 'How_much_trust_the_legal_system': 0.08272697091386365\n",
      "coefficient for 'How_much_trust_the_press': 0.09718186929043479\n",
      "coefficient for 'How_much_trust_the_police': -0.03753602714009387\n",
      "coefficient for 'How_much_trust_the_government': -0.0027582297277662484\n",
      "coefficient for 'How_much_trust_the_local_authorities': -0.023986151939115016\n",
      "coefficient for 'How_frequently_attend_religious_services': 0.08973932951314435\n",
      "coefficient for 'How_frequently_use_the_Internet_other_than_for_work': 0.05184625597973931\n",
      "coefficient for 'How_frequently_take_part_in_sports_or_exercise': -0.2816721070478654\n",
      "coefficient for 'How_frequently_participate_in_social_activities': 0.18743714868181405\n",
      "coefficient for 'How_often_worked_unpaid_for_community_services_last_12_months': 0.07210589004872239\n",
      "coefficient for 'How_often_worked_unpaid_for_educationcultural_etc_organisation_last_12_months': 0.0027547939645035115\n",
      "coefficient for 'How_often_worked_unpaid_for_social_movementscharities_last_12_months': 0.01696937726403042\n",
      "coefficient for 'How_often_worked_unpaid_for_political_parties_or_trade_unions_last_12_months': 0.051934613919895053\n",
      "coefficient for 'How_often_worked_unpaid_for_other_voluntary_org_last_12_months': 0.10120170397769326\n",
      "coefficient for 'Attended_a_trade_unionpolitical_party_meeting_last_12_months': -0.017163903530466932\n",
      "coefficient for 'Attended_a_protest_or_demonstration_last_12_months': -0.0033393133766320905\n",
      "coefficient for 'Signed_a_petition_last_12_months': 0.012959700090419687\n",
      "coefficient for 'Contacted_a_politician_last_12_months': -0.005084789632398016\n",
      "coefficient for 'Feel_left_out_of_sociey': 0.19168586057522938\n",
      "coefficient for 'Cant_find_the_way_because_life_has_become_so_complicated': -0.10081643429238177\n",
      "coefficient for 'The_value_of_what_I_do_is_not_recognised_by_others': -0.28539166676130956\n",
      "coefficient for 'People_look_down_on_me_because_of_my_job_situation_or_income': 0.23932459008472698\n",
      "coefficient for 'Feel_close_to_people_in_the_area_where_I_live': 0.17334570510393874\n",
      "coefficient for 'Social_Exclusion_Index': -0.023100501869350275\n",
      "coefficient for 'Volunteering_frequency': -0.23313005225051248\n",
      "coefficient for 'Personal_financial_situation': -0.2028411606491062\n",
      "coefficient for 'Household_able_to_make_ends_meet': -0.16427807621611587\n",
      "coefficient for 'Can_afford_to_keep_home_adequately_warm': -0.061669902334967185\n",
      "coefficient for 'Can_afford_to_pay_for_a_weeks_annual_holiday_away': -0.05920784986963669\n",
      "coefficient for 'Can_afford_to_replace_any_wornout_furniture': -0.003317912175955471\n",
      "coefficient for 'Can_afford_a_meal_with_meatchickenfish_every_second_day': -0.06072363924231578\n",
      "coefficient for 'Can_afford_to_buy_new_rather_than_secondhand_clothes': 0.03957924339917695\n",
      "coefficient for 'Can_afford_to_have_friends_or_family_for_a_drinkmeal_at_least_once_a_month': -0.01767103158127846\n",
      "coefficient for 'Rentmortgage_payments_for_accommodation': 0.014545950535783732\n",
      "coefficient for 'Utility_bills_such_as_electricity_water_gas': 0.005035552638685527\n",
      "coefficient for 'Payments_for_consumer_loanscredit_cards': -0.013568545542808001\n",
      "coefficient for 'Payments_for_informal_loans_from_friendsrelatives': -0.1604670644524984\n",
      "coefficient for 'Financial_situation_of_your_household_compared_to_12_months_ago': 0.16707438177406647\n",
      "coefficient for 'Household_financial_expectations_for_th_12_months': 0.0731487206979267\n",
      "coefficient for 'Deprivation_index_No_of_items_hhold_cant_afford': -0.049429877262547245\n",
      "coefficient for 'I_am_optimistic_about_the_future': -0.08173372378405608\n",
      "coefficient for 'I_generally_feel_that_what_I_do_in_life_is_worthwhile': 0.20708099607615998\n",
      "coefficient for 'I_feel_I_am_free_to_decide_how_to_live_my_life': -0.2374611707841704\n",
      "coefficient for 'I_seldom_have_time_to_do_the_things_I_really_enjoy': -0.24185082826463042\n",
      "coefficient for 'How_satisfied_with_life_these_days': 0.027289367533988158\n",
      "coefficient for 'How_satisfied_with_education': -0.05213775494333577\n",
      "coefficient for 'How_satisfied_with_present_job': -0.020690754500653406\n",
      "coefficient for 'How_satisfied_with_present_standard_of_living': -0.1257043887104767\n",
      "coefficient for 'How_satisfied_with_accommodation': -0.016899119551979893\n",
      "coefficient for 'How_satisfied_with_family_life': -0.049238697525870304\n",
      "coefficient for 'How_satisfied_with_social_life': 0.2520364079754218\n",
      "coefficient for 'How_satisfied_with_economic_situation_in_the_country': -0.06268028850523757\n",
      "coefficient for 'How_happy_are_you': 0.15528259136745168\n",
      "coefficient for 'How_often_felt_cheerful_and_in_good_spirits_last_2_weeks': 0.11411357998603552\n",
      "coefficient for 'How_often_felt_calm_and_relaxed_last_2_weeks': 0.24533357493235722\n",
      "coefficient for 'How_often_felt_active_and_vigorous_last_2_weeks': -0.6845475845487488\n",
      "coefficient for 'How_often_woke_up_feeling_fresh_and_rested_last_2_weeks': -0.10305519163053019\n",
      "coefficient for 'How_often_felt_your_daily_life_has_been_filled_with_things_that_interest_you_last_2_weeks': 0.023149149708649352\n",
      "coefficient for 'How_often_felt_particularly_tense_last_2_weeks': 0.03037126001224853\n",
      "coefficient for 'How_often_felt_lonely_last_2_weeks': 0.14826661002008312\n",
      "coefficient for 'How_often_felt_downhearted_and_depressed_last_2_weeks': 0.12251122085513023\n",
      "coefficient for 'WHO5_mental_wellbeing_index': 0.015367943442027862\n",
      "coefficient for 'Final_weight_trimmed_and_standardised': 0.0206058979944068\n",
      "coefficient for 'Crossnational_weight__EU28__to_calculate_averages_for_all_EU_in_2013_incl_Croatia': -0.074525491296798\n",
      "coefficient for 'Weight_5_total': -0.05591751066129403\n",
      "coefficient for 'How_many_hours_work_per_week_in_1st_job': -0.011944085971382551\n",
      "coefficient for 'How_many_hours_per_week_would_you_prefer_to_work_at_present': -0.011334671830882102\n",
      "coefficient for 'How_many_hours_does_your_partner_work_per_week': -0.01584956253555384\n",
      "coefficient for 'How_many_hours_per_week_would_you_prefer_your_partner_to_work': -0.0026632170885048127\n",
      "coefficient for 'Working_hours_fit_with_familysocial_commitments': 0.0583036199420358\n",
      "coefficient for 'Come_home_from_work_too_tired_to_do_some_of_the_household_jobs': 0.0026268403499239423\n",
      "coefficient for 'Difficult_to_fulfil_family_responsibilities_because_of_the_time_at_work': 0.03550804242118685\n",
      "coefficient for 'Difficult_to_concentrate_at_work_because_of_family_responsibilities': 0.18189716182114954\n",
      "coefficient for 'How_likely_to_lose_job_in_6_months': 0.12936896392828057\n",
      "coefficient for 'How_likely_to_find_another_job_of_similar_salary': -0.36361887077055255\n",
      "coefficient for 'How_often_care_for_your_children': 0.0847857900512967\n",
      "coefficient for 'How_often_cook_and_doing_housework': -0.03576165963305987\n",
      "coefficient for 'How_often_care_for_elderly_or_disabled_relatives': -0.05987432363505851\n",
      "coefficient for 'The_share_of_housework_you_do_is_': -0.13241061166764928\n",
      "coefficient for 'As_much_time_as_would_like_with_family_members': -0.017911970638687623\n",
      "coefficient for 'As_much_time_as_would_like_with_others_not_family': 0.04331336993367061\n",
      "coefficient for 'As_much_time_as_would_like_on_own_hobbiesinterests': 0.25080824085366166\n",
      "coefficient for 'As_much_time_as_would_like_on_voluntary_work': -0.024356450380370553\n",
      "coefficient for 'Worklife_balance_conflict': -0.07481082278290642\n",
      "coefficient for 'Worked_at_an_additional_paid_job_last_4_weeks': -0.02819408263298689\n",
      "coefficient for 'How_many_hours_per_week_worked_in_the_additional_job': 0.004197906353325314\n",
      "coefficient for 'DV_Total_number_of_working_hours': 0.0769459553944028\n",
      "coefficient for 'DV_Citizenship': -0.04600423659817755\n",
      "coefficient for 'DV_Anyone_usedwould_have_like_to_use_child_care_last_12_months': -0.0793563943530645\n",
      "coefficient for 'DV_Anyone_usedwould_have_like_to_use_long_term_care_last_12_months': 0.22033109987208851\n",
      "coefficient for 'DV_No_of_factors_which_made_it_difficult_to_use_child_care': 0.049107344909773094\n",
      "coefficient for 'DV_No_of_factors_which_made_it_difficult_to_use_long_term_care': -0.03790643073108674\n",
      "coefficient for 'DV_Preferred_working_hours_3_groups': -0.07399694850506007\n",
      "coefficient for 'DV_Preferred_working_hours_of_respondents_partner_3_groups': -0.06847824353571948\n"
     ]
    },
    {
     "name": "stderr",
     "output_type": "stream",
     "text": [
      "/Users/clast/Documents/2021_projects/rds-course/.venv/lib/python3.7/site-packages/sklearn/linear_model/_logistic.py:765: ConvergenceWarning: lbfgs failed to converge (status=1):\n",
      "STOP: TOTAL NO. of ITERATIONS REACHED LIMIT.\n",
      "\n",
      "Increase the number of iterations (max_iter) or scale the data as shown in:\n",
      "    https://scikit-learn.org/stable/modules/preprocessing.html\n",
      "Please also refer to the documentation for alternative solver options:\n",
      "    https://scikit-learn.org/stable/modules/linear_model.html#logistic-regression\n",
      "  extra_warning_msg=_LOGISTIC_SOLVER_CONVERGENCE_MSG)\n"
     ]
    }
   ],
   "source": [
    "coef_dict_UK = ModelCoeffients(imputed_X_train_UK, y_train).print_model_coefficients()"
   ],
   "metadata": {
    "collapsed": false,
    "pycharm": {
     "name": "#%%\n"
    }
   }
  },
  {
   "cell_type": "markdown",
   "source": [
    "## Get feature importances\n",
    "The above code allows us look further at the coefficients."
   ],
   "metadata": {
    "collapsed": false
   }
  },
  {
   "cell_type": "code",
   "execution_count": 113,
   "outputs": [
    {
     "data": {
      "text/plain": "<Figure size 432x288 with 1 Axes>",
      "image/png": "[encoded data removed]"
     },
     "metadata": {
      "needs_background": "light"
     },
     "output_type": "display_data"
    },
    {
     "data": {
      "text/plain": "['DV_Any_limitingnot_limiting_chronic_health_problem',\n 'How_satisfied_with_health',\n 'Limited_by_chronic_health_problems',\n 'Chronic_health_problems',\n 'Difficult_to_see_a_doctor_because_of_distance',\n 'EQLS_Wave',\n 'How_happy_are_you',\n 'Come_home_from_work_too_tired_to_do_some_of_the_household_jobs',\n 'Education_completed',\n 'How_much_tension_between_Old_and_Young_people']"
     },
     "execution_count": 113,
     "metadata": {},
     "output_type": "execute_result"
    }
   ],
   "source": [
    "# plot feature importance\n",
    "plt.bar([x for x in range(len(coef_dict.keys()))], coef_dict.values())\n",
    "plt.show()\n",
    "\n",
    "#getting top 10 features from dict\n",
    "sorted(coef_dict, key=coef_dict.get, reverse=True)[:10]"
   ],
   "metadata": {
    "collapsed": false,
    "pycharm": {
     "name": "#%%\n"
    }
   }
  },
  {
   "cell_type": "markdown",
   "source": [
    "The above features are the most important when modelling self-reported health for\n",
    "\n",
    "We can see that Logistic regression performs using only UK data performs similar to the total country model, suggesting that country is not a large determinant of why\n",
    "individuals self-reported health. Let's retrieve this model and test it on two additional country data.\n",
    "\n",
    "Now, Lets select two other countries from the dataset to test the transferability of this model."
   ],
   "metadata": {
    "collapsed": false
   }
  },
  {
   "cell_type": "code",
   "execution_count": 10,
   "outputs": [],
   "source": [
    "# Selecting data for the Netherlands\n",
    "feature_2011_NL_columns = feature_2011_other_countries_columns.loc[feature_2011_other_countries_columns['Country'] == 20.0]\n",
    "# Selecting data for Romania\n",
    "feature_2011_RO_columns = feature_2011_other_countries_columns.loc[feature_2011_other_countries_columns['Country'] == 23.0]\n"
   ],
   "metadata": {
    "collapsed": false,
    "pycharm": {
     "name": "#%%                                                                   'Unique_respondent_ID'])\n"
    }
   }
  },
  {
   "cell_type": "code",
   "execution_count": 16,
   "outputs": [
    {
     "name": "stderr",
     "output_type": "stream",
     "text": [
      "/Users/clast/Documents/2021_projects/rds-course/.venv/lib/python3.7/site-packages/sklearn/linear_model/_logistic.py:765: ConvergenceWarning: lbfgs failed to converge (status=1):\n",
      "STOP: TOTAL NO. of ITERATIONS REACHED LIMIT.\n",
      "\n",
      "Increase the number of iterations (max_iter) or scale the data as shown in:\n",
      "    https://scikit-learn.org/stable/modules/preprocessing.html\n",
      "Please also refer to the documentation for alternative solver options:\n",
      "    https://scikit-learn.org/stable/modules/linear_model.html#logistic-regression\n",
      "  extra_warning_msg=_LOGISTIC_SOLVER_CONVERGENCE_MSG)\n",
      "/Users/clast/Documents/2021_projects/rds-course/.venv/lib/python3.7/site-packages/sklearn/linear_model/_logistic.py:765: ConvergenceWarning: lbfgs failed to converge (status=1):\n",
      "STOP: TOTAL NO. of ITERATIONS REACHED LIMIT.\n",
      "\n",
      "Increase the number of iterations (max_iter) or scale the data as shown in:\n",
      "    https://scikit-learn.org/stable/modules/preprocessing.html\n",
      "Please also refer to the documentation for alternative solver options:\n",
      "    https://scikit-learn.org/stable/modules/linear_model.html#logistic-regression\n",
      "  extra_warning_msg=_LOGISTIC_SOLVER_CONVERGENCE_MSG)\n"
     ]
    },
    {
     "name": "stdout",
     "output_type": "stream",
     "text": [
      "intercept for the model is: [-0.00219106]\n",
      "coefficient for 'Country': -0.04281420820627194\n",
      "coefficient for 'Marital_status': 0.17790002315433415\n",
      "coefficient for 'No_of_children': 0.19558462289366374\n",
      "coefficient for 'Education_completed': -0.10116267566543219\n",
      "coefficient for 'Ruralurban_living': -0.059566641645927405\n",
      "coefficient for 'Citizenship__Country': -0.11028347226153333\n",
      "coefficient for 'Citizenship__Another_EU_member': 0.053665703205905295\n",
      "coefficient for 'Citizenship__A_nonEU_country': 0.08230369791871901\n",
      "coefficient for 'Citizenship__Dont_know': -0.0021407104103141326\n",
      "coefficient for 'Citizenship__Refusal': -0.0021407104103141326\n",
      "coefficient for 'Age': -0.5891173326814154\n",
      "coefficient for 'Gender': 0.18529339697489042\n",
      "coefficient for 'Household_size': -0.14527130736309588\n",
      "coefficient for 'Household_size__over_18': -0.2059917812860769\n",
      "coefficient for 'Household_structure': -0.0401876218138342\n",
      "coefficient for 'Education__3_groups': -0.053179623313960624\n",
      "coefficient for 'Employment__7_groups': -0.25458560942225716\n",
      "coefficient for 'Income_quartiles': -0.17837458466766898\n",
      "coefficient for 'DV_Ruralurban_living': -0.3133820372787353\n",
      "coefficient for 'Degree_of_urbanisation': -0.2167401370979505\n",
      "coefficient for 'Country_group': -0.004281420820628265\n",
      "coefficient for 'Direct_contact_with_children': -0.3031015236932372\n",
      "coefficient for 'Direct_contact_with_parents': -0.04648649801007865\n",
      "coefficient for 'Direct_contact_with_other_relatives': -0.1579282869778123\n",
      "coefficient for 'Direct_contact_with_neighbours': 0.24736352813494147\n",
      "coefficient for 'Phoneinternet_contact_with_children': 0.31628593794598714\n",
      "coefficient for 'Phoneinternet_contact_with_parents': 0.1519190131238682\n",
      "coefficient for 'Phoneinternet_contact_with_other_relatives': 0.18077392975724324\n",
      "coefficient for 'Phoneinternet_contact_with_neighbours': 0.06481642773270367\n",
      "coefficient for 'A_person_to_get_support_from_to_help_around_house_': 0.21615639784526944\n",
      "coefficient for 'A_person_to_get_advice_from_about_a_personalfamily_matter': -0.09691453485775242\n",
      "coefficient for 'A_person_to_get_support_from_when_looking_for_a_job': 0.17180467706673816\n",
      "coefficient for 'A_person_to_get_support_from_when_feeling_depressed': -0.05425050419420751\n",
      "coefficient for 'A_person_to_get_support_from_to_raise_emergency_money': -0.5538720286914516\n",
      "coefficient for 'No_of_rooms_in_accommodation': -0.06703831448828829\n",
      "coefficient for 'Tenure': -0.3980117768832237\n",
      "coefficient for 'Problems_with_accommodation__space': 0.0226697817116906\n",
      "coefficient for 'Problems_with_accommodation__rot_in_windows_etc': -0.15101351060463813\n",
      "coefficient for 'Problems_with_accommodation__damp_or_leaks': 0.04326034600961799\n",
      "coefficient for 'Problems_with_accommodation__no_toilet': -0.03482058446854076\n",
      "coefficient for 'Problems_with_accommodation__no_bathshower': 0.06414126091632663\n",
      "coefficient for 'Problems_with_accommodation__no_outside_space': 0.16156973353005577\n",
      "coefficient for 'Likelihood_of_leaving_accom_within_6_months': -0.13471607807924263\n",
      "coefficient for 'Neighbourhood_problems__noise': -0.13943390118807247\n",
      "coefficient for 'Neighbourhood_problems__air_quality': 0.25266641608047014\n",
      "coefficient for 'Neighbourhood_problems__quality_of_drinking_water': 0.10299381415845985\n",
      "coefficient for 'Neighbourhood_problems__crime_violence_or_vandalism': -0.03229716098075492\n",
      "coefficient for 'Neighbourhood_problems__litter_or_rubbish': -0.18911210997160932\n",
      "coefficient for 'Neighbourhood_problems__traffic': 0.2402305600132878\n",
      "coefficient for 'No_of_problems_with_accommodation': -0.14456079507024971\n",
      "coefficient for 'Difficult_to_see_a_doctor_because_of_distance': 0.6754121488324067\n",
      "coefficient for 'Difficult_to_see_a_doctor_because_of_delay_in_getting_appointment': 0.5701603829764698\n",
      "coefficient for 'Difficult_to_see_a_doctor_because_of_waiting_time': 0.10035841965085218\n",
      "coefficient for 'Difficult_to_see_a_doctor_because_of_cost': 0.03192113929665504\n",
      "coefficient for 'Difficult_to_see_a_doctor_because_of_lack_of_time': 0.06106935476218853\n",
      "coefficient for 'Access_to_postal_services': 0.07557654969695321\n",
      "coefficient for 'Access_to_banking_services': 0.1356977578105389\n",
      "coefficient for 'Access_to_public_transport': -0.09862682195643449\n",
      "coefficient for 'Access_to_cinema_theatre_and_cultural_centre': 0.17176377101301418\n",
      "coefficient for 'Access_to_recreational_or_green_areas': 0.16432657937282852\n",
      "coefficient for 'How_much_time_spent_on_travelling_to_workstudy': 0.005511941126239595\n",
      "coefficient for 'Quality_of_health_services': -0.49017868990598956\n",
      "coefficient for 'Quality_of_education_system': 0.10109912821283393\n",
      "coefficient for 'Quality_of_public_transport': 0.1696120979758864\n",
      "coefficient for 'Quality_of_child_care_services': -0.29375981750821917\n",
      "coefficient for 'Quality_of_long_term_care_services': 0.4343409215155086\n",
      "coefficient for 'Quality_of_socialmunicipal_housing': -0.3726638776313836\n",
      "coefficient for 'Quality_of_state_pension_system': 0.08869445906811085\n",
      "coefficient for 'I_or_someone_else_in_household_used_child_care_in_12_months': -0.010788297340119725\n",
      "coefficient for 'Someone_close_outside_household_used_child_care_in_12_months': -0.05977269048290325\n",
      "coefficient for 'Nobody_used_child_care_in_12_months': 0.03582445323649391\n",
      "coefficient for 'Child_care_used_in_12_months__dont_know': 0.019995475733866615\n",
      "coefficient for 'Child_care_used_in_12_months__refusal': 0.003429579808639567\n",
      "coefficient for 'I_or_someone_else_in_household_used_long_term_care_in_12_months': -0.1616880483511545\n",
      "coefficient for 'Someone_close_outside_household_used_long_term_care_in_12_months': 0.07281447217476164\n",
      "coefficient for 'Nobody_used_long_term_care_in_12_months': 0.06870325773659146\n",
      "coefficient for 'Long_term_care_used_in_12_months__dont_know': 0.011330240645349954\n",
      "coefficient for 'Long_term_care_used_in_12_months__refusal': -0.0021407104103141326\n",
      "coefficient for 'Difficult_to_use_child_care_because_of_cost': 0.10522833673078946\n",
      "coefficient for 'Difficult_to_use_child_care_because_of_availability': -0.25764086537857434\n",
      "coefficient for 'Difficult_to_use_child_care_because_of_access': -0.15178541040271176\n",
      "coefficient for 'Difficult_to_use_child_care_because_of_quality_of_care': -0.12810979722592017\n",
      "coefficient for 'Difficult_to_use_long_term_care_because_of_cost': 0.02269484222051887\n",
      "coefficient for 'Difficult_to_use_long_term_care_because_of_availability': 0.15582516833060933\n",
      "coefficient for 'Difficult_to_use_long_term_care_because_of_access': -0.21642146943197843\n",
      "coefficient for 'Difficult_to_use_long_term_care_because_of_quality_of_care': 0.18615559223530886\n",
      "coefficient for 'Can_most_people_be_trusted': 0.13848035468120606\n",
      "coefficient for 'How_much_tension_between_Poor_and_Rich': -0.2989324283823652\n",
      "coefficient for 'How_much_tension_between_Management_and_Workers': 0.1737841219746058\n",
      "coefficient for 'How_much_tension_between_Men_and_Women': 0.08200283581938543\n",
      "coefficient for 'How_much_tension_between_Old_and_Young_people': -0.3554002676254546\n",
      "coefficient for 'How_much_tension_between_different_racialethnic_groups': -0.20009502841699414\n",
      "coefficient for 'How_much_tension_between_different_religious_groups': -0.12546696388448295\n",
      "coefficient for 'How_much_tension_between_groups_with_different_sexual_orientation': -0.02334844277847256\n",
      "coefficient for 'How_much_trust_the_parliament': 0.13376022833974696\n",
      "coefficient for 'How_much_trust_the_legal_system': 0.07630353063525573\n",
      "coefficient for 'How_much_trust_the_press': 0.07259278274548323\n",
      "coefficient for 'How_much_trust_the_police': -0.16029021473900193\n",
      "coefficient for 'How_much_trust_the_government': 0.04457207810756263\n",
      "coefficient for 'How_much_trust_the_local_authorities': -0.18558436290704372\n",
      "coefficient for 'How_frequently_attend_religious_services': -0.038097846135561775\n",
      "coefficient for 'How_frequently_use_the_Internet_other_than_for_work': -0.03516294700371606\n",
      "coefficient for 'How_frequently_take_part_in_sports_or_exercise': -0.34139444870152014\n",
      "coefficient for 'How_frequently_participate_in_social_activities': -0.11481256616761278\n",
      "coefficient for 'How_often_worked_unpaid_for_community_services_last_12_months': 0.21573516157010428\n",
      "coefficient for 'How_often_worked_unpaid_for_educationcultural_etc_organisation_last_12_months': 0.2408988951308868\n",
      "coefficient for 'How_often_worked_unpaid_for_social_movementscharities_last_12_months': 0.07973634267423928\n",
      "coefficient for 'How_often_worked_unpaid_for_political_parties_or_trade_unions_last_12_months': -0.15093987093317976\n",
      "coefficient for 'How_often_worked_unpaid_for_other_voluntary_org_last_12_months': 0.11311603386987339\n",
      "coefficient for 'Attended_a_trade_unionpolitical_party_meeting_last_12_months': -0.1407281239774115\n",
      "coefficient for 'Attended_a_protest_or_demonstration_last_12_months': -0.07040914863658974\n",
      "coefficient for 'Signed_a_petition_last_12_months': 0.01958848008919673\n",
      "coefficient for 'Contacted_a_politician_last_12_months': 0.3651610225623392\n",
      "coefficient for 'Feel_left_out_of_sociey': -0.06235206384318241\n",
      "coefficient for 'Cant_find_the_way_because_life_has_become_so_complicated': -0.36614808032490714\n",
      "coefficient for 'The_value_of_what_I_do_is_not_recognised_by_others': -0.005601366250727578\n",
      "coefficient for 'People_look_down_on_me_because_of_my_job_situation_or_income': 0.39209678960239325\n",
      "coefficient for 'Feel_close_to_people_in_the_area_where_I_live': -0.1175739302309218\n",
      "coefficient for 'Social_Exclusion_Index': 0.12012260612698185\n",
      "coefficient for 'Volunteering_frequency': 0.1392809746654232\n",
      "coefficient for 'Personal_financial_situation': 0.5831056256310945\n",
      "coefficient for 'Household_able_to_make_ends_meet': 0.30347095524387113\n",
      "coefficient for 'Can_afford_to_keep_home_adequately_warm': -0.06968022861002947\n",
      "coefficient for 'Can_afford_to_pay_for_a_weeks_annual_holiday_away': -0.02627111356018846\n",
      "coefficient for 'Can_afford_to_replace_any_wornout_furniture': -0.017879801476011252\n",
      "coefficient for 'Can_afford_a_meal_with_meatchickenfish_every_second_day': 0.1334705549209668\n",
      "coefficient for 'Can_afford_to_buy_new_rather_than_secondhand_clothes': -0.00940759906218222\n",
      "coefficient for 'Can_afford_to_have_friends_or_family_for_a_drinkmeal_at_least_once_a_month': -0.2135872239898321\n",
      "coefficient for 'Rentmortgage_payments_for_accommodation': -0.11108793833999399\n",
      "coefficient for 'Utility_bills_such_as_electricity_water_gas': 0.03741214966107401\n",
      "coefficient for 'Payments_for_consumer_loanscredit_cards': 0.1781266825815497\n",
      "coefficient for 'Payments_for_informal_loans_from_friendsrelatives': 0.15631878838402508\n",
      "coefficient for 'Financial_situation_of_your_household_compared_to_12_months_ago': -0.07585714285123452\n",
      "coefficient for 'Household_financial_expectations_for_th_12_months': -0.16099021715368633\n",
      "coefficient for 'Deprivation_index_No_of_items_hhold_cant_afford': -0.11983871164995537\n",
      "coefficient for 'I_am_optimistic_about_the_future': 0.039298409145583066\n",
      "coefficient for 'I_generally_feel_that_what_I_do_in_life_is_worthwhile': -0.41947268048990227\n",
      "coefficient for 'I_feel_I_am_free_to_decide_how_to_live_my_life': 0.2993188120362471\n",
      "coefficient for 'I_seldom_have_time_to_do_the_things_I_really_enjoy': -0.36762963224435946\n",
      "coefficient for 'How_satisfied_with_life_these_days': 0.6799950964574818\n",
      "coefficient for 'How_satisfied_with_education': 0.09444015047625327\n",
      "coefficient for 'How_satisfied_with_present_job': -0.15210819738193615\n",
      "coefficient for 'How_satisfied_with_present_standard_of_living': 0.11566209618333162\n",
      "coefficient for 'How_satisfied_with_accommodation': 0.06963873445365337\n",
      "coefficient for 'How_satisfied_with_family_life': -0.09697486676414\n",
      "coefficient for 'How_satisfied_with_social_life': 0.19348467531466337\n",
      "coefficient for 'How_satisfied_with_economic_situation_in_the_country': -0.20268198279978886\n",
      "coefficient for 'How_happy_are_you': 0.20545227179397912\n",
      "coefficient for 'How_often_felt_cheerful_and_in_good_spirits_last_2_weeks': -0.04662861639674229\n",
      "coefficient for 'How_often_felt_calm_and_relaxed_last_2_weeks': 0.2597677664271626\n",
      "coefficient for 'How_often_felt_active_and_vigorous_last_2_weeks': -0.7812864348519347\n",
      "coefficient for 'How_often_woke_up_feeling_fresh_and_rested_last_2_weeks': -0.2992969884291847\n",
      "coefficient for 'How_often_felt_your_daily_life_has_been_filled_with_things_that_interest_you_last_2_weeks': 0.030714971573435466\n",
      "coefficient for 'How_often_felt_particularly_tense_last_2_weeks': 0.12533175945321876\n",
      "coefficient for 'How_often_felt_lonely_last_2_weeks': -0.3243654462752437\n",
      "coefficient for 'How_often_felt_downhearted_and_depressed_last_2_weeks': 0.010483368580079524\n",
      "coefficient for 'WHO5_mental_wellbeing_index': -0.01251964654264749\n",
      "coefficient for 'Final_weight_trimmed_and_standardised': 0.056216620109866874\n",
      "coefficient for 'Crossnational_weight__EU28__to_calculate_averages_for_all_EU_in_2013_incl_Croatia': 0.0658109888400877\n",
      "coefficient for 'Weight_5_total': 0.0686450906096594\n",
      "coefficient for 'How_many_hours_work_per_week_in_1st_job': 0.015860967979331803\n",
      "coefficient for 'How_many_hours_per_week_would_you_prefer_to_work_at_present': -0.005629025097350781\n",
      "coefficient for 'How_many_hours_does_your_partner_work_per_week': -0.003095910760116301\n",
      "coefficient for 'How_many_hours_per_week_would_you_prefer_your_partner_to_work': -0.00512939787209063\n",
      "coefficient for 'Working_hours_fit_with_familysocial_commitments': 0.4073216122715136\n",
      "coefficient for 'Come_home_from_work_too_tired_to_do_some_of_the_household_jobs': 0.1727198016785747\n",
      "coefficient for 'Difficult_to_fulfil_family_responsibilities_because_of_the_time_at_work': -0.08791515751530836\n",
      "coefficient for 'Difficult_to_concentrate_at_work_because_of_family_responsibilities': 0.3803019209326976\n",
      "coefficient for 'How_likely_to_lose_job_in_6_months': 0.10717243756620146\n",
      "coefficient for 'How_likely_to_find_another_job_of_similar_salary': -0.26854525288081077\n",
      "coefficient for 'How_often_care_for_your_children': -0.03163006151279116\n",
      "coefficient for 'How_often_cook_and_doing_housework': 0.012107889500522362\n",
      "coefficient for 'How_often_care_for_elderly_or_disabled_relatives': 0.28147538923524845\n",
      "coefficient for 'The_share_of_housework_you_do_is_': -0.49743188555769663\n",
      "coefficient for 'As_much_time_as_would_like_with_family_members': 0.3033468754074048\n",
      "coefficient for 'As_much_time_as_would_like_with_others_not_family': 0.2274210751266581\n",
      "coefficient for 'As_much_time_as_would_like_on_own_hobbiesinterests': 0.15324743141329494\n",
      "coefficient for 'As_much_time_as_would_like_on_voluntary_work': -0.0873843364956778\n",
      "coefficient for 'Worklife_balance_conflict': -0.07818409183235758\n",
      "coefficient for 'Worked_at_an_additional_paid_job_last_4_weeks': -0.06994153371464107\n",
      "coefficient for 'How_many_hours_per_week_worked_in_the_additional_job': -0.09863439240489483\n",
      "coefficient for 'DV_Total_number_of_working_hours': -0.020547387126219452\n",
      "coefficient for 'DV_Citizenship': 0.2109042857177792\n",
      "coefficient for 'DV_Anyone_usedwould_have_like_to_use_child_care_last_12_months': 0.11097848979051222\n",
      "coefficient for 'DV_Anyone_usedwould_have_like_to_use_long_term_care_last_12_months': 0.2623691586640425\n",
      "coefficient for 'DV_No_of_factors_which_made_it_difficult_to_use_child_care': 0.1888258387491119\n",
      "coefficient for 'DV_No_of_factors_which_made_it_difficult_to_use_long_term_care': -0.05405705756641097\n",
      "coefficient for 'DV_Preferred_working_hours_3_groups': -0.02759598035607144\n",
      "coefficient for 'DV_Preferred_working_hours_of_respondents_partner_3_groups': 0.3187892851877954\n",
      "intercept for the model is: [-0.00167708]\n",
      "coefficient for 'Country': -0.0382585751095329\n",
      "coefficient for 'Marital_status': -0.06952826116752911\n",
      "coefficient for 'No_of_children': -0.03564618818290998\n",
      "coefficient for 'Education_completed': 0.060423659970833675\n",
      "coefficient for 'Ruralurban_living': 0.017871667718651722\n",
      "coefficient for 'Citizenship__Country': 0.011325042391150708\n",
      "coefficient for 'Citizenship__Another_EU_member': -0.01036975617035795\n",
      "coefficient for 'Citizenship__A_nonEU_country': 0.012944413661131715\n",
      "coefficient for 'Citizenship__Dont_know': -0.0016634163091100813\n",
      "coefficient for 'Citizenship__Refusal': -0.0016634163091100813\n",
      "coefficient for 'Age': -0.6419045945028231\n",
      "coefficient for 'Gender': -0.022971901120538155\n",
      "coefficient for 'Household_size': 0.06060448730032215\n",
      "coefficient for 'Household_size__over_18': -0.10499722304223512\n",
      "coefficient for 'Household_structure': -0.05874021540122471\n",
      "coefficient for 'Education__3_groups': 0.10475004478353321\n",
      "coefficient for 'Employment__7_groups': -0.09426085389214507\n",
      "coefficient for 'Income_quartiles': 0.10028090390174972\n",
      "coefficient for 'DV_Ruralurban_living': -0.05358576922111965\n",
      "coefficient for 'Degree_of_urbanisation': 0.01639007553611914\n",
      "coefficient for 'Country_group': -0.0033268326182201626\n",
      "coefficient for 'Direct_contact_with_children': 0.03583970084400114\n",
      "coefficient for 'Direct_contact_with_parents': -0.248444417911878\n",
      "coefficient for 'Direct_contact_with_other_relatives': -0.06578592133178841\n",
      "coefficient for 'Direct_contact_with_neighbours': 0.11059858426119021\n",
      "coefficient for 'Phoneinternet_contact_with_children': -0.08268659089259836\n",
      "coefficient for 'Phoneinternet_contact_with_parents': 0.09498809090639199\n",
      "coefficient for 'Phoneinternet_contact_with_other_relatives': -0.03203556634861781\n",
      "coefficient for 'Phoneinternet_contact_with_neighbours': -0.006556367078232971\n",
      "coefficient for 'A_person_to_get_support_from_to_help_around_house_': 0.012451862902711008\n",
      "coefficient for 'A_person_to_get_advice_from_about_a_personalfamily_matter': 0.018226886489124076\n",
      "coefficient for 'A_person_to_get_support_from_when_looking_for_a_job': 0.15662144231018132\n",
      "coefficient for 'A_person_to_get_support_from_when_feeling_depressed': -0.0778735066942314\n",
      "coefficient for 'A_person_to_get_support_from_to_raise_emergency_money': 0.22932610139381082\n",
      "coefficient for 'No_of_rooms_in_accommodation': -0.062250892969831516\n",
      "coefficient for 'Tenure': 0.2057535290319442\n",
      "coefficient for 'Problems_with_accommodation__space': -0.07622652297167026\n",
      "coefficient for 'Problems_with_accommodation__rot_in_windows_etc': 0.08521744983198296\n",
      "coefficient for 'Problems_with_accommodation__damp_or_leaks': 0.04961475764144239\n",
      "coefficient for 'Problems_with_accommodation__no_toilet': -0.12324621702828475\n",
      "coefficient for 'Problems_with_accommodation__no_bathshower': -0.1134704084895963\n",
      "coefficient for 'Problems_with_accommodation__no_outside_space': 0.11727930249209517\n",
      "coefficient for 'Likelihood_of_leaving_accom_within_6_months': 0.04724750056067824\n",
      "coefficient for 'Neighbourhood_problems__noise': 0.08945193038762152\n",
      "coefficient for 'Neighbourhood_problems__air_quality': 0.11152662643377931\n",
      "coefficient for 'Neighbourhood_problems__quality_of_drinking_water': 0.06632433969832359\n",
      "coefficient for 'Neighbourhood_problems__crime_violence_or_vandalism': -0.026755886386984534\n",
      "coefficient for 'Neighbourhood_problems__litter_or_rubbish': 0.042675195448728415\n",
      "coefficient for 'Neighbourhood_problems__traffic': 0.142773860823067\n",
      "coefficient for 'No_of_problems_with_accommodation': 0.060057161085946116\n",
      "coefficient for 'Difficult_to_see_a_doctor_because_of_distance': 0.6034933506525396\n",
      "coefficient for 'Difficult_to_see_a_doctor_because_of_delay_in_getting_appointment': -0.0009687293439896358\n",
      "coefficient for 'Difficult_to_see_a_doctor_because_of_waiting_time': 0.010851916282836277\n",
      "coefficient for 'Difficult_to_see_a_doctor_because_of_cost': -0.14304681887065182\n",
      "coefficient for 'Difficult_to_see_a_doctor_because_of_lack_of_time': -0.04072531187190725\n",
      "coefficient for 'Access_to_postal_services': -0.21945966419575125\n",
      "coefficient for 'Access_to_banking_services': 0.006054095763584773\n",
      "coefficient for 'Access_to_public_transport': 0.10508979088563629\n",
      "coefficient for 'Access_to_cinema_theatre_and_cultural_centre': -0.1186408002127799\n",
      "coefficient for 'Access_to_recreational_or_green_areas': 0.03714547720363199\n",
      "coefficient for 'How_much_time_spent_on_travelling_to_workstudy': -0.013953877372818595\n",
      "coefficient for 'Quality_of_health_services': 0.05243491136639028\n",
      "coefficient for 'Quality_of_education_system': -0.07851900994283163\n",
      "coefficient for 'Quality_of_public_transport': -0.09410474058365242\n",
      "coefficient for 'Quality_of_child_care_services': -0.09301303309866613\n",
      "coefficient for 'Quality_of_long_term_care_services': 0.21688245991788316\n",
      "coefficient for 'Quality_of_socialmunicipal_housing': -0.0749758306587489\n",
      "coefficient for 'Quality_of_state_pension_system': 0.09917022709381915\n",
      "coefficient for 'I_or_someone_else_in_household_used_child_care_in_12_months': 0.060239108528846785\n",
      "coefficient for 'Someone_close_outside_household_used_child_care_in_12_months': 0.01648193014958656\n",
      "coefficient for 'Nobody_used_child_care_in_12_months': -0.025464895171653425\n",
      "coefficient for 'Child_care_used_in_12_months__dont_know': -0.0725908236952657\n",
      "coefficient for 'Child_care_used_in_12_months__refusal': 0.013204718009103255\n",
      "coefficient for 'I_or_someone_else_in_household_used_long_term_care_in_12_months': 0.0020128846512503535\n",
      "coefficient for 'Someone_close_outside_household_used_long_term_care_in_12_months': 0.021091779423359523\n",
      "coefficient for 'Nobody_used_long_term_care_in_12_months': 0.012171346055956388\n",
      "coefficient for 'Long_term_care_used_in_12_months__dont_know': -0.06623145646998937\n",
      "coefficient for 'Long_term_care_used_in_12_months__refusal': 0.013204718009103255\n",
      "coefficient for 'Difficult_to_use_child_care_because_of_cost': -0.04401799128320014\n",
      "coefficient for 'Difficult_to_use_child_care_because_of_availability': -0.04238258122020243\n",
      "coefficient for 'Difficult_to_use_child_care_because_of_access': -0.025577716065693746\n",
      "coefficient for 'Difficult_to_use_child_care_because_of_quality_of_care': -0.02675467733547275\n",
      "coefficient for 'Difficult_to_use_long_term_care_because_of_cost': -0.03457689797331395\n",
      "coefficient for 'Difficult_to_use_long_term_care_because_of_availability': -0.008108763460557838\n",
      "coefficient for 'Difficult_to_use_long_term_care_because_of_access': 0.009587763586627362\n",
      "coefficient for 'Difficult_to_use_long_term_care_because_of_quality_of_care': 0.012473767182495118\n",
      "coefficient for 'Can_most_people_be_trusted': 0.02372113063325069\n",
      "coefficient for 'How_much_tension_between_Poor_and_Rich': -0.16006075509071196\n",
      "coefficient for 'How_much_tension_between_Management_and_Workers': 0.07592275090269145\n",
      "coefficient for 'How_much_tension_between_Men_and_Women': 0.11961947551026755\n",
      "coefficient for 'How_much_tension_between_Old_and_Young_people': 0.09415621544296844\n",
      "coefficient for 'How_much_tension_between_different_racialethnic_groups': -0.18690934730000633\n",
      "coefficient for 'How_much_tension_between_different_religious_groups': -0.23302484563430603\n",
      "coefficient for 'How_much_tension_between_groups_with_different_sexual_orientation': -0.013621756647705164\n",
      "coefficient for 'How_much_trust_the_parliament': 0.04709282921837572\n",
      "coefficient for 'How_much_trust_the_legal_system': -0.09392825110361255\n",
      "coefficient for 'How_much_trust_the_press': 0.004695600455192463\n",
      "coefficient for 'How_much_trust_the_police': -0.027102366124483603\n",
      "coefficient for 'How_much_trust_the_government': -0.057258741901248855\n",
      "coefficient for 'How_much_trust_the_local_authorities': 0.09655526623443618\n",
      "coefficient for 'How_frequently_attend_religious_services': -0.003749921744603545\n",
      "coefficient for 'How_frequently_use_the_Internet_other_than_for_work': 0.0475501456486591\n",
      "coefficient for 'How_frequently_take_part_in_sports_or_exercise': -0.09863655856591347\n",
      "coefficient for 'How_frequently_participate_in_social_activities': -0.06756552452509965\n",
      "coefficient for 'How_often_worked_unpaid_for_community_services_last_12_months': -0.09298368141111361\n",
      "coefficient for 'How_often_worked_unpaid_for_educationcultural_etc_organisation_last_12_months': -0.05307645925627193\n",
      "coefficient for 'How_often_worked_unpaid_for_social_movementscharities_last_12_months': -0.13805766884070272\n",
      "coefficient for 'How_often_worked_unpaid_for_political_parties_or_trade_unions_last_12_months': -0.06916025518398966\n",
      "coefficient for 'How_often_worked_unpaid_for_other_voluntary_org_last_12_months': -0.06918998154548091\n",
      "coefficient for 'Attended_a_trade_unionpolitical_party_meeting_last_12_months': 0.035125497131802\n",
      "coefficient for 'Attended_a_protest_or_demonstration_last_12_months': -0.027860861194012623\n",
      "coefficient for 'Signed_a_petition_last_12_months': -0.023543686093719766\n",
      "coefficient for 'Contacted_a_politician_last_12_months': 0.0853971465470291\n",
      "coefficient for 'Feel_left_out_of_sociey': -0.03934782197908308\n",
      "coefficient for 'Cant_find_the_way_because_life_has_become_so_complicated': -0.01602127262712602\n",
      "coefficient for 'The_value_of_what_I_do_is_not_recognised_by_others': -0.07044620817487308\n",
      "coefficient for 'People_look_down_on_me_because_of_my_job_situation_or_income': 0.1629302573326414\n",
      "coefficient for 'Feel_close_to_people_in_the_area_where_I_live': 0.21778203498372942\n",
      "coefficient for 'Social_Exclusion_Index': 0.015795601658105052\n",
      "coefficient for 'Volunteering_frequency': 0.12175452293042183\n",
      "coefficient for 'Personal_financial_situation': 0.08902848814574327\n",
      "coefficient for 'Household_able_to_make_ends_meet': -0.1439621443026834\n",
      "coefficient for 'Can_afford_to_keep_home_adequately_warm': 0.019490857531843646\n",
      "coefficient for 'Can_afford_to_pay_for_a_weeks_annual_holiday_away': -0.025974908861021773\n",
      "coefficient for 'Can_afford_to_replace_any_wornout_furniture': -0.12753492594720592\n",
      "coefficient for 'Can_afford_a_meal_with_meatchickenfish_every_second_day': 0.03731564591141684\n",
      "coefficient for 'Can_afford_to_buy_new_rather_than_secondhand_clothes': -0.06436360406295866\n",
      "coefficient for 'Can_afford_to_have_friends_or_family_for_a_drinkmeal_at_least_once_a_month': 0.08545274566927881\n",
      "coefficient for 'Rentmortgage_payments_for_accommodation': -0.017620923743227962\n",
      "coefficient for 'Utility_bills_such_as_electricity_water_gas': 0.039417988203180515\n",
      "coefficient for 'Payments_for_consumer_loanscredit_cards': -0.08251741095052247\n",
      "coefficient for 'Payments_for_informal_loans_from_friendsrelatives': -0.06805130137421052\n",
      "coefficient for 'Financial_situation_of_your_household_compared_to_12_months_ago': 0.2470298799787994\n",
      "coefficient for 'Household_financial_expectations_for_th_12_months': -0.12164318119421096\n",
      "coefficient for 'Deprivation_index_No_of_items_hhold_cant_afford': 0.024023550295515186\n",
      "coefficient for 'I_am_optimistic_about_the_future': 0.016483832887843775\n",
      "coefficient for 'I_generally_feel_that_what_I_do_in_life_is_worthwhile': -0.01246483793471198\n",
      "coefficient for 'I_feel_I_am_free_to_decide_how_to_live_my_life': 0.19202451813912763\n",
      "coefficient for 'I_seldom_have_time_to_do_the_things_I_really_enjoy': 0.07962190666675435\n",
      "coefficient for 'How_satisfied_with_life_these_days': 0.017815930976332345\n",
      "coefficient for 'How_satisfied_with_education': 0.06098642623118678\n",
      "coefficient for 'How_satisfied_with_present_job': -0.039190590269122534\n",
      "coefficient for 'How_satisfied_with_present_standard_of_living': 0.062214186401322896\n",
      "coefficient for 'How_satisfied_with_accommodation': 0.03205730758746539\n",
      "coefficient for 'How_satisfied_with_family_life': 0.02608699750295156\n",
      "coefficient for 'How_satisfied_with_social_life': 0.25695759255156575\n",
      "coefficient for 'How_satisfied_with_economic_situation_in_the_country': -0.07976315133456421\n",
      "coefficient for 'How_happy_are_you': 0.10482929102659692\n",
      "coefficient for 'How_often_felt_cheerful_and_in_good_spirits_last_2_weeks': 0.07181591668630426\n",
      "coefficient for 'How_often_felt_calm_and_relaxed_last_2_weeks': 0.20080477392620502\n",
      "coefficient for 'How_often_felt_active_and_vigorous_last_2_weeks': -0.44858206285394336\n",
      "coefficient for 'How_often_woke_up_feeling_fresh_and_rested_last_2_weeks': -0.306626866558553\n",
      "coefficient for 'How_often_felt_your_daily_life_has_been_filled_with_things_that_interest_you_last_2_weeks': 0.15164729237380875\n",
      "coefficient for 'How_often_felt_particularly_tense_last_2_weeks': 0.30562369044022514\n",
      "coefficient for 'How_often_felt_lonely_last_2_weeks': -0.19964018432939595\n",
      "coefficient for 'How_often_felt_downhearted_and_depressed_last_2_weeks': 0.13423179943233776\n",
      "coefficient for 'WHO5_mental_wellbeing_index': 0.00342290978605295\n",
      "coefficient for 'Final_weight_trimmed_and_standardised': 0.11842208092149502\n",
      "coefficient for 'Crossnational_weight__EU28__to_calculate_averages_for_all_EU_in_2013_incl_Croatia': 0.20567097981520419\n",
      "coefficient for 'Weight_5_total': 0.20223197495277026\n",
      "coefficient for 'How_many_hours_work_per_week_in_1st_job': 0.0020470499636365885\n",
      "coefficient for 'How_many_hours_per_week_would_you_prefer_to_work_at_present': 0.010933333211791279\n",
      "coefficient for 'How_many_hours_does_your_partner_work_per_week': 0.033841084531600854\n",
      "coefficient for 'How_many_hours_per_week_would_you_prefer_your_partner_to_work': 0.003852846856180223\n",
      "coefficient for 'Working_hours_fit_with_familysocial_commitments': -0.02071851525828327\n",
      "coefficient for 'Come_home_from_work_too_tired_to_do_some_of_the_household_jobs': 0.19933169015087687\n",
      "coefficient for 'Difficult_to_fulfil_family_responsibilities_because_of_the_time_at_work': 0.008699955072163855\n",
      "coefficient for 'Difficult_to_concentrate_at_work_because_of_family_responsibilities': -0.14618283923504133\n",
      "coefficient for 'How_likely_to_lose_job_in_6_months': 0.19519643913300358\n",
      "coefficient for 'How_likely_to_find_another_job_of_similar_salary': 0.008673101857252561\n",
      "coefficient for 'How_often_care_for_your_children': -0.088299934162267\n",
      "coefficient for 'How_often_cook_and_doing_housework': -0.08579477947372742\n",
      "coefficient for 'How_often_care_for_elderly_or_disabled_relatives': 0.2702395882821616\n",
      "coefficient for 'The_share_of_housework_you_do_is_': 0.018814095681392924\n",
      "coefficient for 'As_much_time_as_would_like_with_family_members': -0.07842926426514442\n",
      "coefficient for 'As_much_time_as_would_like_with_others_not_family': -0.12979759098785168\n",
      "coefficient for 'As_much_time_as_would_like_on_own_hobbiesinterests': 0.02956176453995361\n",
      "coefficient for 'As_much_time_as_would_like_on_voluntary_work': 0.04468973068288461\n",
      "coefficient for 'Worklife_balance_conflict': -0.07385798023493184\n",
      "coefficient for 'Worked_at_an_additional_paid_job_last_4_weeks': -0.004476936791782216\n",
      "coefficient for 'How_many_hours_per_week_worked_in_the_additional_job': 0.00952198162312667\n",
      "coefficient for 'DV_Total_number_of_working_hours': 0.01439792996752112\n",
      "coefficient for 'DV_Citizenship': 0.04228975774781254\n",
      "coefficient for 'DV_Anyone_usedwould_have_like_to_use_child_care_last_12_months': -0.17702856976000364\n",
      "coefficient for 'DV_Anyone_usedwould_have_like_to_use_long_term_care_last_12_months': -0.11655120095892703\n",
      "coefficient for 'DV_No_of_factors_which_made_it_difficult_to_use_child_care': 0.23717021445149714\n",
      "coefficient for 'DV_No_of_factors_which_made_it_difficult_to_use_long_term_care': 0.11610218103980251\n",
      "coefficient for 'DV_Preferred_working_hours_3_groups': -0.03016436563506685\n",
      "coefficient for 'DV_Preferred_working_hours_of_respondents_partner_3_groups': -0.07093760298637315\n",
      "Mean Absolute Error for Netherlands from Imputation:\n",
      "0.08745874587458746\n",
      "Mean Absolute Error for Romania from Imputation:\n",
      "0.1690694626474443\n"
     ]
    },
    {
     "name": "stderr",
     "output_type": "stream",
     "text": [
      "/Users/clast/Documents/2021_projects/rds-course/.venv/lib/python3.7/site-packages/sklearn/linear_model/_logistic.py:765: ConvergenceWarning: lbfgs failed to converge (status=1):\n",
      "STOP: TOTAL NO. of ITERATIONS REACHED LIMIT.\n",
      "\n",
      "Increase the number of iterations (max_iter) or scale the data as shown in:\n",
      "    https://scikit-learn.org/stable/modules/preprocessing.html\n",
      "Please also refer to the documentation for alternative solver options:\n",
      "    https://scikit-learn.org/stable/modules/linear_model.html#logistic-regression\n",
      "  extra_warning_msg=_LOGISTIC_SOLVER_CONVERGENCE_MSG)\n"
     ]
    }
   ],
   "source": [
    "# creating training and test data for Netherlands\n",
    "eqls_2011_NL_target = feature_2011_NL_columns.Health_condition_binary\n",
    "eqls_2011_NL_predictors = feature_2011_NL_columns.drop(['Health_condition_binary','Health_condition'], axis=1)\n",
    "\n",
    "# For the sake of keeping the example simple, we'll use only numeric predictors.\n",
    "eqls_2011_NL_numeric_predictors = eqls_2011_NL_predictors.select_dtypes(exclude=['object'])\n",
    "\n",
    "X_train_NL, X_test_NL, y_train_NL, y_test_NL = train_test_split(eqls_2011_NL_numeric_predictors,\n",
    "                                                    eqls_2011_NL_target,\n",
    "                                                    train_size=0.7,\n",
    "                                                    test_size=0.3,\n",
    "                                                    random_state=0)\n",
    "\n",
    "#Creating training and test set for Romania\n",
    "eqls_2011_RO_target = feature_2011_RO_columns.Health_condition_binary\n",
    "eqls_2011_RO_predictors = feature_2011_RO_columns.drop(['Health_condition_binary','Health_condition'], axis=1)\n",
    "\n",
    "# For the sake of keeping the example simple, we'll use only numeric predictors.\n",
    "eqls_2011_RO_numeric_predictors = eqls_2011_RO_predictors.select_dtypes(exclude=['object'])\n",
    "\n",
    "X_train_RO, X_test_RO, y_train_RO, y_test_RO = train_test_split(eqls_2011_RO_numeric_predictors,\n",
    "                                                    eqls_2011_RO_target,\n",
    "                                                    train_size=0.7,\n",
    "                                                    test_size=0.3,\n",
    "                                                    random_state=0)\n",
    "\n",
    "\n",
    "imputed_X_test_RO = DataFrameImputer().fit_transform(X_test_RO)\n",
    "imputed_X_train_RO = DataFrameImputer().fit_transform(X_train_RO)\n",
    "imputed_X_test_NL = DataFrameImputer().fit_transform(X_test_NL)\n",
    "imputed_X_train_NL = DataFrameImputer().fit_transform(X_train_NL)\n",
    "\n",
    "def get_fitted_model(X_train, y_train):\n",
    "    model = LogisticRegression()\n",
    "    return model.fit(X_train, y_train)\n",
    "\n",
    "coef_dict_NL = ModelCoeffients(imputed_X_train_NL, y_train_NL).print_model_coefficients()\n",
    "coef_dict_RO = ModelCoeffients(imputed_X_train_RO, y_train_RO).print_model_coefficients()\n",
    "\n",
    "logistic_regression_model_UK = get_fitted_model(imputed_X_train_UK, y_train)\n",
    "\n",
    "y_pred_NL = logistic_regression_model_UK.predict(imputed_X_test_NL)\n",
    "\n",
    "y_pred_RO = logistic_regression_model_UK.predict(imputed_X_test_RO)\n",
    "\n",
    "#Getting the MAE for both countries using the UK model\n",
    "print(\"Mean Absolute Error for Netherlands from Imputation:\")\n",
    "print(mean_absolute_error(y_test_NL, y_pred_NL))\n",
    "print(\"Mean Absolute Error for Romania from Imputation:\")\n",
    "print(mean_absolute_error(y_test_RO, y_pred_RO))"
   ],
   "metadata": {
    "collapsed": false,
    "pycharm": {
     "name": "#%%\n"
    }
   }
  },
  {
   "cell_type": "markdown",
   "source": [
    "The above error statistics from the `Netherlands` and the `Romania` test set. To repeat, these are predictions are using the UK model to predict\n",
    "self-reported health on test sets for Netherlands and Romania. The MAE for the predictions on Netherlands respondents is\n",
    "higher than the prediction error on the UK test dataset. The Romania model performs even worse than the Netherlands predictions,\n",
    "indicating that the feature importances in the UK model do not best model the features which are important in predicting\n",
    "self-reported health in Romania."
   ],
   "metadata": {
    "collapsed": false
   }
  },
  {
   "cell_type": "code",
   "execution_count": 24,
   "outputs": [
    {
     "data": {
      "text/plain": "<Figure size 432x288 with 1 Axes>",
      "image/png": "[encoded data removed]"
     },
     "metadata": {
      "needs_background": "light"
     },
     "output_type": "display_data"
    },
    {
     "name": "stdout",
     "output_type": "stream",
     "text": [
      "Top 10 important features to predict Netherlands self-reported health\n"
     ]
    },
    {
     "data": {
      "text/plain": "['How_satisfied_with_life_these_days',\n 'Difficult_to_see_a_doctor_because_of_distance',\n 'Personal_financial_situation',\n 'Difficult_to_see_a_doctor_because_of_delay_in_getting_appointment',\n 'Quality_of_long_term_care_services',\n 'Working_hours_fit_with_familysocial_commitments',\n 'People_look_down_on_me_because_of_my_job_situation_or_income',\n 'Difficult_to_concentrate_at_work_because_of_family_responsibilities',\n 'Contacted_a_politician_last_12_months',\n 'DV_Preferred_working_hours_of_respondents_partner_3_groups']"
     },
     "execution_count": 24,
     "metadata": {},
     "output_type": "execute_result"
    }
   ],
   "source": [
    "# plot feature importance\n",
    "NL_feature_importance = plt.bar([x for x in range(len(coef_dict_NL.keys()))], coef_dict_NL.values(), label=\"Netherlands\")\n",
    "RO_feature_importance = plt.bar([x for x in range(len(coef_dict_RO.keys()))], coef_dict_RO.values(),  label=\"Romania\")\n",
    "UK_feature_importance = plt.bar([x for x in range(len(coef_dict_UK.keys()))], coef_dict_UK.values(),  label=\"UK\")\n",
    "plt.legend(handles=[NL_feature_importance, RO_feature_importance, UK_feature_importance])\n",
    "plt.show()\n",
    "\n",
    "#getting top 10 features from dict\n",
    "print(\"Top 10 important features to predict Netherlands self-reported health\")\n",
    "sorted(coef_dict_NL, key=coef_dict_NL.get, reverse=True)[:10]"
   ],
   "metadata": {
    "collapsed": false,
    "pycharm": {
     "name": "#%%\n"
    }
   }
  },
  {
   "cell_type": "code",
   "execution_count": 19,
   "outputs": [
    {
     "name": "stdout",
     "output_type": "stream",
     "text": [
      "Top 10 important features to predict Romanian self-reported health\n"
     ]
    },
    {
     "data": {
      "text/plain": "['Difficult_to_see_a_doctor_because_of_distance',\n 'How_often_felt_particularly_tense_last_2_weeks',\n 'How_often_care_for_elderly_or_disabled_relatives',\n 'How_satisfied_with_social_life',\n 'Financial_situation_of_your_household_compared_to_12_months_ago',\n 'DV_No_of_factors_which_made_it_difficult_to_use_child_care',\n 'A_person_to_get_support_from_to_raise_emergency_money',\n 'Feel_close_to_people_in_the_area_where_I_live',\n 'Quality_of_long_term_care_services',\n 'Tenure']"
     },
     "execution_count": 19,
     "metadata": {},
     "output_type": "execute_result"
    }
   ],
   "source": [
    "print(\"Top 10 important features to predict Romanian self-reported health\")\n",
    "sorted(coef_dict_RO, key=coef_dict_RO.get, reverse=True)[:10]"
   ],
   "metadata": {
    "collapsed": false,
    "pycharm": {
     "name": "#%%\n"
    }
   }
  },
  {
   "cell_type": "code",
   "execution_count": 40,
   "outputs": [
    {
     "name": "stdout",
     "output_type": "stream",
     "text": [
      "Accuracy: 0.9224422442244224\n",
      "Precision: 0.924496644295302\n",
      "Recall: 0.9963833634719711\n"
     ]
    },
    {
     "data": {
      "text/plain": "<Figure size 432x288 with 2 Axes>",
      "image/png": "[encoded data removed]"
     },
     "metadata": {
      "needs_background": "light"
     },
     "output_type": "display_data"
    }
   ],
   "source": [
    "cnf_matrix_NL = metrics.confusion_matrix(y_test_NL, y_pred_NL)\n",
    "cnf_matrix_NL\n",
    "\n",
    "class_names=[0,1] # name  of classes\n",
    "fig, ax = plt.subplots()\n",
    "tick_marks = np.arange(len(class_names))\n",
    "plt.xticks(tick_marks, class_names)\n",
    "plt.yticks(tick_marks, class_names)\n",
    "# create heatmap\n",
    "sns.heatmap(pd.DataFrame(cnf_matrix_NL), annot=True, cmap=\"YlGnBu\" ,fmt='g')\n",
    "ax.xaxis.set_label_position(\"top\")\n",
    "plt.tight_layout()\n",
    "plt.title('Confusion matrix for Netherlands Predictions', y=1.1)\n",
    "plt.ylabel('Actual label')\n",
    "plt.xlabel('Predicted label')\n",
    "\n",
    "print(\"Accuracy:\",metrics.accuracy_score(y_test_NL, y_pred_NL))\n",
    "print(\"Precision:\",metrics.precision_score(y_test_NL, y_pred_NL))\n",
    "print(\"Recall:\",metrics.recall_score(y_test_NL, y_pred_NL))\n"
   ],
   "metadata": {
    "collapsed": false,
    "pycharm": {
     "name": "#%%\n"
    }
   }
  },
  {
   "cell_type": "code",
   "execution_count": 41,
   "outputs": [
    {
     "name": "stdout",
     "output_type": "stream",
     "text": [
      "Accuracy: 0.8833551769331586\n",
      "Precision: 0.8877551020408163\n",
      "Recall: 0.9806763285024155\n"
     ]
    },
    {
     "data": {
      "text/plain": "<Figure size 432x288 with 2 Axes>",
      "image/png": "[encoded data removed]"
     },
     "metadata": {
      "needs_background": "light"
     },
     "output_type": "display_data"
    }
   ],
   "source": [
    "cnf_matrix_RO = metrics.confusion_matrix(y_test_RO, y_pred_RO)\n",
    "cnf_matrix_RO\n",
    "\n",
    "class_names=[0,1] # name  of classes\n",
    "fig, ax = plt.subplots()\n",
    "tick_marks = np.arange(len(class_names))\n",
    "plt.xticks(tick_marks, class_names)\n",
    "plt.yticks(tick_marks, class_names)\n",
    "# create heatmap\n",
    "sns.heatmap(pd.DataFrame(cnf_matrix_RO), annot=True, cmap=\"YlGnBu\" ,fmt='g')\n",
    "ax.xaxis.set_label_position(\"top\")\n",
    "plt.tight_layout()\n",
    "plt.title('Confusion matrix for Romania Predictions', y=1.1)\n",
    "plt.ylabel('Actual label')\n",
    "plt.xlabel('Predicted label')\n",
    "\n",
    "print(\"Accuracy:\",metrics.accuracy_score(y_test_RO, y_pred_RO))\n",
    "print(\"Precision:\",metrics.precision_score(y_test_RO, y_pred_RO))\n",
    "print(\"Recall:\",metrics.recall_score(y_test_RO, y_pred_RO))"
   ],
   "metadata": {
    "collapsed": false,
    "pycharm": {
     "name": "#%%\n"
    }
   }
  },
  {
   "cell_type": "markdown",
   "source": [
    "## References\n",
    "European Foundation for the Improvement of Living and Working Conditions, (2015). European Quality of Life Time Series,\n",
    "2007 and 2011: Open Access. UK Data Service. [data collection]. http://doi.org/10.5255/UKDA-SN-7724-1\n"
   ],
   "metadata": {
    "collapsed": false
   }
  },
  {
   "cell_type": "code",
   "execution_count": null,
   "outputs": [],
   "source": [],
   "metadata": {
    "collapsed": false,
    "pycharm": {
     "name": "#%%\n"
    }
   }
  }
 ],
 "metadata": {
  "kernelspec": {
   "display_name": "Python 3",
   "language": "python",
   "name": "python3"
  },
  "language_info": {
   "codemirror_mode": {
    "name": "ipython",
    "version": 2
   },
   "file_extension": ".py",
   "mimetype": "text/x-python",
   "name": "python",
   "nbconvert_exporter": "python",
   "pygments_lexer": "ipython2",
   "version": "2.7.6"
  }
 },
 "nbformat": 4,
 "nbformat_minor": 0
}