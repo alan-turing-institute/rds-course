{
 "cells": [
  {
   "cell_type": "markdown",
   "source": [
    "## Model Evaluation\n",
    "We can see that the logistic regression model does well when most of the predictions are \"good health\"\n",
    "This is because of dataset imbalances, we can see these below in our classification of `self-reported health`."
   ],
   "metadata": {
    "collapsed": false
   }
  },
  {
   "cell_type": "code",
   "execution_count": 95,
   "outputs": [],
   "source": [
    "# load numpy array from csv file\n",
    "from pathlib import Path\n",
    "import numpy as np\n",
    "import pandas as pd\n",
    "import matplotlib.pyplot as plt\n",
    "import seaborn as sns\n",
    "from sklearn.model_selection import train_test_split\n",
    "\n",
    "# load array\n",
    "root_data_path = Path(\"data\")\n",
    "\n",
    "y_pred = np.loadtxt(str(root_data_path)+f\"/derived_data/y_pred.csv\", delimiter=',')\n",
    "\n",
    "X_train = pd.read_csv(str(root_data_path)+f\"/derived_data/eqls_2011_imputed_X_train.csv\")\n",
    "X_test = pd.read_csv(str(root_data_path)+f\"/derived_data/eqls_2011_imputed_X_test.csv\")\n",
    "y_train = pd.read_csv(str(root_data_path)+f\"/derived_data/eqls_2011_y_train.csv\")\n",
    "y_test = pd.read_csv(str(root_data_path)+f\"/derived_data/eqls_2011_y_test.csv\")\n",
    "\n",
    "feature_2011_other_countries_columns = pd.read_csv(str(root_data_path)+f\"/derived_data/eqls_2011_modelled.csv\")"
   ],
   "metadata": {
    "collapsed": false,
    "pycharm": {
     "name": "#%%\n"
    }
   }
  },
  {
   "cell_type": "code",
   "execution_count": 96,
   "outputs": [
    {
     "data": {
      "text/plain": "1.0    21640\n0.0     2141\nName: 0, dtype: int64"
     },
     "execution_count": 96,
     "metadata": {},
     "output_type": "execute_result"
    }
   ],
   "source": [
    "predictions = pd.DataFrame(y_pred)\n",
    "predictions[0].value_counts()"
   ],
   "metadata": {
    "collapsed": false,
    "pycharm": {
     "name": "#%%\n"
    }
   }
  },
  {
   "cell_type": "markdown",
   "source": [
    "We can see that `\"good health\"` is almost 10x better represented than `\"poor health\"`.\n",
    "\n",
    "We are able to use different techniques to reduce the imbalanced nature of the dataset we are using for training and testing.\n",
    "One of these is \"oversampling\" from minority classes."
   ],
   "metadata": {
    "collapsed": false
   }
  },
  {
   "cell_type": "code",
   "execution_count": 97,
   "outputs": [
    {
     "data": {
      "text/plain": "1    49222\n0    49222\nName: Health_condition_binary, dtype: int64"
     },
     "execution_count": 97,
     "metadata": {},
     "output_type": "execute_result"
    }
   ],
   "source": [
    "from sklearn.utils import resample\n",
    "from sklearn import metrics\n",
    "\n",
    "from sklearn.linear_model import LogisticRegression\n",
    "from sklearn.metrics import mean_absolute_error\n",
    "\n",
    "# concatenate our training data back together\n",
    "X = pd.concat([X_train, y_train], axis=1)\n",
    "# separate minority and majority classes\n",
    "poor_health = X[X.Health_condition_binary==0]\n",
    "good_health = X[X.Health_condition_binary==1]\n",
    "\n",
    "# upsample minority\n",
    "poor_health_upsampled = resample(poor_health,\n",
    "                          replace=True, # sample with replacement\n",
    "                          n_samples=len(good_health), # match number in majority class\n",
    "                          random_state=27) # reproducible results\n",
    "\n",
    "# combine majority and upsampled minority\n",
    "upsampled = pd.concat([good_health, poor_health_upsampled])\n",
    "\n",
    "# check new class counts\n",
    "upsampled.Health_condition_binary.value_counts()"
   ],
   "metadata": {
    "collapsed": false,
    "pycharm": {
     "name": "#%%\n"
    }
   }
  },
  {
   "cell_type": "markdown",
   "source": [
    "After resampling we have an equal ratio of data points for each class! Let’s try our logistic regression again with the balanced training data."
   ],
   "metadata": {
    "collapsed": false
   }
  },
  {
   "cell_type": "code",
   "execution_count": 98,
   "outputs": [],
   "source": [
    "from sklearn.base import TransformerMixin\n",
    "\n",
    "class DataFrameImputer(TransformerMixin):\n",
    "\n",
    "    def __init__(self):\n",
    "        \"\"\"Impute missing values.\n",
    "\n",
    "        Columns of dtype object are imputed with the most frequent value\n",
    "        in column.\n",
    "\n",
    "        Columns of other types are imputed with mean of column.\n",
    "\n",
    "        \"\"\"\n",
    "    def fit(self, X, y=None):\n",
    "\n",
    "        self.fill = pd.Series([X[c].value_counts().index[0]\n",
    "            if X[c].dtype == np.dtype('O') else X[c].mean() for c in X],\n",
    "            index=X.columns)\n",
    "\n",
    "        return self\n",
    "\n",
    "    def transform(self, X, y=None):\n",
    "        return X.fillna(self.fill)\n"
   ],
   "metadata": {
    "collapsed": false,
    "pycharm": {
     "name": "#%%\n"
    }
   }
  },
  {
   "cell_type": "code",
   "execution_count": 99,
   "outputs": [],
   "source": [
    "y_train_upsampled = upsampled.Health_condition_binary\n",
    "X_train_upsampled = upsampled.drop('Health_condition_binary', axis=1)\n"
   ],
   "metadata": {
    "collapsed": false,
    "pycharm": {
     "name": "#%%\n"
    }
   }
  },
  {
   "cell_type": "code",
   "execution_count": 100,
   "outputs": [],
   "source": [
    "#Using imputer to impute missing data from upsampled data\n",
    "imputed_X_train_upsampled = DataFrameImputer().fit_transform(X_train_upsampled)\n",
    "imputed_X_test = DataFrameImputer().fit_transform(X_test)"
   ],
   "metadata": {
    "collapsed": false,
    "pycharm": {
     "name": "#%%\n"
    }
   }
  },
  {
   "cell_type": "code",
   "execution_count": 101,
   "outputs": [
    {
     "name": "stdout",
     "output_type": "stream",
     "text": [
      "Mean Absolute Error from Imputation:\n"
     ]
    },
    {
     "name": "stderr",
     "output_type": "stream",
     "text": [
      "/Users/clast/Documents/2021_projects/rds-course/.venv/lib/python3.7/site-packages/sklearn/linear_model/_logistic.py:765: ConvergenceWarning: lbfgs failed to converge (status=1):\n",
      "STOP: TOTAL NO. of ITERATIONS REACHED LIMIT.\n",
      "\n",
      "Increase the number of iterations (max_iter) or scale the data as shown in:\n",
      "    https://scikit-learn.org/stable/modules/preprocessing.html\n",
      "Please also refer to the documentation for alternative solver options:\n",
      "    https://scikit-learn.org/stable/modules/linear_model.html#logistic-regression\n",
      "  extra_warning_msg=_LOGISTIC_SOLVER_CONVERGENCE_MSG)\n"
     ]
    },
    {
     "name": "stdout",
     "output_type": "stream",
     "text": [
      "0.11126529582439763\n"
     ]
    },
    {
     "name": "stderr",
     "output_type": "stream",
     "text": [
      "/Users/clast/Documents/2021_projects/rds-course/.venv/lib/python3.7/site-packages/sklearn/linear_model/_logistic.py:765: ConvergenceWarning: lbfgs failed to converge (status=1):\n",
      "STOP: TOTAL NO. of ITERATIONS REACHED LIMIT.\n",
      "\n",
      "Increase the number of iterations (max_iter) or scale the data as shown in:\n",
      "    https://scikit-learn.org/stable/modules/preprocessing.html\n",
      "Please also refer to the documentation for alternative solver options:\n",
      "    https://scikit-learn.org/stable/modules/linear_model.html#logistic-regression\n",
      "  extra_warning_msg=_LOGISTIC_SOLVER_CONVERGENCE_MSG)\n"
     ]
    },
    {
     "name": "stdout",
     "output_type": "stream",
     "text": [
      "Accuracy: 0.8887347041756024\n",
      "Precision: 0.9861060137366958\n",
      "Recall: 0.8876303742507905\n"
     ]
    },
    {
     "data": {
      "text/plain": "<Figure size 432x288 with 2 Axes>",
      "image/png": "[encoded data removed]"
     },
     "metadata": {
      "needs_background": "light"
     },
     "output_type": "display_data"
    }
   ],
   "source": [
    "def logistic_regression_score_dataset(X_train, X_test, y_train, y_test):\n",
    "    model = LogisticRegression()\n",
    "    model.fit(X_train, y_train)\n",
    "    preds = model.predict(X_test)\n",
    "    return mean_absolute_error(y_test, preds)\n",
    "\n",
    "print(\"Mean Absolute Error from Imputation:\")\n",
    "print(logistic_regression_score_dataset(imputed_X_train_upsampled, imputed_X_test, y_train_upsampled, y_test))\n",
    "\n",
    "def get_prediction(X_train, X_test, y_train):\n",
    "    model = LogisticRegression()\n",
    "    model.fit(X_train, y_train)\n",
    "    preds = model.predict(X_test)\n",
    "    return preds\n",
    "\n",
    "\n",
    "y_upsampled_pred = get_prediction(imputed_X_train_upsampled, imputed_X_test, y_train_upsampled)\n",
    "\n",
    "cnf_matrix = metrics.confusion_matrix(y_test, y_upsampled_pred)\n",
    "\n",
    "sns.heatmap(pd.DataFrame(cnf_matrix), annot=True, cmap=\"YlGnBu\" ,fmt='g')\n",
    "plt.tight_layout()\n",
    "plt.title('Confusion matrix', y=1.1)\n",
    "plt.ylabel('Actual label')\n",
    "plt.xlabel('Predicted label')\n",
    "\n",
    "print(\"Accuracy:\",metrics.accuracy_score(y_test, y_upsampled_pred))\n",
    "print(\"Precision:\",metrics.precision_score(y_test, y_upsampled_pred))\n",
    "print(\"Recall:\",metrics.recall_score(y_test, y_upsampled_pred))\n"
   ],
   "metadata": {
    "collapsed": false,
    "pycharm": {
     "name": "#%%\n"
    }
   }
  },
  {
   "cell_type": "code",
   "execution_count": 110,
   "outputs": [
    {
     "name": "stderr",
     "output_type": "stream",
     "text": [
      "/Users/clast/Documents/2021_projects/rds-course/.venv/lib/python3.7/site-packages/sklearn/linear_model/_logistic.py:765: ConvergenceWarning: lbfgs failed to converge (status=1):\n",
      "STOP: TOTAL NO. of ITERATIONS REACHED LIMIT.\n",
      "\n",
      "Increase the number of iterations (max_iter) or scale the data as shown in:\n",
      "    https://scikit-learn.org/stable/modules/preprocessing.html\n",
      "Please also refer to the documentation for alternative solver options:\n",
      "    https://scikit-learn.org/stable/modules/linear_model.html#logistic-regression\n",
      "  extra_warning_msg=_LOGISTIC_SOLVER_CONVERGENCE_MSG)\n"
     ]
    },
    {
     "name": "stdout",
     "output_type": "stream",
     "text": [
      "intercept for the model is: [-0.01054549]\n",
      "coefficient for 'EQLS_Wave': 0.21059243303615552\n",
      "coefficient for 'Country': -0.020144851846032607\n",
      "coefficient for 'Marital_status': -0.0038121408393632164\n",
      "coefficient for 'No_of_children': 0.03717668137001054\n",
      "coefficient for 'Education_completed': 0.0818916233427986\n",
      "coefficient for 'Ruralurban_living': 0.024069257229102775\n",
      "coefficient for 'Citizenship__Country': -0.045460435079962044\n",
      "coefficient for 'Citizenship__Another_EU_member': 0.014411699027162422\n",
      "coefficient for 'Citizenship__A_nonEU_country': -0.02424251438649459\n",
      "coefficient for 'Citizenship__Dont_know': -0.006488198025136537\n",
      "coefficient for 'Citizenship__Refusal': -0.015950312231400338\n",
      "coefficient for 'Age': -0.1709825489312338\n",
      "coefficient for 'Gender': 0.06552343540583938\n",
      "coefficient for 'Household_size': -0.0009270605811465749\n",
      "coefficient for 'Household_size__over_18': -0.013176068401272252\n",
      "coefficient for 'Household_structure': -0.011066740437469757\n",
      "coefficient for 'Education__3_groups': 0.0004167945260657779\n",
      "coefficient for 'Employment__7_groups': -0.062295864840309446\n",
      "coefficient for 'Income_quartiles': 0.04935926960193997\n",
      "coefficient for 'DV_Ruralurban_living': -0.001844859051752178\n",
      "coefficient for 'Degree_of_urbanisation': -0.06305240109702108\n",
      "coefficient for 'Country_group': -0.0895661546358568\n",
      "coefficient for 'Direct_contact_with_children': -0.006642426632513433\n",
      "coefficient for 'Direct_contact_with_parents': -0.06314180841973106\n",
      "coefficient for 'Direct_contact_with_other_relatives': 0.05411184176311879\n",
      "coefficient for 'Direct_contact_with_neighbours': 0.04499679513922281\n",
      "coefficient for 'Phoneinternet_contact_with_children': -0.01457679561375196\n",
      "coefficient for 'Phoneinternet_contact_with_parents': 0.05748999860636096\n",
      "coefficient for 'Phoneinternet_contact_with_other_relatives': -0.10277654453186114\n",
      "coefficient for 'Phoneinternet_contact_with_neighbours': -0.012306552682337804\n",
      "coefficient for 'A_person_to_get_support_from_to_help_around_house_': -0.07783254118144955\n",
      "coefficient for 'A_person_to_get_advice_from_about_a_personalfamily_matter': -0.06446466792661808\n",
      "coefficient for 'A_person_to_get_support_from_when_looking_for_a_job': 0.04195701665883042\n",
      "coefficient for 'A_person_to_get_support_from_when_feeling_depressed': 0.02617453157485265\n",
      "coefficient for 'A_person_to_get_support_from_to_raise_emergency_money': 0.03822214558268197\n",
      "coefficient for 'Chronic_health_problems': 0.37506638105633905\n",
      "coefficient for 'Limited_by_chronic_health_problems': 0.5619375365599085\n",
      "coefficient for 'No_of_rooms_in_accommodation': 0.04874184227212719\n",
      "coefficient for 'Tenure': -0.004870514157718342\n",
      "coefficient for 'Problems_with_accommodation__space': -0.0370848904853844\n",
      "coefficient for 'Problems_with_accommodation__rot_in_windows_etc': -0.0849913298957282\n",
      "coefficient for 'Problems_with_accommodation__damp_or_leaks': -0.07519183215234096\n",
      "coefficient for 'Problems_with_accommodation__no_toilet': 0.05887141814799302\n",
      "coefficient for 'Problems_with_accommodation__no_bathshower': 0.054122865096688615\n",
      "coefficient for 'Problems_with_accommodation__no_outside_space': -0.0037777763434606003\n",
      "coefficient for 'Likelihood_of_leaving_accom_within_6_months': 0.042436272147293695\n",
      "coefficient for 'Neighbourhood_problems__noise': -0.03611523345458984\n",
      "coefficient for 'Neighbourhood_problems__air_quality': -0.02897171096671012\n",
      "coefficient for 'Neighbourhood_problems__quality_of_drinking_water': -0.07426815929319168\n",
      "coefficient for 'Neighbourhood_problems__crime_violence_or_vandalism': -0.022858369738607155\n",
      "coefficient for 'Neighbourhood_problems__litter_or_rubbish': 0.0052548361318499265\n",
      "coefficient for 'Neighbourhood_problems__traffic': -0.021578077802370692\n",
      "coefficient for 'No_of_problems_with_accommodation': -0.03845892209727999\n",
      "coefficient for 'Difficult_to_see_a_doctor_because_of_distance': 0.2128493415630412\n",
      "coefficient for 'Difficult_to_see_a_doctor_because_of_delay_in_getting_appointment': 0.010553845027743248\n",
      "coefficient for 'Difficult_to_see_a_doctor_because_of_waiting_time': 0.022913147841841393\n",
      "coefficient for 'Difficult_to_see_a_doctor_because_of_cost': 0.07024159638651241\n",
      "coefficient for 'Difficult_to_see_a_doctor_because_of_lack_of_time': -0.036464984559132295\n",
      "coefficient for 'Access_to_postal_services': -0.011496641600396509\n",
      "coefficient for 'Access_to_banking_services': -0.04087640258063788\n",
      "coefficient for 'Access_to_public_transport': 0.04854022283042123\n",
      "coefficient for 'Access_to_cinema_theatre_and_cultural_centre': 0.03414932579476523\n",
      "coefficient for 'Access_to_recreational_or_green_areas': -0.003797195318236322\n",
      "coefficient for 'How_much_time_spent_on_travelling_to_workstudy': -0.00048634760696573335\n",
      "coefficient for 'Quality_of_health_services': -0.0022216306417730215\n",
      "coefficient for 'Quality_of_education_system': -0.008983122587480016\n",
      "coefficient for 'Quality_of_public_transport': -0.007687572927287483\n",
      "coefficient for 'Quality_of_child_care_services': 0.029867392589675305\n",
      "coefficient for 'Quality_of_long_term_care_services': 0.027922876320741346\n",
      "coefficient for 'Quality_of_socialmunicipal_housing': 0.00018404842987558275\n",
      "coefficient for 'Quality_of_state_pension_system': -0.00962397744986966\n",
      "coefficient for 'I_or_someone_else_in_household_used_child_care_in_12_months': -0.029571299202367212\n",
      "coefficient for 'Someone_close_outside_household_used_child_care_in_12_months': 0.004344324482203878\n",
      "coefficient for 'Nobody_used_child_care_in_12_months': -0.012008300263562201\n",
      "coefficient for 'Child_care_used_in_12_months__dont_know': -0.0028485344322283514\n",
      "coefficient for 'Child_care_used_in_12_months__refusal': -0.021921006470765704\n",
      "coefficient for 'I_or_someone_else_in_household_used_long_term_care_in_12_months': -0.03072668930128286\n",
      "coefficient for 'Someone_close_outside_household_used_long_term_care_in_12_months': 0.02705652766552835\n",
      "coefficient for 'Nobody_used_long_term_care_in_12_months': -0.024206488138348206\n",
      "coefficient for 'Long_term_care_used_in_12_months__dont_know': -0.02007947769078828\n",
      "coefficient for 'Long_term_care_used_in_12_months__refusal': -0.018975895005467987\n",
      "coefficient for 'Difficult_to_use_child_care_because_of_cost': -0.08281168881070079\n",
      "coefficient for 'Difficult_to_use_child_care_because_of_availability': -0.03167273646070841\n",
      "coefficient for 'Difficult_to_use_child_care_because_of_access': -0.029748480676713613\n",
      "coefficient for 'Difficult_to_use_child_care_because_of_quality_of_care': -0.011187497771359018\n",
      "coefficient for 'Difficult_to_use_long_term_care_because_of_cost': -0.050768115471790935\n",
      "coefficient for 'Difficult_to_use_long_term_care_because_of_availability': -0.011209951074273871\n",
      "coefficient for 'Difficult_to_use_long_term_care_because_of_access': -0.020796861291357844\n",
      "coefficient for 'Difficult_to_use_long_term_care_because_of_quality_of_care': -0.031875318894552564\n",
      "coefficient for 'Can_most_people_be_trusted': -0.01072380890564752\n",
      "coefficient for 'How_much_tension_between_Poor_and_Rich': 0.005655902150707757\n",
      "coefficient for 'How_much_tension_between_Management_and_Workers': -0.041064300976782306\n",
      "coefficient for 'How_much_tension_between_Men_and_Women': -0.026836074855736483\n",
      "coefficient for 'How_much_tension_between_Old_and_Young_people': 0.07897395421946025\n",
      "coefficient for 'How_much_tension_between_different_racialethnic_groups': -0.04539120674658638\n",
      "coefficient for 'How_much_tension_between_different_religious_groups': 0.027930797229973166\n",
      "coefficient for 'How_much_tension_between_groups_with_different_sexual_orientation': -0.030114236552527728\n",
      "coefficient for 'How_much_trust_the_parliament': 0.008481918239483405\n",
      "coefficient for 'How_much_trust_the_legal_system': -0.0029518402091786218\n",
      "coefficient for 'How_much_trust_the_press': -0.00481331985191222\n",
      "coefficient for 'How_much_trust_the_police': 0.027671368015272015\n",
      "coefficient for 'How_much_trust_the_government': -0.004434947274371682\n",
      "coefficient for 'How_much_trust_the_local_authorities': -0.002584249485824083\n",
      "coefficient for 'How_frequently_attend_religious_services': 0.006592411052998076\n",
      "coefficient for 'How_frequently_use_the_Internet_other_than_for_work': 0.008286425883854445\n",
      "coefficient for 'How_frequently_take_part_in_sports_or_exercise': -0.11666055484234683\n",
      "coefficient for 'How_frequently_participate_in_social_activities': 0.012942742479765424\n",
      "coefficient for 'How_often_worked_unpaid_for_community_services_last_12_months': 0.04553942416200884\n",
      "coefficient for 'How_often_worked_unpaid_for_educationcultural_etc_organisation_last_12_months': -0.03814053302657815\n",
      "coefficient for 'How_often_worked_unpaid_for_social_movementscharities_last_12_months': -0.02297279654218343\n",
      "coefficient for 'How_often_worked_unpaid_for_political_parties_or_trade_unions_last_12_months': -0.06659888157280051\n",
      "coefficient for 'How_often_worked_unpaid_for_other_voluntary_org_last_12_months': 0.01379496400352903\n",
      "coefficient for 'Attended_a_trade_unionpolitical_party_meeting_last_12_months': -0.004753390740807907\n",
      "coefficient for 'Attended_a_protest_or_demonstration_last_12_months': -0.00962269618533074\n",
      "coefficient for 'Signed_a_petition_last_12_months': -0.011475311938240036\n",
      "coefficient for 'Contacted_a_politician_last_12_months': -0.003467326862881796\n",
      "coefficient for 'Feel_left_out_of_sociey': 0.047762611679484035\n",
      "coefficient for 'Cant_find_the_way_because_life_has_become_so_complicated': 0.012441030829157085\n",
      "coefficient for 'The_value_of_what_I_do_is_not_recognised_by_others': -0.05392598292131993\n",
      "coefficient for 'People_look_down_on_me_because_of_my_job_situation_or_income': 0.05471030333043779\n",
      "coefficient for 'Feel_close_to_people_in_the_area_where_I_live': -0.10691438257283754\n",
      "coefficient for 'Social_Exclusion_Index': -0.05075948187831488\n",
      "coefficient for 'Volunteering_frequency': 0.014827627020655099\n",
      "coefficient for 'Personal_financial_situation': 0.019069653211989022\n",
      "coefficient for 'Household_able_to_make_ends_meet': -0.0045498266081184955\n",
      "coefficient for 'Can_afford_to_keep_home_adequately_warm': -0.05890193573662247\n",
      "coefficient for 'Can_afford_to_pay_for_a_weeks_annual_holiday_away': -0.04976006021834543\n",
      "coefficient for 'Can_afford_to_replace_any_wornout_furniture': -0.04670082628647099\n",
      "coefficient for 'Can_afford_a_meal_with_meatchickenfish_every_second_day': -0.06916331697561162\n",
      "coefficient for 'Can_afford_to_buy_new_rather_than_secondhand_clothes': -0.06264918232073365\n",
      "coefficient for 'Can_afford_to_have_friends_or_family_for_a_drinkmeal_at_least_once_a_month': -0.021790257960786017\n",
      "coefficient for 'Rentmortgage_payments_for_accommodation': -0.07410999060522624\n",
      "coefficient for 'Utility_bills_such_as_electricity_water_gas': -0.05839916272547751\n",
      "coefficient for 'Payments_for_consumer_loanscredit_cards': -0.02134009732716724\n",
      "coefficient for 'Payments_for_informal_loans_from_friendsrelatives': -0.0446706595223984\n",
      "coefficient for 'Financial_situation_of_your_household_compared_to_12_months_ago': 0.011363804036392167\n",
      "coefficient for 'Household_financial_expectations_for_th_12_months': -0.023582702131368\n",
      "coefficient for 'Deprivation_index_No_of_items_hhold_cant_afford': -0.042620623748789846\n",
      "coefficient for 'I_am_optimistic_about_the_future': -0.005055354635537313\n",
      "coefficient for 'I_generally_feel_that_what_I_do_in_life_is_worthwhile': -0.00411879061371361\n",
      "coefficient for 'I_feel_I_am_free_to_decide_how_to_live_my_life': -0.020641953143686383\n",
      "coefficient for 'I_seldom_have_time_to_do_the_things_I_really_enjoy': -0.048212066507654576\n",
      "coefficient for 'How_satisfied_with_life_these_days': 0.04178581913379681\n",
      "coefficient for 'How_satisfied_with_education': -0.036791159301179766\n",
      "coefficient for 'How_satisfied_with_present_job': -0.049320396068664854\n",
      "coefficient for 'How_satisfied_with_present_standard_of_living': -0.03872765472696584\n",
      "coefficient for 'How_satisfied_with_accommodation': -0.022978399636605796\n",
      "coefficient for 'How_satisfied_with_family_life': -0.10002988207317105\n",
      "coefficient for 'How_satisfied_with_health': 0.6216402463951188\n",
      "coefficient for 'How_satisfied_with_social_life': -0.0545140309849055\n",
      "coefficient for 'How_satisfied_with_economic_situation_in_the_country': -0.07532723563447728\n",
      "coefficient for 'How_happy_are_you': 0.0965954083250897\n",
      "coefficient for 'How_often_felt_cheerful_and_in_good_spirits_last_2_weeks': -0.15685936885418236\n",
      "coefficient for 'How_often_felt_calm_and_relaxed_last_2_weeks': -0.03553333782354612\n",
      "coefficient for 'How_often_felt_active_and_vigorous_last_2_weeks': -0.23473189873392264\n",
      "coefficient for 'How_often_woke_up_feeling_fresh_and_rested_last_2_weeks': -0.10966565072912299\n",
      "coefficient for 'How_often_felt_your_daily_life_has_been_filled_with_things_that_interest_you_last_2_weeks': -0.012273077541535027\n",
      "coefficient for 'How_often_felt_particularly_tense_last_2_weeks': 0.03870786737063127\n",
      "coefficient for 'How_often_felt_lonely_last_2_weeks': -0.012822730061101104\n",
      "coefficient for 'How_often_felt_downhearted_and_depressed_last_2_weeks': 0.04086202904702921\n",
      "coefficient for 'WHO5_mental_wellbeing_index': -0.012332693557227705\n",
      "coefficient for 'Final_weight_trimmed_and_standardised': -0.061612348227901834\n",
      "coefficient for 'Crossnational_weight__EU28__to_calculate_averages_for_all_EU_in_2013_incl_Croatia': 0.04684651061848542\n",
      "coefficient for 'Weight_5_total': 0.03270320677530258\n",
      "coefficient for 'How_many_hours_work_per_week_in_1st_job': -0.00020364674179857898\n",
      "coefficient for 'How_many_hours_per_week_would_you_prefer_to_work_at_present': -0.0031479012554939657\n",
      "coefficient for 'How_many_hours_does_your_partner_work_per_week': 0.0026197193907063487\n",
      "coefficient for 'How_many_hours_per_week_would_you_prefer_your_partner_to_work': -0.001612030607084963\n",
      "coefficient for 'Working_hours_fit_with_familysocial_commitments': -0.06724341551077509\n",
      "coefficient for 'Come_home_from_work_too_tired_to_do_some_of_the_household_jobs': 0.08718069691752191\n",
      "coefficient for 'Difficult_to_fulfil_family_responsibilities_because_of_the_time_at_work': -0.006852378227608158\n",
      "coefficient for 'Difficult_to_concentrate_at_work_because_of_family_responsibilities': -0.04891258816617069\n",
      "coefficient for 'How_likely_to_lose_job_in_6_months': -0.04118896674561174\n",
      "coefficient for 'How_likely_to_find_another_job_of_similar_salary': 0.009651177622650997\n",
      "coefficient for 'How_often_care_for_your_children': 0.02846304408438633\n",
      "coefficient for 'How_often_cook_and_doing_housework': 0.014075250907367703\n",
      "coefficient for 'How_often_care_for_elderly_or_disabled_relatives': 0.03707770217720803\n",
      "coefficient for 'The_share_of_housework_you_do_is_': -0.0870600921304464\n",
      "coefficient for 'As_much_time_as_would_like_with_family_members': 0.035245364954473606\n",
      "coefficient for 'As_much_time_as_would_like_with_others_not_family': -0.05686724708085842\n",
      "coefficient for 'As_much_time_as_would_like_on_own_hobbiesinterests': 0.05662818415367499\n",
      "coefficient for 'As_much_time_as_would_like_on_voluntary_work': -0.017525121898799036\n",
      "coefficient for 'Worklife_balance_conflict': -0.06872321596760239\n",
      "coefficient for 'Worked_at_an_additional_paid_job_last_4_weeks': -0.016885421311554617\n",
      "coefficient for 'How_many_hours_per_week_worked_in_the_additional_job': -0.00792261846550037\n",
      "coefficient for 'DV_Total_number_of_working_hours': 0.017457359797743835\n",
      "coefficient for 'DV_Citizenship': -0.029709078747079582\n",
      "coefficient for 'DV_Any_limitingnot_limiting_chronic_health_problem': 0.7390757668672177\n",
      "coefficient for 'DV_Anyone_usedwould_have_like_to_use_child_care_last_12_months': -0.01603979882168496\n",
      "coefficient for 'DV_Anyone_usedwould_have_like_to_use_long_term_care_last_12_months': -0.07734518163699845\n",
      "coefficient for 'DV_No_of_factors_which_made_it_difficult_to_use_child_care': 0.031681980205841044\n",
      "coefficient for 'DV_No_of_factors_which_made_it_difficult_to_use_long_term_care': 0.027349830435050983\n",
      "coefficient for 'DV_Preferred_working_hours_3_groups': -0.07271708057535814\n",
      "coefficient for 'DV_Preferred_working_hours_of_respondents_partner_3_groups': -0.03717096413054812\n"
     ]
    },
    {
     "data": {
      "text/plain": "<Figure size 432x288 with 1 Axes>",
      "image/png": "[encoded data removed]"
     },
     "metadata": {
      "needs_background": "light"
     },
     "output_type": "display_data"
    },
    {
     "data": {
      "text/plain": "['DV_Any_limitingnot_limiting_chronic_health_problem',\n 'How_satisfied_with_health',\n 'Limited_by_chronic_health_problems',\n 'Chronic_health_problems',\n 'How_often_felt_active_and_vigorous_last_2_weeks',\n 'Difficult_to_see_a_doctor_because_of_distance',\n 'EQLS_Wave',\n 'Age',\n 'How_often_felt_cheerful_and_in_good_spirits_last_2_weeks',\n 'How_frequently_take_part_in_sports_or_exercise']"
     },
     "execution_count": 110,
     "metadata": {},
     "output_type": "execute_result"
    }
   ],
   "source": [
    "#Creating class to retrieve coefficient info\n",
    "class ModelCoeffients():\n",
    "    def __init__(self, X_train, y_train):\n",
    "        \"\"\"Retrieves the model intercept and coefficients for model evaluation\n",
    "        \"\"\"\n",
    "        self.X_train = X_train\n",
    "        self.y_train = y_train\n",
    "\n",
    "    def get_model_coefficients(self):\n",
    "        model = LogisticRegression()\n",
    "        clf = model.fit(self.X_train, self.y_train)\n",
    "        return clf, list(self.X_train.columns)\n",
    "\n",
    "    def print_model_coefficients(self):\n",
    "        clf, feature_list = self.get_model_coefficients()\n",
    "        print(f\"intercept for the model is: {clf.intercept_}\")\n",
    "        coef_dict = {}\n",
    "        for feature in feature_list:\n",
    "            print(f\"coefficient for '{feature}': {clf.coef_[0][feature_list.index(feature)]}\")\n",
    "            coef_dict[f\"{feature}\"] = clf.coef_[0][feature_list.index(feature)]\n",
    "        return coef_dict\n",
    "\n",
    "#getting coefficients for all country model with upsampling\n",
    "coef_dict = ModelCoeffients(imputed_X_train_upsampled, y_train_upsampled).print_model_coefficients()\n",
    "# plot feature importance\n",
    "plt.bar([x for x in range(len(coef_dict.keys()))], coef_dict.values())\n",
    "plt.show()\n",
    "\n",
    "# getting top 10 features\n",
    "sorted(coef_dict, key=lambda dict_key: abs(coef_dict[dict_key]), reverse=True)[:10]"
   ],
   "metadata": {
    "collapsed": false,
    "pycharm": {
     "name": "#%%\n"
    }
   }
  },
  {
   "cell_type": "markdown",
   "source": [
    "The precision of the model increased, however, the model is less accurate with upsampling.\n",
    "\n",
    "# Modelling just the UK\n",
    "\n",
    "Here we want to select the UK from the data and see if we can build a country-specific logistic regression model.\n",
    "\n",
    "![country-metadata](\"https://raw.githubusercontent.com/alan-turing-institute/rds-course/hands-on/data-analysis/assets/metadata-country.png\")\n",
    "\n",
    "The country code for selecting the UK is `27.0`"
   ],
   "metadata": {
    "collapsed": false
   }
  },
  {
   "cell_type": "code",
   "execution_count": 111,
   "outputs": [
    {
     "name": "stdout",
     "output_type": "stream",
     "text": [
      "Mean Absolute Error for the UK from Imputation:\n",
      "0.0851063829787234\n"
     ]
    },
    {
     "name": "stderr",
     "output_type": "stream",
     "text": [
      "/Users/clast/Documents/2021_projects/rds-course/.venv/lib/python3.7/site-packages/sklearn/linear_model/_logistic.py:765: ConvergenceWarning: lbfgs failed to converge (status=1):\n",
      "STOP: TOTAL NO. of ITERATIONS REACHED LIMIT.\n",
      "\n",
      "Increase the number of iterations (max_iter) or scale the data as shown in:\n",
      "    https://scikit-learn.org/stable/modules/preprocessing.html\n",
      "Please also refer to the documentation for alternative solver options:\n",
      "    https://scikit-learn.org/stable/modules/linear_model.html#logistic-regression\n",
      "  extra_warning_msg=_LOGISTIC_SOLVER_CONVERGENCE_MSG)\n"
     ]
    }
   ],
   "source": [
    "feature_2011_UK_columns = feature_2011_other_countries_columns.loc[feature_2011_other_countries_columns['Country'] == 27.0]\n",
    "\n",
    "eqls_2011_UK_target = feature_2011_UK_columns.Health_condition_binary\n",
    "eqls_2011_UK_predictors = feature_2011_UK_columns.drop(['Health_condition_binary','Health_condition'], axis=1)\n",
    "\n",
    "# For the sake of keeping the example simple, we'll use only numeric predictors.\n",
    "eqls_2011_UK_numeric_predictors = eqls_2011_UK_predictors.select_dtypes(exclude=['object'])\n",
    "\n",
    "X_train, X_test, y_train, y_test = train_test_split(eqls_2011_UK_numeric_predictors,\n",
    "                                                    eqls_2011_UK_target,\n",
    "                                                    train_size=0.7,\n",
    "                                                    test_size=0.3,\n",
    "                                                    random_state=0)\n",
    "# Imputation\n",
    "imputed_X_train_UK = DataFrameImputer().fit_transform(X_train)\n",
    "imputed_X_test_UK = DataFrameImputer().fit_transform(X_test)\n",
    "print(\"Mean Absolute Error for the UK from Imputation:\")\n",
    "print(logistic_regression_score_dataset(imputed_X_train_UK, imputed_X_test_UK, y_train, y_test))"
   ],
   "metadata": {
    "collapsed": false,
    "pycharm": {
     "name": "#%%\n"
    }
   }
  },
  {
   "cell_type": "markdown",
   "source": [
    "Exploring the feature importance for the Country-specific"
   ],
   "metadata": {
    "collapsed": false
   }
  },
  {
   "cell_type": "code",
   "execution_count": 112,
   "outputs": [
    {
     "name": "stdout",
     "output_type": "stream",
     "text": [
      "intercept for the model is: [-0.00399837]\n",
      "coefficient for 'EQLS_Wave': 0.3097364833945713\n",
      "coefficient for 'Country': -0.10668515944366107\n",
      "coefficient for 'Marital_status': 0.006425002128762327\n",
      "coefficient for 'No_of_children': 0.20857957941956926\n",
      "coefficient for 'Education_completed': 0.18398314969482454\n",
      "coefficient for 'Ruralurban_living': -0.06267622741312222\n",
      "coefficient for 'Citizenship__Country': -0.01303784240502269\n",
      "coefficient for 'Citizenship__Another_EU_member': 0.01872042461094602\n",
      "coefficient for 'Citizenship__A_nonEU_country': -0.025975449430120867\n",
      "coefficient for 'Citizenship__Dont_know': -0.003951302201617112\n",
      "coefficient for 'Citizenship__Refusal': -0.00391703387681099\n",
      "coefficient for 'Age': -0.19456397282801008\n",
      "coefficient for 'Gender': -0.0866242189714268\n",
      "coefficient for 'Household_size': -0.14575546041074583\n",
      "coefficient for 'Household_size__over_18': -0.024070852188800566\n",
      "coefficient for 'Household_structure': -0.12676322014651487\n",
      "coefficient for 'Education__3_groups': -0.04343073523586768\n",
      "coefficient for 'Employment__7_groups': 0.008642491825206955\n",
      "coefficient for 'Income_quartiles': 0.23953380187753587\n",
      "coefficient for 'DV_Ruralurban_living': 0.0643150621997244\n",
      "coefficient for 'Degree_of_urbanisation': 0.4347669385675679\n",
      "coefficient for 'Country_group': -0.007902604403234224\n",
      "coefficient for 'Direct_contact_with_children': 0.13949924211424491\n",
      "coefficient for 'Direct_contact_with_parents': -0.006164803703996689\n",
      "coefficient for 'Direct_contact_with_other_relatives': 0.10475043916298306\n",
      "coefficient for 'Direct_contact_with_neighbours': -0.03972811181375672\n",
      "coefficient for 'Phoneinternet_contact_with_children': -0.07115052490666166\n",
      "coefficient for 'Phoneinternet_contact_with_parents': -0.08674187700472952\n",
      "coefficient for 'Phoneinternet_contact_with_other_relatives': -0.22024828626869694\n",
      "coefficient for 'Phoneinternet_contact_with_neighbours': -0.03778627958567731\n",
      "coefficient for 'A_person_to_get_support_from_to_help_around_house_': 0.21402340424314023\n",
      "coefficient for 'A_person_to_get_advice_from_about_a_personalfamily_matter': 0.08716017735779334\n",
      "coefficient for 'A_person_to_get_support_from_when_looking_for_a_job': 0.08402705106107833\n",
      "coefficient for 'A_person_to_get_support_from_when_feeling_depressed': -0.20477337784553043\n",
      "coefficient for 'A_person_to_get_support_from_to_raise_emergency_money': 0.2601074970679119\n",
      "coefficient for 'Chronic_health_problems': 0.4284815513576175\n",
      "coefficient for 'Limited_by_chronic_health_problems': 1.0566105673576685\n",
      "coefficient for 'No_of_rooms_in_accommodation': -0.07552127718832559\n",
      "coefficient for 'Tenure': -0.11461765846373179\n",
      "coefficient for 'Problems_with_accommodation__space': 0.013321657638704302\n",
      "coefficient for 'Problems_with_accommodation__rot_in_windows_etc': -0.04650419636639517\n",
      "coefficient for 'Problems_with_accommodation__damp_or_leaks': -0.09046784538195404\n",
      "coefficient for 'Problems_with_accommodation__no_toilet': 0.03398298832036329\n",
      "coefficient for 'Problems_with_accommodation__no_bathshower': -0.03069671128127977\n",
      "coefficient for 'Problems_with_accommodation__no_outside_space': -0.05669175911019134\n",
      "coefficient for 'Likelihood_of_leaving_accom_within_6_months': 0.02464195599087546\n",
      "coefficient for 'Neighbourhood_problems__noise': -0.31471683732933764\n",
      "coefficient for 'Neighbourhood_problems__air_quality': 0.06004902147143993\n",
      "coefficient for 'Neighbourhood_problems__quality_of_drinking_water': 0.19731044173632964\n",
      "coefficient for 'Neighbourhood_problems__crime_violence_or_vandalism': 0.0028190277645287576\n",
      "coefficient for 'Neighbourhood_problems__litter_or_rubbish': 0.16080818831998145\n",
      "coefficient for 'Neighbourhood_problems__traffic': -0.31334402350250296\n",
      "coefficient for 'No_of_problems_with_accommodation': 0.12033393933697596\n",
      "coefficient for 'Difficult_to_see_a_doctor_because_of_distance': 0.5211857941427572\n",
      "coefficient for 'Difficult_to_see_a_doctor_because_of_delay_in_getting_appointment': 0.15382897941866555\n",
      "coefficient for 'Difficult_to_see_a_doctor_because_of_waiting_time': 0.0576762416845772\n",
      "coefficient for 'Difficult_to_see_a_doctor_because_of_cost': 0.0005021731352361268\n",
      "coefficient for 'Difficult_to_see_a_doctor_because_of_lack_of_time': -0.21490493152028026\n",
      "coefficient for 'Access_to_postal_services': -0.06840177495811664\n",
      "coefficient for 'Access_to_banking_services': 0.2834067324102093\n",
      "coefficient for 'Access_to_public_transport': -0.43622675890991175\n",
      "coefficient for 'Access_to_cinema_theatre_and_cultural_centre': 0.03610193660094836\n",
      "coefficient for 'Access_to_recreational_or_green_areas': 0.2103455848156653\n",
      "coefficient for 'How_much_time_spent_on_travelling_to_workstudy': -0.005939773325524051\n",
      "coefficient for 'Quality_of_health_services': -0.11994599029553273\n",
      "coefficient for 'Quality_of_education_system': -0.06676044861814195\n",
      "coefficient for 'Quality_of_public_transport': -0.034086220071645856\n",
      "coefficient for 'Quality_of_child_care_services': 0.06609297634511398\n",
      "coefficient for 'Quality_of_long_term_care_services': -0.08390417662640698\n",
      "coefficient for 'Quality_of_socialmunicipal_housing': 0.024504162032133802\n",
      "coefficient for 'Quality_of_state_pension_system': 0.07065884372684403\n",
      "coefficient for 'I_or_someone_else_in_household_used_child_care_in_12_months': 0.05807601644093604\n",
      "coefficient for 'Someone_close_outside_household_used_child_care_in_12_months': 0.03235670702667533\n",
      "coefficient for 'Nobody_used_child_care_in_12_months': -0.09134769062510062\n",
      "coefficient for 'Child_care_used_in_12_months__dont_know': -0.009508073805626864\n",
      "coefficient for 'Child_care_used_in_12_months__refusal': -0.003937868682465729\n",
      "coefficient for 'I_or_someone_else_in_household_used_long_term_care_in_12_months': -0.05129063711350339\n",
      "coefficient for 'Someone_close_outside_household_used_long_term_care_in_12_months': 0.052188242459768434\n",
      "coefficient for 'Nobody_used_long_term_care_in_12_months': 0.00289282965574699\n",
      "coefficient for 'Long_term_care_used_in_12_months__dont_know': -0.014040496252185593\n",
      "coefficient for 'Long_term_care_used_in_12_months__refusal': -0.004095195740385695\n",
      "coefficient for 'Difficult_to_use_child_care_because_of_cost': 0.0064150119320987515\n",
      "coefficient for 'Difficult_to_use_child_care_because_of_availability': -0.014593341582627622\n",
      "coefficient for 'Difficult_to_use_child_care_because_of_access': 0.08427244682247041\n",
      "coefficient for 'Difficult_to_use_child_care_because_of_quality_of_care': 0.05888773757084406\n",
      "coefficient for 'Difficult_to_use_long_term_care_because_of_cost': 0.1301266252019515\n",
      "coefficient for 'Difficult_to_use_long_term_care_because_of_availability': 0.036240726851885285\n",
      "coefficient for 'Difficult_to_use_long_term_care_because_of_access': 0.006157976788821437\n",
      "coefficient for 'Difficult_to_use_long_term_care_because_of_quality_of_care': -0.019930301733032462\n",
      "coefficient for 'Can_most_people_be_trusted': 0.038576871049090064\n",
      "coefficient for 'How_much_tension_between_Poor_and_Rich': 0.008158894792020893\n",
      "coefficient for 'How_much_tension_between_Management_and_Workers': 0.10035350475620551\n",
      "coefficient for 'How_much_tension_between_Men_and_Women': 0.07379955028144938\n",
      "coefficient for 'How_much_tension_between_Old_and_Young_people': -0.1792526332708247\n",
      "coefficient for 'How_much_tension_between_different_racialethnic_groups': -0.0895662636393913\n",
      "coefficient for 'How_much_tension_between_different_religious_groups': -0.11570053967251348\n",
      "coefficient for 'How_much_tension_between_groups_with_different_sexual_orientation': -0.1313246339087918\n",
      "coefficient for 'How_much_trust_the_parliament': 0.033113177564544474\n",
      "coefficient for 'How_much_trust_the_legal_system': 0.03841881495177171\n",
      "coefficient for 'How_much_trust_the_press': -0.026489720935429856\n",
      "coefficient for 'How_much_trust_the_police': 0.06861656912172638\n",
      "coefficient for 'How_much_trust_the_government': -0.09068909219947816\n",
      "coefficient for 'How_much_trust_the_local_authorities': 0.057551207622212934\n",
      "coefficient for 'How_frequently_attend_religious_services': 0.1259701147296092\n",
      "coefficient for 'How_frequently_use_the_Internet_other_than_for_work': 0.08552449053402561\n",
      "coefficient for 'How_frequently_take_part_in_sports_or_exercise': -0.03313562883064298\n",
      "coefficient for 'How_frequently_participate_in_social_activities': 0.21477223293997294\n",
      "coefficient for 'How_often_worked_unpaid_for_community_services_last_12_months': -0.0777357408698191\n",
      "coefficient for 'How_often_worked_unpaid_for_educationcultural_etc_organisation_last_12_months': 0.011706727223497995\n",
      "coefficient for 'How_often_worked_unpaid_for_social_movementscharities_last_12_months': 0.06145776851274332\n",
      "coefficient for 'How_often_worked_unpaid_for_political_parties_or_trade_unions_last_12_months': -0.06119116821779157\n",
      "coefficient for 'How_often_worked_unpaid_for_other_voluntary_org_last_12_months': -0.017805613024259783\n",
      "coefficient for 'Attended_a_trade_unionpolitical_party_meeting_last_12_months': -0.08206162089273418\n",
      "coefficient for 'Attended_a_protest_or_demonstration_last_12_months': -0.0525921662631614\n",
      "coefficient for 'Signed_a_petition_last_12_months': -0.07898023903250655\n",
      "coefficient for 'Contacted_a_politician_last_12_months': -0.1878537134177278\n",
      "coefficient for 'Feel_left_out_of_sociey': 0.23515836586740263\n",
      "coefficient for 'Cant_find_the_way_because_life_has_become_so_complicated': -0.39421876221487007\n",
      "coefficient for 'The_value_of_what_I_do_is_not_recognised_by_others': -0.1646775267127542\n",
      "coefficient for 'People_look_down_on_me_because_of_my_job_situation_or_income': 0.1998087696254127\n",
      "coefficient for 'Feel_close_to_people_in_the_area_where_I_live': 0.07661074951800023\n",
      "coefficient for 'Social_Exclusion_Index': -0.004223912039273095\n",
      "coefficient for 'Volunteering_frequency': -0.25615410993338716\n",
      "coefficient for 'Personal_financial_situation': -0.06349765555575645\n",
      "coefficient for 'Household_able_to_make_ends_meet': -0.3393351604273502\n",
      "coefficient for 'Can_afford_to_keep_home_adequately_warm': -0.05808797002916282\n",
      "coefficient for 'Can_afford_to_pay_for_a_weeks_annual_holiday_away': -0.15379111390158667\n",
      "coefficient for 'Can_afford_to_replace_any_wornout_furniture': 0.07446203419796407\n",
      "coefficient for 'Can_afford_a_meal_with_meatchickenfish_every_second_day': -0.0136031025686753\n",
      "coefficient for 'Can_afford_to_buy_new_rather_than_secondhand_clothes': 0.11169061026906608\n",
      "coefficient for 'Can_afford_to_have_friends_or_family_for_a_drinkmeal_at_least_once_a_month': -0.16114769757176006\n",
      "coefficient for 'Rentmortgage_payments_for_accommodation': 0.0589912021695701\n",
      "coefficient for 'Utility_bills_such_as_electricity_water_gas': 0.012652991533935226\n",
      "coefficient for 'Payments_for_consumer_loanscredit_cards': -0.02680001861728495\n",
      "coefficient for 'Payments_for_informal_loans_from_friendsrelatives': -0.12139949417748992\n",
      "coefficient for 'Financial_situation_of_your_household_compared_to_12_months_ago': 0.26339570402167267\n",
      "coefficient for 'Household_financial_expectations_for_th_12_months': 0.15158881164009524\n",
      "coefficient for 'Deprivation_index_No_of_items_hhold_cant_afford': -0.07871812193441896\n",
      "coefficient for 'I_am_optimistic_about_the_future': 0.021751046122130007\n",
      "coefficient for 'I_generally_feel_that_what_I_do_in_life_is_worthwhile': 0.1687007148594639\n",
      "coefficient for 'I_feel_I_am_free_to_decide_how_to_live_my_life': -0.24957694832226954\n",
      "coefficient for 'I_seldom_have_time_to_do_the_things_I_really_enjoy': -0.32066918722738336\n",
      "coefficient for 'How_satisfied_with_life_these_days': 0.003251224799864751\n",
      "coefficient for 'How_satisfied_with_education': -0.10779139648340554\n",
      "coefficient for 'How_satisfied_with_present_job': -0.04931863051505061\n",
      "coefficient for 'How_satisfied_with_present_standard_of_living': -0.11200079247609275\n",
      "coefficient for 'How_satisfied_with_accommodation': -0.026146399408674085\n",
      "coefficient for 'How_satisfied_with_family_life': -0.021713645988260352\n",
      "coefficient for 'How_satisfied_with_health': 0.7843810913967244\n",
      "coefficient for 'How_satisfied_with_social_life': -0.012856793531283457\n",
      "coefficient for 'How_satisfied_with_economic_situation_in_the_country': -0.23709067570323822\n",
      "coefficient for 'How_happy_are_you': 0.07961074402807247\n",
      "coefficient for 'How_often_felt_cheerful_and_in_good_spirits_last_2_weeks': 0.014795967912652221\n",
      "coefficient for 'How_often_felt_calm_and_relaxed_last_2_weeks': -0.007396432026125157\n",
      "coefficient for 'How_often_felt_active_and_vigorous_last_2_weeks': -0.3950275861156127\n",
      "coefficient for 'How_often_woke_up_feeling_fresh_and_rested_last_2_weeks': 0.10079500649101729\n",
      "coefficient for 'How_often_felt_your_daily_life_has_been_filled_with_things_that_interest_you_last_2_weeks': -0.2221729182522428\n",
      "coefficient for 'How_often_felt_particularly_tense_last_2_weeks': 0.13266240187445755\n",
      "coefficient for 'How_often_felt_lonely_last_2_weeks': 0.10179959905960156\n",
      "coefficient for 'How_often_felt_downhearted_and_depressed_last_2_weeks': 0.03168104255265619\n",
      "coefficient for 'WHO5_mental_wellbeing_index': -0.007968367487653246\n",
      "coefficient for 'Final_weight_trimmed_and_standardised': 0.028303957487081862\n",
      "coefficient for 'Crossnational_weight__EU28__to_calculate_averages_for_all_EU_in_2013_incl_Croatia': -0.09517160042157152\n",
      "coefficient for 'Weight_5_total': -0.0706783035490756\n",
      "coefficient for 'How_many_hours_work_per_week_in_1st_job': -0.0007512618338617722\n",
      "coefficient for 'How_many_hours_per_week_would_you_prefer_to_work_at_present': -0.004362288926864712\n",
      "coefficient for 'How_many_hours_does_your_partner_work_per_week': -0.0006752822667069104\n",
      "coefficient for 'How_many_hours_per_week_would_you_prefer_your_partner_to_work': -0.005153111488596438\n",
      "coefficient for 'Working_hours_fit_with_familysocial_commitments': 0.05765974210977815\n",
      "coefficient for 'Come_home_from_work_too_tired_to_do_some_of_the_household_jobs': -0.06449528271706313\n",
      "coefficient for 'Difficult_to_fulfil_family_responsibilities_because_of_the_time_at_work': 0.19642483256513407\n",
      "coefficient for 'Difficult_to_concentrate_at_work_because_of_family_responsibilities': 0.19053743827244504\n",
      "coefficient for 'How_likely_to_lose_job_in_6_months': 0.18724227116131842\n",
      "coefficient for 'How_likely_to_find_another_job_of_similar_salary': -0.11669014277467545\n",
      "coefficient for 'How_often_care_for_your_children': 0.17082184781111126\n",
      "coefficient for 'How_often_cook_and_doing_housework': 0.10365790486700066\n",
      "coefficient for 'How_often_care_for_elderly_or_disabled_relatives': 0.029173208487080604\n",
      "coefficient for 'The_share_of_housework_you_do_is_': 0.00833954600805838\n",
      "coefficient for 'As_much_time_as_would_like_with_family_members': -0.03356885301017243\n",
      "coefficient for 'As_much_time_as_would_like_with_others_not_family': 0.04785465385553899\n",
      "coefficient for 'As_much_time_as_would_like_on_own_hobbiesinterests': 0.10076125992637835\n",
      "coefficient for 'As_much_time_as_would_like_on_voluntary_work': -0.0988818524909469\n",
      "coefficient for 'Worklife_balance_conflict': -0.06618345540441394\n",
      "coefficient for 'Worked_at_an_additional_paid_job_last_4_weeks': -0.07586984083156878\n",
      "coefficient for 'How_many_hours_per_week_worked_in_the_additional_job': 0.014369291224199278\n",
      "coefficient for 'DV_Total_number_of_working_hours': 0.00683005435835806\n",
      "coefficient for 'DV_Citizenship': -0.025432998655399167\n",
      "coefficient for 'DV_Any_limitingnot_limiting_chronic_health_problem': 1.0552536777148196\n",
      "coefficient for 'DV_Anyone_usedwould_have_like_to_use_child_care_last_12_months': -0.12166503629922588\n",
      "coefficient for 'DV_Anyone_usedwould_have_like_to_use_long_term_care_last_12_months': 0.07248357474428911\n",
      "coefficient for 'DV_No_of_factors_which_made_it_difficult_to_use_child_care': 0.0157061822560434\n",
      "coefficient for 'DV_No_of_factors_which_made_it_difficult_to_use_long_term_care': -0.06322830744417819\n",
      "coefficient for 'DV_Preferred_working_hours_3_groups': -0.17064977696514413\n",
      "coefficient for 'DV_Preferred_working_hours_of_respondents_partner_3_groups': -0.026406915085765106\n"
     ]
    },
    {
     "name": "stderr",
     "output_type": "stream",
     "text": [
      "/Users/clast/Documents/2021_projects/rds-course/.venv/lib/python3.7/site-packages/sklearn/linear_model/_logistic.py:765: ConvergenceWarning: lbfgs failed to converge (status=1):\n",
      "STOP: TOTAL NO. of ITERATIONS REACHED LIMIT.\n",
      "\n",
      "Increase the number of iterations (max_iter) or scale the data as shown in:\n",
      "    https://scikit-learn.org/stable/modules/preprocessing.html\n",
      "Please also refer to the documentation for alternative solver options:\n",
      "    https://scikit-learn.org/stable/modules/linear_model.html#logistic-regression\n",
      "  extra_warning_msg=_LOGISTIC_SOLVER_CONVERGENCE_MSG)\n"
     ]
    }
   ],
   "source": [
    "coef_dict_UK = ModelCoeffients(imputed_X_train_UK, y_train).print_model_coefficients()"
   ],
   "metadata": {
    "collapsed": false,
    "pycharm": {
     "name": "#%%\n"
    }
   }
  },
  {
   "cell_type": "markdown",
   "source": [
    "## Get feature importances\n",
    "The above code allows us look further at the coefficients."
   ],
   "metadata": {
    "collapsed": false
   }
  },
  {
   "cell_type": "code",
   "execution_count": 113,
   "outputs": [
    {
     "data": {
      "text/plain": "<Figure size 432x288 with 1 Axes>",
      "image/png": "[encoded data removed]"
     },
     "metadata": {
      "needs_background": "light"
     },
     "output_type": "display_data"
    },
    {
     "data": {
      "text/plain": "['DV_Any_limitingnot_limiting_chronic_health_problem',\n 'How_satisfied_with_health',\n 'Limited_by_chronic_health_problems',\n 'Chronic_health_problems',\n 'Difficult_to_see_a_doctor_because_of_distance',\n 'EQLS_Wave',\n 'How_happy_are_you',\n 'Come_home_from_work_too_tired_to_do_some_of_the_household_jobs',\n 'Education_completed',\n 'How_much_tension_between_Old_and_Young_people']"
     },
     "execution_count": 113,
     "metadata": {},
     "output_type": "execute_result"
    }
   ],
   "source": [
    "# plot feature importance\n",
    "plt.bar([x for x in range(len(coef_dict.keys()))], coef_dict.values())\n",
    "plt.show()\n",
    "\n",
    "#getting top 10 features from dict\n",
    "sorted(coef_dict, key=coef_dict.get, reverse=True)[:10]"
   ],
   "metadata": {
    "collapsed": false,
    "pycharm": {
     "name": "#%%\n"
    }
   }
  },
  {
   "cell_type": "markdown",
   "source": [
    "The above features are the most important when modelling self-reported health for\n",
    "\n",
    "We can see that Logistic regression performs using only UK data performs similar to the total country model, suggesting that country is not a large determinant of why\n",
    "individuals self-reported health. Let's retrieve this model and test it on two additional country data.\n",
    "\n",
    "Now, Lets select two other countries from the dataset to test the transferability of this model."
   ],
   "metadata": {
    "collapsed": false
   }
  },
  {
   "cell_type": "code",
   "execution_count": 106,
   "outputs": [],
   "source": [
    "# Selecting data for the Netherlands\n",
    "feature_2011_NL_columns = feature_2011_other_countries_columns.loc[feature_2011_other_countries_columns['Country'] == 20.0]\n",
    "# Selecting data for Romania\n",
    "feature_2011_RO_columns = feature_2011_other_countries_columns.loc[feature_2011_other_countries_columns['Country'] == 23.0]\n",
    "\n",
    "\n",
    "def create_test_data(df):\n",
    "    df_target = df.Health_condition_binary\n",
    "    df_predictors = df.drop(['Health_condition_binary','Health_condition'], axis=1)\n",
    "    df_numeric_predictors = df_predictors.select_dtypes(exclude=['object'])\n",
    "    X_train, X_test, y_train, y_test = train_test_split(df_numeric_predictors,\n",
    "                                                        df_target,\n",
    "                                                        train_size=0.7,\n",
    "                                                        test_size=0.3,\n",
    "                                                        random_state=0)\n",
    "    return X_test, y_test"
   ],
   "metadata": {
    "collapsed": false,
    "pycharm": {
     "name": "#%%                                                                   'Unique_respondent_ID'])\n"
    }
   }
  },
  {
   "cell_type": "code",
   "execution_count": 107,
   "outputs": [
    {
     "ename": "ValueError",
     "evalue": "Found input variables with inconsistent numbers of samples: [606, 1413]",
     "output_type": "error",
     "traceback": [
      "\u001B[0;31m---------------------------------------------------------------------------\u001B[0m",
      "\u001B[0;31mValueError\u001B[0m                                Traceback (most recent call last)",
      "\u001B[0;32m/var/folders/p2/kyb6y_1d0pv_vvpdvlcz39h40000gr/T/ipykernel_43919/3336201881.py\u001B[0m in \u001B[0;36m<module>\u001B[0;34m\u001B[0m\n\u001B[1;32m     10\u001B[0m     \u001B[0;32mreturn\u001B[0m \u001B[0mmodel\u001B[0m\u001B[0;34m.\u001B[0m\u001B[0mfit\u001B[0m\u001B[0;34m(\u001B[0m\u001B[0mX_train\u001B[0m\u001B[0;34m,\u001B[0m \u001B[0my_train\u001B[0m\u001B[0;34m)\u001B[0m\u001B[0;34m\u001B[0m\u001B[0;34m\u001B[0m\u001B[0m\n\u001B[1;32m     11\u001B[0m \u001B[0;34m\u001B[0m\u001B[0m\n\u001B[0;32m---> 12\u001B[0;31m \u001B[0mcoef_dict_NL\u001B[0m \u001B[0;34m=\u001B[0m \u001B[0mModelCoeffients\u001B[0m\u001B[0;34m(\u001B[0m\u001B[0mimputed_X_test_NL\u001B[0m\u001B[0;34m,\u001B[0m \u001B[0my_train_NL\u001B[0m\u001B[0;34m)\u001B[0m\u001B[0;34m.\u001B[0m\u001B[0mprint_model_coefficients\u001B[0m\u001B[0;34m(\u001B[0m\u001B[0;34m)\u001B[0m\u001B[0;34m\u001B[0m\u001B[0;34m\u001B[0m\u001B[0m\n\u001B[0m\u001B[1;32m     13\u001B[0m \u001B[0mcoef_dict_RO\u001B[0m \u001B[0;34m=\u001B[0m \u001B[0mModelCoeffients\u001B[0m\u001B[0;34m(\u001B[0m\u001B[0mimputed_X_test_RO\u001B[0m\u001B[0;34m,\u001B[0m \u001B[0my_train_RO\u001B[0m\u001B[0;34m)\u001B[0m\u001B[0;34m.\u001B[0m\u001B[0mprint_model_coefficients\u001B[0m\u001B[0;34m(\u001B[0m\u001B[0;34m)\u001B[0m\u001B[0;34m\u001B[0m\u001B[0;34m\u001B[0m\u001B[0m\n\u001B[1;32m     14\u001B[0m \u001B[0;34m\u001B[0m\u001B[0m\n",
      "\u001B[0;32m/var/folders/p2/kyb6y_1d0pv_vvpdvlcz39h40000gr/T/ipykernel_43919/135260677.py\u001B[0m in \u001B[0;36mprint_model_coefficients\u001B[0;34m(self)\u001B[0m\n\u001B[1;32m     13\u001B[0m \u001B[0;34m\u001B[0m\u001B[0m\n\u001B[1;32m     14\u001B[0m     \u001B[0;32mdef\u001B[0m \u001B[0mprint_model_coefficients\u001B[0m\u001B[0;34m(\u001B[0m\u001B[0mself\u001B[0m\u001B[0;34m)\u001B[0m\u001B[0;34m:\u001B[0m\u001B[0;34m\u001B[0m\u001B[0;34m\u001B[0m\u001B[0m\n\u001B[0;32m---> 15\u001B[0;31m         \u001B[0mclf\u001B[0m\u001B[0;34m,\u001B[0m \u001B[0mfeature_list\u001B[0m \u001B[0;34m=\u001B[0m \u001B[0mself\u001B[0m\u001B[0;34m.\u001B[0m\u001B[0mget_model_coefficients\u001B[0m\u001B[0;34m(\u001B[0m\u001B[0;34m)\u001B[0m\u001B[0;34m\u001B[0m\u001B[0;34m\u001B[0m\u001B[0m\n\u001B[0m\u001B[1;32m     16\u001B[0m         \u001B[0mprint\u001B[0m\u001B[0;34m(\u001B[0m\u001B[0;34mf\"intercept for the model is: {clf.intercept_}\"\u001B[0m\u001B[0;34m)\u001B[0m\u001B[0;34m\u001B[0m\u001B[0;34m\u001B[0m\u001B[0m\n\u001B[1;32m     17\u001B[0m         \u001B[0mcoef_dict\u001B[0m \u001B[0;34m=\u001B[0m \u001B[0;34m{\u001B[0m\u001B[0;34m}\u001B[0m\u001B[0;34m\u001B[0m\u001B[0;34m\u001B[0m\u001B[0m\n",
      "\u001B[0;32m/var/folders/p2/kyb6y_1d0pv_vvpdvlcz39h40000gr/T/ipykernel_43919/135260677.py\u001B[0m in \u001B[0;36mget_model_coefficients\u001B[0;34m(self)\u001B[0m\n\u001B[1;32m      9\u001B[0m     \u001B[0;32mdef\u001B[0m \u001B[0mget_model_coefficients\u001B[0m\u001B[0;34m(\u001B[0m\u001B[0mself\u001B[0m\u001B[0;34m)\u001B[0m\u001B[0;34m:\u001B[0m\u001B[0;34m\u001B[0m\u001B[0;34m\u001B[0m\u001B[0m\n\u001B[1;32m     10\u001B[0m         \u001B[0mmodel\u001B[0m \u001B[0;34m=\u001B[0m \u001B[0mLogisticRegression\u001B[0m\u001B[0;34m(\u001B[0m\u001B[0;34m)\u001B[0m\u001B[0;34m\u001B[0m\u001B[0;34m\u001B[0m\u001B[0m\n\u001B[0;32m---> 11\u001B[0;31m         \u001B[0mclf\u001B[0m \u001B[0;34m=\u001B[0m \u001B[0mmodel\u001B[0m\u001B[0;34m.\u001B[0m\u001B[0mfit\u001B[0m\u001B[0;34m(\u001B[0m\u001B[0mself\u001B[0m\u001B[0;34m.\u001B[0m\u001B[0mX_train\u001B[0m\u001B[0;34m,\u001B[0m \u001B[0mself\u001B[0m\u001B[0;34m.\u001B[0m\u001B[0my_train\u001B[0m\u001B[0;34m)\u001B[0m\u001B[0;34m\u001B[0m\u001B[0;34m\u001B[0m\u001B[0m\n\u001B[0m\u001B[1;32m     12\u001B[0m         \u001B[0;32mreturn\u001B[0m \u001B[0mclf\u001B[0m\u001B[0;34m,\u001B[0m \u001B[0mlist\u001B[0m\u001B[0;34m(\u001B[0m\u001B[0mself\u001B[0m\u001B[0;34m.\u001B[0m\u001B[0mX_train\u001B[0m\u001B[0;34m.\u001B[0m\u001B[0mcolumns\u001B[0m\u001B[0;34m)\u001B[0m\u001B[0;34m\u001B[0m\u001B[0;34m\u001B[0m\u001B[0m\n\u001B[1;32m     13\u001B[0m \u001B[0;34m\u001B[0m\u001B[0m\n",
      "\u001B[0;32m~/Documents/2021_projects/rds-course/.venv/lib/python3.7/site-packages/sklearn/linear_model/_logistic.py\u001B[0m in \u001B[0;36mfit\u001B[0;34m(self, X, y, sample_weight)\u001B[0m\n\u001B[1;32m   1344\u001B[0m         X, y = self._validate_data(X, y, accept_sparse='csr', dtype=_dtype,\n\u001B[1;32m   1345\u001B[0m                                    \u001B[0morder\u001B[0m\u001B[0;34m=\u001B[0m\u001B[0;34m\"C\"\u001B[0m\u001B[0;34m,\u001B[0m\u001B[0;34m\u001B[0m\u001B[0;34m\u001B[0m\u001B[0m\n\u001B[0;32m-> 1346\u001B[0;31m                                    accept_large_sparse=solver != 'liblinear')\n\u001B[0m\u001B[1;32m   1347\u001B[0m         \u001B[0mcheck_classification_targets\u001B[0m\u001B[0;34m(\u001B[0m\u001B[0my\u001B[0m\u001B[0;34m)\u001B[0m\u001B[0;34m\u001B[0m\u001B[0;34m\u001B[0m\u001B[0m\n\u001B[1;32m   1348\u001B[0m         \u001B[0mself\u001B[0m\u001B[0;34m.\u001B[0m\u001B[0mclasses_\u001B[0m \u001B[0;34m=\u001B[0m \u001B[0mnp\u001B[0m\u001B[0;34m.\u001B[0m\u001B[0munique\u001B[0m\u001B[0;34m(\u001B[0m\u001B[0my\u001B[0m\u001B[0;34m)\u001B[0m\u001B[0;34m\u001B[0m\u001B[0;34m\u001B[0m\u001B[0m\n",
      "\u001B[0;32m~/Documents/2021_projects/rds-course/.venv/lib/python3.7/site-packages/sklearn/base.py\u001B[0m in \u001B[0;36m_validate_data\u001B[0;34m(self, X, y, reset, validate_separately, **check_params)\u001B[0m\n\u001B[1;32m    431\u001B[0m                 \u001B[0my\u001B[0m \u001B[0;34m=\u001B[0m \u001B[0mcheck_array\u001B[0m\u001B[0;34m(\u001B[0m\u001B[0my\u001B[0m\u001B[0;34m,\u001B[0m \u001B[0;34m**\u001B[0m\u001B[0mcheck_y_params\u001B[0m\u001B[0;34m)\u001B[0m\u001B[0;34m\u001B[0m\u001B[0;34m\u001B[0m\u001B[0m\n\u001B[1;32m    432\u001B[0m             \u001B[0;32melse\u001B[0m\u001B[0;34m:\u001B[0m\u001B[0;34m\u001B[0m\u001B[0;34m\u001B[0m\u001B[0m\n\u001B[0;32m--> 433\u001B[0;31m                 \u001B[0mX\u001B[0m\u001B[0;34m,\u001B[0m \u001B[0my\u001B[0m \u001B[0;34m=\u001B[0m \u001B[0mcheck_X_y\u001B[0m\u001B[0;34m(\u001B[0m\u001B[0mX\u001B[0m\u001B[0;34m,\u001B[0m \u001B[0my\u001B[0m\u001B[0;34m,\u001B[0m \u001B[0;34m**\u001B[0m\u001B[0mcheck_params\u001B[0m\u001B[0;34m)\u001B[0m\u001B[0;34m\u001B[0m\u001B[0;34m\u001B[0m\u001B[0m\n\u001B[0m\u001B[1;32m    434\u001B[0m             \u001B[0mout\u001B[0m \u001B[0;34m=\u001B[0m \u001B[0mX\u001B[0m\u001B[0;34m,\u001B[0m \u001B[0my\u001B[0m\u001B[0;34m\u001B[0m\u001B[0;34m\u001B[0m\u001B[0m\n\u001B[1;32m    435\u001B[0m \u001B[0;34m\u001B[0m\u001B[0m\n",
      "\u001B[0;32m~/Documents/2021_projects/rds-course/.venv/lib/python3.7/site-packages/sklearn/utils/validation.py\u001B[0m in \u001B[0;36minner_f\u001B[0;34m(*args, **kwargs)\u001B[0m\n\u001B[1;32m     61\u001B[0m             \u001B[0mextra_args\u001B[0m \u001B[0;34m=\u001B[0m \u001B[0mlen\u001B[0m\u001B[0;34m(\u001B[0m\u001B[0margs\u001B[0m\u001B[0;34m)\u001B[0m \u001B[0;34m-\u001B[0m \u001B[0mlen\u001B[0m\u001B[0;34m(\u001B[0m\u001B[0mall_args\u001B[0m\u001B[0;34m)\u001B[0m\u001B[0;34m\u001B[0m\u001B[0;34m\u001B[0m\u001B[0m\n\u001B[1;32m     62\u001B[0m             \u001B[0;32mif\u001B[0m \u001B[0mextra_args\u001B[0m \u001B[0;34m<=\u001B[0m \u001B[0;36m0\u001B[0m\u001B[0;34m:\u001B[0m\u001B[0;34m\u001B[0m\u001B[0;34m\u001B[0m\u001B[0m\n\u001B[0;32m---> 63\u001B[0;31m                 \u001B[0;32mreturn\u001B[0m \u001B[0mf\u001B[0m\u001B[0;34m(\u001B[0m\u001B[0;34m*\u001B[0m\u001B[0margs\u001B[0m\u001B[0;34m,\u001B[0m \u001B[0;34m**\u001B[0m\u001B[0mkwargs\u001B[0m\u001B[0;34m)\u001B[0m\u001B[0;34m\u001B[0m\u001B[0;34m\u001B[0m\u001B[0m\n\u001B[0m\u001B[1;32m     64\u001B[0m \u001B[0;34m\u001B[0m\u001B[0m\n\u001B[1;32m     65\u001B[0m             \u001B[0;31m# extra_args > 0\u001B[0m\u001B[0;34m\u001B[0m\u001B[0;34m\u001B[0m\u001B[0;34m\u001B[0m\u001B[0m\n",
      "\u001B[0;32m~/Documents/2021_projects/rds-course/.venv/lib/python3.7/site-packages/sklearn/utils/validation.py\u001B[0m in \u001B[0;36mcheck_X_y\u001B[0;34m(X, y, accept_sparse, accept_large_sparse, dtype, order, copy, force_all_finite, ensure_2d, allow_nd, multi_output, ensure_min_samples, ensure_min_features, y_numeric, estimator)\u001B[0m\n\u001B[1;32m    886\u001B[0m         \u001B[0my\u001B[0m \u001B[0;34m=\u001B[0m \u001B[0my\u001B[0m\u001B[0;34m.\u001B[0m\u001B[0mastype\u001B[0m\u001B[0;34m(\u001B[0m\u001B[0mnp\u001B[0m\u001B[0;34m.\u001B[0m\u001B[0mfloat64\u001B[0m\u001B[0;34m)\u001B[0m\u001B[0;34m\u001B[0m\u001B[0;34m\u001B[0m\u001B[0m\n\u001B[1;32m    887\u001B[0m \u001B[0;34m\u001B[0m\u001B[0m\n\u001B[0;32m--> 888\u001B[0;31m     \u001B[0mcheck_consistent_length\u001B[0m\u001B[0;34m(\u001B[0m\u001B[0mX\u001B[0m\u001B[0;34m,\u001B[0m \u001B[0my\u001B[0m\u001B[0;34m)\u001B[0m\u001B[0;34m\u001B[0m\u001B[0;34m\u001B[0m\u001B[0m\n\u001B[0m\u001B[1;32m    889\u001B[0m \u001B[0;34m\u001B[0m\u001B[0m\n\u001B[1;32m    890\u001B[0m     \u001B[0;32mreturn\u001B[0m \u001B[0mX\u001B[0m\u001B[0;34m,\u001B[0m \u001B[0my\u001B[0m\u001B[0;34m\u001B[0m\u001B[0;34m\u001B[0m\u001B[0m\n",
      "\u001B[0;32m~/Documents/2021_projects/rds-course/.venv/lib/python3.7/site-packages/sklearn/utils/validation.py\u001B[0m in \u001B[0;36mcheck_consistent_length\u001B[0;34m(*arrays)\u001B[0m\n\u001B[1;32m    318\u001B[0m     \u001B[0;32mif\u001B[0m \u001B[0mlen\u001B[0m\u001B[0;34m(\u001B[0m\u001B[0muniques\u001B[0m\u001B[0;34m)\u001B[0m \u001B[0;34m>\u001B[0m \u001B[0;36m1\u001B[0m\u001B[0;34m:\u001B[0m\u001B[0;34m\u001B[0m\u001B[0;34m\u001B[0m\u001B[0m\n\u001B[1;32m    319\u001B[0m         raise ValueError(\"Found input variables with inconsistent numbers of\"\n\u001B[0;32m--> 320\u001B[0;31m                          \" samples: %r\" % [int(l) for l in lengths])\n\u001B[0m\u001B[1;32m    321\u001B[0m \u001B[0;34m\u001B[0m\u001B[0m\n\u001B[1;32m    322\u001B[0m \u001B[0;34m\u001B[0m\u001B[0m\n",
      "\u001B[0;31mValueError\u001B[0m: Found input variables with inconsistent numbers of samples: [606, 1413]"
     ]
    }
   ],
   "source": [
    "#Running the training on Netherlands and Romania\n",
    "X_test_NL, y_test_NL, y_train_NL = create_test_data(feature_2011_NL_columns)\n",
    "X_test_RO, y_test_RO, y_train_RO = create_test_data(feature_2011_RO_columns)\n",
    "\n",
    "imputed_X_test_RO = DataFrameImputer().fit_transform(X_test_RO)\n",
    "imputed_X_test_NL = DataFrameImputer().fit_transform(X_test_NL)\n",
    "\n",
    "def get_fitted_model(X_train, y_train):\n",
    "    model = LogisticRegression()\n",
    "    return model.fit(X_train, y_train)\n",
    "\n",
    "coef_dict_NL = ModelCoeffients(imputed_X_test_NL, y_train_NL).print_model_coefficients()\n",
    "coef_dict_RO = ModelCoeffients(imputed_X_test_RO, y_train_RO).print_model_coefficients()\n",
    "\n",
    "logistic_regression_model_UK = get_fitted_model(imputed_X_train, y_train)\n",
    "\n",
    "y_pred_NL = logistic_regression_model_UK.predict(imputed_X_test_NL)\n",
    "\n",
    "y_pred_RO = logistic_regression_model_UK.predict(imputed_X_test_RO)\n",
    "\n",
    "#Getting the MAE for both countries using the UK model\n",
    "print(\"Mean Absolute Error for Netherlands from Imputation:\")\n",
    "print(mean_absolute_error(y_test_NL, y_pred_NL))\n",
    "print(\"Mean Absolute Error for Romania from Imputation:\")\n",
    "print(mean_absolute_error(y_test_RO, y_pred_RO))"
   ],
   "metadata": {
    "collapsed": false,
    "pycharm": {
     "name": "#%%\n"
    }
   }
  },
  {
   "cell_type": "markdown",
   "source": [
    "The above error statistics from the `Netherlands` and the `Romania` test set. To repeat, these are predictions are using the UK model to predict\n",
    "self-reported health on test sets for Netherlands and Romania. The MAE for the predictions on Netherlands respondents is\n",
    "higher than the prediction error on the UK test dataset. The Romania model performs even worse than the Netherlands predictions,\n",
    "indicating that the feature importances in the UK model do not best model the features which are important in predicting\n",
    "self-reported health in Romania."
   ],
   "metadata": {
    "collapsed": false
   }
  },
  {
   "cell_type": "code",
   "execution_count": 40,
   "outputs": [
    {
     "name": "stdout",
     "output_type": "stream",
     "text": [
      "Accuracy: 0.9224422442244224\n",
      "Precision: 0.924496644295302\n",
      "Recall: 0.9963833634719711\n"
     ]
    },
    {
     "data": {
      "text/plain": "<Figure size 432x288 with 2 Axes>",
      "image/png": "[encoded data removed]"
     },
     "metadata": {
      "needs_background": "light"
     },
     "output_type": "display_data"
    }
   ],
   "source": [
    "cnf_matrix_NL = metrics.confusion_matrix(y_test_NL, y_pred_NL)\n",
    "cnf_matrix_NL\n",
    "\n",
    "class_names=[0,1] # name  of classes\n",
    "fig, ax = plt.subplots()\n",
    "tick_marks = np.arange(len(class_names))\n",
    "plt.xticks(tick_marks, class_names)\n",
    "plt.yticks(tick_marks, class_names)\n",
    "# create heatmap\n",
    "sns.heatmap(pd.DataFrame(cnf_matrix_NL), annot=True, cmap=\"YlGnBu\" ,fmt='g')\n",
    "ax.xaxis.set_label_position(\"top\")\n",
    "plt.tight_layout()\n",
    "plt.title('Confusion matrix for Netherlands Predictions', y=1.1)\n",
    "plt.ylabel('Actual label')\n",
    "plt.xlabel('Predicted label')\n",
    "\n",
    "print(\"Accuracy:\",metrics.accuracy_score(y_test_NL, y_pred_NL))\n",
    "print(\"Precision:\",metrics.precision_score(y_test_NL, y_pred_NL))\n",
    "print(\"Recall:\",metrics.recall_score(y_test_NL, y_pred_NL))\n"
   ],
   "metadata": {
    "collapsed": false,
    "pycharm": {
     "name": "#%%\n"
    }
   }
  },
  {
   "cell_type": "code",
   "execution_count": 41,
   "outputs": [
    {
     "name": "stdout",
     "output_type": "stream",
     "text": [
      "Accuracy: 0.8833551769331586\n",
      "Precision: 0.8877551020408163\n",
      "Recall: 0.9806763285024155\n"
     ]
    },
    {
     "data": {
      "text/plain": "<Figure size 432x288 with 2 Axes>",
      "image/png": "[encoded data removed]"
     },
     "metadata": {
      "needs_background": "light"
     },
     "output_type": "display_data"
    }
   ],
   "source": [
    "cnf_matrix_RO = metrics.confusion_matrix(y_test_RO, y_pred_RO)\n",
    "cnf_matrix_RO\n",
    "\n",
    "class_names=[0,1] # name  of classes\n",
    "fig, ax = plt.subplots()\n",
    "tick_marks = np.arange(len(class_names))\n",
    "plt.xticks(tick_marks, class_names)\n",
    "plt.yticks(tick_marks, class_names)\n",
    "# create heatmap\n",
    "sns.heatmap(pd.DataFrame(cnf_matrix_RO), annot=True, cmap=\"YlGnBu\" ,fmt='g')\n",
    "ax.xaxis.set_label_position(\"top\")\n",
    "plt.tight_layout()\n",
    "plt.title('Confusion matrix for Romania Predictions', y=1.1)\n",
    "plt.ylabel('Actual label')\n",
    "plt.xlabel('Predicted label')\n",
    "\n",
    "print(\"Accuracy:\",metrics.accuracy_score(y_test_RO, y_pred_RO))\n",
    "print(\"Precision:\",metrics.precision_score(y_test_RO, y_pred_RO))\n",
    "print(\"Recall:\",metrics.recall_score(y_test_RO, y_pred_RO))"
   ],
   "metadata": {
    "collapsed": false,
    "pycharm": {
     "name": "#%%\n"
    }
   }
  },
  {
   "cell_type": "markdown",
   "source": [
    "## References\n",
    "European Foundation for the Improvement of Living and Working Conditions, (2015). European Quality of Life Time Series,\n",
    "2007 and 2011: Open Access. UK Data Service. [data collection]. http://doi.org/10.5255/UKDA-SN-7724-1\n"
   ],
   "metadata": {
    "collapsed": false
   }
  },
  {
   "cell_type": "code",
   "execution_count": null,
   "outputs": [],
   "source": [],
   "metadata": {
    "collapsed": false,
    "pycharm": {
     "name": "#%%\n"
    }
   }
  }
 ],
 "metadata": {
  "kernelspec": {
   "display_name": "Python 3",
   "language": "python",
   "name": "python3"
  },
  "language_info": {
   "codemirror_mode": {
    "name": "ipython",
    "version": 2
   },
   "file_extension": ".py",
   "mimetype": "text/x-python",
   "name": "python",
   "nbconvert_exporter": "python",
   "pygments_lexer": "ipython2",
   "version": "2.7.6"
  }
 },
 "nbformat": 4,
 "nbformat_minor": 0
}