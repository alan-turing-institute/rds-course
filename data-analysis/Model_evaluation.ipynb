{
 "cells": [
  {
   "cell_type": "markdown",
   "source": [
    "## Model Evaluation\n",
    "We can see that the logistic regression model does well when most of the predictions are \"good health\"\n",
    "This is because of dataset imbalances, we can see these below in our classification of `self-reported health`."
   ],
   "metadata": {
    "collapsed": false
   }
  },
  {
   "cell_type": "code",
   "execution_count": 27,
   "outputs": [],
   "source": [
    "# load numpy array from csv file\n",
    "from pathlib import Path\n",
    "import numpy as np\n",
    "import pandas as pd\n",
    "import matplotlib.pyplot as plt\n",
    "import seaborn as sns\n",
    "from sklearn.model_selection import train_test_split\n",
    "\n",
    "# load array\n",
    "root_data_path = Path(\"data\")\n",
    "\n",
    "y_pred = np.loadtxt(str(root_data_path)+f\"/derived_data/y_pred.csv\", delimiter=',')\n",
    "\n",
    "X_train = pd.read_csv(str(root_data_path)+f\"/derived_data/eqls_2011_imputed_X_train.csv\")\n",
    "X_test = pd.read_csv(str(root_data_path)+f\"/derived_data/eqls_2011_imputed_X_test.csv\")\n",
    "y_train = pd.read_csv(str(root_data_path)+f\"/derived_data/eqls_2011_y_train.csv\")\n",
    "y_test = pd.read_csv(str(root_data_path)+f\"/derived_data/eqls_2011_y_test.csv\")\n",
    "\n",
    "feature_2011_other_countries_columns = pd.read_csv(str(root_data_path)+f\"/derived_data/eqls_2011_modelled.csv\")\n"
   ],
   "metadata": {
    "collapsed": false,
    "pycharm": {
     "name": "#%%\n"
    }
   }
  },
  {
   "cell_type": "code",
   "execution_count": 28,
   "outputs": [
    {
     "data": {
      "text/plain": "1.0    22092\n0.0     1689\nName: 0, dtype: int64"
     },
     "execution_count": 28,
     "metadata": {},
     "output_type": "execute_result"
    }
   ],
   "source": [
    "predictions = pd.DataFrame(y_pred)\n",
    "predictions[0].value_counts()"
   ],
   "metadata": {
    "collapsed": false,
    "pycharm": {
     "name": "#%%\n"
    }
   }
  },
  {
   "cell_type": "markdown",
   "source": [
    "We can see that `\"good health\"` is almost 10x better represented than `\"poor health\"`.\n",
    "\n",
    "We are able to use different techniques to reduce the imbalanced nature of the dataset we are using for training and testing.\n",
    "One of these is \"oversampling\" from minority classes."
   ],
   "metadata": {
    "collapsed": false
   }
  },
  {
   "cell_type": "code",
   "execution_count": 29,
   "outputs": [
    {
     "data": {
      "text/plain": "1    49222\n0    49222\nName: Health_condition_binary, dtype: int64"
     },
     "execution_count": 29,
     "metadata": {},
     "output_type": "execute_result"
    }
   ],
   "source": [
    "from sklearn.utils import resample\n",
    "from sklearn import metrics\n",
    "\n",
    "from sklearn.linear_model import LogisticRegression\n",
    "from sklearn.metrics import mean_absolute_error\n",
    "\n",
    "# concatenate our training data back together\n",
    "X = pd.concat([X_train, y_train], axis=1)\n",
    "# separate minority and majority classes\n",
    "poor_health = X[X.Health_condition_binary==0]\n",
    "good_health = X[X.Health_condition_binary==1]\n",
    "\n",
    "# upsample minority\n",
    "poor_health_upsampled = resample(poor_health,\n",
    "                          replace=True, # sample with replacement\n",
    "                          n_samples=len(good_health), # match number in majority class\n",
    "                          random_state=27) # reproducible results\n",
    "\n",
    "# combine majority and upsampled minority\n",
    "upsampled = pd.concat([good_health, poor_health_upsampled])\n",
    "\n",
    "# check new class counts\n",
    "upsampled.Health_condition_binary.value_counts()"
   ],
   "metadata": {
    "collapsed": false,
    "pycharm": {
     "name": "#%%\n"
    }
   }
  },
  {
   "cell_type": "markdown",
   "source": [
    "After resampling we have an equal ratio of data points for each class! Let’s try our logistic regression again with the balanced training data."
   ],
   "metadata": {
    "collapsed": false
   }
  },
  {
   "cell_type": "code",
   "execution_count": 30,
   "outputs": [],
   "source": [
    "from sklearn.base import TransformerMixin\n",
    "\n",
    "class DataFrameImputer(TransformerMixin):\n",
    "\n",
    "    def __init__(self):\n",
    "        \"\"\"Impute missing values.\n",
    "\n",
    "        Columns of dtype object are imputed with the most frequent value\n",
    "        in column.\n",
    "\n",
    "        Columns of other types are imputed with mean of column.\n",
    "\n",
    "        \"\"\"\n",
    "    def fit(self, X, y=None):\n",
    "\n",
    "        self.fill = pd.Series([X[c].value_counts().index[0]\n",
    "            if X[c].dtype == np.dtype('O') else X[c].mean() for c in X],\n",
    "            index=X.columns)\n",
    "\n",
    "        return self\n",
    "\n",
    "    def transform(self, X, y=None):\n",
    "        return X.fillna(self.fill)\n"
   ],
   "metadata": {
    "collapsed": false,
    "pycharm": {
     "name": "#%%\n"
    }
   }
  },
  {
   "cell_type": "code",
   "execution_count": 31,
   "outputs": [
    {
     "name": "stdout",
     "output_type": "stream",
     "text": [
      "Mean Absolute Error from Imputation:\n"
     ]
    },
    {
     "name": "stderr",
     "output_type": "stream",
     "text": [
      "/Users/clast/Documents/2021_projects/rds-course/.venv/lib/python3.7/site-packages/sklearn/linear_model/_logistic.py:765: ConvergenceWarning: lbfgs failed to converge (status=1):\n",
      "STOP: TOTAL NO. of ITERATIONS REACHED LIMIT.\n",
      "\n",
      "Increase the number of iterations (max_iter) or scale the data as shown in:\n",
      "    https://scikit-learn.org/stable/modules/preprocessing.html\n",
      "Please also refer to the documentation for alternative solver options:\n",
      "    https://scikit-learn.org/stable/modules/linear_model.html#logistic-regression\n",
      "  extra_warning_msg=_LOGISTIC_SOLVER_CONVERGENCE_MSG)\n"
     ]
    },
    {
     "name": "stdout",
     "output_type": "stream",
     "text": [
      "0.16180984819814137\n"
     ]
    },
    {
     "name": "stderr",
     "output_type": "stream",
     "text": [
      "/Users/clast/Documents/2021_projects/rds-course/.venv/lib/python3.7/site-packages/sklearn/linear_model/_logistic.py:765: ConvergenceWarning: lbfgs failed to converge (status=1):\n",
      "STOP: TOTAL NO. of ITERATIONS REACHED LIMIT.\n",
      "\n",
      "Increase the number of iterations (max_iter) or scale the data as shown in:\n",
      "    https://scikit-learn.org/stable/modules/preprocessing.html\n",
      "Please also refer to the documentation for alternative solver options:\n",
      "    https://scikit-learn.org/stable/modules/linear_model.html#logistic-regression\n",
      "  extra_warning_msg=_LOGISTIC_SOLVER_CONVERGENCE_MSG)\n"
     ]
    },
    {
     "ename": "NameError",
     "evalue": "name 'ax' is not defined",
     "output_type": "error",
     "traceback": [
      "\u001B[0;31m---------------------------------------------------------------------------\u001B[0m",
      "\u001B[0;31mNameError\u001B[0m                                 Traceback (most recent call last)",
      "\u001B[0;32m/var/folders/p2/kyb6y_1d0pv_vvpdvlcz39h40000gr/T/ipykernel_43919/2832254756.py\u001B[0m in \u001B[0;36m<module>\u001B[0;34m\u001B[0m\n\u001B[1;32m     26\u001B[0m \u001B[0;34m\u001B[0m\u001B[0m\n\u001B[1;32m     27\u001B[0m \u001B[0msns\u001B[0m\u001B[0;34m.\u001B[0m\u001B[0mheatmap\u001B[0m\u001B[0;34m(\u001B[0m\u001B[0mpd\u001B[0m\u001B[0;34m.\u001B[0m\u001B[0mDataFrame\u001B[0m\u001B[0;34m(\u001B[0m\u001B[0mcnf_matrix\u001B[0m\u001B[0;34m)\u001B[0m\u001B[0;34m,\u001B[0m \u001B[0mannot\u001B[0m\u001B[0;34m=\u001B[0m\u001B[0;32mTrue\u001B[0m\u001B[0;34m,\u001B[0m \u001B[0mcmap\u001B[0m\u001B[0;34m=\u001B[0m\u001B[0;34m\"YlGnBu\"\u001B[0m \u001B[0;34m,\u001B[0m\u001B[0mfmt\u001B[0m\u001B[0;34m=\u001B[0m\u001B[0;34m'g'\u001B[0m\u001B[0;34m)\u001B[0m\u001B[0;34m\u001B[0m\u001B[0;34m\u001B[0m\u001B[0m\n\u001B[0;32m---> 28\u001B[0;31m \u001B[0max\u001B[0m\u001B[0;34m.\u001B[0m\u001B[0mxaxis\u001B[0m\u001B[0;34m.\u001B[0m\u001B[0mset_label_position\u001B[0m\u001B[0;34m(\u001B[0m\u001B[0;34m\"top\"\u001B[0m\u001B[0;34m)\u001B[0m\u001B[0;34m\u001B[0m\u001B[0;34m\u001B[0m\u001B[0m\n\u001B[0m\u001B[1;32m     29\u001B[0m \u001B[0mplt\u001B[0m\u001B[0;34m.\u001B[0m\u001B[0mtight_layout\u001B[0m\u001B[0;34m(\u001B[0m\u001B[0;34m)\u001B[0m\u001B[0;34m\u001B[0m\u001B[0;34m\u001B[0m\u001B[0m\n\u001B[1;32m     30\u001B[0m \u001B[0mplt\u001B[0m\u001B[0;34m.\u001B[0m\u001B[0mtitle\u001B[0m\u001B[0;34m(\u001B[0m\u001B[0;34m'Confusion matrix'\u001B[0m\u001B[0;34m,\u001B[0m \u001B[0my\u001B[0m\u001B[0;34m=\u001B[0m\u001B[0;36m1.1\u001B[0m\u001B[0;34m)\u001B[0m\u001B[0;34m\u001B[0m\u001B[0;34m\u001B[0m\u001B[0m\n",
      "\u001B[0;31mNameError\u001B[0m: name 'ax' is not defined"
     ]
    },
    {
     "data": {
      "text/plain": "<Figure size 432x288 with 2 Axes>",
      "image/png": "[encoded data removed]"
     },
     "metadata": {
      "needs_background": "light"
     },
     "output_type": "display_data"
    }
   ],
   "source": [
    "y_train_upsampled = upsampled.Health_condition_binary\n",
    "X_train_upsampled = upsampled.drop('Health_condition_binary', axis=1)\n",
    "\n",
    "imputed_X_train_upsampled = DataFrameImputer().fit_transform(X_train_upsampled)\n",
    "imputed_X_test = DataFrameImputer().fit_transform(X_test)\n",
    "\n",
    "def logistic_regression_score_dataset(X_train, X_test, y_train, y_test):\n",
    "    model = LogisticRegression()\n",
    "    model.fit(X_train, y_train)\n",
    "    preds = model.predict(X_test)\n",
    "    return mean_absolute_error(y_test, preds)\n",
    "\n",
    "print(\"Mean Absolute Error from Imputation:\")\n",
    "print(logistic_regression_score_dataset(imputed_X_train_upsampled, imputed_X_test, y_train_upsampled, y_test))\n",
    "\n",
    "def get_prediction(X_train, X_test, y_train):\n",
    "    model = LogisticRegression()\n",
    "    model.fit(X_train, y_train)\n",
    "    preds = model.predict(X_test)\n",
    "    return preds\n",
    "\n",
    "\n",
    "y_upsampled_pred = get_prediction(imputed_X_train_upsampled, imputed_X_test, y_train_upsampled)\n",
    "\n",
    "cnf_matrix = metrics.confusion_matrix(y_test, y_upsampled_pred)\n",
    "\n",
    "sns.heatmap(pd.DataFrame(cnf_matrix), annot=True, cmap=\"YlGnBu\" ,fmt='g')\n",
    "ax.xaxis.set_label_position(\"top\")\n",
    "plt.tight_layout()\n",
    "plt.title('Confusion matrix', y=1.1)\n",
    "plt.ylabel('Actual label')\n",
    "plt.xlabel('Predicted label')\n",
    "\n",
    "print(\"Accuracy:\",metrics.accuracy_score(y_test, y_upsampled_pred))\n",
    "print(\"Precision:\",metrics.precision_score(y_test, y_upsampled_pred))\n",
    "print(\"Recall:\",metrics.recall_score(y_test, y_upsampled_pred))"
   ],
   "metadata": {
    "collapsed": false,
    "pycharm": {
     "name": "#%%\n"
    }
   }
  },
  {
   "cell_type": "markdown",
   "source": [
    "The precision of the model increased, however, the model is less accurate with upsampling.\n",
    "\n",
    "# Modelling just the UK\n",
    "\n",
    "Here we want to select the UK from the data and see if we can build a country-specific logistic regression model.\n",
    "\n",
    "![country-metadata](\"https://raw.githubusercontent.com/alan-turing-institute/rds-course/hands-on/data-analysis/assets/metadata-country.png\")\n",
    "\n",
    "The country code for selecting the UK is `27.0`"
   ],
   "metadata": {
    "collapsed": false
   }
  },
  {
   "cell_type": "code",
   "execution_count": 35,
   "outputs": [
    {
     "name": "stdout",
     "output_type": "stream",
     "text": [
      "Mean Absolute Error for the UK from Imputation:\n",
      "0.08953900709219859\n"
     ]
    },
    {
     "name": "stderr",
     "output_type": "stream",
     "text": [
      "/Users/clast/Documents/2021_projects/rds-course/.venv/lib/python3.7/site-packages/sklearn/linear_model/_logistic.py:765: ConvergenceWarning: lbfgs failed to converge (status=1):\n",
      "STOP: TOTAL NO. of ITERATIONS REACHED LIMIT.\n",
      "\n",
      "Increase the number of iterations (max_iter) or scale the data as shown in:\n",
      "    https://scikit-learn.org/stable/modules/preprocessing.html\n",
      "Please also refer to the documentation for alternative solver options:\n",
      "    https://scikit-learn.org/stable/modules/linear_model.html#logistic-regression\n",
      "  extra_warning_msg=_LOGISTIC_SOLVER_CONVERGENCE_MSG)\n"
     ]
    }
   ],
   "source": [
    "feature_2011_UK_columns = feature_2011_other_countries_columns.loc[feature_2011_other_countries_columns['Country'] == 27.0]\n",
    "\n",
    "eqls_2011_UK_target = feature_2011_UK_columns.Health_condition_binary\n",
    "eqls_2011_UK_predictors = feature_2011_UK_columns.drop(['Health_condition_binary','Health_condition'], axis=1)\n",
    "\n",
    "# For the sake of keeping the example simple, we'll use only numeric predictors.\n",
    "eqls_2011_UK_numeric_predictors = eqls_2011_UK_predictors.select_dtypes(exclude=['object'])\n",
    "\n",
    "X_train, X_test, y_train, y_test = train_test_split(eqls_2011_UK_numeric_predictors,\n",
    "                                                    eqls_2011_UK_target,\n",
    "                                                    train_size=0.7,\n",
    "                                                    test_size=0.3,\n",
    "                                                    random_state=0)\n",
    "# Imputation\n",
    "imputed_X_train = DataFrameImputer().fit_transform(X_train)\n",
    "imputed_X_test = DataFrameImputer().fit_transform(X_test)\n",
    "print(\"Mean Absolute Error for the UK from Imputation:\")\n",
    "print(logistic_regression_score_dataset(imputed_X_train, imputed_X_test, y_train, y_test))"
   ],
   "metadata": {
    "collapsed": false,
    "pycharm": {
     "name": "#%%\n"
    }
   }
  },
  {
   "cell_type": "markdown",
   "source": [
    "We can see that Logistic regression performs using only UK data performs similar to the total country model, suggesting that country is not a large determinant of why\n",
    "individuals self-reported health. Let's retrieve this model and test it on two additional country data."
   ],
   "metadata": {
    "collapsed": false
   }
  },
  {
   "cell_type": "code",
   "execution_count": 37,
   "outputs": [
    {
     "name": "stdout",
     "output_type": "stream",
     "text": [
      "intercept for predictor 'Age': [3.3049429] \n",
      "coefficient for 'Age': [-0.32750896]\n"
     ]
    }
   ],
   "source": [
    "features = (\"Age\") # try to add more predictor variables here\n",
    "\n",
    "def get_model_coefficients(X_train, y_train, *args):\n",
    "    model = LogisticRegression()\n",
    "    for value in args:\n",
    "        predictor = X_train[f\"{value}\"]\n",
    "        predictor = predictor.values.reshape(-1, 1)\n",
    "        clf = model.fit(predictor, y_train)\n",
    "        return print(f\"intercept for predictor '{value}': {clf.intercept_} \\ncoefficient for '{value}': {clf.coef_[args.index(value)]}\")\n",
    "\n",
    "get_model_coefficients(X_train, y_train, features)"
   ],
   "metadata": {
    "collapsed": false,
    "pycharm": {
     "name": "#%%\n"
    }
   }
  },
  {
   "cell_type": "markdown",
   "source": [
    "The above code allows us look further at the coefficients. Here is an example of how to extract them (in this instance I have only used\n",
    "`\"Y11_Agecategory\"` to predict\n",
    "\n",
    "Now, Lets select two other countries from the dataset to test the transferability of this model."
   ],
   "metadata": {
    "collapsed": false
   }
  },
  {
   "cell_type": "code",
   "execution_count": 38,
   "outputs": [],
   "source": [
    "# Selecting data for the Netherlands\n",
    "feature_2011_NL_columns = feature_2011_other_countries_columns.loc[feature_2011_other_countries_columns['Country'] == 20.0]\n",
    "# Selecting data for Romania\n",
    "feature_2011_RO_columns = feature_2011_other_countries_columns.loc[feature_2011_other_countries_columns['Country'] == 23.0]\n",
    "\n",
    "\n",
    "def create_test_data(df):\n",
    "    df_target = df.Health_condition_binary\n",
    "    df_predictors = df.drop(['Health_condition_binary','Health_condition'], axis=1)\n",
    "    df_numeric_predictors = df_predictors.select_dtypes(exclude=['object'])\n",
    "    X_train, X_test, y_train, y_test = train_test_split(df_numeric_predictors,\n",
    "                                                        df_target,\n",
    "                                                        train_size=0.7,\n",
    "                                                        test_size=0.3,\n",
    "                                                        random_state=0)\n",
    "    return X_test, y_test"
   ],
   "metadata": {
    "collapsed": false,
    "pycharm": {
     "name": "#%%                                                                   'Unique_respondent_ID'])\n"
    }
   }
  },
  {
   "cell_type": "code",
   "execution_count": 39,
   "outputs": [
    {
     "name": "stdout",
     "output_type": "stream",
     "text": [
      "Mean Absolute Error for Netherlands from Imputation:\n",
      "0.07755775577557755\n",
      "Mean Absolute Error for Romania from Imputation:\n",
      "0.11664482306684142\n"
     ]
    },
    {
     "name": "stderr",
     "output_type": "stream",
     "text": [
      "/Users/clast/Documents/2021_projects/rds-course/.venv/lib/python3.7/site-packages/sklearn/linear_model/_logistic.py:765: ConvergenceWarning: lbfgs failed to converge (status=1):\n",
      "STOP: TOTAL NO. of ITERATIONS REACHED LIMIT.\n",
      "\n",
      "Increase the number of iterations (max_iter) or scale the data as shown in:\n",
      "    https://scikit-learn.org/stable/modules/preprocessing.html\n",
      "Please also refer to the documentation for alternative solver options:\n",
      "    https://scikit-learn.org/stable/modules/linear_model.html#logistic-regression\n",
      "  extra_warning_msg=_LOGISTIC_SOLVER_CONVERGENCE_MSG)\n"
     ]
    }
   ],
   "source": [
    "\n",
    "X_test_NL, y_test_NL = create_test_data(feature_2011_NL_columns)\n",
    "X_test_RO, y_test_RO = create_test_data(feature_2011_RO_columns)\n",
    "\n",
    "imputed_X_test_RO = DataFrameImputer().fit_transform(X_test_RO)\n",
    "imputed_X_test_NL = DataFrameImputer().fit_transform(X_test_NL)\n",
    "\n",
    "def get_fitted_model(X_train, y_train):\n",
    "    model = LogisticRegression()\n",
    "    return model.fit(X_train, y_train)\n",
    "\n",
    "logistic_regression_model_UK = get_fitted_model(imputed_X_train, y_train)\n",
    "\n",
    "y_pred_NL = logistic_regression_model_UK.predict(imputed_X_test_NL)\n",
    "\n",
    "y_pred_RO = logistic_regression_model_UK.predict(imputed_X_test_RO)\n",
    "\n",
    "#Getting the MAE for both countries using the UK model\n",
    "print(\"Mean Absolute Error for Netherlands from Imputation:\")\n",
    "print(mean_absolute_error(y_test_NL, y_pred_NL))\n",
    "print(\"Mean Absolute Error for Romania from Imputation:\")\n",
    "print(mean_absolute_error(y_test_RO, y_pred_RO))"
   ],
   "metadata": {
    "collapsed": false,
    "pycharm": {
     "name": "#%%\n"
    }
   }
  },
  {
   "cell_type": "markdown",
   "source": [
    "The above error statistics from the `Netherlands` and the `Romania` test set. To repeat, these are predictions are using the UK model to predict\n",
    "self-reported health on test sets for Netherlands and Romania. The MAE for the predictions on Netherlands respondents is\n",
    "higher than the prediction error on the UK test dataset. The Romania model performs even worse than the Netherlands predictions,\n",
    "indicating that the feature importances in the UK model do not best model the features which are important in predicting\n",
    "self-reported health in Romania."
   ],
   "metadata": {
    "collapsed": false
   }
  },
  {
   "cell_type": "code",
   "execution_count": 40,
   "outputs": [
    {
     "name": "stdout",
     "output_type": "stream",
     "text": [
      "Accuracy: 0.9224422442244224\n",
      "Precision: 0.924496644295302\n",
      "Recall: 0.9963833634719711\n"
     ]
    },
    {
     "data": {
      "text/plain": "<Figure size 432x288 with 2 Axes>",
      "image/png": "[encoded data removed]"
     },
     "metadata": {
      "needs_background": "light"
     },
     "output_type": "display_data"
    }
   ],
   "source": [
    "cnf_matrix_NL = metrics.confusion_matrix(y_test_NL, y_pred_NL)\n",
    "cnf_matrix_NL\n",
    "\n",
    "class_names=[0,1] # name  of classes\n",
    "fig, ax = plt.subplots()\n",
    "tick_marks = np.arange(len(class_names))\n",
    "plt.xticks(tick_marks, class_names)\n",
    "plt.yticks(tick_marks, class_names)\n",
    "# create heatmap\n",
    "sns.heatmap(pd.DataFrame(cnf_matrix_NL), annot=True, cmap=\"YlGnBu\" ,fmt='g')\n",
    "ax.xaxis.set_label_position(\"top\")\n",
    "plt.tight_layout()\n",
    "plt.title('Confusion matrix for Netherlands Predictions', y=1.1)\n",
    "plt.ylabel('Actual label')\n",
    "plt.xlabel('Predicted label')\n",
    "\n",
    "print(\"Accuracy:\",metrics.accuracy_score(y_test_NL, y_pred_NL))\n",
    "print(\"Precision:\",metrics.precision_score(y_test_NL, y_pred_NL))\n",
    "print(\"Recall:\",metrics.recall_score(y_test_NL, y_pred_NL))\n"
   ],
   "metadata": {
    "collapsed": false,
    "pycharm": {
     "name": "#%%\n"
    }
   }
  },
  {
   "cell_type": "code",
   "execution_count": 41,
   "outputs": [
    {
     "name": "stdout",
     "output_type": "stream",
     "text": [
      "Accuracy: 0.8833551769331586\n",
      "Precision: 0.8877551020408163\n",
      "Recall: 0.9806763285024155\n"
     ]
    },
    {
     "data": {
      "text/plain": "<Figure size 432x288 with 2 Axes>",
      "image/png": "[encoded data removed]"
     },
     "metadata": {
      "needs_background": "light"
     },
     "output_type": "display_data"
    }
   ],
   "source": [
    "cnf_matrix_RO = metrics.confusion_matrix(y_test_RO, y_pred_RO)\n",
    "cnf_matrix_RO\n",
    "\n",
    "class_names=[0,1] # name  of classes\n",
    "fig, ax = plt.subplots()\n",
    "tick_marks = np.arange(len(class_names))\n",
    "plt.xticks(tick_marks, class_names)\n",
    "plt.yticks(tick_marks, class_names)\n",
    "# create heatmap\n",
    "sns.heatmap(pd.DataFrame(cnf_matrix_RO), annot=True, cmap=\"YlGnBu\" ,fmt='g')\n",
    "ax.xaxis.set_label_position(\"top\")\n",
    "plt.tight_layout()\n",
    "plt.title('Confusion matrix for Romania Predictions', y=1.1)\n",
    "plt.ylabel('Actual label')\n",
    "plt.xlabel('Predicted label')\n",
    "\n",
    "print(\"Accuracy:\",metrics.accuracy_score(y_test_RO, y_pred_RO))\n",
    "print(\"Precision:\",metrics.precision_score(y_test_RO, y_pred_RO))\n",
    "print(\"Recall:\",metrics.recall_score(y_test_RO, y_pred_RO))"
   ],
   "metadata": {
    "collapsed": false,
    "pycharm": {
     "name": "#%%\n"
    }
   }
  },
  {
   "cell_type": "markdown",
   "source": [
    "## References\n",
    "European Foundation for the Improvement of Living and Working Conditions, (2015). European Quality of Life Time Series,\n",
    "2007 and 2011: Open Access. UK Data Service. [data collection]. http://doi.org/10.5255/UKDA-SN-7724-1\n"
   ],
   "metadata": {
    "collapsed": false
   }
  },
  {
   "cell_type": "code",
   "execution_count": null,
   "outputs": [],
   "source": [],
   "metadata": {
    "collapsed": false,
    "pycharm": {
     "name": "#%%\n"
    }
   }
  }
 ],
 "metadata": {
  "kernelspec": {
   "display_name": "Python 3",
   "language": "python",
   "name": "python3"
  },
  "language_info": {
   "codemirror_mode": {
    "name": "ipython",
    "version": 2
   },
   "file_extension": ".py",
   "mimetype": "text/x-python",
   "name": "python",
   "nbconvert_exporter": "python",
   "pygments_lexer": "ipython2",
   "version": "2.7.6"
  }
 },
 "nbformat": 4,
 "nbformat_minor": 0
}