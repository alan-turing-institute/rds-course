{
 "cells": [
  {
   "cell_type": "markdown",
   "id": "5ab31b9b-efce-42b7-8d5c-3c2258c6304a",
   "metadata": {
    "pycharm": {
     "name": "#%% md\n"
    }
   },
   "source": [
    "# Module 2: Handling data and deployment\n",
    "Contents\n",
    "- [1. Setup](#9d2860101d08aff4362723c550f1c5f32aedac5831ca420b)\n",
    "- [2. Getting the data](#9d2860101d08aff4362723c550f1c5f32aedac5831ca420b)\n",
    "## 1. Setup\n",
    "- to install python using [Pyenv](https://realpython.com/intro-to-pyenv/)\n",
    "    - Install of python ```$ pyenv install 3.7.9```\n",
    "    - Set the local version of python to the installed version ```$ pyenv local 3.7.9```\n",
    "    - Run the initialiser ```$ pyenv init```\n",
    "    - follow the instructions printed in the CLI\n",
    "    - activate shell with local python ```$ pyenv shell 3.7.9```\n",
    "- To set up a virtual environment I am using [poetry](https://python-poetry.org/docs/)\n",
    "    - Install poetry following these [commands](https://python-poetry.org/docs/#installation)\n",
    "    - `Poetry` can help manage [multiple environments](https://python-poetry.org/docs/managing-environments/), in particular [switching between environments ](https://python-poetry.org/docs/managing-environments/#switching-between-environments)\n",
    "    - After setting up poetry project can use the following command to use your `pyenv` installed python to activate `venv`.\n",
    "\n",
    "`\n",
    "$ poetry env use ~/.pyenv/versions/<python version number>/bin/python\n",
    "`\n",
    "- check the environment is activated using `$ poetry env list`\n",
    "- initialise the environment using `$ poetry shell`\n",
    "\n",
    "## 2. Getting the data\n",
    "Download the data from the [UK Data Service](https://beta.ukdataservice.ac.uk/datacatalogue/studies/study?id=7724#!/access-data).\n",
    "The data is captured from the European Quality of Life Time Series, 2007 and 2011. You can find out more about the dataset [here](https://beta.ukdataservice.ac.uk/datacatalogue/studies/study?id=7724#!/details).\n",
    "and there is a good [user guide](http://doc.ukdataservice.ac.uk/doc/7724/mrdoc/pdf/7724_eqls_2007-2011_user_guide_v2.pdf)\n",
    "describing how the data was created and anonymised and how some variables were generated to summarise other variables.\n",
    "Save the data in a local filespace (for example: `$HOME/rds-course/data-analysis/data`)"
   ]
  },
  {
   "cell_type": "code",
   "execution_count": 93,
   "id": "847a651d",
   "metadata": {
    "collapsed": false,
    "jupyter": {
     "outputs_hidden": false
    },
    "pycharm": {
     "name": "#%%\n"
    }
   },
   "outputs": [],
   "source": [
    "# installing required packages\n",
    "from pathlib import Path\n",
    "\n",
    "import numpy as np\n",
    "import pandas as pd\n",
    "import matplotlib.pyplot as plt\n",
    "import seaborn as sns\n",
    "from typing import List\n",
    "\n",
    "%matplotlib inline"
   ]
  },
  {
   "cell_type": "code",
   "execution_count": 94,
   "id": "e714859b",
   "metadata": {
    "collapsed": false,
    "jupyter": {
     "outputs_hidden": false
    },
    "pycharm": {
     "name": "#%%\n"
    }
   },
   "outputs": [
    {
     "data": {
      "text/plain": "   Wave  Y11_Country  Y11_Q31  Y11_Q32  Y11_ISCEDsimple  Y11_Q49  Y11_Q67_1  \\\n0     2            1      4.0      0.0              4.0      4.0        NaN   \n1     2            1      4.0      0.0              4.0      4.0        NaN   \n2     2            1      1.0      2.0              3.0      2.0        NaN   \n3     2            1      2.0      0.0              3.0      1.0        NaN   \n4     2            1      4.0      0.0              3.0      4.0        NaN   \n\n   Y11_Q67_2  Y11_Q67_3  Y11_Q67_4  ...  DV_Q54a  DV_Q54b  DV_Q55  DV_Q56  \\\n0        NaN        NaN        NaN  ...      NaN      NaN     NaN     NaN   \n1        NaN        NaN        NaN  ...      NaN      NaN     NaN     NaN   \n2        NaN        NaN        NaN  ...      NaN      NaN     NaN     NaN   \n3        NaN        NaN        NaN  ...      NaN      NaN     NaN     NaN   \n4        NaN        NaN        NaN  ...      NaN      NaN     NaN     NaN   \n\n   DV_Q8  DV_Q10                               ISO3166_Country  RowID  \\\n0    NaN     NaN  https://www.iso.org/obp/ui/#iso:code:3166:AT      1   \n1    NaN     NaN  https://www.iso.org/obp/ui/#iso:code:3166:AT      2   \n2    NaN     NaN  https://www.iso.org/obp/ui/#iso:code:3166:AT      3   \n3    NaN     NaN  https://www.iso.org/obp/ui/#iso:code:3166:AT      4   \n4    NaN     NaN  https://www.iso.org/obp/ui/#iso:code:3166:AT      5   \n\n                                            URIRowID   UniqueID  \n0  https://api.ukdataservice.ac.uk/V1/datasets/eq...  AT9000083  \n1  https://api.ukdataservice.ac.uk/V1/datasets/eq...  AT9000126  \n2  https://api.ukdataservice.ac.uk/V1/datasets/eq...  AT9000267  \n3  https://api.ukdataservice.ac.uk/V1/datasets/eq...  AT9000268  \n4  https://api.ukdataservice.ac.uk/V1/datasets/eq...  AT9000427  \n\n[5 rows x 199 columns]",
      "text/html": "<div>\n<style scoped>\n    .dataframe tbody tr th:only-of-type {\n        vertical-align: middle;\n    }\n\n    .dataframe tbody tr th {\n        vertical-align: top;\n    }\n\n    .dataframe thead th {\n        text-align: right;\n    }\n</style>\n<table border=\"1\" class=\"dataframe\">\n  <thead>\n    <tr style=\"text-align: right;\">\n      <th></th>\n      <th>Wave</th>\n      <th>Y11_Country</th>\n      <th>Y11_Q31</th>\n      <th>Y11_Q32</th>\n      <th>Y11_ISCEDsimple</th>\n      <th>Y11_Q49</th>\n      <th>Y11_Q67_1</th>\n      <th>Y11_Q67_2</th>\n      <th>Y11_Q67_3</th>\n      <th>Y11_Q67_4</th>\n      <th>...</th>\n      <th>DV_Q54a</th>\n      <th>DV_Q54b</th>\n      <th>DV_Q55</th>\n      <th>DV_Q56</th>\n      <th>DV_Q8</th>\n      <th>DV_Q10</th>\n      <th>ISO3166_Country</th>\n      <th>RowID</th>\n      <th>URIRowID</th>\n      <th>UniqueID</th>\n    </tr>\n  </thead>\n  <tbody>\n    <tr>\n      <th>0</th>\n      <td>2</td>\n      <td>1</td>\n      <td>4.0</td>\n      <td>0.0</td>\n      <td>4.0</td>\n      <td>4.0</td>\n      <td>NaN</td>\n      <td>NaN</td>\n      <td>NaN</td>\n      <td>NaN</td>\n      <td>...</td>\n      <td>NaN</td>\n      <td>NaN</td>\n      <td>NaN</td>\n      <td>NaN</td>\n      <td>NaN</td>\n      <td>NaN</td>\n      <td>https://www.iso.org/obp/ui/#iso:code:3166:AT</td>\n      <td>1</td>\n      <td>https://api.ukdataservice.ac.uk/V1/datasets/eq...</td>\n      <td>AT9000083</td>\n    </tr>\n    <tr>\n      <th>1</th>\n      <td>2</td>\n      <td>1</td>\n      <td>4.0</td>\n      <td>0.0</td>\n      <td>4.0</td>\n      <td>4.0</td>\n      <td>NaN</td>\n      <td>NaN</td>\n      <td>NaN</td>\n      <td>NaN</td>\n      <td>...</td>\n      <td>NaN</td>\n      <td>NaN</td>\n      <td>NaN</td>\n      <td>NaN</td>\n      <td>NaN</td>\n      <td>NaN</td>\n      <td>https://www.iso.org/obp/ui/#iso:code:3166:AT</td>\n      <td>2</td>\n      <td>https://api.ukdataservice.ac.uk/V1/datasets/eq...</td>\n      <td>AT9000126</td>\n    </tr>\n    <tr>\n      <th>2</th>\n      <td>2</td>\n      <td>1</td>\n      <td>1.0</td>\n      <td>2.0</td>\n      <td>3.0</td>\n      <td>2.0</td>\n      <td>NaN</td>\n      <td>NaN</td>\n      <td>NaN</td>\n      <td>NaN</td>\n      <td>...</td>\n      <td>NaN</td>\n      <td>NaN</td>\n      <td>NaN</td>\n      <td>NaN</td>\n      <td>NaN</td>\n      <td>NaN</td>\n      <td>https://www.iso.org/obp/ui/#iso:code:3166:AT</td>\n      <td>3</td>\n      <td>https://api.ukdataservice.ac.uk/V1/datasets/eq...</td>\n      <td>AT9000267</td>\n    </tr>\n    <tr>\n      <th>3</th>\n      <td>2</td>\n      <td>1</td>\n      <td>2.0</td>\n      <td>0.0</td>\n      <td>3.0</td>\n      <td>1.0</td>\n      <td>NaN</td>\n      <td>NaN</td>\n      <td>NaN</td>\n      <td>NaN</td>\n      <td>...</td>\n      <td>NaN</td>\n      <td>NaN</td>\n      <td>NaN</td>\n      <td>NaN</td>\n      <td>NaN</td>\n      <td>NaN</td>\n      <td>https://www.iso.org/obp/ui/#iso:code:3166:AT</td>\n      <td>4</td>\n      <td>https://api.ukdataservice.ac.uk/V1/datasets/eq...</td>\n      <td>AT9000268</td>\n    </tr>\n    <tr>\n      <th>4</th>\n      <td>2</td>\n      <td>1</td>\n      <td>4.0</td>\n      <td>0.0</td>\n      <td>3.0</td>\n      <td>4.0</td>\n      <td>NaN</td>\n      <td>NaN</td>\n      <td>NaN</td>\n      <td>NaN</td>\n      <td>...</td>\n      <td>NaN</td>\n      <td>NaN</td>\n      <td>NaN</td>\n      <td>NaN</td>\n      <td>NaN</td>\n      <td>NaN</td>\n      <td>https://www.iso.org/obp/ui/#iso:code:3166:AT</td>\n      <td>5</td>\n      <td>https://api.ukdataservice.ac.uk/V1/datasets/eq...</td>\n      <td>AT9000427</td>\n    </tr>\n  </tbody>\n</table>\n<p>5 rows × 199 columns</p>\n</div>"
     },
     "execution_count": 94,
     "metadata": {},
     "output_type": "execute_result"
    }
   ],
   "source": [
    "eqls_path = Path(\"data/UKDA-7724-csv/csv/eqls_2007and2011.csv\").resolve()\n",
    "eqls_df = pd.read_csv(eqls_path)\n",
    "\n",
    "eqls_df.head()"
   ]
  },
  {
   "cell_type": "markdown",
   "id": "bb7ef7df",
   "metadata": {},
   "source": [
    "### Additional info about the data\n",
    "The `.info()` method of a dataframe gives us a useful summary of the columns it contains:"
   ]
  },
  {
   "cell_type": "code",
   "execution_count": 95,
   "id": "0e1a9731",
   "metadata": {
    "collapsed": false,
    "jupyter": {
     "outputs_hidden": false
    },
    "pycharm": {
     "name": "#%%\n"
    }
   },
   "outputs": [
    {
     "name": "stdout",
     "output_type": "stream",
     "text": [
      "<class 'pandas.core.frame.DataFrame'>\n",
      "RangeIndex: 79270 entries, 0 to 79269\n",
      "Columns: 199 entries, Wave to UniqueID\n",
      "dtypes: float64(187), int64(9), object(3)\n",
      "memory usage: 120.4+ MB\n"
     ]
    },
    {
     "data": {
      "text/plain": "               Wave   Y11_Country       Y11_Q31       Y11_Q32  \\\ncount  79270.000000  79270.000000  78756.000000  78769.000000   \nmean       2.550473     16.841138      1.856049      1.598141   \nstd        0.497449      9.358320      1.186271      1.276425   \nmin        2.000000      1.000000      1.000000      0.000000   \n25%        2.000000      9.000000      1.000000      0.000000   \n50%        3.000000     16.000000      1.000000      2.000000   \n75%        3.000000     25.000000      3.000000      2.000000   \nmax        3.000000     35.000000      4.000000      5.000000   \n\n       Y11_ISCEDsimple       Y11_Q49     Y11_Q67_1     Y11_Q67_2  \\\ncount     78556.000000  79082.000000  43636.000000  43636.000000   \nmean          4.019146      2.640955      1.959368      1.023673   \nstd           1.368993      0.987352      0.197437      0.152030   \nmin           1.000000      1.000000      1.000000      1.000000   \n25%           3.000000      2.000000      2.000000      1.000000   \n50%           4.000000      3.000000      2.000000      1.000000   \n75%           5.000000      4.000000      2.000000      1.000000   \nmax           8.000000      4.000000      2.000000      2.000000   \n\n          Y11_Q67_3     Y11_Q67_4  ...        DV_Q7        DV_Q67  \\\ncount  43636.000000  43636.000000  ...  2225.000000  43636.000000   \nmean       1.019204      1.001971  ...    52.612135      1.086465   \nstd        0.137244      0.044351  ...    15.696943      0.460388   \nmin        1.000000      1.000000  ...     5.000000      1.000000   \n25%        1.000000      1.000000  ...    43.000000      1.000000   \n50%        1.000000      1.000000  ...    50.000000      1.000000   \n75%        1.000000      1.000000  ...    61.000000      1.000000   \nmax        2.000000      2.000000  ...    80.000000      6.000000   \n\n          DV_Q43Q44       DV_Q54a       DV_Q54b        DV_Q55        DV_Q56  \\\ncount  78312.000000  43636.000000  43636.000000  43636.000000  43636.000000   \nmean       2.485992      2.815565      2.925635      0.303442      0.231437   \nstd        0.838558      0.721642      0.568403      0.881979      0.827727   \nmin        1.000000      1.000000      1.000000      0.000000      0.000000   \n25%        2.000000      3.000000      3.000000      0.000000      0.000000   \n50%        3.000000      3.000000      3.000000      0.000000      0.000000   \n75%        3.000000      3.000000      3.000000      0.000000      0.000000   \nmax        3.000000      6.000000      6.000000      4.000000      4.000000   \n\n              DV_Q8        DV_Q10         RowID  \ncount  43636.000000  43636.000000  79270.000000  \nmean       3.931708      3.283482  39635.500000  \nstd        0.436254      1.130667  22883.422256  \nmin        1.000000      1.000000      1.000000  \n25%        4.000000      2.000000  19818.250000  \n50%        4.000000      4.000000  39635.500000  \n75%        4.000000      4.000000  59452.750000  \nmax        4.000000      4.000000  79270.000000  \n\n[8 rows x 196 columns]",
      "text/html": "<div>\n<style scoped>\n    .dataframe tbody tr th:only-of-type {\n        vertical-align: middle;\n    }\n\n    .dataframe tbody tr th {\n        vertical-align: top;\n    }\n\n    .dataframe thead th {\n        text-align: right;\n    }\n</style>\n<table border=\"1\" class=\"dataframe\">\n  <thead>\n    <tr style=\"text-align: right;\">\n      <th></th>\n      <th>Wave</th>\n      <th>Y11_Country</th>\n      <th>Y11_Q31</th>\n      <th>Y11_Q32</th>\n      <th>Y11_ISCEDsimple</th>\n      <th>Y11_Q49</th>\n      <th>Y11_Q67_1</th>\n      <th>Y11_Q67_2</th>\n      <th>Y11_Q67_3</th>\n      <th>Y11_Q67_4</th>\n      <th>...</th>\n      <th>DV_Q7</th>\n      <th>DV_Q67</th>\n      <th>DV_Q43Q44</th>\n      <th>DV_Q54a</th>\n      <th>DV_Q54b</th>\n      <th>DV_Q55</th>\n      <th>DV_Q56</th>\n      <th>DV_Q8</th>\n      <th>DV_Q10</th>\n      <th>RowID</th>\n    </tr>\n  </thead>\n  <tbody>\n    <tr>\n      <th>count</th>\n      <td>79270.000000</td>\n      <td>79270.000000</td>\n      <td>78756.000000</td>\n      <td>78769.000000</td>\n      <td>78556.000000</td>\n      <td>79082.000000</td>\n      <td>43636.000000</td>\n      <td>43636.000000</td>\n      <td>43636.000000</td>\n      <td>43636.000000</td>\n      <td>...</td>\n      <td>2225.000000</td>\n      <td>43636.000000</td>\n      <td>78312.000000</td>\n      <td>43636.000000</td>\n      <td>43636.000000</td>\n      <td>43636.000000</td>\n      <td>43636.000000</td>\n      <td>43636.000000</td>\n      <td>43636.000000</td>\n      <td>79270.000000</td>\n    </tr>\n    <tr>\n      <th>mean</th>\n      <td>2.550473</td>\n      <td>16.841138</td>\n      <td>1.856049</td>\n      <td>1.598141</td>\n      <td>4.019146</td>\n      <td>2.640955</td>\n      <td>1.959368</td>\n      <td>1.023673</td>\n      <td>1.019204</td>\n      <td>1.001971</td>\n      <td>...</td>\n      <td>52.612135</td>\n      <td>1.086465</td>\n      <td>2.485992</td>\n      <td>2.815565</td>\n      <td>2.925635</td>\n      <td>0.303442</td>\n      <td>0.231437</td>\n      <td>3.931708</td>\n      <td>3.283482</td>\n      <td>39635.500000</td>\n    </tr>\n    <tr>\n      <th>std</th>\n      <td>0.497449</td>\n      <td>9.358320</td>\n      <td>1.186271</td>\n      <td>1.276425</td>\n      <td>1.368993</td>\n      <td>0.987352</td>\n      <td>0.197437</td>\n      <td>0.152030</td>\n      <td>0.137244</td>\n      <td>0.044351</td>\n      <td>...</td>\n      <td>15.696943</td>\n      <td>0.460388</td>\n      <td>0.838558</td>\n      <td>0.721642</td>\n      <td>0.568403</td>\n      <td>0.881979</td>\n      <td>0.827727</td>\n      <td>0.436254</td>\n      <td>1.130667</td>\n      <td>22883.422256</td>\n    </tr>\n    <tr>\n      <th>min</th>\n      <td>2.000000</td>\n      <td>1.000000</td>\n      <td>1.000000</td>\n      <td>0.000000</td>\n      <td>1.000000</td>\n      <td>1.000000</td>\n      <td>1.000000</td>\n      <td>1.000000</td>\n      <td>1.000000</td>\n      <td>1.000000</td>\n      <td>...</td>\n      <td>5.000000</td>\n      <td>1.000000</td>\n      <td>1.000000</td>\n      <td>1.000000</td>\n      <td>1.000000</td>\n      <td>0.000000</td>\n      <td>0.000000</td>\n      <td>1.000000</td>\n      <td>1.000000</td>\n      <td>1.000000</td>\n    </tr>\n    <tr>\n      <th>25%</th>\n      <td>2.000000</td>\n      <td>9.000000</td>\n      <td>1.000000</td>\n      <td>0.000000</td>\n      <td>3.000000</td>\n      <td>2.000000</td>\n      <td>2.000000</td>\n      <td>1.000000</td>\n      <td>1.000000</td>\n      <td>1.000000</td>\n      <td>...</td>\n      <td>43.000000</td>\n      <td>1.000000</td>\n      <td>2.000000</td>\n      <td>3.000000</td>\n      <td>3.000000</td>\n      <td>0.000000</td>\n      <td>0.000000</td>\n      <td>4.000000</td>\n      <td>2.000000</td>\n      <td>19818.250000</td>\n    </tr>\n    <tr>\n      <th>50%</th>\n      <td>3.000000</td>\n      <td>16.000000</td>\n      <td>1.000000</td>\n      <td>2.000000</td>\n      <td>4.000000</td>\n      <td>3.000000</td>\n      <td>2.000000</td>\n      <td>1.000000</td>\n      <td>1.000000</td>\n      <td>1.000000</td>\n      <td>...</td>\n      <td>50.000000</td>\n      <td>1.000000</td>\n      <td>3.000000</td>\n      <td>3.000000</td>\n      <td>3.000000</td>\n      <td>0.000000</td>\n      <td>0.000000</td>\n      <td>4.000000</td>\n      <td>4.000000</td>\n      <td>39635.500000</td>\n    </tr>\n    <tr>\n      <th>75%</th>\n      <td>3.000000</td>\n      <td>25.000000</td>\n      <td>3.000000</td>\n      <td>2.000000</td>\n      <td>5.000000</td>\n      <td>4.000000</td>\n      <td>2.000000</td>\n      <td>1.000000</td>\n      <td>1.000000</td>\n      <td>1.000000</td>\n      <td>...</td>\n      <td>61.000000</td>\n      <td>1.000000</td>\n      <td>3.000000</td>\n      <td>3.000000</td>\n      <td>3.000000</td>\n      <td>0.000000</td>\n      <td>0.000000</td>\n      <td>4.000000</td>\n      <td>4.000000</td>\n      <td>59452.750000</td>\n    </tr>\n    <tr>\n      <th>max</th>\n      <td>3.000000</td>\n      <td>35.000000</td>\n      <td>4.000000</td>\n      <td>5.000000</td>\n      <td>8.000000</td>\n      <td>4.000000</td>\n      <td>2.000000</td>\n      <td>2.000000</td>\n      <td>2.000000</td>\n      <td>2.000000</td>\n      <td>...</td>\n      <td>80.000000</td>\n      <td>6.000000</td>\n      <td>3.000000</td>\n      <td>6.000000</td>\n      <td>6.000000</td>\n      <td>4.000000</td>\n      <td>4.000000</td>\n      <td>4.000000</td>\n      <td>4.000000</td>\n      <td>79270.000000</td>\n    </tr>\n  </tbody>\n</table>\n<p>8 rows × 196 columns</p>\n</div>"
     },
     "execution_count": 95,
     "metadata": {},
     "output_type": "execute_result"
    }
   ],
   "source": [
    "eqls_df.info()\n",
    "eqls_df.dtypes\n",
    "eqls_df.describe()"
   ]
  },
  {
   "cell_type": "markdown",
   "id": "24939c22",
   "metadata": {
    "pycharm": {
     "name": "#%% md\n"
    }
   },
   "source": [
    "We can see there are 79270 rows (each row corresponding to an entry) and 199 columns (each column corresponding to a variable).\n",
    "There output `dtypes: float64(187), int64(9), object(3)` from the command `eqls_df.dtypes` shows that most of the columns (187)\n",
    "contain numeric variables, with 9 columns containing  integers and 3 object columns (these are string columns).\n",
    "\n",
    "## 3. Understanding the data\n",
    "Lets read in the metadata explaining the content of each of the columns."
   ]
  },
  {
   "cell_type": "code",
   "execution_count": 96,
   "id": "d05b2e0c",
   "metadata": {
    "collapsed": false,
    "jupyter": {
     "outputs_hidden": false
    },
    "pycharm": {
     "name": "#%%\n"
    }
   },
   "outputs": [
    {
     "data": {
      "text/plain": "      VariableName        VariableLabel                              Question  \\\n0             Wave            EQLS Wave                             EQLS Wave   \n1      Y11_Country              Country                               Country   \n2          Y11_Q31       Marital status                        Marital status   \n3          Y11_Q32      No. of children        Number of children of your own   \n4  Y11_ISCEDsimple  Education completed  Highest level of education completed   \n\n                                          TopicValue      KeywordValue  \\\n0                                                NaN               NaN   \n1                                        Geographies               NaN   \n2  Social stratification and groupings - Family l...    Marital status   \n3  Social stratification and groupings - Family l...          Children   \n4                     Education - Higher and further  Education levels   \n\n           VariableGroupValue  \n0    Administrative Variables  \n1  Household Grid and Country  \n2      Family and Social Life  \n3      Family and Social Life  \n4                   Education  ",
      "text/html": "<div>\n<style scoped>\n    .dataframe tbody tr th:only-of-type {\n        vertical-align: middle;\n    }\n\n    .dataframe tbody tr th {\n        vertical-align: top;\n    }\n\n    .dataframe thead th {\n        text-align: right;\n    }\n</style>\n<table border=\"1\" class=\"dataframe\">\n  <thead>\n    <tr style=\"text-align: right;\">\n      <th></th>\n      <th>VariableName</th>\n      <th>VariableLabel</th>\n      <th>Question</th>\n      <th>TopicValue</th>\n      <th>KeywordValue</th>\n      <th>VariableGroupValue</th>\n    </tr>\n  </thead>\n  <tbody>\n    <tr>\n      <th>0</th>\n      <td>Wave</td>\n      <td>EQLS Wave</td>\n      <td>EQLS Wave</td>\n      <td>NaN</td>\n      <td>NaN</td>\n      <td>Administrative Variables</td>\n    </tr>\n    <tr>\n      <th>1</th>\n      <td>Y11_Country</td>\n      <td>Country</td>\n      <td>Country</td>\n      <td>Geographies</td>\n      <td>NaN</td>\n      <td>Household Grid and Country</td>\n    </tr>\n    <tr>\n      <th>2</th>\n      <td>Y11_Q31</td>\n      <td>Marital status</td>\n      <td>Marital status</td>\n      <td>Social stratification and groupings - Family l...</td>\n      <td>Marital status</td>\n      <td>Family and Social Life</td>\n    </tr>\n    <tr>\n      <th>3</th>\n      <td>Y11_Q32</td>\n      <td>No. of children</td>\n      <td>Number of children of your own</td>\n      <td>Social stratification and groupings - Family l...</td>\n      <td>Children</td>\n      <td>Family and Social Life</td>\n    </tr>\n    <tr>\n      <th>4</th>\n      <td>Y11_ISCEDsimple</td>\n      <td>Education completed</td>\n      <td>Highest level of education completed</td>\n      <td>Education - Higher and further</td>\n      <td>Education levels</td>\n      <td>Education</td>\n    </tr>\n  </tbody>\n</table>\n</div>"
     },
     "execution_count": 96,
     "metadata": {},
     "output_type": "execute_result"
    }
   ],
   "source": [
    "eqls_api_map_path = Path(\"data/UKDA-7724-csv/mrdoc/excel/eqls_api_map.csv\").resolve()\n",
    "eqls_api_map_df = pd.read_csv(eqls_api_map_path,encoding='latin1')\n",
    "eqls_api_map_df.head()"
   ]
  },
  {
   "cell_type": "markdown",
   "id": "9e315dab",
   "metadata": {},
   "source": [
    "<div class=\"alert alert-block alert-warning\"> The metadata csv <code class=\"ph codeph\">eqls_api_map.csv</code> contains non-ascii character in the dictionary and it can't be encoded/decoded.\n",
    " Read in with the additional arguement <code class=\"ph codeph\">encoding='latin1'</code> </div>\n"
   ]
  },
  {
   "cell_type": "markdown",
   "id": "e4962b87",
   "metadata": {},
   "source": [
    "### 3.1 Data missingness\n",
    "We want to know what columns contain missing values. There are three categories of missing data: Missing Completely at Random (MCAR), Missing at Random (MAR), Missing Not at Random (MNAR)."
   ]
  },
  {
   "cell_type": "code",
   "execution_count": 97,
   "id": "ab54f559",
   "metadata": {
    "collapsed": false,
    "jupyter": {
     "outputs_hidden": false
    },
    "pycharm": {
     "name": "#%%\n"
    }
   },
   "outputs": [
    {
     "data": {
      "text/plain": "<seaborn.axisgrid.FacetGrid at 0x145012bd0>"
     },
     "execution_count": 97,
     "metadata": {},
     "output_type": "execute_result"
    },
    {
     "data": {
      "text/plain": "<Figure size 2880x2880 with 0 Axes>"
     },
     "metadata": {},
     "output_type": "display_data"
    },
    {
     "data": {
      "text/plain": "<Figure size 511.25x360 with 1 Axes>",
      "image/png": "[encoded data removed]"
     },
     "metadata": {
      "needs_background": "light"
     },
     "output_type": "display_data"
    }
   ],
   "source": [
    "# Following command shows missing/non-missing values in two colors.\n",
    "plt.figure(figsize=(40,40))\n",
    "sns.displot(\n",
    "    data=eqls_df.isna().melt(value_name=\"missing\"),\n",
    "    y=\"variable\",\n",
    "    hue=\"missing\",\n",
    "    multiple=\"fill\",\n",
    "    aspect=1.25\n",
    ")"
   ]
  },
  {
   "cell_type": "markdown",
   "id": "67a477ea",
   "metadata": {
    "pycharm": {
     "name": "#%% md\n"
    }
   },
   "source": [
    "Almost all feature columns contain missing values and the fraction of rows with missing data can be substantial.\n",
    "As the visualisation shows there is a large amount of missingness within the 2007 and 2011 data combined.\n",
    "This visualisation indicates that there is a **relationship** between missingness and its values, missing or non-missing."
   ]
  },
  {
   "cell_type": "markdown",
   "source": [
    "Ok, let's try to become a bit more quantitative. We can calculate for every `RowID` and feature column the following information:\n",
    "- percentage of missing values\n",
    "- relative fraction of missing values (= number missing values / `Wave` for which this `RowID` is present)"
   ],
   "metadata": {
    "collapsed": false
   }
  },
  {
   "cell_type": "code",
   "execution_count": 98,
   "outputs": [
    {
     "data": {
      "text/plain": "Y11_Degurba                0.577848\nY11_Q33a                   0.599458\nY11_Q34a                   0.627110\nY11_Q35c                   0.507847\nY11_Q44                    0.716147\nY11_Q47e                   0.541958\nY11_Q52                    0.745641\nY11_Q53e                   0.623300\nY11_Q53f                   0.620777\nY11_Q55a                   0.906736\nY11_Q55b                   0.906459\nY11_Q55c                   0.905803\nY11_Q55d                   0.908629\nY11_Q56a                   0.942387\nY11_Q56b                   0.941832\nY11_Q56c                   0.942172\nY11_Q56d                   0.942765\nY11_Q25g                   0.516765\nY11_Q40b                   0.544456\nY11_Q8                     0.521156\nY11_Q9                     0.828283\nY11_Q10                    0.727135\nY11_Q11                    0.757348\nY11_Q12a                   0.545389\nY11_Q12b                   0.547105\nY11_Q12c                   0.546701\nY11_Q15                    0.560174\nY11_Q16                    0.768979\nY11_Q39d                   0.606900\nY11_Strainbasedconflict    0.541050\nY11_Q7a                    0.543875\nY11_Q7b                    0.971439\nDV_Q7                      0.971931\ndtype: float64"
     },
     "execution_count": 98,
     "metadata": {},
     "output_type": "execute_result"
    }
   ],
   "source": [
    "# percentage of missing values and columns which have over 50% missingness\n",
    "eqls_null_counts = eqls_df.isnull().sum() / len(eqls_df)\n",
    "eqls_null_counts[eqls_null_counts>0.5]"
   ],
   "metadata": {
    "collapsed": false,
    "pycharm": {
     "name": "#%%\n"
    }
   }
  },
  {
   "cell_type": "code",
   "execution_count": 99,
   "outputs": [
    {
     "data": {
      "text/plain": "[Wave                            2         3\n Y11_Q67_1                1.000000  0.000000\n Y11_Q67_2                1.000000  0.000000\n Y11_Q67_3                1.000000  0.000000\n Y11_Q67_4                1.000000  0.000000\n Y11_Q67_5                1.000000  0.000000\n Y11_HHsize18plus         1.000000  0.000000\n Y11_Degurba              1.000000  0.233110\n Y11_Q33a                 1.000000  0.272367\n Y11_Q33b                 1.000000  0.011550\n Y11_Q33c                 1.000000  0.005867\n Y11_Q33d                 1.000000  0.005729\n Y11_Q34a                 1.000000  0.322601\n Y11_Q34b                 1.000000  0.091576\n Y11_Q34c                 1.000000  0.025094\n Y11_Q34d                 1.000000  0.010977\n Y11_Q35a                 1.000000  0.006508\n Y11_Q35b                 1.000000  0.009694\n Y11_Q35c                 1.000000  0.105945\n Y11_Q35d                 1.000000  0.011917\n Y11_Q35e                 1.000000  0.027179\n Y11_Q44                  0.722653  0.710835\n Y11_Q50a                 1.000000  0.001238\n Y11_Q50b                 1.000000  0.005408\n Y11_Q50c                 1.000000  0.011688\n Y11_Q50d                 1.000000  0.012925\n Y11_Q50e                 1.000000  0.003575\n Y11_Q50f                 1.000000  0.007792\n Y11_Q47e                 1.000000  0.167912\n Y11_Q51a                 1.000000  0.003758\n Y11_Q51b                 1.000000  0.004790\n Y11_Q51c                 1.000000  0.009648\n Y11_Q51d                 1.000000  0.013498\n Y11_Q51e                 1.000000  0.008433\n Y11_Q52                  1.000000  0.537927\n Y11_Q53e                 1.000000  0.315680\n Y11_Q53f                 1.000000  0.311096\n Y11_Q54a_1               1.000000  0.000000\n Y11_Q54a_2               1.000000  0.000000\n Y11_Q54a_3               1.000000  0.000000\n Y11_Q54a_4               1.000000  0.000000\n Y11_Q54a_5               1.000000  0.000000\n Y11_Q54b_1               1.000000  0.000000\n Y11_Q54b_2               1.000000  0.000000\n Y11_Q54b_3               1.000000  0.000000\n Y11_Q54b_4               1.000000  0.000000\n Y11_Q54b_5               1.000000  0.000000\n Y11_Q55a                 1.000000  0.830576\n Y11_Q55b                 1.000000  0.830072\n Y11_Q55c                 1.000000  0.828880\n Y11_Q55d                 1.000000  0.834013\n Y11_Q56a                 1.000000  0.895339\n Y11_Q56b                 1.000000  0.894330\n Y11_Q56c                 1.000000  0.894949\n Y11_Q56d                 1.000000  0.896026\n Y11_Q25g                 1.000000  0.122147\n Y11_Q28f                 1.000000  0.027134\n Y11_Q21a                 1.000000  0.004515\n Y11_Q21b                 1.000000  0.002613\n Y11_Q21c                 1.000000  0.002865\n Y11_Q21d                 1.000000  0.003758\n Y11_Q22a                 1.000000  0.009785\n Y11_Q22b                 1.000000  0.009488\n Y11_Q22c                 1.000000  0.009992\n Y11_Q22d                 1.000000  0.010771\n Y11_Q22e                 1.000000  0.013177\n Y11_Q23b                 1.000000  0.010863\n Y11_Q23c                 1.000000  0.011940\n Y11_Q29i                 1.000000  0.007677\n Y11_Volunteering         1.000000  0.000000\n Y11_Q57                  1.000000  0.021313\n Y11_Q60c                 1.000000  0.030021\n Y11_Q60d                 1.000000  0.034559\n Y11_Q65                  1.000000  0.013979\n Y11_Q66                  1.000000  0.074846\n Y11_Q29b                 1.000000  0.010519\n Y11_Q29c                 1.000000  0.005890\n Y11_Q29d                 1.000000  0.006119\n Y11_Q40b                 0.527895  0.557980\n Y11_Q40h                 1.000000  0.022550\n Y11_Q46a                 1.000000  0.008915\n Y11_Q46b                 1.000000  0.008296\n Y11_Q46c                 1.000000  0.009625\n Y11_Q7                   0.158584  0.565955\n Y11_Q8                   1.000000  0.130122\n Y11_Q9                   1.000000  0.688056\n Y11_Q10                  1.000000  0.504308\n Y11_Q11                  1.000000  0.559194\n Y11_Q12a                 0.528933  0.558828\n Y11_Q12b                 0.531010  0.560248\n Y11_Q12c                 0.530729  0.559744\n Y11_Q15                  0.543105  0.574113\n Y11_Q16                  1.000000  0.580324\n Y11_Q36a                 1.000000  0.018906\n Y11_Q39a                 1.000000  0.033252\n Y11_Q39b                 1.000000  0.041571\n Y11_Q39c                 1.000000  0.057682\n Y11_Q39d                 1.000000  0.285888\n Y11_Strainbasedconflict  0.522787  0.555963\n Y11_Q7a                  0.526379  0.558163\n Y11_Q7b                  0.968738  0.973646\n DV_Q7                    0.969299  0.974081\n DV_Q67                   1.000000  0.000000\n DV_Q54a                  1.000000  0.000000\n DV_Q54b                  1.000000  0.000000\n DV_Q55                   1.000000  0.000000\n DV_Q56                   1.000000  0.000000\n DV_Q8                    1.000000  0.000000\n DV_Q10                   1.000000  0.000000]"
     },
     "execution_count": 99,
     "metadata": {},
     "output_type": "execute_result"
    }
   ],
   "source": [
    "# getting the proportion of null values for each wave\n",
    "eqls_labels = eqls_df.drop(columns=['RowID', 'URIRowID', 'UniqueID'])\n",
    "\n",
    "pd.set_option('display.max_rows', 100000)\n",
    "prop_null_counts_per_wave = eqls_labels.groupby(\"Wave\").apply(lambda x: x.isnull().sum()/len(x)).transpose()\n",
    "[prop_null_counts_per_wave[(prop_null_counts_per_wave>0.5).any(1)]]"
   ],
   "metadata": {
    "collapsed": false,
    "pycharm": {
     "name": "#%%\n"
    }
   }
  },
  {
   "cell_type": "markdown",
   "source": [
    "We can see that there are a large amount of completely blank columns in Wave 2 (2007-8) wave, indicating these variables were not present in the survey.\n",
    "Because we want to make use of the additional variables we will use only Wave 3 data to be able to incorporate these variables."
   ],
   "metadata": {
    "collapsed": false
   }
  },
  {
   "cell_type": "code",
   "execution_count": 100,
   "outputs": [
    {
     "data": {
      "text/plain": "   Wave  Y11_Country  Y11_Q31  Y11_Q32  Y11_ISCEDsimple  Y11_Q49  Y11_Q67_1  \\\n0     3           15      NaN      0.0              4.0      1.0          1   \n1     3           15      4.0      0.0              4.0      2.0          1   \n2     3           15      4.0      0.0              3.0      2.0          2   \n3     3           15      3.0      0.0              3.0      2.0          2   \n4     3           15      4.0      0.0              4.0      3.0          2   \n\n   Y11_Q67_2  Y11_Q67_3  Y11_Q67_4  ...  DV_Q54a  DV_Q54b  DV_Q55  DV_Q56  \\\n0          1          1          2  ...        3        3       0       0   \n1          1          2          1  ...        3        3       0       0   \n2          1          1          1  ...        3        3       0       0   \n3          1          1          1  ...        3        3       0       0   \n4          1          1          1  ...        3        3       0       0   \n\n   DV_Q8  DV_Q10                               ISO3166_Country  RowID  \\\n0      4       4  https://www.iso.org/obp/ui/#iso:code:3166:IT  35635   \n1      4       4  https://www.iso.org/obp/ui/#iso:code:3166:IT  35636   \n2      4       4  https://www.iso.org/obp/ui/#iso:code:3166:IT  35637   \n3      4       4  https://www.iso.org/obp/ui/#iso:code:3166:IT  35638   \n4      4       4  https://www.iso.org/obp/ui/#iso:code:3166:IT  35639   \n\n                                            URIRowID   UniqueID  \n0  https://api.ukdataservice.ac.uk/V1/datasets/eq...  AT1189423  \n1  https://api.ukdataservice.ac.uk/V1/datasets/eq...  AT1156013  \n2  https://api.ukdataservice.ac.uk/V1/datasets/eq...  AT1030307  \n3  https://api.ukdataservice.ac.uk/V1/datasets/eq...  AT1057215  \n4  https://api.ukdataservice.ac.uk/V1/datasets/eq...  AT1037718  \n\n[5 rows x 199 columns]",
      "text/html": "<div>\n<style scoped>\n    .dataframe tbody tr th:only-of-type {\n        vertical-align: middle;\n    }\n\n    .dataframe tbody tr th {\n        vertical-align: top;\n    }\n\n    .dataframe thead th {\n        text-align: right;\n    }\n</style>\n<table border=\"1\" class=\"dataframe\">\n  <thead>\n    <tr style=\"text-align: right;\">\n      <th></th>\n      <th>Wave</th>\n      <th>Y11_Country</th>\n      <th>Y11_Q31</th>\n      <th>Y11_Q32</th>\n      <th>Y11_ISCEDsimple</th>\n      <th>Y11_Q49</th>\n      <th>Y11_Q67_1</th>\n      <th>Y11_Q67_2</th>\n      <th>Y11_Q67_3</th>\n      <th>Y11_Q67_4</th>\n      <th>...</th>\n      <th>DV_Q54a</th>\n      <th>DV_Q54b</th>\n      <th>DV_Q55</th>\n      <th>DV_Q56</th>\n      <th>DV_Q8</th>\n      <th>DV_Q10</th>\n      <th>ISO3166_Country</th>\n      <th>RowID</th>\n      <th>URIRowID</th>\n      <th>UniqueID</th>\n    </tr>\n  </thead>\n  <tbody>\n    <tr>\n      <th>0</th>\n      <td>3</td>\n      <td>15</td>\n      <td>NaN</td>\n      <td>0.0</td>\n      <td>4.0</td>\n      <td>1.0</td>\n      <td>1</td>\n      <td>1</td>\n      <td>1</td>\n      <td>2</td>\n      <td>...</td>\n      <td>3</td>\n      <td>3</td>\n      <td>0</td>\n      <td>0</td>\n      <td>4</td>\n      <td>4</td>\n      <td>https://www.iso.org/obp/ui/#iso:code:3166:IT</td>\n      <td>35635</td>\n      <td>https://api.ukdataservice.ac.uk/V1/datasets/eq...</td>\n      <td>AT1189423</td>\n    </tr>\n    <tr>\n      <th>1</th>\n      <td>3</td>\n      <td>15</td>\n      <td>4.0</td>\n      <td>0.0</td>\n      <td>4.0</td>\n      <td>2.0</td>\n      <td>1</td>\n      <td>1</td>\n      <td>2</td>\n      <td>1</td>\n      <td>...</td>\n      <td>3</td>\n      <td>3</td>\n      <td>0</td>\n      <td>0</td>\n      <td>4</td>\n      <td>4</td>\n      <td>https://www.iso.org/obp/ui/#iso:code:3166:IT</td>\n      <td>35636</td>\n      <td>https://api.ukdataservice.ac.uk/V1/datasets/eq...</td>\n      <td>AT1156013</td>\n    </tr>\n    <tr>\n      <th>2</th>\n      <td>3</td>\n      <td>15</td>\n      <td>4.0</td>\n      <td>0.0</td>\n      <td>3.0</td>\n      <td>2.0</td>\n      <td>2</td>\n      <td>1</td>\n      <td>1</td>\n      <td>1</td>\n      <td>...</td>\n      <td>3</td>\n      <td>3</td>\n      <td>0</td>\n      <td>0</td>\n      <td>4</td>\n      <td>4</td>\n      <td>https://www.iso.org/obp/ui/#iso:code:3166:IT</td>\n      <td>35637</td>\n      <td>https://api.ukdataservice.ac.uk/V1/datasets/eq...</td>\n      <td>AT1030307</td>\n    </tr>\n    <tr>\n      <th>3</th>\n      <td>3</td>\n      <td>15</td>\n      <td>3.0</td>\n      <td>0.0</td>\n      <td>3.0</td>\n      <td>2.0</td>\n      <td>2</td>\n      <td>1</td>\n      <td>1</td>\n      <td>1</td>\n      <td>...</td>\n      <td>3</td>\n      <td>3</td>\n      <td>0</td>\n      <td>0</td>\n      <td>4</td>\n      <td>4</td>\n      <td>https://www.iso.org/obp/ui/#iso:code:3166:IT</td>\n      <td>35638</td>\n      <td>https://api.ukdataservice.ac.uk/V1/datasets/eq...</td>\n      <td>AT1057215</td>\n    </tr>\n    <tr>\n      <th>4</th>\n      <td>3</td>\n      <td>15</td>\n      <td>4.0</td>\n      <td>0.0</td>\n      <td>4.0</td>\n      <td>3.0</td>\n      <td>2</td>\n      <td>1</td>\n      <td>1</td>\n      <td>1</td>\n      <td>...</td>\n      <td>3</td>\n      <td>3</td>\n      <td>0</td>\n      <td>0</td>\n      <td>4</td>\n      <td>4</td>\n      <td>https://www.iso.org/obp/ui/#iso:code:3166:IT</td>\n      <td>35639</td>\n      <td>https://api.ukdataservice.ac.uk/V1/datasets/eq...</td>\n      <td>AT1037718</td>\n    </tr>\n  </tbody>\n</table>\n<p>5 rows × 199 columns</p>\n</div>"
     },
     "execution_count": 100,
     "metadata": {},
     "output_type": "execute_result"
    }
   ],
   "source": [
    "eqls_2011_path = Path(\"data/UKDA-7724-csv/csv/eqls_2011.csv\").resolve()\n",
    "eqls_2011_df = pd.read_csv(eqls_2011_path)\n",
    "\n",
    "eqls_2011_df.head()"
   ],
   "metadata": {
    "collapsed": false,
    "pycharm": {
     "name": "#%%\n"
    }
   }
  },
  {
   "cell_type": "code",
   "execution_count": 101,
   "outputs": [
    {
     "data": {
      "text/plain": "[Wave                            3\n Y11_Q44                  0.710835\n Y11_Q52                  0.537927\n Y11_Q55a                 0.830576\n Y11_Q55b                 0.830072\n Y11_Q55c                 0.828880\n Y11_Q55d                 0.834013\n Y11_Q56a                 0.895339\n Y11_Q56b                 0.894330\n Y11_Q56c                 0.894949\n Y11_Q56d                 0.896026\n Y11_Q40b                 0.557980\n Y11_Q7                   0.565955\n Y11_Q9                   0.688056\n Y11_Q10                  0.504308\n Y11_Q11                  0.559194\n Y11_Q12a                 0.558828\n Y11_Q12b                 0.560248\n Y11_Q12c                 0.559744\n Y11_Q15                  0.574113\n Y11_Q16                  0.580324\n Y11_Strainbasedconflict  0.555963\n Y11_Q7a                  0.558163\n Y11_Q7b                  0.973646\n DV_Q7                    0.974081]"
     },
     "execution_count": 101,
     "metadata": {},
     "output_type": "execute_result"
    }
   ],
   "source": [
    "eqls_2011_labels = eqls_2011_df.drop(columns=['RowID', 'URIRowID', 'UniqueID'])\n",
    "\n",
    "prop_null_counts_wave_3 = eqls_2011_labels.groupby(\"Wave\").apply(lambda x: x.isnull().sum()/len(x)).transpose()\n",
    "[prop_null_counts_wave_3[(prop_null_counts_wave_3>0.5).any(1)]]"
   ],
   "metadata": {
    "collapsed": false,
    "pycharm": {
     "name": "#%%\n"
    }
   }
  },
  {
   "cell_type": "code",
   "execution_count": 102,
   "outputs": [
    {
     "data": {
      "text/plain": "Wave                             0.000000\nY11_Country                      0.000000\nY11_Q31                          0.005592\nY11_Q32                          0.005179\nY11_ISCEDsimple                  0.002085\nY11_Q49                          0.002177\nY11_Q67_1                        0.000000\nY11_Q67_2                        0.000000\nY11_Q67_3                        0.000000\nY11_Q67_4                        0.000000\nY11_Q67_5                        0.000000\nY11_Agecategory                  0.000000\nY11_HH2a                         0.000000\nY11_HHsize                       0.000000\nY11_HHsize18plus                 0.000000\nY11_HHstructure                  0.000000\nY11_Education                    0.000000\nY11_EmploymentStatus             0.000000\nY11_Incomequartiles_percapita    0.247846\nY11_RuralUrban                   0.002177\nY11_Degurba                      0.233110\nY11_CountryGroupEU28             0.000000\nY11_Q33a                         0.272367\nY11_Q33b                         0.011550\nY11_Q33c                         0.005867\nY11_Q33d                         0.005729\nY11_Q34a                         0.322601\nY11_Q34b                         0.091576\nY11_Q34c                         0.025094\nY11_Q34d                         0.010977\nY11_Q35a                         0.006508\nY11_Q35b                         0.009694\nY11_Q35c                         0.105945\nY11_Q35d                         0.011917\nY11_Q35e                         0.027179\nY11_Q42                          0.001765\nY11_Q43                          0.008663\nY11_Q44                          0.710835\nY11_Q17                          0.007585\nY11_Q18                          0.003713\nY11_Q19a                         0.001696\nY11_Q19b                         0.004446\nY11_Q19c                         0.002727\nY11_Q19d                         0.001581\nY11_Q19e                         0.001306\nY11_Q19f                         0.002154\nY11_Q20                          0.021565\nY11_Q50a                         0.001238\nY11_Q50b                         0.005408\nY11_Q50c                         0.011688\nY11_Q50d                         0.012925\nY11_Q50e                         0.003575\nY11_Q50f                         0.007792\nY11_Accommproblems               0.009075\nY11_Q47a                         0.063342\nY11_Q47b                         0.076794\nY11_Q47c                         0.074663\nY11_Q47d                         0.119970\nY11_Q47e                         0.167912\nY11_Q51a                         0.003758\nY11_Q51b                         0.004790\nY11_Q51c                         0.009648\nY11_Q51d                         0.013498\nY11_Q51e                         0.008433\nY11_Q52                          0.537927\nY11_Q53a                         0.014575\nY11_Q53b                         0.073724\nY11_Q53c                         0.073815\nY11_Q53d                         0.291663\nY11_Q53e                         0.315680\nY11_Q53f                         0.311096\nY11_Q53g                         0.136539\nY11_Q54a_1                       0.000000\nY11_Q54a_2                       0.000000\nY11_Q54a_3                       0.000000\nY11_Q54a_4                       0.000000\nY11_Q54a_5                       0.000000\nY11_Q54b_1                       0.000000\nY11_Q54b_2                       0.000000\nY11_Q54b_3                       0.000000\nY11_Q54b_4                       0.000000\nY11_Q54b_5                       0.000000\nY11_Q55a                         0.830576\nY11_Q55b                         0.830072\nY11_Q55c                         0.828880\nY11_Q55d                         0.834013\nY11_Q56a                         0.895339\nY11_Q56b                         0.894330\nY11_Q56c                         0.894949\nY11_Q56d                         0.896026\nY11_Q24                          0.008571\nY11_Q25a                         0.038225\nY11_Q25b                         0.063915\nY11_Q25c                         0.040815\nY11_Q25d                         0.028554\nY11_Q25e                         0.052159\nY11_Q25f                         0.072555\nY11_Q25g                         0.122147\nY11_Q28a                         0.030388\nY11_Q28b                         0.033596\nY11_Q28c                         0.022321\nY11_Q28d                         0.017165\nY11_Q28e                         0.023192\nY11_Q28f                         0.027134\nY11_Q21a                         0.004515\nY11_Q21b                         0.002613\nY11_Q21c                         0.002865\nY11_Q21d                         0.003758\nY11_Q22a                         0.009785\nY11_Q22b                         0.009488\nY11_Q22c                         0.009992\nY11_Q22d                         0.010771\nY11_Q22e                         0.013177\nY11_Q23a                         0.010198\nY11_Q23b                         0.010863\nY11_Q23c                         0.011940\nY11_Q23d                         0.011069\nY11_Q29e                         0.007838\nY11_Q29f                         0.010336\nY11_Q29g                         0.023031\nY11_Q29h                         0.028096\nY11_Q29i                         0.007677\nY11_SocExIndex                   0.050555\nY11_Volunteering                 0.000000\nY11_Q57                          0.021313\nY11_Q58                          0.013498\nY11_Q59a                         0.014300\nY11_Q59b                         0.026469\nY11_Q59c                         0.033275\nY11_Q59d                         0.013773\nY11_Q59e                         0.021886\nY11_Q59f                         0.022069\nY11_Q60a                         0.024338\nY11_Q60b                         0.011458\nY11_Q60c                         0.030021\nY11_Q60d                         0.034559\nY11_Q65                          0.013979\nY11_Q66                          0.074846\nY11_Deprindex                    0.076703\nY11_Q29a                         0.009785\nY11_Q29b                         0.010519\nY11_Q29c                         0.005890\nY11_Q29d                         0.006119\nY11_Q30                          0.003185\nY11_Q40a                         0.012306\nY11_Q40b                         0.557980\nY11_Q40c                         0.005202\nY11_Q40d                         0.002933\nY11_Q40e                         0.011092\nY11_Q40f                         0.003208\nY11_Q40g                         0.012329\nY11_Q40h                         0.022550\nY11_Q41                          0.006142\nY11_Q45a                         0.004790\nY11_Q45b                         0.004652\nY11_Q45c                         0.004790\nY11_Q45d                         0.005042\nY11_Q45e                         0.009602\nY11_Q46a                         0.008915\nY11_Q46b                         0.008296\nY11_Q46c                         0.009625\nY11_MWIndex                      0.014025\nw4                               0.000000\nw5_EU28                          0.163145\nw5_total                         0.000000\nY11_Q7                           0.565955\nY11_Q8                           0.130122\nY11_Q9                           0.688056\nY11_Q10                          0.504308\nY11_Q11                          0.559194\nY11_Q12a                         0.558828\nY11_Q12b                         0.560248\nY11_Q12c                         0.559744\nY11_Q15                          0.574113\nY11_Q16                          0.580324\nY11_Q36a                         0.018906\nY11_Q36b                         0.019846\nY11_Q36c                         0.032450\nY11_Q38                          0.261619\nY11_Q39a                         0.033252\nY11_Q39b                         0.041571\nY11_Q39c                         0.057682\nY11_Q39d                         0.285888\nY11_Strainbasedconflict          0.555963\nY11_Q7a                          0.558163\nY11_Q7b                          0.973646\nDV_Q7                            0.974081\nDV_Q67                           0.000000\nDV_Q43Q44                        0.009671\nDV_Q54a                          0.000000\nDV_Q54b                          0.000000\nDV_Q55                           0.000000\nDV_Q56                           0.000000\nDV_Q8                            0.000000\nDV_Q10                           0.000000\nISO3166_Country                  0.000000\ndtype: float64"
     },
     "execution_count": 102,
     "metadata": {},
     "output_type": "execute_result"
    }
   ],
   "source": [
    "eqls_2011_labels.apply(lambda x: x.isnull().sum()/len(x))"
   ],
   "metadata": {
    "collapsed": false,
    "pycharm": {
     "name": "#%%\n"
    }
   }
  },
  {
   "cell_type": "markdown",
   "source": [
    "We can see there are less missing data in the variables in the 2011 data. When looking at the [metadata](http://doc.ukdataservice.ac.uk/doc/7724/mrdoc/pdf/7724_eqls_2007-2011_user_guide_v2.pdf) available for these columns,\n",
    "we can see that large amounts of missing data is available on questions such as:\n",
    "- Are you limited in your daily activities by this physical or mental health problem/illness/disability?\n",
    "- How much time spent on travelling to work/study?\n",
    "- Difficult to use child care/long term care because of cost/availability/access/quality of care?\n",
    "- How satisfied with present job?\n",
    "- How many hours do you/your partner work?\n",
    "- How likely to lose/find a similar salaried job in 6 months?\n",
    "- Work-life balance conflict?\n",
    "- Worked at an additional paid?\n",
    "- Total number of working hours?"
   ],
   "metadata": {
    "collapsed": false
   }
  },
  {
   "cell_type": "markdown",
   "source": [
    "Many of these variables are derived (see Derived variables section in the metadata) and therefore inherit the missingness from the other data.\n",
    "We can deal with missing data in multiple ways. one strategy is to impute them.\n",
    "\n",
    " Data pipelines allow one to transform data from one representation\n",
    "to another through a series of steps. Pipelines allow one to apply and chain intermediate steps of transform to our data\n",
    "For example, one can fill missing values, pass the output to cross\n",
    "validation and grid search and then fit the model in series of steps chained together where the output of one is the input to another."
   ],
   "metadata": {
    "collapsed": false,
    "pycharm": {
     "name": "#%% md\n"
    }
   }
  },
  {
   "cell_type": "code",
   "execution_count": 103,
   "outputs": [
    {
     "name": "stderr",
     "output_type": "stream",
     "text": [
      "/Users/clast/Documents/2021_projects/rds-course/.venv/lib/python3.7/site-packages/ipykernel_launcher.py:29: PerformanceWarning: DataFrame is highly fragmented.  This is usually the result of calling `frame.insert` many times, which has poor performance.  Consider using pd.concat instead.  To get a de-fragmented frame, use `newframe = frame.copy()`\n"
     ]
    }
   ],
   "source": [
    "from sklearn.base import TransformerMixin\n",
    "\n",
    "class DataFrameImputer(TransformerMixin):\n",
    "\n",
    "    def __init__(self):\n",
    "        \"\"\"Impute missing values.\n",
    "\n",
    "        Columns of dtype object are imputed with the most frequent value\n",
    "        in column.\n",
    "\n",
    "        Columns of other types are imputed with mean of column.\n",
    "\n",
    "        \"\"\"\n",
    "    def fit(self, X, y=None):\n",
    "\n",
    "        self.fill = pd.Series([X[c].value_counts().index[0]\n",
    "            if X[c].dtype == np.dtype('O') else X[c].mean() for c in X],\n",
    "            index=X.columns)\n",
    "\n",
    "        return self\n",
    "\n",
    "    def transform(self, X, y=None):\n",
    "        return X.fillna(self.fill)\n",
    "\n",
    "eqls_2011_df_impute = eqls_2011_df.copy()\n",
    "cols_with_missing = (col for col in eqls_2011_df_impute.columns\n",
    "                                 if eqls_2011_df_impute[col].isnull().any())\n",
    "for col in cols_with_missing:\n",
    "    eqls_2011_df_impute[col + '_was_missing'] = eqls_2011_df_impute[col].isnull()\n",
    "\n",
    "eqls_2011_df_imputed = DataFrameImputer().fit_transform(eqls_2011_df_impute)"
   ],
   "metadata": {
    "collapsed": false,
    "pycharm": {
     "name": "#%%\n"
    }
   }
  },
  {
   "cell_type": "markdown",
   "source": [
    "We can see the imputed values (most common feature for columns with `dtype` type and the average value for other \"type\" columns."
   ],
   "metadata": {
    "collapsed": false,
    "pycharm": {
     "name": "#%% md\n"
    }
   }
  },
  {
   "cell_type": "code",
   "execution_count": 104,
   "outputs": [
    {
     "data": {
      "text/plain": "   Wave  Y11_Country   Y11_Q31  Y11_Q32  Y11_ISCEDsimple  Y11_Q49  Y11_Q67_1  \\\n0     3           15  1.880969      0.0              4.0      1.0          1   \n1     3           15  4.000000      0.0              4.0      2.0          1   \n2     3           15  4.000000      0.0              3.0      2.0          2   \n3     3           15  3.000000      0.0              3.0      2.0          2   \n4     3           15  4.000000      0.0              4.0      3.0          2   \n\n   Y11_Q67_2  Y11_Q67_3  Y11_Q67_4  ...  Y11_Q38_was_missing  \\\n0          1          1          2  ...                 True   \n1          1          2          1  ...                 True   \n2          1          1          1  ...                 True   \n3          1          1          1  ...                 True   \n4          1          1          1  ...                 True   \n\n   Y11_Q39a_was_missing  Y11_Q39b_was_missing  Y11_Q39c_was_missing  \\\n0                 False                 False                 False   \n1                 False                 False                 False   \n2                 False                 False                 False   \n3                 False                 False                 False   \n4                 False                 False                 False   \n\n   Y11_Q39d_was_missing  Y11_Strainbasedconflict_was_missing  \\\n0                  True                                False   \n1                  True                                False   \n2                  True                                False   \n3                 False                                 True   \n4                 False                                False   \n\n   Y11_Q7a_was_missing  Y11_Q7b_was_missing  DV_Q7_was_missing  \\\n0                False                 True               True   \n1                False                 True               True   \n2                False                 True               True   \n3                 True                 True               True   \n4                False                 True               True   \n\n   DV_Q43Q44_was_missing  \n0                  False  \n1                  False  \n2                  False  \n3                  False  \n4                  False  \n\n[5 rows x 359 columns]",
      "text/html": "<div>\n<style scoped>\n    .dataframe tbody tr th:only-of-type {\n        vertical-align: middle;\n    }\n\n    .dataframe tbody tr th {\n        vertical-align: top;\n    }\n\n    .dataframe thead th {\n        text-align: right;\n    }\n</style>\n<table border=\"1\" class=\"dataframe\">\n  <thead>\n    <tr style=\"text-align: right;\">\n      <th></th>\n      <th>Wave</th>\n      <th>Y11_Country</th>\n      <th>Y11_Q31</th>\n      <th>Y11_Q32</th>\n      <th>Y11_ISCEDsimple</th>\n      <th>Y11_Q49</th>\n      <th>Y11_Q67_1</th>\n      <th>Y11_Q67_2</th>\n      <th>Y11_Q67_3</th>\n      <th>Y11_Q67_4</th>\n      <th>...</th>\n      <th>Y11_Q38_was_missing</th>\n      <th>Y11_Q39a_was_missing</th>\n      <th>Y11_Q39b_was_missing</th>\n      <th>Y11_Q39c_was_missing</th>\n      <th>Y11_Q39d_was_missing</th>\n      <th>Y11_Strainbasedconflict_was_missing</th>\n      <th>Y11_Q7a_was_missing</th>\n      <th>Y11_Q7b_was_missing</th>\n      <th>DV_Q7_was_missing</th>\n      <th>DV_Q43Q44_was_missing</th>\n    </tr>\n  </thead>\n  <tbody>\n    <tr>\n      <th>0</th>\n      <td>3</td>\n      <td>15</td>\n      <td>1.880969</td>\n      <td>0.0</td>\n      <td>4.0</td>\n      <td>1.0</td>\n      <td>1</td>\n      <td>1</td>\n      <td>1</td>\n      <td>2</td>\n      <td>...</td>\n      <td>True</td>\n      <td>False</td>\n      <td>False</td>\n      <td>False</td>\n      <td>True</td>\n      <td>False</td>\n      <td>False</td>\n      <td>True</td>\n      <td>True</td>\n      <td>False</td>\n    </tr>\n    <tr>\n      <th>1</th>\n      <td>3</td>\n      <td>15</td>\n      <td>4.000000</td>\n      <td>0.0</td>\n      <td>4.0</td>\n      <td>2.0</td>\n      <td>1</td>\n      <td>1</td>\n      <td>2</td>\n      <td>1</td>\n      <td>...</td>\n      <td>True</td>\n      <td>False</td>\n      <td>False</td>\n      <td>False</td>\n      <td>True</td>\n      <td>False</td>\n      <td>False</td>\n      <td>True</td>\n      <td>True</td>\n      <td>False</td>\n    </tr>\n    <tr>\n      <th>2</th>\n      <td>3</td>\n      <td>15</td>\n      <td>4.000000</td>\n      <td>0.0</td>\n      <td>3.0</td>\n      <td>2.0</td>\n      <td>2</td>\n      <td>1</td>\n      <td>1</td>\n      <td>1</td>\n      <td>...</td>\n      <td>True</td>\n      <td>False</td>\n      <td>False</td>\n      <td>False</td>\n      <td>True</td>\n      <td>False</td>\n      <td>False</td>\n      <td>True</td>\n      <td>True</td>\n      <td>False</td>\n    </tr>\n    <tr>\n      <th>3</th>\n      <td>3</td>\n      <td>15</td>\n      <td>3.000000</td>\n      <td>0.0</td>\n      <td>3.0</td>\n      <td>2.0</td>\n      <td>2</td>\n      <td>1</td>\n      <td>1</td>\n      <td>1</td>\n      <td>...</td>\n      <td>True</td>\n      <td>False</td>\n      <td>False</td>\n      <td>False</td>\n      <td>False</td>\n      <td>True</td>\n      <td>True</td>\n      <td>True</td>\n      <td>True</td>\n      <td>False</td>\n    </tr>\n    <tr>\n      <th>4</th>\n      <td>3</td>\n      <td>15</td>\n      <td>4.000000</td>\n      <td>0.0</td>\n      <td>4.0</td>\n      <td>3.0</td>\n      <td>2</td>\n      <td>1</td>\n      <td>1</td>\n      <td>1</td>\n      <td>...</td>\n      <td>True</td>\n      <td>False</td>\n      <td>False</td>\n      <td>False</td>\n      <td>False</td>\n      <td>False</td>\n      <td>False</td>\n      <td>True</td>\n      <td>True</td>\n      <td>False</td>\n    </tr>\n  </tbody>\n</table>\n<p>5 rows × 359 columns</p>\n</div>"
     },
     "execution_count": 104,
     "metadata": {},
     "output_type": "execute_result"
    }
   ],
   "source": [
    "eqls_2011_df_imputed.head()\n"
   ],
   "metadata": {
    "collapsed": false,
    "pycharm": {
     "name": "#%%\n"
    }
   }
  },
  {
   "cell_type": "markdown",
   "source": [
    "### Example (Comparing All Solutions)\n",
    "\n",
    "We will see am example predicting the self reported health outcome (feature label: '`Y11_Q42`') from the EQLS data.\n",
    "We use a random forest regressor to predict the self reported health outcome.\n",
    "A random forest is a supervised machine learning algorithm that is constructed from decision tree algorithms."
   ],
   "metadata": {
    "collapsed": false,
    "pycharm": {
     "name": "#%% md\n"
    }
   }
  },
  {
   "cell_type": "code",
   "execution_count": 105,
   "outputs": [],
   "source": [
    "from sklearn.ensemble import RandomForestRegressor\n",
    "from sklearn.metrics import mean_absolute_error\n",
    "from sklearn.model_selection import train_test_split\n",
    "\n",
    "eqls_2011_df_target_nona = eqls_2011_df[eqls_2011_df['Y11_Q42'].notna()]\n",
    "eqls_2011_target = eqls_2011_df_target_nona.Y11_Q42\n",
    "eqls_2011_predictors = eqls_2011_df_target_nona.drop(['Y11_Q42'], axis=1)\n",
    "\n",
    "# For the sake of keeping the example simple, we'll use only numeric predictors.\n",
    "eqls_2011_numeric_predictors = eqls_2011_predictors.select_dtypes(exclude=['object'])\n",
    "\n",
    "\n",
    "\n",
    "X_train, X_test, y_train, y_test = train_test_split(eqls_2011_numeric_predictors,\n",
    "                                                    eqls_2011_target,\n",
    "                                                    train_size=0.7,\n",
    "                                                    test_size=0.3,\n",
    "                                                    random_state=0)\n",
    "\n",
    "def random_forest_score_dataset(X_train, X_test, y_train, y_test):\n",
    "    model = RandomForestRegressor()\n",
    "    model.fit(X_train, y_train)\n",
    "    preds = model.predict(X_test)\n",
    "    return mean_absolute_error(y_test, preds)"
   ],
   "metadata": {
    "collapsed": false,
    "pycharm": {
     "name": "#%%\n"
    }
   }
  },
  {
   "cell_type": "markdown",
   "source": [
    "#### Get Model Score from Dropping Columns with Missing Values"
   ],
   "metadata": {
    "collapsed": false,
    "pycharm": {
     "name": "#%% md\n"
    }
   }
  },
  {
   "cell_type": "code",
   "execution_count": 106,
   "outputs": [
    {
     "name": "stdout",
     "output_type": "stream",
     "text": [
      "Mean Absolute Error from dropping columns with Missing Values:\n",
      "0.680240281603918\n"
     ]
    }
   ],
   "source": [
    "cols_with_missing = [col for col in X_train.columns\n",
    "                                 if X_train[col].isnull().any()]\n",
    "reduced_X_train = X_train.drop(cols_with_missing, axis=1)\n",
    "reduced_X_test  = X_test.drop(cols_with_missing, axis=1)\n",
    "print(\"Mean Absolute Error from dropping columns with Missing Values:\")\n",
    "print(random_forest_score_dataset(reduced_X_train, reduced_X_test, y_train, y_test))"
   ],
   "metadata": {
    "collapsed": false,
    "pycharm": {
     "name": "#%%\n"
    }
   }
  },
  {
   "cell_type": "markdown",
   "source": [
    "#### Get Model Score from Imputation\n"
   ],
   "metadata": {
    "collapsed": false
   }
  },
  {
   "cell_type": "code",
   "execution_count": 107,
   "outputs": [
    {
     "name": "stdout",
     "output_type": "stream",
     "text": [
      "Mean Absolute Error from Imputation:\n",
      "0.4557667584940312\n"
     ]
    }
   ],
   "source": [
    "from sklearn.impute import SimpleImputer\n",
    "\n",
    "my_imputer = SimpleImputer()\n",
    "imputed_X_train = my_imputer.fit_transform(X_train)\n",
    "imputed_X_test = my_imputer.transform(X_test)\n",
    "print(\"Mean Absolute Error from Imputation:\")\n",
    "print(random_forest_score_dataset(imputed_X_train, imputed_X_test, y_train, y_test))\n"
   ],
   "metadata": {
    "collapsed": false,
    "pycharm": {
     "name": "#%%\n"
    }
   }
  },
  {
   "cell_type": "markdown",
   "source": [
    "#### Get Score from Imputation with Extra Columns Showing What Was Imputed\n"
   ],
   "metadata": {
    "collapsed": false,
    "pycharm": {
     "name": "#%% md\n"
    }
   }
  },
  {
   "cell_type": "code",
   "execution_count": 108,
   "outputs": [
    {
     "name": "stderr",
     "output_type": "stream",
     "text": [
      "/Users/clast/Documents/2021_projects/rds-course/.venv/lib/python3.7/site-packages/ipykernel_launcher.py:7: PerformanceWarning: DataFrame is highly fragmented.  This is usually the result of calling `frame.insert` many times, which has poor performance.  Consider using pd.concat instead.  To get a de-fragmented frame, use `newframe = frame.copy()`\n",
      "  import sys\n",
      "/Users/clast/Documents/2021_projects/rds-course/.venv/lib/python3.7/site-packages/ipykernel_launcher.py:8: PerformanceWarning: DataFrame is highly fragmented.  This is usually the result of calling `frame.insert` many times, which has poor performance.  Consider using pd.concat instead.  To get a de-fragmented frame, use `newframe = frame.copy()`\n",
      "  \n"
     ]
    },
    {
     "name": "stdout",
     "output_type": "stream",
     "text": [
      "Mean Absolute Error from Imputation while Track What Was Imputed:\n",
      "0.4550987144168962\n"
     ]
    }
   ],
   "source": [
    "imputed_X_train_plus = X_train.copy()\n",
    "imputed_X_test_plus = X_test.copy()\n",
    "\n",
    "cols_with_missing = (col for col in X_train.columns\n",
    "                                 if X_train[col].isnull().any())\n",
    "for col in cols_with_missing:\n",
    "    imputed_X_train_plus[col + '_was_missing'] = imputed_X_train_plus[col].isnull()\n",
    "    imputed_X_test_plus[col + '_was_missing'] = imputed_X_test_plus[col].isnull()\n",
    "\n",
    "# Imputation\n",
    "my_imputer = SimpleImputer()\n",
    "imputed_X_train_plus = my_imputer.fit_transform(imputed_X_train_plus)\n",
    "imputed_X_test_plus = my_imputer.transform(imputed_X_test_plus)\n",
    "\n",
    "print(\"Mean Absolute Error from Imputation while Track What Was Imputed:\")\n",
    "print(random_forest_score_dataset(imputed_X_train_plus, imputed_X_test_plus, y_train, y_test))"
   ],
   "metadata": {
    "collapsed": false,
    "pycharm": {
     "name": "#%%\n"
    }
   }
  },
  {
   "cell_type": "markdown",
   "source": [
    "As is common, imputing missing values allowed us to improve our model compared to dropping those columns.\n",
    "We got an additional boost by tracking what values had been imputed."
   ],
   "metadata": {
    "collapsed": false,
    "pycharm": {
     "name": "#%% md\n"
    }
   }
  },
  {
   "cell_type": "markdown",
   "source": [
    "## Modelling - Logistic Regression\n",
    "Logistic Regression is one of the most simple and commonly used Machine Learning algorithms for two-class classification.\n",
    "It is easy to implement and can be used as the baseline for any binary classification problem.\n",
    "Its basic fundamental concepts are also constructive in deep learning. Logistic regression describes and estimates the\n",
    "relationship between one dependent binary variable and independent variables.\n",
    "\n",
    "#### Predict variable (desired target):\n",
    "\n",
    "`y` —  In general, your health is …? (Y11_Q42)\n",
    "\n",
    "The health column of the dataset has many categories and we need to reduce the categories for a better modelling.\n",
    "The health column has the following categories:"
   ],
   "metadata": {
    "collapsed": false
   }
  },
  {
   "cell_type": "code",
   "execution_count": 109,
   "outputs": [
    {
     "data": {
      "text/plain": "array([2., 1., 3., 4., 5.])"
     },
     "execution_count": 109,
     "metadata": {},
     "output_type": "execute_result"
    }
   ],
   "source": [
    "eqls_2011_df_target_nona['Y11_Q42'].unique()"
   ],
   "metadata": {
    "collapsed": false,
    "pycharm": {
     "name": "#%%\n"
    }
   }
  },
  {
   "cell_type": "markdown",
   "source": [
    "The labels in our current target variable are as follows:\n",
    "- `\"1\"` (Label = Very good)\n",
    "- `\"2\"` (Label = Good)\n",
    "- `\"3\"` (Label = Fair)\n",
    "- `\"4\"` (Label = Bad)\n",
    "- `\"5\"` (Label = Very bad) together.\n",
    "\n",
    "Let's create an updated variable that is binary (i.e. either a 1 or a 0 such that `\"1\"`, means “Good”, `\"0\"` means “Bad”).\n",
    "Lets assign the `\"1\"`, `\"2\"`, `\"3\"` to the value `\"1\"`, and likewise, `\"4\"` and `\"5\"` to the value of `\"0\"`."
   ],
   "metadata": {
    "collapsed": false,
    "pycharm": {
     "name": "#%% md\n"
    }
   }
  },
  {
   "cell_type": "code",
   "execution_count": 110,
   "outputs": [
    {
     "name": "stderr",
     "output_type": "stream",
     "text": [
      "/Users/clast/Documents/2021_projects/rds-course/.venv/lib/python3.7/site-packages/ipykernel_launcher.py:1: SettingWithCopyWarning: \n",
      "A value is trying to be set on a copy of a slice from a DataFrame.\n",
      "Try using .loc[row_indexer,col_indexer] = value instead\n",
      "\n",
      "See the caveats in the documentation: https://pandas.pydata.org/pandas-docs/stable/user_guide/indexing.html#returning-a-view-versus-a-copy\n",
      "  \"\"\"Entry point for launching an IPython kernel.\n"
     ]
    }
   ],
   "source": [
    "eqls_2011_df_target_nona['Y11_Q42_binary'] = eqls_2011_df_target_nona.Y11_Q42.apply(lambda x: 1 if float(x) <= 3 else 0)"
   ],
   "metadata": {
    "collapsed": false,
    "pycharm": {
     "name": "#%%\n"
    }
   }
  },
  {
   "cell_type": "code",
   "execution_count": 114,
   "outputs": [
    {
     "data": {
      "text/plain": "   Y11_Q42_binary  Y11_Q42\n0               1      2.0\n1               1      1.0\n2               1      2.0\n3               1      1.0\n4               1      3.0",
      "text/html": "<div>\n<style scoped>\n    .dataframe tbody tr th:only-of-type {\n        vertical-align: middle;\n    }\n\n    .dataframe tbody tr th {\n        vertical-align: top;\n    }\n\n    .dataframe thead th {\n        text-align: right;\n    }\n</style>\n<table border=\"1\" class=\"dataframe\">\n  <thead>\n    <tr style=\"text-align: right;\">\n      <th></th>\n      <th>Y11_Q42_binary</th>\n      <th>Y11_Q42</th>\n    </tr>\n  </thead>\n  <tbody>\n    <tr>\n      <th>0</th>\n      <td>1</td>\n      <td>2.0</td>\n    </tr>\n    <tr>\n      <th>1</th>\n      <td>1</td>\n      <td>1.0</td>\n    </tr>\n    <tr>\n      <th>2</th>\n      <td>1</td>\n      <td>2.0</td>\n    </tr>\n    <tr>\n      <th>3</th>\n      <td>1</td>\n      <td>1.0</td>\n    </tr>\n    <tr>\n      <th>4</th>\n      <td>1</td>\n      <td>3.0</td>\n    </tr>\n  </tbody>\n</table>\n</div>"
     },
     "execution_count": 114,
     "metadata": {},
     "output_type": "execute_result"
    }
   ],
   "source": [
    "eqls_2011_df_target_nona[['Y11_Q42_binary','Y11_Q42']].head()"
   ],
   "metadata": {
    "collapsed": false,
    "pycharm": {
     "name": "#%%\n"
    }
   }
  },
  {
   "cell_type": "markdown",
   "source": [
    "We can see that the column `Y11_Q42_binary` contains `1` where the value is `[1, 2, 3]` in the column `Y11_Q42`."
   ],
   "metadata": {
    "collapsed": false,
    "pycharm": {
     "name": "#%% md\n"
    }
   }
  },
  {
   "cell_type": "code",
   "execution_count": 118,
   "outputs": [],
   "source": [
    "# dropping the ID's which are not predictor variables\n",
    "feature_2011_columns = eqls_2011_df_target_nona.drop(columns=['RowID', 'URIRowID', 'UniqueID'])"
   ],
   "metadata": {
    "collapsed": false,
    "pycharm": {
     "name": "#%%\n"
    }
   }
  },
  {
   "cell_type": "code",
   "execution_count": 133,
   "outputs": [],
   "source": [
    "from sklearn.linear_model import LogisticRegression\n",
    "\n",
    "eqls_2011_target = feature_2011_columns.Y11_Q42_binary\n",
    "eqls_2011_predictors = feature_2011_columns.drop(['Y11_Q42_binary','Y11_Q42'], axis=1)\n",
    "\n",
    "# For the sake of keeping the example simple, we'll use only numeric predictors.\n",
    "eqls_2011_numeric_predictors = eqls_2011_predictors.select_dtypes(exclude=['object'])\n",
    "\n",
    "X_train, X_test, y_train, y_test = train_test_split(eqls_2011_numeric_predictors,\n",
    "                                                    eqls_2011_target,\n",
    "                                                    train_size=0.7,\n",
    "                                                    test_size=0.3,\n",
    "                                                    random_state=0)\n",
    "\n",
    "def logistic_regression_score_dataset(X_train, X_test, y_train, y_test):\n",
    "    model = LogisticRegression()\n",
    "    model.fit(X_train, y_train)\n",
    "    preds = model.predict(X_test)\n",
    "    return mean_absolute_error(y_test, preds)"
   ],
   "metadata": {
    "collapsed": false,
    "pycharm": {
     "name": "#%%\n"
    }
   }
  },
  {
   "cell_type": "markdown",
   "source": [
    "We remove the columns `'Y11_Q42'` as our new target variable (`Y11_Q42_binary`) are derived from this\n",
    "Lets compare the results with the different imputation methods illustrated earlier."
   ],
   "metadata": {
    "collapsed": false,
    "pycharm": {
     "name": "#%% md\n"
    }
   }
  },
  {
   "cell_type": "code",
   "execution_count": 122,
   "outputs": [
    {
     "name": "stdout",
     "output_type": "stream",
     "text": [
      "Mean Absolute Error from dropping columns with Missing Values:\n",
      "0.10567799204162841\n"
     ]
    },
    {
     "name": "stderr",
     "output_type": "stream",
     "text": [
      "/Users/clast/Documents/2021_projects/rds-course/.venv/lib/python3.7/site-packages/sklearn/linear_model/_logistic.py:765: ConvergenceWarning: lbfgs failed to converge (status=1):\n",
      "STOP: TOTAL NO. of ITERATIONS REACHED LIMIT.\n",
      "\n",
      "Increase the number of iterations (max_iter) or scale the data as shown in:\n",
      "    https://scikit-learn.org/stable/modules/preprocessing.html\n",
      "Please also refer to the documentation for alternative solver options:\n",
      "    https://scikit-learn.org/stable/modules/linear_model.html#logistic-regression\n",
      "  extra_warning_msg=_LOGISTIC_SOLVER_CONVERGENCE_MSG)\n"
     ]
    }
   ],
   "source": [
    "cols_with_missing = [col for col in X_train.columns\n",
    "                                 if X_train[col].isnull().any()]\n",
    "reduced_X_train = X_train.drop(cols_with_missing, axis=1)\n",
    "reduced_X_test  = X_test.drop(cols_with_missing, axis=1)\n",
    "print(\"Mean Absolute Error from dropping columns with Missing Values:\")\n",
    "print(logistic_regression_score_dataset(reduced_X_train, reduced_X_test, y_train, y_test))"
   ],
   "metadata": {
    "collapsed": false,
    "pycharm": {
     "name": "#%%\n"
    }
   }
  },
  {
   "cell_type": "markdown",
   "source": [
    "#### Get Logistic Regression Score from Imputation\n"
   ],
   "metadata": {
    "collapsed": false
   }
  },
  {
   "cell_type": "code",
   "execution_count": 123,
   "outputs": [
    {
     "name": "stdout",
     "output_type": "stream",
     "text": [
      "Mean Absolute Error from Imputation:\n",
      "0.06221303948576676\n"
     ]
    },
    {
     "name": "stderr",
     "output_type": "stream",
     "text": [
      "/Users/clast/Documents/2021_projects/rds-course/.venv/lib/python3.7/site-packages/sklearn/linear_model/_logistic.py:765: ConvergenceWarning: lbfgs failed to converge (status=1):\n",
      "STOP: TOTAL NO. of ITERATIONS REACHED LIMIT.\n",
      "\n",
      "Increase the number of iterations (max_iter) or scale the data as shown in:\n",
      "    https://scikit-learn.org/stable/modules/preprocessing.html\n",
      "Please also refer to the documentation for alternative solver options:\n",
      "    https://scikit-learn.org/stable/modules/linear_model.html#logistic-regression\n",
      "  extra_warning_msg=_LOGISTIC_SOLVER_CONVERGENCE_MSG)\n"
     ]
    }
   ],
   "source": [
    "from sklearn.impute import SimpleImputer\n",
    "\n",
    "my_imputer = SimpleImputer()\n",
    "imputed_X_train = my_imputer.fit_transform(X_train)\n",
    "imputed_X_test = my_imputer.transform(X_test)\n",
    "print(\"Mean Absolute Error from Imputation:\")\n",
    "print(logistic_regression_score_dataset(imputed_X_train, imputed_X_test, y_train, y_test))\n"
   ],
   "metadata": {
    "collapsed": false,
    "pycharm": {
     "name": "#%%\n"
    }
   }
  },
  {
   "cell_type": "markdown",
   "source": [
    "#### Get Logistic Regression Score from Imputation with Extra Columns Showing What Was Imputed\n"
   ],
   "metadata": {
    "collapsed": false
   }
  },
  {
   "cell_type": "code",
   "execution_count": 146,
   "outputs": [
    {
     "name": "stdout",
     "output_type": "stream",
     "text": [
      "Mean Absolute Error from Imputation:\n",
      "0.09023668639053255\n"
     ]
    },
    {
     "name": "stderr",
     "output_type": "stream",
     "text": [
      "/Users/clast/Documents/2021_projects/rds-course/.venv/lib/python3.7/site-packages/sklearn/linear_model/_logistic.py:765: ConvergenceWarning: lbfgs failed to converge (status=1):\n",
      "STOP: TOTAL NO. of ITERATIONS REACHED LIMIT.\n",
      "\n",
      "Increase the number of iterations (max_iter) or scale the data as shown in:\n",
      "    https://scikit-learn.org/stable/modules/preprocessing.html\n",
      "Please also refer to the documentation for alternative solver options:\n",
      "    https://scikit-learn.org/stable/modules/linear_model.html#logistic-regression\n",
      "  extra_warning_msg=_LOGISTIC_SOLVER_CONVERGENCE_MSG)\n"
     ]
    }
   ],
   "source": [
    "imputed_X_train_plus = X_train.copy()\n",
    "imputed_X_test_plus = X_test.copy()\n",
    "\n",
    "imputed_X_train = my_imputer.fit_transform(X_train)\n",
    "imputed_X_test = my_imputer.transform(X_test)\n",
    "print(\"Mean Absolute Error from Imputation:\")\n",
    "print(logistic_regression_score_dataset(imputed_X_train, imputed_X_test, y_train, y_test))"
   ],
   "metadata": {
    "collapsed": false,
    "pycharm": {
     "name": "#%%\n"
    }
   }
  },
  {
   "cell_type": "markdown",
   "source": [
    "We can see that the imputation (without tracking columns) significantly improves the result of the logistic regression.\n",
    "We can diagnose our results using a Confusion Matrix.\n",
    "\n",
    "A confusion matrix is a table that is used to evaluate the performance of a classification model. You can also visualize the performance of an algorithm.\n",
    "The fundamental of a confusion matrix is the number of correct and incorrect predictions are summed up class-wise."
   ],
   "metadata": {
    "collapsed": false,
    "pycharm": {
     "name": "#%% md\n"
    }
   }
  },
  {
   "cell_type": "code",
   "execution_count": 147,
   "outputs": [
    {
     "name": "stderr",
     "output_type": "stream",
     "text": [
      "/Users/clast/Documents/2021_projects/rds-course/.venv/lib/python3.7/site-packages/sklearn/linear_model/_logistic.py:765: ConvergenceWarning: lbfgs failed to converge (status=1):\n",
      "STOP: TOTAL NO. of ITERATIONS REACHED LIMIT.\n",
      "\n",
      "Increase the number of iterations (max_iter) or scale the data as shown in:\n",
      "    https://scikit-learn.org/stable/modules/preprocessing.html\n",
      "Please also refer to the documentation for alternative solver options:\n",
      "    https://scikit-learn.org/stable/modules/linear_model.html#logistic-regression\n",
      "  extra_warning_msg=_LOGISTIC_SOLVER_CONVERGENCE_MSG)\n"
     ]
    },
    {
     "data": {
      "text/plain": "array([[ 44,  34],\n       [ 27, 571]])"
     },
     "execution_count": 147,
     "metadata": {},
     "output_type": "execute_result"
    }
   ],
   "source": [
    "# import the metrics class\n",
    "from sklearn import metrics\n",
    "\n",
    "def get_prediction(X_train, X_test, y_train):\n",
    "    model = LogisticRegression()\n",
    "    model.fit(X_train, y_train)\n",
    "    preds = model.predict(X_test)\n",
    "    return preds\n",
    "\n",
    "y_pred = get_prediction(imputed_X_train, imputed_X_test, y_train)\n",
    "\n",
    "cnf_matrix = metrics.confusion_matrix(y_test, y_pred)\n",
    "cnf_matrix"
   ],
   "metadata": {
    "collapsed": false,
    "pycharm": {
     "name": "#%%\n"
    }
   }
  },
  {
   "cell_type": "markdown",
   "source": [
    "Here, you can see the confusion matrix in the form of the array object.\n",
    "The dimension of this matrix is 2*2 because this model is binary classification.\n",
    "You have two classes 0 representing \"poor health\" and 1, representing \"good health\".\n",
    "Diagonal values represent accurate predictions, while non-diagonal elements are inaccurate predictions.\n",
    "\n",
    "In the output, `44` and `571` are actual predictions (`44` is the number of true \"poor health\" predictions, and `571` is the number of ture \"good health\" predictions).\n",
    "`34` and `27` are incorrect predictions (`34` is the number of \"poor health\" predictions predicted incorrectly as \"good health\",\n",
    "and `310` is the number of false \"good health\" predictions).\n"
   ],
   "metadata": {
    "collapsed": false,
    "pycharm": {
     "name": "#%% md\n"
    }
   }
  },
  {
   "cell_type": "markdown",
   "source": [
    "<div class=\"alert alert-block alert-warning\"> This model overly predicts \"good health\" outcomes, and may benefit from oversampling\n",
    "surveyed respondents which self-report \"poor health\". </code> </div>"
   ],
   "metadata": {
    "collapsed": false
   }
  },
  {
   "cell_type": "code",
   "execution_count": 148,
   "outputs": [
    {
     "name": "stdout",
     "output_type": "stream",
     "text": [
      "Accuracy: 0.9097633136094675\n",
      "Precision: 0.943801652892562\n",
      "Recall: 0.9548494983277592\n"
     ]
    },
    {
     "data": {
      "text/plain": "<Figure size 432x288 with 2 Axes>",
      "image/png": "[encoded data removed]"
     },
     "metadata": {
      "needs_background": "light"
     },
     "output_type": "display_data"
    }
   ],
   "source": [
    "class_names=[0,1] # name  of classes\n",
    "fig, ax = plt.subplots()\n",
    "tick_marks = np.arange(len(class_names))\n",
    "plt.xticks(tick_marks, class_names)\n",
    "plt.yticks(tick_marks, class_names)\n",
    "# create heatmap\n",
    "sns.heatmap(pd.DataFrame(cnf_matrix), annot=True, cmap=\"YlGnBu\" ,fmt='g')\n",
    "ax.xaxis.set_label_position(\"top\")\n",
    "plt.tight_layout()\n",
    "plt.title('Confusion matrix', y=1.1)\n",
    "plt.ylabel('Actual label')\n",
    "plt.xlabel('Predicted label')\n",
    "\n",
    "print(\"Accuracy:\",metrics.accuracy_score(y_test, y_pred))\n",
    "print(\"Precision:\",metrics.precision_score(y_test, y_pred))\n",
    "print(\"Recall:\",metrics.recall_score(y_test, y_pred))\n"
   ],
   "metadata": {
    "collapsed": false,
    "pycharm": {
     "name": "#%%\n"
    }
   }
  },
  {
   "cell_type": "markdown",
   "source": [
    "## Model Evaluation\n",
    "We can see that the logistic regression model does well when most of the predictions are \"good health\"\n",
    "\n",
    "### Modelling just the UK\n",
    "\n",
    "Here we want to select the UK from the data and see if we can build a country-specific logistic regression model.\n",
    "\n",
    "![country-metadata](\"./assets/metadata-country.png\")\n",
    "\n",
    "The country code for selecting the UK is `27.0`"
   ],
   "metadata": {
    "collapsed": false
   }
  },
  {
   "cell_type": "code",
   "execution_count": 154,
   "outputs": [
    {
     "name": "stdout",
     "output_type": "stream",
     "text": [
      "Mean Absolute Error for the UK from Imputation:\n",
      "0.09023668639053255\n"
     ]
    },
    {
     "name": "stderr",
     "output_type": "stream",
     "text": [
      "/Users/clast/Documents/2021_projects/rds-course/.venv/lib/python3.7/site-packages/sklearn/linear_model/_logistic.py:765: ConvergenceWarning: lbfgs failed to converge (status=1):\n",
      "STOP: TOTAL NO. of ITERATIONS REACHED LIMIT.\n",
      "\n",
      "Increase the number of iterations (max_iter) or scale the data as shown in:\n",
      "    https://scikit-learn.org/stable/modules/preprocessing.html\n",
      "Please also refer to the documentation for alternative solver options:\n",
      "    https://scikit-learn.org/stable/modules/linear_model.html#logistic-regression\n",
      "  extra_warning_msg=_LOGISTIC_SOLVER_CONVERGENCE_MSG)\n"
     ]
    }
   ],
   "source": [
    "feature_2011_UK_columns = eqls_2011_df_target_nona.drop(columns=['RowID', 'URIRowID', 'UniqueID'])\n",
    "\n",
    "feature_2011_UK_columns = feature_2011_UK_columns.loc[feature_2011_UK_columns['Y11_Country'] == 27.0]\n",
    "\n",
    "eqls_2011_UK_target = feature_2011_UK_columns.Y11_Q42_binary\n",
    "eqls_2011_UK_predictors = feature_2011_UK_columns.drop(['Y11_Q42_binary','Y11_Q42'], axis=1)\n",
    "\n",
    "# For the sake of keeping the example simple, we'll use only numeric predictors.\n",
    "eqls_2011_UK_numeric_predictors = eqls_2011_UK_predictors.select_dtypes(exclude=['object'])\n",
    "\n",
    "X_train, X_test, y_train, y_test = train_test_split(eqls_2011_UK_numeric_predictors,\n",
    "                                                    eqls_2011_UK_target,\n",
    "                                                    train_size=0.7,\n",
    "                                                    test_size=0.3,\n",
    "                                                    random_state=0)\n",
    "# Imputation\n",
    "my_imputer = SimpleImputer()\n",
    "imputed_X_train = my_imputer.fit_transform(X_train)\n",
    "imputed_X_test = my_imputer.transform(X_test)\n",
    "print(\"Mean Absolute Error for the UK from Imputation:\")\n",
    "print(logistic_regression_score_dataset(imputed_X_train, imputed_X_test, y_train, y_test))"
   ],
   "metadata": {
    "collapsed": false,
    "pycharm": {
     "name": "#%%\n"
    }
   }
  },
  {
   "cell_type": "markdown",
   "source": [
    "We can see that Logistic regression performs using only UK data performs similar to the total country model, suggesting that country is not a large determinant of why\n",
    "individuals self-reported health. Let's retrieve this model and test it on two additional country data."
   ],
   "metadata": {
    "collapsed": false,
    "pycharm": {
     "name": "#%% md\n"
    }
   }
  },
  {
   "cell_type": "code",
   "execution_count": 155,
   "outputs": [
    {
     "name": "stderr",
     "output_type": "stream",
     "text": [
      "/Users/clast/Documents/2021_projects/rds-course/.venv/lib/python3.7/site-packages/sklearn/linear_model/_logistic.py:765: ConvergenceWarning: lbfgs failed to converge (status=1):\n",
      "STOP: TOTAL NO. of ITERATIONS REACHED LIMIT.\n",
      "\n",
      "Increase the number of iterations (max_iter) or scale the data as shown in:\n",
      "    https://scikit-learn.org/stable/modules/preprocessing.html\n",
      "Please also refer to the documentation for alternative solver options:\n",
      "    https://scikit-learn.org/stable/modules/linear_model.html#logistic-regression\n",
      "  extra_warning_msg=_LOGISTIC_SOLVER_CONVERGENCE_MSG)\n"
     ]
    }
   ],
   "source": [
    "def get_fitted_model(X_train, y_train):\n",
    "    model = LogisticRegression()\n",
    "    return model.fit(X_train, y_train)\n",
    "\n",
    "logistic_regression_model_UK = get_fitted_model(imputed_X_train, y_train)"
   ],
   "metadata": {
    "collapsed": false,
    "pycharm": {
     "name": "#%%\n"
    }
   }
  },
  {
   "cell_type": "markdown",
   "source": [
    "Now, Lets select two other countries from the dataset to test the transferability of this model."
   ],
   "metadata": {
    "collapsed": false,
    "pycharm": {
     "name": "#%% md\n"
    }
   }
  },
  {
   "cell_type": "code",
   "execution_count": 173,
   "outputs": [],
   "source": [
    "feature_2011_other_countries_columns = eqls_2011_df_target_nona.drop(columns=['RowID', 'URIRowID', 'UniqueID'])\n",
    "# Selecting data for the Netherlands\n",
    "feature_2011_NL_columns = feature_2011_other_countries_columns.loc[feature_2011_other_countries_columns['Y11_Country'] == 20.0]\n",
    "# Selecting data for Romania\n",
    "feature_2011_RO_columns = feature_2011_other_countries_columns.loc[feature_2011_other_countries_columns['Y11_Country'] == 23.0]\n",
    "\n",
    "\n",
    "def create_test_data(df):\n",
    "    df_target = df.Y11_Q42_binary\n",
    "    df_predictors = df.drop(['Y11_Q42_binary','Y11_Q42'], axis=1)\n",
    "    df_numeric_predictors = df_predictors.select_dtypes(exclude=['object'])\n",
    "    X_train, X_test, y_train, y_test = train_test_split(df_numeric_predictors,\n",
    "                                                        df_target,\n",
    "                                                        train_size=0.7,\n",
    "                                                        test_size=0.3,\n",
    "                                                        random_state=0)\n",
    "    return X_test, y_test"
   ],
   "metadata": {
    "collapsed": false,
    "pycharm": {
     "name": "#%%\n"
    }
   }
  },
  {
   "cell_type": "code",
   "execution_count": 174,
   "outputs": [
    {
     "name": "stdout",
     "output_type": "stream",
     "text": [
      "Mean Absolute Error for Netherlands from Imputation:\n",
      "0.11551155115511551\n",
      "Mean Absolute Error for Romania from Imputation:\n",
      "0.16666666666666666\n"
     ]
    }
   ],
   "source": [
    "X_test_NL, y_test_NL = create_test_data(feature_2011_NL_columns)\n",
    "X_test_RO, y_test_RO = create_test_data(feature_2011_RO_columns)\n",
    "\n",
    "my_imputer = SimpleImputer()\n",
    "imputed_X_test_RO = my_imputer.fit_transform(X_test_RO)\n",
    "imputed_X_test_NL = my_imputer.fit_transform(X_test_NL)\n",
    "\n",
    "y_pred_NL = logistic_regression_model_UK.predict(imputed_X_test_NL)\n",
    "\n",
    "y_pred_RO = logistic_regression_model_UK.predict(imputed_X_test_RO)\n",
    "\n",
    "#Getting the MAE for both countries using the UK model\n",
    "print(\"Mean Absolute Error for Netherlands from Imputation:\")\n",
    "print(mean_absolute_error(y_test_NL, y_pred_NL))\n",
    "print(\"Mean Absolute Error for Romania from Imputation:\")\n",
    "print(mean_absolute_error(y_test_RO, y_pred_RO))"
   ],
   "metadata": {
    "collapsed": false,
    "pycharm": {
     "name": "#%%\n"
    }
   }
  },
  {
   "cell_type": "markdown",
   "source": [
    "The above error statistics from the `Netherlands` and the `Romania` test set. To repeat, these are predictions are using the UK model to predict\n",
    "self-reported health on test sets for Netherlands and Romania. The MAE for the predictions on Netherlands respondents is\n",
    "higher than the prediction error on the UK test dataset. The Romania model performs even worse than the Netherlands predictions,\n",
    "indicating that the feature importances in the UK model do not best model the features which are important in predicting\n",
    "self-reported health in Romania."
   ],
   "metadata": {
    "collapsed": false,
    "pycharm": {
     "name": "#%% md\n"
    }
   }
  },
  {
   "cell_type": "code",
   "execution_count": 179,
   "outputs": [
    {
     "name": "stdout",
     "output_type": "stream",
     "text": [
      "Accuracy: 0.8844884488448845\n",
      "Precision: 0.8969072164948454\n",
      "Recall: 0.981203007518797\n"
     ]
    },
    {
     "data": {
      "text/plain": "<Figure size 432x288 with 2 Axes>",
      "image/png": "[encoded data removed]"
     },
     "metadata": {
      "needs_background": "light"
     },
     "output_type": "display_data"
    }
   ],
   "source": [
    "cnf_matrix_NL = metrics.confusion_matrix(y_test_NL, y_pred_NL)\n",
    "cnf_matrix_NL\n",
    "\n",
    "class_names=[0,1] # name  of classes\n",
    "fig, ax = plt.subplots()\n",
    "tick_marks = np.arange(len(class_names))\n",
    "plt.xticks(tick_marks, class_names)\n",
    "plt.yticks(tick_marks, class_names)\n",
    "# create heatmap\n",
    "sns.heatmap(pd.DataFrame(cnf_matrix_NL), annot=True, cmap=\"YlGnBu\" ,fmt='g')\n",
    "ax.xaxis.set_label_position(\"top\")\n",
    "plt.tight_layout()\n",
    "plt.title('Confusion matrix for Netherlands Predictions', y=1.1)\n",
    "plt.ylabel('Actual label')\n",
    "plt.xlabel('Predicted label')\n",
    "\n",
    "print(\"Accuracy:\",metrics.accuracy_score(y_test_NL, y_pred_NL))\n",
    "print(\"Precision:\",metrics.precision_score(y_test_NL, y_pred_NL))\n",
    "print(\"Recall:\",metrics.recall_score(y_test_NL, y_pred_NL))\n"
   ],
   "metadata": {
    "collapsed": false,
    "pycharm": {
     "name": "#%%\n"
    }
   }
  },
  {
   "cell_type": "code",
   "execution_count": 178,
   "outputs": [
    {
     "name": "stdout",
     "output_type": "stream",
     "text": [
      "Accuracy: 0.8333333333333334\n",
      "Precision: 0.8321513002364066\n",
      "Recall: 0.9832402234636871\n"
     ]
    },
    {
     "data": {
      "text/plain": "<Figure size 432x288 with 2 Axes>",
      "image/png": "[encoded data removed]"
     },
     "metadata": {
      "needs_background": "light"
     },
     "output_type": "display_data"
    }
   ],
   "source": [
    "cnf_matrix_RO = metrics.confusion_matrix(y_test_RO, y_pred_RO)\n",
    "cnf_matrix_RO\n",
    "\n",
    "class_names=[0,1] # name  of classes\n",
    "fig, ax = plt.subplots()\n",
    "tick_marks = np.arange(len(class_names))\n",
    "plt.xticks(tick_marks, class_names)\n",
    "plt.yticks(tick_marks, class_names)\n",
    "# create heatmap\n",
    "sns.heatmap(pd.DataFrame(cnf_matrix_RO), annot=True, cmap=\"YlGnBu\" ,fmt='g')\n",
    "ax.xaxis.set_label_position(\"top\")\n",
    "plt.tight_layout()\n",
    "plt.title('Confusion matrix for Romania Predictions', y=1.1)\n",
    "plt.ylabel('Actual label')\n",
    "plt.xlabel('Predicted label')\n",
    "\n",
    "print(\"Accuracy:\",metrics.accuracy_score(y_test_RO, y_pred_RO))\n",
    "print(\"Precision:\",metrics.precision_score(y_test_RO, y_pred_RO))\n",
    "print(\"Recall:\",metrics.recall_score(y_test_RO, y_pred_RO))"
   ],
   "metadata": {
    "collapsed": false,
    "pycharm": {
     "name": "#%%\n"
    }
   }
  },
  {
   "cell_type": "markdown",
   "source": [
    "## References\n",
    "European Foundation for the Improvement of Living and Working Conditions, (2015). European Quality of Life Time Series,\n",
    "2007 and 2011: Open Access. UK Data Service. [data collection]. http://doi.org/10.5255/UKDA-SN-7724-1\n",
    "\n"
   ],
   "metadata": {
    "collapsed": false,
    "pycharm": {
     "name": "#%% md\n"
    }
   }
  }
 ],
 "metadata": {
  "kernelspec": {
   "display_name": "Python 3 (ipykernel)",
   "language": "python",
   "name": "python3"
  },
  "language_info": {
   "codemirror_mode": {
    "name": "ipython",
    "version": 3
   },
   "file_extension": ".py",
   "mimetype": "text/x-python",
   "name": "python",
   "nbconvert_exporter": "python",
   "pygments_lexer": "ipython3",
   "version": "3.7.9"
  },
  "pycharm": {
   "stem_cell": {
    "cell_type": "raw",
    "source": [
     "\n"
    ],
    "metadata": {
     "collapsed": false
    }
   }
  }
 },
 "nbformat": 4,
 "nbformat_minor": 5
}