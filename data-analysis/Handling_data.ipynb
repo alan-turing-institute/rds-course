{
 "cells": [
  {
   "cell_type": "markdown",
   "source": [
    "# Module 2: Handling data and deployment\n",
    "Contents\n",
    "- [1. Setup](#9d2860101d08aff4362723c550f1c5f32aedac5831ca420b)\n",
    "- [2. Getting the data](#9d2860101d08aff4362723c550f1c5f32aedac5831ca420b)\n",
    "## 1. Setup\n",
    "- to install python using [Pyenv](https://realpython.com/intro-to-pyenv/)\n",
    "    - Install of python ```$ pyenv install 3.7.9```\n",
    "    - Set the local version of python to the installed version ```$ pyenv local 3.7.9```\n",
    "    - Run the initialiser ```$ pyenv init```\n",
    "    - follow the instructions printed in the CLI\n",
    "    - activate shell with local python ```$ pyenv shell 3.7.9```\n",
    "- To set up a virtual environment I am using [poetry](https://python-poetry.org/docs/)\n",
    "    - Install poetry following these [commands](https://python-poetry.org/docs/#installation)\n",
    "    - `Poetry` can help manage [multiple environments](https://python-poetry.org/docs/managing-environments/), in particular [switching between environments ](https://python-poetry.org/docs/managing-environments/#switching-between-environments)\n",
    "    - After setting up poetry project can use the following command to use your `pyenv` installed python to activate `venv`.\n",
    "\n",
    "`\n",
    "$ poetry env use ~/.pyenv/versions/<python version number>/bin/python\n",
    "`\n",
    "- check the environment is activated using `$ poetry env list`\n",
    "- initialise the environment using `$ poetry shell`\n",
    "\n",
    "## 2. Getting the data\n",
    "Download the data from the [UK Data Service](https://beta.ukdataservice.ac.uk/datacatalogue/studies/study?id=7724#!/access-data).\n",
    "The data is captured from the European Quality of Life Time Series, 2007 and 2011. You can find out more about the dataset [here](https://beta.ukdataservice.ac.uk/datacatalogue/studies/study?id=7724#!/details).\n",
    "and there is a good [user guide](http://doc.ukdataservice.ac.uk/doc/7724/mrdoc/pdf/7724_eqls_2007-2011_user_guide_v2.pdf)\n",
    "describing how the data was created and anonymised and how some variables were generated to summarise other variables.\n",
    "Save the data in a local filespace (for example: `$HOME/rds-course/data-analysis/data`)"
   ],
   "metadata": {
    "collapsed": false
   }
  },
  {
   "cell_type": "code",
   "execution_count": 159,
   "outputs": [],
   "source": [
    "# installing required packages\n",
    "from pathlib import Path\n",
    "import pandas as pd\n",
    "\n",
    "\n",
    "%matplotlib inline"
   ],
   "metadata": {
    "collapsed": false,
    "pycharm": {
     "name": "#%%\n"
    }
   }
  },
  {
   "cell_type": "code",
   "execution_count": 160,
   "outputs": [
    {
     "data": {
      "text/plain": "   Wave  Y11_Country  Y11_Q31  Y11_Q32  Y11_ISCEDsimple  Y11_Q49  Y11_Q67_1  \\\n0     2            1      4.0      0.0              4.0      4.0        NaN   \n1     2            1      4.0      0.0              4.0      4.0        NaN   \n2     2            1      1.0      2.0              3.0      2.0        NaN   \n3     2            1      2.0      0.0              3.0      1.0        NaN   \n4     2            1      4.0      0.0              3.0      4.0        NaN   \n\n   Y11_Q67_2  Y11_Q67_3  Y11_Q67_4  ...  DV_Q54a  DV_Q54b  DV_Q55  DV_Q56  \\\n0        NaN        NaN        NaN  ...      NaN      NaN     NaN     NaN   \n1        NaN        NaN        NaN  ...      NaN      NaN     NaN     NaN   \n2        NaN        NaN        NaN  ...      NaN      NaN     NaN     NaN   \n3        NaN        NaN        NaN  ...      NaN      NaN     NaN     NaN   \n4        NaN        NaN        NaN  ...      NaN      NaN     NaN     NaN   \n\n   DV_Q8  DV_Q10                               ISO3166_Country  RowID  \\\n0    NaN     NaN  https://www.iso.org/obp/ui/#iso:code:3166:AT      1   \n1    NaN     NaN  https://www.iso.org/obp/ui/#iso:code:3166:AT      2   \n2    NaN     NaN  https://www.iso.org/obp/ui/#iso:code:3166:AT      3   \n3    NaN     NaN  https://www.iso.org/obp/ui/#iso:code:3166:AT      4   \n4    NaN     NaN  https://www.iso.org/obp/ui/#iso:code:3166:AT      5   \n\n                                            URIRowID   UniqueID  \n0  https://api.ukdataservice.ac.uk/V1/datasets/eq...  AT9000083  \n1  https://api.ukdataservice.ac.uk/V1/datasets/eq...  AT9000126  \n2  https://api.ukdataservice.ac.uk/V1/datasets/eq...  AT9000267  \n3  https://api.ukdataservice.ac.uk/V1/datasets/eq...  AT9000268  \n4  https://api.ukdataservice.ac.uk/V1/datasets/eq...  AT9000427  \n\n[5 rows x 199 columns]",
      "text/html": "<div>\n<style scoped>\n    .dataframe tbody tr th:only-of-type {\n        vertical-align: middle;\n    }\n\n    .dataframe tbody tr th {\n        vertical-align: top;\n    }\n\n    .dataframe thead th {\n        text-align: right;\n    }\n</style>\n<table border=\"1\" class=\"dataframe\">\n  <thead>\n    <tr style=\"text-align: right;\">\n      <th></th>\n      <th>Wave</th>\n      <th>Y11_Country</th>\n      <th>Y11_Q31</th>\n      <th>Y11_Q32</th>\n      <th>Y11_ISCEDsimple</th>\n      <th>Y11_Q49</th>\n      <th>Y11_Q67_1</th>\n      <th>Y11_Q67_2</th>\n      <th>Y11_Q67_3</th>\n      <th>Y11_Q67_4</th>\n      <th>...</th>\n      <th>DV_Q54a</th>\n      <th>DV_Q54b</th>\n      <th>DV_Q55</th>\n      <th>DV_Q56</th>\n      <th>DV_Q8</th>\n      <th>DV_Q10</th>\n      <th>ISO3166_Country</th>\n      <th>RowID</th>\n      <th>URIRowID</th>\n      <th>UniqueID</th>\n    </tr>\n  </thead>\n  <tbody>\n    <tr>\n      <th>0</th>\n      <td>2</td>\n      <td>1</td>\n      <td>4.0</td>\n      <td>0.0</td>\n      <td>4.0</td>\n      <td>4.0</td>\n      <td>NaN</td>\n      <td>NaN</td>\n      <td>NaN</td>\n      <td>NaN</td>\n      <td>...</td>\n      <td>NaN</td>\n      <td>NaN</td>\n      <td>NaN</td>\n      <td>NaN</td>\n      <td>NaN</td>\n      <td>NaN</td>\n      <td>https://www.iso.org/obp/ui/#iso:code:3166:AT</td>\n      <td>1</td>\n      <td>https://api.ukdataservice.ac.uk/V1/datasets/eq...</td>\n      <td>AT9000083</td>\n    </tr>\n    <tr>\n      <th>1</th>\n      <td>2</td>\n      <td>1</td>\n      <td>4.0</td>\n      <td>0.0</td>\n      <td>4.0</td>\n      <td>4.0</td>\n      <td>NaN</td>\n      <td>NaN</td>\n      <td>NaN</td>\n      <td>NaN</td>\n      <td>...</td>\n      <td>NaN</td>\n      <td>NaN</td>\n      <td>NaN</td>\n      <td>NaN</td>\n      <td>NaN</td>\n      <td>NaN</td>\n      <td>https://www.iso.org/obp/ui/#iso:code:3166:AT</td>\n      <td>2</td>\n      <td>https://api.ukdataservice.ac.uk/V1/datasets/eq...</td>\n      <td>AT9000126</td>\n    </tr>\n    <tr>\n      <th>2</th>\n      <td>2</td>\n      <td>1</td>\n      <td>1.0</td>\n      <td>2.0</td>\n      <td>3.0</td>\n      <td>2.0</td>\n      <td>NaN</td>\n      <td>NaN</td>\n      <td>NaN</td>\n      <td>NaN</td>\n      <td>...</td>\n      <td>NaN</td>\n      <td>NaN</td>\n      <td>NaN</td>\n      <td>NaN</td>\n      <td>NaN</td>\n      <td>NaN</td>\n      <td>https://www.iso.org/obp/ui/#iso:code:3166:AT</td>\n      <td>3</td>\n      <td>https://api.ukdataservice.ac.uk/V1/datasets/eq...</td>\n      <td>AT9000267</td>\n    </tr>\n    <tr>\n      <th>3</th>\n      <td>2</td>\n      <td>1</td>\n      <td>2.0</td>\n      <td>0.0</td>\n      <td>3.0</td>\n      <td>1.0</td>\n      <td>NaN</td>\n      <td>NaN</td>\n      <td>NaN</td>\n      <td>NaN</td>\n      <td>...</td>\n      <td>NaN</td>\n      <td>NaN</td>\n      <td>NaN</td>\n      <td>NaN</td>\n      <td>NaN</td>\n      <td>NaN</td>\n      <td>https://www.iso.org/obp/ui/#iso:code:3166:AT</td>\n      <td>4</td>\n      <td>https://api.ukdataservice.ac.uk/V1/datasets/eq...</td>\n      <td>AT9000268</td>\n    </tr>\n    <tr>\n      <th>4</th>\n      <td>2</td>\n      <td>1</td>\n      <td>4.0</td>\n      <td>0.0</td>\n      <td>3.0</td>\n      <td>4.0</td>\n      <td>NaN</td>\n      <td>NaN</td>\n      <td>NaN</td>\n      <td>NaN</td>\n      <td>...</td>\n      <td>NaN</td>\n      <td>NaN</td>\n      <td>NaN</td>\n      <td>NaN</td>\n      <td>NaN</td>\n      <td>NaN</td>\n      <td>https://www.iso.org/obp/ui/#iso:code:3166:AT</td>\n      <td>5</td>\n      <td>https://api.ukdataservice.ac.uk/V1/datasets/eq...</td>\n      <td>AT9000427</td>\n    </tr>\n  </tbody>\n</table>\n<p>5 rows × 199 columns</p>\n</div>"
     },
     "execution_count": 160,
     "metadata": {},
     "output_type": "execute_result"
    }
   ],
   "source": [
    "root_data_path = Path(\"data\")\n",
    "eqls_path = Path(str(root_data_path)+\"/UKDA-7724-csv/csv/eqls_2007and2011.csv\").resolve()\n",
    "eqls_df = pd.read_csv(eqls_path)\n",
    "\n",
    "eqls_df.head()"
   ],
   "metadata": {
    "collapsed": false,
    "pycharm": {
     "name": "#%%\n"
    }
   }
  },
  {
   "cell_type": "markdown",
   "source": [
    "### Additional info about the data\n",
    "The `.info()` method of a dataframe gives us a useful summary of the columns it contains:"
   ],
   "metadata": {
    "collapsed": false
   }
  },
  {
   "cell_type": "code",
   "execution_count": 161,
   "outputs": [
    {
     "name": "stdout",
     "output_type": "stream",
     "text": [
      "<class 'pandas.core.frame.DataFrame'>\n",
      "RangeIndex: 79270 entries, 0 to 79269\n",
      "Columns: 199 entries, Wave to UniqueID\n",
      "dtypes: float64(187), int64(9), object(3)\n",
      "memory usage: 120.4+ MB\n"
     ]
    },
    {
     "data": {
      "text/plain": "               Wave   Y11_Country       Y11_Q31       Y11_Q32  \\\ncount  79270.000000  79270.000000  78756.000000  78769.000000   \nmean       2.550473     16.841138      1.856049      1.598141   \nstd        0.497449      9.358320      1.186271      1.276425   \nmin        2.000000      1.000000      1.000000      0.000000   \n25%        2.000000      9.000000      1.000000      0.000000   \n50%        3.000000     16.000000      1.000000      2.000000   \n75%        3.000000     25.000000      3.000000      2.000000   \nmax        3.000000     35.000000      4.000000      5.000000   \n\n       Y11_ISCEDsimple       Y11_Q49     Y11_Q67_1     Y11_Q67_2  \\\ncount     78556.000000  79082.000000  43636.000000  43636.000000   \nmean          4.019146      2.640955      1.959368      1.023673   \nstd           1.368993      0.987352      0.197437      0.152030   \nmin           1.000000      1.000000      1.000000      1.000000   \n25%           3.000000      2.000000      2.000000      1.000000   \n50%           4.000000      3.000000      2.000000      1.000000   \n75%           5.000000      4.000000      2.000000      1.000000   \nmax           8.000000      4.000000      2.000000      2.000000   \n\n          Y11_Q67_3     Y11_Q67_4  ...        DV_Q7        DV_Q67  \\\ncount  43636.000000  43636.000000  ...  2225.000000  43636.000000   \nmean       1.019204      1.001971  ...    52.612135      1.086465   \nstd        0.137244      0.044351  ...    15.696943      0.460388   \nmin        1.000000      1.000000  ...     5.000000      1.000000   \n25%        1.000000      1.000000  ...    43.000000      1.000000   \n50%        1.000000      1.000000  ...    50.000000      1.000000   \n75%        1.000000      1.000000  ...    61.000000      1.000000   \nmax        2.000000      2.000000  ...    80.000000      6.000000   \n\n          DV_Q43Q44       DV_Q54a       DV_Q54b        DV_Q55        DV_Q56  \\\ncount  78312.000000  43636.000000  43636.000000  43636.000000  43636.000000   \nmean       2.485992      2.815565      2.925635      0.303442      0.231437   \nstd        0.838558      0.721642      0.568403      0.881979      0.827727   \nmin        1.000000      1.000000      1.000000      0.000000      0.000000   \n25%        2.000000      3.000000      3.000000      0.000000      0.000000   \n50%        3.000000      3.000000      3.000000      0.000000      0.000000   \n75%        3.000000      3.000000      3.000000      0.000000      0.000000   \nmax        3.000000      6.000000      6.000000      4.000000      4.000000   \n\n              DV_Q8        DV_Q10         RowID  \ncount  43636.000000  43636.000000  79270.000000  \nmean       3.931708      3.283482  39635.500000  \nstd        0.436254      1.130667  22883.422256  \nmin        1.000000      1.000000      1.000000  \n25%        4.000000      2.000000  19818.250000  \n50%        4.000000      4.000000  39635.500000  \n75%        4.000000      4.000000  59452.750000  \nmax        4.000000      4.000000  79270.000000  \n\n[8 rows x 196 columns]",
      "text/html": "<div>\n<style scoped>\n    .dataframe tbody tr th:only-of-type {\n        vertical-align: middle;\n    }\n\n    .dataframe tbody tr th {\n        vertical-align: top;\n    }\n\n    .dataframe thead th {\n        text-align: right;\n    }\n</style>\n<table border=\"1\" class=\"dataframe\">\n  <thead>\n    <tr style=\"text-align: right;\">\n      <th></th>\n      <th>Wave</th>\n      <th>Y11_Country</th>\n      <th>Y11_Q31</th>\n      <th>Y11_Q32</th>\n      <th>Y11_ISCEDsimple</th>\n      <th>Y11_Q49</th>\n      <th>Y11_Q67_1</th>\n      <th>Y11_Q67_2</th>\n      <th>Y11_Q67_3</th>\n      <th>Y11_Q67_4</th>\n      <th>...</th>\n      <th>DV_Q7</th>\n      <th>DV_Q67</th>\n      <th>DV_Q43Q44</th>\n      <th>DV_Q54a</th>\n      <th>DV_Q54b</th>\n      <th>DV_Q55</th>\n      <th>DV_Q56</th>\n      <th>DV_Q8</th>\n      <th>DV_Q10</th>\n      <th>RowID</th>\n    </tr>\n  </thead>\n  <tbody>\n    <tr>\n      <th>count</th>\n      <td>79270.000000</td>\n      <td>79270.000000</td>\n      <td>78756.000000</td>\n      <td>78769.000000</td>\n      <td>78556.000000</td>\n      <td>79082.000000</td>\n      <td>43636.000000</td>\n      <td>43636.000000</td>\n      <td>43636.000000</td>\n      <td>43636.000000</td>\n      <td>...</td>\n      <td>2225.000000</td>\n      <td>43636.000000</td>\n      <td>78312.000000</td>\n      <td>43636.000000</td>\n      <td>43636.000000</td>\n      <td>43636.000000</td>\n      <td>43636.000000</td>\n      <td>43636.000000</td>\n      <td>43636.000000</td>\n      <td>79270.000000</td>\n    </tr>\n    <tr>\n      <th>mean</th>\n      <td>2.550473</td>\n      <td>16.841138</td>\n      <td>1.856049</td>\n      <td>1.598141</td>\n      <td>4.019146</td>\n      <td>2.640955</td>\n      <td>1.959368</td>\n      <td>1.023673</td>\n      <td>1.019204</td>\n      <td>1.001971</td>\n      <td>...</td>\n      <td>52.612135</td>\n      <td>1.086465</td>\n      <td>2.485992</td>\n      <td>2.815565</td>\n      <td>2.925635</td>\n      <td>0.303442</td>\n      <td>0.231437</td>\n      <td>3.931708</td>\n      <td>3.283482</td>\n      <td>39635.500000</td>\n    </tr>\n    <tr>\n      <th>std</th>\n      <td>0.497449</td>\n      <td>9.358320</td>\n      <td>1.186271</td>\n      <td>1.276425</td>\n      <td>1.368993</td>\n      <td>0.987352</td>\n      <td>0.197437</td>\n      <td>0.152030</td>\n      <td>0.137244</td>\n      <td>0.044351</td>\n      <td>...</td>\n      <td>15.696943</td>\n      <td>0.460388</td>\n      <td>0.838558</td>\n      <td>0.721642</td>\n      <td>0.568403</td>\n      <td>0.881979</td>\n      <td>0.827727</td>\n      <td>0.436254</td>\n      <td>1.130667</td>\n      <td>22883.422256</td>\n    </tr>\n    <tr>\n      <th>min</th>\n      <td>2.000000</td>\n      <td>1.000000</td>\n      <td>1.000000</td>\n      <td>0.000000</td>\n      <td>1.000000</td>\n      <td>1.000000</td>\n      <td>1.000000</td>\n      <td>1.000000</td>\n      <td>1.000000</td>\n      <td>1.000000</td>\n      <td>...</td>\n      <td>5.000000</td>\n      <td>1.000000</td>\n      <td>1.000000</td>\n      <td>1.000000</td>\n      <td>1.000000</td>\n      <td>0.000000</td>\n      <td>0.000000</td>\n      <td>1.000000</td>\n      <td>1.000000</td>\n      <td>1.000000</td>\n    </tr>\n    <tr>\n      <th>25%</th>\n      <td>2.000000</td>\n      <td>9.000000</td>\n      <td>1.000000</td>\n      <td>0.000000</td>\n      <td>3.000000</td>\n      <td>2.000000</td>\n      <td>2.000000</td>\n      <td>1.000000</td>\n      <td>1.000000</td>\n      <td>1.000000</td>\n      <td>...</td>\n      <td>43.000000</td>\n      <td>1.000000</td>\n      <td>2.000000</td>\n      <td>3.000000</td>\n      <td>3.000000</td>\n      <td>0.000000</td>\n      <td>0.000000</td>\n      <td>4.000000</td>\n      <td>2.000000</td>\n      <td>19818.250000</td>\n    </tr>\n    <tr>\n      <th>50%</th>\n      <td>3.000000</td>\n      <td>16.000000</td>\n      <td>1.000000</td>\n      <td>2.000000</td>\n      <td>4.000000</td>\n      <td>3.000000</td>\n      <td>2.000000</td>\n      <td>1.000000</td>\n      <td>1.000000</td>\n      <td>1.000000</td>\n      <td>...</td>\n      <td>50.000000</td>\n      <td>1.000000</td>\n      <td>3.000000</td>\n      <td>3.000000</td>\n      <td>3.000000</td>\n      <td>0.000000</td>\n      <td>0.000000</td>\n      <td>4.000000</td>\n      <td>4.000000</td>\n      <td>39635.500000</td>\n    </tr>\n    <tr>\n      <th>75%</th>\n      <td>3.000000</td>\n      <td>25.000000</td>\n      <td>3.000000</td>\n      <td>2.000000</td>\n      <td>5.000000</td>\n      <td>4.000000</td>\n      <td>2.000000</td>\n      <td>1.000000</td>\n      <td>1.000000</td>\n      <td>1.000000</td>\n      <td>...</td>\n      <td>61.000000</td>\n      <td>1.000000</td>\n      <td>3.000000</td>\n      <td>3.000000</td>\n      <td>3.000000</td>\n      <td>0.000000</td>\n      <td>0.000000</td>\n      <td>4.000000</td>\n      <td>4.000000</td>\n      <td>59452.750000</td>\n    </tr>\n    <tr>\n      <th>max</th>\n      <td>3.000000</td>\n      <td>35.000000</td>\n      <td>4.000000</td>\n      <td>5.000000</td>\n      <td>8.000000</td>\n      <td>4.000000</td>\n      <td>2.000000</td>\n      <td>2.000000</td>\n      <td>2.000000</td>\n      <td>2.000000</td>\n      <td>...</td>\n      <td>80.000000</td>\n      <td>6.000000</td>\n      <td>3.000000</td>\n      <td>6.000000</td>\n      <td>6.000000</td>\n      <td>4.000000</td>\n      <td>4.000000</td>\n      <td>4.000000</td>\n      <td>4.000000</td>\n      <td>79270.000000</td>\n    </tr>\n  </tbody>\n</table>\n<p>8 rows × 196 columns</p>\n</div>"
     },
     "execution_count": 161,
     "metadata": {},
     "output_type": "execute_result"
    }
   ],
   "source": [
    "eqls_df.info()\n",
    "eqls_df.dtypes\n",
    "eqls_df.describe()"
   ],
   "metadata": {
    "collapsed": false,
    "pycharm": {
     "name": "#%%\n"
    }
   }
  },
  {
   "cell_type": "code",
   "execution_count": 162,
   "outputs": [
    {
     "data": {
      "text/plain": "array([ 1,  2,  3,  4,  5,  6,  7,  8,  9, 10, 11, 12, 13, 14, 15, 16, 17,\n       18, 19, 20, 21, 22, 23, 24, 25, 26, 27, 28, 29, 30, 35, 34, 31, 33,\n       32])"
     },
     "execution_count": 162,
     "metadata": {},
     "output_type": "execute_result"
    }
   ],
   "source": [
    "eqls_df[\"Y11_Country\"].unique()"
   ],
   "metadata": {
    "collapsed": false,
    "pycharm": {
     "name": "#%%\n"
    }
   }
  },
  {
   "cell_type": "markdown",
   "source": [
    "We can see there are 79270 rows (each row corresponding to an entry) and 199 columns (each column corresponding to a variable).\n",
    "There output `dtypes: float64(187), int64(9), object(3)` from the command `eqls_df.dtypes` shows that most of the columns (187)\n",
    "contain numeric variables, with 9 columns containing  integers and 3 object columns (these are string columns).\n",
    "\n",
    "## 3. Understanding the data\n",
    "Lets read in the metadata explaining the content of each of the columns."
   ],
   "metadata": {
    "collapsed": false
   }
  },
  {
   "cell_type": "code",
   "execution_count": 166,
   "outputs": [
    {
     "data": {
      "text/plain": "      VariableName        VariableLabel                              Question  \\\n0             Wave            EQLS Wave                             EQLS Wave   \n1      Y11_Country              Country                               Country   \n2          Y11_Q31       Marital status                        Marital status   \n3          Y11_Q32      No. of children        Number of children of your own   \n4  Y11_ISCEDsimple  Education completed  Highest level of education completed   \n\n                                          TopicValue      KeywordValue  \\\n0                                                NaN               NaN   \n1                                        Geographies               NaN   \n2  Social stratification and groupings - Family l...    Marital status   \n3  Social stratification and groupings - Family l...          Children   \n4                     Education - Higher and further  Education levels   \n\n           VariableGroupValue  \n0    Administrative Variables  \n1  Household Grid and Country  \n2      Family and Social Life  \n3      Family and Social Life  \n4                   Education  ",
      "text/html": "<div>\n<style scoped>\n    .dataframe tbody tr th:only-of-type {\n        vertical-align: middle;\n    }\n\n    .dataframe tbody tr th {\n        vertical-align: top;\n    }\n\n    .dataframe thead th {\n        text-align: right;\n    }\n</style>\n<table border=\"1\" class=\"dataframe\">\n  <thead>\n    <tr style=\"text-align: right;\">\n      <th></th>\n      <th>VariableName</th>\n      <th>VariableLabel</th>\n      <th>Question</th>\n      <th>TopicValue</th>\n      <th>KeywordValue</th>\n      <th>VariableGroupValue</th>\n    </tr>\n  </thead>\n  <tbody>\n    <tr>\n      <th>0</th>\n      <td>Wave</td>\n      <td>EQLS Wave</td>\n      <td>EQLS Wave</td>\n      <td>NaN</td>\n      <td>NaN</td>\n      <td>Administrative Variables</td>\n    </tr>\n    <tr>\n      <th>1</th>\n      <td>Y11_Country</td>\n      <td>Country</td>\n      <td>Country</td>\n      <td>Geographies</td>\n      <td>NaN</td>\n      <td>Household Grid and Country</td>\n    </tr>\n    <tr>\n      <th>2</th>\n      <td>Y11_Q31</td>\n      <td>Marital status</td>\n      <td>Marital status</td>\n      <td>Social stratification and groupings - Family l...</td>\n      <td>Marital status</td>\n      <td>Family and Social Life</td>\n    </tr>\n    <tr>\n      <th>3</th>\n      <td>Y11_Q32</td>\n      <td>No. of children</td>\n      <td>Number of children of your own</td>\n      <td>Social stratification and groupings - Family l...</td>\n      <td>Children</td>\n      <td>Family and Social Life</td>\n    </tr>\n    <tr>\n      <th>4</th>\n      <td>Y11_ISCEDsimple</td>\n      <td>Education completed</td>\n      <td>Highest level of education completed</td>\n      <td>Education - Higher and further</td>\n      <td>Education levels</td>\n      <td>Education</td>\n    </tr>\n  </tbody>\n</table>\n</div>"
     },
     "execution_count": 166,
     "metadata": {},
     "output_type": "execute_result"
    }
   ],
   "source": [
    "eqls_api_map_path = Path(str(root_data_path)+\"/UKDA-7724-csv/mrdoc/excel/eqls_api_map.csv\").resolve()\n",
    "eqls_api_map_df = pd.read_csv(eqls_api_map_path,encoding='latin1')\n",
    "eqls_api_map_df.head()\n"
   ],
   "metadata": {
    "collapsed": false,
    "pycharm": {
     "name": "#%%\n"
    }
   }
  },
  {
   "cell_type": "markdown",
   "source": [
    "## Re-naming our variables to more inutitive names\n",
    "As we can see from `eqls_api_map_path` that the `VariableName` does not intuitively describe the `VariableLabel` (e.g.\n",
    "`Y11_ISCEDsimple` is not a good description of \"Education completed\"). If we want to use more intuitive naming convention for our features\n",
    "we can do so using the `VariableLabel` column."
   ],
   "metadata": {
    "collapsed": false
   }
  },
  {
   "cell_type": "code",
   "execution_count": 164,
   "outputs": [
    {
     "name": "stderr",
     "output_type": "stream",
     "text": [
      "/Users/clast/Documents/2021_projects/rds-course/.venv/lib/python3.7/site-packages/ipykernel_launcher.py:4: FutureWarning: The default value of regex will change from True to False in a future version.\n",
      "  after removing the cwd from sys.path.\n"
     ]
    },
    {
     "data": {
      "text/plain": "   EQLS_Wave  Country  Marital_status  No_of_children  Education_completed  \\\n0          2        1             4.0             0.0                  4.0   \n1          2        1             4.0             0.0                  4.0   \n2          2        1             1.0             2.0                  3.0   \n3          2        1             2.0             0.0                  3.0   \n4          2        1             4.0             0.0                  3.0   \n\n   Ruralurban_living  Citizenship__Country  Citizenship__Another_EU_member  \\\n0                4.0                   NaN                             NaN   \n1                4.0                   NaN                             NaN   \n2                2.0                   NaN                             NaN   \n3                1.0                   NaN                             NaN   \n4                4.0                   NaN                             NaN   \n\n   Citizenship__A_nonEU_country  Citizenship__Dont_know  ...  \\\n0                           NaN                     NaN  ...   \n1                           NaN                     NaN  ...   \n2                           NaN                     NaN  ...   \n3                           NaN                     NaN  ...   \n4                           NaN                     NaN  ...   \n\n   DV_Anyone_usedwould_have_like_to_use_child_care_last_12_months  \\\n0                                                NaN                \n1                                                NaN                \n2                                                NaN                \n3                                                NaN                \n4                                                NaN                \n\n   DV_Anyone_usedwould_have_like_to_use_long_term_care_last_12_months  \\\n0                                                NaN                    \n1                                                NaN                    \n2                                                NaN                    \n3                                                NaN                    \n4                                                NaN                    \n\n   DV_No_of_factors_which_made_it_difficult_to_use_child_care  \\\n0                                                NaN            \n1                                                NaN            \n2                                                NaN            \n3                                                NaN            \n4                                                NaN            \n\n   DV_No_of_factors_which_made_it_difficult_to_use_long_term_care  \\\n0                                                NaN                \n1                                                NaN                \n2                                                NaN                \n3                                                NaN                \n4                                                NaN                \n\n   DV_Preferred_working_hours_3_groups  \\\n0                                  NaN   \n1                                  NaN   \n2                                  NaN   \n3                                  NaN   \n4                                  NaN   \n\n   DV_Preferred_working_hours_of_respondents_partner_3_groups  \\\n0                                                NaN            \n1                                                NaN            \n2                                                NaN            \n3                                                NaN            \n4                                                NaN            \n\n                            ISO3166_Country_URL  \\\n0  https://www.iso.org/obp/ui/#iso:code:3166:AT   \n1  https://www.iso.org/obp/ui/#iso:code:3166:AT   \n2  https://www.iso.org/obp/ui/#iso:code:3166:AT   \n3  https://www.iso.org/obp/ui/#iso:code:3166:AT   \n4  https://www.iso.org/obp/ui/#iso:code:3166:AT   \n\n   RowID_for_the_UK_Data_service_Public_API  \\\n0                                         1   \n1                                         2   \n2                                         3   \n3                                         4   \n4                                         5   \n\n   Root_URI_for_a_row_respondent_that_displays_all_data_values_for_a_single_row_via_the_UK_Data_Service_Public_API  \\\n0  https://api.ukdataservice.ac.uk/V1/datasets/eq...                                                                 \n1  https://api.ukdataservice.ac.uk/V1/datasets/eq...                                                                 \n2  https://api.ukdataservice.ac.uk/V1/datasets/eq...                                                                 \n3  https://api.ukdataservice.ac.uk/V1/datasets/eq...                                                                 \n4  https://api.ukdataservice.ac.uk/V1/datasets/eq...                                                                 \n\n   Unique_respondent_ID  \n0             AT9000083  \n1             AT9000126  \n2             AT9000267  \n3             AT9000268  \n4             AT9000427  \n\n[5 rows x 199 columns]",
      "text/html": "<div>\n<style scoped>\n    .dataframe tbody tr th:only-of-type {\n        vertical-align: middle;\n    }\n\n    .dataframe tbody tr th {\n        vertical-align: top;\n    }\n\n    .dataframe thead th {\n        text-align: right;\n    }\n</style>\n<table border=\"1\" class=\"dataframe\">\n  <thead>\n    <tr style=\"text-align: right;\">\n      <th></th>\n      <th>EQLS_Wave</th>\n      <th>Country</th>\n      <th>Marital_status</th>\n      <th>No_of_children</th>\n      <th>Education_completed</th>\n      <th>Ruralurban_living</th>\n      <th>Citizenship__Country</th>\n      <th>Citizenship__Another_EU_member</th>\n      <th>Citizenship__A_nonEU_country</th>\n      <th>Citizenship__Dont_know</th>\n      <th>...</th>\n      <th>DV_Anyone_usedwould_have_like_to_use_child_care_last_12_months</th>\n      <th>DV_Anyone_usedwould_have_like_to_use_long_term_care_last_12_months</th>\n      <th>DV_No_of_factors_which_made_it_difficult_to_use_child_care</th>\n      <th>DV_No_of_factors_which_made_it_difficult_to_use_long_term_care</th>\n      <th>DV_Preferred_working_hours_3_groups</th>\n      <th>DV_Preferred_working_hours_of_respondents_partner_3_groups</th>\n      <th>ISO3166_Country_URL</th>\n      <th>RowID_for_the_UK_Data_service_Public_API</th>\n      <th>Root_URI_for_a_row_respondent_that_displays_all_data_values_for_a_single_row_via_the_UK_Data_Service_Public_API</th>\n      <th>Unique_respondent_ID</th>\n    </tr>\n  </thead>\n  <tbody>\n    <tr>\n      <th>0</th>\n      <td>2</td>\n      <td>1</td>\n      <td>4.0</td>\n      <td>0.0</td>\n      <td>4.0</td>\n      <td>4.0</td>\n      <td>NaN</td>\n      <td>NaN</td>\n      <td>NaN</td>\n      <td>NaN</td>\n      <td>...</td>\n      <td>NaN</td>\n      <td>NaN</td>\n      <td>NaN</td>\n      <td>NaN</td>\n      <td>NaN</td>\n      <td>NaN</td>\n      <td>https://www.iso.org/obp/ui/#iso:code:3166:AT</td>\n      <td>1</td>\n      <td>https://api.ukdataservice.ac.uk/V1/datasets/eq...</td>\n      <td>AT9000083</td>\n    </tr>\n    <tr>\n      <th>1</th>\n      <td>2</td>\n      <td>1</td>\n      <td>4.0</td>\n      <td>0.0</td>\n      <td>4.0</td>\n      <td>4.0</td>\n      <td>NaN</td>\n      <td>NaN</td>\n      <td>NaN</td>\n      <td>NaN</td>\n      <td>...</td>\n      <td>NaN</td>\n      <td>NaN</td>\n      <td>NaN</td>\n      <td>NaN</td>\n      <td>NaN</td>\n      <td>NaN</td>\n      <td>https://www.iso.org/obp/ui/#iso:code:3166:AT</td>\n      <td>2</td>\n      <td>https://api.ukdataservice.ac.uk/V1/datasets/eq...</td>\n      <td>AT9000126</td>\n    </tr>\n    <tr>\n      <th>2</th>\n      <td>2</td>\n      <td>1</td>\n      <td>1.0</td>\n      <td>2.0</td>\n      <td>3.0</td>\n      <td>2.0</td>\n      <td>NaN</td>\n      <td>NaN</td>\n      <td>NaN</td>\n      <td>NaN</td>\n      <td>...</td>\n      <td>NaN</td>\n      <td>NaN</td>\n      <td>NaN</td>\n      <td>NaN</td>\n      <td>NaN</td>\n      <td>NaN</td>\n      <td>https://www.iso.org/obp/ui/#iso:code:3166:AT</td>\n      <td>3</td>\n      <td>https://api.ukdataservice.ac.uk/V1/datasets/eq...</td>\n      <td>AT9000267</td>\n    </tr>\n    <tr>\n      <th>3</th>\n      <td>2</td>\n      <td>1</td>\n      <td>2.0</td>\n      <td>0.0</td>\n      <td>3.0</td>\n      <td>1.0</td>\n      <td>NaN</td>\n      <td>NaN</td>\n      <td>NaN</td>\n      <td>NaN</td>\n      <td>...</td>\n      <td>NaN</td>\n      <td>NaN</td>\n      <td>NaN</td>\n      <td>NaN</td>\n      <td>NaN</td>\n      <td>NaN</td>\n      <td>https://www.iso.org/obp/ui/#iso:code:3166:AT</td>\n      <td>4</td>\n      <td>https://api.ukdataservice.ac.uk/V1/datasets/eq...</td>\n      <td>AT9000268</td>\n    </tr>\n    <tr>\n      <th>4</th>\n      <td>2</td>\n      <td>1</td>\n      <td>4.0</td>\n      <td>0.0</td>\n      <td>3.0</td>\n      <td>4.0</td>\n      <td>NaN</td>\n      <td>NaN</td>\n      <td>NaN</td>\n      <td>NaN</td>\n      <td>...</td>\n      <td>NaN</td>\n      <td>NaN</td>\n      <td>NaN</td>\n      <td>NaN</td>\n      <td>NaN</td>\n      <td>NaN</td>\n      <td>https://www.iso.org/obp/ui/#iso:code:3166:AT</td>\n      <td>5</td>\n      <td>https://api.ukdataservice.ac.uk/V1/datasets/eq...</td>\n      <td>AT9000427</td>\n    </tr>\n  </tbody>\n</table>\n<p>5 rows × 199 columns</p>\n</div>"
     },
     "execution_count": 164,
     "metadata": {},
     "output_type": "execute_result"
    }
   ],
   "source": [
    "def create_intuitive_feature_name(data_df, mapping_df):\n",
    "    if len(data_df.columns) == len(mapping_df):\n",
    "        old_column_list = list(data_df.columns.values)\n",
    "        new_col_list = mapping_df['VariableLabel'].str.replace('\\s', '_').str.replace('[^\\w]','').tolist()\n",
    "        column_dict = dict(zip(old_column_list, new_col_list))\n",
    "        return data_df.rename(columns=column_dict)\n",
    "\n",
    "eqls_df = create_intuitive_feature_name(eqls_df, eqls_api_map_df)\n",
    "eqls_df.head()"
   ],
   "metadata": {
    "collapsed": false,
    "pycharm": {
     "name": "#%%\n"
    }
   }
  },
  {
   "cell_type": "markdown",
   "source": [
    "<div class=\"alert alert-block alert-warning\"> The metadata csv <code class=\"ph codeph\">eqls_api_map.csv</code> contains\n",
    "non-ascii character in the dictionary and it can't be encoded/decoded. Read in with the additional arguement\n",
    "<code class=\"ph codeph\">encoding='latin1'</code> </div>"
   ],
   "metadata": {
    "collapsed": false
   }
  },
  {
   "cell_type": "code",
   "execution_count": 165,
   "outputs": [],
   "source": [
    "#save derived data locally\n",
    "eqls_df.to_csv(str(root_data_path)+\"/derived_data/eqls_2011_cleaned.csv\", index=False)\n"
   ],
   "metadata": {
    "collapsed": false,
    "pycharm": {
     "name": "#%%\n"
    }
   }
  }
 ],
 "metadata": {
  "kernelspec": {
   "display_name": "Python 3 (ipykernel)",
   "language": "python",
   "name": "python3"
  },
  "language_info": {
   "codemirror_mode": {
    "name": "ipython",
    "version": 3
   },
   "file_extension": ".py",
   "mimetype": "text/x-python",
   "name": "python",
   "nbconvert_exporter": "python",
   "pygments_lexer": "ipython3",
   "version": "3.7.9"
  },
  "pycharm": {
   "stem_cell": {
    "cell_type": "raw",
    "source": [
     "\n"
    ],
    "metadata": {
     "collapsed": false
    }
   }
  }
 },
 "nbformat": 4,
 "nbformat_minor": 5
}