{
 "cells": [
  {
   "cell_type": "markdown",
   "source": [
    "## Modelling - Logistic Regression\n",
    "Logistic Regression is one of the most simple and commonly used Machine Learning algorithms for two-class classification.\n",
    "It is easy to implement and can be used as the baseline for any binary classification problem.\n",
    "Its basic fundamental concepts are also constructive in deep learning. Logistic regression describes and estimates the\n",
    "relationship between one dependent binary variable and independent variables.\n",
    "\n",
    "#### Predict variable (desired target):\n",
    "\n",
    "`y` —  In general, your health is …? (`Health_condition`)\n",
    "\n",
    "The health column of the dataset has many categories and we need to reduce the categories for a better modelling.\n",
    "The health column has the following categories:"
   ],
   "metadata": {
    "collapsed": false
   }
  },
  {
   "cell_type": "code",
   "execution_count": 6,
   "outputs": [],
   "source": [
    "# installing required packages\n",
    "from pathlib import Path\n",
    "\n",
    "import numpy as np\n",
    "import pandas as pd\n",
    "import matplotlib.pyplot as plt\n",
    "import seaborn as sns\n",
    "\n",
    "%matplotlib inline"
   ],
   "metadata": {
    "collapsed": false,
    "pycharm": {
     "name": "#%%\n"
    }
   }
  },
  {
   "cell_type": "code",
   "execution_count": 8,
   "outputs": [
    {
     "data": {
      "text/plain": "array([ 1.,  3.,  4.,  2.,  5., nan])"
     },
     "execution_count": 8,
     "metadata": {},
     "output_type": "execute_result"
    }
   ],
   "source": [
    "root_data_path = Path(\"data\")\n",
    "eqls_path = Path(str(root_data_path)+\"/derived_data/eqls_2011_described.csv\").resolve()\n",
    "eqls_2011_df_target_nona = pd.read_csv(eqls_path)\n",
    "\n",
    "eqls_2011_df_target_nona.head()\n",
    "\n",
    "eqls_2011_df_target_nona['Health_condition'].unique()"
   ],
   "metadata": {
    "collapsed": false,
    "pycharm": {
     "name": "#%%\n"
    }
   }
  },
  {
   "cell_type": "markdown",
   "source": [
    "The labels in our current target variable are as follows:\n",
    "- `\"1\"` (Label = Very good)\n",
    "- `\"2\"` (Label = Good)\n",
    "- `\"3\"` (Label = Fair)\n",
    "- `\"4\"` (Label = Bad)\n",
    "- `\"5\"` (Label = Very bad) together.\n",
    "\n",
    "Let's create an updated variable that is binary (i.e. either a 1 or a 0 such that `\"1\"`, means “Good”, `\"0\"` means “Bad”).\n",
    "Lets assign the `\"1\"`, `\"2\"`, `\"3\"` to the value `\"1\"`, and likewise, `\"4\"` and `\"5\"` to the value of `\"0\"`."
   ],
   "metadata": {
    "collapsed": false
   }
  },
  {
   "cell_type": "code",
   "execution_count": 9,
   "outputs": [],
   "source": [
    "eqls_2011_df_target_nona['Health_condition_binary'] = eqls_2011_df_target_nona.Health_condition.apply(lambda x: 1 if float(x) <= 3 else 0)"
   ],
   "metadata": {
    "collapsed": false,
    "pycharm": {
     "name": "#%%\n"
    }
   }
  },
  {
   "cell_type": "code",
   "execution_count": 10,
   "outputs": [
    {
     "data": {
      "text/plain": "   Health_condition_binary  Health_condition\n0                        1               1.0\n1                        1               1.0\n2                        1               3.0\n3                        1               1.0\n4                        1               1.0",
      "text/html": "<div>\n<style scoped>\n    .dataframe tbody tr th:only-of-type {\n        vertical-align: middle;\n    }\n\n    .dataframe tbody tr th {\n        vertical-align: top;\n    }\n\n    .dataframe thead th {\n        text-align: right;\n    }\n</style>\n<table border=\"1\" class=\"dataframe\">\n  <thead>\n    <tr style=\"text-align: right;\">\n      <th></th>\n      <th>Health_condition_binary</th>\n      <th>Health_condition</th>\n    </tr>\n  </thead>\n  <tbody>\n    <tr>\n      <th>0</th>\n      <td>1</td>\n      <td>1.0</td>\n    </tr>\n    <tr>\n      <th>1</th>\n      <td>1</td>\n      <td>1.0</td>\n    </tr>\n    <tr>\n      <th>2</th>\n      <td>1</td>\n      <td>3.0</td>\n    </tr>\n    <tr>\n      <th>3</th>\n      <td>1</td>\n      <td>1.0</td>\n    </tr>\n    <tr>\n      <th>4</th>\n      <td>1</td>\n      <td>1.0</td>\n    </tr>\n  </tbody>\n</table>\n</div>"
     },
     "execution_count": 10,
     "metadata": {},
     "output_type": "execute_result"
    }
   ],
   "source": [
    "eqls_2011_df_target_nona[['Health_condition_binary','Health_condition']].head()"
   ],
   "metadata": {
    "collapsed": false,
    "pycharm": {
     "name": "#%%\n"
    }
   }
  },
  {
   "cell_type": "markdown",
   "source": [
    "We can see that the column `Health_condition_binary` contains `1` where the value is `[1, 2, 3]` in the column `Health_condition`."
   ],
   "metadata": {
    "collapsed": false
   }
  },
  {
   "cell_type": "code",
   "execution_count": 13,
   "outputs": [],
   "source": [
    "# dropping the ID's which are not predictor variables\n",
    "feature_2011_columns = eqls_2011_df_target_nona.drop(columns=['RowID_for_the_UK_Data_service_Public_API',\n",
    "                                                              'Root_URI_for_a_row_respondent_that_displays_all_data_values_for_a_single_row_via_the_UK_Data_Service_Public_API',\n",
    "                                                              'Unique_respondent_ID'])"
   ],
   "metadata": {
    "collapsed": false,
    "pycharm": {
     "name": "#%%\n"
    }
   }
  },
  {
   "cell_type": "code",
   "execution_count": 15,
   "outputs": [],
   "source": [
    "from sklearn.linear_model import LogisticRegression\n",
    "from sklearn.metrics import mean_absolute_error\n",
    "from sklearn.model_selection import train_test_split\n",
    "\n",
    "eqls_2011_target = feature_2011_columns.Health_condition_binary\n",
    "eqls_2011_predictors = feature_2011_columns.drop(['Health_condition_binary','Health_condition'], axis=1)\n",
    "\n",
    "# For the sake of keeping the example simple, we'll use only numeric predictors.\n",
    "eqls_2011_numeric_predictors = eqls_2011_predictors.select_dtypes(exclude=['object'])\n",
    "\n",
    "X_train, X_test, y_train, y_test = train_test_split(eqls_2011_numeric_predictors,\n",
    "                                                    eqls_2011_target,\n",
    "                                                    train_size=0.7,\n",
    "                                                    test_size=0.3,\n",
    "                                                    random_state=0)\n",
    "\n",
    "def logistic_regression_score_dataset(X_train, X_test, y_train, y_test):\n",
    "    model = LogisticRegression()\n",
    "    model.fit(X_train, y_train)\n",
    "    preds = model.predict(X_test)\n",
    "    return mean_absolute_error(y_test, preds)"
   ],
   "metadata": {
    "collapsed": false,
    "pycharm": {
     "name": "#%%\n"
    }
   }
  },
  {
   "cell_type": "markdown",
   "source": [
    "We remove the columns `'Health_condition'` as our new target variable (`Health_condition_binary`) are derived from this\n",
    "Lets compare the results with the different imputation methods illustrated earlier."
   ],
   "metadata": {
    "collapsed": false
   }
  },
  {
   "cell_type": "code",
   "execution_count": 16,
   "outputs": [
    {
     "name": "stdout",
     "output_type": "stream",
     "text": [
      "Mean Absolute Error from dropping columns with Missing Values:\n",
      "0.10899457550145074\n"
     ]
    }
   ],
   "source": [
    "cols_with_missing = [col for col in X_train.columns\n",
    "                                 if X_train[col].isnull().any()]\n",
    "reduced_X_train = X_train.drop(cols_with_missing, axis=1)\n",
    "reduced_X_test  = X_test.drop(cols_with_missing, axis=1)\n",
    "print(\"Mean Absolute Error from dropping columns with Missing Values:\")\n",
    "print(logistic_regression_score_dataset(reduced_X_train, reduced_X_test, y_train, y_test))"
   ],
   "metadata": {
    "collapsed": false,
    "pycharm": {
     "name": "#%%\n"
    }
   }
  },
  {
   "cell_type": "markdown",
   "source": [
    "#### Get Logistic Regression Score from Imputation\n"
   ],
   "metadata": {
    "collapsed": false
   }
  },
  {
   "cell_type": "code",
   "execution_count": 19,
   "outputs": [
    {
     "name": "stdout",
     "output_type": "stream",
     "text": [
      "Mean Absolute Error from Imputation:\n",
      "0.08002186619570245\n"
     ]
    },
    {
     "name": "stderr",
     "output_type": "stream",
     "text": [
      "/Users/clast/Documents/2021_projects/rds-course/.venv/lib/python3.7/site-packages/sklearn/linear_model/_logistic.py:765: ConvergenceWarning: lbfgs failed to converge (status=1):\n",
      "STOP: TOTAL NO. of ITERATIONS REACHED LIMIT.\n",
      "\n",
      "Increase the number of iterations (max_iter) or scale the data as shown in:\n",
      "    https://scikit-learn.org/stable/modules/preprocessing.html\n",
      "Please also refer to the documentation for alternative solver options:\n",
      "    https://scikit-learn.org/stable/modules/linear_model.html#logistic-regression\n",
      "  extra_warning_msg=_LOGISTIC_SOLVER_CONVERGENCE_MSG)\n"
     ]
    }
   ],
   "source": [
    "\n",
    "from sklearn.base import TransformerMixin\n",
    "\n",
    "class DataFrameImputer(TransformerMixin):\n",
    "\n",
    "    def __init__(self):\n",
    "        \"\"\"Impute missing values.\n",
    "\n",
    "        Columns of dtype object are imputed with the most frequent value\n",
    "        in column.\n",
    "\n",
    "        Columns of other types are imputed with mean of column.\n",
    "\n",
    "        \"\"\"\n",
    "    def fit(self, X, y=None):\n",
    "\n",
    "        self.fill = pd.Series([X[c].value_counts().index[0]\n",
    "            if X[c].dtype == np.dtype('O') else X[c].mean() for c in X],\n",
    "            index=X.columns)\n",
    "\n",
    "        return self\n",
    "\n",
    "    def transform(self, X, y=None):\n",
    "        return X.fillna(self.fill)\n",
    "\n",
    "\n",
    "imputed_X_train = DataFrameImputer().fit_transform(X_train)\n",
    "imputed_X_test = DataFrameImputer().fit_transform(X_test)\n",
    "print(\"Mean Absolute Error from Imputation:\")\n",
    "print(logistic_regression_score_dataset(imputed_X_train, imputed_X_test, y_train, y_test))\n"
   ],
   "metadata": {
    "collapsed": false,
    "pycharm": {
     "name": "#%%\n"
    }
   }
  },
  {
   "cell_type": "markdown",
   "source": [
    "We can see that the imputation significantly improves the result of the logistic regression.\n",
    "We can diagnose our results using a Confusion Matrix.\n",
    "\n",
    "A confusion matrix is a table that is used to evaluate the performance of a classification model. You can also visualize the performance of an algorithm.\n",
    "The fundamental of a confusion matrix is the number of correct and incorrect predictions are summed up class-wise."
   ],
   "metadata": {
    "collapsed": false
   }
  },
  {
   "cell_type": "code",
   "execution_count": 20,
   "outputs": [
    {
     "name": "stderr",
     "output_type": "stream",
     "text": [
      "/Users/clast/Documents/2021_projects/rds-course/.venv/lib/python3.7/site-packages/sklearn/linear_model/_logistic.py:765: ConvergenceWarning: lbfgs failed to converge (status=1):\n",
      "STOP: TOTAL NO. of ITERATIONS REACHED LIMIT.\n",
      "\n",
      "Increase the number of iterations (max_iter) or scale the data as shown in:\n",
      "    https://scikit-learn.org/stable/modules/preprocessing.html\n",
      "Please also refer to the documentation for alternative solver options:\n",
      "    https://scikit-learn.org/stable/modules/linear_model.html#logistic-regression\n",
      "  extra_warning_msg=_LOGISTIC_SOLVER_CONVERGENCE_MSG)\n"
     ]
    },
    {
     "data": {
      "text/plain": "array([[ 1189,  1403],\n       [  500, 20689]])"
     },
     "execution_count": 20,
     "metadata": {},
     "output_type": "execute_result"
    }
   ],
   "source": [
    "# import the metrics class\n",
    "from sklearn import metrics\n",
    "\n",
    "def get_prediction(X_train, X_test, y_train):\n",
    "    model = LogisticRegression()\n",
    "    model.fit(X_train, y_train)\n",
    "    preds = model.predict(X_test)\n",
    "    return preds\n",
    "\n",
    "y_pred = get_prediction(imputed_X_train, imputed_X_test, y_train)\n",
    "\n",
    "cnf_matrix = metrics.confusion_matrix(y_test, y_pred)\n",
    "cnf_matrix"
   ],
   "metadata": {
    "collapsed": false,
    "pycharm": {
     "name": "#%%\n"
    }
   }
  },
  {
   "cell_type": "markdown",
   "source": [
    "Here, you can see the confusion matrix in the form of the array object.\n",
    "The dimension of this matrix is 2*2 because this model is binary classification.\n",
    "You have two classes 0 representing \"poor health\" and 1, representing \"good health\".\n",
    "Diagonal values represent accurate predictions, while non-diagonal elements are inaccurate predictions.\n",
    "\n",
    "In the output, `44` and `571` are actual predictions (`44` is the number of true \"poor health\" predictions, and `571` is the number of ture \"good health\" predictions).\n",
    "`34` and `27` are incorrect predictions (`34` is the number of \"poor health\" predictions predicted incorrectly as \"good health\",\n",
    "and `310` is the number of false \"good health\" predictions).\n"
   ],
   "metadata": {
    "collapsed": false
   }
  },
  {
   "cell_type": "markdown",
   "source": [
    "<div class=\"alert alert-block alert-warning\"> This model overly predicts \"good health\" outcomes, and may benefit from oversampling\n",
    "surveyed respondents which self-report \"poor health\". </code> </div>"
   ],
   "metadata": {
    "collapsed": false
   }
  },
  {
   "cell_type": "code",
   "execution_count": 21,
   "outputs": [
    {
     "name": "stdout",
     "output_type": "stream",
     "text": [
      "Accuracy: 0.9199781338042975\n",
      "Precision: 0.9364928480898063\n",
      "Recall: 0.9764028505356553\n"
     ]
    },
    {
     "data": {
      "text/plain": "<Figure size 432x288 with 2 Axes>",
      "image/png": "[encoded data removed]"
     },
     "metadata": {
      "needs_background": "light"
     },
     "output_type": "display_data"
    }
   ],
   "source": [
    "class_names=[0,1] # name  of classes\n",
    "fig, ax = plt.subplots()\n",
    "tick_marks = np.arange(len(class_names))\n",
    "plt.xticks(tick_marks, class_names)\n",
    "plt.yticks(tick_marks, class_names)\n",
    "# create heatmap\n",
    "sns.heatmap(pd.DataFrame(cnf_matrix), annot=True, cmap=\"YlGnBu\" ,fmt='g')\n",
    "ax.xaxis.set_label_position(\"top\")\n",
    "plt.tight_layout()\n",
    "plt.title('Confusion matrix', y=1.1)\n",
    "plt.ylabel('Actual label')\n",
    "plt.xlabel('Predicted label')\n",
    "\n",
    "print(\"Accuracy:\",metrics.accuracy_score(y_test, y_pred))\n",
    "print(\"Precision:\",metrics.precision_score(y_test, y_pred))\n",
    "print(\"Recall:\",metrics.recall_score(y_test, y_pred))"
   ],
   "metadata": {
    "collapsed": false,
    "pycharm": {
     "name": "#%%\n"
    }
   }
  },
  {
   "cell_type": "markdown",
   "source": [
    "### Analysing feature importances"
   ],
   "metadata": {
    "collapsed": false,
    "pycharm": {
     "name": "#%% md\n"
    }
   }
  },
  {
   "cell_type": "code",
   "execution_count": 46,
   "outputs": [
    {
     "name": "stderr",
     "output_type": "stream",
     "text": [
      "/Users/clast/Documents/2021_projects/rds-course/.venv/lib/python3.7/site-packages/sklearn/linear_model/_logistic.py:765: ConvergenceWarning: lbfgs failed to converge (status=1):\n",
      "STOP: TOTAL NO. of ITERATIONS REACHED LIMIT.\n",
      "\n",
      "Increase the number of iterations (max_iter) or scale the data as shown in:\n",
      "    https://scikit-learn.org/stable/modules/preprocessing.html\n",
      "Please also refer to the documentation for alternative solver options:\n",
      "    https://scikit-learn.org/stable/modules/linear_model.html#logistic-regression\n",
      "  extra_warning_msg=_LOGISTIC_SOLVER_CONVERGENCE_MSG)\n"
     ]
    },
    {
     "name": "stdout",
     "output_type": "stream",
     "text": [
      "Feature: 0, Score: 0.00001\n",
      "Feature: 1, Score: -0.00041\n",
      "Feature: 2, Score: -0.01789\n",
      "Feature: 3, Score: -0.00651\n",
      "Feature: 4, Score: -0.02746\n",
      "Feature: 5, Score: 0.03813\n",
      "Feature: 6, Score: 0.00813\n",
      "Feature: 7, Score: -0.00246\n",
      "Feature: 8, Score: -0.00064\n",
      "Feature: 9, Score: -0.00080\n",
      "Feature: 10, Score: -0.00103\n",
      "Feature: 11, Score: -0.00104\n",
      "Feature: 12, Score: -0.07702\n",
      "Feature: 13, Score: -0.00339\n",
      "Feature: 14, Score: 0.03667\n",
      "Feature: 15, Score: 0.00714\n",
      "Feature: 16, Score: 0.04469\n",
      "Feature: 17, Score: 0.01420\n",
      "Feature: 18, Score: -0.06875\n",
      "Feature: 19, Score: 0.02535\n",
      "Feature: 20, Score: 0.00323\n",
      "Feature: 21, Score: -0.00743\n",
      "Feature: 22, Score: -0.00616\n",
      "Feature: 23, Score: 0.00822\n",
      "Feature: 24, Score: -0.04614\n",
      "Feature: 25, Score: -0.02117\n",
      "Feature: 26, Score: -0.00047\n",
      "Feature: 27, Score: 0.00799\n",
      "Feature: 28, Score: -0.04317\n",
      "Feature: 29, Score: -0.02316\n",
      "Feature: 30, Score: -0.01920\n",
      "Feature: 31, Score: -0.00536\n",
      "Feature: 32, Score: -0.00173\n",
      "Feature: 33, Score: -0.00895\n",
      "Feature: 34, Score: -0.00128\n",
      "Feature: 35, Score: -0.00743\n",
      "Feature: 36, Score: 0.05300\n",
      "Feature: 37, Score: 0.03293\n",
      "Feature: 38, Score: 0.02844\n",
      "Feature: 39, Score: 0.00765\n",
      "Feature: 40, Score: -0.00514\n",
      "Feature: 41, Score: 0.00290\n",
      "Feature: 42, Score: 0.00261\n",
      "Feature: 43, Score: 0.00276\n",
      "Feature: 44, Score: 0.00309\n",
      "Feature: 45, Score: -0.00155\n",
      "Feature: 46, Score: -0.00657\n",
      "Feature: 47, Score: -0.00384\n",
      "Feature: 48, Score: -0.00478\n",
      "Feature: 49, Score: -0.00494\n",
      "Feature: 50, Score: -0.00309\n",
      "Feature: 51, Score: -0.00326\n",
      "Feature: 52, Score: -0.00685\n",
      "Feature: 53, Score: -0.01648\n",
      "Feature: 54, Score: 0.02628\n",
      "Feature: 55, Score: 0.01395\n",
      "Feature: 56, Score: 0.01027\n",
      "Feature: 57, Score: 0.00936\n",
      "Feature: 58, Score: -0.00712\n",
      "Feature: 59, Score: 0.00143\n",
      "Feature: 60, Score: -0.00175\n",
      "Feature: 61, Score: 0.00062\n",
      "Feature: 62, Score: -0.01158\n",
      "Feature: 63, Score: -0.00778\n",
      "Feature: 64, Score: 0.00204\n",
      "Feature: 65, Score: 0.01017\n",
      "Feature: 66, Score: -0.00342\n",
      "Feature: 67, Score: -0.00486\n",
      "Feature: 68, Score: -0.00232\n",
      "Feature: 69, Score: 0.00562\n",
      "Feature: 70, Score: 0.00075\n",
      "Feature: 71, Score: 0.02172\n",
      "Feature: 72, Score: 0.00116\n",
      "Feature: 73, Score: -0.00022\n",
      "Feature: 74, Score: -0.00456\n",
      "Feature: 75, Score: -0.00111\n",
      "Feature: 76, Score: -0.00121\n",
      "Feature: 77, Score: -0.00287\n",
      "Feature: 78, Score: -0.00073\n",
      "Feature: 79, Score: -0.00023\n",
      "Feature: 80, Score: -0.00105\n",
      "Feature: 81, Score: -0.00117\n",
      "Feature: 82, Score: -0.00296\n",
      "Feature: 83, Score: -0.00254\n",
      "Feature: 84, Score: -0.00247\n",
      "Feature: 85, Score: -0.00268\n",
      "Feature: 86, Score: -0.00238\n",
      "Feature: 87, Score: -0.00234\n",
      "Feature: 88, Score: -0.00246\n",
      "Feature: 89, Score: -0.00275\n",
      "Feature: 90, Score: 0.01169\n",
      "Feature: 91, Score: 0.00417\n",
      "Feature: 92, Score: -0.00040\n",
      "Feature: 93, Score: -0.00364\n",
      "Feature: 94, Score: 0.00311\n",
      "Feature: 95, Score: -0.00791\n",
      "Feature: 96, Score: -0.00865\n",
      "Feature: 97, Score: -0.00403\n",
      "Feature: 98, Score: 0.02160\n",
      "Feature: 99, Score: 0.01271\n",
      "Feature: 100, Score: -0.01222\n",
      "Feature: 101, Score: -0.00194\n",
      "Feature: 102, Score: 0.01339\n",
      "Feature: 103, Score: -0.00452\n",
      "Feature: 104, Score: -0.00441\n",
      "Feature: 105, Score: -0.04760\n",
      "Feature: 106, Score: -0.03348\n",
      "Feature: 107, Score: -0.01393\n",
      "Feature: 108, Score: -0.00578\n",
      "Feature: 109, Score: -0.00929\n",
      "Feature: 110, Score: -0.00609\n",
      "Feature: 111, Score: -0.00554\n",
      "Feature: 112, Score: -0.00559\n",
      "Feature: 113, Score: -0.00411\n",
      "Feature: 114, Score: -0.00324\n",
      "Feature: 115, Score: -0.00449\n",
      "Feature: 116, Score: -0.00277\n",
      "Feature: 117, Score: 0.02244\n",
      "Feature: 118, Score: 0.02145\n",
      "Feature: 119, Score: 0.00365\n",
      "Feature: 120, Score: 0.00715\n",
      "Feature: 121, Score: -0.00184\n",
      "Feature: 122, Score: -0.01724\n",
      "Feature: 123, Score: 0.00426\n",
      "Feature: 124, Score: 0.01249\n",
      "Feature: 125, Score: -0.03824\n",
      "Feature: 126, Score: -0.00749\n",
      "Feature: 127, Score: -0.01671\n",
      "Feature: 128, Score: -0.01516\n",
      "Feature: 129, Score: -0.01043\n",
      "Feature: 130, Score: -0.01729\n",
      "Feature: 131, Score: -0.01330\n",
      "Feature: 132, Score: -0.00313\n",
      "Feature: 133, Score: -0.00103\n",
      "Feature: 134, Score: -0.00314\n",
      "Feature: 135, Score: -0.00243\n",
      "Feature: 136, Score: -0.00782\n",
      "Feature: 137, Score: -0.00886\n",
      "Feature: 138, Score: -0.06883\n",
      "Feature: 139, Score: -0.02228\n",
      "Feature: 140, Score: -0.01069\n",
      "Feature: 141, Score: -0.00829\n",
      "Feature: 142, Score: -0.01375\n",
      "Feature: 143, Score: 0.05594\n",
      "Feature: 144, Score: 0.01476\n",
      "Feature: 145, Score: -0.02025\n",
      "Feature: 146, Score: 0.05227\n",
      "Feature: 147, Score: 0.01213\n",
      "Feature: 148, Score: 0.02765\n",
      "Feature: 149, Score: 0.32293\n",
      "Feature: 150, Score: 0.07824\n",
      "Feature: 151, Score: 0.01807\n",
      "Feature: 152, Score: 0.06603\n",
      "Feature: 153, Score: -0.01080\n",
      "Feature: 154, Score: 0.00960\n",
      "Feature: 155, Score: -0.04275\n",
      "Feature: 156, Score: -0.01225\n",
      "Feature: 157, Score: 0.00558\n",
      "Feature: 158, Score: 0.00531\n",
      "Feature: 159, Score: 0.01262\n",
      "Feature: 160, Score: 0.01540\n",
      "Feature: 161, Score: 0.02201\n",
      "Feature: 162, Score: 0.00750\n",
      "Feature: 163, Score: 0.01339\n",
      "Feature: 164, Score: 0.01543\n",
      "Feature: 165, Score: 0.00888\n",
      "Feature: 166, Score: 0.02591\n",
      "Feature: 167, Score: -0.01891\n",
      "Feature: 168, Score: 0.00438\n",
      "Feature: 169, Score: 0.00002\n",
      "Feature: 170, Score: -0.00631\n",
      "Feature: 171, Score: -0.00899\n",
      "Feature: 172, Score: -0.00946\n",
      "Feature: 173, Score: -0.00638\n",
      "Feature: 174, Score: -0.00403\n",
      "Feature: 175, Score: -0.02488\n",
      "Feature: 176, Score: 0.00108\n",
      "Feature: 177, Score: -0.01015\n",
      "Feature: 178, Score: -0.00456\n",
      "Feature: 179, Score: -0.00105\n",
      "Feature: 180, Score: 0.00030\n",
      "Feature: 181, Score: 0.00206\n",
      "Feature: 182, Score: -0.00132\n",
      "Feature: 183, Score: 0.00040\n",
      "Feature: 184, Score: -0.00212\n",
      "Feature: 185, Score: -0.00576\n",
      "Feature: 186, Score: -0.04050\n",
      "Feature: 187, Score: -0.00017\n",
      "Feature: 188, Score: 0.10857\n",
      "Feature: 189, Score: -0.00816\n",
      "Feature: 190, Score: -0.00013\n",
      "Feature: 191, Score: 0.00552\n",
      "Feature: 192, Score: -0.00282\n",
      "Feature: 193, Score: -0.00648\n",
      "Feature: 194, Score: -0.01840\n"
     ]
    },
    {
     "data": {
      "text/plain": "<Figure size 432x288 with 1 Axes>",
      "image/png": "[encoded data removed]"
     },
     "metadata": {
      "needs_background": "light"
     },
     "output_type": "display_data"
    }
   ],
   "source": [
    "# get importance\n",
    "model = LogisticRegression()\n",
    "model.fit(imputed_X_train, y_train)\n",
    "\n",
    "importance = model.coef_[0]\n",
    "# summarize feature importance\n",
    "for i,v in enumerate(importance):\n",
    "\tprint('Feature: %0d, Score: %.5f' % (i,v))\n",
    "# plot feature importance\n",
    "plt.bar([x for x in range(len(importance))], importance)\n",
    "plt.show()"
   ],
   "metadata": {
    "collapsed": false,
    "pycharm": {
     "name": "#%%\n"
    }
   }
  },
  {
   "cell_type": "code",
   "execution_count": 40,
   "outputs": [],
   "source": [
    "feature_2011_columns.to_csv(str(root_data_path)+f\"/derived_data/eqls_2011_modelled.csv\")\n",
    "for name, df in {\"imputed_X_train\": imputed_X_train,\n",
    "                 \"imputed_X_test\": imputed_X_test,\n",
    "                 \"y_train\": y_train,\n",
    "                 \"y_test\": y_test}.items():\n",
    "    df.to_csv(str(root_data_path)+f\"/derived_data/eqls_2011_{name}.csv\", index=False)"
   ],
   "metadata": {
    "collapsed": false,
    "pycharm": {
     "name": "#%%\n"
    }
   }
  },
  {
   "cell_type": "code",
   "execution_count": 41,
   "outputs": [],
   "source": [
    "# save numpy array as csv file\n",
    "from numpy import savetxt\n",
    "savetxt(str(root_data_path)+f\"/derived_data/y_pred.csv\", y_pred, delimiter=\",\")"
   ],
   "metadata": {
    "collapsed": false,
    "pycharm": {
     "name": "#%%\n"
    }
   }
  },
  {
   "cell_type": "code",
   "execution_count": null,
   "outputs": [],
   "source": [],
   "metadata": {
    "collapsed": false,
    "pycharm": {
     "name": "#%%\n"
    }
   }
  }
 ],
 "metadata": {
  "kernelspec": {
   "display_name": "Python 3",
   "language": "python",
   "name": "python3"
  },
  "language_info": {
   "codemirror_mode": {
    "name": "ipython",
    "version": 2
   },
   "file_extension": ".py",
   "mimetype": "text/x-python",
   "name": "python",
   "nbconvert_exporter": "python",
   "pygments_lexer": "ipython2",
   "version": "2.7.6"
  }
 },
 "nbformat": 4,
 "nbformat_minor": 0
}