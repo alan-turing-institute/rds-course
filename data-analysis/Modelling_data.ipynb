{
 "cells": [
  {
   "cell_type": "markdown",
   "source": [
    "## Modelling - Logistic Regression\n",
    "Logistic Regression is one of the most simple and commonly used Machine Learning algorithms for two-class classification.\n",
    "It is easy to implement and can be used as the baseline for any binary classification problem.\n",
    "Its basic fundamental concepts are also constructive in deep learning. Logistic regression describes and estimates the\n",
    "relationship between one dependent binary variable and independent variables.\n",
    "\n",
    "#### Predict variable (desired target):\n",
    "\n",
    "`y` —  In general, your health is …? (`Health_condition`)\n",
    "\n",
    "The health column of the dataset has many categories and we need to reduce the categories for a better modelling.\n",
    "The health column has the following categories:"
   ],
   "metadata": {
    "collapsed": false
   }
  },
  {
   "cell_type": "code",
   "execution_count": 51,
   "outputs": [],
   "source": [
    "# installing required packages\n",
    "from pathlib import Path\n",
    "\n",
    "import numpy as np\n",
    "import pandas as pd\n",
    "import matplotlib.pyplot as plt\n",
    "import seaborn as sns\n",
    "\n",
    "%matplotlib inline"
   ],
   "metadata": {
    "collapsed": false,
    "pycharm": {
     "name": "#%%\n"
    }
   }
  },
  {
   "cell_type": "code",
   "execution_count": 52,
   "outputs": [
    {
     "data": {
      "text/plain": "   EQLS_Wave  Country  Marital_status  No_of_children  Education_completed  \\\n0          2        1             4.0             0.0                  4.0   \n1          2        1             4.0             0.0                  4.0   \n2          2        1             1.0             2.0                  3.0   \n3          2        1             2.0             0.0                  3.0   \n4          2        1             4.0             0.0                  3.0   \n\n   Ruralurban_living  Citizenship__Country  Citizenship__Another_EU_member  \\\n0                4.0                   NaN                             NaN   \n1                4.0                   NaN                             NaN   \n2                2.0                   NaN                             NaN   \n3                1.0                   NaN                             NaN   \n4                4.0                   NaN                             NaN   \n\n   Citizenship__A_nonEU_country  Citizenship__Dont_know  ...  \\\n0                           NaN                     NaN  ...   \n1                           NaN                     NaN  ...   \n2                           NaN                     NaN  ...   \n3                           NaN                     NaN  ...   \n4                           NaN                     NaN  ...   \n\n   DV_Anyone_usedwould_have_like_to_use_child_care_last_12_months  \\\n0                                                NaN                \n1                                                NaN                \n2                                                NaN                \n3                                                NaN                \n4                                                NaN                \n\n   DV_Anyone_usedwould_have_like_to_use_long_term_care_last_12_months  \\\n0                                                NaN                    \n1                                                NaN                    \n2                                                NaN                    \n3                                                NaN                    \n4                                                NaN                    \n\n   DV_No_of_factors_which_made_it_difficult_to_use_child_care  \\\n0                                                NaN            \n1                                                NaN            \n2                                                NaN            \n3                                                NaN            \n4                                                NaN            \n\n   DV_No_of_factors_which_made_it_difficult_to_use_long_term_care  \\\n0                                                NaN                \n1                                                NaN                \n2                                                NaN                \n3                                                NaN                \n4                                                NaN                \n\n   DV_Preferred_working_hours_3_groups  \\\n0                                  NaN   \n1                                  NaN   \n2                                  NaN   \n3                                  NaN   \n4                                  NaN   \n\n   DV_Preferred_working_hours_of_respondents_partner_3_groups  \\\n0                                                NaN            \n1                                                NaN            \n2                                                NaN            \n3                                                NaN            \n4                                                NaN            \n\n                            ISO3166_Country_URL  \\\n0  https://www.iso.org/obp/ui/#iso:code:3166:AT   \n1  https://www.iso.org/obp/ui/#iso:code:3166:AT   \n2  https://www.iso.org/obp/ui/#iso:code:3166:AT   \n3  https://www.iso.org/obp/ui/#iso:code:3166:AT   \n4  https://www.iso.org/obp/ui/#iso:code:3166:AT   \n\n   RowID_for_the_UK_Data_service_Public_API  \\\n0                                         1   \n1                                         2   \n2                                         3   \n3                                         4   \n4                                         5   \n\n   Root_URI_for_a_row_respondent_that_displays_all_data_values_for_a_single_row_via_the_UK_Data_Service_Public_API  \\\n0  https://api.ukdataservice.ac.uk/V1/datasets/eq...                                                                 \n1  https://api.ukdataservice.ac.uk/V1/datasets/eq...                                                                 \n2  https://api.ukdataservice.ac.uk/V1/datasets/eq...                                                                 \n3  https://api.ukdataservice.ac.uk/V1/datasets/eq...                                                                 \n4  https://api.ukdataservice.ac.uk/V1/datasets/eq...                                                                 \n\n   Unique_respondent_ID  \n0             AT9000083  \n1             AT9000126  \n2             AT9000267  \n3             AT9000268  \n4             AT9000427  \n\n[5 rows x 199 columns]",
      "text/html": "<div>\n<style scoped>\n    .dataframe tbody tr th:only-of-type {\n        vertical-align: middle;\n    }\n\n    .dataframe tbody tr th {\n        vertical-align: top;\n    }\n\n    .dataframe thead th {\n        text-align: right;\n    }\n</style>\n<table border=\"1\" class=\"dataframe\">\n  <thead>\n    <tr style=\"text-align: right;\">\n      <th></th>\n      <th>EQLS_Wave</th>\n      <th>Country</th>\n      <th>Marital_status</th>\n      <th>No_of_children</th>\n      <th>Education_completed</th>\n      <th>Ruralurban_living</th>\n      <th>Citizenship__Country</th>\n      <th>Citizenship__Another_EU_member</th>\n      <th>Citizenship__A_nonEU_country</th>\n      <th>Citizenship__Dont_know</th>\n      <th>...</th>\n      <th>DV_Anyone_usedwould_have_like_to_use_child_care_last_12_months</th>\n      <th>DV_Anyone_usedwould_have_like_to_use_long_term_care_last_12_months</th>\n      <th>DV_No_of_factors_which_made_it_difficult_to_use_child_care</th>\n      <th>DV_No_of_factors_which_made_it_difficult_to_use_long_term_care</th>\n      <th>DV_Preferred_working_hours_3_groups</th>\n      <th>DV_Preferred_working_hours_of_respondents_partner_3_groups</th>\n      <th>ISO3166_Country_URL</th>\n      <th>RowID_for_the_UK_Data_service_Public_API</th>\n      <th>Root_URI_for_a_row_respondent_that_displays_all_data_values_for_a_single_row_via_the_UK_Data_Service_Public_API</th>\n      <th>Unique_respondent_ID</th>\n    </tr>\n  </thead>\n  <tbody>\n    <tr>\n      <th>0</th>\n      <td>2</td>\n      <td>1</td>\n      <td>4.0</td>\n      <td>0.0</td>\n      <td>4.0</td>\n      <td>4.0</td>\n      <td>NaN</td>\n      <td>NaN</td>\n      <td>NaN</td>\n      <td>NaN</td>\n      <td>...</td>\n      <td>NaN</td>\n      <td>NaN</td>\n      <td>NaN</td>\n      <td>NaN</td>\n      <td>NaN</td>\n      <td>NaN</td>\n      <td>https://www.iso.org/obp/ui/#iso:code:3166:AT</td>\n      <td>1</td>\n      <td>https://api.ukdataservice.ac.uk/V1/datasets/eq...</td>\n      <td>AT9000083</td>\n    </tr>\n    <tr>\n      <th>1</th>\n      <td>2</td>\n      <td>1</td>\n      <td>4.0</td>\n      <td>0.0</td>\n      <td>4.0</td>\n      <td>4.0</td>\n      <td>NaN</td>\n      <td>NaN</td>\n      <td>NaN</td>\n      <td>NaN</td>\n      <td>...</td>\n      <td>NaN</td>\n      <td>NaN</td>\n      <td>NaN</td>\n      <td>NaN</td>\n      <td>NaN</td>\n      <td>NaN</td>\n      <td>https://www.iso.org/obp/ui/#iso:code:3166:AT</td>\n      <td>2</td>\n      <td>https://api.ukdataservice.ac.uk/V1/datasets/eq...</td>\n      <td>AT9000126</td>\n    </tr>\n    <tr>\n      <th>2</th>\n      <td>2</td>\n      <td>1</td>\n      <td>1.0</td>\n      <td>2.0</td>\n      <td>3.0</td>\n      <td>2.0</td>\n      <td>NaN</td>\n      <td>NaN</td>\n      <td>NaN</td>\n      <td>NaN</td>\n      <td>...</td>\n      <td>NaN</td>\n      <td>NaN</td>\n      <td>NaN</td>\n      <td>NaN</td>\n      <td>NaN</td>\n      <td>NaN</td>\n      <td>https://www.iso.org/obp/ui/#iso:code:3166:AT</td>\n      <td>3</td>\n      <td>https://api.ukdataservice.ac.uk/V1/datasets/eq...</td>\n      <td>AT9000267</td>\n    </tr>\n    <tr>\n      <th>3</th>\n      <td>2</td>\n      <td>1</td>\n      <td>2.0</td>\n      <td>0.0</td>\n      <td>3.0</td>\n      <td>1.0</td>\n      <td>NaN</td>\n      <td>NaN</td>\n      <td>NaN</td>\n      <td>NaN</td>\n      <td>...</td>\n      <td>NaN</td>\n      <td>NaN</td>\n      <td>NaN</td>\n      <td>NaN</td>\n      <td>NaN</td>\n      <td>NaN</td>\n      <td>https://www.iso.org/obp/ui/#iso:code:3166:AT</td>\n      <td>4</td>\n      <td>https://api.ukdataservice.ac.uk/V1/datasets/eq...</td>\n      <td>AT9000268</td>\n    </tr>\n    <tr>\n      <th>4</th>\n      <td>2</td>\n      <td>1</td>\n      <td>4.0</td>\n      <td>0.0</td>\n      <td>3.0</td>\n      <td>4.0</td>\n      <td>NaN</td>\n      <td>NaN</td>\n      <td>NaN</td>\n      <td>NaN</td>\n      <td>...</td>\n      <td>NaN</td>\n      <td>NaN</td>\n      <td>NaN</td>\n      <td>NaN</td>\n      <td>NaN</td>\n      <td>NaN</td>\n      <td>https://www.iso.org/obp/ui/#iso:code:3166:AT</td>\n      <td>5</td>\n      <td>https://api.ukdataservice.ac.uk/V1/datasets/eq...</td>\n      <td>AT9000427</td>\n    </tr>\n  </tbody>\n</table>\n<p>5 rows × 199 columns</p>\n</div>"
     },
     "execution_count": 52,
     "metadata": {},
     "output_type": "execute_result"
    }
   ],
   "source": [
    "root_data_path = Path(\"data\")\n",
    "eqls_path = Path(str(root_data_path)+\"/derived_data/eqls_2011_described.csv\").resolve()\n",
    "eqls_2011_df_target_nona = pd.read_csv(eqls_path)\n",
    "\n",
    "eqls_2011_df_target_nona.head()"
   ],
   "metadata": {
    "collapsed": false,
    "pycharm": {
     "name": "#%%\n"
    }
   }
  },
  {
   "cell_type": "code",
   "execution_count": 53,
   "outputs": [
    {
     "data": {
      "text/plain": "array([ 1.,  3.,  4.,  2.,  5., nan])"
     },
     "execution_count": 53,
     "metadata": {},
     "output_type": "execute_result"
    }
   ],
   "source": [
    "eqls_2011_df_target_nona['Health_condition'].unique()"
   ],
   "metadata": {
    "collapsed": false,
    "pycharm": {
     "name": "#%%\n"
    }
   }
  },
  {
   "cell_type": "markdown",
   "source": [
    "The labels in our current target variable are as follows:\n",
    "- `\"1\"` (Label = Very good)\n",
    "- `\"2\"` (Label = Good)\n",
    "- `\"3\"` (Label = Fair)\n",
    "- `\"4\"` (Label = Bad)\n",
    "- `\"5\"` (Label = Very bad) together.\n",
    "\n",
    "Let's create an updated variable that is binary (i.e. either a 1 or a 0 such that `\"1\"`, means “Good”, `\"0\"` means “Bad”).\n",
    "Lets assign the `\"1\"`, `\"2\"`, `\"3\"` to the value `\"1\"`, and likewise, `\"4\"` and `\"5\"` to the value of `\"0\"`."
   ],
   "metadata": {
    "collapsed": false
   }
  },
  {
   "cell_type": "code",
   "execution_count": 54,
   "outputs": [],
   "source": [
    "eqls_2011_df_target_nona['Health_condition_binary'] = eqls_2011_df_target_nona.Health_condition.apply(lambda x: 1 if float(x) <= 3 else 0)"
   ],
   "metadata": {
    "collapsed": false,
    "pycharm": {
     "name": "#%%\n"
    }
   }
  },
  {
   "cell_type": "code",
   "execution_count": 55,
   "outputs": [
    {
     "data": {
      "text/plain": "   Health_condition_binary  Health_condition\n0                        1               1.0\n1                        1               1.0\n2                        1               3.0\n3                        1               1.0\n4                        1               1.0",
      "text/html": "<div>\n<style scoped>\n    .dataframe tbody tr th:only-of-type {\n        vertical-align: middle;\n    }\n\n    .dataframe tbody tr th {\n        vertical-align: top;\n    }\n\n    .dataframe thead th {\n        text-align: right;\n    }\n</style>\n<table border=\"1\" class=\"dataframe\">\n  <thead>\n    <tr style=\"text-align: right;\">\n      <th></th>\n      <th>Health_condition_binary</th>\n      <th>Health_condition</th>\n    </tr>\n  </thead>\n  <tbody>\n    <tr>\n      <th>0</th>\n      <td>1</td>\n      <td>1.0</td>\n    </tr>\n    <tr>\n      <th>1</th>\n      <td>1</td>\n      <td>1.0</td>\n    </tr>\n    <tr>\n      <th>2</th>\n      <td>1</td>\n      <td>3.0</td>\n    </tr>\n    <tr>\n      <th>3</th>\n      <td>1</td>\n      <td>1.0</td>\n    </tr>\n    <tr>\n      <th>4</th>\n      <td>1</td>\n      <td>1.0</td>\n    </tr>\n  </tbody>\n</table>\n</div>"
     },
     "execution_count": 55,
     "metadata": {},
     "output_type": "execute_result"
    }
   ],
   "source": [
    "eqls_2011_df_target_nona[['Health_condition_binary','Health_condition']].head()"
   ],
   "metadata": {
    "collapsed": false,
    "pycharm": {
     "name": "#%%\n"
    }
   }
  },
  {
   "cell_type": "markdown",
   "source": [
    "We can see that the column `Health_condition_binary` contains `1` where the value is `[1, 2, 3]` in the column `Health_condition`."
   ],
   "metadata": {
    "collapsed": false
   }
  },
  {
   "cell_type": "code",
   "execution_count": 56,
   "outputs": [],
   "source": [
    "# dropping the ID's which are not predictor variables\n",
    "feature_2011_columns = eqls_2011_df_target_nona.drop(columns=['RowID_for_the_UK_Data_service_Public_API',\n",
    "                                                              'Root_URI_for_a_row_respondent_that_displays_all_data_values_for_a_single_row_via_the_UK_Data_Service_Public_API',\n",
    "                                                              'Unique_respondent_ID'])"
   ],
   "metadata": {
    "collapsed": false,
    "pycharm": {
     "name": "#%%\n"
    }
   }
  },
  {
   "cell_type": "code",
   "execution_count": 57,
   "outputs": [],
   "source": [
    "from sklearn.linear_model import LogisticRegression\n",
    "from sklearn.metrics import mean_absolute_error\n",
    "from sklearn.model_selection import train_test_split\n",
    "\n",
    "eqls_2011_target = feature_2011_columns.Health_condition_binary\n",
    "eqls_2011_predictors = feature_2011_columns.drop(['Health_condition_binary','Health_condition'], axis=1)\n",
    "\n",
    "# For the sake of keeping the example simple, we'll use only numeric predictors.\n",
    "eqls_2011_numeric_predictors = eqls_2011_predictors.select_dtypes(exclude=['object'])\n",
    "\n",
    "X_train, X_test, y_train, y_test = train_test_split(eqls_2011_numeric_predictors,\n",
    "                                                    eqls_2011_target,\n",
    "                                                    train_size=0.7,\n",
    "                                                    test_size=0.3,\n",
    "                                                    random_state=0)\n",
    "\n",
    "def logistic_regression_score_dataset(X_train, X_test, y_train, y_test):\n",
    "    model = LogisticRegression()\n",
    "    model.fit(X_train, y_train)\n",
    "    preds = model.predict(X_test)\n",
    "    return mean_absolute_error(y_test, preds)"
   ],
   "metadata": {
    "collapsed": false,
    "pycharm": {
     "name": "#%%\n"
    }
   }
  },
  {
   "cell_type": "markdown",
   "source": [
    "We remove the columns `'Health_condition'` as our new target variable (`Health_condition_binary`) are derived from this\n",
    "Lets compare the results with the different imputation methods illustrated earlier."
   ],
   "metadata": {
    "collapsed": false
   }
  },
  {
   "cell_type": "code",
   "execution_count": 58,
   "outputs": [
    {
     "name": "stdout",
     "output_type": "stream",
     "text": [
      "Mean Absolute Error from dropping columns with Missing Values:\n",
      "0.10899457550145074\n"
     ]
    }
   ],
   "source": [
    "cols_with_missing = [col for col in X_train.columns\n",
    "                                 if X_train[col].isnull().any()]\n",
    "reduced_X_train = X_train.drop(cols_with_missing, axis=1)\n",
    "reduced_X_test  = X_test.drop(cols_with_missing, axis=1)\n",
    "print(\"Mean Absolute Error from dropping columns with Missing Values:\")\n",
    "print(logistic_regression_score_dataset(reduced_X_train, reduced_X_test, y_train, y_test))"
   ],
   "metadata": {
    "collapsed": false,
    "pycharm": {
     "name": "#%%\n"
    }
   }
  },
  {
   "cell_type": "markdown",
   "source": [
    "#### Get Logistic Regression Score from Imputation\n"
   ],
   "metadata": {
    "collapsed": false
   }
  },
  {
   "cell_type": "code",
   "execution_count": 59,
   "outputs": [
    {
     "name": "stdout",
     "output_type": "stream",
     "text": [
      "Mean Absolute Error from Imputation:\n",
      "0.06320171565535511\n"
     ]
    },
    {
     "name": "stderr",
     "output_type": "stream",
     "text": [
      "/Users/clast/Documents/2021_projects/rds-course/.venv/lib/python3.7/site-packages/sklearn/linear_model/_logistic.py:765: ConvergenceWarning: lbfgs failed to converge (status=1):\n",
      "STOP: TOTAL NO. of ITERATIONS REACHED LIMIT.\n",
      "\n",
      "Increase the number of iterations (max_iter) or scale the data as shown in:\n",
      "    https://scikit-learn.org/stable/modules/preprocessing.html\n",
      "Please also refer to the documentation for alternative solver options:\n",
      "    https://scikit-learn.org/stable/modules/linear_model.html#logistic-regression\n",
      "  extra_warning_msg=_LOGISTIC_SOLVER_CONVERGENCE_MSG)\n"
     ]
    }
   ],
   "source": [
    "\n",
    "from sklearn.base import TransformerMixin\n",
    "\n",
    "class DataFrameImputer(TransformerMixin):\n",
    "\n",
    "    def __init__(self):\n",
    "        \"\"\"Impute missing values.\n",
    "\n",
    "        Columns of dtype object are imputed with the most frequent value\n",
    "        in column.\n",
    "\n",
    "        Columns of other types are imputed with mean of column.\n",
    "\n",
    "        \"\"\"\n",
    "    def fit(self, X, y=None):\n",
    "\n",
    "        self.fill = pd.Series([X[c].value_counts().index[0]\n",
    "            if X[c].dtype == np.dtype('O') else X[c].mean() for c in X],\n",
    "            index=X.columns)\n",
    "\n",
    "        return self\n",
    "\n",
    "    def transform(self, X, y=None):\n",
    "        return X.fillna(self.fill)\n",
    "\n",
    "\n",
    "imputed_X_train = DataFrameImputer().fit_transform(X_train)\n",
    "imputed_X_test = DataFrameImputer().fit_transform(X_test)\n",
    "print(\"Mean Absolute Error from Imputation:\")\n",
    "print(logistic_regression_score_dataset(imputed_X_train, imputed_X_test, y_train, y_test))\n"
   ],
   "metadata": {
    "collapsed": false,
    "pycharm": {
     "name": "#%%\n"
    }
   }
  },
  {
   "cell_type": "markdown",
   "source": [
    "We can see that the imputation significantly improves the result of the logistic regression.\n",
    "We can diagnose our results using a Confusion Matrix.\n",
    "\n",
    "A confusion matrix is a table that is used to evaluate the performance of a classification model. You can also visualize the performance of an algorithm.\n",
    "The fundamental of a confusion matrix is the number of correct and incorrect predictions are summed up class-wise."
   ],
   "metadata": {
    "collapsed": false
   }
  },
  {
   "cell_type": "code",
   "execution_count": 60,
   "outputs": [
    {
     "name": "stderr",
     "output_type": "stream",
     "text": [
      "/Users/clast/Documents/2021_projects/rds-course/.venv/lib/python3.7/site-packages/sklearn/linear_model/_logistic.py:765: ConvergenceWarning: lbfgs failed to converge (status=1):\n",
      "STOP: TOTAL NO. of ITERATIONS REACHED LIMIT.\n",
      "\n",
      "Increase the number of iterations (max_iter) or scale the data as shown in:\n",
      "    https://scikit-learn.org/stable/modules/preprocessing.html\n",
      "Please also refer to the documentation for alternative solver options:\n",
      "    https://scikit-learn.org/stable/modules/linear_model.html#logistic-regression\n",
      "  extra_warning_msg=_LOGISTIC_SOLVER_CONVERGENCE_MSG)\n"
     ]
    },
    {
     "data": {
      "text/plain": "array([[ 1615,   977],\n       [  526, 20663]])"
     },
     "execution_count": 60,
     "metadata": {},
     "output_type": "execute_result"
    }
   ],
   "source": [
    "# import the metrics class\n",
    "from sklearn import metrics\n",
    "\n",
    "def get_prediction(X_train, X_test, y_train):\n",
    "    model = LogisticRegression()\n",
    "    model.fit(X_train, y_train)\n",
    "    preds = model.predict(X_test)\n",
    "    return preds\n",
    "\n",
    "y_pred = get_prediction(imputed_X_train, imputed_X_test, y_train)\n",
    "\n",
    "cnf_matrix = metrics.confusion_matrix(y_test, y_pred)\n",
    "cnf_matrix"
   ],
   "metadata": {
    "collapsed": false,
    "pycharm": {
     "name": "#%%\n"
    }
   }
  },
  {
   "cell_type": "markdown",
   "source": [
    "Here, you can see the confusion matrix in the form of the array object.\n",
    "The dimension of this matrix is 2*2 because this model is binary classification.\n",
    "You have two classes 0 representing \"poor health\" and 1, representing \"good health\".\n",
    "Diagonal values represent accurate predictions, while non-diagonal elements are inaccurate predictions.\n",
    "\n",
    "In the output, `44` and `571` are actual predictions (`44` is the number of true \"poor health\" predictions, and `571` is the number of ture \"good health\" predictions).\n",
    "`34` and `27` are incorrect predictions (`34` is the number of \"poor health\" predictions predicted incorrectly as \"good health\",\n",
    "and `310` is the number of false \"good health\" predictions).\n"
   ],
   "metadata": {
    "collapsed": false
   }
  },
  {
   "cell_type": "markdown",
   "source": [
    "<div class=\"alert alert-block alert-warning\"> This model overly predicts \"good health\" outcomes, and may benefit from oversampling\n",
    "surveyed respondents which self-report \"poor health\". </code> </div>"
   ],
   "metadata": {
    "collapsed": false
   }
  },
  {
   "cell_type": "code",
   "execution_count": 61,
   "outputs": [
    {
     "name": "stdout",
     "output_type": "stream",
     "text": [
      "Accuracy: 0.9367982843446448\n",
      "Precision: 0.9548521256931608\n",
      "Recall: 0.9751757987635093\n"
     ]
    },
    {
     "data": {
      "text/plain": "<Figure size 432x288 with 2 Axes>",
      "image/png": "[encoded data removed]"
     },
     "metadata": {
      "needs_background": "light"
     },
     "output_type": "display_data"
    }
   ],
   "source": [
    "class_names=[0,1] # name  of classes\n",
    "fig, ax = plt.subplots()\n",
    "tick_marks = np.arange(len(class_names))\n",
    "plt.xticks(tick_marks, class_names)\n",
    "plt.yticks(tick_marks, class_names)\n",
    "# create heatmap\n",
    "sns.heatmap(pd.DataFrame(cnf_matrix), annot=True, cmap=\"YlGnBu\" ,fmt='g')\n",
    "ax.xaxis.set_label_position(\"top\")\n",
    "plt.tight_layout()\n",
    "plt.title('Confusion matrix', y=1.1)\n",
    "plt.ylabel('Actual label')\n",
    "plt.xlabel('Predicted label')\n",
    "\n",
    "print(\"Accuracy:\",metrics.accuracy_score(y_test, y_pred))\n",
    "print(\"Precision:\",metrics.precision_score(y_test, y_pred))\n",
    "print(\"Recall:\",metrics.recall_score(y_test, y_pred))"
   ],
   "metadata": {
    "collapsed": false,
    "pycharm": {
     "name": "#%%\n"
    }
   }
  },
  {
   "cell_type": "code",
   "execution_count": 65,
   "outputs": [],
   "source": [
    "feature_2011_columns.to_csv(str(root_data_path)+f\"/derived_data/eqls_2011_modelled.csv\", index=False)\n",
    "for name, df in {\"imputed_X_train\": imputed_X_train,\n",
    "                 \"imputed_X_test\": imputed_X_test,\n",
    "                 \"y_train\": y_train,\n",
    "                 \"y_test\": y_test}.items():\n",
    "    df.to_csv(str(root_data_path)+f\"/derived_data/eqls_2011_{name}.csv\", index=False)"
   ],
   "metadata": {
    "collapsed": false,
    "pycharm": {
     "name": "#%%\n"
    }
   }
  },
  {
   "cell_type": "code",
   "execution_count": 63,
   "outputs": [],
   "source": [
    "# save numpy array as csv file\n",
    "from numpy import savetxt\n",
    "savetxt(str(root_data_path)+f\"/derived_data/y_pred.csv\", y_pred, delimiter=\",\")"
   ],
   "metadata": {
    "collapsed": false,
    "pycharm": {
     "name": "#%%\n"
    }
   }
  },
  {
   "cell_type": "code",
   "execution_count": null,
   "outputs": [],
   "source": [],
   "metadata": {
    "collapsed": false,
    "pycharm": {
     "name": "#%%\n"
    }
   }
  }
 ],
 "metadata": {
  "kernelspec": {
   "display_name": "Python 3",
   "language": "python",
   "name": "python3"
  },
  "language_info": {
   "codemirror_mode": {
    "name": "ipython",
    "version": 2
   },
   "file_extension": ".py",
   "mimetype": "text/x-python",
   "name": "python",
   "nbconvert_exporter": "python",
   "pygments_lexer": "ipython2",
   "version": "2.7.6"
  }
 },
 "nbformat": 4,
 "nbformat_minor": 0
}